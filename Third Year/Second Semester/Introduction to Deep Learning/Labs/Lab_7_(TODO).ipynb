{
  "nbformat": 4,
  "nbformat_minor": 0,
  "metadata": {
    "colab": {
      "provenance": []
    },
    "kernelspec": {
      "name": "python3",
      "display_name": "Python 3"
    },
    "language_info": {
      "name": "python"
    },
    "widgets": {
      "application/vnd.jupyter.widget-state+json": {
        "13da5186011f489b83c3f00105da3912": {
          "model_module": "@jupyter-widgets/controls",
          "model_name": "HBoxModel",
          "model_module_version": "1.5.0",
          "state": {
            "_dom_classes": [],
            "_model_module": "@jupyter-widgets/controls",
            "_model_module_version": "1.5.0",
            "_model_name": "HBoxModel",
            "_view_count": null,
            "_view_module": "@jupyter-widgets/controls",
            "_view_module_version": "1.5.0",
            "_view_name": "HBoxView",
            "box_style": "",
            "children": [
              "IPY_MODEL_1cf60348a1204eb5a2a913d7c95ebbb8",
              "IPY_MODEL_fb8c8cfa7f4c48e898c20009adc8d490",
              "IPY_MODEL_41c9bd3e86334a408df8e855eeb44d04"
            ],
            "layout": "IPY_MODEL_40c851a33a244aa0a08181bb63ab3929"
          }
        },
        "1cf60348a1204eb5a2a913d7c95ebbb8": {
          "model_module": "@jupyter-widgets/controls",
          "model_name": "HTMLModel",
          "model_module_version": "1.5.0",
          "state": {
            "_dom_classes": [],
            "_model_module": "@jupyter-widgets/controls",
            "_model_module_version": "1.5.0",
            "_model_name": "HTMLModel",
            "_view_count": null,
            "_view_module": "@jupyter-widgets/controls",
            "_view_module_version": "1.5.0",
            "_view_name": "HTMLView",
            "description": "",
            "description_tooltip": null,
            "layout": "IPY_MODEL_b206d546b2e34e1d895574586918e433",
            "placeholder": "​",
            "style": "IPY_MODEL_db79c9a0e5754861beca60dd34faa1b7",
            "value": "README.md: 100%"
          }
        },
        "fb8c8cfa7f4c48e898c20009adc8d490": {
          "model_module": "@jupyter-widgets/controls",
          "model_name": "FloatProgressModel",
          "model_module_version": "1.5.0",
          "state": {
            "_dom_classes": [],
            "_model_module": "@jupyter-widgets/controls",
            "_model_module_version": "1.5.0",
            "_model_name": "FloatProgressModel",
            "_view_count": null,
            "_view_module": "@jupyter-widgets/controls",
            "_view_module_version": "1.5.0",
            "_view_name": "ProgressView",
            "bar_style": "success",
            "description": "",
            "description_tooltip": null,
            "layout": "IPY_MODEL_743b4b42b2de4f16b8f6556b628a36c1",
            "max": 1061,
            "min": 0,
            "orientation": "horizontal",
            "style": "IPY_MODEL_f6b66c4b80424cedadeeb1d163aad770",
            "value": 1061
          }
        },
        "41c9bd3e86334a408df8e855eeb44d04": {
          "model_module": "@jupyter-widgets/controls",
          "model_name": "HTMLModel",
          "model_module_version": "1.5.0",
          "state": {
            "_dom_classes": [],
            "_model_module": "@jupyter-widgets/controls",
            "_model_module_version": "1.5.0",
            "_model_name": "HTMLModel",
            "_view_count": null,
            "_view_module": "@jupyter-widgets/controls",
            "_view_module_version": "1.5.0",
            "_view_name": "HTMLView",
            "description": "",
            "description_tooltip": null,
            "layout": "IPY_MODEL_59fd9420a0ac4590969f6aff91baaa1d",
            "placeholder": "​",
            "style": "IPY_MODEL_577e313c51184e0888c6420afa78d1db",
            "value": " 1.06k/1.06k [00:00&lt;00:00, 29.4kB/s]"
          }
        },
        "40c851a33a244aa0a08181bb63ab3929": {
          "model_module": "@jupyter-widgets/base",
          "model_name": "LayoutModel",
          "model_module_version": "1.2.0",
          "state": {
            "_model_module": "@jupyter-widgets/base",
            "_model_module_version": "1.2.0",
            "_model_name": "LayoutModel",
            "_view_count": null,
            "_view_module": "@jupyter-widgets/base",
            "_view_module_version": "1.2.0",
            "_view_name": "LayoutView",
            "align_content": null,
            "align_items": null,
            "align_self": null,
            "border": null,
            "bottom": null,
            "display": null,
            "flex": null,
            "flex_flow": null,
            "grid_area": null,
            "grid_auto_columns": null,
            "grid_auto_flow": null,
            "grid_auto_rows": null,
            "grid_column": null,
            "grid_gap": null,
            "grid_row": null,
            "grid_template_areas": null,
            "grid_template_columns": null,
            "grid_template_rows": null,
            "height": null,
            "justify_content": null,
            "justify_items": null,
            "left": null,
            "margin": null,
            "max_height": null,
            "max_width": null,
            "min_height": null,
            "min_width": null,
            "object_fit": null,
            "object_position": null,
            "order": null,
            "overflow": null,
            "overflow_x": null,
            "overflow_y": null,
            "padding": null,
            "right": null,
            "top": null,
            "visibility": null,
            "width": null
          }
        },
        "b206d546b2e34e1d895574586918e433": {
          "model_module": "@jupyter-widgets/base",
          "model_name": "LayoutModel",
          "model_module_version": "1.2.0",
          "state": {
            "_model_module": "@jupyter-widgets/base",
            "_model_module_version": "1.2.0",
            "_model_name": "LayoutModel",
            "_view_count": null,
            "_view_module": "@jupyter-widgets/base",
            "_view_module_version": "1.2.0",
            "_view_name": "LayoutView",
            "align_content": null,
            "align_items": null,
            "align_self": null,
            "border": null,
            "bottom": null,
            "display": null,
            "flex": null,
            "flex_flow": null,
            "grid_area": null,
            "grid_auto_columns": null,
            "grid_auto_flow": null,
            "grid_auto_rows": null,
            "grid_column": null,
            "grid_gap": null,
            "grid_row": null,
            "grid_template_areas": null,
            "grid_template_columns": null,
            "grid_template_rows": null,
            "height": null,
            "justify_content": null,
            "justify_items": null,
            "left": null,
            "margin": null,
            "max_height": null,
            "max_width": null,
            "min_height": null,
            "min_width": null,
            "object_fit": null,
            "object_position": null,
            "order": null,
            "overflow": null,
            "overflow_x": null,
            "overflow_y": null,
            "padding": null,
            "right": null,
            "top": null,
            "visibility": null,
            "width": null
          }
        },
        "db79c9a0e5754861beca60dd34faa1b7": {
          "model_module": "@jupyter-widgets/controls",
          "model_name": "DescriptionStyleModel",
          "model_module_version": "1.5.0",
          "state": {
            "_model_module": "@jupyter-widgets/controls",
            "_model_module_version": "1.5.0",
            "_model_name": "DescriptionStyleModel",
            "_view_count": null,
            "_view_module": "@jupyter-widgets/base",
            "_view_module_version": "1.2.0",
            "_view_name": "StyleView",
            "description_width": ""
          }
        },
        "743b4b42b2de4f16b8f6556b628a36c1": {
          "model_module": "@jupyter-widgets/base",
          "model_name": "LayoutModel",
          "model_module_version": "1.2.0",
          "state": {
            "_model_module": "@jupyter-widgets/base",
            "_model_module_version": "1.2.0",
            "_model_name": "LayoutModel",
            "_view_count": null,
            "_view_module": "@jupyter-widgets/base",
            "_view_module_version": "1.2.0",
            "_view_name": "LayoutView",
            "align_content": null,
            "align_items": null,
            "align_self": null,
            "border": null,
            "bottom": null,
            "display": null,
            "flex": null,
            "flex_flow": null,
            "grid_area": null,
            "grid_auto_columns": null,
            "grid_auto_flow": null,
            "grid_auto_rows": null,
            "grid_column": null,
            "grid_gap": null,
            "grid_row": null,
            "grid_template_areas": null,
            "grid_template_columns": null,
            "grid_template_rows": null,
            "height": null,
            "justify_content": null,
            "justify_items": null,
            "left": null,
            "margin": null,
            "max_height": null,
            "max_width": null,
            "min_height": null,
            "min_width": null,
            "object_fit": null,
            "object_position": null,
            "order": null,
            "overflow": null,
            "overflow_x": null,
            "overflow_y": null,
            "padding": null,
            "right": null,
            "top": null,
            "visibility": null,
            "width": null
          }
        },
        "f6b66c4b80424cedadeeb1d163aad770": {
          "model_module": "@jupyter-widgets/controls",
          "model_name": "ProgressStyleModel",
          "model_module_version": "1.5.0",
          "state": {
            "_model_module": "@jupyter-widgets/controls",
            "_model_module_version": "1.5.0",
            "_model_name": "ProgressStyleModel",
            "_view_count": null,
            "_view_module": "@jupyter-widgets/base",
            "_view_module_version": "1.2.0",
            "_view_name": "StyleView",
            "bar_color": null,
            "description_width": ""
          }
        },
        "59fd9420a0ac4590969f6aff91baaa1d": {
          "model_module": "@jupyter-widgets/base",
          "model_name": "LayoutModel",
          "model_module_version": "1.2.0",
          "state": {
            "_model_module": "@jupyter-widgets/base",
            "_model_module_version": "1.2.0",
            "_model_name": "LayoutModel",
            "_view_count": null,
            "_view_module": "@jupyter-widgets/base",
            "_view_module_version": "1.2.0",
            "_view_name": "LayoutView",
            "align_content": null,
            "align_items": null,
            "align_self": null,
            "border": null,
            "bottom": null,
            "display": null,
            "flex": null,
            "flex_flow": null,
            "grid_area": null,
            "grid_auto_columns": null,
            "grid_auto_flow": null,
            "grid_auto_rows": null,
            "grid_column": null,
            "grid_gap": null,
            "grid_row": null,
            "grid_template_areas": null,
            "grid_template_columns": null,
            "grid_template_rows": null,
            "height": null,
            "justify_content": null,
            "justify_items": null,
            "left": null,
            "margin": null,
            "max_height": null,
            "max_width": null,
            "min_height": null,
            "min_width": null,
            "object_fit": null,
            "object_position": null,
            "order": null,
            "overflow": null,
            "overflow_x": null,
            "overflow_y": null,
            "padding": null,
            "right": null,
            "top": null,
            "visibility": null,
            "width": null
          }
        },
        "577e313c51184e0888c6420afa78d1db": {
          "model_module": "@jupyter-widgets/controls",
          "model_name": "DescriptionStyleModel",
          "model_module_version": "1.5.0",
          "state": {
            "_model_module": "@jupyter-widgets/controls",
            "_model_module_version": "1.5.0",
            "_model_name": "DescriptionStyleModel",
            "_view_count": null,
            "_view_module": "@jupyter-widgets/base",
            "_view_module_version": "1.2.0",
            "_view_name": "StyleView",
            "description_width": ""
          }
        },
        "36b1d0f75b4d499c92668ca78830fd82": {
          "model_module": "@jupyter-widgets/controls",
          "model_name": "HBoxModel",
          "model_module_version": "1.5.0",
          "state": {
            "_dom_classes": [],
            "_model_module": "@jupyter-widgets/controls",
            "_model_module_version": "1.5.0",
            "_model_name": "HBoxModel",
            "_view_count": null,
            "_view_module": "@jupyter-widgets/controls",
            "_view_module_version": "1.5.0",
            "_view_name": "HBoxView",
            "box_style": "",
            "children": [
              "IPY_MODEL_b5445e869cda4bb4861656f07890e154",
              "IPY_MODEL_4a1ab3d6026f4c74b73fea19b55b4a6d",
              "IPY_MODEL_b3c8186522114f65b9eab6038b2f6f66"
            ],
            "layout": "IPY_MODEL_9d56da23fdbe47299e2834fe5d8ca64f"
          }
        },
        "b5445e869cda4bb4861656f07890e154": {
          "model_module": "@jupyter-widgets/controls",
          "model_name": "HTMLModel",
          "model_module_version": "1.5.0",
          "state": {
            "_dom_classes": [],
            "_model_module": "@jupyter-widgets/controls",
            "_model_module_version": "1.5.0",
            "_model_name": "HTMLModel",
            "_view_count": null,
            "_view_module": "@jupyter-widgets/controls",
            "_view_module_version": "1.5.0",
            "_view_name": "HTMLView",
            "description": "",
            "description_tooltip": null,
            "layout": "IPY_MODEL_4b91fa1c5a1b46eeb7cb6c65fc6fca42",
            "placeholder": "​",
            "style": "IPY_MODEL_7b753bac795147d99b2c7d4e7bc8d287",
            "value": "(…)-00000-of-00004-2d5a1467fff1081b.parquet: 100%"
          }
        },
        "4a1ab3d6026f4c74b73fea19b55b4a6d": {
          "model_module": "@jupyter-widgets/controls",
          "model_name": "FloatProgressModel",
          "model_module_version": "1.5.0",
          "state": {
            "_dom_classes": [],
            "_model_module": "@jupyter-widgets/controls",
            "_model_module_version": "1.5.0",
            "_model_name": "FloatProgressModel",
            "_view_count": null,
            "_view_module": "@jupyter-widgets/controls",
            "_view_module_version": "1.5.0",
            "_view_name": "ProgressView",
            "bar_style": "success",
            "description": "",
            "description_tooltip": null,
            "layout": "IPY_MODEL_90f455428a174aa6be2a546e5a63ed10",
            "max": 248731111,
            "min": 0,
            "orientation": "horizontal",
            "style": "IPY_MODEL_4223648a5f8c4727a52e0e660070b206",
            "value": 248731111
          }
        },
        "b3c8186522114f65b9eab6038b2f6f66": {
          "model_module": "@jupyter-widgets/controls",
          "model_name": "HTMLModel",
          "model_module_version": "1.5.0",
          "state": {
            "_dom_classes": [],
            "_model_module": "@jupyter-widgets/controls",
            "_model_module_version": "1.5.0",
            "_model_name": "HTMLModel",
            "_view_count": null,
            "_view_module": "@jupyter-widgets/controls",
            "_view_module_version": "1.5.0",
            "_view_name": "HTMLView",
            "description": "",
            "description_tooltip": null,
            "layout": "IPY_MODEL_e5968fd4751f456ea52f4cd2da99323c",
            "placeholder": "​",
            "style": "IPY_MODEL_337e1b1b5e104fe884188639eddcb06b",
            "value": " 249M/249M [00:04&lt;00:00, 61.1MB/s]"
          }
        },
        "9d56da23fdbe47299e2834fe5d8ca64f": {
          "model_module": "@jupyter-widgets/base",
          "model_name": "LayoutModel",
          "model_module_version": "1.2.0",
          "state": {
            "_model_module": "@jupyter-widgets/base",
            "_model_module_version": "1.2.0",
            "_model_name": "LayoutModel",
            "_view_count": null,
            "_view_module": "@jupyter-widgets/base",
            "_view_module_version": "1.2.0",
            "_view_name": "LayoutView",
            "align_content": null,
            "align_items": null,
            "align_self": null,
            "border": null,
            "bottom": null,
            "display": null,
            "flex": null,
            "flex_flow": null,
            "grid_area": null,
            "grid_auto_columns": null,
            "grid_auto_flow": null,
            "grid_auto_rows": null,
            "grid_column": null,
            "grid_gap": null,
            "grid_row": null,
            "grid_template_areas": null,
            "grid_template_columns": null,
            "grid_template_rows": null,
            "height": null,
            "justify_content": null,
            "justify_items": null,
            "left": null,
            "margin": null,
            "max_height": null,
            "max_width": null,
            "min_height": null,
            "min_width": null,
            "object_fit": null,
            "object_position": null,
            "order": null,
            "overflow": null,
            "overflow_x": null,
            "overflow_y": null,
            "padding": null,
            "right": null,
            "top": null,
            "visibility": null,
            "width": null
          }
        },
        "4b91fa1c5a1b46eeb7cb6c65fc6fca42": {
          "model_module": "@jupyter-widgets/base",
          "model_name": "LayoutModel",
          "model_module_version": "1.2.0",
          "state": {
            "_model_module": "@jupyter-widgets/base",
            "_model_module_version": "1.2.0",
            "_model_name": "LayoutModel",
            "_view_count": null,
            "_view_module": "@jupyter-widgets/base",
            "_view_module_version": "1.2.0",
            "_view_name": "LayoutView",
            "align_content": null,
            "align_items": null,
            "align_self": null,
            "border": null,
            "bottom": null,
            "display": null,
            "flex": null,
            "flex_flow": null,
            "grid_area": null,
            "grid_auto_columns": null,
            "grid_auto_flow": null,
            "grid_auto_rows": null,
            "grid_column": null,
            "grid_gap": null,
            "grid_row": null,
            "grid_template_areas": null,
            "grid_template_columns": null,
            "grid_template_rows": null,
            "height": null,
            "justify_content": null,
            "justify_items": null,
            "left": null,
            "margin": null,
            "max_height": null,
            "max_width": null,
            "min_height": null,
            "min_width": null,
            "object_fit": null,
            "object_position": null,
            "order": null,
            "overflow": null,
            "overflow_x": null,
            "overflow_y": null,
            "padding": null,
            "right": null,
            "top": null,
            "visibility": null,
            "width": null
          }
        },
        "7b753bac795147d99b2c7d4e7bc8d287": {
          "model_module": "@jupyter-widgets/controls",
          "model_name": "DescriptionStyleModel",
          "model_module_version": "1.5.0",
          "state": {
            "_model_module": "@jupyter-widgets/controls",
            "_model_module_version": "1.5.0",
            "_model_name": "DescriptionStyleModel",
            "_view_count": null,
            "_view_module": "@jupyter-widgets/base",
            "_view_module_version": "1.2.0",
            "_view_name": "StyleView",
            "description_width": ""
          }
        },
        "90f455428a174aa6be2a546e5a63ed10": {
          "model_module": "@jupyter-widgets/base",
          "model_name": "LayoutModel",
          "model_module_version": "1.2.0",
          "state": {
            "_model_module": "@jupyter-widgets/base",
            "_model_module_version": "1.2.0",
            "_model_name": "LayoutModel",
            "_view_count": null,
            "_view_module": "@jupyter-widgets/base",
            "_view_module_version": "1.2.0",
            "_view_name": "LayoutView",
            "align_content": null,
            "align_items": null,
            "align_self": null,
            "border": null,
            "bottom": null,
            "display": null,
            "flex": null,
            "flex_flow": null,
            "grid_area": null,
            "grid_auto_columns": null,
            "grid_auto_flow": null,
            "grid_auto_rows": null,
            "grid_column": null,
            "grid_gap": null,
            "grid_row": null,
            "grid_template_areas": null,
            "grid_template_columns": null,
            "grid_template_rows": null,
            "height": null,
            "justify_content": null,
            "justify_items": null,
            "left": null,
            "margin": null,
            "max_height": null,
            "max_width": null,
            "min_height": null,
            "min_width": null,
            "object_fit": null,
            "object_position": null,
            "order": null,
            "overflow": null,
            "overflow_x": null,
            "overflow_y": null,
            "padding": null,
            "right": null,
            "top": null,
            "visibility": null,
            "width": null
          }
        },
        "4223648a5f8c4727a52e0e660070b206": {
          "model_module": "@jupyter-widgets/controls",
          "model_name": "ProgressStyleModel",
          "model_module_version": "1.5.0",
          "state": {
            "_model_module": "@jupyter-widgets/controls",
            "_model_module_version": "1.5.0",
            "_model_name": "ProgressStyleModel",
            "_view_count": null,
            "_view_module": "@jupyter-widgets/base",
            "_view_module_version": "1.2.0",
            "_view_name": "StyleView",
            "bar_color": null,
            "description_width": ""
          }
        },
        "e5968fd4751f456ea52f4cd2da99323c": {
          "model_module": "@jupyter-widgets/base",
          "model_name": "LayoutModel",
          "model_module_version": "1.2.0",
          "state": {
            "_model_module": "@jupyter-widgets/base",
            "_model_module_version": "1.2.0",
            "_model_name": "LayoutModel",
            "_view_count": null,
            "_view_module": "@jupyter-widgets/base",
            "_view_module_version": "1.2.0",
            "_view_name": "LayoutView",
            "align_content": null,
            "align_items": null,
            "align_self": null,
            "border": null,
            "bottom": null,
            "display": null,
            "flex": null,
            "flex_flow": null,
            "grid_area": null,
            "grid_auto_columns": null,
            "grid_auto_flow": null,
            "grid_auto_rows": null,
            "grid_column": null,
            "grid_gap": null,
            "grid_row": null,
            "grid_template_areas": null,
            "grid_template_columns": null,
            "grid_template_rows": null,
            "height": null,
            "justify_content": null,
            "justify_items": null,
            "left": null,
            "margin": null,
            "max_height": null,
            "max_width": null,
            "min_height": null,
            "min_width": null,
            "object_fit": null,
            "object_position": null,
            "order": null,
            "overflow": null,
            "overflow_x": null,
            "overflow_y": null,
            "padding": null,
            "right": null,
            "top": null,
            "visibility": null,
            "width": null
          }
        },
        "337e1b1b5e104fe884188639eddcb06b": {
          "model_module": "@jupyter-widgets/controls",
          "model_name": "DescriptionStyleModel",
          "model_module_version": "1.5.0",
          "state": {
            "_model_module": "@jupyter-widgets/controls",
            "_model_module_version": "1.5.0",
            "_model_name": "DescriptionStyleModel",
            "_view_count": null,
            "_view_module": "@jupyter-widgets/base",
            "_view_module_version": "1.2.0",
            "_view_name": "StyleView",
            "description_width": ""
          }
        },
        "6bb3b3ada5ba4b21b062a328d27ed8e7": {
          "model_module": "@jupyter-widgets/controls",
          "model_name": "HBoxModel",
          "model_module_version": "1.5.0",
          "state": {
            "_dom_classes": [],
            "_model_module": "@jupyter-widgets/controls",
            "_model_module_version": "1.5.0",
            "_model_name": "HBoxModel",
            "_view_count": null,
            "_view_module": "@jupyter-widgets/controls",
            "_view_module_version": "1.5.0",
            "_view_name": "HBoxView",
            "box_style": "",
            "children": [
              "IPY_MODEL_d918bc6da9ad497d9eef04504f6ce9d1",
              "IPY_MODEL_0c22df30cd0642fe8769a6a793aabb90",
              "IPY_MODEL_03396624df134779ac05e9f0a9060432"
            ],
            "layout": "IPY_MODEL_444e94edb20345fbb1c7be38d115b5a3"
          }
        },
        "d918bc6da9ad497d9eef04504f6ce9d1": {
          "model_module": "@jupyter-widgets/controls",
          "model_name": "HTMLModel",
          "model_module_version": "1.5.0",
          "state": {
            "_dom_classes": [],
            "_model_module": "@jupyter-widgets/controls",
            "_model_module_version": "1.5.0",
            "_model_name": "HTMLModel",
            "_view_count": null,
            "_view_module": "@jupyter-widgets/controls",
            "_view_module_version": "1.5.0",
            "_view_name": "HTMLView",
            "description": "",
            "description_tooltip": null,
            "layout": "IPY_MODEL_3866ecc9f16244c7a22ca4da8a0a999b",
            "placeholder": "​",
            "style": "IPY_MODEL_5017a1c3b8a04bc9a0a9c93ff9e7b8c3",
            "value": "(…)-00001-of-00004-5852b56a2bd28fd9.parquet: 100%"
          }
        },
        "0c22df30cd0642fe8769a6a793aabb90": {
          "model_module": "@jupyter-widgets/controls",
          "model_name": "FloatProgressModel",
          "model_module_version": "1.5.0",
          "state": {
            "_dom_classes": [],
            "_model_module": "@jupyter-widgets/controls",
            "_model_module_version": "1.5.0",
            "_model_name": "FloatProgressModel",
            "_view_count": null,
            "_view_module": "@jupyter-widgets/controls",
            "_view_module_version": "1.5.0",
            "_view_name": "ProgressView",
            "bar_style": "success",
            "description": "",
            "description_tooltip": null,
            "layout": "IPY_MODEL_7fee736ca4fc4f3da8c82e624e0e2b0f",
            "max": 248171980,
            "min": 0,
            "orientation": "horizontal",
            "style": "IPY_MODEL_40c56960132641328906291bb38a354a",
            "value": 248171980
          }
        },
        "03396624df134779ac05e9f0a9060432": {
          "model_module": "@jupyter-widgets/controls",
          "model_name": "HTMLModel",
          "model_module_version": "1.5.0",
          "state": {
            "_dom_classes": [],
            "_model_module": "@jupyter-widgets/controls",
            "_model_module_version": "1.5.0",
            "_model_name": "HTMLModel",
            "_view_count": null,
            "_view_module": "@jupyter-widgets/controls",
            "_view_module_version": "1.5.0",
            "_view_name": "HTMLView",
            "description": "",
            "description_tooltip": null,
            "layout": "IPY_MODEL_ef6a9844975146d19475b699ac86d787",
            "placeholder": "​",
            "style": "IPY_MODEL_ab2acd58c7764265b211fe9087218af6",
            "value": " 248M/248M [00:05&lt;00:00, 55.9MB/s]"
          }
        },
        "444e94edb20345fbb1c7be38d115b5a3": {
          "model_module": "@jupyter-widgets/base",
          "model_name": "LayoutModel",
          "model_module_version": "1.2.0",
          "state": {
            "_model_module": "@jupyter-widgets/base",
            "_model_module_version": "1.2.0",
            "_model_name": "LayoutModel",
            "_view_count": null,
            "_view_module": "@jupyter-widgets/base",
            "_view_module_version": "1.2.0",
            "_view_name": "LayoutView",
            "align_content": null,
            "align_items": null,
            "align_self": null,
            "border": null,
            "bottom": null,
            "display": null,
            "flex": null,
            "flex_flow": null,
            "grid_area": null,
            "grid_auto_columns": null,
            "grid_auto_flow": null,
            "grid_auto_rows": null,
            "grid_column": null,
            "grid_gap": null,
            "grid_row": null,
            "grid_template_areas": null,
            "grid_template_columns": null,
            "grid_template_rows": null,
            "height": null,
            "justify_content": null,
            "justify_items": null,
            "left": null,
            "margin": null,
            "max_height": null,
            "max_width": null,
            "min_height": null,
            "min_width": null,
            "object_fit": null,
            "object_position": null,
            "order": null,
            "overflow": null,
            "overflow_x": null,
            "overflow_y": null,
            "padding": null,
            "right": null,
            "top": null,
            "visibility": null,
            "width": null
          }
        },
        "3866ecc9f16244c7a22ca4da8a0a999b": {
          "model_module": "@jupyter-widgets/base",
          "model_name": "LayoutModel",
          "model_module_version": "1.2.0",
          "state": {
            "_model_module": "@jupyter-widgets/base",
            "_model_module_version": "1.2.0",
            "_model_name": "LayoutModel",
            "_view_count": null,
            "_view_module": "@jupyter-widgets/base",
            "_view_module_version": "1.2.0",
            "_view_name": "LayoutView",
            "align_content": null,
            "align_items": null,
            "align_self": null,
            "border": null,
            "bottom": null,
            "display": null,
            "flex": null,
            "flex_flow": null,
            "grid_area": null,
            "grid_auto_columns": null,
            "grid_auto_flow": null,
            "grid_auto_rows": null,
            "grid_column": null,
            "grid_gap": null,
            "grid_row": null,
            "grid_template_areas": null,
            "grid_template_columns": null,
            "grid_template_rows": null,
            "height": null,
            "justify_content": null,
            "justify_items": null,
            "left": null,
            "margin": null,
            "max_height": null,
            "max_width": null,
            "min_height": null,
            "min_width": null,
            "object_fit": null,
            "object_position": null,
            "order": null,
            "overflow": null,
            "overflow_x": null,
            "overflow_y": null,
            "padding": null,
            "right": null,
            "top": null,
            "visibility": null,
            "width": null
          }
        },
        "5017a1c3b8a04bc9a0a9c93ff9e7b8c3": {
          "model_module": "@jupyter-widgets/controls",
          "model_name": "DescriptionStyleModel",
          "model_module_version": "1.5.0",
          "state": {
            "_model_module": "@jupyter-widgets/controls",
            "_model_module_version": "1.5.0",
            "_model_name": "DescriptionStyleModel",
            "_view_count": null,
            "_view_module": "@jupyter-widgets/base",
            "_view_module_version": "1.2.0",
            "_view_name": "StyleView",
            "description_width": ""
          }
        },
        "7fee736ca4fc4f3da8c82e624e0e2b0f": {
          "model_module": "@jupyter-widgets/base",
          "model_name": "LayoutModel",
          "model_module_version": "1.2.0",
          "state": {
            "_model_module": "@jupyter-widgets/base",
            "_model_module_version": "1.2.0",
            "_model_name": "LayoutModel",
            "_view_count": null,
            "_view_module": "@jupyter-widgets/base",
            "_view_module_version": "1.2.0",
            "_view_name": "LayoutView",
            "align_content": null,
            "align_items": null,
            "align_self": null,
            "border": null,
            "bottom": null,
            "display": null,
            "flex": null,
            "flex_flow": null,
            "grid_area": null,
            "grid_auto_columns": null,
            "grid_auto_flow": null,
            "grid_auto_rows": null,
            "grid_column": null,
            "grid_gap": null,
            "grid_row": null,
            "grid_template_areas": null,
            "grid_template_columns": null,
            "grid_template_rows": null,
            "height": null,
            "justify_content": null,
            "justify_items": null,
            "left": null,
            "margin": null,
            "max_height": null,
            "max_width": null,
            "min_height": null,
            "min_width": null,
            "object_fit": null,
            "object_position": null,
            "order": null,
            "overflow": null,
            "overflow_x": null,
            "overflow_y": null,
            "padding": null,
            "right": null,
            "top": null,
            "visibility": null,
            "width": null
          }
        },
        "40c56960132641328906291bb38a354a": {
          "model_module": "@jupyter-widgets/controls",
          "model_name": "ProgressStyleModel",
          "model_module_version": "1.5.0",
          "state": {
            "_model_module": "@jupyter-widgets/controls",
            "_model_module_version": "1.5.0",
            "_model_name": "ProgressStyleModel",
            "_view_count": null,
            "_view_module": "@jupyter-widgets/base",
            "_view_module_version": "1.2.0",
            "_view_name": "StyleView",
            "bar_color": null,
            "description_width": ""
          }
        },
        "ef6a9844975146d19475b699ac86d787": {
          "model_module": "@jupyter-widgets/base",
          "model_name": "LayoutModel",
          "model_module_version": "1.2.0",
          "state": {
            "_model_module": "@jupyter-widgets/base",
            "_model_module_version": "1.2.0",
            "_model_name": "LayoutModel",
            "_view_count": null,
            "_view_module": "@jupyter-widgets/base",
            "_view_module_version": "1.2.0",
            "_view_name": "LayoutView",
            "align_content": null,
            "align_items": null,
            "align_self": null,
            "border": null,
            "bottom": null,
            "display": null,
            "flex": null,
            "flex_flow": null,
            "grid_area": null,
            "grid_auto_columns": null,
            "grid_auto_flow": null,
            "grid_auto_rows": null,
            "grid_column": null,
            "grid_gap": null,
            "grid_row": null,
            "grid_template_areas": null,
            "grid_template_columns": null,
            "grid_template_rows": null,
            "height": null,
            "justify_content": null,
            "justify_items": null,
            "left": null,
            "margin": null,
            "max_height": null,
            "max_width": null,
            "min_height": null,
            "min_width": null,
            "object_fit": null,
            "object_position": null,
            "order": null,
            "overflow": null,
            "overflow_x": null,
            "overflow_y": null,
            "padding": null,
            "right": null,
            "top": null,
            "visibility": null,
            "width": null
          }
        },
        "ab2acd58c7764265b211fe9087218af6": {
          "model_module": "@jupyter-widgets/controls",
          "model_name": "DescriptionStyleModel",
          "model_module_version": "1.5.0",
          "state": {
            "_model_module": "@jupyter-widgets/controls",
            "_model_module_version": "1.5.0",
            "_model_name": "DescriptionStyleModel",
            "_view_count": null,
            "_view_module": "@jupyter-widgets/base",
            "_view_module_version": "1.2.0",
            "_view_name": "StyleView",
            "description_width": ""
          }
        },
        "71a3405910db4303b19e0394cd143dec": {
          "model_module": "@jupyter-widgets/controls",
          "model_name": "HBoxModel",
          "model_module_version": "1.5.0",
          "state": {
            "_dom_classes": [],
            "_model_module": "@jupyter-widgets/controls",
            "_model_module_version": "1.5.0",
            "_model_name": "HBoxModel",
            "_view_count": null,
            "_view_module": "@jupyter-widgets/controls",
            "_view_module_version": "1.5.0",
            "_view_name": "HBoxView",
            "box_style": "",
            "children": [
              "IPY_MODEL_b691fa22d5574db7989a3c7c928d7213",
              "IPY_MODEL_e4190779dcc34aa58356f304cbb1d836",
              "IPY_MODEL_16cd0ae0e5f643ab9c84b6f9c3e82e68"
            ],
            "layout": "IPY_MODEL_717a41c5ecbe409eb2806621dc108663"
          }
        },
        "b691fa22d5574db7989a3c7c928d7213": {
          "model_module": "@jupyter-widgets/controls",
          "model_name": "HTMLModel",
          "model_module_version": "1.5.0",
          "state": {
            "_dom_classes": [],
            "_model_module": "@jupyter-widgets/controls",
            "_model_module_version": "1.5.0",
            "_model_name": "HTMLModel",
            "_view_count": null,
            "_view_module": "@jupyter-widgets/controls",
            "_view_module_version": "1.5.0",
            "_view_name": "HTMLView",
            "description": "",
            "description_tooltip": null,
            "layout": "IPY_MODEL_f8357cceecf740a09399499a7528e776",
            "placeholder": "​",
            "style": "IPY_MODEL_638f71e0d00645a5a5fd60629c6dab29",
            "value": "(…)-00002-of-00004-a26307300439e943.parquet: 100%"
          }
        },
        "e4190779dcc34aa58356f304cbb1d836": {
          "model_module": "@jupyter-widgets/controls",
          "model_name": "FloatProgressModel",
          "model_module_version": "1.5.0",
          "state": {
            "_dom_classes": [],
            "_model_module": "@jupyter-widgets/controls",
            "_model_module_version": "1.5.0",
            "_model_name": "FloatProgressModel",
            "_view_count": null,
            "_view_module": "@jupyter-widgets/controls",
            "_view_module_version": "1.5.0",
            "_view_name": "ProgressView",
            "bar_style": "success",
            "description": "",
            "description_tooltip": null,
            "layout": "IPY_MODEL_22a9558cedfd4d0da16e359fac91162d",
            "max": 245894874,
            "min": 0,
            "orientation": "horizontal",
            "style": "IPY_MODEL_19b5d9afcc0647cebda2981564efd173",
            "value": 245894874
          }
        },
        "16cd0ae0e5f643ab9c84b6f9c3e82e68": {
          "model_module": "@jupyter-widgets/controls",
          "model_name": "HTMLModel",
          "model_module_version": "1.5.0",
          "state": {
            "_dom_classes": [],
            "_model_module": "@jupyter-widgets/controls",
            "_model_module_version": "1.5.0",
            "_model_name": "HTMLModel",
            "_view_count": null,
            "_view_module": "@jupyter-widgets/controls",
            "_view_module_version": "1.5.0",
            "_view_name": "HTMLView",
            "description": "",
            "description_tooltip": null,
            "layout": "IPY_MODEL_72829f28e44b47b9abe7d7d9cd1e977a",
            "placeholder": "​",
            "style": "IPY_MODEL_aa3f9eaf2ae74467ba1b1a18b3d6da32",
            "value": " 246M/246M [00:07&lt;00:00, 26.2MB/s]"
          }
        },
        "717a41c5ecbe409eb2806621dc108663": {
          "model_module": "@jupyter-widgets/base",
          "model_name": "LayoutModel",
          "model_module_version": "1.2.0",
          "state": {
            "_model_module": "@jupyter-widgets/base",
            "_model_module_version": "1.2.0",
            "_model_name": "LayoutModel",
            "_view_count": null,
            "_view_module": "@jupyter-widgets/base",
            "_view_module_version": "1.2.0",
            "_view_name": "LayoutView",
            "align_content": null,
            "align_items": null,
            "align_self": null,
            "border": null,
            "bottom": null,
            "display": null,
            "flex": null,
            "flex_flow": null,
            "grid_area": null,
            "grid_auto_columns": null,
            "grid_auto_flow": null,
            "grid_auto_rows": null,
            "grid_column": null,
            "grid_gap": null,
            "grid_row": null,
            "grid_template_areas": null,
            "grid_template_columns": null,
            "grid_template_rows": null,
            "height": null,
            "justify_content": null,
            "justify_items": null,
            "left": null,
            "margin": null,
            "max_height": null,
            "max_width": null,
            "min_height": null,
            "min_width": null,
            "object_fit": null,
            "object_position": null,
            "order": null,
            "overflow": null,
            "overflow_x": null,
            "overflow_y": null,
            "padding": null,
            "right": null,
            "top": null,
            "visibility": null,
            "width": null
          }
        },
        "f8357cceecf740a09399499a7528e776": {
          "model_module": "@jupyter-widgets/base",
          "model_name": "LayoutModel",
          "model_module_version": "1.2.0",
          "state": {
            "_model_module": "@jupyter-widgets/base",
            "_model_module_version": "1.2.0",
            "_model_name": "LayoutModel",
            "_view_count": null,
            "_view_module": "@jupyter-widgets/base",
            "_view_module_version": "1.2.0",
            "_view_name": "LayoutView",
            "align_content": null,
            "align_items": null,
            "align_self": null,
            "border": null,
            "bottom": null,
            "display": null,
            "flex": null,
            "flex_flow": null,
            "grid_area": null,
            "grid_auto_columns": null,
            "grid_auto_flow": null,
            "grid_auto_rows": null,
            "grid_column": null,
            "grid_gap": null,
            "grid_row": null,
            "grid_template_areas": null,
            "grid_template_columns": null,
            "grid_template_rows": null,
            "height": null,
            "justify_content": null,
            "justify_items": null,
            "left": null,
            "margin": null,
            "max_height": null,
            "max_width": null,
            "min_height": null,
            "min_width": null,
            "object_fit": null,
            "object_position": null,
            "order": null,
            "overflow": null,
            "overflow_x": null,
            "overflow_y": null,
            "padding": null,
            "right": null,
            "top": null,
            "visibility": null,
            "width": null
          }
        },
        "638f71e0d00645a5a5fd60629c6dab29": {
          "model_module": "@jupyter-widgets/controls",
          "model_name": "DescriptionStyleModel",
          "model_module_version": "1.5.0",
          "state": {
            "_model_module": "@jupyter-widgets/controls",
            "_model_module_version": "1.5.0",
            "_model_name": "DescriptionStyleModel",
            "_view_count": null,
            "_view_module": "@jupyter-widgets/base",
            "_view_module_version": "1.2.0",
            "_view_name": "StyleView",
            "description_width": ""
          }
        },
        "22a9558cedfd4d0da16e359fac91162d": {
          "model_module": "@jupyter-widgets/base",
          "model_name": "LayoutModel",
          "model_module_version": "1.2.0",
          "state": {
            "_model_module": "@jupyter-widgets/base",
            "_model_module_version": "1.2.0",
            "_model_name": "LayoutModel",
            "_view_count": null,
            "_view_module": "@jupyter-widgets/base",
            "_view_module_version": "1.2.0",
            "_view_name": "LayoutView",
            "align_content": null,
            "align_items": null,
            "align_self": null,
            "border": null,
            "bottom": null,
            "display": null,
            "flex": null,
            "flex_flow": null,
            "grid_area": null,
            "grid_auto_columns": null,
            "grid_auto_flow": null,
            "grid_auto_rows": null,
            "grid_column": null,
            "grid_gap": null,
            "grid_row": null,
            "grid_template_areas": null,
            "grid_template_columns": null,
            "grid_template_rows": null,
            "height": null,
            "justify_content": null,
            "justify_items": null,
            "left": null,
            "margin": null,
            "max_height": null,
            "max_width": null,
            "min_height": null,
            "min_width": null,
            "object_fit": null,
            "object_position": null,
            "order": null,
            "overflow": null,
            "overflow_x": null,
            "overflow_y": null,
            "padding": null,
            "right": null,
            "top": null,
            "visibility": null,
            "width": null
          }
        },
        "19b5d9afcc0647cebda2981564efd173": {
          "model_module": "@jupyter-widgets/controls",
          "model_name": "ProgressStyleModel",
          "model_module_version": "1.5.0",
          "state": {
            "_model_module": "@jupyter-widgets/controls",
            "_model_module_version": "1.5.0",
            "_model_name": "ProgressStyleModel",
            "_view_count": null,
            "_view_module": "@jupyter-widgets/base",
            "_view_module_version": "1.2.0",
            "_view_name": "StyleView",
            "bar_color": null,
            "description_width": ""
          }
        },
        "72829f28e44b47b9abe7d7d9cd1e977a": {
          "model_module": "@jupyter-widgets/base",
          "model_name": "LayoutModel",
          "model_module_version": "1.2.0",
          "state": {
            "_model_module": "@jupyter-widgets/base",
            "_model_module_version": "1.2.0",
            "_model_name": "LayoutModel",
            "_view_count": null,
            "_view_module": "@jupyter-widgets/base",
            "_view_module_version": "1.2.0",
            "_view_name": "LayoutView",
            "align_content": null,
            "align_items": null,
            "align_self": null,
            "border": null,
            "bottom": null,
            "display": null,
            "flex": null,
            "flex_flow": null,
            "grid_area": null,
            "grid_auto_columns": null,
            "grid_auto_flow": null,
            "grid_auto_rows": null,
            "grid_column": null,
            "grid_gap": null,
            "grid_row": null,
            "grid_template_areas": null,
            "grid_template_columns": null,
            "grid_template_rows": null,
            "height": null,
            "justify_content": null,
            "justify_items": null,
            "left": null,
            "margin": null,
            "max_height": null,
            "max_width": null,
            "min_height": null,
            "min_width": null,
            "object_fit": null,
            "object_position": null,
            "order": null,
            "overflow": null,
            "overflow_x": null,
            "overflow_y": null,
            "padding": null,
            "right": null,
            "top": null,
            "visibility": null,
            "width": null
          }
        },
        "aa3f9eaf2ae74467ba1b1a18b3d6da32": {
          "model_module": "@jupyter-widgets/controls",
          "model_name": "DescriptionStyleModel",
          "model_module_version": "1.5.0",
          "state": {
            "_model_module": "@jupyter-widgets/controls",
            "_model_module_version": "1.5.0",
            "_model_name": "DescriptionStyleModel",
            "_view_count": null,
            "_view_module": "@jupyter-widgets/base",
            "_view_module_version": "1.2.0",
            "_view_name": "StyleView",
            "description_width": ""
          }
        },
        "fd5610b619a748c687686c5e8f3bc784": {
          "model_module": "@jupyter-widgets/controls",
          "model_name": "HBoxModel",
          "model_module_version": "1.5.0",
          "state": {
            "_dom_classes": [],
            "_model_module": "@jupyter-widgets/controls",
            "_model_module_version": "1.5.0",
            "_model_name": "HBoxModel",
            "_view_count": null,
            "_view_module": "@jupyter-widgets/controls",
            "_view_module_version": "1.5.0",
            "_view_name": "HBoxView",
            "box_style": "",
            "children": [
              "IPY_MODEL_47340cb6e29c4c6e982d2218921049b1",
              "IPY_MODEL_5ecf151c9a0947f7af7eab6121f1a1b7",
              "IPY_MODEL_fdc5ccaf44f04bc2a88e3995d785123f"
            ],
            "layout": "IPY_MODEL_0a4d002458094e08a39473819a8c07c7"
          }
        },
        "47340cb6e29c4c6e982d2218921049b1": {
          "model_module": "@jupyter-widgets/controls",
          "model_name": "HTMLModel",
          "model_module_version": "1.5.0",
          "state": {
            "_dom_classes": [],
            "_model_module": "@jupyter-widgets/controls",
            "_model_module_version": "1.5.0",
            "_model_name": "HTMLModel",
            "_view_count": null,
            "_view_module": "@jupyter-widgets/controls",
            "_view_module_version": "1.5.0",
            "_view_name": "HTMLView",
            "description": "",
            "description_tooltip": null,
            "layout": "IPY_MODEL_51b7eeb8ed5a4fdcaa10cf4b36218cbc",
            "placeholder": "​",
            "style": "IPY_MODEL_31d58a0f13b54e3d842fb60e03b298d2",
            "value": "(…)-00003-of-00004-d243063613e5a057.parquet: 100%"
          }
        },
        "5ecf151c9a0947f7af7eab6121f1a1b7": {
          "model_module": "@jupyter-widgets/controls",
          "model_name": "FloatProgressModel",
          "model_module_version": "1.5.0",
          "state": {
            "_dom_classes": [],
            "_model_module": "@jupyter-widgets/controls",
            "_model_module_version": "1.5.0",
            "_model_name": "FloatProgressModel",
            "_view_count": null,
            "_view_module": "@jupyter-widgets/controls",
            "_view_module_version": "1.5.0",
            "_view_name": "ProgressView",
            "bar_style": "success",
            "description": "",
            "description_tooltip": null,
            "layout": "IPY_MODEL_30685ae412f047f3a5e95adf958c606d",
            "max": 247988350,
            "min": 0,
            "orientation": "horizontal",
            "style": "IPY_MODEL_61a346202fbd4dd99633c3a20a12de0b",
            "value": 247988350
          }
        },
        "fdc5ccaf44f04bc2a88e3995d785123f": {
          "model_module": "@jupyter-widgets/controls",
          "model_name": "HTMLModel",
          "model_module_version": "1.5.0",
          "state": {
            "_dom_classes": [],
            "_model_module": "@jupyter-widgets/controls",
            "_model_module_version": "1.5.0",
            "_model_name": "HTMLModel",
            "_view_count": null,
            "_view_module": "@jupyter-widgets/controls",
            "_view_module_version": "1.5.0",
            "_view_name": "HTMLView",
            "description": "",
            "description_tooltip": null,
            "layout": "IPY_MODEL_8f2bc43ba4b64873aec221f247727459",
            "placeholder": "​",
            "style": "IPY_MODEL_37f5e37849504613b027b14a534dbc06",
            "value": " 248M/248M [00:04&lt;00:00, 54.7MB/s]"
          }
        },
        "0a4d002458094e08a39473819a8c07c7": {
          "model_module": "@jupyter-widgets/base",
          "model_name": "LayoutModel",
          "model_module_version": "1.2.0",
          "state": {
            "_model_module": "@jupyter-widgets/base",
            "_model_module_version": "1.2.0",
            "_model_name": "LayoutModel",
            "_view_count": null,
            "_view_module": "@jupyter-widgets/base",
            "_view_module_version": "1.2.0",
            "_view_name": "LayoutView",
            "align_content": null,
            "align_items": null,
            "align_self": null,
            "border": null,
            "bottom": null,
            "display": null,
            "flex": null,
            "flex_flow": null,
            "grid_area": null,
            "grid_auto_columns": null,
            "grid_auto_flow": null,
            "grid_auto_rows": null,
            "grid_column": null,
            "grid_gap": null,
            "grid_row": null,
            "grid_template_areas": null,
            "grid_template_columns": null,
            "grid_template_rows": null,
            "height": null,
            "justify_content": null,
            "justify_items": null,
            "left": null,
            "margin": null,
            "max_height": null,
            "max_width": null,
            "min_height": null,
            "min_width": null,
            "object_fit": null,
            "object_position": null,
            "order": null,
            "overflow": null,
            "overflow_x": null,
            "overflow_y": null,
            "padding": null,
            "right": null,
            "top": null,
            "visibility": null,
            "width": null
          }
        },
        "51b7eeb8ed5a4fdcaa10cf4b36218cbc": {
          "model_module": "@jupyter-widgets/base",
          "model_name": "LayoutModel",
          "model_module_version": "1.2.0",
          "state": {
            "_model_module": "@jupyter-widgets/base",
            "_model_module_version": "1.2.0",
            "_model_name": "LayoutModel",
            "_view_count": null,
            "_view_module": "@jupyter-widgets/base",
            "_view_module_version": "1.2.0",
            "_view_name": "LayoutView",
            "align_content": null,
            "align_items": null,
            "align_self": null,
            "border": null,
            "bottom": null,
            "display": null,
            "flex": null,
            "flex_flow": null,
            "grid_area": null,
            "grid_auto_columns": null,
            "grid_auto_flow": null,
            "grid_auto_rows": null,
            "grid_column": null,
            "grid_gap": null,
            "grid_row": null,
            "grid_template_areas": null,
            "grid_template_columns": null,
            "grid_template_rows": null,
            "height": null,
            "justify_content": null,
            "justify_items": null,
            "left": null,
            "margin": null,
            "max_height": null,
            "max_width": null,
            "min_height": null,
            "min_width": null,
            "object_fit": null,
            "object_position": null,
            "order": null,
            "overflow": null,
            "overflow_x": null,
            "overflow_y": null,
            "padding": null,
            "right": null,
            "top": null,
            "visibility": null,
            "width": null
          }
        },
        "31d58a0f13b54e3d842fb60e03b298d2": {
          "model_module": "@jupyter-widgets/controls",
          "model_name": "DescriptionStyleModel",
          "model_module_version": "1.5.0",
          "state": {
            "_model_module": "@jupyter-widgets/controls",
            "_model_module_version": "1.5.0",
            "_model_name": "DescriptionStyleModel",
            "_view_count": null,
            "_view_module": "@jupyter-widgets/base",
            "_view_module_version": "1.2.0",
            "_view_name": "StyleView",
            "description_width": ""
          }
        },
        "30685ae412f047f3a5e95adf958c606d": {
          "model_module": "@jupyter-widgets/base",
          "model_name": "LayoutModel",
          "model_module_version": "1.2.0",
          "state": {
            "_model_module": "@jupyter-widgets/base",
            "_model_module_version": "1.2.0",
            "_model_name": "LayoutModel",
            "_view_count": null,
            "_view_module": "@jupyter-widgets/base",
            "_view_module_version": "1.2.0",
            "_view_name": "LayoutView",
            "align_content": null,
            "align_items": null,
            "align_self": null,
            "border": null,
            "bottom": null,
            "display": null,
            "flex": null,
            "flex_flow": null,
            "grid_area": null,
            "grid_auto_columns": null,
            "grid_auto_flow": null,
            "grid_auto_rows": null,
            "grid_column": null,
            "grid_gap": null,
            "grid_row": null,
            "grid_template_areas": null,
            "grid_template_columns": null,
            "grid_template_rows": null,
            "height": null,
            "justify_content": null,
            "justify_items": null,
            "left": null,
            "margin": null,
            "max_height": null,
            "max_width": null,
            "min_height": null,
            "min_width": null,
            "object_fit": null,
            "object_position": null,
            "order": null,
            "overflow": null,
            "overflow_x": null,
            "overflow_y": null,
            "padding": null,
            "right": null,
            "top": null,
            "visibility": null,
            "width": null
          }
        },
        "61a346202fbd4dd99633c3a20a12de0b": {
          "model_module": "@jupyter-widgets/controls",
          "model_name": "ProgressStyleModel",
          "model_module_version": "1.5.0",
          "state": {
            "_model_module": "@jupyter-widgets/controls",
            "_model_module_version": "1.5.0",
            "_model_name": "ProgressStyleModel",
            "_view_count": null,
            "_view_module": "@jupyter-widgets/base",
            "_view_module_version": "1.2.0",
            "_view_name": "StyleView",
            "bar_color": null,
            "description_width": ""
          }
        },
        "8f2bc43ba4b64873aec221f247727459": {
          "model_module": "@jupyter-widgets/base",
          "model_name": "LayoutModel",
          "model_module_version": "1.2.0",
          "state": {
            "_model_module": "@jupyter-widgets/base",
            "_model_module_version": "1.2.0",
            "_model_name": "LayoutModel",
            "_view_count": null,
            "_view_module": "@jupyter-widgets/base",
            "_view_module_version": "1.2.0",
            "_view_name": "LayoutView",
            "align_content": null,
            "align_items": null,
            "align_self": null,
            "border": null,
            "bottom": null,
            "display": null,
            "flex": null,
            "flex_flow": null,
            "grid_area": null,
            "grid_auto_columns": null,
            "grid_auto_flow": null,
            "grid_auto_rows": null,
            "grid_column": null,
            "grid_gap": null,
            "grid_row": null,
            "grid_template_areas": null,
            "grid_template_columns": null,
            "grid_template_rows": null,
            "height": null,
            "justify_content": null,
            "justify_items": null,
            "left": null,
            "margin": null,
            "max_height": null,
            "max_width": null,
            "min_height": null,
            "min_width": null,
            "object_fit": null,
            "object_position": null,
            "order": null,
            "overflow": null,
            "overflow_x": null,
            "overflow_y": null,
            "padding": null,
            "right": null,
            "top": null,
            "visibility": null,
            "width": null
          }
        },
        "37f5e37849504613b027b14a534dbc06": {
          "model_module": "@jupyter-widgets/controls",
          "model_name": "DescriptionStyleModel",
          "model_module_version": "1.5.0",
          "state": {
            "_model_module": "@jupyter-widgets/controls",
            "_model_module_version": "1.5.0",
            "_model_name": "DescriptionStyleModel",
            "_view_count": null,
            "_view_module": "@jupyter-widgets/base",
            "_view_module_version": "1.2.0",
            "_view_name": "StyleView",
            "description_width": ""
          }
        },
        "0d59910529b14518a9897089034f0f13": {
          "model_module": "@jupyter-widgets/controls",
          "model_name": "HBoxModel",
          "model_module_version": "1.5.0",
          "state": {
            "_dom_classes": [],
            "_model_module": "@jupyter-widgets/controls",
            "_model_module_version": "1.5.0",
            "_model_name": "HBoxModel",
            "_view_count": null,
            "_view_module": "@jupyter-widgets/controls",
            "_view_module_version": "1.5.0",
            "_view_name": "HBoxView",
            "box_style": "",
            "children": [
              "IPY_MODEL_0f1cf4eb81ad48c29497bfbb879e69a9",
              "IPY_MODEL_ba3c902987d248b2b23782eec5f0da4d",
              "IPY_MODEL_e1ce1010ce0f4162a6fc6dd41fbea3bc"
            ],
            "layout": "IPY_MODEL_b78bce8b3a554e569ac88d517862129d"
          }
        },
        "0f1cf4eb81ad48c29497bfbb879e69a9": {
          "model_module": "@jupyter-widgets/controls",
          "model_name": "HTMLModel",
          "model_module_version": "1.5.0",
          "state": {
            "_dom_classes": [],
            "_model_module": "@jupyter-widgets/controls",
            "_model_module_version": "1.5.0",
            "_model_name": "HTMLModel",
            "_view_count": null,
            "_view_module": "@jupyter-widgets/controls",
            "_view_module_version": "1.5.0",
            "_view_name": "HTMLView",
            "description": "",
            "description_tooltip": null,
            "layout": "IPY_MODEL_8f950b1588144bd98b7c7c3045f147a7",
            "placeholder": "​",
            "style": "IPY_MODEL_9f6038cd18dd4064b7a3a6071b6c98c2",
            "value": "(…)-00000-of-00001-869c898b519ad725.parquet: 100%"
          }
        },
        "ba3c902987d248b2b23782eec5f0da4d": {
          "model_module": "@jupyter-widgets/controls",
          "model_name": "FloatProgressModel",
          "model_module_version": "1.5.0",
          "state": {
            "_dom_classes": [],
            "_model_module": "@jupyter-widgets/controls",
            "_model_module_version": "1.5.0",
            "_model_name": "FloatProgressModel",
            "_view_count": null,
            "_view_module": "@jupyter-widgets/controls",
            "_view_module_version": "1.5.0",
            "_view_name": "ProgressView",
            "bar_style": "success",
            "description": "",
            "description_tooltip": null,
            "layout": "IPY_MODEL_a75a5946dcb24fb1b01438da574510e4",
            "max": 9989127,
            "min": 0,
            "orientation": "horizontal",
            "style": "IPY_MODEL_739c63d2414445618aee28dd57801976",
            "value": 9989127
          }
        },
        "e1ce1010ce0f4162a6fc6dd41fbea3bc": {
          "model_module": "@jupyter-widgets/controls",
          "model_name": "HTMLModel",
          "model_module_version": "1.5.0",
          "state": {
            "_dom_classes": [],
            "_model_module": "@jupyter-widgets/controls",
            "_model_module_version": "1.5.0",
            "_model_name": "HTMLModel",
            "_view_count": null,
            "_view_module": "@jupyter-widgets/controls",
            "_view_module_version": "1.5.0",
            "_view_name": "HTMLView",
            "description": "",
            "description_tooltip": null,
            "layout": "IPY_MODEL_72c1c25d577b4dfc9dc2e8dde339ecf0",
            "placeholder": "​",
            "style": "IPY_MODEL_dbf586cb9d6242a8934ff1f42e098602",
            "value": " 9.99M/9.99M [00:00&lt;00:00, 64.7MB/s]"
          }
        },
        "b78bce8b3a554e569ac88d517862129d": {
          "model_module": "@jupyter-widgets/base",
          "model_name": "LayoutModel",
          "model_module_version": "1.2.0",
          "state": {
            "_model_module": "@jupyter-widgets/base",
            "_model_module_version": "1.2.0",
            "_model_name": "LayoutModel",
            "_view_count": null,
            "_view_module": "@jupyter-widgets/base",
            "_view_module_version": "1.2.0",
            "_view_name": "LayoutView",
            "align_content": null,
            "align_items": null,
            "align_self": null,
            "border": null,
            "bottom": null,
            "display": null,
            "flex": null,
            "flex_flow": null,
            "grid_area": null,
            "grid_auto_columns": null,
            "grid_auto_flow": null,
            "grid_auto_rows": null,
            "grid_column": null,
            "grid_gap": null,
            "grid_row": null,
            "grid_template_areas": null,
            "grid_template_columns": null,
            "grid_template_rows": null,
            "height": null,
            "justify_content": null,
            "justify_items": null,
            "left": null,
            "margin": null,
            "max_height": null,
            "max_width": null,
            "min_height": null,
            "min_width": null,
            "object_fit": null,
            "object_position": null,
            "order": null,
            "overflow": null,
            "overflow_x": null,
            "overflow_y": null,
            "padding": null,
            "right": null,
            "top": null,
            "visibility": null,
            "width": null
          }
        },
        "8f950b1588144bd98b7c7c3045f147a7": {
          "model_module": "@jupyter-widgets/base",
          "model_name": "LayoutModel",
          "model_module_version": "1.2.0",
          "state": {
            "_model_module": "@jupyter-widgets/base",
            "_model_module_version": "1.2.0",
            "_model_name": "LayoutModel",
            "_view_count": null,
            "_view_module": "@jupyter-widgets/base",
            "_view_module_version": "1.2.0",
            "_view_name": "LayoutView",
            "align_content": null,
            "align_items": null,
            "align_self": null,
            "border": null,
            "bottom": null,
            "display": null,
            "flex": null,
            "flex_flow": null,
            "grid_area": null,
            "grid_auto_columns": null,
            "grid_auto_flow": null,
            "grid_auto_rows": null,
            "grid_column": null,
            "grid_gap": null,
            "grid_row": null,
            "grid_template_areas": null,
            "grid_template_columns": null,
            "grid_template_rows": null,
            "height": null,
            "justify_content": null,
            "justify_items": null,
            "left": null,
            "margin": null,
            "max_height": null,
            "max_width": null,
            "min_height": null,
            "min_width": null,
            "object_fit": null,
            "object_position": null,
            "order": null,
            "overflow": null,
            "overflow_x": null,
            "overflow_y": null,
            "padding": null,
            "right": null,
            "top": null,
            "visibility": null,
            "width": null
          }
        },
        "9f6038cd18dd4064b7a3a6071b6c98c2": {
          "model_module": "@jupyter-widgets/controls",
          "model_name": "DescriptionStyleModel",
          "model_module_version": "1.5.0",
          "state": {
            "_model_module": "@jupyter-widgets/controls",
            "_model_module_version": "1.5.0",
            "_model_name": "DescriptionStyleModel",
            "_view_count": null,
            "_view_module": "@jupyter-widgets/base",
            "_view_module_version": "1.2.0",
            "_view_name": "StyleView",
            "description_width": ""
          }
        },
        "a75a5946dcb24fb1b01438da574510e4": {
          "model_module": "@jupyter-widgets/base",
          "model_name": "LayoutModel",
          "model_module_version": "1.2.0",
          "state": {
            "_model_module": "@jupyter-widgets/base",
            "_model_module_version": "1.2.0",
            "_model_name": "LayoutModel",
            "_view_count": null,
            "_view_module": "@jupyter-widgets/base",
            "_view_module_version": "1.2.0",
            "_view_name": "LayoutView",
            "align_content": null,
            "align_items": null,
            "align_self": null,
            "border": null,
            "bottom": null,
            "display": null,
            "flex": null,
            "flex_flow": null,
            "grid_area": null,
            "grid_auto_columns": null,
            "grid_auto_flow": null,
            "grid_auto_rows": null,
            "grid_column": null,
            "grid_gap": null,
            "grid_row": null,
            "grid_template_areas": null,
            "grid_template_columns": null,
            "grid_template_rows": null,
            "height": null,
            "justify_content": null,
            "justify_items": null,
            "left": null,
            "margin": null,
            "max_height": null,
            "max_width": null,
            "min_height": null,
            "min_width": null,
            "object_fit": null,
            "object_position": null,
            "order": null,
            "overflow": null,
            "overflow_x": null,
            "overflow_y": null,
            "padding": null,
            "right": null,
            "top": null,
            "visibility": null,
            "width": null
          }
        },
        "739c63d2414445618aee28dd57801976": {
          "model_module": "@jupyter-widgets/controls",
          "model_name": "ProgressStyleModel",
          "model_module_version": "1.5.0",
          "state": {
            "_model_module": "@jupyter-widgets/controls",
            "_model_module_version": "1.5.0",
            "_model_name": "ProgressStyleModel",
            "_view_count": null,
            "_view_module": "@jupyter-widgets/base",
            "_view_module_version": "1.2.0",
            "_view_name": "StyleView",
            "bar_color": null,
            "description_width": ""
          }
        },
        "72c1c25d577b4dfc9dc2e8dde339ecf0": {
          "model_module": "@jupyter-widgets/base",
          "model_name": "LayoutModel",
          "model_module_version": "1.2.0",
          "state": {
            "_model_module": "@jupyter-widgets/base",
            "_model_module_version": "1.2.0",
            "_model_name": "LayoutModel",
            "_view_count": null,
            "_view_module": "@jupyter-widgets/base",
            "_view_module_version": "1.2.0",
            "_view_name": "LayoutView",
            "align_content": null,
            "align_items": null,
            "align_self": null,
            "border": null,
            "bottom": null,
            "display": null,
            "flex": null,
            "flex_flow": null,
            "grid_area": null,
            "grid_auto_columns": null,
            "grid_auto_flow": null,
            "grid_auto_rows": null,
            "grid_column": null,
            "grid_gap": null,
            "grid_row": null,
            "grid_template_areas": null,
            "grid_template_columns": null,
            "grid_template_rows": null,
            "height": null,
            "justify_content": null,
            "justify_items": null,
            "left": null,
            "margin": null,
            "max_height": null,
            "max_width": null,
            "min_height": null,
            "min_width": null,
            "object_fit": null,
            "object_position": null,
            "order": null,
            "overflow": null,
            "overflow_x": null,
            "overflow_y": null,
            "padding": null,
            "right": null,
            "top": null,
            "visibility": null,
            "width": null
          }
        },
        "dbf586cb9d6242a8934ff1f42e098602": {
          "model_module": "@jupyter-widgets/controls",
          "model_name": "DescriptionStyleModel",
          "model_module_version": "1.5.0",
          "state": {
            "_model_module": "@jupyter-widgets/controls",
            "_model_module_version": "1.5.0",
            "_model_name": "DescriptionStyleModel",
            "_view_count": null,
            "_view_module": "@jupyter-widgets/base",
            "_view_module_version": "1.2.0",
            "_view_name": "StyleView",
            "description_width": ""
          }
        },
        "d82b4c80c7154cb2a653eda3b2e9a1d6": {
          "model_module": "@jupyter-widgets/controls",
          "model_name": "HBoxModel",
          "model_module_version": "1.5.0",
          "state": {
            "_dom_classes": [],
            "_model_module": "@jupyter-widgets/controls",
            "_model_module_version": "1.5.0",
            "_model_name": "HBoxModel",
            "_view_count": null,
            "_view_module": "@jupyter-widgets/controls",
            "_view_module_version": "1.5.0",
            "_view_name": "HBoxView",
            "box_style": "",
            "children": [
              "IPY_MODEL_90d9c8e5e5954c5082d768e4101aeded",
              "IPY_MODEL_af14b33d169b41209e43dbd0656ca7cc",
              "IPY_MODEL_23a15c04891f4daea2304cecf0e3a708"
            ],
            "layout": "IPY_MODEL_50a6d3ebc4184824b11053417b143918"
          }
        },
        "90d9c8e5e5954c5082d768e4101aeded": {
          "model_module": "@jupyter-widgets/controls",
          "model_name": "HTMLModel",
          "model_module_version": "1.5.0",
          "state": {
            "_dom_classes": [],
            "_model_module": "@jupyter-widgets/controls",
            "_model_module_version": "1.5.0",
            "_model_name": "HTMLModel",
            "_view_count": null,
            "_view_module": "@jupyter-widgets/controls",
            "_view_module_version": "1.5.0",
            "_view_name": "HTMLView",
            "description": "",
            "description_tooltip": null,
            "layout": "IPY_MODEL_3834d660469a4d7d8c6d99bb68d2d47b",
            "placeholder": "​",
            "style": "IPY_MODEL_e67edf534133433896f3608515bd8fa9",
            "value": "Generating train split:  54%"
          }
        },
        "af14b33d169b41209e43dbd0656ca7cc": {
          "model_module": "@jupyter-widgets/controls",
          "model_name": "FloatProgressModel",
          "model_module_version": "1.5.0",
          "state": {
            "_dom_classes": [],
            "_model_module": "@jupyter-widgets/controls",
            "_model_module_version": "1.5.0",
            "_model_name": "FloatProgressModel",
            "_view_count": null,
            "_view_module": "@jupyter-widgets/controls",
            "_view_module_version": "1.5.0",
            "_view_name": "ProgressView",
            "bar_style": "",
            "description": "",
            "description_tooltip": null,
            "layout": "IPY_MODEL_7c12ddd9877f4e4896e93405042cf09a",
            "max": 2119719,
            "min": 0,
            "orientation": "horizontal",
            "style": "IPY_MODEL_869de8e65c6f406a8ef9a9b5676b3658",
            "value": 1150860
          }
        },
        "23a15c04891f4daea2304cecf0e3a708": {
          "model_module": "@jupyter-widgets/controls",
          "model_name": "HTMLModel",
          "model_module_version": "1.5.0",
          "state": {
            "_dom_classes": [],
            "_model_module": "@jupyter-widgets/controls",
            "_model_module_version": "1.5.0",
            "_model_name": "HTMLModel",
            "_view_count": null,
            "_view_module": "@jupyter-widgets/controls",
            "_view_module_version": "1.5.0",
            "_view_name": "HTMLView",
            "description": "",
            "description_tooltip": null,
            "layout": "IPY_MODEL_4f66bf97c7b342bd9ff1acd54e905a64",
            "placeholder": "​",
            "style": "IPY_MODEL_8364a24be75a476d8c1dc68a6fffcf9b",
            "value": " 1150860/2119719 [00:16&lt;00:14, 69002.06 examples/s]"
          }
        },
        "50a6d3ebc4184824b11053417b143918": {
          "model_module": "@jupyter-widgets/base",
          "model_name": "LayoutModel",
          "model_module_version": "1.2.0",
          "state": {
            "_model_module": "@jupyter-widgets/base",
            "_model_module_version": "1.2.0",
            "_model_name": "LayoutModel",
            "_view_count": null,
            "_view_module": "@jupyter-widgets/base",
            "_view_module_version": "1.2.0",
            "_view_name": "LayoutView",
            "align_content": null,
            "align_items": null,
            "align_self": null,
            "border": null,
            "bottom": null,
            "display": null,
            "flex": null,
            "flex_flow": null,
            "grid_area": null,
            "grid_auto_columns": null,
            "grid_auto_flow": null,
            "grid_auto_rows": null,
            "grid_column": null,
            "grid_gap": null,
            "grid_row": null,
            "grid_template_areas": null,
            "grid_template_columns": null,
            "grid_template_rows": null,
            "height": null,
            "justify_content": null,
            "justify_items": null,
            "left": null,
            "margin": null,
            "max_height": null,
            "max_width": null,
            "min_height": null,
            "min_width": null,
            "object_fit": null,
            "object_position": null,
            "order": null,
            "overflow": null,
            "overflow_x": null,
            "overflow_y": null,
            "padding": null,
            "right": null,
            "top": null,
            "visibility": null,
            "width": null
          }
        },
        "3834d660469a4d7d8c6d99bb68d2d47b": {
          "model_module": "@jupyter-widgets/base",
          "model_name": "LayoutModel",
          "model_module_version": "1.2.0",
          "state": {
            "_model_module": "@jupyter-widgets/base",
            "_model_module_version": "1.2.0",
            "_model_name": "LayoutModel",
            "_view_count": null,
            "_view_module": "@jupyter-widgets/base",
            "_view_module_version": "1.2.0",
            "_view_name": "LayoutView",
            "align_content": null,
            "align_items": null,
            "align_self": null,
            "border": null,
            "bottom": null,
            "display": null,
            "flex": null,
            "flex_flow": null,
            "grid_area": null,
            "grid_auto_columns": null,
            "grid_auto_flow": null,
            "grid_auto_rows": null,
            "grid_column": null,
            "grid_gap": null,
            "grid_row": null,
            "grid_template_areas": null,
            "grid_template_columns": null,
            "grid_template_rows": null,
            "height": null,
            "justify_content": null,
            "justify_items": null,
            "left": null,
            "margin": null,
            "max_height": null,
            "max_width": null,
            "min_height": null,
            "min_width": null,
            "object_fit": null,
            "object_position": null,
            "order": null,
            "overflow": null,
            "overflow_x": null,
            "overflow_y": null,
            "padding": null,
            "right": null,
            "top": null,
            "visibility": null,
            "width": null
          }
        },
        "e67edf534133433896f3608515bd8fa9": {
          "model_module": "@jupyter-widgets/controls",
          "model_name": "DescriptionStyleModel",
          "model_module_version": "1.5.0",
          "state": {
            "_model_module": "@jupyter-widgets/controls",
            "_model_module_version": "1.5.0",
            "_model_name": "DescriptionStyleModel",
            "_view_count": null,
            "_view_module": "@jupyter-widgets/base",
            "_view_module_version": "1.2.0",
            "_view_name": "StyleView",
            "description_width": ""
          }
        },
        "7c12ddd9877f4e4896e93405042cf09a": {
          "model_module": "@jupyter-widgets/base",
          "model_name": "LayoutModel",
          "model_module_version": "1.2.0",
          "state": {
            "_model_module": "@jupyter-widgets/base",
            "_model_module_version": "1.2.0",
            "_model_name": "LayoutModel",
            "_view_count": null,
            "_view_module": "@jupyter-widgets/base",
            "_view_module_version": "1.2.0",
            "_view_name": "LayoutView",
            "align_content": null,
            "align_items": null,
            "align_self": null,
            "border": null,
            "bottom": null,
            "display": null,
            "flex": null,
            "flex_flow": null,
            "grid_area": null,
            "grid_auto_columns": null,
            "grid_auto_flow": null,
            "grid_auto_rows": null,
            "grid_column": null,
            "grid_gap": null,
            "grid_row": null,
            "grid_template_areas": null,
            "grid_template_columns": null,
            "grid_template_rows": null,
            "height": null,
            "justify_content": null,
            "justify_items": null,
            "left": null,
            "margin": null,
            "max_height": null,
            "max_width": null,
            "min_height": null,
            "min_width": null,
            "object_fit": null,
            "object_position": null,
            "order": null,
            "overflow": null,
            "overflow_x": null,
            "overflow_y": null,
            "padding": null,
            "right": null,
            "top": null,
            "visibility": null,
            "width": null
          }
        },
        "869de8e65c6f406a8ef9a9b5676b3658": {
          "model_module": "@jupyter-widgets/controls",
          "model_name": "ProgressStyleModel",
          "model_module_version": "1.5.0",
          "state": {
            "_model_module": "@jupyter-widgets/controls",
            "_model_module_version": "1.5.0",
            "_model_name": "ProgressStyleModel",
            "_view_count": null,
            "_view_module": "@jupyter-widgets/base",
            "_view_module_version": "1.2.0",
            "_view_name": "StyleView",
            "bar_color": null,
            "description_width": ""
          }
        },
        "4f66bf97c7b342bd9ff1acd54e905a64": {
          "model_module": "@jupyter-widgets/base",
          "model_name": "LayoutModel",
          "model_module_version": "1.2.0",
          "state": {
            "_model_module": "@jupyter-widgets/base",
            "_model_module_version": "1.2.0",
            "_model_name": "LayoutModel",
            "_view_count": null,
            "_view_module": "@jupyter-widgets/base",
            "_view_module_version": "1.2.0",
            "_view_name": "LayoutView",
            "align_content": null,
            "align_items": null,
            "align_self": null,
            "border": null,
            "bottom": null,
            "display": null,
            "flex": null,
            "flex_flow": null,
            "grid_area": null,
            "grid_auto_columns": null,
            "grid_auto_flow": null,
            "grid_auto_rows": null,
            "grid_column": null,
            "grid_gap": null,
            "grid_row": null,
            "grid_template_areas": null,
            "grid_template_columns": null,
            "grid_template_rows": null,
            "height": null,
            "justify_content": null,
            "justify_items": null,
            "left": null,
            "margin": null,
            "max_height": null,
            "max_width": null,
            "min_height": null,
            "min_width": null,
            "object_fit": null,
            "object_position": null,
            "order": null,
            "overflow": null,
            "overflow_x": null,
            "overflow_y": null,
            "padding": null,
            "right": null,
            "top": null,
            "visibility": null,
            "width": null
          }
        },
        "8364a24be75a476d8c1dc68a6fffcf9b": {
          "model_module": "@jupyter-widgets/controls",
          "model_name": "DescriptionStyleModel",
          "model_module_version": "1.5.0",
          "state": {
            "_model_module": "@jupyter-widgets/controls",
            "_model_module_version": "1.5.0",
            "_model_name": "DescriptionStyleModel",
            "_view_count": null,
            "_view_module": "@jupyter-widgets/base",
            "_view_module_version": "1.2.0",
            "_view_name": "StyleView",
            "description_width": ""
          }
        }
      }
    }
  },
  "cells": [
    {
      "cell_type": "markdown",
      "source": [
        "<font size=20>Laboratory 7:Applications in NLP</font>\n",
        "\n",
        "\n",
        "In this lab you will:\n",
        "- Implement the Transformer Encoder Layer\n",
        "- Understand what a language model (LM) is\n",
        "- Train a Transformer LM\n",
        "- Generate text from your trained Transformer model\n"
      ],
      "metadata": {
        "id": "n6ekSOXWxlsM"
      }
    },
    {
      "cell_type": "markdown",
      "source": [
        "# Part I: Transformer architecture\n",
        "\n",
        "\n",
        "\n",
        "\n",
        "<img src=\"https://i.ibb.co/S7rqcZJ0/enc-small.png\" align=\"left\" style=\"margin-right: 20;\" width=\"273\" height=\"495\"/>\n",
        "\n",
        "#### Recap Lecture 6\n",
        "\n",
        "The transformer encoder, introduced in [\"Attention is All You Need\"](https://arxiv.org/pdf/1706.03762), is designed to learn contextual representations for an input sequence $x = [x_1, ..., x_T]$. Unlike RNNs, which process each $x_i$ sequentially, a transformer layer can process the entire sequence in parallel, through the *multi-head self-attention* mechanism.\n",
        "\n",
        "Positional information is added explicitly to the input through *positional encoding*. Attention outputs are further processed by *position-wise feed-forward netoworks*. To stabilize training and facilitate deeper architectures, each sub-layer (attention and feed-forward) is wrapped with a *residual connection* followed by *layer normalization*.\n",
        "\n",
        "In the next sections, we'll analyze each component and work our way up to a full transformer layer implementation.\n"
      ],
      "metadata": {
        "id": "xNIgiKl6w4og"
      }
    },
    {
      "cell_type": "markdown",
      "source": [
        "## 1. Word embeddings\n",
        "\n",
        "### Recap intuition\n",
        "\n",
        "<div>\n",
        "<img src=https://miro.medium.com/v2/resize:fit:1400/1*sAJdxEsDjsPMioHyzlN3_A.png width=\"750\"/>\n",
        "<div>\n",
        "\n",
        "We want to represent words in a high-dimensional space, such that words that are *semantically similar* tend to have similar features and therefore *similar vectors*."
      ],
      "metadata": {
        "id": "TIqR59Digq52"
      }
    },
    {
      "cell_type": "code",
      "source": [
        "import spacy\n",
        "#from spacy.lang.fr.examples import sentences\n",
        "from typing import List, Tuple\n",
        "import locale\n",
        "import torch\n",
        "import torch.nn as nn\n",
        "from torch import Tensor\n",
        "def getpreferredencoding(do_setlocale = True):\n",
        "    return \"UTF-8\"\n",
        "locale.getpreferredencoding = getpreferredencoding\n",
        "!python -m spacy download en_core_web_md\n",
        "nlp = spacy.load(\"en_core_web_md\")"
      ],
      "metadata": {
        "colab": {
          "base_uri": "https://localhost:8080/"
        },
        "collapsed": true,
        "id": "uPEUU1Skq7DZ",
        "outputId": "75b6a3a0-ae4c-44ab-e3ca-b94a6fcd7ac4"
      },
      "execution_count": null,
      "outputs": [
        {
          "output_type": "stream",
          "name": "stdout",
          "text": [
            "Collecting en-core-web-md==3.8.0\n",
            "  Downloading https://github.com/explosion/spacy-models/releases/download/en_core_web_md-3.8.0/en_core_web_md-3.8.0-py3-none-any.whl (33.5 MB)\n",
            "\u001b[2K     \u001b[90m━━━━━━━━━━━━━━━━━━━━━━━━━━━━━━━━━━━━━━━━\u001b[0m \u001b[32m33.5/33.5 MB\u001b[0m \u001b[31m24.4 MB/s\u001b[0m eta \u001b[36m0:00:00\u001b[0m\n",
            "\u001b[?25h\u001b[38;5;2m✔ Download and installation successful\u001b[0m\n",
            "You can now load the package via spacy.load('en_core_web_md')\n",
            "\u001b[38;5;3m⚠ Restart to reload dependencies\u001b[0m\n",
            "If you are in a Jupyter or Colab notebook, you may need to restart Python in\n",
            "order to load all the package's dependencies. You can do this by selecting the\n",
            "'Restart kernel' or 'Restart runtime' option.\n"
          ]
        }
      ]
    },
    {
      "cell_type": "code",
      "source": [
        "def get_tokens(sentence: str) -> Tuple[List[str], Tensor]:\n",
        "    \"\"\"\n",
        "    Given a sentence, tokenize it (split it into words) with Spacy and\n",
        "    return a list of its words.\n",
        "    \"\"\"\n",
        "    doc = nlp(sentence)\n",
        "    tokens = []\n",
        "    vectors = []\n",
        "    for token in doc:\n",
        "        vectors.append(token.vector)\n",
        "        tokens.append(token)\n",
        "    word_vectors = torch.stack([torch.tensor(t) for t in vectors])\n",
        "\n",
        "    return tokens, word_vectors\n",
        "\n",
        "sentences = [\n",
        "    \"I went to the supermarket and brought groceries back home\",\n",
        "    \"The workers went to the construction site then left early to go home\",\n",
        "    \"The blue sky turned a reddish hue after staring at it long enough\"\n",
        "]\n",
        "\n",
        "# get tokens and embeddings for one of the sentences\n",
        "x = sentences[0]\n",
        "x_tokens, x_embedded = get_tokens(x)\n",
        "print('Tokens for sentence', x_tokens)\n",
        "print('Spacy embedding dim', x_tokens[0].vector.shape)\n",
        "\n",
        "# add batch size\n",
        "x_embedded = x_embedded.unsqueeze(0)\n",
        "print('x embedded shape', x_embedded.shape)"
      ],
      "metadata": {
        "id": "W_UmfXd_tWYj",
        "colab": {
          "base_uri": "https://localhost:8080/"
        },
        "outputId": "fcfffe14-c9e0-4cc5-9db2-7715249785a5"
      },
      "execution_count": null,
      "outputs": [
        {
          "output_type": "stream",
          "name": "stdout",
          "text": [
            "Tokens for sentence [I, went, to, the, supermarket, and, brought, groceries, back, home]\n",
            "Spacy embedding dim (300,)\n",
            "x embedded shape torch.Size([1, 10, 300])\n"
          ]
        }
      ]
    },
    {
      "cell_type": "markdown",
      "source": [
        "## 2. Self-Attention\n",
        "\n",
        "Recap: Self-attention identifies where the relevant features in the sequence are and extracts them, by looking at all the relationships between the tokens $(x_i, x_j)$ in a sequence $[x_1, x_2, x_3, ..., x_T]$.\n",
        "\n",
        "Given input matrix $X \\in \\mathbb{R}^{B \\times T \\times d_{\\text{model}}}$, we want to compute:\n",
        "\\begin{align*}\n",
        "\\text{Attention}(Q, K, V) = \\text{softmax} \\left( \\frac{Q K^\\top}{\\sqrt{d_k}} \\right) V\n",
        "\\end{align*}\n",
        "Where $d_{model}$ is the embedding size, T is the input sequence length, and B is the batch size.\n",
        "\n",
        "In Laboratory 6, we implemented a simplified self-attention mehcanism, in which the keys, queries and values were the input embeddings themselves. However, in the transformer, we compute the Q, K, and V matrices via learned linear projections over the input:\n",
        "\n",
        "\\begin{align*}\n",
        "Q = X W_Q, \\quad K = X W_K, \\quad V = X W_V\n",
        "\\end{align*}\n",
        "\n",
        "Where $Q, K \\in \\mathbb{R}^{B \\times T \\times d_k}$ and $V \\in \\mathbb{R}^{B \\times T \\times d_v}$. We'll use $d_{model} = d_k = d_v$, as in the original transformer."
      ],
      "metadata": {
        "id": "OBdf3ZPVgtoX"
      }
    },
    {
      "cell_type": "code",
      "source": [
        "class SelfAttention(nn.Module):\n",
        "  def __init__(self, d_model, dropout=0.1):\n",
        "    super().__init__()\n",
        "    # embedding dim\n",
        "    self.d_model = d_model\n",
        "    # linear projections\n",
        "    self.q_proj = nn.Linear(d_model, d_model)\n",
        "    self.k_proj = nn.Linear(d_model, d_model)\n",
        "    self.v_proj = nn.Linear(d_model, d_model)\n",
        "\n",
        "    self.softmax = nn.Softmax(dim=-1)\n",
        "\n",
        "    self.out_dropout = nn.Dropout(dropout)\n",
        "    self.score_dropout = nn.Dropout(dropout)\n",
        "  def forward(self, x):\n",
        "    \"\"\"\n",
        "    :param x: input of size batch_size x seq_len x d_model\n",
        "    :returns: output z of size batch_size x seq_len x d_model\n",
        "              attn_scores of size batch_size x seq_len x seq_len\n",
        "    \"\"\"\n",
        "    #TODO: compute queries, keys, and values\n",
        "    q = ...\n",
        "    k = ...\n",
        "    v = ...\n",
        "\n",
        "    # compute attention scores\n",
        "    attn_scores = q @ k.transpose(-2, -1)\n",
        "    attn_scores = attn_scores / (self.d_model ** 0.5)\n",
        "    # normalize attention scores\n",
        "    attn_scores = self.softmax(attn_scores)\n",
        "\n",
        "    attn_scores = self.score_dropout(attn_scores)\n",
        "\n",
        "    # compute attention output\n",
        "    output = attn_scores @ v\n",
        "    output = self.out_dropout(output)\n",
        "    return output, attn_scores"
      ],
      "metadata": {
        "id": "AKvLGwupj1rd"
      },
      "execution_count": null,
      "outputs": []
    },
    {
      "cell_type": "markdown",
      "source": [
        "Great! Let's forward through our Self-Attention module:"
      ],
      "metadata": {
        "id": "JoYBJo7R5z1c"
      }
    },
    {
      "cell_type": "code",
      "source": [
        "D_MODEL = 300 # dim of the spacy embeddings\n",
        "self_attn =  SelfAttention(d_model=D_MODEL).eval()\n",
        "output, attn_scores = self_attn(x_embedded)\n",
        "print(output.shape)"
      ],
      "metadata": {
        "colab": {
          "base_uri": "https://localhost:8080/"
        },
        "id": "NMpBRijR54lC",
        "outputId": "7a9861b5-b71d-4779-8614-758fdcb0cb83"
      },
      "execution_count": null,
      "outputs": [
        {
          "output_type": "stream",
          "name": "stdout",
          "text": [
            "torch.Size([1, 10, 300])\n"
          ]
        }
      ]
    },
    {
      "cell_type": "code",
      "source": [
        "# function to plot attention scores\n",
        "import matplotlib.pyplot as plt\n",
        "import numpy as np\n",
        "def plot_scores(scores, tokens):\n",
        "  fig, ax = plt.subplots()\n",
        "  heatmap = ax.pcolor(scores, cmap=plt.cm.Blues)\n",
        "\n",
        "  # put the major ticks at the middle of each cell\n",
        "  ax.set_xticks(np.arange(scores.shape[1]) + 0.5, minor=False)\n",
        "  ax.set_yticks(np.arange(scores.shape[0]) + 0.5, minor=False)\n",
        "\n",
        "  # without this I get some extra columns rows\n",
        "  # http://stackoverflow.com/questions/31601351/why-does-this-matplotlib-heatmap-have-an-extra-blank-column\n",
        "  ax.set_xlim(0, int(scores.shape[1]))\n",
        "  ax.set_ylim(0, int(scores.shape[0]))\n",
        "\n",
        "  # want a more natural, table-like display\n",
        "  ax.invert_yaxis()\n",
        "  ax.xaxis.tick_top()\n",
        "\n",
        "  # source words -> column labels\n",
        "  ax.set_xticklabels(tokens, minor=False)\n",
        "  # target words -> row labels\n",
        "  ax.set_yticklabels(tokens, minor=False)\n",
        "\n",
        "  plt.xticks(rotation=45)\n",
        "\n",
        "  # plt.tight_layout()\n",
        "  plt.show()\n",
        "\n",
        "tokens = x_tokens\n",
        "plot_scores(attn_scores.detach().squeeze(), tokens)"
      ],
      "metadata": {
        "colab": {
          "base_uri": "https://localhost:8080/",
          "height": 488
        },
        "id": "tEDr5Aih91np",
        "outputId": "465e65af-257e-4772-eed4-662a9a2ea5cc"
      },
      "execution_count": null,
      "outputs": [
        {
          "output_type": "display_data",
          "data": {
            "text/plain": [
              "<Figure size 640x480 with 1 Axes>"
            ],
            "image/png": "[encoded data removed]"
          },
          "metadata": {}
        }
      ]
    },
    {
      "cell_type": "markdown",
      "source": [
        "Usually, attention plots are fairly interpretable, as we saw in Lab 6. However, the linear projections in our module are not trained yet, so noisiness is expected."
      ],
      "metadata": {
        "id": "HXtsc_rHQOyo"
      }
    },
    {
      "cell_type": "markdown",
      "source": [
        "### Masked Self-Attention\n",
        "\n",
        "In some situations, we do not want to compute full self-attention (every token attens to all other tokens) during training.\n",
        "\n",
        "Modern LLMs are trained with the **Causal Language Modeling** objective - at every step, the model predicts the next token, given the previous ones. The model's predictions should therefore only depend on tokens to the left of the current position. We prevent attention from attending to 'the future' by masking the tokens on the right side.\n",
        "\n",
        "The mask is added to attention scores before applying Softmax - elements above the main diagonal are masked with `-inf`.\n",
        "\n",
        "![Attention](https://i.ibb.co/6D0sfJt/attention.png)"
      ],
      "metadata": {
        "id": "myaTpAQkma4x"
      }
    },
    {
      "cell_type": "code",
      "source": [
        "class SelfAttention(nn.Module):\n",
        "  def __init__(self, d_model, dropout=0.1):\n",
        "    super().__init__()\n",
        "    self.d_model = d_model\n",
        "    self.q_proj = nn.Linear(d_model, d_model)\n",
        "    self.k_proj = nn.Linear(d_model, d_model)\n",
        "    self.v_proj = nn.Linear(d_model, d_model)\n",
        "    self.softmax = nn.Softmax(dim=-1)\n",
        "    self.out_dropout = nn.Dropout(dropout)\n",
        "    self.score_dropout = nn.Dropout(dropout)\n",
        "\n",
        "  # let's add an optional mask parameter to the forward pass\n",
        "  def forward(self, x, mask=None):\n",
        "    \"\"\"\n",
        "    :param x: input of size batch_size x seq_len x d_model\n",
        "    :param mask: attn mask of size seq_len x seq_len\n",
        "    :returns: output z of size batch_size x seq_len x d_model\n",
        "              attn_scores of size batch_size x seq_len x seq_len\n",
        "    \"\"\"\n",
        "    #TODO: compute queries, keys, and values\n",
        "    q = ...\n",
        "    k = ...\n",
        "    v = ...\n",
        "\n",
        "    attn_scores = q @ k.transpose(-2, -1)\n",
        "    attn_scores = attn_scores / (self.d_model ** 0.5)\n",
        "    # !! the mask is added to unormalized attention scores\n",
        "    if mask is not None:\n",
        "      attn_scores += mask\n",
        "    # normalize attention scores\n",
        "    # Q: what happens to positions filled with -inf after softmax?\n",
        "    attn_scores = self.softmax(attn_scores)\n",
        "    attn_scores = self.score_dropout(attn_scores)\n",
        "\n",
        "    # compute attention output\n",
        "    output = attn_scores @ v\n",
        "    output = self.out_dropout(output)\n",
        "\n",
        "    return output, attn_scores"
      ],
      "metadata": {
        "id": "M5Ep6y5zWfUX"
      },
      "execution_count": null,
      "outputs": []
    },
    {
      "cell_type": "code",
      "source": [
        "max_sequence_length = x_embedded.shape[1] # T\n",
        "# masked positions are filled with -inf\n",
        "# unmasked positions are filled with 0\n",
        "causal_mask = nn.Transformer.generate_square_subsequent_mask(max_sequence_length)\n",
        "# causal_mask = causal_mask.unsqueeze(0)\n",
        "self_attn = SelfAttention(d_model=D_MODEL).eval()\n",
        "# forward pass through the sequence with causal mask\n",
        "output, attn_scores = self_attn(x_embedded, mask=causal_mask)\n",
        "# plot again, notice any difference?\n",
        "plot_scores(attn_scores.detach().squeeze(), tokens)"
      ],
      "metadata": {
        "colab": {
          "base_uri": "https://localhost:8080/",
          "height": 488
        },
        "id": "4N7O9rjuWzon",
        "outputId": "d24617c1-3460-40ab-ee44-98654f8ff53a"
      },
      "execution_count": null,
      "outputs": [
        {
          "output_type": "display_data",
          "data": {
            "text/plain": [
              "<Figure size 640x480 with 1 Axes>"
            ],
            "image/png": "[encoded data removed]"
          },
          "metadata": {}
        }
      ]
    },
    {
      "cell_type": "markdown",
      "source": [
        "### Multihead Self-Attention (MHA)\n",
        "\n",
        "We now have a full implementation of a **single-head** Self-Attention layer, with the option to mask certain input positions. This module can learn one set of relationships between the elements of sequence `x`. However, there are multiple types of dependencies between words in a sentence, so why stop here?\n",
        "\n",
        "In MHA, for a chosen `num_heads` > 1, Self-Attention is computed `num_heads` times, in parallel. Each head has its own queries, keys, and values, and learns a different subspace. The final output becomes:\n",
        "\n",
        "\\begin{aligned}\n",
        "\\text{MultiHead}(Q, K, V) &= \\text{Concat}(\\text{head}_1, \\dots, \\text{head}_h)W^O \\\\\n",
        "\\text{where} \\quad \\text{head}_i &= \\text{Attention}(QW_i^Q, KW_i^K, VW_i^V) \\\\\n",
        "\\end{aligned}\n",
        "\n",
        "Where  $W^O \\in \\mathbb{R}^{B \\times d_{model} \\times d_{model}}$ is a projection matrix that learns to mix information from all heads.\n",
        "\n",
        "In practice, the embedding dimension `d_model` is typically split into `num_heads` attention heads of size `head_dim = d_model // num_heads`."
      ],
      "metadata": {
        "id": "kIwmjv0ZjjJ9"
      }
    },
    {
      "cell_type": "code",
      "source": [
        "import math\n",
        "class MultiHeadAttention(nn.Module):\n",
        "    def __init__(self, d_model, num_heads, dropout=0.1):\n",
        "      super().__init__()\n",
        "      self.d_model = d_model\n",
        "      self.num_heads = num_heads\n",
        "      # compute head dimension\n",
        "      self.head_dim = d_model // num_heads\n",
        "      # --> d_model = head_dim * num_heads\n",
        "      # so we can still use one linear transformation\n",
        "      # to get q, k, v for all heads in one pass\n",
        "      self.q_proj = nn.Linear(d_model, d_model)\n",
        "      self.k_proj = nn.Linear(d_model, d_model)\n",
        "      self.v_proj = nn.Linear(d_model, d_model)\n",
        "      # output projection to combine heads\n",
        "      self.o_proj = nn.Linear(d_model, d_model)\n",
        "      self.softmax = nn.Softmax(dim=-1)\n",
        "      self.out_dropout = nn.Dropout(dropout)\n",
        "      self.score_dropout = nn.Dropout(dropout)\n",
        "\n",
        "    def forward(self, x, mask=None):\n",
        "      \"\"\"\n",
        "      :param x: input of size batch_size x seq_len x d_model\n",
        "      :param mask: attn mask of size seq_len x seq_len\n",
        "      :returns: output z of size batch_size x seq_len x d_model\n",
        "              attn_scores of size batch_size x num heads x seq_len x seq_len\n",
        "      \"\"\"\n",
        "      #TODO: compute queries, keys, and values\n",
        "      q = ...\n",
        "      k = ...\n",
        "      v = ...\n",
        "\n",
        "      # split qkv into individual heads\n",
        "      bs, seq_len, _ = x.size()\n",
        "      # bs x seq_len x d_model --> bs x num_heads x seq_len x head_dim\n",
        "      q = q.view(bs, seq_len, self.num_heads, self.head_dim).transpose(1, 2)\n",
        "      k = k.view(bs, seq_len, self.num_heads, self.head_dim).transpose(1, 2)\n",
        "      v = v.view(bs, seq_len, self.num_heads, self.head_dim).transpose(1, 2)\n",
        "\n",
        "      # TODO: just good old self-attention\n",
        "      attn_scores = ...\n",
        "      attn_scores = attn_scores / math.sqrt(self.head_dim)\n",
        "      if mask is not None:\n",
        "          attn_scores = ...\n",
        "      # normalize attention scores\n",
        "      attn_scores = ...\n",
        "      attn_scores = self.score_dropout(attn_scores)\n",
        "      # compute output\n",
        "      output = ...\n",
        "\n",
        "      # combine heads\n",
        "      # bs x num_heads x seq_len x head_dim  --> bs x seq_len x d_model\n",
        "      output = output.transpose(1, 2).contiguous()\n",
        "      output = output.view(bs, seq_len, self.head_dim*self.num_heads)\n",
        "\n",
        "      #TODO: apply output projection(wO)\n",
        "      output = ...\n",
        "      output = self.out_dropout(output)\n",
        "\n",
        "      return output, attn_scores"
      ],
      "metadata": {
        "id": "PTfrUYtEMFfJ"
      },
      "execution_count": null,
      "outputs": []
    },
    {
      "cell_type": "code",
      "source": [
        "NUM_HEADS = 6\n",
        "mha = MultiHeadAttention(d_model=D_MODEL, num_heads=NUM_HEADS).eval()\n",
        "output, attn_scores = mha(x_embedded, mask=causal_mask)\n",
        "print(output.shape)\n",
        "print(attn_scores.shape)"
      ],
      "metadata": {
        "colab": {
          "base_uri": "https://localhost:8080/"
        },
        "id": "oxrUmrE1U6uW",
        "outputId": "1d787856-abea-4daf-eb62-78ed39f495a4"
      },
      "execution_count": null,
      "outputs": [
        {
          "output_type": "stream",
          "name": "stdout",
          "text": [
            "torch.Size([1, 10, 300])\n",
            "torch.Size([1, 6, 10, 10])\n"
          ]
        }
      ]
    },
    {
      "cell_type": "markdown",
      "source": [
        "## 3. Wait... what about input positions?\n",
        "\n",
        "To inject positional information about tokens in the sequence, we use [Positional Encoding](https://www.researchgate.net/figure/Positional-encoding-for-the-feature-representations-Top-Sinusoidal-representation-for_fig2_372249718). PE is added to the input embedding.\n",
        "\n",
        "For simplicity, we'll use sinusoidal positional encoding, an absolute PE scheme, in which each dimension corresponds to a sinusoidal wavelength. These wavelengths have different frequencies, so every position gets assigned a combination of $sin$ and $cos$ values."
      ],
      "metadata": {
        "id": "86VIj3yQg82F"
      }
    },
    {
      "cell_type": "code",
      "source": [
        "class PositionalEncoding(nn.Module):\n",
        "    def __init__(self, d_model, dropout=0.1, max_len=5000):\n",
        "        super(PositionalEncoding, self).__init__()\n",
        "        self.dropout = nn.Dropout(p=dropout)\n",
        "\n",
        "        pe = torch.zeros(max_len, d_model)\n",
        "        position = torch.arange(0, max_len).unsqueeze(1).float()\n",
        "        div_term = torch.exp(\n",
        "            torch.arange(0, d_model, 2).float() * -(math.log(10000.0) / d_model)\n",
        "        )\n",
        "        pe[:, 0::2] = torch.sin(position * div_term)\n",
        "        pe[:, 1::2] = torch.cos(position * div_term)\n",
        "        pe = pe.unsqueeze(0)\n",
        "        self.register_buffer(\"pe\", pe)\n",
        "\n",
        "    def forward(self, x):\n",
        "        # embeddings + possitional embeddings\n",
        "        x = x + self.pe[:, :x.size(1)]\n",
        "        return self.dropout(x)"
      ],
      "metadata": {
        "id": "Z7JLG_uRygij"
      },
      "execution_count": null,
      "outputs": []
    },
    {
      "cell_type": "code",
      "source": [
        "# plot some waves\n",
        "pe = PositionalEncoding(d_model=16, max_len=100).eval()\n",
        "pos_encoding = pe.pe[0, :100, :20].detach().numpy()\n",
        "\n",
        "plt.figure(figsize=(12, 6))\n",
        "for i in [4, 5, 6, 7]:\n",
        "    plt.plot(pos_encoding[:, i], label=f'Dim {i}')\n",
        "plt.title(\"Sinusoidal Positional Encodings\")\n",
        "plt.xlabel(\"Position\")\n",
        "plt.ylabel(\"Value\")\n",
        "plt.legend()\n",
        "plt.grid(True)\n",
        "plt.tight_layout()\n",
        "plt.show()"
      ],
      "metadata": {
        "colab": {
          "base_uri": "https://localhost:8080/",
          "height": 607
        },
        "id": "ZrOJZ9vWvhy6",
        "outputId": "97696c04-ab33-4731-976a-82c734cbfefd"
      },
      "execution_count": null,
      "outputs": [
        {
          "output_type": "display_data",
          "data": {
            "text/plain": [
              "<Figure size 1200x600 with 1 Axes>"
            ],
            "image/png": "[encoded data removed]"
          },
          "metadata": {}
        }
      ]
    },
    {
      "cell_type": "code",
      "source": [
        "pe = PositionalEncoding(d_model=D_MODEL).eval()\n",
        "x = x_embedded\n",
        "add_pe = True # TODO: compare attn scores with and without positional embeddings\n",
        "\n",
        "if add_pe:\n",
        "  # it's common practice to scale embeds\n",
        "  # before adding pe\n",
        "  x = pe(x_embedded * (D_MODEL ** 0.5))\n",
        "attn_output, attn_scores = mha(x, mask=causal_mask)\n",
        "head = 3 # TODO: try looking at different attn heads, do they focus on the same tokens?\n",
        "scores = attn_scores[:, head, :, :].squeeze().detach()\n",
        "plot_scores(scores, tokens)"
      ],
      "metadata": {
        "colab": {
          "base_uri": "https://localhost:8080/",
          "height": 488
        },
        "id": "FmtLO7Za8uLE",
        "outputId": "2bfdc1f2-e128-4460-b3f6-57f1e635dd09"
      },
      "execution_count": null,
      "outputs": [
        {
          "output_type": "display_data",
          "data": {
            "text/plain": [
              "<Figure size 640x480 with 1 Axes>"
            ],
            "image/png": "[encoded data removed]"
          },
          "metadata": {}
        }
      ]
    },
    {
      "cell_type": "markdown",
      "source": [
        "## 4. Feed-Forward Network (FFN)\n",
        "\n",
        "After the MultiHeadAttention layer (and after normalization, more on that soon) we process outputs with a Feed-Forward Network (FFN):\n",
        "\n",
        "\\begin{align*}\n",
        "FFN(x) = ReLU(xW_1 + b_1)W_2 + b_2\n",
        "\\end{align*}\n",
        "\n",
        "While attention mixes information from all unmasked tokens in the sequence, the FFN is applied individually to each token, which is why it's sometimes called a *position-wise* FFN."
      ],
      "metadata": {
        "id": "j5gOwrYehVFN"
      }
    },
    {
      "cell_type": "code",
      "source": [
        "class FeedForward(nn.Module):\n",
        "  def __init__(self, d_model, d_ff=None, dropout=0.1):\n",
        "    super().__init__()\n",
        "    self.d_ff = d_ff if d_ff else 4 * d_model\n",
        "    self.w_1 = nn.Linear(d_model, self.d_ff)\n",
        "    self.w_2 = nn.Linear(self.d_ff, d_model)\n",
        "    self.activation = nn.ReLU()\n",
        "    self.dropout = nn.Dropout(dropout)\n",
        "\n",
        "  def forward(self, x):\n",
        "    \"\"\"\n",
        "    :param x: input of size batch_size x seq_len x d_model\n",
        "    :returns: FFN representtions, same shape as input\n",
        "    \"\"\"\n",
        "    #TODO: pass x through the FFN (see equation above)\n",
        "    x = ...\n",
        "    x = self.dropout(x)\n",
        "    return x"
      ],
      "metadata": {
        "id": "E_V3xUTmcC5v"
      },
      "execution_count": null,
      "outputs": []
    },
    {
      "cell_type": "code",
      "source": [
        "ffn = FeedForward(d_model=D_MODEL).eval()\n",
        "dummy_ffn_input = torch.zeros_like(attn_output)\n",
        "output = ffn(dummy_ffn_input)\n",
        "print(output.shape)"
      ],
      "metadata": {
        "id": "VGIlaD4afybC",
        "colab": {
          "base_uri": "https://localhost:8080/"
        },
        "outputId": "f2b8a2c0-c06d-4f87-8033-102e0e0b7c24"
      },
      "execution_count": null,
      "outputs": [
        {
          "output_type": "stream",
          "name": "stdout",
          "text": [
            "torch.Size([1, 10, 300])\n"
          ]
        }
      ]
    },
    {
      "cell_type": "markdown",
      "source": [
        "## 5. Residual connections and LayerNorm\n",
        "\n",
        "We are still missing two key ingredients to link the MHA and FFN components into a transformer layer.\n",
        "\n",
        "*   Residual connections: help prevent vanishing gradients and preserve information across layers, applied to the output of both MHA and FFN\n",
        "*   [LayerNormalization](https://pytorch.org/docs/stable/generated/torch.nn.LayerNorm.html): normalizes along features instead of examples\n",
        "\n",
        "The final flow of an input $X$ through the transformer layer can be defined as:\n",
        "\n",
        "\\begin{align*}\n",
        "X = LayerNorm(X + MultiHeadAttn(X)) \\\\\n",
        "X = LayerNorm(X + FFN(X))\n",
        "\\end{align*}\n",
        "\n",
        "Alternatively, LayerNorm can be applied before the residual connection (common nowadays)."
      ],
      "metadata": {
        "id": "zhAS7w9Fo3V_"
      }
    },
    {
      "cell_type": "code",
      "source": [
        "class TransformerLayer(nn.Module):\n",
        "  def __init__(self, d_model, num_heads, d_ff=None, dropout=0.1):\n",
        "    super().__init__()\n",
        "    self.d_model = d_model\n",
        "    self.mha = MultiHeadAttention(\n",
        "        d_model=d_model,\n",
        "        num_heads=num_heads,\n",
        "        dropout=dropout\n",
        "    )\n",
        "    self.ffn = FeedForward(\n",
        "        d_model=d_model,\n",
        "        d_ff=d_ff,\n",
        "        dropout=dropout\n",
        "    )\n",
        "    #layer norms\n",
        "    self.norm_attn = nn.LayerNorm(d_model)\n",
        "    self.norm_ffn = nn.LayerNorm(d_model)\n",
        "\n",
        "  def forward(self, x, mask=None):\n",
        "    attn_output, attn_scores = self.mha(x, mask)\n",
        "    #TODO: write the residual\n",
        "    x = self.norm_attn(...)\n",
        "    x = self.norm_ffn(...)\n",
        "    return x, attn_scores\n"
      ],
      "metadata": {
        "id": "0F9x3CkwyvbO"
      },
      "execution_count": null,
      "outputs": []
    },
    {
      "cell_type": "code",
      "source": [
        "transformer_layer = TransformerLayer(d_model=D_MODEL, num_heads=NUM_HEADS)\n",
        "x, _ = transformer_layer(x_embedded)\n",
        "print(x.shape)"
      ],
      "metadata": {
        "id": "DUR5Ty7y0LLg",
        "colab": {
          "base_uri": "https://localhost:8080/"
        },
        "outputId": "16b18444-e090-422a-8bad-9e2320259bfa"
      },
      "execution_count": null,
      "outputs": [
        {
          "output_type": "stream",
          "name": "stdout",
          "text": [
            "torch.Size([1, 10, 300])\n"
          ]
        }
      ]
    },
    {
      "cell_type": "markdown",
      "source": [
        "# Language model\n",
        "\n",
        "## Definition\n",
        "A language model is a system that predicts the next token, given the previous ones:\n",
        "$$P(x_t|x_1,...x_{t-1})$$\n",
        "\n",
        "If we know the intermediate probabilities $P(x_1)$, $P(x_2|x_1)$, $P(x_3|x_1, x_2)$, ..., $P(x_t|x_1,...x_{t-1})$ we can compute the joint probability of the whole sequence $x_1, x_2, ..., x_T$.\n",
        "So, a language model can also be seen as a system that computes the probability of a sequence of tokens (words/characters):\n",
        "\n",
        "$$P(x_1, x_2, x_3, ..., x_T)\n",
        "=P(x_1)P(x_2|x_1)P(x_3|x_1,x_2)...P(x_T|x_1,...,x_{T-1})$$\n",
        "$$=P(x_1) \\prod_{t=1}^{T}P(x_t|x_1,...x_{t-1})$$"
      ],
      "metadata": {
        "id": "kZIVASKtjqNn"
      }
    },
    {
      "cell_type": "markdown",
      "source": [
        "## Applications\n",
        "\n",
        " - **speech recognition**: which sentence is more probable?\n",
        "\n",
        ">> $P(recognize, beach) > P(wreck, a, nice, beach)$\n",
        "\n",
        "- **predictive typing**: what's the next most probable word?\n",
        "\n",
        ">> $P(x_t| I, cannot, wait, to, go, to, the)$\n",
        "\n",
        "- **transfer learning**: training a model to solve this task results in the model learning general language features which can transfer to other tasks"
      ],
      "metadata": {
        "id": "brAWjbB3j2vP"
      }
    },
    {
      "cell_type": "markdown",
      "source": [
        "## Transformer LM: overview of the architecture\n",
        "\n",
        "![decoder](https://i.ibb.co/KjTWPFwD/Screenshot-2025-04-09-at-02-46-00.png)\n",
        "\n",
        "The network has the following main components:\n",
        " - an **embedding layer** that converts each token $x_t$ (given as an index) into a token embedding $e_t$:\n",
        "\n",
        "      $7$ -> Embedding layer -> $[0.12, -0.16, ..., 0.43]$\n",
        "       \n",
        "      The token indices that we feed into the network range from 0 to $|V|-1$, where $|V|$ is the size of our vocabulary (how many unique tokens we represent).   \n",
        " - the **transformer**, made up of $K$ stacked `TransformerLayer` (implemented in Part I) layers\n",
        " - a linear **output layer** that transforms the output of the transformer into a vector of probabilities (of size $|V|$).\n",
        "\n",
        " At each position, the probability of the next token is maximized, so all individual tokens end up contributing to the loss. Masked self-attention ensures the model cannot cheat by attending to positions in the future.\n",
        "\n",
        " The unnormalized probabilities are called the *logits* - they'll be the input to the CrossEntropy loss. The entire architecture presented above is often refered to as a *decoder-only transformer*."
      ],
      "metadata": {
        "id": "27_ikTJ_kB41"
      }
    },
    {
      "cell_type": "markdown",
      "source": [
        "# Part II: Training a Transformer Language Model"
      ],
      "metadata": {
        "id": "m8MJburNprL8"
      }
    },
    {
      "cell_type": "markdown",
      "source": [
        "## Step 1: Data preparation\n",
        "We will use a subset of the TinyStories dataset (https://arxiv.org/pdf/2305.07759). It contains synthetic short stories, generated such that the typical 4 year-old could understand them.\n"
      ],
      "metadata": {
        "id": "uO5ThZAhSiw1"
      }
    },
    {
      "cell_type": "code",
      "source": [
        "! pip install datasets"
      ],
      "metadata": {
        "id": "e6HkIXJ6Rqrc",
        "colab": {
          "base_uri": "https://localhost:8080/"
        },
        "outputId": "23e55f36-f9c9-4d09-d741-00416a96545c"
      },
      "execution_count": null,
      "outputs": [
        {
          "output_type": "stream",
          "name": "stdout",
          "text": [
            "Collecting datasets\n",
            "  Downloading datasets-3.5.0-py3-none-any.whl.metadata (19 kB)\n",
            "Requirement already satisfied: filelock in /usr/local/lib/python3.11/dist-packages (from datasets) (3.18.0)\n",
            "Requirement already satisfied: numpy>=1.17 in /usr/local/lib/python3.11/dist-packages (from datasets) (2.0.2)\n",
            "Requirement already satisfied: pyarrow>=15.0.0 in /usr/local/lib/python3.11/dist-packages (from datasets) (18.1.0)\n",
            "Collecting dill<0.3.9,>=0.3.0 (from datasets)\n",
            "  Downloading dill-0.3.8-py3-none-any.whl.metadata (10 kB)\n",
            "Requirement already satisfied: pandas in /usr/local/lib/python3.11/dist-packages (from datasets) (2.2.2)\n",
            "Requirement already satisfied: requests>=2.32.2 in /usr/local/lib/python3.11/dist-packages (from datasets) (2.32.3)\n",
            "Requirement already satisfied: tqdm>=4.66.3 in /usr/local/lib/python3.11/dist-packages (from datasets) (4.67.1)\n",
            "Collecting xxhash (from datasets)\n",
            "  Downloading xxhash-3.5.0-cp311-cp311-manylinux_2_17_x86_64.manylinux2014_x86_64.whl.metadata (12 kB)\n",
            "Collecting multiprocess<0.70.17 (from datasets)\n",
            "  Downloading multiprocess-0.70.16-py311-none-any.whl.metadata (7.2 kB)\n",
            "Collecting fsspec<=2024.12.0,>=2023.1.0 (from fsspec[http]<=2024.12.0,>=2023.1.0->datasets)\n",
            "  Downloading fsspec-2024.12.0-py3-none-any.whl.metadata (11 kB)\n",
            "Requirement already satisfied: aiohttp in /usr/local/lib/python3.11/dist-packages (from datasets) (3.11.15)\n",
            "Requirement already satisfied: huggingface-hub>=0.24.0 in /usr/local/lib/python3.11/dist-packages (from datasets) (0.30.1)\n",
            "Requirement already satisfied: packaging in /usr/local/lib/python3.11/dist-packages (from datasets) (24.2)\n",
            "Requirement already satisfied: pyyaml>=5.1 in /usr/local/lib/python3.11/dist-packages (from datasets) (6.0.2)\n",
            "Requirement already satisfied: aiohappyeyeballs>=2.3.0 in /usr/local/lib/python3.11/dist-packages (from aiohttp->datasets) (2.6.1)\n",
            "Requirement already satisfied: aiosignal>=1.1.2 in /usr/local/lib/python3.11/dist-packages (from aiohttp->datasets) (1.3.2)\n",
            "Requirement already satisfied: attrs>=17.3.0 in /usr/local/lib/python3.11/dist-packages (from aiohttp->datasets) (25.3.0)\n",
            "Requirement already satisfied: frozenlist>=1.1.1 in /usr/local/lib/python3.11/dist-packages (from aiohttp->datasets) (1.5.0)\n",
            "Requirement already satisfied: multidict<7.0,>=4.5 in /usr/local/lib/python3.11/dist-packages (from aiohttp->datasets) (6.2.0)\n",
            "Requirement already satisfied: propcache>=0.2.0 in /usr/local/lib/python3.11/dist-packages (from aiohttp->datasets) (0.3.1)\n",
            "Requirement already satisfied: yarl<2.0,>=1.17.0 in /usr/local/lib/python3.11/dist-packages (from aiohttp->datasets) (1.18.3)\n",
            "Requirement already satisfied: typing-extensions>=3.7.4.3 in /usr/local/lib/python3.11/dist-packages (from huggingface-hub>=0.24.0->datasets) (4.13.1)\n",
            "Requirement already satisfied: charset-normalizer<4,>=2 in /usr/local/lib/python3.11/dist-packages (from requests>=2.32.2->datasets) (3.4.1)\n",
            "Requirement already satisfied: idna<4,>=2.5 in /usr/local/lib/python3.11/dist-packages (from requests>=2.32.2->datasets) (3.10)\n",
            "Requirement already satisfied: urllib3<3,>=1.21.1 in /usr/local/lib/python3.11/dist-packages (from requests>=2.32.2->datasets) (2.3.0)\n",
            "Requirement already satisfied: certifi>=2017.4.17 in /usr/local/lib/python3.11/dist-packages (from requests>=2.32.2->datasets) (2025.1.31)\n",
            "Requirement already satisfied: python-dateutil>=2.8.2 in /usr/local/lib/python3.11/dist-packages (from pandas->datasets) (2.8.2)\n",
            "Requirement already satisfied: pytz>=2020.1 in /usr/local/lib/python3.11/dist-packages (from pandas->datasets) (2025.2)\n",
            "Requirement already satisfied: tzdata>=2022.7 in /usr/local/lib/python3.11/dist-packages (from pandas->datasets) (2025.2)\n",
            "Requirement already satisfied: six>=1.5 in /usr/local/lib/python3.11/dist-packages (from python-dateutil>=2.8.2->pandas->datasets) (1.17.0)\n",
            "Downloading datasets-3.5.0-py3-none-any.whl (491 kB)\n",
            "\u001b[2K   \u001b[90m━━━━━━━━━━━━━━━━━━━━━━━━━━━━━━━━━━━━━━━━\u001b[0m \u001b[32m491.2/491.2 kB\u001b[0m \u001b[31m8.0 MB/s\u001b[0m eta \u001b[36m0:00:00\u001b[0m\n",
            "\u001b[?25hDownloading dill-0.3.8-py3-none-any.whl (116 kB)\n",
            "\u001b[2K   \u001b[90m━━━━━━━━━━━━━━━━━━━━━━━━━━━━━━━━━━━━━━━━\u001b[0m \u001b[32m116.3/116.3 kB\u001b[0m \u001b[31m9.2 MB/s\u001b[0m eta \u001b[36m0:00:00\u001b[0m\n",
            "\u001b[?25hDownloading fsspec-2024.12.0-py3-none-any.whl (183 kB)\n",
            "\u001b[2K   \u001b[90m━━━━━━━━━━━━━━━━━━━━━━━━━━━━━━━━━━━━━━━━\u001b[0m \u001b[32m183.9/183.9 kB\u001b[0m \u001b[31m12.3 MB/s\u001b[0m eta \u001b[36m0:00:00\u001b[0m\n",
            "\u001b[?25hDownloading multiprocess-0.70.16-py311-none-any.whl (143 kB)\n",
            "\u001b[2K   \u001b[90m━━━━━━━━━━━━━━━━━━━━━━━━━━━━━━━━━━━━━━━━\u001b[0m \u001b[32m143.5/143.5 kB\u001b[0m \u001b[31m9.9 MB/s\u001b[0m eta \u001b[36m0:00:00\u001b[0m\n",
            "\u001b[?25hDownloading xxhash-3.5.0-cp311-cp311-manylinux_2_17_x86_64.manylinux2014_x86_64.whl (194 kB)\n",
            "\u001b[2K   \u001b[90m━━━━━━━━━━━━━━━━━━━━━━━━━━━━━━━━━━━━━━━━\u001b[0m \u001b[32m194.8/194.8 kB\u001b[0m \u001b[31m13.0 MB/s\u001b[0m eta \u001b[36m0:00:00\u001b[0m\n",
            "\u001b[?25hInstalling collected packages: xxhash, fsspec, dill, multiprocess, datasets\n",
            "  Attempting uninstall: fsspec\n",
            "    Found existing installation: fsspec 2025.3.2\n",
            "    Uninstalling fsspec-2025.3.2:\n",
            "      Successfully uninstalled fsspec-2025.3.2\n",
            "\u001b[31mERROR: pip's dependency resolver does not currently take into account all the packages that are installed. This behaviour is the source of the following dependency conflicts.\n",
            "gcsfs 2025.3.2 requires fsspec==2025.3.2, but you have fsspec 2024.12.0 which is incompatible.\n",
            "torch 2.6.0+cu124 requires nvidia-cublas-cu12==12.4.5.8; platform_system == \"Linux\" and platform_machine == \"x86_64\", but you have nvidia-cublas-cu12 12.5.3.2 which is incompatible.\n",
            "torch 2.6.0+cu124 requires nvidia-cuda-cupti-cu12==12.4.127; platform_system == \"Linux\" and platform_machine == \"x86_64\", but you have nvidia-cuda-cupti-cu12 12.5.82 which is incompatible.\n",
            "torch 2.6.0+cu124 requires nvidia-cuda-nvrtc-cu12==12.4.127; platform_system == \"Linux\" and platform_machine == \"x86_64\", but you have nvidia-cuda-nvrtc-cu12 12.5.82 which is incompatible.\n",
            "torch 2.6.0+cu124 requires nvidia-cuda-runtime-cu12==12.4.127; platform_system == \"Linux\" and platform_machine == \"x86_64\", but you have nvidia-cuda-runtime-cu12 12.5.82 which is incompatible.\n",
            "torch 2.6.0+cu124 requires nvidia-cudnn-cu12==9.1.0.70; platform_system == \"Linux\" and platform_machine == \"x86_64\", but you have nvidia-cudnn-cu12 9.3.0.75 which is incompatible.\n",
            "torch 2.6.0+cu124 requires nvidia-cufft-cu12==11.2.1.3; platform_system == \"Linux\" and platform_machine == \"x86_64\", but you have nvidia-cufft-cu12 11.2.3.61 which is incompatible.\n",
            "torch 2.6.0+cu124 requires nvidia-curand-cu12==10.3.5.147; platform_system == \"Linux\" and platform_machine == \"x86_64\", but you have nvidia-curand-cu12 10.3.6.82 which is incompatible.\n",
            "torch 2.6.0+cu124 requires nvidia-cusolver-cu12==11.6.1.9; platform_system == \"Linux\" and platform_machine == \"x86_64\", but you have nvidia-cusolver-cu12 11.6.3.83 which is incompatible.\n",
            "torch 2.6.0+cu124 requires nvidia-cusparse-cu12==12.3.1.170; platform_system == \"Linux\" and platform_machine == \"x86_64\", but you have nvidia-cusparse-cu12 12.5.1.3 which is incompatible.\n",
            "torch 2.6.0+cu124 requires nvidia-nvjitlink-cu12==12.4.127; platform_system == \"Linux\" and platform_machine == \"x86_64\", but you have nvidia-nvjitlink-cu12 12.5.82 which is incompatible.\u001b[0m\u001b[31m\n",
            "\u001b[0mSuccessfully installed datasets-3.5.0 dill-0.3.8 fsspec-2024.12.0 multiprocess-0.70.16 xxhash-3.5.0\n"
          ]
        }
      ]
    },
    {
      "cell_type": "code",
      "source": [
        "MAX_LENGTH = 250\n",
        "BATCH_SIZE = 32"
      ],
      "metadata": {
        "id": "jG3Uyad4Qvap"
      },
      "execution_count": null,
      "outputs": []
    },
    {
      "cell_type": "code",
      "source": [
        "from datasets import load_dataset\n",
        "data = load_dataset(\"roneneldan/TinyStories\")\n",
        "train_stories = data['train']['text'][:10000]\n",
        "val_stories = data['validation']['text'][:10000]\n",
        "print(train_stories[0])"
      ],
      "metadata": {
        "colab": {
          "base_uri": "https://localhost:8080/",
          "height": 351,
          "referenced_widgets": [
            "13da5186011f489b83c3f00105da3912",
            "1cf60348a1204eb5a2a913d7c95ebbb8",
            "fb8c8cfa7f4c48e898c20009adc8d490",
            "41c9bd3e86334a408df8e855eeb44d04",
            "40c851a33a244aa0a08181bb63ab3929",
            "b206d546b2e34e1d895574586918e433",
            "db79c9a0e5754861beca60dd34faa1b7",
            "743b4b42b2de4f16b8f6556b628a36c1",
            "f6b66c4b80424cedadeeb1d163aad770",
            "59fd9420a0ac4590969f6aff91baaa1d",
            "577e313c51184e0888c6420afa78d1db",
            "36b1d0f75b4d499c92668ca78830fd82",
            "b5445e869cda4bb4861656f07890e154",
            "4a1ab3d6026f4c74b73fea19b55b4a6d",
            "b3c8186522114f65b9eab6038b2f6f66",
            "9d56da23fdbe47299e2834fe5d8ca64f",
            "4b91fa1c5a1b46eeb7cb6c65fc6fca42",
            "7b753bac795147d99b2c7d4e7bc8d287",
            "90f455428a174aa6be2a546e5a63ed10",
            "4223648a5f8c4727a52e0e660070b206",
            "e5968fd4751f456ea52f4cd2da99323c",
            "337e1b1b5e104fe884188639eddcb06b",
            "6bb3b3ada5ba4b21b062a328d27ed8e7",
            "d918bc6da9ad497d9eef04504f6ce9d1",
            "0c22df30cd0642fe8769a6a793aabb90",
            "03396624df134779ac05e9f0a9060432",
            "444e94edb20345fbb1c7be38d115b5a3",
            "3866ecc9f16244c7a22ca4da8a0a999b",
            "5017a1c3b8a04bc9a0a9c93ff9e7b8c3",
            "7fee736ca4fc4f3da8c82e624e0e2b0f",
            "40c56960132641328906291bb38a354a",
            "ef6a9844975146d19475b699ac86d787",
            "ab2acd58c7764265b211fe9087218af6",
            "71a3405910db4303b19e0394cd143dec",
            "b691fa22d5574db7989a3c7c928d7213",
            "e4190779dcc34aa58356f304cbb1d836",
            "16cd0ae0e5f643ab9c84b6f9c3e82e68",
            "717a41c5ecbe409eb2806621dc108663",
            "f8357cceecf740a09399499a7528e776",
            "638f71e0d00645a5a5fd60629c6dab29",
            "22a9558cedfd4d0da16e359fac91162d",
            "19b5d9afcc0647cebda2981564efd173",
            "72829f28e44b47b9abe7d7d9cd1e977a",
            "aa3f9eaf2ae74467ba1b1a18b3d6da32",
            "fd5610b619a748c687686c5e8f3bc784",
            "47340cb6e29c4c6e982d2218921049b1",
            "5ecf151c9a0947f7af7eab6121f1a1b7",
            "fdc5ccaf44f04bc2a88e3995d785123f",
            "0a4d002458094e08a39473819a8c07c7",
            "51b7eeb8ed5a4fdcaa10cf4b36218cbc",
            "31d58a0f13b54e3d842fb60e03b298d2",
            "30685ae412f047f3a5e95adf958c606d",
            "61a346202fbd4dd99633c3a20a12de0b",
            "8f2bc43ba4b64873aec221f247727459",
            "37f5e37849504613b027b14a534dbc06",
            "0d59910529b14518a9897089034f0f13",
            "0f1cf4eb81ad48c29497bfbb879e69a9",
            "ba3c902987d248b2b23782eec5f0da4d",
            "e1ce1010ce0f4162a6fc6dd41fbea3bc",
            "b78bce8b3a554e569ac88d517862129d",
            "8f950b1588144bd98b7c7c3045f147a7",
            "9f6038cd18dd4064b7a3a6071b6c98c2",
            "a75a5946dcb24fb1b01438da574510e4",
            "739c63d2414445618aee28dd57801976",
            "72c1c25d577b4dfc9dc2e8dde339ecf0",
            "dbf586cb9d6242a8934ff1f42e098602",
            "d82b4c80c7154cb2a653eda3b2e9a1d6",
            "90d9c8e5e5954c5082d768e4101aeded",
            "af14b33d169b41209e43dbd0656ca7cc",
            "23a15c04891f4daea2304cecf0e3a708",
            "50a6d3ebc4184824b11053417b143918",
            "3834d660469a4d7d8c6d99bb68d2d47b",
            "e67edf534133433896f3608515bd8fa9",
            "7c12ddd9877f4e4896e93405042cf09a",
            "869de8e65c6f406a8ef9a9b5676b3658",
            "4f66bf97c7b342bd9ff1acd54e905a64",
            "8364a24be75a476d8c1dc68a6fffcf9b"
          ]
        },
        "id": "AVAJ4oWbWjJh",
        "outputId": "a3845b31-a8d7-4bdf-dce1-865ff1df8f99"
      },
      "execution_count": null,
      "outputs": [
        {
          "output_type": "stream",
          "name": "stderr",
          "text": [
            "/usr/local/lib/python3.11/dist-packages/huggingface_hub/utils/_auth.py:94: UserWarning: \n",
            "The secret `HF_TOKEN` does not exist in your Colab secrets.\n",
            "To authenticate with the Hugging Face Hub, create a token in your settings tab (https://huggingface.co/settings/tokens), set it as secret in your Google Colab and restart your session.\n",
            "You will be able to reuse this secret in all of your notebooks.\n",
            "Please note that authentication is recommended but still optional to access public models or datasets.\n",
            "  warnings.warn(\n"
          ]
        },
        {
          "output_type": "display_data",
          "data": {
            "text/plain": [
              "README.md:   0%|          | 0.00/1.06k [00:00<?, ?B/s]"
            ],
            "application/vnd.jupyter.widget-view+json": {
              "version_major": 2,
              "version_minor": 0,
              "model_id": "13da5186011f489b83c3f00105da3912"
            }
          },
          "metadata": {}
        },
        {
          "output_type": "display_data",
          "data": {
            "text/plain": [
              "(…)-00000-of-00004-2d5a1467fff1081b.parquet:   0%|          | 0.00/249M [00:00<?, ?B/s]"
            ],
            "application/vnd.jupyter.widget-view+json": {
              "version_major": 2,
              "version_minor": 0,
              "model_id": "36b1d0f75b4d499c92668ca78830fd82"
            }
          },
          "metadata": {}
        },
        {
          "output_type": "display_data",
          "data": {
            "text/plain": [
              "(…)-00001-of-00004-5852b56a2bd28fd9.parquet:   0%|          | 0.00/248M [00:00<?, ?B/s]"
            ],
            "application/vnd.jupyter.widget-view+json": {
              "version_major": 2,
              "version_minor": 0,
              "model_id": "6bb3b3ada5ba4b21b062a328d27ed8e7"
            }
          },
          "metadata": {}
        },
        {
          "output_type": "display_data",
          "data": {
            "text/plain": [
              "(…)-00002-of-00004-a26307300439e943.parquet:   0%|          | 0.00/246M [00:00<?, ?B/s]"
            ],
            "application/vnd.jupyter.widget-view+json": {
              "version_major": 2,
              "version_minor": 0,
              "model_id": "71a3405910db4303b19e0394cd143dec"
            }
          },
          "metadata": {}
        },
        {
          "output_type": "display_data",
          "data": {
            "text/plain": [
              "(…)-00003-of-00004-d243063613e5a057.parquet:   0%|          | 0.00/248M [00:00<?, ?B/s]"
            ],
            "application/vnd.jupyter.widget-view+json": {
              "version_major": 2,
              "version_minor": 0,
              "model_id": "fd5610b619a748c687686c5e8f3bc784"
            }
          },
          "metadata": {}
        },
        {
          "output_type": "display_data",
          "data": {
            "text/plain": [
              "(…)-00000-of-00001-869c898b519ad725.parquet:   0%|          | 0.00/9.99M [00:00<?, ?B/s]"
            ],
            "application/vnd.jupyter.widget-view+json": {
              "version_major": 2,
              "version_minor": 0,
              "model_id": "0d59910529b14518a9897089034f0f13"
            }
          },
          "metadata": {}
        },
        {
          "output_type": "display_data",
          "data": {
            "text/plain": [
              "Generating train split:   0%|          | 0/2119719 [00:00<?, ? examples/s]"
            ],
            "application/vnd.jupyter.widget-view+json": {
              "version_major": 2,
              "version_minor": 0,
              "model_id": "d82b4c80c7154cb2a653eda3b2e9a1d6"
            }
          },
          "metadata": {}
        }
      ]
    },
    {
      "cell_type": "code",
      "source": [
        "import re\n",
        "import string\n",
        "\n",
        "def clean_text(text):\n",
        "    # this dataset has the occasional weird character\n",
        "    allowed_chars = string.ascii_letters + string.punctuation + ' ' + '\\n'\n",
        "    return ''.join(c for c in text if c in allowed_chars)\n",
        "\n",
        "train_stories = [clean_text(story) for story in train_stories]\n",
        "val_stories = [clean_text(story) for story in val_stories]"
      ],
      "metadata": {
        "id": "z8L_igjcsBCZ"
      },
      "execution_count": null,
      "outputs": []
    },
    {
      "cell_type": "markdown",
      "source": [
        "### Text representation\n",
        "\n",
        "Let us define V = {'token0', 'token1', ..., 'token_|V|'}  as the set of all unique tokens that appear in our text. This is called the **vocabulary**.\n",
        "\n",
        "Each token is stored as an index that ranges from 0 to |V|-1 (e.g. 'token0'->0, 'token1'->1 etc.)\n",
        "\n",
        "The Vocabulary class below creates the **token->index** and **index->token** mappings, given a text."
      ],
      "metadata": {
        "id": "2Zk0Eyptlffe"
      }
    },
    {
      "cell_type": "code",
      "source": [
        "import re\n",
        "# note: this is a toy tokenizer for our very small scale experiment\n",
        "# see BPE https://huggingface.co/learn/llm-course/chapter6/5\n",
        "# to understand how pretrained tokenizers are typically obtained\n",
        "\n",
        "def tokenize(text):\n",
        "    # we consider to be invididual tokens:\n",
        "    # - words\n",
        "    # - individual punctuation characters\n",
        "    # - whitespace - new lines, spaces etc\n",
        "    pattern = r'\\w+|[^\\w\\s]|\\s'\n",
        "    return re.findall(pattern, text)"
      ],
      "metadata": {
        "id": "XcWe52ji4MFr"
      },
      "execution_count": null,
      "outputs": []
    },
    {
      "cell_type": "code",
      "source": [
        "class Vocabulary:\n",
        "    \"\"\"\n",
        "    Helper class that maps words to unique indices and the other way around\n",
        "    \"\"\"\n",
        "    def __init__(self, samples: List[str]):\n",
        "        vocabulary = set()\n",
        "        for sample in samples:\n",
        "          tokens = tokenize(sample)\n",
        "          vocabulary.update(tokens)\n",
        "\n",
        "        self.token_to_idx = {token:idx for (idx, token)\n",
        "                            in enumerate(vocabulary)}\n",
        "        self.idx_to_token = {idx:token for (idx, token)\n",
        "                            in enumerate(vocabulary)}\n",
        "\n",
        "    def size(self):\n",
        "        return len(self.token_to_idx)\n",
        "\n",
        "    def __str__(self):\n",
        "        return str(self.token_to_idx)\n",
        "\n",
        "vocab = Vocabulary(train_stories + val_stories)\n",
        "print(\"Vocabulary size: \", vocab.size())\n",
        "print(\"Vocabulary: \\n\", vocab)"
      ],
      "metadata": {
        "id": "EGboRa8tlkmL"
      },
      "execution_count": null,
      "outputs": []
    },
    {
      "cell_type": "markdown",
      "source": [
        "**TODO**: Write the text_to_tensor and tensor_to_text functions below. Check that a text is correctly encoded and decoded back."
      ],
      "metadata": {
        "id": "WotTxEpJsfun"
      }
    },
    {
      "cell_type": "code",
      "source": [
        "def text_to_tensor(text: str, vocab: Vocabulary) -> torch.LongTensor:\n",
        "    \"\"\"\n",
        "    Convert a string to a Tensor with corresponding character indices\n",
        "    e.g. \"We have\" -> [48, 13]\n",
        "    \"\"\"\n",
        "    #TODO\n",
        "\n",
        "def tensor_to_text(x: torch.LongTensor, vocab: Vocabulary) -> str:\n",
        "    \"\"\"\n",
        "    Convert a Tensor of token indices to its string representation\n",
        "    e.g. [48, 13] -> \"We have\"\n",
        "    \"\"\"\n",
        "    #TODO"
      ],
      "metadata": {
        "id": "6jObJY6-nrtx"
      },
      "execution_count": null,
      "outputs": []
    },
    {
      "cell_type": "code",
      "source": [
        "original_text = train_stories[1]\n",
        "token_ids = text_to_tensor(original_text, vocab)\n",
        "decoded_text = tensor_to_text(token_ids, vocab)\n",
        "assert original_text == decoded_text, \"Not the same text as the original\""
      ],
      "metadata": {
        "id": "Dh7ml4TyuqBU"
      },
      "execution_count": null,
      "outputs": []
    },
    {
      "cell_type": "markdown",
      "source": [
        "### The Embedding layer\n",
        "\n",
        "We can now map each token in our dataset to an unique index, from 0 to $|V| -1$. Next, we want to represent each token as a dense vector (word embedding).\n",
        "  \n",
        "We can store the embeddings as rows in an embedding matrix W. The matrix W has size $|V| \\times d_{model}$ ($d_{model}$ = size of the embedding).\n",
        "\n",
        "The **Embedding** layer in PyTorch is a wrapper over W (https://pytorch.org/docs/stable/nn.html?highlight=embedding#torch.nn.Embedding) that receives a scalar **i** and returns the **i-th** row of W.\n",
        "By default, the embedding layer is initialized with random weights. These are updated during task specific training, as we're about to do.\n",
        "\n",
        "Let's define an embedding layer."
      ],
      "metadata": {
        "id": "VvWhGCVSfKO7"
      }
    },
    {
      "cell_type": "code",
      "source": [
        "token_idx = torch.LongTensor([7]) # we want the token at index 7\n",
        "\n",
        "# create an Embedding layer that outputs vectors of size 512;\n",
        "# behind the scenes, this is just a weight matrix of size vocab_size x 512\n",
        "embedding_layer = nn.Embedding(vocab.size(), 512)\n",
        "\n",
        "# this is the actual weight matrix\n",
        "W = embedding_layer.weight\n",
        "print(\"Embedding matrix size: \", W.size())\n",
        "\n",
        "# the embedding layer receives an index and returns the corresponding row at\n",
        "# that index in the weight matrix\n",
        "token_embedding = embedding_layer(token_idx).squeeze()\n",
        "print(\"Token embedding size: \", token_embedding.size())\n",
        "\n",
        "# this layer returns 7th row in the matrix as output\n",
        "# let's check this\n",
        "if token_embedding.equal(W[token_idx].squeeze()):\n",
        "    print(\"Same embedding\")"
      ],
      "metadata": {
        "id": "GpKeDHRahdaP"
      },
      "execution_count": null,
      "outputs": []
    },
    {
      "cell_type": "markdown",
      "source": [
        "### Prepare batches"
      ],
      "metadata": {
        "id": "P3DZgo06yiOx"
      }
    },
    {
      "cell_type": "code",
      "source": [
        "BATCH_SIZE = 32\n",
        "MAX_LENGTH = 250"
      ],
      "metadata": {
        "id": "rXNJBEisg5F3"
      },
      "execution_count": null,
      "outputs": []
    },
    {
      "cell_type": "code",
      "source": [
        "def get_sequences(stories, vocab, max_length=250):\n",
        "  \"\"\"\n",
        "  splits the text in the dataset\n",
        "  into a list of smaller sequences\n",
        "  \"\"\"\n",
        "  sequences = []\n",
        "  for story in stories:\n",
        "    tokens = text_to_tensor(story, vocab) # convert to token ids\n",
        "    # divides into chunks of max_length + 1\n",
        "    # + 1 because we'll lose one token when we build input/label pairs\n",
        "    # anything shorter than max_length is discarded\n",
        "    chunks = [tokens[i:i+max_length+1] for i in range(0, len(tokens) - len(tokens) % (max_length+1), max_length+1)]\n",
        "    sequences.extend(chunks)\n",
        "  return sequences\n",
        "\n",
        "train_sequences = get_sequences(train_stories, vocab, max_length=MAX_LENGTH)\n",
        "val_sequences = get_sequences(val_stories, vocab)\n",
        "print('Train sequences: ', len(train_sequences))\n",
        "print('Total training tokens', len(train_sequences) * MAX_LENGTH)"
      ],
      "metadata": {
        "id": "mh9XmpvOysd9"
      },
      "execution_count": null,
      "outputs": []
    },
    {
      "cell_type": "code",
      "source": [
        "from torch.utils.data import Dataset, DataLoader\n",
        "class StoriesDataset(Dataset):\n",
        "    def __init__(self, sequences):\n",
        "        self.data = sequences\n",
        "\n",
        "    def __len__(self):\n",
        "        return len(self.data)\n",
        "\n",
        "    def __getitem__(self, idx):\n",
        "        # list of length MAX_LEN\n",
        "        # containing token ids\n",
        "        sequence = self.data[idx]\n",
        "        x = torch.LongTensor(sequence)\n",
        "        input = x[:-1]\n",
        "        label = x[1:] # shift to the right\n",
        "        return input, label\n",
        "\n",
        "# build datasets and dataloaders\n",
        "train_dataset = StoriesDataset(train_sequences)\n",
        "val_dataset = StoriesDataset(val_sequences)\n",
        "train_loader = DataLoader(train_dataset, batch_size=BATCH_SIZE)\n",
        "val_loader = DataLoader(val_dataset, batch_size=BATCH_SIZE)"
      ],
      "metadata": {
        "id": "U7PHGzn55wmU"
      },
      "execution_count": null,
      "outputs": []
    },
    {
      "cell_type": "code",
      "source": [
        "(x, y) = next(iter(train_loader))\n",
        "print('Batch input shape', x.shape)\n",
        "print('Batch label shape', y.shape)\n",
        "input, output = x[3, :], y[3, :]\n",
        "print('-----Input --> text-----\\n')\n",
        "print(tensor_to_text(input, vocab))\n",
        "print('-----Label --> text-----\\n')\n",
        "print(tensor_to_text(output, vocab))"
      ],
      "metadata": {
        "id": "bovfHwFo590W"
      },
      "execution_count": null,
      "outputs": []
    },
    {
      "cell_type": "markdown",
      "source": [
        "## Step 2: Setup Architecture"
      ],
      "metadata": {
        "id": "0AB5eXwq9gIy"
      }
    },
    {
      "cell_type": "code",
      "source": [
        "############################## PARAMETERS ######################################\n",
        "_hyperparameters_dict = {\n",
        "    \"batch_size\": BATCH_SIZE, # =32\n",
        "    \"num_epochs\": 3,\n",
        "    \"max_len\": MAX_LENGTH, # =250\n",
        "    \"embedding_size\": 512,\n",
        "    \"learning_algo\": \"adam\",\n",
        "    \"learning_rate\": 1e-4,\n",
        "    \"max_grad_norm\": 5.0,\n",
        "    \"num_layers\": 6\n",
        "}\n",
        "device = 'cuda' if torch.cuda.is_available() else 'cpu'"
      ],
      "metadata": {
        "id": "EmJIrPG5gVXx"
      },
      "execution_count": null,
      "outputs": []
    },
    {
      "cell_type": "code",
      "source": [
        "class TransformerLM(nn.Module):\n",
        "    def __init__(self, vocab_size: int, d_model: int,\n",
        "                 dropout_p: float, seq_len: int, num_layers: int):\n",
        "        super().__init__()\n",
        "        self.name = 'transformer'\n",
        "        self.vocab_size = vocab_size\n",
        "        self.d_model = d_model\n",
        "        self.dropout = nn.Dropout(dropout_p)\n",
        "        self.seq_len = seq_len\n",
        "        self.num_layers = num_layers\n",
        "        self.norm = nn.LayerNorm(d_model)\n",
        "\n",
        "        # TODO: instantiate Modules with the correct arguments\n",
        "        self.embedding = nn.Embedding(...)\n",
        "\n",
        "        self.positional_encoding = PositionalEncoding(\n",
        "            ...\n",
        "        )\n",
        "\n",
        "        # stack num_layers transformer layers\n",
        "        self.transformer = nn.ModuleList([\n",
        "            TransformerLayer(d_model=d_model,\n",
        "            num_heads=8,\n",
        "            dropout=dropout_p)\n",
        "            for _ in range(num_layers)\n",
        "        ])\n",
        "\n",
        "        # instantiate the output layer\n",
        "        self.output_layer = nn.Linear(\n",
        "            ...\n",
        "        )\n",
        "\n",
        "        # https://paperswithcode.com/method/weight-tying\n",
        "        self.embedding.weight = self.output_layer.weight\n",
        "\n",
        "    def forward(self, x: torch.LongTensor) -> torch.FloatTensor:\n",
        "        \"\"\"\n",
        "        :param x: input of size batch_size x max_len\n",
        "        :return: logits of size batch_size x seq_len x vocab_size\n",
        "        \"\"\"\n",
        "        seq_len = x.size(1)\n",
        "        # compute embeddings, then multiply them by sqrt(d_model)\n",
        "        x = ...\n",
        "        # add positional_encodings\n",
        "        x = self.positional_encoding(x)\n",
        "\n",
        "        # generate a causal mask for the sequence\n",
        "        # masked positions are filled with -inf\n",
        "        mask = nn.Transformer.generate_square_subsequent_mask(seq_len).to(device)\n",
        "\n",
        "        for layer in self.transformer:\n",
        "          x, attn_scores = layer(x, mask=mask)\n",
        "\n",
        "        # apply layernorm to final transformer output\n",
        "        x = self.norm(x)\n",
        "\n",
        "        # output layer\n",
        "        logits = ...\n",
        "\n",
        "        return logits"
      ],
      "metadata": {
        "id": "_PO9WGV_hG5p"
      },
      "execution_count": null,
      "outputs": []
    },
    {
      "cell_type": "code",
      "source": [
        "x = torch.randint(0, vocab.size(), (1, MAX_LENGTH)).to(device)\n",
        "model = TransformerLM(\n",
        "    d_model = _hyperparameters_dict[\"embedding_size\"],\n",
        "    seq_len = _hyperparameters_dict[\"max_len\"],\n",
        "    num_layers = 6,\n",
        "    dropout_p = 0.1,\n",
        "    vocab_size = vocab.size()\n",
        ").to(device)\n",
        "output = model(x)\n",
        "print(output.shape)"
      ],
      "metadata": {
        "id": "UQ4R1AUJtemO"
      },
      "execution_count": null,
      "outputs": []
    },
    {
      "cell_type": "code",
      "source": [
        "print(model)"
      ],
      "metadata": {
        "id": "NXb8pMHUY-RR"
      },
      "execution_count": null,
      "outputs": []
    },
    {
      "cell_type": "code",
      "source": [
        "trainable_params = sum(p.numel() for p in model.parameters() if p.requires_grad)\n",
        "print('Trainable params', trainable_params)"
      ],
      "metadata": {
        "id": "2-ob7wlBY_Tw"
      },
      "execution_count": null,
      "outputs": []
    },
    {
      "cell_type": "markdown",
      "source": [
        "## Step 3: Setup training loop"
      ],
      "metadata": {
        "id": "0t18em8Typ_t"
      }
    },
    {
      "cell_type": "code",
      "source": [
        "from torch.optim import SGD, Adam\n",
        "\n",
        "class Trainer:\n",
        "    def __init__(self, model: nn.Module,\n",
        "                 train_loader: DataLoader,\n",
        "                 val_loader: DataLoader,\n",
        "                 vocab: Vocabulary,\n",
        "                 hyperparams: dict,\n",
        "                 num_train_examples: int,\n",
        "                 num_val_examples: int):\n",
        "        self.model = model\n",
        "        self.train_loader = train_loader\n",
        "        self.val_loader = val_loader\n",
        "        self.vocab = vocab\n",
        "        self.optimizer = Adam(params = self.model.parameters(),\n",
        "                              lr = hyperparams['learning_rate'])\n",
        "        self.num_epochs = hyperparams['num_epochs']\n",
        "        self.max_len = hyperparams['max_len']\n",
        "        self.batch_size = hyperparams['batch_size']\n",
        "        self.max_grad_norm = hyperparams['max_grad_norm']\n",
        "        self.num_train_examples = num_train_examples\n",
        "        self.num_val_examples = num_val_examples\n",
        "        # loss for output layer\n",
        "        self.loss_fn = nn.CrossEntropyLoss()\n",
        "\n",
        "\n",
        "    def train_epoch(self, epoch_num: int) -> float:\n",
        "        \"\"\"\n",
        "        Compute the loss on the training set\n",
        "        :param epoch_num: number of current epoch\n",
        "        \"\"\"\n",
        "        self.model.train()\n",
        "        epoch_loss = 0.0\n",
        "        for batch_num, (x, y) in enumerate(train_loader):\n",
        "\n",
        "            # batch_size x sequence_length\n",
        "            x, y = x.to(device), y.to(device)\n",
        "            # reset gradients\n",
        "            self.optimizer.zero_grad()\n",
        "\n",
        "            # unnormalized probabilities\n",
        "            # batch x sequence_length x vocab_size\n",
        "            logits = self.model(x)\n",
        "\n",
        "            # TODO: compute loss\n",
        "            # remember, we are making next token predictions over the vocab\n",
        "            # for each token in the sequence, for each sequence in the batch\n",
        "            # !! so we need to flatten the first two dimensions before cross entropy\n",
        "            logits = logits.view(...)\n",
        "            y = y.view(...)\n",
        "            batch_loss = self.loss_fn(..., ...)\n",
        "            epoch_loss += batch_loss.item()\n",
        "\n",
        "            # backpropagation (gradient of loss wrt parameters)\n",
        "            batch_loss.backward()\n",
        "\n",
        "            # clip gradients if they get too large\n",
        "            torch.nn.utils.clip_grad_norm_(list(self.model.parameters()),\n",
        "                                           self.max_grad_norm)\n",
        "\n",
        "            # update parameters\n",
        "            self.optimizer.step()\n",
        "\n",
        "            if batch_num % 100 == 0:\n",
        "                print(\"epoch %d, %d/%d examples, batch loss = %f\"\n",
        "                      % (epoch_num, (batch_num + 1) * self.batch_size,\n",
        "                         self.num_train_examples, batch_loss.item()))\n",
        "        epoch_loss /= (batch_num + 1)\n",
        "\n",
        "        return epoch_loss\n",
        "\n",
        "    def eval_epoch(self, epoch_num: int) -> float:\n",
        "        \"\"\"\n",
        "        Compute the loss on the validation set\n",
        "        :param epoch_num: number of current epoch\n",
        "        \"\"\"\n",
        "        epoch_loss = 0.0\n",
        "        self.model.eval()\n",
        "        with torch.no_grad():\n",
        "            for batch_num, (x, y) in enumerate(val_loader):\n",
        "\n",
        "                x, y = x.to(device), y.to(device)\n",
        "                #batch x timesteps x vocab_size\n",
        "                logits = self.model(x)\n",
        "\n",
        "                # TODO: compute loss\n",
        "                # remember, we are making next token predictions over the vocab\n",
        "                # for each token in the sequence, for each sequence in the batch\n",
        "                # !! so we need to flatten the first two dimensions before cross entropy\n",
        "                logits = logits.view(...)\n",
        "                y = y.view(...)\n",
        "                batch_loss = self.loss_fn(..., ...)\n",
        "\n",
        "                epoch_loss += batch_loss.item()\n",
        "                epoch_loss += batch_loss.item()\n",
        "\n",
        "            epoch_loss /= (batch_num + 1)\n",
        "\n",
        "        return epoch_loss\n",
        "\n",
        "    def train(self) -> dict:\n",
        "        train_losses, val_losses = [], []\n",
        "        for epoch in range(self.num_epochs):\n",
        "            epoch_train_loss = self.train_epoch(epoch)\n",
        "            epoch_val_loss = self.eval_epoch(epoch)\n",
        "            train_losses.append(epoch_train_loss)\n",
        "            val_losses.append(epoch_val_loss)\n",
        "        return {\"train_losses\": train_losses,\n",
        "                \"val_losses\": val_losses}\n",
        "\n",
        "def plot_losses(metrics: dict):\n",
        "    \"\"\"\n",
        "    Plots training/validation losses.\n",
        "    :param metrics: dictionar\n",
        "    \"\"\"\n",
        "    plt.figure()\n",
        "    plt.plot(metrics['train_losses'], c='b', label='Train')\n",
        "    plt.plot(metrics['val_losses'], c='g', label='Valid')\n",
        "    plt.ylabel('Loss')\n",
        "    plt.xlabel('Iteration')\n",
        "    plt.legend()\n",
        "    plt.show()"
      ],
      "metadata": {
        "id": "MjITc9MnvHId"
      },
      "execution_count": null,
      "outputs": []
    },
    {
      "cell_type": "code",
      "source": [
        "# train the transformer for three epochs, should take about 10-15 mins\n",
        "trainer = Trainer(\n",
        "    model=model,\n",
        "    train_loader=train_loader,\n",
        "    val_loader=val_loader,\n",
        "    vocab=vocab,\n",
        "    hyperparams= _hyperparameters_dict,\n",
        "    num_train_examples=len(train_sequences),\n",
        "    num_val_examples=len(val_sequences)\n",
        ")\n",
        "metrics = trainer.train()"
      ],
      "metadata": {
        "id": "kQkUVJnMZWj9"
      },
      "execution_count": null,
      "outputs": []
    },
    {
      "cell_type": "code",
      "source": [
        "plot_losses(metrics)"
      ],
      "metadata": {
        "id": "W8x1SoShfsyb"
      },
      "execution_count": null,
      "outputs": []
    },
    {
      "cell_type": "markdown",
      "source": [
        "# Part III: Generate text\n",
        "\n",
        "We can use the trained language model to generate novel text that is written in the style of the text it was trained on. At each timestep, the network outputs a probability distribution over tokens.  We can either take the character with maximum probability, or we can sample from this distribution.\n",
        "\n",
        "Write the `greedy_strategy` and `generate_text_from` functions below:"
      ],
      "metadata": {
        "id": "zutCRVREk5M0"
      }
    },
    {
      "cell_type": "code",
      "source": [
        "def greedy_strategy(probabilities: torch.FloatTensor) -> int:\n",
        "    \"\"\"\n",
        "    Given a Tensor with probabilities, this function returns the token\n",
        "    index with maximum probability\n",
        "    :params probabilities: Tensor of size vocabulary_size\n",
        "    \"\"\"\n",
        "    TODO\n",
        "\n",
        "def sample_strategy(probabilities: torch.FloatTensor) -> int:\n",
        "    \"\"\"\n",
        "    Given a Tensor with probabilities (categorical distribution), this function\n",
        "    returns the character index of a sampled element\n",
        "    :params probabilities: Tensor of size vocabulary_size\n",
        "    \"\"\"\n",
        "    TODO"
      ],
      "metadata": {
        "id": "NcujycXjlCqM"
      },
      "execution_count": null,
      "outputs": []
    },
    {
      "cell_type": "code",
      "source": [
        "from typing import Callable\n",
        "class TextGenerator:\n",
        "    def __init__(self, model, vocab):\n",
        "        self.vocab = vocab\n",
        "        self.model = model\n",
        "        self.softmax = nn.Softmax(dim=-1)\n",
        "\n",
        "    def generate_text_from(self, starting_text: str,\n",
        "                           timesteps: int,\n",
        "                           strategy: Callable[..., int],\n",
        "                           temperature: float = 1.0):\n",
        "        \"\"\"\n",
        "        This method generates text from based on the input text.\n",
        "        :param starting_text: text that we condition on\n",
        "        :param timesteps: how many tokens to generate\n",
        "        :param strategy: either greedy_strategy or sample_strategy\n",
        "        :param temperature: coefficient that scales outputs before turning them\n",
        "        to probabilities. A low temperature (0.1) results in more conservative\n",
        "        predictions, while a higher temperature (0.9) results in more diverse\n",
        "        predictions\n",
        "        \"\"\"\n",
        "        # convert text string to Tensor of token ids\n",
        "        # string_len\n",
        "        starting_data = text_to_tensor(starting_text, self.vocab).to(device)\n",
        "\n",
        "        # 1 x string_len\n",
        "        starting_data = starting_data.unsqueeze(0)\n",
        "\n",
        "        # we first need to feed the starting text into the model\n",
        "        # 1 x seq_len x d_model\n",
        "        with torch.no_grad():\n",
        "          all_prev_logits = self.model(starting_data)\n",
        "\n",
        "        # logits for the last token in the sequence\n",
        "        logits = all_prev_logits[:, -1, :]\n",
        "\n",
        "        # scale by temperature\n",
        "        # 1 x vocab_size\n",
        "        logits = logits / temperature\n",
        "\n",
        "        # vocab_size\n",
        "        prev_probs = self.softmax(logits.squeeze())\n",
        "\n",
        "        # start generating text\n",
        "        generated_text = \"\"\n",
        "        prev_tokens_list = [x for x in starting_data[0]]\n",
        "        with torch.no_grad(): #no gradients computed inside this context\n",
        "            for t in range(timesteps):\n",
        "                #TODO: apply strategy to get current token prediction\n",
        "                top_token_idx = ...\n",
        "\n",
        "                # store already generated tokens\n",
        "                prev_tokens_list.append(top_token_idx)\n",
        "\n",
        "                # add character to already generated text\n",
        "                generated_text += self.vocab.idx_to_token[top_token_idx]\n",
        "\n",
        "                # generate token by token,\n",
        "                # starting from the tokens we already generated\n",
        "                current_input = torch.LongTensor(prev_tokens_list).to(device)\n",
        "                current_input = current_input.unsqueeze(0)\n",
        "                #TODO\n",
        "                all_prev_logits = ...\n",
        "                prev_logits = all_prev_logits[:, -1, :]\n",
        "                prev_probs = self.softmax(prev_logits.squeeze())\n",
        "\n",
        "        return generated_text"
      ],
      "metadata": {
        "id": "Mt41EswsIRA9"
      },
      "execution_count": null,
      "outputs": []
    },
    {
      "cell_type": "code",
      "source": [
        "#CHECKPOINT: try greedy and sampling strategies (with different temperatures)\n",
        "#and inspect the difference in outputs\n",
        "#it's ok if they don't make complete sense, we undertrained :)\n",
        "model.eval()\n",
        "generator = TextGenerator(model, vocab)\n",
        "starting_text = \"Once upon a time \"\n",
        "\n",
        "print('-----Sampling from TransformerLM-----')\n",
        "greedy_text = generator.generate_text_from(\n",
        "            starting_text = starting_text,\n",
        "            timesteps = 200,\n",
        "            strategy = greedy_strategy,\n",
        "            temperature = 1.0)\n",
        "\n",
        "low_temp_text = generator.generate_text_from(\n",
        "            starting_text = starting_text,\n",
        "            timesteps = 200,\n",
        "            strategy = sample_strategy,\n",
        "            temperature = 0.5)\n",
        "print(\"Greedy text: \", greedy_text)\n",
        "print('*' * 10)\n",
        "print(\"Low temperature text: \", low_temp_text)"
      ],
      "metadata": {
        "id": "GLNu4v-wM3w2"
      },
      "execution_count": null,
      "outputs": []
    }
  ]
}