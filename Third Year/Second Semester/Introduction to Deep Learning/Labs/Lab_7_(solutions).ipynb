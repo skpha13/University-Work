{
  "nbformat": 4,
  "nbformat_minor": 0,
  "metadata": {
    "colab": {
      "provenance": [],
      "machine_shape": "hm",
      "gpuType": "A100",
      "toc_visible": true
    },
    "kernelspec": {
      "name": "python3",
      "display_name": "Python 3"
    },
    "language_info": {
      "name": "python"
    },
    "widgets": {
      "application/vnd.jupyter.widget-state+json": {
        "2fed5b4e5b5e4cb98c21d88850f0fe24": {
          "model_module": "@jupyter-widgets/controls",
          "model_name": "HBoxModel",
          "model_module_version": "1.5.0",
          "state": {
            "_dom_classes": [],
            "_model_module": "@jupyter-widgets/controls",
            "_model_module_version": "1.5.0",
            "_model_name": "HBoxModel",
            "_view_count": null,
            "_view_module": "@jupyter-widgets/controls",
            "_view_module_version": "1.5.0",
            "_view_name": "HBoxView",
            "box_style": "",
            "children": [
              "IPY_MODEL_56e49d428efa41d09dafe5c6276f70c6",
              "IPY_MODEL_d18936b1428f455a818bebe7328520d1",
              "IPY_MODEL_1d55ee72eed449b5ac3f596bf617cdf8"
            ],
            "layout": "IPY_MODEL_4632bd2257bc48ed9cf92b3dd4d4dc67"
          }
        },
        "56e49d428efa41d09dafe5c6276f70c6": {
          "model_module": "@jupyter-widgets/controls",
          "model_name": "HTMLModel",
          "model_module_version": "1.5.0",
          "state": {
            "_dom_classes": [],
            "_model_module": "@jupyter-widgets/controls",
            "_model_module_version": "1.5.0",
            "_model_name": "HTMLModel",
            "_view_count": null,
            "_view_module": "@jupyter-widgets/controls",
            "_view_module_version": "1.5.0",
            "_view_name": "HTMLView",
            "description": "",
            "description_tooltip": null,
            "layout": "IPY_MODEL_094284159bd9487aaa692f904668954b",
            "placeholder": "​",
            "style": "IPY_MODEL_3326b43f54c549ba87b75819830d4b31",
            "value": "README.md: 100%"
          }
        },
        "d18936b1428f455a818bebe7328520d1": {
          "model_module": "@jupyter-widgets/controls",
          "model_name": "FloatProgressModel",
          "model_module_version": "1.5.0",
          "state": {
            "_dom_classes": [],
            "_model_module": "@jupyter-widgets/controls",
            "_model_module_version": "1.5.0",
            "_model_name": "FloatProgressModel",
            "_view_count": null,
            "_view_module": "@jupyter-widgets/controls",
            "_view_module_version": "1.5.0",
            "_view_name": "ProgressView",
            "bar_style": "success",
            "description": "",
            "description_tooltip": null,
            "layout": "IPY_MODEL_910c537c9ac14791853b8c3630164d24",
            "max": 1061,
            "min": 0,
            "orientation": "horizontal",
            "style": "IPY_MODEL_836a4d3b90a144f1a0384575f4f54164",
            "value": 1061
          }
        },
        "1d55ee72eed449b5ac3f596bf617cdf8": {
          "model_module": "@jupyter-widgets/controls",
          "model_name": "HTMLModel",
          "model_module_version": "1.5.0",
          "state": {
            "_dom_classes": [],
            "_model_module": "@jupyter-widgets/controls",
            "_model_module_version": "1.5.0",
            "_model_name": "HTMLModel",
            "_view_count": null,
            "_view_module": "@jupyter-widgets/controls",
            "_view_module_version": "1.5.0",
            "_view_name": "HTMLView",
            "description": "",
            "description_tooltip": null,
            "layout": "IPY_MODEL_f313b0075b034ab6b65e2abfdbe7679d",
            "placeholder": "​",
            "style": "IPY_MODEL_7d5e1a80b7ee4f6596cb0a472ee9b664",
            "value": " 1.06k/1.06k [00:00&lt;00:00, 122kB/s]"
          }
        },
        "4632bd2257bc48ed9cf92b3dd4d4dc67": {
          "model_module": "@jupyter-widgets/base",
          "model_name": "LayoutModel",
          "model_module_version": "1.2.0",
          "state": {
            "_model_module": "@jupyter-widgets/base",
            "_model_module_version": "1.2.0",
            "_model_name": "LayoutModel",
            "_view_count": null,
            "_view_module": "@jupyter-widgets/base",
            "_view_module_version": "1.2.0",
            "_view_name": "LayoutView",
            "align_content": null,
            "align_items": null,
            "align_self": null,
            "border": null,
            "bottom": null,
            "display": null,
            "flex": null,
            "flex_flow": null,
            "grid_area": null,
            "grid_auto_columns": null,
            "grid_auto_flow": null,
            "grid_auto_rows": null,
            "grid_column": null,
            "grid_gap": null,
            "grid_row": null,
            "grid_template_areas": null,
            "grid_template_columns": null,
            "grid_template_rows": null,
            "height": null,
            "justify_content": null,
            "justify_items": null,
            "left": null,
            "margin": null,
            "max_height": null,
            "max_width": null,
            "min_height": null,
            "min_width": null,
            "object_fit": null,
            "object_position": null,
            "order": null,
            "overflow": null,
            "overflow_x": null,
            "overflow_y": null,
            "padding": null,
            "right": null,
            "top": null,
            "visibility": null,
            "width": null
          }
        },
        "094284159bd9487aaa692f904668954b": {
          "model_module": "@jupyter-widgets/base",
          "model_name": "LayoutModel",
          "model_module_version": "1.2.0",
          "state": {
            "_model_module": "@jupyter-widgets/base",
            "_model_module_version": "1.2.0",
            "_model_name": "LayoutModel",
            "_view_count": null,
            "_view_module": "@jupyter-widgets/base",
            "_view_module_version": "1.2.0",
            "_view_name": "LayoutView",
            "align_content": null,
            "align_items": null,
            "align_self": null,
            "border": null,
            "bottom": null,
            "display": null,
            "flex": null,
            "flex_flow": null,
            "grid_area": null,
            "grid_auto_columns": null,
            "grid_auto_flow": null,
            "grid_auto_rows": null,
            "grid_column": null,
            "grid_gap": null,
            "grid_row": null,
            "grid_template_areas": null,
            "grid_template_columns": null,
            "grid_template_rows": null,
            "height": null,
            "justify_content": null,
            "justify_items": null,
            "left": null,
            "margin": null,
            "max_height": null,
            "max_width": null,
            "min_height": null,
            "min_width": null,
            "object_fit": null,
            "object_position": null,
            "order": null,
            "overflow": null,
            "overflow_x": null,
            "overflow_y": null,
            "padding": null,
            "right": null,
            "top": null,
            "visibility": null,
            "width": null
          }
        },
        "3326b43f54c549ba87b75819830d4b31": {
          "model_module": "@jupyter-widgets/controls",
          "model_name": "DescriptionStyleModel",
          "model_module_version": "1.5.0",
          "state": {
            "_model_module": "@jupyter-widgets/controls",
            "_model_module_version": "1.5.0",
            "_model_name": "DescriptionStyleModel",
            "_view_count": null,
            "_view_module": "@jupyter-widgets/base",
            "_view_module_version": "1.2.0",
            "_view_name": "StyleView",
            "description_width": ""
          }
        },
        "910c537c9ac14791853b8c3630164d24": {
          "model_module": "@jupyter-widgets/base",
          "model_name": "LayoutModel",
          "model_module_version": "1.2.0",
          "state": {
            "_model_module": "@jupyter-widgets/base",
            "_model_module_version": "1.2.0",
            "_model_name": "LayoutModel",
            "_view_count": null,
            "_view_module": "@jupyter-widgets/base",
            "_view_module_version": "1.2.0",
            "_view_name": "LayoutView",
            "align_content": null,
            "align_items": null,
            "align_self": null,
            "border": null,
            "bottom": null,
            "display": null,
            "flex": null,
            "flex_flow": null,
            "grid_area": null,
            "grid_auto_columns": null,
            "grid_auto_flow": null,
            "grid_auto_rows": null,
            "grid_column": null,
            "grid_gap": null,
            "grid_row": null,
            "grid_template_areas": null,
            "grid_template_columns": null,
            "grid_template_rows": null,
            "height": null,
            "justify_content": null,
            "justify_items": null,
            "left": null,
            "margin": null,
            "max_height": null,
            "max_width": null,
            "min_height": null,
            "min_width": null,
            "object_fit": null,
            "object_position": null,
            "order": null,
            "overflow": null,
            "overflow_x": null,
            "overflow_y": null,
            "padding": null,
            "right": null,
            "top": null,
            "visibility": null,
            "width": null
          }
        },
        "836a4d3b90a144f1a0384575f4f54164": {
          "model_module": "@jupyter-widgets/controls",
          "model_name": "ProgressStyleModel",
          "model_module_version": "1.5.0",
          "state": {
            "_model_module": "@jupyter-widgets/controls",
            "_model_module_version": "1.5.0",
            "_model_name": "ProgressStyleModel",
            "_view_count": null,
            "_view_module": "@jupyter-widgets/base",
            "_view_module_version": "1.2.0",
            "_view_name": "StyleView",
            "bar_color": null,
            "description_width": ""
          }
        },
        "f313b0075b034ab6b65e2abfdbe7679d": {
          "model_module": "@jupyter-widgets/base",
          "model_name": "LayoutModel",
          "model_module_version": "1.2.0",
          "state": {
            "_model_module": "@jupyter-widgets/base",
            "_model_module_version": "1.2.0",
            "_model_name": "LayoutModel",
            "_view_count": null,
            "_view_module": "@jupyter-widgets/base",
            "_view_module_version": "1.2.0",
            "_view_name": "LayoutView",
            "align_content": null,
            "align_items": null,
            "align_self": null,
            "border": null,
            "bottom": null,
            "display": null,
            "flex": null,
            "flex_flow": null,
            "grid_area": null,
            "grid_auto_columns": null,
            "grid_auto_flow": null,
            "grid_auto_rows": null,
            "grid_column": null,
            "grid_gap": null,
            "grid_row": null,
            "grid_template_areas": null,
            "grid_template_columns": null,
            "grid_template_rows": null,
            "height": null,
            "justify_content": null,
            "justify_items": null,
            "left": null,
            "margin": null,
            "max_height": null,
            "max_width": null,
            "min_height": null,
            "min_width": null,
            "object_fit": null,
            "object_position": null,
            "order": null,
            "overflow": null,
            "overflow_x": null,
            "overflow_y": null,
            "padding": null,
            "right": null,
            "top": null,
            "visibility": null,
            "width": null
          }
        },
        "7d5e1a80b7ee4f6596cb0a472ee9b664": {
          "model_module": "@jupyter-widgets/controls",
          "model_name": "DescriptionStyleModel",
          "model_module_version": "1.5.0",
          "state": {
            "_model_module": "@jupyter-widgets/controls",
            "_model_module_version": "1.5.0",
            "_model_name": "DescriptionStyleModel",
            "_view_count": null,
            "_view_module": "@jupyter-widgets/base",
            "_view_module_version": "1.2.0",
            "_view_name": "StyleView",
            "description_width": ""
          }
        },
        "ea755aaeb40a48a4acd67611c4d187fe": {
          "model_module": "@jupyter-widgets/controls",
          "model_name": "HBoxModel",
          "model_module_version": "1.5.0",
          "state": {
            "_dom_classes": [],
            "_model_module": "@jupyter-widgets/controls",
            "_model_module_version": "1.5.0",
            "_model_name": "HBoxModel",
            "_view_count": null,
            "_view_module": "@jupyter-widgets/controls",
            "_view_module_version": "1.5.0",
            "_view_name": "HBoxView",
            "box_style": "",
            "children": [
              "IPY_MODEL_ff12715906a44844900aece85bb36f12",
              "IPY_MODEL_487c85dd510748339588377f0d71f46d",
              "IPY_MODEL_7dee26aec0f945b9ad804b41170f32d4"
            ],
            "layout": "IPY_MODEL_48cc186cfda74c41ae5ede90d7083be5"
          }
        },
        "ff12715906a44844900aece85bb36f12": {
          "model_module": "@jupyter-widgets/controls",
          "model_name": "HTMLModel",
          "model_module_version": "1.5.0",
          "state": {
            "_dom_classes": [],
            "_model_module": "@jupyter-widgets/controls",
            "_model_module_version": "1.5.0",
            "_model_name": "HTMLModel",
            "_view_count": null,
            "_view_module": "@jupyter-widgets/controls",
            "_view_module_version": "1.5.0",
            "_view_name": "HTMLView",
            "description": "",
            "description_tooltip": null,
            "layout": "IPY_MODEL_61c2f295fcea4130880e36165746c8e0",
            "placeholder": "​",
            "style": "IPY_MODEL_05ecf4c924a64d8aa36b829388120708",
            "value": "(…)-00000-of-00004-2d5a1467fff1081b.parquet: 100%"
          }
        },
        "487c85dd510748339588377f0d71f46d": {
          "model_module": "@jupyter-widgets/controls",
          "model_name": "FloatProgressModel",
          "model_module_version": "1.5.0",
          "state": {
            "_dom_classes": [],
            "_model_module": "@jupyter-widgets/controls",
            "_model_module_version": "1.5.0",
            "_model_name": "FloatProgressModel",
            "_view_count": null,
            "_view_module": "@jupyter-widgets/controls",
            "_view_module_version": "1.5.0",
            "_view_name": "ProgressView",
            "bar_style": "success",
            "description": "",
            "description_tooltip": null,
            "layout": "IPY_MODEL_8dcdf238753b43eb860ad31a8b0e0493",
            "max": 248731111,
            "min": 0,
            "orientation": "horizontal",
            "style": "IPY_MODEL_2ea9dc04eb8a49eda21434d6d0d4929e",
            "value": 248731111
          }
        },
        "7dee26aec0f945b9ad804b41170f32d4": {
          "model_module": "@jupyter-widgets/controls",
          "model_name": "HTMLModel",
          "model_module_version": "1.5.0",
          "state": {
            "_dom_classes": [],
            "_model_module": "@jupyter-widgets/controls",
            "_model_module_version": "1.5.0",
            "_model_name": "HTMLModel",
            "_view_count": null,
            "_view_module": "@jupyter-widgets/controls",
            "_view_module_version": "1.5.0",
            "_view_name": "HTMLView",
            "description": "",
            "description_tooltip": null,
            "layout": "IPY_MODEL_1ad4462d1ebc48cd8d86e3bcaee7e831",
            "placeholder": "​",
            "style": "IPY_MODEL_6ac7b7459ef745bdb9b62f17a7add0f8",
            "value": " 249M/249M [00:00&lt;00:00, 361MB/s]"
          }
        },
        "48cc186cfda74c41ae5ede90d7083be5": {
          "model_module": "@jupyter-widgets/base",
          "model_name": "LayoutModel",
          "model_module_version": "1.2.0",
          "state": {
            "_model_module": "@jupyter-widgets/base",
            "_model_module_version": "1.2.0",
            "_model_name": "LayoutModel",
            "_view_count": null,
            "_view_module": "@jupyter-widgets/base",
            "_view_module_version": "1.2.0",
            "_view_name": "LayoutView",
            "align_content": null,
            "align_items": null,
            "align_self": null,
            "border": null,
            "bottom": null,
            "display": null,
            "flex": null,
            "flex_flow": null,
            "grid_area": null,
            "grid_auto_columns": null,
            "grid_auto_flow": null,
            "grid_auto_rows": null,
            "grid_column": null,
            "grid_gap": null,
            "grid_row": null,
            "grid_template_areas": null,
            "grid_template_columns": null,
            "grid_template_rows": null,
            "height": null,
            "justify_content": null,
            "justify_items": null,
            "left": null,
            "margin": null,
            "max_height": null,
            "max_width": null,
            "min_height": null,
            "min_width": null,
            "object_fit": null,
            "object_position": null,
            "order": null,
            "overflow": null,
            "overflow_x": null,
            "overflow_y": null,
            "padding": null,
            "right": null,
            "top": null,
            "visibility": null,
            "width": null
          }
        },
        "61c2f295fcea4130880e36165746c8e0": {
          "model_module": "@jupyter-widgets/base",
          "model_name": "LayoutModel",
          "model_module_version": "1.2.0",
          "state": {
            "_model_module": "@jupyter-widgets/base",
            "_model_module_version": "1.2.0",
            "_model_name": "LayoutModel",
            "_view_count": null,
            "_view_module": "@jupyter-widgets/base",
            "_view_module_version": "1.2.0",
            "_view_name": "LayoutView",
            "align_content": null,
            "align_items": null,
            "align_self": null,
            "border": null,
            "bottom": null,
            "display": null,
            "flex": null,
            "flex_flow": null,
            "grid_area": null,
            "grid_auto_columns": null,
            "grid_auto_flow": null,
            "grid_auto_rows": null,
            "grid_column": null,
            "grid_gap": null,
            "grid_row": null,
            "grid_template_areas": null,
            "grid_template_columns": null,
            "grid_template_rows": null,
            "height": null,
            "justify_content": null,
            "justify_items": null,
            "left": null,
            "margin": null,
            "max_height": null,
            "max_width": null,
            "min_height": null,
            "min_width": null,
            "object_fit": null,
            "object_position": null,
            "order": null,
            "overflow": null,
            "overflow_x": null,
            "overflow_y": null,
            "padding": null,
            "right": null,
            "top": null,
            "visibility": null,
            "width": null
          }
        },
        "05ecf4c924a64d8aa36b829388120708": {
          "model_module": "@jupyter-widgets/controls",
          "model_name": "DescriptionStyleModel",
          "model_module_version": "1.5.0",
          "state": {
            "_model_module": "@jupyter-widgets/controls",
            "_model_module_version": "1.5.0",
            "_model_name": "DescriptionStyleModel",
            "_view_count": null,
            "_view_module": "@jupyter-widgets/base",
            "_view_module_version": "1.2.0",
            "_view_name": "StyleView",
            "description_width": ""
          }
        },
        "8dcdf238753b43eb860ad31a8b0e0493": {
          "model_module": "@jupyter-widgets/base",
          "model_name": "LayoutModel",
          "model_module_version": "1.2.0",
          "state": {
            "_model_module": "@jupyter-widgets/base",
            "_model_module_version": "1.2.0",
            "_model_name": "LayoutModel",
            "_view_count": null,
            "_view_module": "@jupyter-widgets/base",
            "_view_module_version": "1.2.0",
            "_view_name": "LayoutView",
            "align_content": null,
            "align_items": null,
            "align_self": null,
            "border": null,
            "bottom": null,
            "display": null,
            "flex": null,
            "flex_flow": null,
            "grid_area": null,
            "grid_auto_columns": null,
            "grid_auto_flow": null,
            "grid_auto_rows": null,
            "grid_column": null,
            "grid_gap": null,
            "grid_row": null,
            "grid_template_areas": null,
            "grid_template_columns": null,
            "grid_template_rows": null,
            "height": null,
            "justify_content": null,
            "justify_items": null,
            "left": null,
            "margin": null,
            "max_height": null,
            "max_width": null,
            "min_height": null,
            "min_width": null,
            "object_fit": null,
            "object_position": null,
            "order": null,
            "overflow": null,
            "overflow_x": null,
            "overflow_y": null,
            "padding": null,
            "right": null,
            "top": null,
            "visibility": null,
            "width": null
          }
        },
        "2ea9dc04eb8a49eda21434d6d0d4929e": {
          "model_module": "@jupyter-widgets/controls",
          "model_name": "ProgressStyleModel",
          "model_module_version": "1.5.0",
          "state": {
            "_model_module": "@jupyter-widgets/controls",
            "_model_module_version": "1.5.0",
            "_model_name": "ProgressStyleModel",
            "_view_count": null,
            "_view_module": "@jupyter-widgets/base",
            "_view_module_version": "1.2.0",
            "_view_name": "StyleView",
            "bar_color": null,
            "description_width": ""
          }
        },
        "1ad4462d1ebc48cd8d86e3bcaee7e831": {
          "model_module": "@jupyter-widgets/base",
          "model_name": "LayoutModel",
          "model_module_version": "1.2.0",
          "state": {
            "_model_module": "@jupyter-widgets/base",
            "_model_module_version": "1.2.0",
            "_model_name": "LayoutModel",
            "_view_count": null,
            "_view_module": "@jupyter-widgets/base",
            "_view_module_version": "1.2.0",
            "_view_name": "LayoutView",
            "align_content": null,
            "align_items": null,
            "align_self": null,
            "border": null,
            "bottom": null,
            "display": null,
            "flex": null,
            "flex_flow": null,
            "grid_area": null,
            "grid_auto_columns": null,
            "grid_auto_flow": null,
            "grid_auto_rows": null,
            "grid_column": null,
            "grid_gap": null,
            "grid_row": null,
            "grid_template_areas": null,
            "grid_template_columns": null,
            "grid_template_rows": null,
            "height": null,
            "justify_content": null,
            "justify_items": null,
            "left": null,
            "margin": null,
            "max_height": null,
            "max_width": null,
            "min_height": null,
            "min_width": null,
            "object_fit": null,
            "object_position": null,
            "order": null,
            "overflow": null,
            "overflow_x": null,
            "overflow_y": null,
            "padding": null,
            "right": null,
            "top": null,
            "visibility": null,
            "width": null
          }
        },
        "6ac7b7459ef745bdb9b62f17a7add0f8": {
          "model_module": "@jupyter-widgets/controls",
          "model_name": "DescriptionStyleModel",
          "model_module_version": "1.5.0",
          "state": {
            "_model_module": "@jupyter-widgets/controls",
            "_model_module_version": "1.5.0",
            "_model_name": "DescriptionStyleModel",
            "_view_count": null,
            "_view_module": "@jupyter-widgets/base",
            "_view_module_version": "1.2.0",
            "_view_name": "StyleView",
            "description_width": ""
          }
        },
        "c68fdc55aaea4d3c89d09e38cdd5e52e": {
          "model_module": "@jupyter-widgets/controls",
          "model_name": "HBoxModel",
          "model_module_version": "1.5.0",
          "state": {
            "_dom_classes": [],
            "_model_module": "@jupyter-widgets/controls",
            "_model_module_version": "1.5.0",
            "_model_name": "HBoxModel",
            "_view_count": null,
            "_view_module": "@jupyter-widgets/controls",
            "_view_module_version": "1.5.0",
            "_view_name": "HBoxView",
            "box_style": "",
            "children": [
              "IPY_MODEL_2ff74f2d282548b5a97acd75172f91b9",
              "IPY_MODEL_09b5594d602343d696f805db0fac9e8d",
              "IPY_MODEL_7afc72c800a54a9fbb4904910f898120"
            ],
            "layout": "IPY_MODEL_27315c45a1de41b9b62f90468c47e23e"
          }
        },
        "2ff74f2d282548b5a97acd75172f91b9": {
          "model_module": "@jupyter-widgets/controls",
          "model_name": "HTMLModel",
          "model_module_version": "1.5.0",
          "state": {
            "_dom_classes": [],
            "_model_module": "@jupyter-widgets/controls",
            "_model_module_version": "1.5.0",
            "_model_name": "HTMLModel",
            "_view_count": null,
            "_view_module": "@jupyter-widgets/controls",
            "_view_module_version": "1.5.0",
            "_view_name": "HTMLView",
            "description": "",
            "description_tooltip": null,
            "layout": "IPY_MODEL_72e70f4a175a4a1fbe36237ab2091cd5",
            "placeholder": "​",
            "style": "IPY_MODEL_31cf08c61f304801871ee8d39174caab",
            "value": "(…)-00001-of-00004-5852b56a2bd28fd9.parquet: 100%"
          }
        },
        "09b5594d602343d696f805db0fac9e8d": {
          "model_module": "@jupyter-widgets/controls",
          "model_name": "FloatProgressModel",
          "model_module_version": "1.5.0",
          "state": {
            "_dom_classes": [],
            "_model_module": "@jupyter-widgets/controls",
            "_model_module_version": "1.5.0",
            "_model_name": "FloatProgressModel",
            "_view_count": null,
            "_view_module": "@jupyter-widgets/controls",
            "_view_module_version": "1.5.0",
            "_view_name": "ProgressView",
            "bar_style": "success",
            "description": "",
            "description_tooltip": null,
            "layout": "IPY_MODEL_822f3a1a841e4546a8a249a12a44c69a",
            "max": 248171980,
            "min": 0,
            "orientation": "horizontal",
            "style": "IPY_MODEL_f167660671c044e9a3b0f34fba5c61cc",
            "value": 248171980
          }
        },
        "7afc72c800a54a9fbb4904910f898120": {
          "model_module": "@jupyter-widgets/controls",
          "model_name": "HTMLModel",
          "model_module_version": "1.5.0",
          "state": {
            "_dom_classes": [],
            "_model_module": "@jupyter-widgets/controls",
            "_model_module_version": "1.5.0",
            "_model_name": "HTMLModel",
            "_view_count": null,
            "_view_module": "@jupyter-widgets/controls",
            "_view_module_version": "1.5.0",
            "_view_name": "HTMLView",
            "description": "",
            "description_tooltip": null,
            "layout": "IPY_MODEL_bab5995f0dae4e1c92a1111fb9b63038",
            "placeholder": "​",
            "style": "IPY_MODEL_351df9e721bf4b31a6dc5cf319043329",
            "value": " 248M/248M [00:01&lt;00:00, 178MB/s]"
          }
        },
        "27315c45a1de41b9b62f90468c47e23e": {
          "model_module": "@jupyter-widgets/base",
          "model_name": "LayoutModel",
          "model_module_version": "1.2.0",
          "state": {
            "_model_module": "@jupyter-widgets/base",
            "_model_module_version": "1.2.0",
            "_model_name": "LayoutModel",
            "_view_count": null,
            "_view_module": "@jupyter-widgets/base",
            "_view_module_version": "1.2.0",
            "_view_name": "LayoutView",
            "align_content": null,
            "align_items": null,
            "align_self": null,
            "border": null,
            "bottom": null,
            "display": null,
            "flex": null,
            "flex_flow": null,
            "grid_area": null,
            "grid_auto_columns": null,
            "grid_auto_flow": null,
            "grid_auto_rows": null,
            "grid_column": null,
            "grid_gap": null,
            "grid_row": null,
            "grid_template_areas": null,
            "grid_template_columns": null,
            "grid_template_rows": null,
            "height": null,
            "justify_content": null,
            "justify_items": null,
            "left": null,
            "margin": null,
            "max_height": null,
            "max_width": null,
            "min_height": null,
            "min_width": null,
            "object_fit": null,
            "object_position": null,
            "order": null,
            "overflow": null,
            "overflow_x": null,
            "overflow_y": null,
            "padding": null,
            "right": null,
            "top": null,
            "visibility": null,
            "width": null
          }
        },
        "72e70f4a175a4a1fbe36237ab2091cd5": {
          "model_module": "@jupyter-widgets/base",
          "model_name": "LayoutModel",
          "model_module_version": "1.2.0",
          "state": {
            "_model_module": "@jupyter-widgets/base",
            "_model_module_version": "1.2.0",
            "_model_name": "LayoutModel",
            "_view_count": null,
            "_view_module": "@jupyter-widgets/base",
            "_view_module_version": "1.2.0",
            "_view_name": "LayoutView",
            "align_content": null,
            "align_items": null,
            "align_self": null,
            "border": null,
            "bottom": null,
            "display": null,
            "flex": null,
            "flex_flow": null,
            "grid_area": null,
            "grid_auto_columns": null,
            "grid_auto_flow": null,
            "grid_auto_rows": null,
            "grid_column": null,
            "grid_gap": null,
            "grid_row": null,
            "grid_template_areas": null,
            "grid_template_columns": null,
            "grid_template_rows": null,
            "height": null,
            "justify_content": null,
            "justify_items": null,
            "left": null,
            "margin": null,
            "max_height": null,
            "max_width": null,
            "min_height": null,
            "min_width": null,
            "object_fit": null,
            "object_position": null,
            "order": null,
            "overflow": null,
            "overflow_x": null,
            "overflow_y": null,
            "padding": null,
            "right": null,
            "top": null,
            "visibility": null,
            "width": null
          }
        },
        "31cf08c61f304801871ee8d39174caab": {
          "model_module": "@jupyter-widgets/controls",
          "model_name": "DescriptionStyleModel",
          "model_module_version": "1.5.0",
          "state": {
            "_model_module": "@jupyter-widgets/controls",
            "_model_module_version": "1.5.0",
            "_model_name": "DescriptionStyleModel",
            "_view_count": null,
            "_view_module": "@jupyter-widgets/base",
            "_view_module_version": "1.2.0",
            "_view_name": "StyleView",
            "description_width": ""
          }
        },
        "822f3a1a841e4546a8a249a12a44c69a": {
          "model_module": "@jupyter-widgets/base",
          "model_name": "LayoutModel",
          "model_module_version": "1.2.0",
          "state": {
            "_model_module": "@jupyter-widgets/base",
            "_model_module_version": "1.2.0",
            "_model_name": "LayoutModel",
            "_view_count": null,
            "_view_module": "@jupyter-widgets/base",
            "_view_module_version": "1.2.0",
            "_view_name": "LayoutView",
            "align_content": null,
            "align_items": null,
            "align_self": null,
            "border": null,
            "bottom": null,
            "display": null,
            "flex": null,
            "flex_flow": null,
            "grid_area": null,
            "grid_auto_columns": null,
            "grid_auto_flow": null,
            "grid_auto_rows": null,
            "grid_column": null,
            "grid_gap": null,
            "grid_row": null,
            "grid_template_areas": null,
            "grid_template_columns": null,
            "grid_template_rows": null,
            "height": null,
            "justify_content": null,
            "justify_items": null,
            "left": null,
            "margin": null,
            "max_height": null,
            "max_width": null,
            "min_height": null,
            "min_width": null,
            "object_fit": null,
            "object_position": null,
            "order": null,
            "overflow": null,
            "overflow_x": null,
            "overflow_y": null,
            "padding": null,
            "right": null,
            "top": null,
            "visibility": null,
            "width": null
          }
        },
        "f167660671c044e9a3b0f34fba5c61cc": {
          "model_module": "@jupyter-widgets/controls",
          "model_name": "ProgressStyleModel",
          "model_module_version": "1.5.0",
          "state": {
            "_model_module": "@jupyter-widgets/controls",
            "_model_module_version": "1.5.0",
            "_model_name": "ProgressStyleModel",
            "_view_count": null,
            "_view_module": "@jupyter-widgets/base",
            "_view_module_version": "1.2.0",
            "_view_name": "StyleView",
            "bar_color": null,
            "description_width": ""
          }
        },
        "bab5995f0dae4e1c92a1111fb9b63038": {
          "model_module": "@jupyter-widgets/base",
          "model_name": "LayoutModel",
          "model_module_version": "1.2.0",
          "state": {
            "_model_module": "@jupyter-widgets/base",
            "_model_module_version": "1.2.0",
            "_model_name": "LayoutModel",
            "_view_count": null,
            "_view_module": "@jupyter-widgets/base",
            "_view_module_version": "1.2.0",
            "_view_name": "LayoutView",
            "align_content": null,
            "align_items": null,
            "align_self": null,
            "border": null,
            "bottom": null,
            "display": null,
            "flex": null,
            "flex_flow": null,
            "grid_area": null,
            "grid_auto_columns": null,
            "grid_auto_flow": null,
            "grid_auto_rows": null,
            "grid_column": null,
            "grid_gap": null,
            "grid_row": null,
            "grid_template_areas": null,
            "grid_template_columns": null,
            "grid_template_rows": null,
            "height": null,
            "justify_content": null,
            "justify_items": null,
            "left": null,
            "margin": null,
            "max_height": null,
            "max_width": null,
            "min_height": null,
            "min_width": null,
            "object_fit": null,
            "object_position": null,
            "order": null,
            "overflow": null,
            "overflow_x": null,
            "overflow_y": null,
            "padding": null,
            "right": null,
            "top": null,
            "visibility": null,
            "width": null
          }
        },
        "351df9e721bf4b31a6dc5cf319043329": {
          "model_module": "@jupyter-widgets/controls",
          "model_name": "DescriptionStyleModel",
          "model_module_version": "1.5.0",
          "state": {
            "_model_module": "@jupyter-widgets/controls",
            "_model_module_version": "1.5.0",
            "_model_name": "DescriptionStyleModel",
            "_view_count": null,
            "_view_module": "@jupyter-widgets/base",
            "_view_module_version": "1.2.0",
            "_view_name": "StyleView",
            "description_width": ""
          }
        },
        "961747c1f30a4a8093799b5fb94c18d7": {
          "model_module": "@jupyter-widgets/controls",
          "model_name": "HBoxModel",
          "model_module_version": "1.5.0",
          "state": {
            "_dom_classes": [],
            "_model_module": "@jupyter-widgets/controls",
            "_model_module_version": "1.5.0",
            "_model_name": "HBoxModel",
            "_view_count": null,
            "_view_module": "@jupyter-widgets/controls",
            "_view_module_version": "1.5.0",
            "_view_name": "HBoxView",
            "box_style": "",
            "children": [
              "IPY_MODEL_14135784f40e4fbc935464f1b5b2de82",
              "IPY_MODEL_95717b0aa1e64c63a65e763a1a8fa9a2",
              "IPY_MODEL_5e014ab8958c4d139b3e347e595dbc84"
            ],
            "layout": "IPY_MODEL_ee4993d080864ec69379e303aa9c6b93"
          }
        },
        "14135784f40e4fbc935464f1b5b2de82": {
          "model_module": "@jupyter-widgets/controls",
          "model_name": "HTMLModel",
          "model_module_version": "1.5.0",
          "state": {
            "_dom_classes": [],
            "_model_module": "@jupyter-widgets/controls",
            "_model_module_version": "1.5.0",
            "_model_name": "HTMLModel",
            "_view_count": null,
            "_view_module": "@jupyter-widgets/controls",
            "_view_module_version": "1.5.0",
            "_view_name": "HTMLView",
            "description": "",
            "description_tooltip": null,
            "layout": "IPY_MODEL_fc14402107c14fdd9e5746ddf1a1c9ea",
            "placeholder": "​",
            "style": "IPY_MODEL_40259560005a4c82b90c46bc90a310e1",
            "value": "(…)-00002-of-00004-a26307300439e943.parquet: 100%"
          }
        },
        "95717b0aa1e64c63a65e763a1a8fa9a2": {
          "model_module": "@jupyter-widgets/controls",
          "model_name": "FloatProgressModel",
          "model_module_version": "1.5.0",
          "state": {
            "_dom_classes": [],
            "_model_module": "@jupyter-widgets/controls",
            "_model_module_version": "1.5.0",
            "_model_name": "FloatProgressModel",
            "_view_count": null,
            "_view_module": "@jupyter-widgets/controls",
            "_view_module_version": "1.5.0",
            "_view_name": "ProgressView",
            "bar_style": "success",
            "description": "",
            "description_tooltip": null,
            "layout": "IPY_MODEL_42ee60d9703f405e8f9807b56459b818",
            "max": 245894874,
            "min": 0,
            "orientation": "horizontal",
            "style": "IPY_MODEL_3f1a090f40ac4ea0af45ed11a7ca633a",
            "value": 245894874
          }
        },
        "5e014ab8958c4d139b3e347e595dbc84": {
          "model_module": "@jupyter-widgets/controls",
          "model_name": "HTMLModel",
          "model_module_version": "1.5.0",
          "state": {
            "_dom_classes": [],
            "_model_module": "@jupyter-widgets/controls",
            "_model_module_version": "1.5.0",
            "_model_name": "HTMLModel",
            "_view_count": null,
            "_view_module": "@jupyter-widgets/controls",
            "_view_module_version": "1.5.0",
            "_view_name": "HTMLView",
            "description": "",
            "description_tooltip": null,
            "layout": "IPY_MODEL_c283bb4fa0234fc1a04ca821730ecb2c",
            "placeholder": "​",
            "style": "IPY_MODEL_37816e9931b048de9f058c472d570ab4",
            "value": " 246M/246M [00:00&lt;00:00, 329MB/s]"
          }
        },
        "ee4993d080864ec69379e303aa9c6b93": {
          "model_module": "@jupyter-widgets/base",
          "model_name": "LayoutModel",
          "model_module_version": "1.2.0",
          "state": {
            "_model_module": "@jupyter-widgets/base",
            "_model_module_version": "1.2.0",
            "_model_name": "LayoutModel",
            "_view_count": null,
            "_view_module": "@jupyter-widgets/base",
            "_view_module_version": "1.2.0",
            "_view_name": "LayoutView",
            "align_content": null,
            "align_items": null,
            "align_self": null,
            "border": null,
            "bottom": null,
            "display": null,
            "flex": null,
            "flex_flow": null,
            "grid_area": null,
            "grid_auto_columns": null,
            "grid_auto_flow": null,
            "grid_auto_rows": null,
            "grid_column": null,
            "grid_gap": null,
            "grid_row": null,
            "grid_template_areas": null,
            "grid_template_columns": null,
            "grid_template_rows": null,
            "height": null,
            "justify_content": null,
            "justify_items": null,
            "left": null,
            "margin": null,
            "max_height": null,
            "max_width": null,
            "min_height": null,
            "min_width": null,
            "object_fit": null,
            "object_position": null,
            "order": null,
            "overflow": null,
            "overflow_x": null,
            "overflow_y": null,
            "padding": null,
            "right": null,
            "top": null,
            "visibility": null,
            "width": null
          }
        },
        "fc14402107c14fdd9e5746ddf1a1c9ea": {
          "model_module": "@jupyter-widgets/base",
          "model_name": "LayoutModel",
          "model_module_version": "1.2.0",
          "state": {
            "_model_module": "@jupyter-widgets/base",
            "_model_module_version": "1.2.0",
            "_model_name": "LayoutModel",
            "_view_count": null,
            "_view_module": "@jupyter-widgets/base",
            "_view_module_version": "1.2.0",
            "_view_name": "LayoutView",
            "align_content": null,
            "align_items": null,
            "align_self": null,
            "border": null,
            "bottom": null,
            "display": null,
            "flex": null,
            "flex_flow": null,
            "grid_area": null,
            "grid_auto_columns": null,
            "grid_auto_flow": null,
            "grid_auto_rows": null,
            "grid_column": null,
            "grid_gap": null,
            "grid_row": null,
            "grid_template_areas": null,
            "grid_template_columns": null,
            "grid_template_rows": null,
            "height": null,
            "justify_content": null,
            "justify_items": null,
            "left": null,
            "margin": null,
            "max_height": null,
            "max_width": null,
            "min_height": null,
            "min_width": null,
            "object_fit": null,
            "object_position": null,
            "order": null,
            "overflow": null,
            "overflow_x": null,
            "overflow_y": null,
            "padding": null,
            "right": null,
            "top": null,
            "visibility": null,
            "width": null
          }
        },
        "40259560005a4c82b90c46bc90a310e1": {
          "model_module": "@jupyter-widgets/controls",
          "model_name": "DescriptionStyleModel",
          "model_module_version": "1.5.0",
          "state": {
            "_model_module": "@jupyter-widgets/controls",
            "_model_module_version": "1.5.0",
            "_model_name": "DescriptionStyleModel",
            "_view_count": null,
            "_view_module": "@jupyter-widgets/base",
            "_view_module_version": "1.2.0",
            "_view_name": "StyleView",
            "description_width": ""
          }
        },
        "42ee60d9703f405e8f9807b56459b818": {
          "model_module": "@jupyter-widgets/base",
          "model_name": "LayoutModel",
          "model_module_version": "1.2.0",
          "state": {
            "_model_module": "@jupyter-widgets/base",
            "_model_module_version": "1.2.0",
            "_model_name": "LayoutModel",
            "_view_count": null,
            "_view_module": "@jupyter-widgets/base",
            "_view_module_version": "1.2.0",
            "_view_name": "LayoutView",
            "align_content": null,
            "align_items": null,
            "align_self": null,
            "border": null,
            "bottom": null,
            "display": null,
            "flex": null,
            "flex_flow": null,
            "grid_area": null,
            "grid_auto_columns": null,
            "grid_auto_flow": null,
            "grid_auto_rows": null,
            "grid_column": null,
            "grid_gap": null,
            "grid_row": null,
            "grid_template_areas": null,
            "grid_template_columns": null,
            "grid_template_rows": null,
            "height": null,
            "justify_content": null,
            "justify_items": null,
            "left": null,
            "margin": null,
            "max_height": null,
            "max_width": null,
            "min_height": null,
            "min_width": null,
            "object_fit": null,
            "object_position": null,
            "order": null,
            "overflow": null,
            "overflow_x": null,
            "overflow_y": null,
            "padding": null,
            "right": null,
            "top": null,
            "visibility": null,
            "width": null
          }
        },
        "3f1a090f40ac4ea0af45ed11a7ca633a": {
          "model_module": "@jupyter-widgets/controls",
          "model_name": "ProgressStyleModel",
          "model_module_version": "1.5.0",
          "state": {
            "_model_module": "@jupyter-widgets/controls",
            "_model_module_version": "1.5.0",
            "_model_name": "ProgressStyleModel",
            "_view_count": null,
            "_view_module": "@jupyter-widgets/base",
            "_view_module_version": "1.2.0",
            "_view_name": "StyleView",
            "bar_color": null,
            "description_width": ""
          }
        },
        "c283bb4fa0234fc1a04ca821730ecb2c": {
          "model_module": "@jupyter-widgets/base",
          "model_name": "LayoutModel",
          "model_module_version": "1.2.0",
          "state": {
            "_model_module": "@jupyter-widgets/base",
            "_model_module_version": "1.2.0",
            "_model_name": "LayoutModel",
            "_view_count": null,
            "_view_module": "@jupyter-widgets/base",
            "_view_module_version": "1.2.0",
            "_view_name": "LayoutView",
            "align_content": null,
            "align_items": null,
            "align_self": null,
            "border": null,
            "bottom": null,
            "display": null,
            "flex": null,
            "flex_flow": null,
            "grid_area": null,
            "grid_auto_columns": null,
            "grid_auto_flow": null,
            "grid_auto_rows": null,
            "grid_column": null,
            "grid_gap": null,
            "grid_row": null,
            "grid_template_areas": null,
            "grid_template_columns": null,
            "grid_template_rows": null,
            "height": null,
            "justify_content": null,
            "justify_items": null,
            "left": null,
            "margin": null,
            "max_height": null,
            "max_width": null,
            "min_height": null,
            "min_width": null,
            "object_fit": null,
            "object_position": null,
            "order": null,
            "overflow": null,
            "overflow_x": null,
            "overflow_y": null,
            "padding": null,
            "right": null,
            "top": null,
            "visibility": null,
            "width": null
          }
        },
        "37816e9931b048de9f058c472d570ab4": {
          "model_module": "@jupyter-widgets/controls",
          "model_name": "DescriptionStyleModel",
          "model_module_version": "1.5.0",
          "state": {
            "_model_module": "@jupyter-widgets/controls",
            "_model_module_version": "1.5.0",
            "_model_name": "DescriptionStyleModel",
            "_view_count": null,
            "_view_module": "@jupyter-widgets/base",
            "_view_module_version": "1.2.0",
            "_view_name": "StyleView",
            "description_width": ""
          }
        },
        "3baef74b6d894d6d8a5c808468eb4c9b": {
          "model_module": "@jupyter-widgets/controls",
          "model_name": "HBoxModel",
          "model_module_version": "1.5.0",
          "state": {
            "_dom_classes": [],
            "_model_module": "@jupyter-widgets/controls",
            "_model_module_version": "1.5.0",
            "_model_name": "HBoxModel",
            "_view_count": null,
            "_view_module": "@jupyter-widgets/controls",
            "_view_module_version": "1.5.0",
            "_view_name": "HBoxView",
            "box_style": "",
            "children": [
              "IPY_MODEL_10491cd78bdf4ff794e7f545e0cbe83b",
              "IPY_MODEL_5e317d44607444ecac57ca6887ea61d7",
              "IPY_MODEL_efd66b83848f471d8aa2088259655266"
            ],
            "layout": "IPY_MODEL_e92c2ffea9f44e54acca0b7c9a917900"
          }
        },
        "10491cd78bdf4ff794e7f545e0cbe83b": {
          "model_module": "@jupyter-widgets/controls",
          "model_name": "HTMLModel",
          "model_module_version": "1.5.0",
          "state": {
            "_dom_classes": [],
            "_model_module": "@jupyter-widgets/controls",
            "_model_module_version": "1.5.0",
            "_model_name": "HTMLModel",
            "_view_count": null,
            "_view_module": "@jupyter-widgets/controls",
            "_view_module_version": "1.5.0",
            "_view_name": "HTMLView",
            "description": "",
            "description_tooltip": null,
            "layout": "IPY_MODEL_1932ec908e544b938b77950d5d788376",
            "placeholder": "​",
            "style": "IPY_MODEL_b2b15b4053b946dfa1b9792a17dbb075",
            "value": "(…)-00003-of-00004-d243063613e5a057.parquet: 100%"
          }
        },
        "5e317d44607444ecac57ca6887ea61d7": {
          "model_module": "@jupyter-widgets/controls",
          "model_name": "FloatProgressModel",
          "model_module_version": "1.5.0",
          "state": {
            "_dom_classes": [],
            "_model_module": "@jupyter-widgets/controls",
            "_model_module_version": "1.5.0",
            "_model_name": "FloatProgressModel",
            "_view_count": null,
            "_view_module": "@jupyter-widgets/controls",
            "_view_module_version": "1.5.0",
            "_view_name": "ProgressView",
            "bar_style": "success",
            "description": "",
            "description_tooltip": null,
            "layout": "IPY_MODEL_126c4103bee0473fb015922e197369c6",
            "max": 247988350,
            "min": 0,
            "orientation": "horizontal",
            "style": "IPY_MODEL_00f14ced8bcc402ba720118ae931694f",
            "value": 247988350
          }
        },
        "efd66b83848f471d8aa2088259655266": {
          "model_module": "@jupyter-widgets/controls",
          "model_name": "HTMLModel",
          "model_module_version": "1.5.0",
          "state": {
            "_dom_classes": [],
            "_model_module": "@jupyter-widgets/controls",
            "_model_module_version": "1.5.0",
            "_model_name": "HTMLModel",
            "_view_count": null,
            "_view_module": "@jupyter-widgets/controls",
            "_view_module_version": "1.5.0",
            "_view_name": "HTMLView",
            "description": "",
            "description_tooltip": null,
            "layout": "IPY_MODEL_2e799b7fb59d4976a3504015db86d99a",
            "placeholder": "​",
            "style": "IPY_MODEL_c0ca1bd6c4fd4e52a820fc7d58a29061",
            "value": " 248M/248M [00:00&lt;00:00, 332MB/s]"
          }
        },
        "e92c2ffea9f44e54acca0b7c9a917900": {
          "model_module": "@jupyter-widgets/base",
          "model_name": "LayoutModel",
          "model_module_version": "1.2.0",
          "state": {
            "_model_module": "@jupyter-widgets/base",
            "_model_module_version": "1.2.0",
            "_model_name": "LayoutModel",
            "_view_count": null,
            "_view_module": "@jupyter-widgets/base",
            "_view_module_version": "1.2.0",
            "_view_name": "LayoutView",
            "align_content": null,
            "align_items": null,
            "align_self": null,
            "border": null,
            "bottom": null,
            "display": null,
            "flex": null,
            "flex_flow": null,
            "grid_area": null,
            "grid_auto_columns": null,
            "grid_auto_flow": null,
            "grid_auto_rows": null,
            "grid_column": null,
            "grid_gap": null,
            "grid_row": null,
            "grid_template_areas": null,
            "grid_template_columns": null,
            "grid_template_rows": null,
            "height": null,
            "justify_content": null,
            "justify_items": null,
            "left": null,
            "margin": null,
            "max_height": null,
            "max_width": null,
            "min_height": null,
            "min_width": null,
            "object_fit": null,
            "object_position": null,
            "order": null,
            "overflow": null,
            "overflow_x": null,
            "overflow_y": null,
            "padding": null,
            "right": null,
            "top": null,
            "visibility": null,
            "width": null
          }
        },
        "1932ec908e544b938b77950d5d788376": {
          "model_module": "@jupyter-widgets/base",
          "model_name": "LayoutModel",
          "model_module_version": "1.2.0",
          "state": {
            "_model_module": "@jupyter-widgets/base",
            "_model_module_version": "1.2.0",
            "_model_name": "LayoutModel",
            "_view_count": null,
            "_view_module": "@jupyter-widgets/base",
            "_view_module_version": "1.2.0",
            "_view_name": "LayoutView",
            "align_content": null,
            "align_items": null,
            "align_self": null,
            "border": null,
            "bottom": null,
            "display": null,
            "flex": null,
            "flex_flow": null,
            "grid_area": null,
            "grid_auto_columns": null,
            "grid_auto_flow": null,
            "grid_auto_rows": null,
            "grid_column": null,
            "grid_gap": null,
            "grid_row": null,
            "grid_template_areas": null,
            "grid_template_columns": null,
            "grid_template_rows": null,
            "height": null,
            "justify_content": null,
            "justify_items": null,
            "left": null,
            "margin": null,
            "max_height": null,
            "max_width": null,
            "min_height": null,
            "min_width": null,
            "object_fit": null,
            "object_position": null,
            "order": null,
            "overflow": null,
            "overflow_x": null,
            "overflow_y": null,
            "padding": null,
            "right": null,
            "top": null,
            "visibility": null,
            "width": null
          }
        },
        "b2b15b4053b946dfa1b9792a17dbb075": {
          "model_module": "@jupyter-widgets/controls",
          "model_name": "DescriptionStyleModel",
          "model_module_version": "1.5.0",
          "state": {
            "_model_module": "@jupyter-widgets/controls",
            "_model_module_version": "1.5.0",
            "_model_name": "DescriptionStyleModel",
            "_view_count": null,
            "_view_module": "@jupyter-widgets/base",
            "_view_module_version": "1.2.0",
            "_view_name": "StyleView",
            "description_width": ""
          }
        },
        "126c4103bee0473fb015922e197369c6": {
          "model_module": "@jupyter-widgets/base",
          "model_name": "LayoutModel",
          "model_module_version": "1.2.0",
          "state": {
            "_model_module": "@jupyter-widgets/base",
            "_model_module_version": "1.2.0",
            "_model_name": "LayoutModel",
            "_view_count": null,
            "_view_module": "@jupyter-widgets/base",
            "_view_module_version": "1.2.0",
            "_view_name": "LayoutView",
            "align_content": null,
            "align_items": null,
            "align_self": null,
            "border": null,
            "bottom": null,
            "display": null,
            "flex": null,
            "flex_flow": null,
            "grid_area": null,
            "grid_auto_columns": null,
            "grid_auto_flow": null,
            "grid_auto_rows": null,
            "grid_column": null,
            "grid_gap": null,
            "grid_row": null,
            "grid_template_areas": null,
            "grid_template_columns": null,
            "grid_template_rows": null,
            "height": null,
            "justify_content": null,
            "justify_items": null,
            "left": null,
            "margin": null,
            "max_height": null,
            "max_width": null,
            "min_height": null,
            "min_width": null,
            "object_fit": null,
            "object_position": null,
            "order": null,
            "overflow": null,
            "overflow_x": null,
            "overflow_y": null,
            "padding": null,
            "right": null,
            "top": null,
            "visibility": null,
            "width": null
          }
        },
        "00f14ced8bcc402ba720118ae931694f": {
          "model_module": "@jupyter-widgets/controls",
          "model_name": "ProgressStyleModel",
          "model_module_version": "1.5.0",
          "state": {
            "_model_module": "@jupyter-widgets/controls",
            "_model_module_version": "1.5.0",
            "_model_name": "ProgressStyleModel",
            "_view_count": null,
            "_view_module": "@jupyter-widgets/base",
            "_view_module_version": "1.2.0",
            "_view_name": "StyleView",
            "bar_color": null,
            "description_width": ""
          }
        },
        "2e799b7fb59d4976a3504015db86d99a": {
          "model_module": "@jupyter-widgets/base",
          "model_name": "LayoutModel",
          "model_module_version": "1.2.0",
          "state": {
            "_model_module": "@jupyter-widgets/base",
            "_model_module_version": "1.2.0",
            "_model_name": "LayoutModel",
            "_view_count": null,
            "_view_module": "@jupyter-widgets/base",
            "_view_module_version": "1.2.0",
            "_view_name": "LayoutView",
            "align_content": null,
            "align_items": null,
            "align_self": null,
            "border": null,
            "bottom": null,
            "display": null,
            "flex": null,
            "flex_flow": null,
            "grid_area": null,
            "grid_auto_columns": null,
            "grid_auto_flow": null,
            "grid_auto_rows": null,
            "grid_column": null,
            "grid_gap": null,
            "grid_row": null,
            "grid_template_areas": null,
            "grid_template_columns": null,
            "grid_template_rows": null,
            "height": null,
            "justify_content": null,
            "justify_items": null,
            "left": null,
            "margin": null,
            "max_height": null,
            "max_width": null,
            "min_height": null,
            "min_width": null,
            "object_fit": null,
            "object_position": null,
            "order": null,
            "overflow": null,
            "overflow_x": null,
            "overflow_y": null,
            "padding": null,
            "right": null,
            "top": null,
            "visibility": null,
            "width": null
          }
        },
        "c0ca1bd6c4fd4e52a820fc7d58a29061": {
          "model_module": "@jupyter-widgets/controls",
          "model_name": "DescriptionStyleModel",
          "model_module_version": "1.5.0",
          "state": {
            "_model_module": "@jupyter-widgets/controls",
            "_model_module_version": "1.5.0",
            "_model_name": "DescriptionStyleModel",
            "_view_count": null,
            "_view_module": "@jupyter-widgets/base",
            "_view_module_version": "1.2.0",
            "_view_name": "StyleView",
            "description_width": ""
          }
        },
        "13ca80d14e4d4a27ad85e40e2562a148": {
          "model_module": "@jupyter-widgets/controls",
          "model_name": "HBoxModel",
          "model_module_version": "1.5.0",
          "state": {
            "_dom_classes": [],
            "_model_module": "@jupyter-widgets/controls",
            "_model_module_version": "1.5.0",
            "_model_name": "HBoxModel",
            "_view_count": null,
            "_view_module": "@jupyter-widgets/controls",
            "_view_module_version": "1.5.0",
            "_view_name": "HBoxView",
            "box_style": "",
            "children": [
              "IPY_MODEL_caa2908516f34b0285008be2d6c22e2f",
              "IPY_MODEL_0a3d8c01d184424ca8b4d93c84b1e9bc",
              "IPY_MODEL_d7c51ad2c47c4236b201f930ff36e678"
            ],
            "layout": "IPY_MODEL_f2a412acbd1d437fa4a38a2c0394060e"
          }
        },
        "caa2908516f34b0285008be2d6c22e2f": {
          "model_module": "@jupyter-widgets/controls",
          "model_name": "HTMLModel",
          "model_module_version": "1.5.0",
          "state": {
            "_dom_classes": [],
            "_model_module": "@jupyter-widgets/controls",
            "_model_module_version": "1.5.0",
            "_model_name": "HTMLModel",
            "_view_count": null,
            "_view_module": "@jupyter-widgets/controls",
            "_view_module_version": "1.5.0",
            "_view_name": "HTMLView",
            "description": "",
            "description_tooltip": null,
            "layout": "IPY_MODEL_b0ce8337194a47c6993a2d69ae181b51",
            "placeholder": "​",
            "style": "IPY_MODEL_90a50e45b749444e8210895e711ba0c1",
            "value": "(…)-00000-of-00001-869c898b519ad725.parquet: 100%"
          }
        },
        "0a3d8c01d184424ca8b4d93c84b1e9bc": {
          "model_module": "@jupyter-widgets/controls",
          "model_name": "FloatProgressModel",
          "model_module_version": "1.5.0",
          "state": {
            "_dom_classes": [],
            "_model_module": "@jupyter-widgets/controls",
            "_model_module_version": "1.5.0",
            "_model_name": "FloatProgressModel",
            "_view_count": null,
            "_view_module": "@jupyter-widgets/controls",
            "_view_module_version": "1.5.0",
            "_view_name": "ProgressView",
            "bar_style": "success",
            "description": "",
            "description_tooltip": null,
            "layout": "IPY_MODEL_066e636ee9b0437e9224cacf263af040",
            "max": 9989127,
            "min": 0,
            "orientation": "horizontal",
            "style": "IPY_MODEL_cf534548749147ea9a24870622add387",
            "value": 9989127
          }
        },
        "d7c51ad2c47c4236b201f930ff36e678": {
          "model_module": "@jupyter-widgets/controls",
          "model_name": "HTMLModel",
          "model_module_version": "1.5.0",
          "state": {
            "_dom_classes": [],
            "_model_module": "@jupyter-widgets/controls",
            "_model_module_version": "1.5.0",
            "_model_name": "HTMLModel",
            "_view_count": null,
            "_view_module": "@jupyter-widgets/controls",
            "_view_module_version": "1.5.0",
            "_view_name": "HTMLView",
            "description": "",
            "description_tooltip": null,
            "layout": "IPY_MODEL_e804aa64de42443d971f36c8f36733e8",
            "placeholder": "​",
            "style": "IPY_MODEL_82922c09a2c842909294c5f82ef93d14",
            "value": " 9.99M/9.99M [00:00&lt;00:00, 298MB/s]"
          }
        },
        "f2a412acbd1d437fa4a38a2c0394060e": {
          "model_module": "@jupyter-widgets/base",
          "model_name": "LayoutModel",
          "model_module_version": "1.2.0",
          "state": {
            "_model_module": "@jupyter-widgets/base",
            "_model_module_version": "1.2.0",
            "_model_name": "LayoutModel",
            "_view_count": null,
            "_view_module": "@jupyter-widgets/base",
            "_view_module_version": "1.2.0",
            "_view_name": "LayoutView",
            "align_content": null,
            "align_items": null,
            "align_self": null,
            "border": null,
            "bottom": null,
            "display": null,
            "flex": null,
            "flex_flow": null,
            "grid_area": null,
            "grid_auto_columns": null,
            "grid_auto_flow": null,
            "grid_auto_rows": null,
            "grid_column": null,
            "grid_gap": null,
            "grid_row": null,
            "grid_template_areas": null,
            "grid_template_columns": null,
            "grid_template_rows": null,
            "height": null,
            "justify_content": null,
            "justify_items": null,
            "left": null,
            "margin": null,
            "max_height": null,
            "max_width": null,
            "min_height": null,
            "min_width": null,
            "object_fit": null,
            "object_position": null,
            "order": null,
            "overflow": null,
            "overflow_x": null,
            "overflow_y": null,
            "padding": null,
            "right": null,
            "top": null,
            "visibility": null,
            "width": null
          }
        },
        "b0ce8337194a47c6993a2d69ae181b51": {
          "model_module": "@jupyter-widgets/base",
          "model_name": "LayoutModel",
          "model_module_version": "1.2.0",
          "state": {
            "_model_module": "@jupyter-widgets/base",
            "_model_module_version": "1.2.0",
            "_model_name": "LayoutModel",
            "_view_count": null,
            "_view_module": "@jupyter-widgets/base",
            "_view_module_version": "1.2.0",
            "_view_name": "LayoutView",
            "align_content": null,
            "align_items": null,
            "align_self": null,
            "border": null,
            "bottom": null,
            "display": null,
            "flex": null,
            "flex_flow": null,
            "grid_area": null,
            "grid_auto_columns": null,
            "grid_auto_flow": null,
            "grid_auto_rows": null,
            "grid_column": null,
            "grid_gap": null,
            "grid_row": null,
            "grid_template_areas": null,
            "grid_template_columns": null,
            "grid_template_rows": null,
            "height": null,
            "justify_content": null,
            "justify_items": null,
            "left": null,
            "margin": null,
            "max_height": null,
            "max_width": null,
            "min_height": null,
            "min_width": null,
            "object_fit": null,
            "object_position": null,
            "order": null,
            "overflow": null,
            "overflow_x": null,
            "overflow_y": null,
            "padding": null,
            "right": null,
            "top": null,
            "visibility": null,
            "width": null
          }
        },
        "90a50e45b749444e8210895e711ba0c1": {
          "model_module": "@jupyter-widgets/controls",
          "model_name": "DescriptionStyleModel",
          "model_module_version": "1.5.0",
          "state": {
            "_model_module": "@jupyter-widgets/controls",
            "_model_module_version": "1.5.0",
            "_model_name": "DescriptionStyleModel",
            "_view_count": null,
            "_view_module": "@jupyter-widgets/base",
            "_view_module_version": "1.2.0",
            "_view_name": "StyleView",
            "description_width": ""
          }
        },
        "066e636ee9b0437e9224cacf263af040": {
          "model_module": "@jupyter-widgets/base",
          "model_name": "LayoutModel",
          "model_module_version": "1.2.0",
          "state": {
            "_model_module": "@jupyter-widgets/base",
            "_model_module_version": "1.2.0",
            "_model_name": "LayoutModel",
            "_view_count": null,
            "_view_module": "@jupyter-widgets/base",
            "_view_module_version": "1.2.0",
            "_view_name": "LayoutView",
            "align_content": null,
            "align_items": null,
            "align_self": null,
            "border": null,
            "bottom": null,
            "display": null,
            "flex": null,
            "flex_flow": null,
            "grid_area": null,
            "grid_auto_columns": null,
            "grid_auto_flow": null,
            "grid_auto_rows": null,
            "grid_column": null,
            "grid_gap": null,
            "grid_row": null,
            "grid_template_areas": null,
            "grid_template_columns": null,
            "grid_template_rows": null,
            "height": null,
            "justify_content": null,
            "justify_items": null,
            "left": null,
            "margin": null,
            "max_height": null,
            "max_width": null,
            "min_height": null,
            "min_width": null,
            "object_fit": null,
            "object_position": null,
            "order": null,
            "overflow": null,
            "overflow_x": null,
            "overflow_y": null,
            "padding": null,
            "right": null,
            "top": null,
            "visibility": null,
            "width": null
          }
        },
        "cf534548749147ea9a24870622add387": {
          "model_module": "@jupyter-widgets/controls",
          "model_name": "ProgressStyleModel",
          "model_module_version": "1.5.0",
          "state": {
            "_model_module": "@jupyter-widgets/controls",
            "_model_module_version": "1.5.0",
            "_model_name": "ProgressStyleModel",
            "_view_count": null,
            "_view_module": "@jupyter-widgets/base",
            "_view_module_version": "1.2.0",
            "_view_name": "StyleView",
            "bar_color": null,
            "description_width": ""
          }
        },
        "e804aa64de42443d971f36c8f36733e8": {
          "model_module": "@jupyter-widgets/base",
          "model_name": "LayoutModel",
          "model_module_version": "1.2.0",
          "state": {
            "_model_module": "@jupyter-widgets/base",
            "_model_module_version": "1.2.0",
            "_model_name": "LayoutModel",
            "_view_count": null,
            "_view_module": "@jupyter-widgets/base",
            "_view_module_version": "1.2.0",
            "_view_name": "LayoutView",
            "align_content": null,
            "align_items": null,
            "align_self": null,
            "border": null,
            "bottom": null,
            "display": null,
            "flex": null,
            "flex_flow": null,
            "grid_area": null,
            "grid_auto_columns": null,
            "grid_auto_flow": null,
            "grid_auto_rows": null,
            "grid_column": null,
            "grid_gap": null,
            "grid_row": null,
            "grid_template_areas": null,
            "grid_template_columns": null,
            "grid_template_rows": null,
            "height": null,
            "justify_content": null,
            "justify_items": null,
            "left": null,
            "margin": null,
            "max_height": null,
            "max_width": null,
            "min_height": null,
            "min_width": null,
            "object_fit": null,
            "object_position": null,
            "order": null,
            "overflow": null,
            "overflow_x": null,
            "overflow_y": null,
            "padding": null,
            "right": null,
            "top": null,
            "visibility": null,
            "width": null
          }
        },
        "82922c09a2c842909294c5f82ef93d14": {
          "model_module": "@jupyter-widgets/controls",
          "model_name": "DescriptionStyleModel",
          "model_module_version": "1.5.0",
          "state": {
            "_model_module": "@jupyter-widgets/controls",
            "_model_module_version": "1.5.0",
            "_model_name": "DescriptionStyleModel",
            "_view_count": null,
            "_view_module": "@jupyter-widgets/base",
            "_view_module_version": "1.2.0",
            "_view_name": "StyleView",
            "description_width": ""
          }
        },
        "9c0d870d0abc471881d02079ac315d70": {
          "model_module": "@jupyter-widgets/controls",
          "model_name": "HBoxModel",
          "model_module_version": "1.5.0",
          "state": {
            "_dom_classes": [],
            "_model_module": "@jupyter-widgets/controls",
            "_model_module_version": "1.5.0",
            "_model_name": "HBoxModel",
            "_view_count": null,
            "_view_module": "@jupyter-widgets/controls",
            "_view_module_version": "1.5.0",
            "_view_name": "HBoxView",
            "box_style": "",
            "children": [
              "IPY_MODEL_c5336c4f90ff42aa891c661be9b2815f",
              "IPY_MODEL_5e9c47cfdd1640f59793b2d5b887a8ea",
              "IPY_MODEL_b95dcedabce1497eb662f7e8d06b4292"
            ],
            "layout": "IPY_MODEL_75a2ea3476494b438c8ac32a3bb74854"
          }
        },
        "c5336c4f90ff42aa891c661be9b2815f": {
          "model_module": "@jupyter-widgets/controls",
          "model_name": "HTMLModel",
          "model_module_version": "1.5.0",
          "state": {
            "_dom_classes": [],
            "_model_module": "@jupyter-widgets/controls",
            "_model_module_version": "1.5.0",
            "_model_name": "HTMLModel",
            "_view_count": null,
            "_view_module": "@jupyter-widgets/controls",
            "_view_module_version": "1.5.0",
            "_view_name": "HTMLView",
            "description": "",
            "description_tooltip": null,
            "layout": "IPY_MODEL_2043b9dc95ca431e9328bf3595c53943",
            "placeholder": "​",
            "style": "IPY_MODEL_efbb64d6361c473b8562a2e537854ac9",
            "value": "Generating train split: 100%"
          }
        },
        "5e9c47cfdd1640f59793b2d5b887a8ea": {
          "model_module": "@jupyter-widgets/controls",
          "model_name": "FloatProgressModel",
          "model_module_version": "1.5.0",
          "state": {
            "_dom_classes": [],
            "_model_module": "@jupyter-widgets/controls",
            "_model_module_version": "1.5.0",
            "_model_name": "FloatProgressModel",
            "_view_count": null,
            "_view_module": "@jupyter-widgets/controls",
            "_view_module_version": "1.5.0",
            "_view_name": "ProgressView",
            "bar_style": "success",
            "description": "",
            "description_tooltip": null,
            "layout": "IPY_MODEL_7abd9124c69740e3ad14fded3082dd37",
            "max": 2119719,
            "min": 0,
            "orientation": "horizontal",
            "style": "IPY_MODEL_6f0bdc4725a744afa087810100d067a9",
            "value": 2119719
          }
        },
        "b95dcedabce1497eb662f7e8d06b4292": {
          "model_module": "@jupyter-widgets/controls",
          "model_name": "HTMLModel",
          "model_module_version": "1.5.0",
          "state": {
            "_dom_classes": [],
            "_model_module": "@jupyter-widgets/controls",
            "_model_module_version": "1.5.0",
            "_model_name": "HTMLModel",
            "_view_count": null,
            "_view_module": "@jupyter-widgets/controls",
            "_view_module_version": "1.5.0",
            "_view_name": "HTMLView",
            "description": "",
            "description_tooltip": null,
            "layout": "IPY_MODEL_cad492d76ec54a43b38d7689c01035a3",
            "placeholder": "​",
            "style": "IPY_MODEL_eaf69993463142bf9e4db02c4dbb8518",
            "value": " 2119719/2119719 [00:06&lt;00:00, 334855.66 examples/s]"
          }
        },
        "75a2ea3476494b438c8ac32a3bb74854": {
          "model_module": "@jupyter-widgets/base",
          "model_name": "LayoutModel",
          "model_module_version": "1.2.0",
          "state": {
            "_model_module": "@jupyter-widgets/base",
            "_model_module_version": "1.2.0",
            "_model_name": "LayoutModel",
            "_view_count": null,
            "_view_module": "@jupyter-widgets/base",
            "_view_module_version": "1.2.0",
            "_view_name": "LayoutView",
            "align_content": null,
            "align_items": null,
            "align_self": null,
            "border": null,
            "bottom": null,
            "display": null,
            "flex": null,
            "flex_flow": null,
            "grid_area": null,
            "grid_auto_columns": null,
            "grid_auto_flow": null,
            "grid_auto_rows": null,
            "grid_column": null,
            "grid_gap": null,
            "grid_row": null,
            "grid_template_areas": null,
            "grid_template_columns": null,
            "grid_template_rows": null,
            "height": null,
            "justify_content": null,
            "justify_items": null,
            "left": null,
            "margin": null,
            "max_height": null,
            "max_width": null,
            "min_height": null,
            "min_width": null,
            "object_fit": null,
            "object_position": null,
            "order": null,
            "overflow": null,
            "overflow_x": null,
            "overflow_y": null,
            "padding": null,
            "right": null,
            "top": null,
            "visibility": null,
            "width": null
          }
        },
        "2043b9dc95ca431e9328bf3595c53943": {
          "model_module": "@jupyter-widgets/base",
          "model_name": "LayoutModel",
          "model_module_version": "1.2.0",
          "state": {
            "_model_module": "@jupyter-widgets/base",
            "_model_module_version": "1.2.0",
            "_model_name": "LayoutModel",
            "_view_count": null,
            "_view_module": "@jupyter-widgets/base",
            "_view_module_version": "1.2.0",
            "_view_name": "LayoutView",
            "align_content": null,
            "align_items": null,
            "align_self": null,
            "border": null,
            "bottom": null,
            "display": null,
            "flex": null,
            "flex_flow": null,
            "grid_area": null,
            "grid_auto_columns": null,
            "grid_auto_flow": null,
            "grid_auto_rows": null,
            "grid_column": null,
            "grid_gap": null,
            "grid_row": null,
            "grid_template_areas": null,
            "grid_template_columns": null,
            "grid_template_rows": null,
            "height": null,
            "justify_content": null,
            "justify_items": null,
            "left": null,
            "margin": null,
            "max_height": null,
            "max_width": null,
            "min_height": null,
            "min_width": null,
            "object_fit": null,
            "object_position": null,
            "order": null,
            "overflow": null,
            "overflow_x": null,
            "overflow_y": null,
            "padding": null,
            "right": null,
            "top": null,
            "visibility": null,
            "width": null
          }
        },
        "efbb64d6361c473b8562a2e537854ac9": {
          "model_module": "@jupyter-widgets/controls",
          "model_name": "DescriptionStyleModel",
          "model_module_version": "1.5.0",
          "state": {
            "_model_module": "@jupyter-widgets/controls",
            "_model_module_version": "1.5.0",
            "_model_name": "DescriptionStyleModel",
            "_view_count": null,
            "_view_module": "@jupyter-widgets/base",
            "_view_module_version": "1.2.0",
            "_view_name": "StyleView",
            "description_width": ""
          }
        },
        "7abd9124c69740e3ad14fded3082dd37": {
          "model_module": "@jupyter-widgets/base",
          "model_name": "LayoutModel",
          "model_module_version": "1.2.0",
          "state": {
            "_model_module": "@jupyter-widgets/base",
            "_model_module_version": "1.2.0",
            "_model_name": "LayoutModel",
            "_view_count": null,
            "_view_module": "@jupyter-widgets/base",
            "_view_module_version": "1.2.0",
            "_view_name": "LayoutView",
            "align_content": null,
            "align_items": null,
            "align_self": null,
            "border": null,
            "bottom": null,
            "display": null,
            "flex": null,
            "flex_flow": null,
            "grid_area": null,
            "grid_auto_columns": null,
            "grid_auto_flow": null,
            "grid_auto_rows": null,
            "grid_column": null,
            "grid_gap": null,
            "grid_row": null,
            "grid_template_areas": null,
            "grid_template_columns": null,
            "grid_template_rows": null,
            "height": null,
            "justify_content": null,
            "justify_items": null,
            "left": null,
            "margin": null,
            "max_height": null,
            "max_width": null,
            "min_height": null,
            "min_width": null,
            "object_fit": null,
            "object_position": null,
            "order": null,
            "overflow": null,
            "overflow_x": null,
            "overflow_y": null,
            "padding": null,
            "right": null,
            "top": null,
            "visibility": null,
            "width": null
          }
        },
        "6f0bdc4725a744afa087810100d067a9": {
          "model_module": "@jupyter-widgets/controls",
          "model_name": "ProgressStyleModel",
          "model_module_version": "1.5.0",
          "state": {
            "_model_module": "@jupyter-widgets/controls",
            "_model_module_version": "1.5.0",
            "_model_name": "ProgressStyleModel",
            "_view_count": null,
            "_view_module": "@jupyter-widgets/base",
            "_view_module_version": "1.2.0",
            "_view_name": "StyleView",
            "bar_color": null,
            "description_width": ""
          }
        },
        "cad492d76ec54a43b38d7689c01035a3": {
          "model_module": "@jupyter-widgets/base",
          "model_name": "LayoutModel",
          "model_module_version": "1.2.0",
          "state": {
            "_model_module": "@jupyter-widgets/base",
            "_model_module_version": "1.2.0",
            "_model_name": "LayoutModel",
            "_view_count": null,
            "_view_module": "@jupyter-widgets/base",
            "_view_module_version": "1.2.0",
            "_view_name": "LayoutView",
            "align_content": null,
            "align_items": null,
            "align_self": null,
            "border": null,
            "bottom": null,
            "display": null,
            "flex": null,
            "flex_flow": null,
            "grid_area": null,
            "grid_auto_columns": null,
            "grid_auto_flow": null,
            "grid_auto_rows": null,
            "grid_column": null,
            "grid_gap": null,
            "grid_row": null,
            "grid_template_areas": null,
            "grid_template_columns": null,
            "grid_template_rows": null,
            "height": null,
            "justify_content": null,
            "justify_items": null,
            "left": null,
            "margin": null,
            "max_height": null,
            "max_width": null,
            "min_height": null,
            "min_width": null,
            "object_fit": null,
            "object_position": null,
            "order": null,
            "overflow": null,
            "overflow_x": null,
            "overflow_y": null,
            "padding": null,
            "right": null,
            "top": null,
            "visibility": null,
            "width": null
          }
        },
        "eaf69993463142bf9e4db02c4dbb8518": {
          "model_module": "@jupyter-widgets/controls",
          "model_name": "DescriptionStyleModel",
          "model_module_version": "1.5.0",
          "state": {
            "_model_module": "@jupyter-widgets/controls",
            "_model_module_version": "1.5.0",
            "_model_name": "DescriptionStyleModel",
            "_view_count": null,
            "_view_module": "@jupyter-widgets/base",
            "_view_module_version": "1.2.0",
            "_view_name": "StyleView",
            "description_width": ""
          }
        },
        "9cad24ceeb884efb8689706a6b330017": {
          "model_module": "@jupyter-widgets/controls",
          "model_name": "HBoxModel",
          "model_module_version": "1.5.0",
          "state": {
            "_dom_classes": [],
            "_model_module": "@jupyter-widgets/controls",
            "_model_module_version": "1.5.0",
            "_model_name": "HBoxModel",
            "_view_count": null,
            "_view_module": "@jupyter-widgets/controls",
            "_view_module_version": "1.5.0",
            "_view_name": "HBoxView",
            "box_style": "",
            "children": [
              "IPY_MODEL_4bc592acfaa646769f772eae4c5cdebe",
              "IPY_MODEL_376125c4da84453f85a2e98169f95c86",
              "IPY_MODEL_eab0c0e3ff3a46a1b568a3b1555e68ee"
            ],
            "layout": "IPY_MODEL_307c38df0eec4e22a140e33543245fd2"
          }
        },
        "4bc592acfaa646769f772eae4c5cdebe": {
          "model_module": "@jupyter-widgets/controls",
          "model_name": "HTMLModel",
          "model_module_version": "1.5.0",
          "state": {
            "_dom_classes": [],
            "_model_module": "@jupyter-widgets/controls",
            "_model_module_version": "1.5.0",
            "_model_name": "HTMLModel",
            "_view_count": null,
            "_view_module": "@jupyter-widgets/controls",
            "_view_module_version": "1.5.0",
            "_view_name": "HTMLView",
            "description": "",
            "description_tooltip": null,
            "layout": "IPY_MODEL_fe59e29be2ca4fa9a5800203a8d72f1b",
            "placeholder": "​",
            "style": "IPY_MODEL_c6da26f86f544d4da8dc909417fa46d7",
            "value": "Generating validation split: 100%"
          }
        },
        "376125c4da84453f85a2e98169f95c86": {
          "model_module": "@jupyter-widgets/controls",
          "model_name": "FloatProgressModel",
          "model_module_version": "1.5.0",
          "state": {
            "_dom_classes": [],
            "_model_module": "@jupyter-widgets/controls",
            "_model_module_version": "1.5.0",
            "_model_name": "FloatProgressModel",
            "_view_count": null,
            "_view_module": "@jupyter-widgets/controls",
            "_view_module_version": "1.5.0",
            "_view_name": "ProgressView",
            "bar_style": "success",
            "description": "",
            "description_tooltip": null,
            "layout": "IPY_MODEL_aa7717b7f5f1490aa43f35ce45752508",
            "max": 21990,
            "min": 0,
            "orientation": "horizontal",
            "style": "IPY_MODEL_984625f063224e369e80d1e4f1566e7e",
            "value": 21990
          }
        },
        "eab0c0e3ff3a46a1b568a3b1555e68ee": {
          "model_module": "@jupyter-widgets/controls",
          "model_name": "HTMLModel",
          "model_module_version": "1.5.0",
          "state": {
            "_dom_classes": [],
            "_model_module": "@jupyter-widgets/controls",
            "_model_module_version": "1.5.0",
            "_model_name": "HTMLModel",
            "_view_count": null,
            "_view_module": "@jupyter-widgets/controls",
            "_view_module_version": "1.5.0",
            "_view_name": "HTMLView",
            "description": "",
            "description_tooltip": null,
            "layout": "IPY_MODEL_35fe36b7df724a8aa33167a3b6bae2cf",
            "placeholder": "​",
            "style": "IPY_MODEL_27996a9d37cf42ed96c34177c55c2043",
            "value": " 21990/21990 [00:00&lt;00:00, 312882.47 examples/s]"
          }
        },
        "307c38df0eec4e22a140e33543245fd2": {
          "model_module": "@jupyter-widgets/base",
          "model_name": "LayoutModel",
          "model_module_version": "1.2.0",
          "state": {
            "_model_module": "@jupyter-widgets/base",
            "_model_module_version": "1.2.0",
            "_model_name": "LayoutModel",
            "_view_count": null,
            "_view_module": "@jupyter-widgets/base",
            "_view_module_version": "1.2.0",
            "_view_name": "LayoutView",
            "align_content": null,
            "align_items": null,
            "align_self": null,
            "border": null,
            "bottom": null,
            "display": null,
            "flex": null,
            "flex_flow": null,
            "grid_area": null,
            "grid_auto_columns": null,
            "grid_auto_flow": null,
            "grid_auto_rows": null,
            "grid_column": null,
            "grid_gap": null,
            "grid_row": null,
            "grid_template_areas": null,
            "grid_template_columns": null,
            "grid_template_rows": null,
            "height": null,
            "justify_content": null,
            "justify_items": null,
            "left": null,
            "margin": null,
            "max_height": null,
            "max_width": null,
            "min_height": null,
            "min_width": null,
            "object_fit": null,
            "object_position": null,
            "order": null,
            "overflow": null,
            "overflow_x": null,
            "overflow_y": null,
            "padding": null,
            "right": null,
            "top": null,
            "visibility": null,
            "width": null
          }
        },
        "fe59e29be2ca4fa9a5800203a8d72f1b": {
          "model_module": "@jupyter-widgets/base",
          "model_name": "LayoutModel",
          "model_module_version": "1.2.0",
          "state": {
            "_model_module": "@jupyter-widgets/base",
            "_model_module_version": "1.2.0",
            "_model_name": "LayoutModel",
            "_view_count": null,
            "_view_module": "@jupyter-widgets/base",
            "_view_module_version": "1.2.0",
            "_view_name": "LayoutView",
            "align_content": null,
            "align_items": null,
            "align_self": null,
            "border": null,
            "bottom": null,
            "display": null,
            "flex": null,
            "flex_flow": null,
            "grid_area": null,
            "grid_auto_columns": null,
            "grid_auto_flow": null,
            "grid_auto_rows": null,
            "grid_column": null,
            "grid_gap": null,
            "grid_row": null,
            "grid_template_areas": null,
            "grid_template_columns": null,
            "grid_template_rows": null,
            "height": null,
            "justify_content": null,
            "justify_items": null,
            "left": null,
            "margin": null,
            "max_height": null,
            "max_width": null,
            "min_height": null,
            "min_width": null,
            "object_fit": null,
            "object_position": null,
            "order": null,
            "overflow": null,
            "overflow_x": null,
            "overflow_y": null,
            "padding": null,
            "right": null,
            "top": null,
            "visibility": null,
            "width": null
          }
        },
        "c6da26f86f544d4da8dc909417fa46d7": {
          "model_module": "@jupyter-widgets/controls",
          "model_name": "DescriptionStyleModel",
          "model_module_version": "1.5.0",
          "state": {
            "_model_module": "@jupyter-widgets/controls",
            "_model_module_version": "1.5.0",
            "_model_name": "DescriptionStyleModel",
            "_view_count": null,
            "_view_module": "@jupyter-widgets/base",
            "_view_module_version": "1.2.0",
            "_view_name": "StyleView",
            "description_width": ""
          }
        },
        "aa7717b7f5f1490aa43f35ce45752508": {
          "model_module": "@jupyter-widgets/base",
          "model_name": "LayoutModel",
          "model_module_version": "1.2.0",
          "state": {
            "_model_module": "@jupyter-widgets/base",
            "_model_module_version": "1.2.0",
            "_model_name": "LayoutModel",
            "_view_count": null,
            "_view_module": "@jupyter-widgets/base",
            "_view_module_version": "1.2.0",
            "_view_name": "LayoutView",
            "align_content": null,
            "align_items": null,
            "align_self": null,
            "border": null,
            "bottom": null,
            "display": null,
            "flex": null,
            "flex_flow": null,
            "grid_area": null,
            "grid_auto_columns": null,
            "grid_auto_flow": null,
            "grid_auto_rows": null,
            "grid_column": null,
            "grid_gap": null,
            "grid_row": null,
            "grid_template_areas": null,
            "grid_template_columns": null,
            "grid_template_rows": null,
            "height": null,
            "justify_content": null,
            "justify_items": null,
            "left": null,
            "margin": null,
            "max_height": null,
            "max_width": null,
            "min_height": null,
            "min_width": null,
            "object_fit": null,
            "object_position": null,
            "order": null,
            "overflow": null,
            "overflow_x": null,
            "overflow_y": null,
            "padding": null,
            "right": null,
            "top": null,
            "visibility": null,
            "width": null
          }
        },
        "984625f063224e369e80d1e4f1566e7e": {
          "model_module": "@jupyter-widgets/controls",
          "model_name": "ProgressStyleModel",
          "model_module_version": "1.5.0",
          "state": {
            "_model_module": "@jupyter-widgets/controls",
            "_model_module_version": "1.5.0",
            "_model_name": "ProgressStyleModel",
            "_view_count": null,
            "_view_module": "@jupyter-widgets/base",
            "_view_module_version": "1.2.0",
            "_view_name": "StyleView",
            "bar_color": null,
            "description_width": ""
          }
        },
        "35fe36b7df724a8aa33167a3b6bae2cf": {
          "model_module": "@jupyter-widgets/base",
          "model_name": "LayoutModel",
          "model_module_version": "1.2.0",
          "state": {
            "_model_module": "@jupyter-widgets/base",
            "_model_module_version": "1.2.0",
            "_model_name": "LayoutModel",
            "_view_count": null,
            "_view_module": "@jupyter-widgets/base",
            "_view_module_version": "1.2.0",
            "_view_name": "LayoutView",
            "align_content": null,
            "align_items": null,
            "align_self": null,
            "border": null,
            "bottom": null,
            "display": null,
            "flex": null,
            "flex_flow": null,
            "grid_area": null,
            "grid_auto_columns": null,
            "grid_auto_flow": null,
            "grid_auto_rows": null,
            "grid_column": null,
            "grid_gap": null,
            "grid_row": null,
            "grid_template_areas": null,
            "grid_template_columns": null,
            "grid_template_rows": null,
            "height": null,
            "justify_content": null,
            "justify_items": null,
            "left": null,
            "margin": null,
            "max_height": null,
            "max_width": null,
            "min_height": null,
            "min_width": null,
            "object_fit": null,
            "object_position": null,
            "order": null,
            "overflow": null,
            "overflow_x": null,
            "overflow_y": null,
            "padding": null,
            "right": null,
            "top": null,
            "visibility": null,
            "width": null
          }
        },
        "27996a9d37cf42ed96c34177c55c2043": {
          "model_module": "@jupyter-widgets/controls",
          "model_name": "DescriptionStyleModel",
          "model_module_version": "1.5.0",
          "state": {
            "_model_module": "@jupyter-widgets/controls",
            "_model_module_version": "1.5.0",
            "_model_name": "DescriptionStyleModel",
            "_view_count": null,
            "_view_module": "@jupyter-widgets/base",
            "_view_module_version": "1.2.0",
            "_view_name": "StyleView",
            "description_width": ""
          }
        }
      }
    },
    "accelerator": "GPU"
  },
  "cells": [
    {
      "cell_type": "markdown",
      "source": [
        "<font size=20>Laboratory 7:Applications in NLP</font>\n",
        "\n",
        "\n",
        "In this lab you will:\n",
        "- Implement the Transformer Encoder Layer\n",
        "- Understand what a language model (LM) is\n",
        "- Train a Transformer LM\n",
        "- Generate text from your trained Transformer model\n"
      ],
      "metadata": {
        "id": "n6ekSOXWxlsM"
      }
    },
    {
      "cell_type": "markdown",
      "source": [
        "# Part I: Transformer architecture\n",
        "\n",
        "\n",
        "\n",
        "\n",
        "<img src=\"https://i.ibb.co/S7rqcZJ0/enc-small.png\" align=\"left\" style=\"margin-right: 20;\" width=\"273\" height=\"495\"/>\n",
        "\n",
        "#### Recap Lecture 6\n",
        "\n",
        "The transformer encoder, introduced in [\"Attention is All You Need\"](https://arxiv.org/pdf/1706.03762), is designed to learn contextual representations for an input sequence $x = [x_1, ..., x_T]$. Unlike RNNs, which process each $x_i$ sequentially, a transformer layer can process the entire sequence in parallel, through the *multi-head self-attention* mechanism.\n",
        "\n",
        "Positional information is added explicitly to the input through *positional encoding*. Attention outputs are further processed by *position-wise feed-forward netoworks*. To stabilize training and facilitate deeper architectures, each sub-layer (attention and feed-forward) is wrapped with a *residual connection* followed by *layer normalization*.\n",
        "\n",
        "In the next sections, we'll analyze each component and work our way up to a full transformer layer implementation.\n"
      ],
      "metadata": {
        "id": "xNIgiKl6w4og"
      }
    },
    {
      "cell_type": "markdown",
      "source": [
        "## 1. Word embeddings\n",
        "\n",
        "### Recap intuition\n",
        "\n",
        "<div>\n",
        "<img src=https://miro.medium.com/v2/resize:fit:1400/1*sAJdxEsDjsPMioHyzlN3_A.png width=\"750\"/>\n",
        "<div>\n",
        "\n",
        "We want to represent words in a high-dimensional space, such that words that are *semantically similar* tend to have similar features and therefore *similar vectors*."
      ],
      "metadata": {
        "id": "TIqR59Digq52"
      }
    },
    {
      "cell_type": "code",
      "source": [
        "import spacy\n",
        "#from spacy.lang.fr.examples import sentences\n",
        "from typing import List, Tuple\n",
        "import locale\n",
        "import torch\n",
        "import torch.nn as nn\n",
        "from torch import Tensor\n",
        "def getpreferredencoding(do_setlocale = True):\n",
        "    return \"UTF-8\"\n",
        "locale.getpreferredencoding = getpreferredencoding\n",
        "!python -m spacy download en_core_web_md\n",
        "nlp = spacy.load(\"en_core_web_md\")"
      ],
      "metadata": {
        "colab": {
          "base_uri": "https://localhost:8080/"
        },
        "collapsed": true,
        "id": "uPEUU1Skq7DZ",
        "outputId": "e26f3b3d-4e6a-4e20-d273-0ceb74afbf79"
      },
      "execution_count": null,
      "outputs": [
        {
          "output_type": "stream",
          "name": "stdout",
          "text": [
            "Collecting en-core-web-md==3.8.0\n",
            "  Downloading https://github.com/explosion/spacy-models/releases/download/en_core_web_md-3.8.0/en_core_web_md-3.8.0-py3-none-any.whl (33.5 MB)\n",
            "\u001b[2K     \u001b[90m━━━━━━━━━━━━━━━━━━━━━━━━━━━━━━━━━━━━━━━━\u001b[0m \u001b[32m33.5/33.5 MB\u001b[0m \u001b[31m40.6 MB/s\u001b[0m eta \u001b[36m0:00:00\u001b[0m\n",
            "\u001b[?25hInstalling collected packages: en-core-web-md\n",
            "Successfully installed en-core-web-md-3.8.0\n",
            "\u001b[38;5;2m✔ Download and installation successful\u001b[0m\n",
            "You can now load the package via spacy.load('en_core_web_md')\n",
            "\u001b[38;5;3m⚠ Restart to reload dependencies\u001b[0m\n",
            "If you are in a Jupyter or Colab notebook, you may need to restart Python in\n",
            "order to load all the package's dependencies. You can do this by selecting the\n",
            "'Restart kernel' or 'Restart runtime' option.\n"
          ]
        }
      ]
    },
    {
      "cell_type": "code",
      "source": [
        "def get_tokens(sentence: str) -> Tuple[List[str], Tensor]:\n",
        "    \"\"\"\n",
        "    Given a sentence, tokenize it (split it into words) with Spacy and\n",
        "    return a list of its words.\n",
        "    \"\"\"\n",
        "    doc = nlp(sentence)\n",
        "    tokens = []\n",
        "    vectors = []\n",
        "    for token in doc:\n",
        "        vectors.append(token.vector)\n",
        "        tokens.append(token)\n",
        "    word_vectors = torch.stack([torch.tensor(t) for t in vectors])\n",
        "\n",
        "    return tokens, word_vectors\n",
        "\n",
        "sentences = [\n",
        "    \"I went to the supermarket and brought groceries back home\",\n",
        "    \"The workers went to the construction site then left early to go home\",\n",
        "    \"The blue sky turned a reddish hue after staring at it long enough\"\n",
        "]\n",
        "\n",
        "# get tokens and embeddings for one of the sentences\n",
        "x = sentences[0]\n",
        "x_tokens, x_embedded = get_tokens(x)\n",
        "print('Tokens for sentence', x_tokens)\n",
        "print('Spacy embedding dim', x_tokens[0].vector.shape)\n",
        "\n",
        "# add batch size\n",
        "x_embedded = x_embedded.unsqueeze(0)\n",
        "print('x embedded shape', x_embedded.shape)"
      ],
      "metadata": {
        "id": "W_UmfXd_tWYj",
        "colab": {
          "base_uri": "https://localhost:8080/"
        },
        "outputId": "74e4f280-40ba-4e0b-d3e4-58e30329d276"
      },
      "execution_count": null,
      "outputs": [
        {
          "output_type": "stream",
          "name": "stdout",
          "text": [
            "Tokens for sentence [I, went, to, the, supermarket, and, brought, groceries, back, home]\n",
            "Spacy embedding dim (300,)\n",
            "x embedded shape torch.Size([1, 10, 300])\n"
          ]
        }
      ]
    },
    {
      "cell_type": "markdown",
      "source": [
        "## 2. Self-Attention\n",
        "\n",
        "Recap: Self-attention identifies where the relevant features in the sequence are and extracts them, by looking at all the relationships between the tokens $(x_i, x_j)$ in a sequence $[x_1, x_2, x_3, ..., x_T]$.\n",
        "\n",
        "Given input matrix $X \\in \\mathbb{R}^{B \\times T \\times d_{\\text{model}}}$, we want to compute:\n",
        "\\begin{align*}\n",
        "\\text{Attention}(Q, K, V) = \\text{softmax} \\left( \\frac{Q K^\\top}{\\sqrt{d_k}} \\right) V\n",
        "\\end{align*}\n",
        "Where $d_{model}$ is the embedding size, T is the input sequence length, and B is the batch size.\n",
        "\n",
        "In Laboratory 6, we implemented a simplified self-attention mehcanism, in which the keys, queries and values were the input embeddings themselves. However, in the transformer, we compute the Q, K, and V matrices via learned linear projections over the input:\n",
        "\n",
        "\\begin{align*}\n",
        "Q = X W_Q, \\quad K = X W_K, \\quad V = X W_V\n",
        "\\end{align*}\n",
        "\n",
        "Where $Q, K \\in \\mathbb{R}^{B \\times T \\times d_k}$ and $V \\in \\mathbb{R}^{B \\times T \\times d_v}$. We'll use $d_{model} = d_k = d_v$, as in the original transformer."
      ],
      "metadata": {
        "id": "OBdf3ZPVgtoX"
      }
    },
    {
      "cell_type": "code",
      "source": [
        "class SelfAttention(nn.Module):\n",
        "  def __init__(self, d_model, dropout=0.1):\n",
        "    super().__init__()\n",
        "    # embedding dim\n",
        "    self.d_model = d_model\n",
        "    # linear projections\n",
        "    self.q_proj = nn.Linear(d_model, d_model)\n",
        "    self.k_proj = nn.Linear(d_model, d_model)\n",
        "    self.v_proj = nn.Linear(d_model, d_model)\n",
        "\n",
        "    self.softmax = nn.Softmax(dim=-1)\n",
        "\n",
        "    self.out_dropout = nn.Dropout(dropout)\n",
        "    self.score_dropout = nn.Dropout(dropout)\n",
        "  def forward(self, x):\n",
        "    \"\"\"\n",
        "    :param x: input of size batch_size x seq_len x d_model\n",
        "    :returns: output z of size batch_size x seq_len x d_model\n",
        "              attn_scores of size batch_size x seq_len x seq_len\n",
        "    \"\"\"\n",
        "    #TODO: compute queries, values and keys\n",
        "    q = self.q_proj(x)\n",
        "    k = self.k_proj(x)\n",
        "    v = self.v_proj(x)\n",
        "\n",
        "    # compute attention scores\n",
        "    attn_scores = q @ k.transpose(-2, -1)\n",
        "    attn_scores = attn_scores / (self.d_model ** 0.5)\n",
        "    # normalize attention scores\n",
        "    attn_scores = self.softmax(attn_scores)\n",
        "\n",
        "    attn_scores = self.score_dropout(attn_scores)\n",
        "\n",
        "    # compute attention output\n",
        "    output = attn_scores @ v\n",
        "    output = self.out_dropout(output)\n",
        "    return output, attn_scores"
      ],
      "metadata": {
        "id": "AKvLGwupj1rd"
      },
      "execution_count": null,
      "outputs": []
    },
    {
      "cell_type": "markdown",
      "source": [
        "Great! Let's forward through our Self-Attention module:"
      ],
      "metadata": {
        "id": "JoYBJo7R5z1c"
      }
    },
    {
      "cell_type": "code",
      "source": [
        "D_MODEL = 300 # dim of the spacy embeddings\n",
        "self_attn =  SelfAttention(d_model=D_MODEL).eval()\n",
        "output, attn_scores = self_attn(x_embedded)\n",
        "print(output.shape)"
      ],
      "metadata": {
        "colab": {
          "base_uri": "https://localhost:8080/"
        },
        "id": "NMpBRijR54lC",
        "outputId": "18ab0729-18e8-4424-aae2-888430d4e5ad"
      },
      "execution_count": null,
      "outputs": [
        {
          "output_type": "stream",
          "name": "stdout",
          "text": [
            "torch.Size([1, 10, 300])\n"
          ]
        }
      ]
    },
    {
      "cell_type": "code",
      "source": [
        "# function to plot attention scores\n",
        "import matplotlib.pyplot as plt\n",
        "import numpy as np\n",
        "def plot_scores(scores, tokens):\n",
        "  fig, ax = plt.subplots()\n",
        "  heatmap = ax.pcolor(scores, cmap=plt.cm.Blues)\n",
        "\n",
        "  # put the major ticks at the middle of each cell\n",
        "  ax.set_xticks(np.arange(scores.shape[1]) + 0.5, minor=False)\n",
        "  ax.set_yticks(np.arange(scores.shape[0]) + 0.5, minor=False)\n",
        "\n",
        "  # without this I get some extra columns rows\n",
        "  # http://stackoverflow.com/questions/31601351/why-does-this-matplotlib-heatmap-have-an-extra-blank-column\n",
        "  ax.set_xlim(0, int(scores.shape[1]))\n",
        "  ax.set_ylim(0, int(scores.shape[0]))\n",
        "\n",
        "  # want a more natural, table-like display\n",
        "  ax.invert_yaxis()\n",
        "  ax.xaxis.tick_top()\n",
        "\n",
        "  # source words -> column labels\n",
        "  ax.set_xticklabels(tokens, minor=False)\n",
        "  # target words -> row labels\n",
        "  ax.set_yticklabels(tokens, minor=False)\n",
        "\n",
        "  plt.xticks(rotation=45)\n",
        "\n",
        "  # plt.tight_layout()\n",
        "  plt.show()\n",
        "\n",
        "tokens = x_tokens\n",
        "plot_scores(attn_scores.detach().squeeze(), tokens)"
      ],
      "metadata": {
        "colab": {
          "base_uri": "https://localhost:8080/",
          "height": 488
        },
        "id": "tEDr5Aih91np",
        "outputId": "3657c541-066f-4079-bb5b-7e33ba3c4c82"
      },
      "execution_count": null,
      "outputs": [
        {
          "output_type": "display_data",
          "data": {
            "text/plain": [
              "<Figure size 640x480 with 1 Axes>"
            ],
            "image/png": "[encoded data removed]"
          },
          "metadata": {}
        }
      ]
    },
    {
      "cell_type": "markdown",
      "source": [
        "Usually, attention plots are fairly interpretable, as we saw in Lab 6. However, the linear projections in our module are not trained yet, so noisiness is expected."
      ],
      "metadata": {
        "id": "HXtsc_rHQOyo"
      }
    },
    {
      "cell_type": "markdown",
      "source": [
        "### Masked Self-Attention\n",
        "\n",
        "In some situations, we do not want to compute full self-attention (every token attens to all other tokens) during training.\n",
        "\n",
        "Modern LLMs are trained with the **Causal Language Modeling** objective - at every step, the model predicts the next token, given the previous ones. The model's predictions should therefore only depend on tokens to the left of the current position. We prevent attention from attending to 'the future' by masking the tokens on the right side.\n",
        "\n",
        "The mask is added to attention scores before applying Softmax - elements above the main diagonal are masked with `-inf`.\n",
        "\n",
        "![Attention](https://i.ibb.co/6D0sfJt/attention.png)"
      ],
      "metadata": {
        "id": "myaTpAQkma4x"
      }
    },
    {
      "cell_type": "code",
      "source": [
        "class SelfAttention(nn.Module):\n",
        "  def __init__(self, d_model, dropout=0.1):\n",
        "    super().__init__()\n",
        "    self.d_model = d_model\n",
        "    self.q_proj = nn.Linear(d_model, d_model)\n",
        "    self.k_proj = nn.Linear(d_model, d_model)\n",
        "    self.v_proj = nn.Linear(d_model, d_model)\n",
        "    self.softmax = nn.Softmax(dim=-1)\n",
        "    self.out_dropout = nn.Dropout(dropout)\n",
        "    self.score_dropout = nn.Dropout(dropout)\n",
        "\n",
        "  # let's add an optional mask parameter to the forward pass\n",
        "  def forward(self, x, mask=None):\n",
        "    \"\"\"\n",
        "    :param x: input of size batch_size x seq_len x d_model\n",
        "    :param mask: attn mask of size seq_len x seq_len\n",
        "    :returns: output z of size batch_size x seq_len x d_model\n",
        "              attn_scores of size batch_size x seq_len x seq_len\n",
        "    \"\"\"\n",
        "    #TODO: compute queries, keys, and values\n",
        "    q = self.q_proj(x)\n",
        "    k = self.k_proj(x)\n",
        "    v = self.v_proj(x)\n",
        "\n",
        "    attn_scores = q @ k.transpose(-2, -1)\n",
        "    attn_scores = attn_scores / (self.d_model ** 0.5)\n",
        "    # !! the mask is added to unormalized attention scores\n",
        "    if mask is not None:\n",
        "      attn_scores += mask\n",
        "    # normalize attention scores\n",
        "    # Q: what happens to positions filled with -inf after softmax?\n",
        "    attn_scores = self.softmax(attn_scores)\n",
        "    attn_scores = self.score_dropout(attn_scores)\n",
        "\n",
        "    # compute attention output\n",
        "    output = attn_scores @ v\n",
        "    output = self.out_dropout(output)\n",
        "\n",
        "    return output, attn_scores"
      ],
      "metadata": {
        "id": "M5Ep6y5zWfUX"
      },
      "execution_count": null,
      "outputs": []
    },
    {
      "cell_type": "code",
      "source": [
        "max_sequence_length = x_embedded.shape[1] # T\n",
        "# masked positions are filled with -inf\n",
        "# unmasked positions are filled with 0\n",
        "causal_mask = nn.Transformer.generate_square_subsequent_mask(max_sequence_length)\n",
        "self_attn = SelfAttention(d_model=D_MODEL).eval()\n",
        "# forward pass through the sequence with causal mask\n",
        "output, attn_scores = self_attn(x_embedded, mask=causal_mask)\n",
        "# plot again, notice any difference?\n",
        "plot_scores(attn_scores.detach().squeeze(), tokens)"
      ],
      "metadata": {
        "colab": {
          "base_uri": "https://localhost:8080/",
          "height": 488
        },
        "id": "4N7O9rjuWzon",
        "outputId": "14d0c921-30a4-488a-9c3c-219535f91daf"
      },
      "execution_count": null,
      "outputs": [
        {
          "output_type": "display_data",
          "data": {
            "text/plain": [
              "<Figure size 640x480 with 1 Axes>"
            ],
            "image/png": "[encoded data removed]"
          },
          "metadata": {}
        }
      ]
    },
    {
      "cell_type": "markdown",
      "source": [
        "### Multihead Self-Attention (MHA)\n",
        "\n",
        "We now have a full implementation of a **single-head** Self-Attention layer, with the option to mask certain input positions. This module can learn one set of relationships between the elements of sequence `x`. However, there are multiple types of dependencies between words in a sentence, so why stop here?\n",
        "\n",
        "In MHA, for a chosen `num_heads` > 1, Self-Attention is computed `num_heads` times, in parallel. Each head has its own queries, keys, and values, and learns a different subspace. The final output becomes:\n",
        "\n",
        "\\begin{aligned}\n",
        "\\text{MultiHead}(Q, K, V) &= \\text{Concat}(\\text{head}_1, \\dots, \\text{head}_h)W^O \\\\\n",
        "\\text{where} \\quad \\text{head}_i &= \\text{Attention}(QW_i^Q, KW_i^K, VW_i^V) \\\\\n",
        "\\end{aligned}\n",
        "\n",
        "Where  $W^O \\in \\mathbb{R}^{B \\times d_{model} \\times d_{model}}$ is a projection matrix that learns to mix information from all heads.\n",
        "\n",
        "In practice, the embedding dimension `d_model` is typically split into `num_heads` attention heads of size `head_dim = d_model // num_heads`."
      ],
      "metadata": {
        "id": "kIwmjv0ZjjJ9"
      }
    },
    {
      "cell_type": "code",
      "source": [
        "import math\n",
        "class MultiHeadAttention(nn.Module):\n",
        "    def __init__(self, d_model, num_heads, dropout=0.1):\n",
        "      super().__init__()\n",
        "      self.d_model = d_model\n",
        "      self.num_heads = num_heads\n",
        "      # compute head dimension\n",
        "      self.head_dim = d_model // num_heads\n",
        "      # --> d_model = head_dim * num_heads\n",
        "      # so we can still use one linear transformation\n",
        "      # to get q, k, v for all heads in one pass\n",
        "      self.q_proj = nn.Linear(d_model, d_model)\n",
        "      self.k_proj = nn.Linear(d_model, d_model)\n",
        "      self.v_proj = nn.Linear(d_model, d_model)\n",
        "      # output projection to combine heads\n",
        "      self.o_proj = nn.Linear(d_model, d_model)\n",
        "      self.softmax = nn.Softmax(dim=-1)\n",
        "      self.out_dropout = nn.Dropout(dropout)\n",
        "      self.score_dropout = nn.Dropout(dropout)\n",
        "\n",
        "    def forward(self, x, mask=None):\n",
        "      \"\"\"\n",
        "      :param x: input of size batch_size x seq_len x d_model\n",
        "      :param mask: attn mask of size seq_len x seq_len\n",
        "      :returns: output z of size batch_size x seq_len x d_model\n",
        "              attn_scores of size batch_size x num heads x seq_len x seq_len\n",
        "      \"\"\"\n",
        "      #TODO: compute queries, keys, and values\n",
        "      # q = ...\n",
        "      # k = ...\n",
        "      # v = ...\n",
        "      q = self.q_proj(x)\n",
        "      k = self.k_proj(x)\n",
        "      v = self.v_proj(x)\n",
        "\n",
        "      # split qkv into individual heads\n",
        "      bs, seq_len, _ = x.size()\n",
        "      # bs x seq_len x d_model --> bs x num_heads x seq_len x head_dim\n",
        "      q = q.view(bs, seq_len, self.num_heads, self.head_dim).transpose(1, 2)\n",
        "      k = k.view(bs, seq_len, self.num_heads, self.head_dim).transpose(1, 2)\n",
        "      v = v.view(bs, seq_len, self.num_heads, self.head_dim).transpose(1, 2)\n",
        "\n",
        "      # TODO: just good old self-attention\n",
        "      attn_scores = q @ k.transpose(-2, -1)\n",
        "      attn_scores = attn_scores / math.sqrt(self.head_dim)\n",
        "      if mask is not None:\n",
        "          attn_scores += mask\n",
        "      attn_scores = self.softmax(attn_scores)\n",
        "      attn_scores = self.score_dropout(attn_scores)\n",
        "\n",
        "      output = attn_scores @ v\n",
        "\n",
        "      # combine heads\n",
        "      # bs x num_heads x seq_len x head_dim  --> bs x seq_len x d_model\n",
        "      output = output.transpose(1, 2).contiguous()\n",
        "      output = output.view(bs, seq_len, self.head_dim*self.num_heads)\n",
        "\n",
        "      #TODO: apply output projection(wO)\n",
        "      output = self.o_proj(output)\n",
        "      output = self.out_dropout(output)\n",
        "\n",
        "      return output, attn_scores"
      ],
      "metadata": {
        "id": "PTfrUYtEMFfJ"
      },
      "execution_count": null,
      "outputs": []
    },
    {
      "cell_type": "code",
      "source": [
        "NUM_HEADS = 6\n",
        "mha = MultiHeadAttention(d_model=D_MODEL, num_heads=NUM_HEADS).eval()\n",
        "output, attn_scores = mha(x_embedded, mask=causal_mask)\n",
        "print(output.shape)\n",
        "print(attn_scores.shape)"
      ],
      "metadata": {
        "colab": {
          "base_uri": "https://localhost:8080/"
        },
        "id": "oxrUmrE1U6uW",
        "outputId": "27549a46-8819-4eda-e963-5b1f0156a1a5"
      },
      "execution_count": null,
      "outputs": [
        {
          "output_type": "stream",
          "name": "stdout",
          "text": [
            "torch.Size([1, 10, 300])\n",
            "torch.Size([1, 6, 10, 10])\n"
          ]
        }
      ]
    },
    {
      "cell_type": "markdown",
      "source": [
        "## 3. Wait... what about input positions?\n",
        "\n",
        "To inject positional information about tokens in the sequence, we use [Positional Encoding](https://www.researchgate.net/figure/Positional-encoding-for-the-feature-representations-Top-Sinusoidal-representation-for_fig2_372249718). PE is added to the input embedding.\n",
        "\n",
        "For simplicity, we'll use sinusoidal positional encoding, an absolute PE scheme, in which each dimension corresponds to a sinusoidal wavelength. These wavelengths have different frequencies, so every position gets assigned a combination of $sin$ and $cos$ values."
      ],
      "metadata": {
        "id": "86VIj3yQg82F"
      }
    },
    {
      "cell_type": "code",
      "source": [
        "class PositionalEncoding(nn.Module):\n",
        "    def __init__(self, d_model, dropout=0.1, max_len=5000):\n",
        "        super(PositionalEncoding, self).__init__()\n",
        "        self.dropout = nn.Dropout(p=dropout)\n",
        "\n",
        "        pe = torch.zeros(max_len, d_model)\n",
        "        position = torch.arange(0, max_len).unsqueeze(1).float()\n",
        "        div_term = torch.exp(\n",
        "            torch.arange(0, d_model, 2).float() * -(math.log(10000.0) / d_model)\n",
        "        )\n",
        "        pe[:, 0::2] = torch.sin(position * div_term)\n",
        "        pe[:, 1::2] = torch.cos(position * div_term)\n",
        "        pe = pe.unsqueeze(0)\n",
        "        self.register_buffer(\"pe\", pe)\n",
        "\n",
        "    def forward(self, x):\n",
        "        # embeddings + possitional embeddings\n",
        "        x = x + self.pe[:, :x.size(1)]\n",
        "        return self.dropout(x)"
      ],
      "metadata": {
        "id": "Z7JLG_uRygij"
      },
      "execution_count": null,
      "outputs": []
    },
    {
      "cell_type": "code",
      "source": [
        "# plot some waves\n",
        "pe = PositionalEncoding(d_model=16, max_len=100).eval()\n",
        "pos_encoding = pe.pe[0, :100, :20].detach().numpy()\n",
        "\n",
        "plt.figure(figsize=(12, 6))\n",
        "for i in [4, 5, 6, 7]:\n",
        "    plt.plot(pos_encoding[:, i], label=f'Dim {i}')\n",
        "plt.title(\"Sinusoidal Positional Encodings\")\n",
        "plt.xlabel(\"Position\")\n",
        "plt.ylabel(\"Value\")\n",
        "plt.legend()\n",
        "plt.grid(True)\n",
        "plt.tight_layout()\n",
        "plt.show()"
      ],
      "metadata": {
        "colab": {
          "base_uri": "https://localhost:8080/",
          "height": 607
        },
        "id": "ZrOJZ9vWvhy6",
        "outputId": "1bb0cdba-39e8-4ec7-f0c7-c722291f0b84"
      },
      "execution_count": null,
      "outputs": [
        {
          "output_type": "display_data",
          "data": {
            "text/plain": [
              "<Figure size 1200x600 with 1 Axes>"
            ],
            "image/png": "[encoded data removed]"
          },
          "metadata": {}
        }
      ]
    },
    {
      "cell_type": "code",
      "source": [
        "pe = PositionalEncoding(d_model=D_MODEL).eval()\n",
        "x = x_embedded\n",
        "add_pe = True # TODO: compare attn scores with and without positional embeddings\n",
        "\n",
        "if add_pe:\n",
        "  # it's common practice to scale embeds\n",
        "  # before adding pe\n",
        "  x = pe(x_embedded * (D_MODEL ** 0.5))\n",
        "attn_output, attn_scores = mha(x, mask=causal_mask)\n",
        "head = 2 # TODO: try looking at different attn heads, do they focus on the same tokens?\n",
        "scores = attn_scores[:, head, :, :].squeeze().detach()\n",
        "plot_scores(scores, tokens)"
      ],
      "metadata": {
        "colab": {
          "base_uri": "https://localhost:8080/",
          "height": 488
        },
        "id": "FmtLO7Za8uLE",
        "outputId": "d09b4f1e-8288-4ead-d4fb-a04a1e39e4e8"
      },
      "execution_count": null,
      "outputs": [
        {
          "output_type": "display_data",
          "data": {
            "text/plain": [
              "<Figure size 640x480 with 1 Axes>"
            ],
            "image/png": "[encoded data removed]"
          },
          "metadata": {}
        }
      ]
    },
    {
      "cell_type": "markdown",
      "source": [
        "## 4. Feed-Forward Network (FFN)\n",
        "\n",
        "After the MultiHeadAttention layer (and after normalization, more on that soon) we process outputs with a Feed-Forward Network (FFN):\n",
        "\n",
        "\\begin{align*}\n",
        "FFN(x) = ReLU(xW_1 + b_1)W_2 + b_2\n",
        "\\end{align*}\n",
        "\n",
        "While attention mixes information from all unmasked tokens in the sequence, the FFN is applied individually to each token, which is why it's sometimes called a *position-wise* FFN."
      ],
      "metadata": {
        "id": "j5gOwrYehVFN"
      }
    },
    {
      "cell_type": "code",
      "source": [
        "class FeedForward(nn.Module):\n",
        "  def __init__(self, d_model, d_ff=None, dropout=0.1):\n",
        "    super().__init__()\n",
        "    self.d_ff = d_ff if d_ff else 4 * d_model\n",
        "    self.w_1 = nn.Linear(d_model, self.d_ff)\n",
        "    self.w_2 = nn.Linear(self.d_ff, d_model)\n",
        "    self.activation = nn.ReLU()\n",
        "    self.dropout = nn.Dropout(dropout)\n",
        "\n",
        "  def forward(self, x):\n",
        "    \"\"\"\n",
        "    :param x: input of size batch_size x seq_len x d_model\n",
        "    :returns: FFN representtions, same shape as input\n",
        "    \"\"\"\n",
        "    #TODO: pass x through the FFN (see equation above)\n",
        "    x = self.w_2(self.activation(self.w_1(x)))\n",
        "    x = self.dropout(x)\n",
        "    return x"
      ],
      "metadata": {
        "id": "E_V3xUTmcC5v"
      },
      "execution_count": null,
      "outputs": []
    },
    {
      "cell_type": "code",
      "source": [
        "ffn = FeedForward(d_model=D_MODEL).eval()\n",
        "dummy_ffn_input = torch.zeros_like(attn_output)\n",
        "output = ffn(dummy_ffn_input)\n",
        "print(output.shape)"
      ],
      "metadata": {
        "id": "VGIlaD4afybC",
        "colab": {
          "base_uri": "https://localhost:8080/"
        },
        "outputId": "dd71d0cb-d52b-45e7-ac43-ab6f7b5b5c9c"
      },
      "execution_count": null,
      "outputs": [
        {
          "output_type": "stream",
          "name": "stdout",
          "text": [
            "torch.Size([1, 10, 300])\n"
          ]
        }
      ]
    },
    {
      "cell_type": "markdown",
      "source": [
        "## 5. Residual connections and LayerNorm\n",
        "\n",
        "We are still missing two key ingredients to link the MHA and FFN components into a transformer layer.\n",
        "\n",
        "*   Residual connections: help prevent vanishing gradients and preserve information across layers, applied to the output of both MHA and FFN\n",
        "*   [LayerNormalization](https://pytorch.org/docs/stable/generated/torch.nn.LayerNorm.html): normalizes along features instead of examples\n",
        "\n",
        "The final flow of an input $X$ through the transformer layer can be defined as:\n",
        "\n",
        "\\begin{align*}\n",
        "X = LayerNorm(X + MultiHeadAttn(X)) \\\\\n",
        "X = LayerNorm(X + FFN(X))\n",
        "\\end{align*}\n",
        "\n",
        "Alternatively, LayerNorm can be applied before the residual connection (common nowadays)."
      ],
      "metadata": {
        "id": "zhAS7w9Fo3V_"
      }
    },
    {
      "cell_type": "code",
      "source": [
        "class TransformerLayer(nn.Module):\n",
        "  def __init__(self, d_model, num_heads, d_ff=None, dropout=0.1):\n",
        "    super().__init__()\n",
        "    self.d_model = d_model\n",
        "    self.mha = MultiHeadAttention(\n",
        "        d_model=d_model,\n",
        "        num_heads=num_heads,\n",
        "        dropout=dropout\n",
        "    )\n",
        "    self.ffn = FeedForward(\n",
        "        d_model=d_model,\n",
        "        d_ff=d_ff,\n",
        "        dropout=dropout\n",
        "    )\n",
        "    #layer norms\n",
        "    self.norm_attn = nn.LayerNorm(d_model)\n",
        "    self.norm_ffn = nn.LayerNorm(d_model)\n",
        "\n",
        "  def forward(self, x, mask=None):\n",
        "    attn_output, attn_scores = self.mha(x, mask)\n",
        "    #TODO: write the residual\n",
        "    x = self.norm_attn(x + attn_output)\n",
        "    x = self.norm_ffn(x + self.ffn(x))\n",
        "    return x, attn_scores\n"
      ],
      "metadata": {
        "id": "0F9x3CkwyvbO"
      },
      "execution_count": null,
      "outputs": []
    },
    {
      "cell_type": "code",
      "source": [
        "transformer_layer = TransformerLayer(d_model=D_MODEL, num_heads=NUM_HEADS)\n",
        "x, _ = transformer_layer(x_embedded)\n",
        "print(x.shape)"
      ],
      "metadata": {
        "id": "DUR5Ty7y0LLg",
        "colab": {
          "base_uri": "https://localhost:8080/"
        },
        "outputId": "cc5dc7eb-0a68-4644-9bd7-bbbadaf524a2"
      },
      "execution_count": null,
      "outputs": [
        {
          "output_type": "stream",
          "name": "stdout",
          "text": [
            "torch.Size([1, 10, 300])\n"
          ]
        }
      ]
    },
    {
      "cell_type": "markdown",
      "source": [
        "# Language model\n",
        "\n",
        "## Definition\n",
        "A language model is a system that predicts the next token, given the previous ones:\n",
        "$$P(x_t|x_1,...x_{t-1})$$\n",
        "\n",
        "If we know the intermediate probabilities $P(x_1)$, $P(x_2|x_1)$, $P(x_3|x_1, x_2)$, ..., $P(x_t|x_1,...x_{t-1})$ we can compute the joint probability of the whole sequence $x_1, x_2, ..., x_T$.\n",
        "So, a language model can also be seen as a system that computes the probability of a sequence of tokens (words/characters):\n",
        "\n",
        "$$P(x_1, x_2, x_3, ..., x_T)\n",
        "=P(x_1)P(x_2|x_1)P(x_3|x_1,x_2)...P(x_T|x_1,...,x_{T-1})$$\n",
        "$$=P(x_1) \\prod_{t=1}^{T}P(x_t|x_1,...x_{t-1})$$"
      ],
      "metadata": {
        "id": "kZIVASKtjqNn"
      }
    },
    {
      "cell_type": "markdown",
      "source": [
        "## Applications\n",
        "\n",
        " - **speech recognition**: which sentence is more probable?\n",
        "\n",
        ">> $P(recognize, beach) > P(wreck, a, nice, beach)$\n",
        "\n",
        "- **predictive typing**: what's the next most probable word?\n",
        "\n",
        ">> $P(x_t| I, cannot, wait, to, go, to, the)$\n",
        "\n",
        "- **transfer learning**: training a model to solve this task results in the model learning general language features which can transfer to other tasks"
      ],
      "metadata": {
        "id": "brAWjbB3j2vP"
      }
    },
    {
      "cell_type": "markdown",
      "source": [
        "## Transformer LM: overview of the architecture\n",
        "\n",
        "![decoder](https://i.ibb.co/KjTWPFwD/Screenshot-2025-04-09-at-02-46-00.png)\n",
        "\n",
        "The network has the following main components:\n",
        " - an **embedding layer** that converts each token $x_t$ (given as an index) into a token embedding $e_t$:\n",
        "\n",
        "      $7$ -> Embedding layer -> $[0.12, -0.16, ..., 0.43]$\n",
        "       \n",
        "      The token indices that we feed into the network range from 0 to $|V|-1$, where $|V|$ is the size of our vocabulary (how many unique tokens we represent).   \n",
        " - the **transformer**, made up of $K$ stacked `TransformerLayer` (implemented in Part I) layers\n",
        " - a linear **output layer** that transforms the output of the transformer into a vector of probabilities (of size $|V|$).\n",
        "\n",
        " At each position, the probability of the next token is maximized, so all individual tokens end up contributing to the loss. Masked self-attention ensures the model cannot cheat by attending to positions in the future.\n",
        "\n",
        " The unnormalized probabilities are called the *logits*. The entire architecture presented above is often refered to as a *decoder-only transformer*."
      ],
      "metadata": {
        "id": "27_ikTJ_kB41"
      }
    },
    {
      "cell_type": "markdown",
      "source": [
        "# Part II: Training a Transformer Language Model"
      ],
      "metadata": {
        "id": "m8MJburNprL8"
      }
    },
    {
      "cell_type": "markdown",
      "source": [
        "## Step 1: Data preparation\n",
        "We will use a subset of the TinyStories dataset (https://arxiv.org/pdf/2305.07759). It contains synthetic short stories, generated such that the typical 4 year-old could understand them.\n"
      ],
      "metadata": {
        "id": "uO5ThZAhSiw1"
      }
    },
    {
      "cell_type": "code",
      "source": [
        "! pip install datasets"
      ],
      "metadata": {
        "id": "e6HkIXJ6Rqrc",
        "colab": {
          "base_uri": "https://localhost:8080/"
        },
        "outputId": "de4426f9-bec8-4dd6-b489-3782a14226d7"
      },
      "execution_count": null,
      "outputs": [
        {
          "output_type": "stream",
          "name": "stdout",
          "text": [
            "Collecting datasets\n",
            "  Downloading datasets-3.5.0-py3-none-any.whl.metadata (19 kB)\n",
            "Requirement already satisfied: filelock in /usr/local/lib/python3.11/dist-packages (from datasets) (3.18.0)\n",
            "Requirement already satisfied: numpy>=1.17 in /usr/local/lib/python3.11/dist-packages (from datasets) (2.0.2)\n",
            "Requirement already satisfied: pyarrow>=15.0.0 in /usr/local/lib/python3.11/dist-packages (from datasets) (18.1.0)\n",
            "Collecting dill<0.3.9,>=0.3.0 (from datasets)\n",
            "  Downloading dill-0.3.8-py3-none-any.whl.metadata (10 kB)\n",
            "Requirement already satisfied: pandas in /usr/local/lib/python3.11/dist-packages (from datasets) (2.2.2)\n",
            "Requirement already satisfied: requests>=2.32.2 in /usr/local/lib/python3.11/dist-packages (from datasets) (2.32.3)\n",
            "Requirement already satisfied: tqdm>=4.66.3 in /usr/local/lib/python3.11/dist-packages (from datasets) (4.67.1)\n",
            "Collecting xxhash (from datasets)\n",
            "  Downloading xxhash-3.5.0-cp311-cp311-manylinux_2_17_x86_64.manylinux2014_x86_64.whl.metadata (12 kB)\n",
            "Collecting multiprocess<0.70.17 (from datasets)\n",
            "  Downloading multiprocess-0.70.16-py311-none-any.whl.metadata (7.2 kB)\n",
            "Collecting fsspec<=2024.12.0,>=2023.1.0 (from fsspec[http]<=2024.12.0,>=2023.1.0->datasets)\n",
            "  Downloading fsspec-2024.12.0-py3-none-any.whl.metadata (11 kB)\n",
            "Requirement already satisfied: aiohttp in /usr/local/lib/python3.11/dist-packages (from datasets) (3.11.15)\n",
            "Requirement already satisfied: huggingface-hub>=0.24.0 in /usr/local/lib/python3.11/dist-packages (from datasets) (0.30.1)\n",
            "Requirement already satisfied: packaging in /usr/local/lib/python3.11/dist-packages (from datasets) (24.2)\n",
            "Requirement already satisfied: pyyaml>=5.1 in /usr/local/lib/python3.11/dist-packages (from datasets) (6.0.2)\n",
            "Requirement already satisfied: aiohappyeyeballs>=2.3.0 in /usr/local/lib/python3.11/dist-packages (from aiohttp->datasets) (2.6.1)\n",
            "Requirement already satisfied: aiosignal>=1.1.2 in /usr/local/lib/python3.11/dist-packages (from aiohttp->datasets) (1.3.2)\n",
            "Requirement already satisfied: attrs>=17.3.0 in /usr/local/lib/python3.11/dist-packages (from aiohttp->datasets) (25.3.0)\n",
            "Requirement already satisfied: frozenlist>=1.1.1 in /usr/local/lib/python3.11/dist-packages (from aiohttp->datasets) (1.5.0)\n",
            "Requirement already satisfied: multidict<7.0,>=4.5 in /usr/local/lib/python3.11/dist-packages (from aiohttp->datasets) (6.3.2)\n",
            "Requirement already satisfied: propcache>=0.2.0 in /usr/local/lib/python3.11/dist-packages (from aiohttp->datasets) (0.3.1)\n",
            "Requirement already satisfied: yarl<2.0,>=1.17.0 in /usr/local/lib/python3.11/dist-packages (from aiohttp->datasets) (1.18.3)\n",
            "Requirement already satisfied: typing-extensions>=3.7.4.3 in /usr/local/lib/python3.11/dist-packages (from huggingface-hub>=0.24.0->datasets) (4.13.1)\n",
            "Requirement already satisfied: charset-normalizer<4,>=2 in /usr/local/lib/python3.11/dist-packages (from requests>=2.32.2->datasets) (3.4.1)\n",
            "Requirement already satisfied: idna<4,>=2.5 in /usr/local/lib/python3.11/dist-packages (from requests>=2.32.2->datasets) (3.10)\n",
            "Requirement already satisfied: urllib3<3,>=1.21.1 in /usr/local/lib/python3.11/dist-packages (from requests>=2.32.2->datasets) (2.3.0)\n",
            "Requirement already satisfied: certifi>=2017.4.17 in /usr/local/lib/python3.11/dist-packages (from requests>=2.32.2->datasets) (2025.1.31)\n",
            "Requirement already satisfied: python-dateutil>=2.8.2 in /usr/local/lib/python3.11/dist-packages (from pandas->datasets) (2.8.2)\n",
            "Requirement already satisfied: pytz>=2020.1 in /usr/local/lib/python3.11/dist-packages (from pandas->datasets) (2025.2)\n",
            "Requirement already satisfied: tzdata>=2022.7 in /usr/local/lib/python3.11/dist-packages (from pandas->datasets) (2025.2)\n",
            "Requirement already satisfied: six>=1.5 in /usr/local/lib/python3.11/dist-packages (from python-dateutil>=2.8.2->pandas->datasets) (1.17.0)\n",
            "Downloading datasets-3.5.0-py3-none-any.whl (491 kB)\n",
            "\u001b[2K   \u001b[90m━━━━━━━━━━━━━━━━━━━━━━━━━━━━━━━━━━━━━━━━\u001b[0m \u001b[32m491.2/491.2 kB\u001b[0m \u001b[31m30.1 MB/s\u001b[0m eta \u001b[36m0:00:00\u001b[0m\n",
            "\u001b[?25hDownloading dill-0.3.8-py3-none-any.whl (116 kB)\n",
            "\u001b[2K   \u001b[90m━━━━━━━━━━━━━━━━━━━━━━━━━━━━━━━━━━━━━━━━\u001b[0m \u001b[32m116.3/116.3 kB\u001b[0m \u001b[31m11.1 MB/s\u001b[0m eta \u001b[36m0:00:00\u001b[0m\n",
            "\u001b[?25hDownloading fsspec-2024.12.0-py3-none-any.whl (183 kB)\n",
            "\u001b[2K   \u001b[90m━━━━━━━━━━━━━━━━━━━━━━━━━━━━━━━━━━━━━━━━\u001b[0m \u001b[32m183.9/183.9 kB\u001b[0m \u001b[31m17.0 MB/s\u001b[0m eta \u001b[36m0:00:00\u001b[0m\n",
            "\u001b[?25hDownloading multiprocess-0.70.16-py311-none-any.whl (143 kB)\n",
            "\u001b[2K   \u001b[90m━━━━━━━━━━━━━━━━━━━━━━━━━━━━━━━━━━━━━━━━\u001b[0m \u001b[32m143.5/143.5 kB\u001b[0m \u001b[31m13.3 MB/s\u001b[0m eta \u001b[36m0:00:00\u001b[0m\n",
            "\u001b[?25hDownloading xxhash-3.5.0-cp311-cp311-manylinux_2_17_x86_64.manylinux2014_x86_64.whl (194 kB)\n",
            "\u001b[2K   \u001b[90m━━━━━━━━━━━━━━━━━━━━━━━━━━━━━━━━━━━━━━━━\u001b[0m \u001b[32m194.8/194.8 kB\u001b[0m \u001b[31m17.5 MB/s\u001b[0m eta \u001b[36m0:00:00\u001b[0m\n",
            "\u001b[?25hInstalling collected packages: xxhash, fsspec, dill, multiprocess, datasets\n",
            "  Attempting uninstall: fsspec\n",
            "    Found existing installation: fsspec 2025.3.2\n",
            "    Uninstalling fsspec-2025.3.2:\n",
            "      Successfully uninstalled fsspec-2025.3.2\n",
            "\u001b[31mERROR: pip's dependency resolver does not currently take into account all the packages that are installed. This behaviour is the source of the following dependency conflicts.\n",
            "torch 2.6.0+cu124 requires nvidia-cublas-cu12==12.4.5.8; platform_system == \"Linux\" and platform_machine == \"x86_64\", but you have nvidia-cublas-cu12 12.5.3.2 which is incompatible.\n",
            "torch 2.6.0+cu124 requires nvidia-cuda-cupti-cu12==12.4.127; platform_system == \"Linux\" and platform_machine == \"x86_64\", but you have nvidia-cuda-cupti-cu12 12.5.82 which is incompatible.\n",
            "torch 2.6.0+cu124 requires nvidia-cuda-nvrtc-cu12==12.4.127; platform_system == \"Linux\" and platform_machine == \"x86_64\", but you have nvidia-cuda-nvrtc-cu12 12.5.82 which is incompatible.\n",
            "torch 2.6.0+cu124 requires nvidia-cuda-runtime-cu12==12.4.127; platform_system == \"Linux\" and platform_machine == \"x86_64\", but you have nvidia-cuda-runtime-cu12 12.5.82 which is incompatible.\n",
            "torch 2.6.0+cu124 requires nvidia-cudnn-cu12==9.1.0.70; platform_system == \"Linux\" and platform_machine == \"x86_64\", but you have nvidia-cudnn-cu12 9.3.0.75 which is incompatible.\n",
            "torch 2.6.0+cu124 requires nvidia-cufft-cu12==11.2.1.3; platform_system == \"Linux\" and platform_machine == \"x86_64\", but you have nvidia-cufft-cu12 11.2.3.61 which is incompatible.\n",
            "torch 2.6.0+cu124 requires nvidia-curand-cu12==10.3.5.147; platform_system == \"Linux\" and platform_machine == \"x86_64\", but you have nvidia-curand-cu12 10.3.6.82 which is incompatible.\n",
            "torch 2.6.0+cu124 requires nvidia-cusolver-cu12==11.6.1.9; platform_system == \"Linux\" and platform_machine == \"x86_64\", but you have nvidia-cusolver-cu12 11.6.3.83 which is incompatible.\n",
            "torch 2.6.0+cu124 requires nvidia-cusparse-cu12==12.3.1.170; platform_system == \"Linux\" and platform_machine == \"x86_64\", but you have nvidia-cusparse-cu12 12.5.1.3 which is incompatible.\n",
            "torch 2.6.0+cu124 requires nvidia-nvjitlink-cu12==12.4.127; platform_system == \"Linux\" and platform_machine == \"x86_64\", but you have nvidia-nvjitlink-cu12 12.5.82 which is incompatible.\n",
            "gcsfs 2025.3.2 requires fsspec==2025.3.2, but you have fsspec 2024.12.0 which is incompatible.\u001b[0m\u001b[31m\n",
            "\u001b[0mSuccessfully installed datasets-3.5.0 dill-0.3.8 fsspec-2024.12.0 multiprocess-0.70.16 xxhash-3.5.0\n"
          ]
        }
      ]
    },
    {
      "cell_type": "code",
      "source": [
        "MAX_LENGTH = 250\n",
        "BATCH_SIZE = 32"
      ],
      "metadata": {
        "id": "jG3Uyad4Qvap"
      },
      "execution_count": null,
      "outputs": []
    },
    {
      "cell_type": "code",
      "source": [
        "from datasets import load_dataset\n",
        "data = load_dataset(\"roneneldan/TinyStories\")\n",
        "train_stories = data['train']['text'][:10000]\n",
        "val_stories = data['validation']['text'][:10000]\n",
        "print(train_stories[0])"
      ],
      "metadata": {
        "colab": {
          "base_uri": "https://localhost:8080/",
          "height": 495,
          "referenced_widgets": [
            "2fed5b4e5b5e4cb98c21d88850f0fe24",
            "56e49d428efa41d09dafe5c6276f70c6",
            "d18936b1428f455a818bebe7328520d1",
            "1d55ee72eed449b5ac3f596bf617cdf8",
            "4632bd2257bc48ed9cf92b3dd4d4dc67",
            "094284159bd9487aaa692f904668954b",
            "3326b43f54c549ba87b75819830d4b31",
            "910c537c9ac14791853b8c3630164d24",
            "836a4d3b90a144f1a0384575f4f54164",
            "f313b0075b034ab6b65e2abfdbe7679d",
            "7d5e1a80b7ee4f6596cb0a472ee9b664",
            "ea755aaeb40a48a4acd67611c4d187fe",
            "ff12715906a44844900aece85bb36f12",
            "487c85dd510748339588377f0d71f46d",
            "7dee26aec0f945b9ad804b41170f32d4",
            "48cc186cfda74c41ae5ede90d7083be5",
            "61c2f295fcea4130880e36165746c8e0",
            "05ecf4c924a64d8aa36b829388120708",
            "8dcdf238753b43eb860ad31a8b0e0493",
            "2ea9dc04eb8a49eda21434d6d0d4929e",
            "1ad4462d1ebc48cd8d86e3bcaee7e831",
            "6ac7b7459ef745bdb9b62f17a7add0f8",
            "c68fdc55aaea4d3c89d09e38cdd5e52e",
            "2ff74f2d282548b5a97acd75172f91b9",
            "09b5594d602343d696f805db0fac9e8d",
            "7afc72c800a54a9fbb4904910f898120",
            "27315c45a1de41b9b62f90468c47e23e",
            "72e70f4a175a4a1fbe36237ab2091cd5",
            "31cf08c61f304801871ee8d39174caab",
            "822f3a1a841e4546a8a249a12a44c69a",
            "f167660671c044e9a3b0f34fba5c61cc",
            "bab5995f0dae4e1c92a1111fb9b63038",
            "351df9e721bf4b31a6dc5cf319043329",
            "961747c1f30a4a8093799b5fb94c18d7",
            "14135784f40e4fbc935464f1b5b2de82",
            "95717b0aa1e64c63a65e763a1a8fa9a2",
            "5e014ab8958c4d139b3e347e595dbc84",
            "ee4993d080864ec69379e303aa9c6b93",
            "fc14402107c14fdd9e5746ddf1a1c9ea",
            "40259560005a4c82b90c46bc90a310e1",
            "42ee60d9703f405e8f9807b56459b818",
            "3f1a090f40ac4ea0af45ed11a7ca633a",
            "c283bb4fa0234fc1a04ca821730ecb2c",
            "37816e9931b048de9f058c472d570ab4",
            "3baef74b6d894d6d8a5c808468eb4c9b",
            "10491cd78bdf4ff794e7f545e0cbe83b",
            "5e317d44607444ecac57ca6887ea61d7",
            "efd66b83848f471d8aa2088259655266",
            "e92c2ffea9f44e54acca0b7c9a917900",
            "1932ec908e544b938b77950d5d788376",
            "b2b15b4053b946dfa1b9792a17dbb075",
            "126c4103bee0473fb015922e197369c6",
            "00f14ced8bcc402ba720118ae931694f",
            "2e799b7fb59d4976a3504015db86d99a",
            "c0ca1bd6c4fd4e52a820fc7d58a29061",
            "13ca80d14e4d4a27ad85e40e2562a148",
            "caa2908516f34b0285008be2d6c22e2f",
            "0a3d8c01d184424ca8b4d93c84b1e9bc",
            "d7c51ad2c47c4236b201f930ff36e678",
            "f2a412acbd1d437fa4a38a2c0394060e",
            "b0ce8337194a47c6993a2d69ae181b51",
            "90a50e45b749444e8210895e711ba0c1",
            "066e636ee9b0437e9224cacf263af040",
            "cf534548749147ea9a24870622add387",
            "e804aa64de42443d971f36c8f36733e8",
            "82922c09a2c842909294c5f82ef93d14",
            "9c0d870d0abc471881d02079ac315d70",
            "c5336c4f90ff42aa891c661be9b2815f",
            "5e9c47cfdd1640f59793b2d5b887a8ea",
            "b95dcedabce1497eb662f7e8d06b4292",
            "75a2ea3476494b438c8ac32a3bb74854",
            "2043b9dc95ca431e9328bf3595c53943",
            "efbb64d6361c473b8562a2e537854ac9",
            "7abd9124c69740e3ad14fded3082dd37",
            "6f0bdc4725a744afa087810100d067a9",
            "cad492d76ec54a43b38d7689c01035a3",
            "eaf69993463142bf9e4db02c4dbb8518",
            "9cad24ceeb884efb8689706a6b330017",
            "4bc592acfaa646769f772eae4c5cdebe",
            "376125c4da84453f85a2e98169f95c86",
            "eab0c0e3ff3a46a1b568a3b1555e68ee",
            "307c38df0eec4e22a140e33543245fd2",
            "fe59e29be2ca4fa9a5800203a8d72f1b",
            "c6da26f86f544d4da8dc909417fa46d7",
            "aa7717b7f5f1490aa43f35ce45752508",
            "984625f063224e369e80d1e4f1566e7e",
            "35fe36b7df724a8aa33167a3b6bae2cf",
            "27996a9d37cf42ed96c34177c55c2043"
          ]
        },
        "id": "AVAJ4oWbWjJh",
        "outputId": "1e1b52cf-c10b-423a-ad5c-4f8903083787"
      },
      "execution_count": null,
      "outputs": [
        {
          "output_type": "stream",
          "name": "stderr",
          "text": [
            "/usr/local/lib/python3.11/dist-packages/huggingface_hub/utils/_auth.py:94: UserWarning: \n",
            "The secret `HF_TOKEN` does not exist in your Colab secrets.\n",
            "To authenticate with the Hugging Face Hub, create a token in your settings tab (https://huggingface.co/settings/tokens), set it as secret in your Google Colab and restart your session.\n",
            "You will be able to reuse this secret in all of your notebooks.\n",
            "Please note that authentication is recommended but still optional to access public models or datasets.\n",
            "  warnings.warn(\n"
          ]
        },
        {
          "output_type": "display_data",
          "data": {
            "text/plain": [
              "README.md:   0%|          | 0.00/1.06k [00:00<?, ?B/s]"
            ],
            "application/vnd.jupyter.widget-view+json": {
              "version_major": 2,
              "version_minor": 0,
              "model_id": "2fed5b4e5b5e4cb98c21d88850f0fe24"
            }
          },
          "metadata": {}
        },
        {
          "output_type": "display_data",
          "data": {
            "text/plain": [
              "(…)-00000-of-00004-2d5a1467fff1081b.parquet:   0%|          | 0.00/249M [00:00<?, ?B/s]"
            ],
            "application/vnd.jupyter.widget-view+json": {
              "version_major": 2,
              "version_minor": 0,
              "model_id": "ea755aaeb40a48a4acd67611c4d187fe"
            }
          },
          "metadata": {}
        },
        {
          "output_type": "display_data",
          "data": {
            "text/plain": [
              "(…)-00001-of-00004-5852b56a2bd28fd9.parquet:   0%|          | 0.00/248M [00:00<?, ?B/s]"
            ],
            "application/vnd.jupyter.widget-view+json": {
              "version_major": 2,
              "version_minor": 0,
              "model_id": "c68fdc55aaea4d3c89d09e38cdd5e52e"
            }
          },
          "metadata": {}
        },
        {
          "output_type": "display_data",
          "data": {
            "text/plain": [
              "(…)-00002-of-00004-a26307300439e943.parquet:   0%|          | 0.00/246M [00:00<?, ?B/s]"
            ],
            "application/vnd.jupyter.widget-view+json": {
              "version_major": 2,
              "version_minor": 0,
              "model_id": "961747c1f30a4a8093799b5fb94c18d7"
            }
          },
          "metadata": {}
        },
        {
          "output_type": "display_data",
          "data": {
            "text/plain": [
              "(…)-00003-of-00004-d243063613e5a057.parquet:   0%|          | 0.00/248M [00:00<?, ?B/s]"
            ],
            "application/vnd.jupyter.widget-view+json": {
              "version_major": 2,
              "version_minor": 0,
              "model_id": "3baef74b6d894d6d8a5c808468eb4c9b"
            }
          },
          "metadata": {}
        },
        {
          "output_type": "display_data",
          "data": {
            "text/plain": [
              "(…)-00000-of-00001-869c898b519ad725.parquet:   0%|          | 0.00/9.99M [00:00<?, ?B/s]"
            ],
            "application/vnd.jupyter.widget-view+json": {
              "version_major": 2,
              "version_minor": 0,
              "model_id": "13ca80d14e4d4a27ad85e40e2562a148"
            }
          },
          "metadata": {}
        },
        {
          "output_type": "display_data",
          "data": {
            "text/plain": [
              "Generating train split:   0%|          | 0/2119719 [00:00<?, ? examples/s]"
            ],
            "application/vnd.jupyter.widget-view+json": {
              "version_major": 2,
              "version_minor": 0,
              "model_id": "9c0d870d0abc471881d02079ac315d70"
            }
          },
          "metadata": {}
        },
        {
          "output_type": "display_data",
          "data": {
            "text/plain": [
              "Generating validation split:   0%|          | 0/21990 [00:00<?, ? examples/s]"
            ],
            "application/vnd.jupyter.widget-view+json": {
              "version_major": 2,
              "version_minor": 0,
              "model_id": "9cad24ceeb884efb8689706a6b330017"
            }
          },
          "metadata": {}
        },
        {
          "output_type": "stream",
          "name": "stdout",
          "text": [
            "One day, a little girl named Lily found a needle in her room. She knew it was difficult to play with it because it was sharp. Lily wanted to share the needle with her mom, so she could sew a button on her shirt.\n",
            "\n",
            "Lily went to her mom and said, \"Mom, I found this needle. Can you share it with me and sew my shirt?\" Her mom smiled and said, \"Yes, Lily, we can share the needle and fix your shirt.\"\n",
            "\n",
            "Together, they shared the needle and sewed the button on Lily's shirt. It was not difficult for them because they were sharing and helping each other. After they finished, Lily thanked her mom for sharing the needle and fixing her shirt. They both felt happy because they had shared and worked together.\n"
          ]
        }
      ]
    },
    {
      "cell_type": "code",
      "source": [
        "import re\n",
        "import string\n",
        "\n",
        "def clean_text(text):\n",
        "    # this dataset has the occasional weird character\n",
        "    allowed_chars = string.ascii_letters + string.punctuation + ' ' + '\\n'\n",
        "    return ''.join(c for c in text if c in allowed_chars)\n",
        "\n",
        "train_stories = [clean_text(story) for story in train_stories]\n",
        "val_stories = [clean_text(story) for story in val_stories]"
      ],
      "metadata": {
        "id": "z8L_igjcsBCZ"
      },
      "execution_count": null,
      "outputs": []
    },
    {
      "cell_type": "markdown",
      "source": [
        "### Text representation\n",
        "\n",
        "Let us define V = {'token0', 'token1', ..., 'token_|V|'}  as the set of all unique tokens that appear in our text. This is called the **vocabulary**.\n",
        "\n",
        "Each token is stored as an index that ranges from 0 to |V|-1 (e.g. 'token0'->0, 'token1'->1 etc.)\n",
        "\n",
        "The Vocabulary class below creates the **token->index** and **index->token** mappings, given a text."
      ],
      "metadata": {
        "id": "2Zk0Eyptlffe"
      }
    },
    {
      "cell_type": "code",
      "source": [
        "import re\n",
        "# note: this is a toy tokenizer for our very small scale experiment\n",
        "# see BPE https://huggingface.co/learn/llm-course/chapter6/5\n",
        "# to understand how pretrained tokenizers are typically obtained\n",
        "\n",
        "def tokenize(text):\n",
        "    # we consider to be invididual tokens:\n",
        "    # - words\n",
        "    # - individual punctuation characters\n",
        "    # - whitespace - new lines, spaces etc\n",
        "    pattern = r'\\w+|[^\\w\\s]|\\s'\n",
        "    return re.findall(pattern, text)"
      ],
      "metadata": {
        "id": "XcWe52ji4MFr"
      },
      "execution_count": null,
      "outputs": []
    },
    {
      "cell_type": "code",
      "source": [
        "class Vocabulary:\n",
        "    \"\"\"\n",
        "    Helper class that maps words to unique indices and the other way around\n",
        "    \"\"\"\n",
        "    def __init__(self, samples: List[str]):\n",
        "        vocabulary = set()\n",
        "        for sample in samples:\n",
        "          tokens = tokenize(sample)\n",
        "          vocabulary.update(tokens)\n",
        "\n",
        "        self.token_to_idx = {token:idx for (idx, token)\n",
        "                            in enumerate(vocabulary)}\n",
        "        self.idx_to_token = {idx:token for (idx, token)\n",
        "                            in enumerate(vocabulary)}\n",
        "\n",
        "    def size(self):\n",
        "        return len(self.token_to_idx)\n",
        "\n",
        "    def __str__(self):\n",
        "        return str(self.token_to_idx)\n",
        "\n",
        "vocab = Vocabulary(train_stories + val_stories)\n",
        "print(\"Vocabulary size: \", vocab.size())\n",
        "print(\"Vocabulary: \\n\", vocab)"
      ],
      "metadata": {
        "id": "EGboRa8tlkmL",
        "colab": {
          "base_uri": "https://localhost:8080/"
        },
        "outputId": "ab84bd14-8884-4940-e4b2-ea1eb558e087"
      },
      "execution_count": null,
      "outputs": [
        {
          "output_type": "stream",
          "name": "stdout",
          "text": [
            "Vocabulary size:  12879\n",
            "Vocabulary: \n",
            " {'owie': 0, 'hind': 1, 'sprinkler': 2, 'Teacher': 3, 'Jimmy': 4, 'climber': 5, 'anticipation': 6, 'towels': 7, 'bloomed': 8, 'Ow': 9, 'Robby': 10, 'coughed': 11, 'across': 12, 'nasty': 13, 'whirlpool': 14, 'mental': 15, 'cafes': 16, 'bowstring': 17, 'measure': 18, 'creatures': 19, 'spreading': 20, 'cherries': 21, 'smells': 22, 'Dippy': 23, 'encircling': 24, 'damp': 25, 'occasion': 26, 'adds': 27, 'simply': 28, 'Oscar': 29, 'Ravi': 30, 'marches': 31, 'get': 32, 'reads': 33, 'sinks': 34, 'lightning': 35, 'coolers': 36, 'Whale': 37, 'unwanted': 38, 'build': 39, 'best': 40, 'sledding': 41, 'prancing': 42, 'responsibly': 43, 'Friendships': 44, 'Place': 45, 'hmm': 46, 'Agreed': 47, 'mourn': 48, 'crunches': 49, 'poem': 50, 'involving': 51, 'fog': 52, 'Monday': 53, 'living': 54, 'palace': 55, 'illuminating': 56, 'scanning': 57, 'NOT': 58, 'headband': 59, 'enlightenment': 60, 'flourished': 61, 'milk': 62, 'hurt': 63, 'Isabel': 64, 'threatened': 65, 'sunburnt': 66, 'Blue': 67, 'months': 68, 'safer': 69, 'timid': 70, 'hood': 71, 'timeout': 72, 'kindling': 73, 'foxs': 74, 'Mean': 75, 'puddles': 76, 'spilled': 77, 'exclaim': 78, 'Jill': 79, 'Disturb': 80, 'worthless': 81, 'suspiciously': 82, 'challenge': 83, 'Candles': 84, 'pitched': 85, 'Carl': 86, 'fluids': 87, 'awestruck': 88, 'Tornadoes': 89, 'reappeared': 90, 'Baloo': 91, 'everyday': 92, 'failed': 93, 'spiraling': 94, 'steering': 95, 'Thomas': 96, 'bells': 97, 'fridge': 98, 'puzzles': 99, 'oats': 100, 'gentlly': 101, 'dangled': 102, 'parachute': 103, 'consequence': 104, 'represent': 105, 'shuts': 106, 'boredom': 107, 'skipping': 108, 'd': 109, 'tags': 110, 'lime': 111, 'belongings': 112, 'squares': 113, 'teeth': 114, 'prodded': 115, 'clown': 116, 'ring': 117, 'Using': 118, 'follow': 119, 'redder': 120, 'visiting': 121, 'might': 122, 'cut': 123, 'Juno': 124, 'obeyed': 125, 'sauntered': 126, 'Sylvester': 127, 'restaurant': 128, 'squeezes': 129, 'seller': 130, 'shovel': 131, 'floated': 132, 'Anthonny': 133, 'R': 134, 'moving': 135, 'clanked': 136, 'eyeshadow': 137, 'icky': 138, 'toaster': 139, 'jumbled': 140, 'flutes': 141, 'tricycle': 142, 'reel': 143, 'firefighter': 144, 'name': 145, 'ponies': 146, 'threaten': 147, 'eggs': 148, 'swiftly': 149, 'angles': 150, 'roaring': 151, 'eclair': 152, 'curve': 153, 'Racer': 154, 'firm': 155, 'naptime': 156, 'chimes': 157, 'illness': 158, 'Caught': 159, 'Organizing': 160, 'awaits': 161, 'healed': 162, 'Why': 163, 'bursting': 164, 'atmosphere': 165, 'bakery': 166, 'bitten': 167, 'West': 168, 'minding': 169, 'camels': 170, 'shooter': 171, 'rays': 172, 'Peeking': 173, 'breakthrough': 174, 'morphed': 175, 'Astonished': 176, 'happen': 177, 'sorry': 178, 'bounding': 179, 'skulls': 180, 'sleepyhead': 181, 'Trains': 182, 'behold': 183, 'broom': 184, 'Sandbox': 185, 'wisely': 186, 'necessary': 187, 'hooked': 188, 'drank': 189, 'wearing': 190, 'hippo': 191, 'abracadabra': 192, 'continues': 193, 'Harbor': 194, 'selfishly': 195, 'songs': 196, 'child': 197, 'rinsed': 198, 'Gently': 199, 'cops': 200, 'wiggly': 201, 'inner': 202, 'hours': 203, 'Tyler': 204, 'telling': 205, 'bet': 206, 'pen': 207, 'pour': 208, 'Since': 209, 'baby': 210, 'bracelets': 211, 'everythingthe': 212, 'culture': 213, 'quietly': 214, 'pried': 215, 'Huge': 216, 'coming': 217, 'giggled': 218, 'brother': 219, 'polka': 220, 'shells': 221, 'Ernie': 222, 'guinea': 223, 'decision': 224, 'Nobody': 225, 'sits': 226, 'chef': 227, 'marvelled': 228, 'tablet': 229, 'shreds': 230, 'birthdays': 231, 'mazement': 232, 'street': 233, 'swollen': 234, 'flames': 235, 'splashy': 236, 'Never': 237, 'tugboat': 238, 'udders': 239, 'measuring': 240, 'soak': 241, 'gun': 242, 'streams': 243, 'somersaults': 244, 'ladybird': 245, 'Above': 246, 'grandmothers': 247, 'adventures': 248, 'printed': 249, 'value': 250, 'line': 251, 'bomb': 252, 'concerned': 253, 'combination': 254, 'Aren': 255, 'fend': 256, 'kayaks': 257, 'majestic': 258, 'Pause': 259, 'rails': 260, 'Charlotte': 261, 'poppy': 262, 'su': 263, 'clerk': 264, 'greener': 265, 'separated': 266, 'interrupt': 267, 'completing': 268, 'boo': 269, 'twitching': 270, 'scurry': 271, 'using': 272, 'sidelines': 273, 'throwing': 274, 'croc': 275, 'peeing': 276, 'honeybee': 277, 'Jerry': 278, 'cheesiest': 279, 'jazz': 280, 'unwell': 281, 'mindedly': 282, 'dependent': 283, 'bows': 284, 'M': 285, 'hangers': 286, 'entered': 287, 'DVD': 288, 'dark': 289, 'Whoo': 290, 'wisper': 291, 'picked': 292, 'chews': 293, 'pollen': 294, 'dumping': 295, 'ruining': 296, 'rumour': 297, 'impatience': 298, 'muffins': 299, 'Gaby': 300, 'Brianna': 301, 'hamburger': 302, 'basketball': 303, 'sandstorm': 304, 'door': 305, 'disturb': 306, 'heavy': 307, 'doctors': 308, 'impact': 309, 'infants': 310, 'yuck': 311, 'annoyed': 312, 'Ignorant': 313, 'gulp': 314, 'stretched': 315, 'mildness': 316, 'humble': 317, 'Benny': 318, 'blueberries': 319, 'refuses': 320, 'six': 321, 'receptionist': 322, 'Cocoa': 323, 'doesnt': 324, 'chatter': 325, 'funnel': 326, 'anytime': 327, 'testing': 328, 'Doll': 329, 'hawk': 330, 'chubby': 331, 'connection': 332, 'it': 333, 'time': 334, 'twisted': 335, 'presenta': 336, 'remember': 337, 'where': 338, 'waiter': 339, 'none': 340, 'experiences': 341, 'ma': 342, 'Batman': 343, 'hunt': 344, 'disapointed': 345, 'hangs': 346, 'digested': 347, 'olive': 348, 'Reindeer': 349, 'bother': 350, 'laying': 351, 'Wowwie': 352, 'abroad': 353, 'reports': 354, 'shadow': 355, 'Grandmas': 356, 'Pippy': 357, 'warily': 358, 'puncture': 359, 'chewing': 360, 'fireplace': 361, 'macaroni': 362, 'burried': 363, 'quiver': 364, 'downstream': 365, 'ago': 366, 'settings': 367, 'cleanly': 368, 'suggested': 369, 'wanderings': 370, 'Flags': 371, 'cone': 372, 'bounded': 373, 'ironed': 374, 'downward': 375, 'hatching': 376, 'zagging': 377, 'meter': 378, 'phrase': 379, 'parcels': 380, 'dune': 381, 'spiderweb': 382, 'dinosaur': 383, 'Act': 384, 'swimming': 385, 'looking': 386, 'scatter': 387, 'Pleeeease': 388, 'declined': 389, 'raged': 390, 'wall': 391, 'filling': 392, 'race': 393, 'stacks': 394, 'become': 395, 'nibbled': 396, 'popping': 397, 'sunbeams': 398, 'moonlight': 399, 'nutty': 400, 'rulers': 401, 'b': 402, 'Persimmons': 403, 'Missiles': 404, 'Tobys': 405, 'doghouse': 406, 'Cooking': 407, 'motorbikes': 408, 'Uh': 409, 'ignorance': 410, 'sunnies': 411, 'star': 412, 'screen': 413, 'attracting': 414, 'Mandy': 415, 'thirst': 416, 'Swans': 417, 'Guardian': 418, 'squealing': 419, 'skeletons': 420, 'banana': 421, 'nothing': 422, 'energised': 423, 'Clumsy': 424, 'budge': 425, 'lorry': 426, 'Whistler': 427, 'strummed': 428, 'express': 429, 'Eh': 430, 'spotting': 431, 'Aside': 432, 'keyboard': 433, 'unknowns': 434, 'Aw': 435, 'ham': 436, 'way': 437, 'crunching': 438, 'tighter': 439, 'cure': 440, 'chicks': 441, 'painted': 442, 'Ducky': 443, 'Raven': 444, 'peaceful': 445, 'tagged': 446, 'called': 447, 'resolve': 448, 'Bread': 449, 'mended': 450, 'Surrender': 451, 'bushy': 452, 'sapling': 453, 'packing': 454, 'evil': 455, 'designing': 456, 'glum': 457, 'squishing': 458, 'stinky': 459, 'hurriedly': 460, 'Beware': 461, 'added': 462, 'papers': 463, 'precise': 464, 'onions': 465, 'olds': 466, 'policy': 467, 'sleep': 468, 'lay': 469, 'Acceptor': 470, 'pedals': 471, 'wanna': 472, 'Grumpy': 473, 'tapped': 474, 'shimmer': 475, 'jay': 476, 'Kindness': 477, 'privacy': 478, 'passage': 479, 'copy': 480, 'spaceship': 481, 'harvests': 482, 'Pay': 483, 'brand': 484, 'lad': 485, 'certainly': 486, 'wears': 487, 'carpet': 488, 'Rocks': 489, 'glowing': 490, 'buds': 491, 'court': 492, 'Jessie': 493, 'entertainment': 494, 'flagpole': 495, 'dump': 496, 'Sand': 497, 'false': 498, 'nymph': 499, 'joining': 500, 'studies': 501, 'Move': 502, 'Basketball': 503, 'skillfully': 504, 'squabbled': 505, 'Burn': 506, 'daffodil': 507, 'garden': 508, 'Fox': 509, 'frowns': 510, 'flooding': 511, 'Bits': 512, 'benches': 513, 'around': 514, 'shortcut': 515, 'harsh': 516, 'By': 517, 'Free': 518, 'entranced': 519, 'daddy': 520, 'meals': 521, 'suffered': 522, 'crispy': 523, 'jacks': 524, 'craving': 525, 'sneaky': 526, 'bustling': 527, 'massive': 528, 'awely': 529, 'legal': 530, 'Store': 531, 'pants': 532, 'seaweed': 533, 'Shall': 534, 'hes': 535, 'milder': 536, 'octopuses': 537, 'squirm': 538, 'correct': 539, 'weight': 540, 'clothing': 541, 'erupt': 542, 'peck': 543, 'fairyth': 544, 'sends': 545, 'Doing': 546, 'Charity': 547, 'Jail': 548, 'snap': 549, 'vengeful': 550, 'guide': 551, 'nap': 552, 'Cluck': 553, 'today': 554, 'dish': 555, 'boasted': 556, 'delaying': 557, 'watching': 558, 'Fix': 559, 'Should': 560, 'whirled': 561, 'tongues': 562, 'situations': 563, 'cockpit': 564, 'hello': 565, 'proudly': 566, 'condition': 567, 'trust': 568, 'display': 569, 'relying': 570, 'campers': 571, 'coast': 572, 'gloominess': 573, 'marketplace': 574, 'Isn': 575, 'tide': 576, 'Celery': 577, 'fruitless': 578, 'ticking': 579, 'amusing': 580, 'whir': 581, 'bash': 582, 'surfer': 583, 'Whistle': 584, 'backdrop': 585, 'Net': 586, 'meandered': 587, 'Whew': 588, 'poverty': 589, 'marriage': 590, 'forget': 591, 'caf': 592, 'Bozo': 593, 'most': 594, 'plays': 595, 'scribbled': 596, 'finish': 597, 'Grandpa': 598, 'reflects': 599, 'Chip': 600, 'surrender': 601, 'releases': 602, 'slamming': 603, 'yips': 604, 'loneliness': 605, 'Granny': 606, 'valuing': 607, 'springing': 608, 'are': 609, 'stair': 610, 'hesitated': 611, 'littered': 612, 'meanest': 613, 'Scary': 614, 'kindness': 615, 'Binny': 616, 'evaporation': 617, 'guts': 618, 'thrilling': 619, 'robin': 620, 'pronounce': 621, 'Keep': 622, 'glance': 623, 'taxis': 624, 'Lasers': 625, 'Shoo': 626, 'Boney': 627, 'dead': 628, 'replaced': 629, 'large': 630, 'Congratulations': 631, 'adjusted': 632, 'Brrr': 633, 'beehive': 634, 'drawn': 635, 'product': 636, 'tow': 637, 'rip': 638, 'stirrer': 639, 'field': 640, 'weep': 641, 'piano': 642, 'Claus': 643, 'camping': 644, 'exactly': 645, 'pile': 646, 'snuggly': 647, 'Cart': 648, 'mixers': 649, 'paraded': 650, 'participate': 651, 'wished': 652, 'Momma': 653, 'Spin': 654, 'Rabbits': 655, 'taps': 656, 'drains': 657, 'giggle': 658, 'slip': 659, 'starving': 660, 'chests': 661, 'Kari': 662, 'its': 663, 'toppled': 664, 'nightstand': 665, 'exclaimed': 666, 'brainstorming': 667, 'fancy': 668, 'seriously': 669, 'faithfully': 670, 'spaces': 671, 'sighs': 672, 'pennies': 673, 'glee': 674, 'Exercise': 675, 'halo': 676, 'events': 677, 'Twig': 678, 'mood': 679, 'opportunity': 680, 'washer': 681, 'potty': 682, 'Chris': 683, 'bending': 684, 'quacks': 685, 'Yesterday': 686, 'Generosity': 687, 'brotherly': 688, 'giggly': 689, 'Recite': 690, 'lounge': 691, 'mayonnaise': 692, 'stacking': 693, 'hamburgers': 694, 'at': 695, 'Frustration': 696, 'obviously': 697, 'disruptive': 698, 'mitts': 699, 'salon': 700, 'Pepper': 701, 'inseperable': 702, 'Sallys': 703, 'batch': 704, 'sizzle': 705, 'eleventh': 706, 'lines': 707, 'Snowman': 708, 'ruffling': 709, 'noddles': 710, 'solving': 711, 'comets': 712, 'shaggy': 713, 'mirror': 714, 'hairstyle': 715, 'deepest': 716, 'drum': 717, 'terrain': 718, 'bench': 719, 'disobeyed': 720, 'Whoof': 721, 'Eleven': 722, 'Jin': 723, 'army': 724, 'wag': 725, 'bleeds': 726, 'Lee': 727, 'unicycle': 728, 'whisper': 729, 'unscrew': 730, 'coughs': 731, 'Patrick': 732, 'baths': 733, 'crackers': 734, 'obtain': 735, 'neighbors': 736, 'suffer': 737, 'parked': 738, 'choppy': 739, 'celebrations': 740, 'recognizing': 741, 'recreate': 742, 'browsing': 743, 'zippity': 744, 'wasn': 745, 'small': 746, 'police': 747, 'snowflake': 748, 'lining': 749, 'Land': 750, 'thousand': 751, 'pause': 752, 'Puff': 753, 'stomps': 754, 'jugs': 755, 'pie': 756, 'trapping': 757, 'Picking': 758, 'winning': 759, 'ribbit': 760, 'Daisy': 761, 'complain': 762, 'Joshs': 763, 'buzzed': 764, 'meeting': 765, 'cursive': 766, 'asleep': 767, 'oak': 768, 'roses': 769, 'quack': 770, 'Closed': 771, 'alongside': 772, 'phones': 773, 'spoiling': 774, 'stowed': 775, 'likes': 776, 'slumber': 777, 'sprinting': 778, 'tiara': 779, 'sparkliest': 780, 'warms': 781, 'telephone': 782, 'peach': 783, 'hairdresser': 784, 'cartwheels': 785, 'Spiders': 786, 'library': 787, 'responsible': 788, 'styling': 789, 'luxuries': 790, 'Moon': 791, 'Marty': 792, 'bravo': 793, 'Cynthia': 794, 'sums': 795, 'napper': 796, 'Sometimes': 797, 'Sammie': 798, 'proven': 799, 'how': 800, 'troubled': 801, 'bystanders': 802, 'fold': 803, 'bright': 804, 'astounded': 805, 'St': 806, 'hive': 807, 'witness': 808, 'occurred': 809, 'built': 810, 'anybody': 811, 'entirely': 812, 'jiggles': 813, 'ducks': 814, 'organized': 815, 'Fambi': 816, 'fussed': 817, 'levitate': 818, 'nervously': 819, 'narrowed': 820, 'rung': 821, 'guides': 822, 'same': 823, 'POW': 824, 'wilted': 825, 'grounded': 826, 'Soo': 827, 'lolly': 828, 'lizard': 829, 'realised': 830, 'park': 831, 'Nanny': 832, 'witch': 833, 'receive': 834, 'grab': 835, 'Design': 836, 'upside': 837, 'Jeff': 838, 'posters': 839, 'Messy': 840, 'markers': 841, 'boarded': 842, 'need': 843, 'came': 844, 'Boatman': 845, 'sunlight': 846, 'Hammer': 847, 'athlete': 848, 'Whose': 849, 'borrowed': 850, 'ironing': 851, 'pedalled': 852, 'renewed': 853, 'cute': 854, 'Zoey': 855, 'Muffy': 856, 'peered': 857, 'musty': 858, 'designed': 859, 'persuade': 860, 'Legos': 861, 'den': 862, 'lawn': 863, 'Toby': 864, 'grooving': 865, 'sightseeing': 866, 'bears': 867, 'sobbed': 868, 'champion': 869, 'achieving': 870, 'protected': 871, 'fiercely': 872, 'prized': 873, 'attend': 874, 'Copper': 875, 'both': 876, 'distressed': 877, 'blankets': 878, 'ceremony': 879, 'storm': 880, 'tallness': 881, 'squeals': 882, 'tracked': 883, 'winner': 884, 'Brian': 885, 'advice': 886, 'boa': 887, 'online': 888, 'whistled': 889, 'cartoon': 890, 'flush': 891, 'enjoy': 892, 'decorations': 893, 'waggly': 894, 'righted': 895, 'quarreled': 896, 'faded': 897, 'dots': 898, 'die': 899, 'attacking': 900, 'mummys': 901, 'busier': 902, 'caramel': 903, 'various': 904, 'oranges': 905, 'partner': 906, 'talking': 907, 'cones': 908, 'Snuggles': 909, 'Too': 910, 'locks': 911, 'Behind': 912, 'elevators': 913, 'Daddys': 914, 'exam': 915, 'claps': 916, 'crossbones': 917, 'potion': 918, 'snacks': 919, 'recognize': 920, 'coat': 921, 'beef': 922, 'page': 923, 'blazing': 924, 'heading': 925, 'chair': 926, 'pestering': 927, 'sinking': 928, 'Igloos': 929, 'includes': 930, 'fever': 931, 'goggles': 932, 'attention': 933, 'mobile': 934, 'types': 935, 'sparrow': 936, 'scold': 937, 'The': 938, 'bumpy': 939, 'owl': 940, 'haphazardly': 941, 'pendant': 942, 'pinch': 943, 'sneeze': 944, 'Pattys': 945, 'glasses': 946, 'reassure': 947, 'nighttime': 948, 'making': 949, 'winter': 950, 'Hugs': 951, 'Zap': 952, 'sieve': 953, 'starred': 954, 'Lynne': 955, 'Salty': 956, 'Greens': 957, 'mats': 958, 'deeper': 959, 'eagle': 960, 'zap': 961, 'goodbyes': 962, 'echoing': 963, 'horizon': 964, 'dollhouse': 965, 'silliness': 966, 'hurried': 967, 'Waiter': 968, 'harmless': 969, 'apologizing': 970, 'eye': 971, 'duck': 972, 'smiledbig': 973, 'Snow': 974, 'superheroes': 975, 'wiser': 976, 'horn': 977, 'coach': 978, 'dusted': 979, 'Buy': 980, 'hills': 981, 'iciest': 982, 'Remind': 983, 'Hi': 984, 'usually': 985, 'car': 986, 'performed': 987, 'Puppy': 988, 'summer': 989, 'here': 990, 'thoughtful': 991, 'mentioned': 992, 'highlighted': 993, 'snows': 994, 'avail': 995, 'responsibilities': 996, 'countries': 997, 'Lord': 998, 'bullet': 999, 'canes': 1000, 'runs': 1001, 'dries': 1002, 'whines': 1003, 'yelps': 1004, 'lollipop': 1005, 'gazing': 1006, 'Mabel': 1007, 'explanation': 1008, 'matted': 1009, 'breathing': 1010, 'Traffic': 1011, 'pees': 1012, 'Deaf': 1013, 'crest': 1014, 'apologising': 1015, 'scarfs': 1016, 'blind': 1017, 'warmed': 1018, 'whining': 1019, 'kicks': 1020, 'aims': 1021, 'sandpit': 1022, 'desire': 1023, 'befriends': 1024, 'stirs': 1025, 'seeing': 1026, 'gigantic': 1027, 'unrolled': 1028, 'Jemma': 1029, 'opportunistic': 1030, 'kites': 1031, 'poster': 1032, 'rhymes': 1033, 'Wine': 1034, 'recess': 1035, 'Snowy': 1036, 'ribbons': 1037, 'crayon': 1038, 'vowed': 1039, 'live': 1040, 'Maddy': 1041, 'Tidying': 1042, 'Sharks': 1043, 'succeeded': 1044, 'Moments': 1045, 'drumsticks': 1046, 'punishment': 1047, 'laughter': 1048, 'legend': 1049, 'Warn': 1050, 'Valley': 1051, 'chances': 1052, 'disagreeable': 1053, 'advertisement': 1054, 'properly': 1055, 'important': 1056, 'dresses': 1057, 'reins': 1058, 'drain': 1059, 'crossed': 1060, 'Lily': 1061, 'poking': 1062, 'homesick': 1063, 'Ameli': 1064, 'trumped': 1065, 'trapped': 1066, 'why': 1067, 'acorn': 1068, 'overflowing': 1069, 'row': 1070, 'preferences': 1071, 'cheating': 1072, 'camera': 1073, 'twins': 1074, 'tops': 1075, 'touches': 1076, 'demonstrated': 1077, 'whilst': 1078, 'portion': 1079, 'change': 1080, 'imaginative': 1081, 'worlds': 1082, 'jeweler': 1083, 'whimpered': 1084, 'roles': 1085, 'next': 1086, 'rungs': 1087, 'treetops': 1088, 'track': 1089, 'bits': 1090, 'trotted': 1091, 'twelve': 1092, 'ol': 1093, 'Greg': 1094, 'TheEnd': 1095, 'tear': 1096, 'hairdressers': 1097, 'Touch': 1098, 'boats': 1099, '\"': 1100, 'swallow': 1101, 'Crabs': 1102, 'luckiest': 1103, 'firefly': 1104, 'touched': 1105, 'ostrich': 1106, 'dirtiest': 1107, 'rebuild': 1108, 'brings': 1109, 'pyjamas': 1110, 'tickle': 1111, 'Whoever': 1112, 'Guess': 1113, 'scribbles': 1114, 'nursing': 1115, 'accomplish': 1116, 'Marriage': 1117, 'enthusiastic': 1118, 'streak': 1119, 'll': 1120, 'Supporting': 1121, 'burps': 1122, 'clever': 1123, 'nromal': 1124, 'stupid': 1125, 'idea': 1126, 'spill': 1127, 'teaches': 1128, 'fourJim': 1129, 'Squish': 1130, 'Kiss': 1131, 'hearing': 1132, 'Seven': 1133, 'Lexy': 1134, 'penguin': 1135, 'cork': 1136, 'wonders': 1137, 'rocker': 1138, 'Bouncy': 1139, 'rapidly': 1140, 'musicians': 1141, 'softens': 1142, 'roasting': 1143, 'operation': 1144, 'sap': 1145, 'bathrooms': 1146, 'according': 1147, 'Cleaning': 1148, 'lots': 1149, 'Fiona': 1150, 'Zips': 1151, 'corns': 1152, 'babysitter': 1153, 'sniffled': 1154, 'top': 1155, 'realizes': 1156, 'slither': 1157, 'mourning': 1158, 'Loops': 1159, 'Fish': 1160, 'enough': 1161, 'petting': 1162, 'dessert': 1163, 'Knife': 1164, 'slow': 1165, 'hears': 1166, 'photo': 1167, 'gasps': 1168, 'cities': 1169, 'iced': 1170, 'Suddenly': 1171, 'clucked': 1172, 'playday': 1173, 'lap': 1174, 'characters': 1175, 'naughtiness': 1176, 'Dory': 1177, 'stroked': 1178, 'Katie': 1179, 'caught': 1180, 'Snacks': 1181, 'trophy': 1182, 'hired': 1183, 'tallest': 1184, 'someday': 1185, 'Alright': 1186, 'heap': 1187, 'food': 1188, 'feathered': 1189, 'mill': 1190, 'hateful': 1191, 'villages': 1192, 'backs': 1193, 'crevice': 1194, 'backwards': 1195, 'side': 1196, 'spies': 1197, 'Garden': 1198, 'concern': 1199, 'Piper': 1200, 'refunds': 1201, 'secretyoull': 1202, 'sons': 1203, 'ambulance': 1204, 'Parade': 1205, 'Squirrel': 1206, 'money': 1207, 'profits': 1208, 'Chirpie': 1209, 'dictionary': 1210, 'sulked': 1211, 'brains': 1212, 'dent': 1213, 'Ralph': 1214, 'performer': 1215, 'swooping': 1216, 'ABC': 1217, 'creak': 1218, 'Crystals': 1219, 'Eww': 1220, 'Would': 1221, 'veil': 1222, 'cover': 1223, 'fruits': 1224, 'stern': 1225, 'Teasing': 1226, 'jagged': 1227, 'school': 1228, 'Restroom': 1229, 'Alvin': 1230, 'sugary': 1231, 'choked': 1232, 'snakes': 1233, 'ruckus': 1234, 'snowman': 1235, 'honorary': 1236, 'deserved': 1237, 'scenery': 1238, 'Ok': 1239, 'cheeseburger': 1240, 'Inside': 1241, 'leaving': 1242, 'scuttled': 1243, 'boos': 1244, 'autographs': 1245, 'normally': 1246, 'Daffodils': 1247, 'Well': 1248, 'lesson': 1249, 'Yay': 1250, 'arrives': 1251, 'heater': 1252, 'companies': 1253, 'Hug': 1254, 'digs': 1255, 'shut': 1256, 'beasts': 1257, 'Others': 1258, 'feasting': 1259, 'hiked': 1260, 'Gabby': 1261, 'disasters': 1262, 'Walt': 1263, 'scratches': 1264, 'gray': 1265, 'youth': 1266, 'nightfall': 1267, 'robber': 1268, 'Usually': 1269, 'aeroplane': 1270, 'third': 1271, 'childrens': 1272, 'paperclip': 1273, 'pouring': 1274, 'earnestly': 1275, 'laugh': 1276, 'strongest': 1277, 'thistle': 1278, 'ramp': 1279, 'upsetting': 1280, 'crouched': 1281, 'instructor': 1282, 'words': 1283, 'started': 1284, 'anyone': 1285, 'Aahh': 1286, 'wriggles': 1287, 'stumbling': 1288, 'creation': 1289, 'floating': 1290, 'Yes': 1291, 'chattering': 1292, 'Bubba': 1293, 'dreary': 1294, 'Hunter': 1295, 'fearful': 1296, 'spoons': 1297, 'guilty': 1298, 'mermaid': 1299, 'promising': 1300, 'rearranged': 1301, 'Spicy': 1302, 'hurry': 1303, 'Mighty': 1304, 'brightened': 1305, 'crunch': 1306, 'rarely': 1307, 'rather': 1308, 'ocean': 1309, 'cutest': 1310, 'ages': 1311, 'gritty': 1312, 'mocking': 1313, 'dim': 1314, 'sandwiches': 1315, 'ate': 1316, 'Go': 1317, 'sofa': 1318, 'lo': 1319, 'turns': 1320, 'praises': 1321, 'one': 1322, 'slightly': 1323, 'farmyard': 1324, 'weee': 1325, 'official': 1326, 'April': 1327, 'Rot': 1328, 'traveler': 1329, 'heartbroken': 1330, 'Prune': 1331, 'covered': 1332, 'chosen': 1333, 'bleeding': 1334, 'Spike': 1335, 'seconds': 1336, 'Musa': 1337, 'telescope': 1338, 'checkup': 1339, 'valued': 1340, 'darlings': 1341, 'informative': 1342, 'brass': 1343, 'rug': 1344, 'jewel': 1345, 'Nightmare': 1346, 'requesting': 1347, 'shortest': 1348, 'eventhough': 1349, 'cheeped': 1350, 'Snoopy': 1351, 'hideout': 1352, 'winded': 1353, 'crunchiness': 1354, 'gently': 1355, 'glow': 1356, 'map': 1357, 'festival': 1358, 'hiking': 1359, 'firefighters': 1360, 'fruit': 1361, 'intently': 1362, 'lyrics': 1363, 'Dolly': 1364, 'physically': 1365, 'stations': 1366, 'killed': 1367, 'Frisky': 1368, 'Broccoli': 1369, 'that': 1370, 'almost': 1371, 'quilt': 1372, 'Sorry': 1373, 'Bee': 1374, 'Luce': 1375, 'glues': 1376, 'easel': 1377, 'placefar': 1378, 'introduce': 1379, 'Scissors': 1380, 'bushes': 1381, 'patient': 1382, 'snowballs': 1383, 'Juliet': 1384, 'm': 1385, 'Looks': 1386, 'Ricky': 1387, 'happiness': 1388, 'giggling': 1389, 'Peoples': 1390, 'Cindy': 1391, 'ordinary': 1392, 'tubes': 1393, 'thieves': 1394, 'Start': 1395, 'shelter': 1396, 'climb': 1397, 'Cottonball': 1398, 'barber': 1399, 'challenges': 1400, 'juggling': 1401, 'Refreshed': 1402, 'declare': 1403, 'eyed': 1404, 'Trembling': 1405, 'locker': 1406, 'catch': 1407, 'rivers': 1408, 'immense': 1409, 'balancers': 1410, 'Mom': 1411, 'altar': 1412, 'spray': 1413, 'counter': 1414, 'tweet': 1415, 'darken': 1416, 'little': 1417, 'chunky': 1418, 'twine': 1419, 'Amanda': 1420, 'stool': 1421, 'pumping': 1422, 'curiously': 1423, 'dove': 1424, 'petted': 1425, 'doors': 1426, 'swordfish': 1427, 'belonged': 1428, 'toss': 1429, 'whined': 1430, 'trees': 1431, 'thinkin': 1432, 'gradually': 1433, 'plunged': 1434, 'branch': 1435, 'hesitate': 1436, 'haired': 1437, 'Amelia': 1438, 'carpenter': 1439, 'beeps': 1440, 'appreciating': 1441, 'rainforest': 1442, 'difficult': 1443, 'continued': 1444, 'musician': 1445, 'sparkling': 1446, 'addresses': 1447, 'Jumping': 1448, 'tucking': 1449, 'penguins': 1450, 'climed': 1451, 'sprung': 1452, 'Crack': 1453, 'Strong': 1454, 'presented': 1455, 'tickled': 1456, 'shrank': 1457, 'low': 1458, 'serving': 1459, 'finishes': 1460, 'Opinions': 1461, 'carpets': 1462, 'Tea': 1463, 'ouchies': 1464, 'friend': 1465, 'Lunchtime': 1466, 'hesitantly': 1467, 'hero': 1468, 'Pink': 1469, 'recipes': 1470, 'make': 1471, 'litter': 1472, 'thin': 1473, 'Sunrise': 1474, 'Olives': 1475, 'lightly': 1476, 'lights': 1477, 'rows': 1478, 'squinted': 1479, 'slits': 1480, 'storekeeper': 1481, 'squint': 1482, 'squeezing': 1483, 'leaps': 1484, 'unhealthy': 1485, 'Charles': 1486, 'curtain': 1487, 'Zoom': 1488, 'grays': 1489, 'fluttering': 1490, 'Truck': 1491, 'hooks': 1492, 'While': 1493, 'pushes': 1494, 'grills': 1495, 'calmer': 1496, 'centre': 1497, 'surfaces': 1498, 'inseparable': 1499, 'snoring': 1500, 'Wide': 1501, 'sad': 1502, 'tiles': 1503, 'wept': 1504, 'oohed': 1505, 'Kris': 1506, 'numb': 1507, 'tentacles': 1508, 'revenge': 1509, 'mealtime': 1510, 'parsley': 1511, 'independence': 1512, 'Anns': 1513, 'monsters': 1514, 'admiring': 1515, 'foxes': 1516, 'purring': 1517, 'leftover': 1518, 'fancying': 1519, 'LOVED': 1520, 'craft': 1521, 'repeated': 1522, 'decorate': 1523, 'stains': 1524, 'antennas': 1525, 'brown': 1526, 'twirly': 1527, 'Skip': 1528, 'armchair': 1529, 'Dale': 1530, 'parties': 1531, 'legs': 1532, 'doorway': 1533, 'grip': 1534, 'competing': 1535, 'Olive': 1536, 'strokes': 1537, 'sheet': 1538, 'oxygen': 1539, 'seal': 1540, 'bien': 1541, 'undo': 1542, 'exchange': 1543, 'Cora': 1544, 'On': 1545, 'Hero': 1546, 'loveliest': 1547, 'completely': 1548, 'blooming': 1549, 'Snowball': 1550, 'stomped': 1551, 'costumes': 1552, 'claws': 1553, 'bookshelves': 1554, 'dance': 1555, 'moist': 1556, 'Melody': 1557, 'mewing': 1558, 'clean': 1559, 'Thank': 1560, 'hurts': 1561, 'should': 1562, 'Colorful': 1563, 'landscapes': 1564, 'doesn': 1565, 'Crunch': 1566, 'reward': 1567, 'woodsman': 1568, 'swam': 1569, 'shade': 1570, 'drink': 1571, 'glistening': 1572, 'Hes': 1573, 'pleasantly': 1574, 'Splat': 1575, 'Suzie': 1576, 'before': 1577, 'preschool': 1578, 'sunbathing': 1579, 'thicker': 1580, 'tears': 1581, 'tent': 1582, 'Woof': 1583, 'daring': 1584, 'FOR': 1585, 'flushes': 1586, 'stared': 1587, 'Next': 1588, 'flexible': 1589, 'lock': 1590, 'cheesy': 1591, 'Herb': 1592, 'joystick': 1593, 'three': 1594, 'Brandy': 1595, 'Squirrels': 1596, 'Melinda': 1597, 'dug': 1598, 'breeze': 1599, 'Bella': 1600, 'pack': 1601, 'spotless': 1602, 'tilt': 1603, 'search': 1604, 'obsessed': 1605, 'Jose': 1606, 'triangle': 1607, 'reeled': 1608, 'pond': 1609, 'sending': 1610, 'thud': 1611, 'magic': 1612, 'prince': 1613, 'instructions': 1614, 'fan': 1615, 'bat': 1616, 'Elin': 1617, 'enjoyed': 1618, 'echoed': 1619, 'Linny': 1620, 'pinecones': 1621, 'speed': 1622, 'spy': 1623, 'stroking': 1624, 'oatmeal': 1625, 'gaps': 1626, 'Steve': 1627, 'respecting': 1628, 'achieve': 1629, 'milkshake': 1630, 'Machine': 1631, 'scooped': 1632, 'failure': 1633, 'jogs': 1634, 'yelling': 1635, 'rust': 1636, 'Despite': 1637, 'stingy': 1638, 'lose': 1639, 'groundhog': 1640, 'zoomed': 1641, 'lapped': 1642, 'ability': 1643, 'Mommys': 1644, 'rescued': 1645, 'emergency': 1646, 'powerless': 1647, 'disagrees': 1648, 'alphabet': 1649, 'farmers': 1650, 'Salt': 1651, 'spruce': 1652, 'strolled': 1653, 'uniforms': 1654, 'gears': 1655, 'honor': 1656, 'off': 1657, 'although': 1658, 'seventy': 1659, 'formed': 1660, 'spared': 1661, 'Crayons': 1662, 'stegosaurus': 1663, 'slams': 1664, 'pushing': 1665, 'relaxed': 1666, 'projector': 1667, 'Stacy': 1668, 'payoff': 1669, 'blackbird': 1670, 'Chess': 1671, 'air': 1672, 'What': 1673, 'blast': 1674, 'happier': 1675, 'townspeople': 1676, 'Happy': 1677, 'register': 1678, 'saw': 1679, 'Need': 1680, 'wildebeest': 1681, 'Loyal': 1682, 'floors': 1683, 'mailmen': 1684, 'stallion': 1685, 'thumbs': 1686, 'widen': 1687, 'Pandy': 1688, 'evening': 1689, 'Billy': 1690, 'Claras': 1691, 'quivering': 1692, 'poetry': 1693, 'turned': 1694, 'mailbox': 1695, 'expected': 1696, 'Pippin': 1697, 'scootering': 1698, 'Yellow': 1699, 'such': 1700, 'driveway': 1701, 'darkness': 1702, 'scissors': 1703, 'soundly': 1704, 'start': 1705, 'honeycomb': 1706, 'Cars': 1707, 'donations': 1708, 'barge': 1709, 'gobble': 1710, 'upstairs': 1711, 'beaks': 1712, 'flashlight': 1713, 'promises': 1714, 'shops': 1715, 'Smoking': 1716, 'mountain': 1717, 'points': 1718, 'sobs': 1719, 'marveled': 1720, 'stayed': 1721, 'ideahe': 1722, 'Quickly': 1723, 'tricks': 1724, 'tummies': 1725, 'petal': 1726, 'hang': 1727, 'meow': 1728, 'knit': 1729, 'recorded': 1730, 'rarer': 1731, 'punish': 1732, 'hopped': 1733, 'teaspoon': 1734, 'choice': 1735, 'under': 1736, 'squeaked': 1737, 'pay': 1738, 'Upon': 1739, 'messier': 1740, 'Awwww': 1741, 'robes': 1742, 'riches': 1743, 'discussed': 1744, 'bone': 1745, 'Stretching': 1746, 'unravel': 1747, 'cheering': 1748, 'smiling': 1749, 'close': 1750, 'direction': 1751, 'swum': 1752, 'embarked': 1753, 'Matt': 1754, 'mop': 1755, 'wraps': 1756, 'truffle': 1757, 'repairing': 1758, 'Angelina': 1759, 'Abigail': 1760, 'begs': 1761, 'Quackers': 1762, 'exercised': 1763, 'right': 1764, 'cause': 1765, 'buttons': 1766, 'Tree': 1767, 'String': 1768, 'reacted': 1769, 'favourites': 1770, 'days': 1771, 'biting': 1772, 'swirl': 1773, 'owls': 1774, 'beauty': 1775, 'Always': 1776, 'volume': 1777, 'sneak': 1778, 'alley': 1779, 'paperwork': 1780, 'holding': 1781, 'gardened': 1782, 'ruins': 1783, 'Sparkles': 1784, 'popped': 1785, 'stomachache': 1786, 'paddled': 1787, 'misery': 1788, 'hilltop': 1789, 'explode': 1790, 'Lenore': 1791, 'flutist': 1792, 'stores': 1793, 'robots': 1794, 'spiral': 1795, 'seed': 1796, 'Dogs': 1797, 'Zoo': 1798, 'sang': 1799, 'crawled': 1800, 'stepped': 1801, 'confident': 1802, 'tales': 1803, 'seems': 1804, 'jolt': 1805, 'proper': 1806, 'wheelchair': 1807, 'jiggly': 1808, 'scrunch': 1809, 'ahh': 1810, 'Release': 1811, 'mightiest': 1812, 'drops': 1813, 'puck': 1814, 'Tomato': 1815, 'machine': 1816, 'Hop': 1817, 'yippee': 1818, 'thats': 1819, 'grade': 1820, 'neighing': 1821, 'erupting': 1822, 'foreshadowing': 1823, 'spooled': 1824, 'superpowers': 1825, 'force': 1826, 'Crab': 1827, 'rummaged': 1828, 'trowel': 1829, 'Frog': 1830, 'sauce': 1831, 'squawk': 1832, 'July': 1833, 'brontosaurus': 1834, 'sailboat': 1835, 'geese': 1836, 'Jane': 1837, 'People': 1838, 'tasks': 1839, 'Mamas': 1840, 'strap': 1841, 'jumpy': 1842, 'truly': 1843, 'blending': 1844, 'figured': 1845, 'baaed': 1846, 'Freddy': 1847, 'i': 1848, 'unhappy': 1849, 'bandages': 1850, 'puppy': 1851, 'powerful': 1852, 'storys': 1853, 'tentacled': 1854, 'mend': 1855, 'links': 1856, 'hammering': 1857, 'perfection': 1858, 'cupped': 1859, 'sceptical': 1860, 'spitting': 1861, 'scolds': 1862, 'First': 1863, 'returning': 1864, 'May': 1865, 'emptied': 1866, 'Um': 1867, 'ed': 1868, 'grades': 1869, 'Excited': 1870, 'emotions': 1871, 'huh': 1872, 'Flash': 1873, 'Riko': 1874, 'loot': 1875, 'alike': 1876, 'glass': 1877, 'shrugged': 1878, 'affection': 1879, 'reindeer': 1880, 'endings': 1881, 'Queen': 1882, 'showers': 1883, 'colour': 1884, 'jeans': 1885, 'companionable': 1886, 'garments': 1887, 'wallpaper': 1888, 'focued': 1889, 'touching': 1890, 'resigned': 1891, 'breezes': 1892, 'rack': 1893, 'Standing': 1894, 'cucumbers': 1895, 'thought': 1896, 'higher': 1897, 'pictures': 1898, 'battles': 1899, 'clinic': 1900, 'appreciate': 1901, 'sawed': 1902, 'wildly': 1903, 'mailboxes': 1904, 'stitched': 1905, 'stubborness': 1906, 'Christina': 1907, 'flowery': 1908, 'doggies': 1909, 'nodded': 1910, 'Tabby': 1911, 'Stories': 1912, 'upstream': 1913, 'Lexi': 1914, 'pinched': 1915, 'wanting': 1916, 'washing': 1917, 'fairest': 1918, 'Kind': 1919, 'itll': 1920, 'rain': 1921, 'Nothing': 1922, 'pastor': 1923, 'too': 1924, 'adored': 1925, 'unhooked': 1926, 'alive': 1927, 'CASTLE': 1928, 'rustled': 1929, 'waddle': 1930, 'fear': 1931, 'unbuckled': 1932, 'feelings': 1933, 'noise': 1934, 'stabbed': 1935, 'beams': 1936, 'knack': 1937, 'obey': 1938, 'Adam': 1939, 'pigeon': 1940, 'through': 1941, 'thriving': 1942, 'Thankyou': 1943, 'everything': 1944, 'Flying': 1945, 'buzzing': 1946, 'swerving': 1947, 'droplets': 1948, 'E': 1949, 'infectious': 1950, 'Please': 1951, 'coats': 1952, 'giraffe': 1953, 'pled': 1954, 'rocket': 1955, 'bad': 1956, 'Clown': 1957, 'slapping': 1958, 'Cherries': 1959, 'ruled': 1960, 'reveal': 1961, 'padlock': 1962, 'peel': 1963, 'stove': 1964, 'scares': 1965, 'destroy': 1966, 'told': 1967, 'bishop': 1968, 'shined': 1969, 'neat': 1970, 'clang': 1971, 'squawking': 1972, 'explained': 1973, 'wily': 1974, 'beacon': 1975, 'recording': 1976, 'mooed': 1977, 'O': 1978, 'film': 1979, 'actor': 1980, 'contents': 1981, 'pieces': 1982, 'sandcastles': 1983, 'Binky': 1984, 'repairman': 1985, 'arm': 1986, 'moose': 1987, 'Tears': 1988, 'admiringly': 1989, 'classmates': 1990, 'hurricane': 1991, 'bones': 1992, 'seeming': 1993, 'vinegar': 1994, 'cheaply': 1995, 'beats': 1996, 'Silly': 1997, 'tidier': 1998, 'wash': 1999, 'sails': 2000, 'sis': 2001, 'Robots': 2002, 'purr': 2003, 'ton': 2004, 'tugging': 2005, 'clap': 2006, 'written': 2007, 'disappointed': 2008, 'wrap': 2009, 'unwrapped': 2010, 'outer': 2011, 'anymore': 2012, 'snatch': 2013, 'Ami': 2014, 'White': 2015, 'sensors': 2016, 'introducing': 2017, 'uncovering': 2018, 'Bobbie': 2019, 'Also': 2020, 'rib': 2021, 'Zip': 2022, 'raincoat': 2023, 'aquarium': 2024, 'Drop': 2025, 'basked': 2026, 'bison': 2027, 'cottage': 2028, 'approached': 2029, 'class': 2030, 'honest': 2031, 'ink': 2032, 'Underneath': 2033, 'alas': 2034, 'celery': 2035, 'baked': 2036, 'signature': 2037, 'Late': 2038, 'curl': 2039, 'Timothy': 2040, 'planks': 2041, 'pearls': 2042, 'chasm': 2043, 'language': 2044, 'Puddles': 2045, 'bin': 2046, 'sickness': 2047, 'splitting': 2048, 'Testing': 2049, 'drift': 2050, 'shallow': 2051, 'toolbox': 2052, 'attentively': 2053, 'tripping': 2054, 'Burt': 2055, 'itit': 2056, 'lawnmower': 2057, 'Willy': 2058, 'bombs': 2059, 'speck': 2060, 'Cody': 2061, 'Instead': 2062, 'suns': 2063, 'Purple': 2064, 'librarian': 2065, 'hobbies': 2066, 'pretend': 2067, 'results': 2068, 'sip': 2069, 'couldnt': 2070, 'succeeds': 2071, 'effort': 2072, 'loaf': 2073, 'Flipper': 2074, 'peacock': 2075, 'coconut': 2076, 'Tinas': 2077, 'blow': 2078, 'soldier': 2079, 'countryside': 2080, 'solve': 2081, 'Mimi': 2082, 'cunning': 2083, 'freaking': 2084, '!': 2085, 'inviting': 2086, 'squash': 2087, 'listens': 2088, 'housework': 2089, 'justice': 2090, 'message': 2091, 'keeps': 2092, 'Caroline': 2093, 'lined': 2094, 'case': 2095, 'conquer': 2096, 'putted': 2097, 'private': 2098, 'Screen': 2099, 'Bobb': 2100, 'pale': 2101, 'loyal': 2102, 'Eric': 2103, 'sniffles': 2104, 'free': 2105, 'smelt': 2106, 'Unite': 2107, 'alien': 2108, 'stung': 2109, 'scrunching': 2110, 'mesmerised': 2111, 'Instantly': 2112, 'may': 2113, 'Cheryl': 2114, 'Rudolph': 2115, 'bountiful': 2116, 'Jody': 2117, 'wouldnt': 2118, 'token': 2119, 'bay': 2120, 'Wombat': 2121, 'sings': 2122, 'downtown': 2123, 'Nia': 2124, 'smushed': 2125, 'laughed': 2126, 'startle': 2127, 'Sally': 2128, 'protests': 2129, 'warnings': 2130, 'noises': 2131, 'otter': 2132, 'nurses': 2133, 'siren': 2134, 'place': 2135, 'waitress': 2136, 's': 2137, 'Wilson': 2138, 'beachs': 2139, 'helpful': 2140, 'unlocking': 2141, 'pastels': 2142, 'lectures': 2143, 'baker': 2144, 'offers': 2145, 'annoying': 2146, 'performances': 2147, 'Ahead': 2148, 'Kelly': 2149, 'plea': 2150, 'Amos': 2151, 'carries': 2152, 'racer': 2153, 'struggle': 2154, 'which': 2155, 'apron': 2156, 'advised': 2157, 'darling': 2158, 'Pot': 2159, 'outsmarted': 2160, 'gesture': 2161, 'Little': 2162, 'mural': 2163, 'cuddliest': 2164, 'welled': 2165, 'pit': 2166, 'fat': 2167, 'pills': 2168, 'cub': 2169, 'eagerly': 2170, 'Laura': 2171, 'Around': 2172, 'story': 2173, 'satisfying': 2174, 'trudged': 2175, 'landscape': 2176, 'Letting': 2177, 'control': 2178, 'besides': 2179, 'jungle': 2180, 'bolts': 2181, 'disappeared': 2182, 'mine': 2183, 'men': 2184, 'hand': 2185, 'pee': 2186, 'Indeed': 2187, 'Spread': 2188, 'drawers': 2189, 'bedrooms': 2190, 'rest': 2191, 'blisters': 2192, 'squeaking': 2193, 'keys': 2194, 'Fuzz': 2195, 'snuggling': 2196, 'cavity': 2197, 'picks': 2198, 'backyardand': 2199, 'neighbour': 2200, 'flakes': 2201, 'sets': 2202, 'talented': 2203, 'Giving': 2204, 'ached': 2205, 'courtyard': 2206, 'intentions': 2207, 'fond': 2208, 'fabric': 2209, 'Owner': 2210, 'Father': 2211, 'Amie': 2212, 'encounters': 2213, 'Poppies': 2214, 'wiggles': 2215, 'arent': 2216, 'Nick': 2217, 'Sol': 2218, 'blame': 2219, 'malfunctioned': 2220, 'quizzes': 2221, 'Praying': 2222, 'fixer': 2223, 'groceries': 2224, 'coin': 2225, 'razors': 2226, 'waffles': 2227, 'lunches': 2228, 'spoil': 2229, 'smoking': 2230, 'Albert': 2231, 'bugs': 2232, 'tails': 2233, 'Pool': 2234, 'Teaching': 2235, 'object': 2236, 'pinching': 2237, 'funnest': 2238, 'pawns': 2239, 'sneezed': 2240, 'sleeping': 2241, 'understandable': 2242, 'maps': 2243, 'misty': 2244, 'knee': 2245, 'rash': 2246, 'above': 2247, 'unpleasant': 2248, 'drenched': 2249, 'streets': 2250, 'sirens': 2251, 'these': 2252, 'dependable': 2253, 'souls': 2254, 'RRAAAAAAAAWR': 2255, 'dirty': 2256, 'soaked': 2257, 'fulfill': 2258, 'Poor': 2259, 'least': 2260, 'understand': 2261, 'anxiety': 2262, 'Robo': 2263, 'mouses': 2264, 'writing': 2265, 'bunnys': 2266, 'comparison': 2267, 'goats': 2268, 'artists': 2269, 'spice': 2270, 'whoa': 2271, 'melody': 2272, 'rolling': 2273, 'suddenly': 2274, 'plugged': 2275, 'ruler': 2276, 'exotic': 2277, 'whale': 2278, 'upon': 2279, 'Lastly': 2280, 'equations': 2281, 'speeds': 2282, 'passable': 2283, 'yip': 2284, 'going': 2285, 'preventing': 2286, 'proceeded': 2287, 'dont': 2288, 'Traps': 2289, 'Round': 2290, 'unnecessary': 2291, 'report': 2292, 'breads': 2293, 'pitchfork': 2294, 'comfortingly': 2295, 'Australia': 2296, 'clue': 2297, 'Two': 2298, 'tutoring': 2299, 'Treasure': 2300, 'soda': 2301, 'lifestyle': 2302, 'Earthquakes': 2303, 'Connie': 2304, 'fierce': 2305, 'engine': 2306, 'merrier': 2307, 'fence': 2308, 'zippy': 2309, 'Magical': 2310, 'measured': 2311, 'Matches': 2312, 'anyplace': 2313, 'Simone': 2314, 'Part': 2315, 'vocal': 2316, 'duckling': 2317, 'Crawling': 2318, 'shuffled': 2319, 'Ghost': 2320, 'yards': 2321, 'License': 2322, 'Ellie': 2323, 'David': 2324, 'Trees': 2325, 'begun': 2326, 'shimmered': 2327, 'coolest': 2328, 'seats': 2329, 'stays': 2330, 'stomach': 2331, 'beep': 2332, 'applause': 2333, 'distances': 2334, 'Lilly': 2335, 'foothold': 2336, 'weeds': 2337, 'mandala': 2338, 'Dancing': 2339, 'Worm': 2340, 'Yuck': 2341, 'Pap': 2342, 'income': 2343, 'nibbles': 2344, 'somewhere': 2345, 'Pick': 2346, 'woozy': 2347, 'belch': 2348, 'waddled': 2349, 'wastes': 2350, 'risks': 2351, 'protects': 2352, 'releasing': 2353, 'accepting': 2354, 'speakers': 2355, 'pistol': 2356, 'could': 2357, 'glimmering': 2358, 'smallest': 2359, 'shades': 2360, 'sewed': 2361, 'crafting': 2362, 'urge': 2363, 'eyea': 2364, 'earlier': 2365, 'prick': 2366, 'wax': 2367, 'listened': 2368, 'beeswax': 2369, 'lowering': 2370, 'examining': 2371, 'without': 2372, 'moo': 2373, 'sharped': 2374, 'dozing': 2375, 'disintegrate': 2376, 'Park': 2377, 'jealous': 2378, 'depends': 2379, 'doughnuts': 2380, 'Peace': 2381, 'ancestors': 2382, 'instructed': 2383, 'fished': 2384, 'bucket': 2385, 'Gwen': 2386, 'retriever': 2387, 'grumble': 2388, 'Curious': 2389, 'wonderland': 2390, 'narrow': 2391, 'creams': 2392, 'reactions': 2393, 'giftthey': 2394, 'acceptable': 2395, 'prepared': 2396, 'below': 2397, 'wrote': 2398, 'blood': 2399, 'pluck': 2400, 'widened': 2401, 'mound': 2402, 'traumatized': 2403, 'Oxygen': 2404, 'medals': 2405, 'meows': 2406, 'hailed': 2407, 'Frosty': 2408, 'pill': 2409, 'refusing': 2410, 'positive': 2411, 'preferred': 2412, 'Blowing': 2413, 'radar': 2414, 'snacking': 2415, 'Pigeon': 2416, 'grabbed': 2417, 'history': 2418, 'Car': 2419, 'smarts': 2420, 'minute': 2421, 'brake': 2422, 'narrower': 2423, 'Judy': 2424, 'Elizabeth': 2425, 'replying': 2426, 'Somehow': 2427, 'knees': 2428, 'clogged': 2429, 'clips': 2430, 'unsure': 2431, 'sting': 2432, 'urgently': 2433, 'wheels': 2434, 'popular': 2435, 'spiciest': 2436, 'prices': 2437, 'clattered': 2438, 'herbs': 2439, 'cage': 2440, 'thickest': 2441, 'lady': 2442, 'regularly': 2443, 'Candy': 2444, 'cookout': 2445, 'lives': 2446, 'yawning': 2447, 'gave': 2448, 'yummiest': 2449, 'float': 2450, 'alcohol': 2451, 'Sliding': 2452, 'boiling': 2453, 'Sandra': 2454, 'hammer': 2455, 'skill': 2456, 'popsicle': 2457, 'notepad': 2458, 'eternity': 2459, 'pan': 2460, 'None': 2461, 'Crissy': 2462, 'contagious': 2463, 'panicked': 2464, 'Turning': 2465, 'improving': 2466, 'Neither': 2467, 'hurting': 2468, 'sews': 2469, 'toast': 2470, 'chirped': 2471, 'corner': 2472, 'similar': 2473, 'guardian': 2474, 'Boy': 2475, 'root': 2476, 'mice': 2477, 'tastier': 2478, 'sometime': 2479, 'gasped': 2480, 'Ahoy': 2481, 'Last': 2482, 'teapot': 2483, 'Wolves': 2484, 'investigated': 2485, 'pencil': 2486, 'stunts': 2487, 'runners': 2488, 'closes': 2489, 'asked': 2490, 'titles': 2491, 'bowed': 2492, 'barrels': 2493, 'Trouble': 2494, 'slithering': 2495, 'rex': 2496, 'tail': 2497, 'drummed': 2498, 'Overhead': 2499, 'shaped': 2500, 'fits': 2501, 'traffic': 2502, 'Room': 2503, 'whizzing': 2504, 'fussy': 2505, 'messenger': 2506, 'fast': 2507, 'cereals': 2508, 'Filled': 2509, 'corners': 2510, 'HATED': 2511, 'winks': 2512, 'again': 2513, 'admires': 2514, 'likely': 2515, 'sandcastle': 2516, 'braver': 2517, 'More': 2518, 'raises': 2519, 'jingle': 2520, 'assistant': 2521, 'Ally': 2522, 'wrongly': 2523, 'surfboards': 2524, 'waddling': 2525, 'My': 2526, 'sit': 2527, 'coughing': 2528, 'truth': 2529, 'peanuts': 2530, 'chooses': 2531, 'sidewalks': 2532, 'gestures': 2533, 'Ewww': 2534, 'everybody': 2535, 'polite': 2536, 'neater': 2537, 'willing': 2538, 'grateful': 2539, 'flavour': 2540, 'handmade': 2541, 'hoped': 2542, 'Unbeknownst': 2543, 'Trust': 2544, 'Pancake': 2545, 'assembled': 2546, 'belongs': 2547, 'stirring': 2548, 'meadow': 2549, 'gnaw': 2550, 'common': 2551, 'unselfish': 2552, 'Emilys': 2553, 'universe': 2554, 'Chirpy': 2555, 'bends': 2556, 'pods': 2557, 'newfound': 2558, 'invigorated': 2559, 'confused': 2560, 'outrun': 2561, 'daydreaming': 2562, 'overcooked': 2563, 'secrets': 2564, 'Birthday': 2565, 'skies': 2566, 'bowling': 2567, 'mountainside': 2568, 'Ignorance': 2569, 'music': 2570, 'calculator': 2571, 'rot': 2572, 'two': 2573, 'discover': 2574, 'begin': 2575, 'wider': 2576, 'cent': 2577, 'angrier': 2578, 'intruders': 2579, 'animal': 2580, 'ending': 2581, 'attaching': 2582, 'Patches': 2583, 'unfair': 2584, 'Sheep': 2585, 'Sadness': 2586, 'provide': 2587, 'rook': 2588, 'cord': 2589, 'Quit': 2590, 'scouted': 2591, 'lasers': 2592, 'Running': 2593, 'dumped': 2594, 'respects': 2595, 'described': 2596, 'experiments': 2597, 'soon': 2598, 'compete': 2599, 'fled': 2600, 'ritual': 2601, 'Beavers': 2602, 'replacement': 2603, 'Halloween': 2604, 'fastest': 2605, 'carrying': 2606, 'Charlie': 2607, ':': 2608, 'frustrated': 2609, 'vacuum': 2610, 'closer': 2611, 'bottles': 2612, 'crowded': 2613, 'will': 2614, 'ridiculous': 2615, 'sleds': 2616, 'vigilant': 2617, 'belief': 2618, 'Clarissa': 2619, 'cherishes': 2620, 'insist': 2621, 'DANGER': 2622, 'knights': 2623, 'block': 2624, 'knowingly': 2625, 'glimpse': 2626, 'examination': 2627, 'Gas': 2628, 'prevented': 2629, 'notices': 2630, 'competitive': 2631, 'dizzy': 2632, 'Saturday': 2633, 'backpacks': 2634, 'slim': 2635, 'tables': 2636, 'guided': 2637, 'frequently': 2638, 'crab': 2639, 'caring': 2640, 'section': 2641, 'Afterwards': 2642, 'collage': 2643, 'unpackinng': 2644, 'panting': 2645, 'destinations': 2646, 'tornadoes': 2647, 'number': 2648, 'pointy': 2649, 'adventurous': 2650, 'chattered': 2651, 'Oak': 2652, 'chugga': 2653, 'balloon': 2654, 'curling': 2655, 'mayor': 2656, 'jiggled': 2657, 'responded': 2658, 'Nightmares': 2659, 'camp': 2660, 'gift': 2661, 'mommys': 2662, 'outing': 2663, 'Pleeease': 2664, 'impressive': 2665, 'engines': 2666, 'mueca': 2667, 'theirs': 2668, 'keyboards': 2669, 'Helium': 2670, 'Chuck': 2671, 'Pinch': 2672, 'lot': 2673, 'spraying': 2674, 'personality': 2675, 'resisting': 2676, 'Mister': 2677, 'arrived': 2678, 'Crow': 2679, 'cupcake': 2680, 'prayed': 2681, 'flapped': 2682, 'think': 2683, 'cloudless': 2684, 'Robin': 2685, 'pleading': 2686, 'salt': 2687, 'nervousness': 2688, 'imitate': 2689, 'tiped': 2690, 'ultimate': 2691, 'gardens': 2692, 'crumbs': 2693, 'spa': 2694, 'Flo': 2695, 'cheeky': 2696, 'golf': 2697, 'Wednesday': 2698, 'safari': 2699, 'shoreline': 2700, 'nicer': 2701, 'turning': 2702, 'chamber': 2703, 'Be': 2704, 'Daniel': 2705, 'tended': 2706, 'outsmart': 2707, 'alternative': 2708, 'nephew': 2709, 'amounts': 2710, 'preparation': 2711, 'waters': 2712, 'strayed': 2713, 'Parrot': 2714, 'Nearby': 2715, 'promised': 2716, 'fashionable': 2717, 'freely': 2718, 'pastime': 2719, 'ballet': 2720, 'danger': 2721, 'Sarah': 2722, 'kayak': 2723, 'attached': 2724, 'cozier': 2725, 'TIE': 2726, 'quivered': 2727, 'hides': 2728, 'Apples': 2729, 'Open': 2730, 'Lions': 2731, 'holidays': 2732, 'afar': 2733, 'Let': 2734, 'Popcorn': 2735, 'stroke': 2736, 'seasons': 2737, 'else': 2738, 'Climb': 2739, 'souvenirs': 2740, 'Steam': 2741, 'Guns': 2742, 'demonstrating': 2743, 'racing': 2744, 'Greene': 2745, 'toad': 2746, 'recommend': 2747, 'Matthew': 2748, 'five': 2749, 'event': 2750, 'Win': 2751, 'put': 2752, 'Nutty': 2753, 'glided': 2754, 'cakes': 2755, 'Allie': 2756, 'surface': 2757, 'American': 2758, 'clearest': 2759, 'tougher': 2760, 'Unit': 2761, 'chaos': 2762, 'shed': 2763, 'postcard': 2764, 'total': 2765, 'flies': 2766, 'toddler': 2767, 'required': 2768, 'focused': 2769, 'tucks': 2770, 'anxious': 2771, 'careening': 2772, 'embraced': 2773, 'forgot': 2774, 'Mix': 2775, 'tiredness': 2776, 'peoples': 2777, 'Satisfied': 2778, 'creamy': 2779, 'gets': 2780, 'Fall': 2781, 'gorgeous': 2782, 'tummbled': 2783, 'sparkles': 2784, 'Crocodile': 2785, 'snout': 2786, 'ha': 2787, 'Outside': 2788, 'tuned': 2789, 'jets': 2790, 'Not': 2791, 'Jackie': 2792, 'schools': 2793, 'vroom': 2794, 'sail': 2795, 'dread': 2796, 'return': 2797, 'jiggle': 2798, 'argument': 2799, 'bumps': 2800, 'columns': 2801, 'ing': 2802, 'owlet': 2803, 'Watch': 2804, 'possibly': 2805, 'Further': 2806, 'shoo': 2807, 'Intrigued': 2808, 'unripe': 2809, 'Jogging': 2810, 'slid': 2811, 'front': 2812, 'surrendering': 2813, 'marvelous': 2814, 'pinks': 2815, 'tag': 2816, 'swinging': 2817, 'Maxi': 2818, 'Bless': 2819, 'Lower': 2820, 'bog': 2821, 'painters': 2822, 'evenlet': 2823, 'woodworker': 2824, 'lollies': 2825, 'Bucky': 2826, 'Flutter': 2827, 'hatch': 2828, 'gills': 2829, 'Power': 2830, 'YES': 2831, 'tractor': 2832, 'Marys': 2833, 'fireworks': 2834, 'willow': 2835, 'deed': 2836, 'lasted': 2837, 'threateningly': 2838, 'soooooo': 2839, 'blender': 2840, 'swishing': 2841, 'wondrous': 2842, 'clearer': 2843, 'shone': 2844, 'overalls': 2845, 'missing': 2846, 'defeating': 2847, 'dropped': 2848, 'peeking': 2849, 'Serving': 2850, 'would': 2851, 'spoonfuls': 2852, 'wiped': 2853, 'take': 2854, 'soaring': 2855, 'understood': 2856, 'risky': 2857, 'neighs': 2858, 'strode': 2859, 'Eddie': 2860, 'direct': 2861, 'awarded': 2862, 'notice': 2863, 'Sailboat': 2864, 'sailing': 2865, 'safety': 2866, 'average': 2867, 'their': 2868, 'Payoff': 2869, 'East': 2870, 'mitt': 2871, 'Ty': 2872, 'contained': 2873, 'Repair': 2874, 'accomplishments': 2875, 'devoured': 2876, 'Alfred': 2877, 'Problem': 2878, 'dragons': 2879, 'learner': 2880, 'Firefighters': 2881, 'healthiest': 2882, 'flamingos': 2883, 'savers': 2884, 'removing': 2885, 'fearless': 2886, 'strip': 2887, 'ill': 2888, 'unexpected': 2889, 'continuing': 2890, 'bubblegum': 2891, 'threatening': 2892, 'dribbled': 2893, 'against': 2894, 'normal': 2895, 'someone': 2896, 'Ms': 2897, 'bumblebee': 2898, 'engineer': 2899, 'lighting': 2900, 'flashing': 2901, 'glinting': 2902, 'Quiet': 2903, 'crocodiles': 2904, 'cottony': 2905, 'sign': 2906, 'Walking': 2907, 'pointer': 2908, 'granted': 2909, 'Knock': 2910, 'Curiosity': 2911, 'upset': 2912, 'fainter': 2913, 'spooned': 2914, 'baseball': 2915, 'dad': 2916, 'hurray': 2917, 'ecstatic': 2918, 'harshly': 2919, 'Noticing': 2920, 'permitting': 2921, 'feel': 2922, 'flock': 2923, 'burgers': 2924, 'sitting': 2925, 'singer': 2926, 'dream': 2927, 'uses': 2928, 'sidewalk': 2929, 'trousers': 2930, 'Flossy': 2931, 'followed': 2932, 'read': 2933, 'meat': 2934, 'Relaxing': 2935, 'waggled': 2936, 'snow': 2937, 'available': 2938, 'mums': 2939, 'argued': 2940, 'and': 2941, 'train': 2942, 'Only': 2943, 'Lemonade': 2944, 'Dan': 2945, 'fruity': 2946, 'Sharp': 2947, 'POISON': 2948, 'strutted': 2949, 'Marvin': 2950, 'ignition': 2951, 'cleaned': 2952, 'businesses': 2953, 'mermaids': 2954, 'brightens': 2955, 'linked': 2956, 'heat': 2957, 'modelit': 2958, 'Week': 2959, 'role': 2960, 'signing': 2961, 'Puffing': 2962, 'Believe': 2963, 'bottle': 2964, 'terrified': 2965, 'journal': 2966, 'buggy': 2967, 'unravelled': 2968, 'kidnapped': 2969, 'pecks': 2970, 'gross': 2971, 'bought': 2972, 'lately': 2973, 'periods': 2974, 'compliment': 2975, 'bond': 2976, 'securely': 2977, 'scooting': 2978, 'willed': 2979, 'be': 2980, 'snipped': 2981, 'shaken': 2982, 'unsuccessful': 2983, 'giggles': 2984, 'burn': 2985, 'Alice': 2986, 'burrow': 2987, 'Slithering': 2988, 'shuddering': 2989, 'snowy': 2990, 'drunk': 2991, 'bill': 2992, 'blushed': 2993, 'bluer': 2994, 'Flour': 2995, 'family': 2996, 'becomes': 2997, 'lamps': 2998, 'suggesting': 2999, 'Is': 3000, 'sweating': 3001, 'sparkle': 3002, 'minerals': 3003, 'unfolded': 3004, 'wrong': 3005, 'crumbly': 3006, 'gifted': 3007, 'smug': 3008, 'losing': 3009, 'dangerous': 3010, 'seatbelt': 3011, 'flights': 3012, 'tortoises': 3013, 'Steves': 3014, 'entertaining': 3015, 'harness': 3016, 'by': 3017, 'strawberies': 3018, 'bananas': 3019, 'dances': 3020, 'ponytail': 3021, 'vast': 3022, 'Club': 3023, 'confronted': 3024, 'woof': 3025, 'chief': 3026, 'Joy': 3027, 'sight': 3028, 'pouts': 3029, 'atop': 3030, 'onion': 3031, 'pups': 3032, 'Unknown': 3033, 'shoving': 3034, 'decorator': 3035, 'stacked': 3036, 'girls': 3037, 'portions': 3038, 'supplying': 3039, 'sounds': 3040, 'threaded': 3041, 'pocketful': 3042, 'stumbled': 3043, 'peeks': 3044, 'packed': 3045, 'zippers': 3046, 'Toys': 3047, 'creaky': 3048, 'shorter': 3049, 'mumbled': 3050, 'Em': 3051, 'me': 3052, 'puzzling': 3053, 'virus': 3054, 'swishes': 3055, 'Alexs': 3056, 'Lady': 3057, 'ignored': 3058, 'tapes': 3059, 'bus': 3060, 'cross': 3061, 'Matty': 3062, 'violins': 3063, 'Halfway': 3064, 'movie': 3065, 'Daughter': 3066, 'resources': 3067, 'misbehaving': 3068, 'jewelry': 3069, 'jar': 3070, 'springtime': 3071, 'Julia': 3072, 'aid': 3073, 'group': 3074, 'crow': 3075, 'falls': 3076, 'Tires': 3077, 'Bookcase': 3078, 'mutt': 3079, 'voyage': 3080, 'girl': 3081, 'entrance': 3082, 'webcam': 3083, 'disruption': 3084, 'towers': 3085, 'Goodness': 3086, 'poisonous': 3087, 'waterproof': 3088, 'necklaces': 3089, 'bluest': 3090, 'Raja': 3091, 'colourful': 3092, 'combs': 3093, 'decoration': 3094, 'toughest': 3095, 'existed': 3096, 'Patience': 3097, 'desert': 3098, 'fiery': 3099, 'scuttling': 3100, 'Faster': 3101, 'Hootie': 3102, 'Games': 3103, 'code': 3104, 'contribute': 3105, 'fuzzier': 3106, 'mushrooms': 3107, 'cleans': 3108, 'Star': 3109, 'rebuilt': 3110, 'speciala': 3111, 'Someone': 3112, 'Frozen': 3113, 'Bye': 3114, 'conflicts': 3115, 'Everything': 3116, 'scarf': 3117, 'cautious': 3118, 'pipes': 3119, 'Youth': 3120, 'splendid': 3121, 'digging': 3122, 'pure': 3123, 'prisoner': 3124, 'violets': 3125, 'Sandpit': 3126, 'bravely': 3127, 'toothache': 3128, 'Promises': 3129, 'gallery': 3130, 'juicy': 3131, 'boil': 3132, 'cranes': 3133, 'selfishness': 3134, 'colder': 3135, 'oily': 3136, 'struggles': 3137, 'vanilla': 3138, 'discomfort': 3139, 'Cheer': 3140, 'hands': 3141, 'hobby': 3142, 'spit': 3143, 'wool': 3144, 'flashy': 3145, 'feels': 3146, 'snooze': 3147, 'Red': 3148, 'definitely': 3149, 'luxury': 3150, 'equally': 3151, 'merry': 3152, 'expert': 3153, 'admit': 3154, 'goo': 3155, 'sleek': 3156, 'attempts': 3157, 'freed': 3158, 'breathtaking': 3159, 'burying': 3160, 'reality': 3161, 'Anya': 3162, 'pounded': 3163, 'blades': 3164, 'berry': 3165, 'helicopter': 3166, 'Luggage': 3167, 'bubbly': 3168, 'snores': 3169, 'conflict': 3170, 'Arctic': 3171, 'squawked': 3172, 'yarn': 3173, 'cutters': 3174, 'tired': 3175, 'mischievous': 3176, 'selection': 3177, 'hilarious': 3178, 'Press': 3179, 'Frogs': 3180, 'swingers': 3181, 'delayed': 3182, 'vanishes': 3183, 'begrudgingly': 3184, 'toucan': 3185, 'avoiding': 3186, 'soar': 3187, 'rinsing': 3188, 'trustworthy': 3189, 'rattling': 3190, 'stand': 3191, 'loved': 3192, 'having': 3193, 'allowed': 3194, 'fork': 3195, 'tinkling': 3196, 'floaty': 3197, 'eventually': 3198, 'floor': 3199, 'applied': 3200, 'Curiously': 3201, 'elbows': 3202, 'ferocious': 3203, 'slash': 3204, 'unwinding': 3205, 'rotted': 3206, 'process': 3207, 'Dependable': 3208, 'latch': 3209, 'sighing': 3210, 'truck': 3211, 'Ethan': 3212, 'chuckled': 3213, 'fleeting': 3214, 'Roy': 3215, 'ROAR': 3216, 'Destroy': 3217, 'depending': 3218, 'fight': 3219, 'Gizmo': 3220, 'Immediately': 3221, 'youngest': 3222, 'lying': 3223, 'complimented': 3224, 'conversations': 3225, 'intrigue': 3226, 'Soup': 3227, 'cane': 3228, 'chimney': 3229, 'odor': 3230, 'hearted': 3231, 'paints': 3232, 'puppet': 3233, 'father': 3234, 'chilly': 3235, 'threebut': 3236, 'Gem': 3237, 'mallard': 3238, 'broader': 3239, 'lost': 3240, 'excitedly': 3241, 'maker': 3242, 'dial': 3243, 'buffed': 3244, 'sixth': 3245, 'whacking': 3246, 'spots': 3247, 'works': 3248, 'Wow': 3249, 'stirred': 3250, 'pulling': 3251, 'surprising': 3252, 'accepted': 3253, 'mixer': 3254, 'lotion': 3255, 'aren': 3256, 'Regular': 3257, 'polluting': 3258, 'beads': 3259, 'Ew': 3260, 'appetite': 3261, 'Y': 3262, 'Philip': 3263, 'hen': 3264, 'minded': 3265, 'Snip': 3266, 'melon': 3267, 'strum': 3268, 'cooled': 3269, 'neatly': 3270, 'hates': 3271, 'dates': 3272, 'compliments': 3273, 'choices': 3274, 'suggest': 3275, 'adventurers': 3276, 'each': 3277, 'arguing': 3278, 'saved': 3279, 'knobs': 3280, 'realise': 3281, 'asks': 3282, 'Abby': 3283, 'Besides': 3284, 'Mommmyyyy': 3285, 'doin': 3286, 'defeat': 3287, 'lowers': 3288, 'ears': 3289, 'stir': 3290, 'cheer': 3291, 'headed': 3292, 'cooperate': 3293, 'ok': 3294, 'Thumper': 3295, 'cucumber': 3296, 'slurped': 3297, 'locked': 3298, 'competitiveshe': 3299, 'addressed': 3300, 'sorts': 3301, 'laces': 3302, 'chopped': 3303, 'lilies': 3304, 'shaded': 3305, 'lovable': 3306, 'reassuring': 3307, 'invite': 3308, 'blurry': 3309, 'yanked': 3310, 'Sunshine': 3311, 'Adeles': 3312, 'streamed': 3313, 'dependability': 3314, 'nudge': 3315, 'splashed': 3316, 'Thanks': 3317, 'hideaway': 3318, 'Guide': 3319, 'bathing': 3320, 'colony': 3321, 'Unlock': 3322, 'icing': 3323, 'zigzags': 3324, 'horribly': 3325, 'speech': 3326, 'fiercest': 3327, 'circled': 3328, 'brambles': 3329, 'Ben': 3330, 'astronauts': 3331, 'caretaker': 3332, 'pairs': 3333, 'screams': 3334, 'crosses': 3335, 'Carolyn': 3336, 'towering': 3337, 'squirrel': 3338, 'textures': 3339, 'Spells': 3340, 'farms': 3341, 'Will': 3342, 'wand': 3343, 'miller': 3344, 'ladies': 3345, 'policeman': 3346, 'blooms': 3347, 'slammed': 3348, 'Birds': 3349, 'Mazzys': 3350, 'sort': 3351, 'Shade': 3352, 'pacing': 3353, 'ABCs': 3354, 'spectacular': 3355, 'cutter': 3356, 'jellybeans': 3357, 'Hear': 3358, 'fisherman': 3359, 'Here': 3360, 'stroller': 3361, 'smoother': 3362, 'Once': 3363, 'lathered': 3364, 'superhero': 3365, 'gangplank': 3366, 'Mmm': 3367, 'unlocked': 3368, 'jingling': 3369, 'width': 3370, 'Easter': 3371, 'cuddle': 3372, 'wrecked': 3373, 'Marky': 3374, 'swimsuit': 3375, 'bushed': 3376, 'toppings': 3377, 'expressions': 3378, 'was': 3379, 'strawberry': 3380, 'sneezing': 3381, 'uniform': 3382, 'separately': 3383, 'borrows': 3384, 'advance': 3385, 'trick': 3386, 'Mike': 3387, 'patting': 3388, 'Bea': 3389, 'muzzle': 3390, 'persisted': 3391, 'rubber': 3392, 'wrinkled': 3393, 'zebras': 3394, 'stop': 3395, 'impressed': 3396, 'bluebird': 3397, 'moved': 3398, 'actually': 3399, 'son': 3400, 'Merry': 3401, 'faucet': 3402, 'Everyone': 3403, 'exploding': 3404, 'undying': 3405, 'Cottontail': 3406, 'supernovas': 3407, 'wouldn': 3408, 'blaming': 3409, 'bloom': 3410, 'seven': 3411, 'plastic': 3412, 'flashlights': 3413, 'recommendations': 3414, 'Johnnie': 3415, 'Jennie': 3416, 'Pip': 3417, 'Taste': 3418, 'crown': 3419, 'flexed': 3420, 'selected': 3421, 'readily': 3422, 'jolliest': 3423, 'card': 3424, 'moves': 3425, 'trekked': 3426, 'Lego': 3427, 'Claw': 3428, 'dangling': 3429, 'changes': 3430, 'Percy': 3431, 'sawing': 3432, 'Goo': 3433, 'Eliana': 3434, 'wants': 3435, 'clicked': 3436, 'Spray': 3437, 'glued': 3438, 'belly': 3439, 'Bongo': 3440, 'rescuing': 3441, 'obediently': 3442, 'fianc': 3443, 'goodies': 3444, 'hillside': 3445, 'overhead': 3446, 'headache': 3447, 'calmness': 3448, 'fellow': 3449, 'press': 3450, 'rotting': 3451, 'boxes': 3452, 'play': 3453, 'bundle': 3454, 'snorting': 3455, 'styles': 3456, 'whinnied': 3457, 'tissue': 3458, 'corn': 3459, 'plopped': 3460, 'leaking': 3461, 'drill': 3462, 'remarkable': 3463, 'profoundly': 3464, 'bonita': 3465, 'insistent': 3466, 'grandmas': 3467, 'sprained': 3468, 'Counting': 3469, 'huge': 3470, 'sideburns': 3471, 'clowns': 3472, 'wobbles': 3473, 'squeezed': 3474, 'Three': 3475, 'genius': 3476, 'clapping': 3477, 'feet': 3478, 'speechless': 3479, 'Buzzy': 3480, 'problem': 3481, 'Gotcha': 3482, 'mystified': 3483, 'sliding': 3484, 'still': 3485, 'stolen': 3486, 'crane': 3487, 'Earth': 3488, 'crashed': 3489, 'pre': 3490, 'Vinegar': 3491, 'pausing': 3492, 'controller': 3493, 'quacked': 3494, 'Display': 3495, 'brightest': 3496, 'glows': 3497, 'littler': 3498, 'heel': 3499, 'hosted': 3500, 'talks': 3501, 'bee': 3502, 'demanding': 3503, 'blinks': 3504, 'buckling': 3505, 'rounds': 3506, 'hospitals': 3507, 'wheeted': 3508, 'weapon': 3509, 'cosier': 3510, 'personal': 3511, 'handstand': 3512, 'fourteen': 3513, 'solved': 3514, 'slithery': 3515, 'apologizer': 3516, 'aiming': 3517, 'bean': 3518, 'herself': 3519, 'prongs': 3520, 'Hope': 3521, 'concluded': 3522, 'eighth': 3523, 'scrub': 3524, 'vibrant': 3525, 'Jokes': 3526, 'penny': 3527, 'predicted': 3528, 'mopping': 3529, 'borrow': 3530, 'hitting': 3531, 'Exactly': 3532, 'daycare': 3533, 'Mel': 3534, 'Teddy': 3535, 'nowhere': 3536, 'rounded': 3537, 'Box': 3538, 'white': 3539, 'flippers': 3540, 'prayer': 3541, 'plug': 3542, 'trains': 3543, 'cleaners': 3544, 'cost': 3545, 'basis': 3546, 'twelfth': 3547, 'forgiveness': 3548, 'healing': 3549, 'turquoise': 3550, 'donation': 3551, 'parade': 3552, 'mango': 3553, 'chanting': 3554, 'Kevin': 3555, 'mama': 3556, 'Strike': 3557, 'Wish': 3558, 'stock': 3559, 'priority': 3560, 'dishwasher': 3561, 'passed': 3562, 'legged': 3563, 'cinnamon': 3564, 'tigers': 3565, 'Sailor': 3566, 'tight': 3567, 'tuck': 3568, 'Search': 3569, 'hits': 3570, 'riverbank': 3571, 'great': 3572, 'jabbed': 3573, 'Rory': 3574, 'dolphin': 3575, 'occasionally': 3576, 'enemy': 3577, 'okay': 3578, 'multi': 3579, 'forth': 3580, 'proving': 3581, 'armies': 3582, 'investigate': 3583, 'truths': 3584, 'starlit': 3585, 'compass': 3586, 'mistakes': 3587, 'sandals': 3588, 'Katrine': 3589, 'Boys': 3590, 'punished': 3591, 'crazy': 3592, 'fossil': 3593, 'preening': 3594, 'widening': 3595, 'hairs': 3596, 'poppies': 3597, 'empathy': 3598, 'attempt': 3599, 'tests': 3600, 'pretending': 3601, 'sooo': 3602, 'entering': 3603, 'Bopus': 3604, 'creaking': 3605, 'tantrum': 3606, 'weak': 3607, 'Spots': 3608, 'a': 3609, 'supplied': 3610, 'recommending': 3611, 'foggy': 3612, 'lessen': 3613, 'salads': 3614, 'Billie': 3615, 'Mover': 3616, 'balls': 3617, 'Kitty': 3618, 'Yummy': 3619, 'table': 3620, 'success': 3621, 'Grapefruit': 3622, 'sweaters': 3623, 'endless': 3624, 'dreamland': 3625, 'Girl': 3626, 'Bessy': 3627, 'victory': 3628, 'sipped': 3629, 'rhinoceros': 3630, 'dollies': 3631, 'point': 3632, 'taped': 3633, 'marble': 3634, 'curtains': 3635, 'simple': 3636, 'imperfections': 3637, 'pressing': 3638, 'prospect': 3639, 'reading': 3640, 'grasped': 3641, 'toasted': 3642, 'cheese': 3643, 'insides': 3644, 'businessman': 3645, 'nicest': 3646, 'tamed': 3647, 'drooped': 3648, 'while': 3649, 'sunflowers': 3650, 'Dinosaur': 3651, 'Swings': 3652, 'limes': 3653, 'kids': 3654, 'aids': 3655, 'Sounds': 3656, 'sneakers': 3657, 'glittering': 3658, 'Allowing': 3659, 'decorating': 3660, 'pathways': 3661, 'knowledgeable': 3662, 'mew': 3663, 'beforea': 3664, 'infected': 3665, 'couches': 3666, 'accessories': 3667, 'leap': 3668, 'Time': 3669, 'melons': 3670, 'playdough': 3671, 'spades': 3672, 'position': 3673, 'Whoosh': 3674, 'zipper': 3675, 'Honesty': 3676, 'Washing': 3677, 'for': 3678, 'morning': 3679, 'veggies': 3680, 'slithered': 3681, 'Foreshadowing': 3682, 'injury': 3683, 'nut': 3684, 'pretends': 3685, 'Poison': 3686, 'Paint': 3687, 'astounding': 3688, 'playmate': 3689, 'stones': 3690, 'licking': 3691, 'twos': 3692, 'magically': 3693, 'croaks': 3694, 'apparently': 3695, 'cells': 3696, 'outdoors': 3697, 'rainy': 3698, 'matters': 3699, 'treehouse': 3700, 'adorn': 3701, 'Gary': 3702, 'responding': 3703, 'calm': 3704, 'slows': 3705, 'chunk': 3706, 'impossible': 3707, 'earth': 3708, 'stone': 3709, 'snatched': 3710, 'Still': 3711, 'flown': 3712, 'drumming': 3713, 'Lizzies': 3714, 'shorts': 3715, 'floppy': 3716, 'angry': 3717, 'invitations': 3718, 'unbelievable': 3719, 'hay': 3720, 'Sir': 3721, 'double': 3722, 'Put': 3723, 'Anytime': 3724, 'Bri': 3725, 'tracks': 3726, 'flame': 3727, 'unnoticed': 3728, 'temperatures': 3729, 'Sale': 3730, 'actuallly': 3731, 'waits': 3732, 'snugly': 3733, 'stab': 3734, 'sunshine': 3735, 'roamed': 3736, 'dribbling': 3737, 'progressed': 3738, 'Finn': 3739, 'poof': 3740, 'swarm': 3741, 'Across': 3742, 'picture': 3743, 'trips': 3744, 'placed': 3745, 'dresser': 3746, 'dialed': 3747, 'trusts': 3748, 'cents': 3749, 'moms': 3750, 'risking': 3751, 'bared': 3752, 'paper': 3753, 'tasty': 3754, 'trumpeted': 3755, 'sink': 3756, 'business': 3757, 'height': 3758, 'spewing': 3759, 'weren': 3760, 'harvest': 3761, 'fascination': 3762, 'Tiger': 3763, 'use': 3764, 'round': 3765, 'Toto': 3766, 'future': 3767, 'explorers': 3768, 'untangled': 3769, 'Count': 3770, 'signalled': 3771, 'insists': 3772, 'Pine': 3773, 'decreased': 3774, 'honing': 3775, 'dusty': 3776, 'paused': 3777, 'desks': 3778, 'careless': 3779, 'stack': 3780, 'drag': 3781, 'bath': 3782, 'lifted': 3783, 'guidance': 3784, 'desk': 3785, 'circus': 3786, 'Tessa': 3787, 'ringing': 3788, 'cleaner': 3789, 'habits': 3790, 'stretching': 3791, 'actions': 3792, 'makers': 3793, 'couch': 3794, 'justo': 3795, 'Triangle': 3796, 'es': 3797, 'bats': 3798, 'threat': 3799, 'knocks': 3800, 'Snail': 3801, 'meters': 3802, 'sent': 3803, 'burned': 3804, 'Tidy': 3805, 'organised': 3806, 'marry': 3807, 'Jazz': 3808, 'chat': 3809, 'mops': 3810, 'sealed': 3811, 'motorcycles': 3812, 'snoozing': 3813, 'stunned': 3814, 'stares': 3815, 'arching': 3816, 'zagged': 3817, 'Imagined': 3818, 'bundled': 3819, 'gluing': 3820, 'attracts': 3821, 'Often': 3822, 'amazment': 3823, 'Stuart': 3824, 'Jenna': 3825, 'relic': 3826, 'shivering': 3827, 'independently': 3828, 'woolen': 3829, 'brothers': 3830, 'potatoes': 3831, 'leaping': 3832, 'captured': 3833, 'hunts': 3834, 'clothesline': 3835, 'Ava': 3836, 'copies': 3837, 'Moles': 3838, 'unsteady': 3839, 'dared': 3840, 'annd': 3841, 'Eagerly': 3842, 'plumber': 3843, 'Jam': 3844, 'plates': 3845, 'tentatively': 3846, 'path': 3847, 'skills': 3848, 'experiment': 3849, 'digged': 3850, 'Seek': 3851, 'skirt': 3852, 'birdhouse': 3853, 'heroes': 3854, 'bookcases': 3855, 'hum': 3856, 'whisk': 3857, 'rolled': 3858, 'murmuring': 3859, 'Stir': 3860, 'mouse': 3861, 'suffering': 3862, 'galloped': 3863, 'shrimps': 3864, 'fetched': 3865, 'Snakes': 3866, 'Explored': 3867, 'tummy': 3868, 'awkward': 3869, 'hovering': 3870, 'texting': 3871, 'Everyday': 3872, 'determined': 3873, 'grandchildren': 3874, 'acknowledged': 3875, 'scuffed': 3876, 'humbly': 3877, 'lunchbox': 3878, 'Yucky': 3879, 'smokestack': 3880, 'galore': 3881, 'measurement': 3882, 'others': 3883, 'thrilled': 3884, 'leak': 3885, 'Ria': 3886, 'Doorkeeper': 3887, 'Sport': 3888, 'hopes': 3889, 'throught': 3890, 'wriggle': 3891, 'lighter': 3892, 'pleaded': 3893, 'Road': 3894, 'churning': 3895, 'unloaded': 3896, 'aunt': 3897, 'prank': 3898, 'stamp': 3899, 'Asia': 3900, 'glancing': 3901, 'masts': 3902, 'slips': 3903, 'harbor': 3904, 'seahorse': 3905, 'N': 3906, 'passageways': 3907, 'turbo': 3908, 'Crash': 3909, 'foam': 3910, 'Mr': 3911, 'cracker': 3912, 'surrendered': 3913, 'Tucker': 3914, 'traveller': 3915, 'torrential': 3916, 'PLACE': 3917, 'Midnight': 3918, 'Chloe': 3919, 'disappears': 3920, 'shyly': 3921, 'comfort': 3922, 'serves': 3923, 'T': 3924, 'cheery': 3925, 'warrior': 3926, 'pouch': 3927, 'Dreams': 3928, 'enters': 3929, 'lookout': 3930, 'maybe': 3931, 'cabin': 3932, 'cheerfulness': 3933, 'gap': 3934, 'dash': 3935, 'peddled': 3936, 'yawn': 3937, 'encouraging': 3938, 'strings': 3939, 'sank': 3940, 'painting': 3941, 'played': 3942, 'beaten': 3943, 'mischievously': 3944, 'Lillys': 3945, 'natural': 3946, 'target': 3947, 'twitting': 3948, 'cheered': 3949, 'helpers': 3950, 'shapes': 3951, 'treadmill': 3952, 'respected': 3953, 'Hurry': 3954, 'vendor': 3955, 'teeter': 3956, 'younger': 3957, 'Digger': 3958, 'broomstick': 3959, 'seas': 3960, 'open': 3961, 'Shield': 3962, 'carousel': 3963, 'beaded': 3964, 'tickling': 3965, 'Johnny': 3966, 'drowned': 3967, 'Lazy': 3968, 'leashes': 3969, 'aroma': 3970, 'regretful': 3971, 'switch': 3972, 'transformed': 3973, 'identify': 3974, 'Turn': 3975, 'jumps': 3976, 'scowled': 3977, 'vines': 3978, 'mangoes': 3979, 'lent': 3980, 'Bald': 3981, 'Denise': 3982, 'gained': 3983, 'dreamed': 3984, 'snowball': 3985, 'suave': 3986, 'Super': 3987, 'absolute': 3988, 'moldy': 3989, 'packages': 3990, 'Prints': 3991, 'ambled': 3992, 'bedside': 3993, 'trample': 3994, 'precision': 3995, 'sharer': 3996, 'Food': 3997, 'nets': 3998, 'after': 3999, 'Fridge': 4000, 'tapping': 4001, 'Push': 4002, 'spat': 4003, 'reminder': 4004, 'interested': 4005, 'travelling': 4006, 'polished': 4007, 'Granddad': 4008, 'overcame': 4009, 'unfold': 4010, 'wade': 4011, 'Answer': 4012, 'stash': 4013, 'shaved': 4014, 'radio': 4015, 'Fragile': 4016, 'airplanes': 4017, 'sweep': 4018, 'fitting': 4019, 'sweetheart': 4020, 'unbreakable': 4021, 'risen': 4022, 'Radish': 4023, 'hopscotch': 4024, 'hers': 4025, 'motors': 4026, 'slumped': 4027, 'princesses': 4028, 'Surfing': 4029, 'flowerpot': 4030, 'reclined': 4031, 'fourth': 4032, 'pitching': 4033, 'Away': 4034, 'chess': 4035, 'royal': 4036, 'crowds': 4037, 'playdate': 4038, 'pity': 4039, 'shoebox': 4040, 'kit': 4041, 'cracking': 4042, 'Beans': 4043, 'guarded': 4044, 'box': 4045, 'awaited': 4046, 'Every': 4047, 'worry': 4048, 'vitamins': 4049, 'pizza': 4050, 'grain': 4051, 'rippling': 4052, 'binoculars': 4053, 'do': 4054, 'leaf': 4055, 'RRRROOOOAAAARRR': 4056, 'glitter': 4057, 'Buggy': 4058, 'Smell': 4059, 'pocket': 4060, 'Ted': 4061, 'we': 4062, 'patrolling': 4063, 'orange': 4064, 'lemonade': 4065, 'fairytale': 4066, 'soapy': 4067, 'reaches': 4068, 'ahold': 4069, 'matched': 4070, 'stormy': 4071, 'shot': 4072, 'murky': 4073, 'poured': 4074, 'massages': 4075, 'adjust': 4076, 'scurvy': 4077, 'warn': 4078, 'kneel': 4079, 'unstuck': 4080, 'ordered': 4081, 'trimmed': 4082, 'listening': 4083, 'momma': 4084, 'Cautiously': 4085, 'professionals': 4086, 'optimistic': 4087, 'sensor': 4088, 'loudly': 4089, 'They': 4090, 'mac': 4091, 'ounce': 4092, 'Accidents': 4093, 'homeless': 4094, 'bug': 4095, 'bristles': 4096, 'Alex': 4097, 'stalks': 4098, 'Ignoring': 4099, 'tailor': 4100, 'solstice': 4101, 'series': 4102, 'Breeze': 4103, 'storage': 4104, 'gifts': 4105, 'Finding': 4106, 'observant': 4107, 'presses': 4108, 'Spot': 4109, 'jaw': 4110, 'agents': 4111, 'witches': 4112, 'plums': 4113, 'Lying': 4114, 'directed': 4115, 'Polly': 4116, 'Panic': 4117, 'crannies': 4118, 'unpacking': 4119, 'paying': 4120, 'greatly': 4121, 'cheerful': 4122, 'windowsill': 4123, 'wagon': 4124, 'richer': 4125, 'valley': 4126, 'surfing': 4127, 'visitors': 4128, 'fort': 4129, 'JOHN': 4130, 'deep': 4131, 'smashing': 4132, 'Feeling': 4133, 'cows': 4134, 'visible': 4135, 'until': 4136, 'flavor': 4137, 'limped': 4138, 'rightful': 4139, 'rocky': 4140, 'swerve': 4141, 'robbed': 4142, 'deer': 4143, 'waking': 4144, 'arose': 4145, 'organizing': 4146, 'Janes': 4147, 'toothbrushes': 4148, 'kinds': 4149, 'Tape': 4150, 'thousands': 4151, 'Playing': 4152, 'took': 4153, 'leftovers': 4154, 'Prove': 4155, 'Melvin': 4156, 'carton': 4157, 'piped': 4158, 'giver': 4159, 'sweeties': 4160, 'Milla': 4161, 'unicorns': 4162, 'pail': 4163, 'wingbeats': 4164, 'though': 4165, 'dozens': 4166, 'Fear': 4167, 'X': 4168, 'strapped': 4169, 'specks': 4170, 'lift': 4171, 'sucked': 4172, 'Change': 4173, 'Kara': 4174, 'kitty': 4175, 'gruff': 4176, 'sprayed': 4177, 'attacked': 4178, 'hunched': 4179, 'goodberries': 4180, 'say': 4181, 'moments': 4182, 'castles': 4183, 'doll': 4184, 'Spring': 4185, 'tips': 4186, 'BEEEP': 4187, 'Goose': 4188, 'basement': 4189, 'Long': 4190, 'Buzz': 4191, 'undisciplined': 4192, 'elevator': 4193, 'proud': 4194, 'blessed': 4195, 'flashed': 4196, 'Master': 4197, 'tearing': 4198, 'strolling': 4199, 'slowed': 4200, 'blackboards': 4201, 'hanger': 4202, 'revealed': 4203, 'honoring': 4204, 'shouted': 4205, 'material': 4206, 'toys': 4207, 'statues': 4208, 'shelters': 4209, 'acknowledge': 4210, 'swipes': 4211, 'Liza': 4212, 'hooting': 4213, 'waded': 4214, 'Eve': 4215, 'scaring': 4216, 'Riri': 4217, 'Rani': 4218, 'piling': 4219, 'gas': 4220, 'lions': 4221, 'tuckered': 4222, 'hedgehog': 4223, 'perched': 4224, 'teachers': 4225, 'places': 4226, 'Sweetie': 4227, 'playmates': 4228, 'rudeness': 4229, 'show': 4230, 'helmet': 4231, 'canyons': 4232, 'minister': 4233, 'bzzz': 4234, 'duckie': 4235, 'cawed': 4236, 'bellowed': 4237, 'dime': 4238, 'wiggle': 4239, 'owed': 4240, 'bolt': 4241, 'alerted': 4242, 'Linda': 4243, 'trash': 4244, 'teamwork': 4245, 'Grrr': 4246, 'o': 4247, 'pajamas': 4248, 'garlands': 4249, 'posed': 4250, 'roaming': 4251, 'thread': 4252, 'conjured': 4253, 'Dee': 4254, 'wound': 4255, 'hall': 4256, 'lowered': 4257, 'tanks': 4258, 'zigzag': 4259, 'Rich': 4260, 'hull': 4261, 'banned': 4262, 'know': 4263, 'jellyfish': 4264, 'size': 4265, 'babbled': 4266, 'thus': 4267, 'passenger': 4268, 'estas': 4269, 'dinosaurs': 4270, 'mini': 4271, 'cobweb': 4272, 'launched': 4273, 'sister': 4274, 'entries': 4275, 'Pilots': 4276, 'raked': 4277, 'Pebby': 4278, 'raspberry': 4279, 'decoding': 4280, 'Bright': 4281, 'scampering': 4282, 'joke': 4283, 'mouthpiece': 4284, 'Toni': 4285, 'grandchild': 4286, 'foolishness': 4287, 'pens': 4288, 'keen': 4289, 'Furball': 4290, 'swirly': 4291, 'bold': 4292, 'fingernails': 4293, 'pink': 4294, 'dozed': 4295, 'Sandwiches': 4296, 'wanted': 4297, 'treasured': 4298, 'talkie': 4299, 'Small': 4300, 'haircuts': 4301, 'regained': 4302, 'decisions': 4303, 'shakes': 4304, 'features': 4305, 'Its': 4306, 'frames': 4307, 'screw': 4308, 'scene': 4309, 'Remembering': 4310, 'scrape': 4311, 'Beside': 4312, 'tissues': 4313, 'squirting': 4314, 'chickens': 4315, 'often': 4316, 'enthusiasm': 4317, 'enthralled': 4318, 'Exploring': 4319, 'Love': 4320, 'antlers': 4321, 'Bees': 4322, 'mummies': 4323, 'cobwebs': 4324, 'swoops': 4325, 'planets': 4326, 'Share': 4327, 'rattles': 4328, 'creek': 4329, 'Respect': 4330, 'He': 4331, 'stretches': 4332, 'Splash': 4333, 'nearest': 4334, 'unlock': 4335, 'Jimbo': 4336, 'recovered': 4337, 'cannon': 4338, 'crumble': 4339, 'grandmother': 4340, 'fainted': 4341, 'selfish': 4342, 'marrying': 4343, 'Life': 4344, 'dollars': 4345, 'Goldilocks': 4346, 'dishes': 4347, 'jump': 4348, 'indeed': 4349, 'raising': 4350, 'cages': 4351, 'yachts': 4352, 'confessed': 4353, 'Hesitating': 4354, 'pickles': 4355, 'Jennys': 4356, 'whimper': 4357, 'greet': 4358, 'topics': 4359, 'letter': 4360, 'obeying': 4361, 'pinned': 4362, 'Like': 4363, 'wires': 4364, 'mazes': 4365, 'cleverer': 4366, 'lead': 4367, 'sparklyjust': 4368, 'rubble': 4369, 'Weve': 4370, 'dangers': 4371, 'Rhyme': 4372, 'breadcrumbs': 4373, 'comes': 4374, 'saliva': 4375, 'librarians': 4376, 'wedge': 4377, 'stripes': 4378, 'Elephant': 4379, 'sketchbook': 4380, 'sing': 4381, 'Ginger': 4382, 'grocery': 4383, 'reasons': 4384, 'hid': 4385, 'woodcutter': 4386, 'vacations': 4387, 'watery': 4388, 'exercises': 4389, 'Although': 4390, 'bins': 4391, 'Pinky': 4392, 'bookcase': 4393, 'Afterward': 4394, 'squirmy': 4395, 'Roses': 4396, 'sections': 4397, 'knives': 4398, 'birthday': 4399, 'tomatoes': 4400, 'contentedly': 4401, 'wordless': 4402, 'tart': 4403, 'corals': 4404, 'Match': 4405, 'pony': 4406, 'fairy': 4407, 'karaoke': 4408, 'Mikey': 4409, 'rewards': 4410, 'joins': 4411, 'desires': 4412, 'tumbling': 4413, 'device': 4414, 'festive': 4415, 'forgetful': 4416, 'kindly': 4417, 'Fashion': 4418, 'easiest': 4419, 'scattering': 4420, 'tar': 4421, 'backseat': 4422, 'Rain': 4423, 'handfuls': 4424, 'ideas': 4425, 'Yield': 4426, 'parks': 4427, 'Quacky': 4428, 'daylight': 4429, 'Tommys': 4430, 'Rosy': 4431, 'germ': 4432, 'meanie': 4433, 'honey': 4434, 'pistols': 4435, 'wander': 4436, 'hurricanes': 4437, 'ferociously': 4438, 'squeal': 4439, 'terror': 4440, 'walks': 4441, 'Cupcakes': 4442, 'ninja': 4443, 'grumpy': 4444, 'aliens': 4445, 'possibilities': 4446, 'gonna': 4447, 'syrup': 4448, 'wrappers': 4449, 'twenty': 4450, 'inch': 4451, 'everybodys': 4452, 'things': 4453, 'whirred': 4454, 'jumped': 4455, 'those': 4456, 'speak': 4457, 'Jet': 4458, 'Stadium': 4459, 'waved': 4460, 'arguments': 4461, 'vanished': 4462, 'deserts': 4463, 'ignoring': 4464, 'diary': 4465, 'clingin': 4466, 'gods': 4467, 'Good': 4468, 'copier': 4469, 'Turkey': 4470, 'trunk': 4471, 'mouth': 4472, 'Wanna': 4473, 'fondness': 4474, 'Wherever': 4475, 'melodious': 4476, 'blond': 4477, 'natives': 4478, 'drown': 4479, 'thirty': 4480, 'Mona': 4481, 'encountered': 4482, 'waterfall': 4483, 'dived': 4484, 'rests': 4485, 'thatll': 4486, 'emoji': 4487, 'owner': 4488, 'breakdown': 4489, 'Holly': 4490, 'boy': 4491, 'basin': 4492, 'yawns': 4493, 'hobbled': 4494, 'screwdriver': 4495, 'weekend': 4496, 'Jasper': 4497, 'Vito': 4498, 'soup': 4499, 'owners': 4500, 'requirement': 4501, 'art': 4502, 'markings': 4503, 'monster': 4504, 'Golf': 4505, 'contracts': 4506, 'mustache': 4507, 'peril': 4508, 'capable': 4509, 'Aesop': 4510, 'YUMMY': 4511, 'encourage': 4512, 'wounded': 4513, 'IS': 4514, 'signs': 4515, 'expect': 4516, 'functioning': 4517, 'bled': 4518, 'bands': 4519, 'answering': 4520, 'advantage': 4521, 'gratefully': 4522, 'chocolaty': 4523, 'Eight': 4524, 'herfriends': 4525, 'Large': 4526, 'plight': 4527, 'pose': 4528, 'ballerina': 4529, 'rustle': 4530, 'insects': 4531, 'stalls': 4532, 'splat': 4533, 'eats': 4534, 'Butter': 4535, 'resting': 4536, 'Jungle': 4537, 'cubes': 4538, 'stopper': 4539, 'grow': 4540, 'surprised': 4541, 'loyalty': 4542, 'cribs': 4543, 'bare': 4544, 'dancer': 4545, 'swelled': 4546, 'juggled': 4547, 'garbarge': 4548, 'Dangerous': 4549, 'juiciest': 4550, 'Tara': 4551, 'Kittens': 4552, 'ripe': 4553, 'extravagance': 4554, 'investigating': 4555, 'participating': 4556, 'loving': 4557, 'chords': 4558, 'Freddie': 4559, 'reset': 4560, 'listener': 4561, 'Turbo': 4562, 'Man': 4563, 'sped': 4564, 'beverage': 4565, 'decide': 4566, 'melting': 4567, 'Katy': 4568, 'flickered': 4569, 'devised': 4570, 'rescue': 4571, 'foot': 4572, 'Spirit': 4573, 'whizz': 4574, 'adopt': 4575, 'ah': 4576, 'causing': 4577, 'timer': 4578, 'lump': 4579, 'ankles': 4580, 'Excitedly': 4581, 'tooth': 4582, 'behaves': 4583, 'communicating': 4584, 'lounged': 4585, 'Anything': 4586, 'skittish': 4587, 'cubs': 4588, 'cheerfully': 4589, 'sooner': 4590, 'DVDs': 4591, 'sprinkle': 4592, 'majesty': 4593, 'tangles': 4594, 'instantly': 4595, 'landed': 4596, 'Fred': 4597, 'obliged': 4598, 'tickles': 4599, 'breakfast': 4600, 'smelled': 4601, 'restless': 4602, 'tipped': 4603, 'Mira': 4604, 'scientists': 4605, 'Asuka': 4606, 'Kat': 4607, 'dense': 4608, 'mommy': 4609, 'moods': 4610, 'envelopes': 4611, 'This': 4612, 'parent': 4613, 'colouring': 4614, 'professor': 4615, 'rubbing': 4616, 'Kim': 4617, 'Barry': 4618, 'tock': 4619, 'For': 4620, 'Folding': 4621, 'necessarily': 4622, 'scrubbed': 4623, 'increasing': 4624, 'saddened': 4625, 'Zara': 4626, 'welcomed': 4627, 'teaching': 4628, 'support': 4629, 'Milly': 4630, 'clears': 4631, 'quit': 4632, 'sleigh': 4633, 'bedpost': 4634, 'vital': 4635, 'shady': 4636, 'operator': 4637, 'colors': 4638, 'gentlemen': 4639, 'overcome': 4640, 'now': 4641, 'classroom': 4642, 'soccer': 4643, 'active': 4644, 'ablaze': 4645, 'icy': 4646, 'elegant': 4647, 'far': 4648, 'woken': 4649, 'Cheese': 4650, 'SpiceLand': 4651, 'treasuring': 4652, 'infant': 4653, 'worm': 4654, 'contests': 4655, 'courtroom': 4656, 'lavender': 4657, 'feather': 4658, 'stealing': 4659, 'racers': 4660, 'competition': 4661, 'whirr': 4662, 'numbers': 4663, 'grandfather': 4664, 'Fly': 4665, 'tick': 4666, 'ruff': 4667, 'friendthe': 4668, 'adventuresome': 4669, 'bounced': 4670, 'beguiling': 4671, 'remembering': 4672, 'Stick': 4673, 'messages': 4674, 'essential': 4675, 'tidying': 4676, 'urging': 4677, 'peanut': 4678, 'rougher': 4679, 'over': 4680, 'swung': 4681, 'eagerness': 4682, 'pry': 4683, 'Simon': 4684, 'needs': 4685, 'Stupid': 4686, 'mostly': 4687, 'Jake': 4688, 'rob': 4689, 'eachother': 4690, 'jack': 4691, 'sees': 4692, '*': 4693, 'swore': 4694, 'Fae': 4695, 'outstretched': 4696, 'Grace': 4697, 'adopted': 4698, 'mix': 4699, 'illuminated': 4700, 'timidly': 4701, 'Try': 4702, 'littlest': 4703, 'mateys': 4704, 'adventuring': 4705, 'awoke': 4706, 'Boppity': 4707, 'Jilly': 4708, 'toucans': 4709, 'Or': 4710, 'poofy': 4711, 'shows': 4712, 'pleeease': 4713, 'fascinated': 4714, 'people': 4715, 'demanded': 4716, 'shaving': 4717, 'factory': 4718, 'Mrs': 4719, 'deeds': 4720, 'Much': 4721, 'loses': 4722, 'loudest': 4723, 'nine': 4724, 'Mountains': 4725, 'unique': 4726, 'Fields': 4727, 'mile': 4728, 'cycled': 4729, 'charming': 4730, 'Melt': 4731, 'savoring': 4732, 'peeled': 4733, 'Yum': 4734, 'Bon': 4735, 'roarer': 4736, 'chance': 4737, 'frowned': 4738, 'underwater': 4739, 'agrees': 4740, 'server': 4741, 'exciting': 4742, 'Tiny': 4743, 'pops': 4744, 'ventured': 4745, 'squatted': 4746, 'Wheee': 4747, 'shovels': 4748, 'damaging': 4749, 'birdie': 4750, 'Artist': 4751, 'dashed': 4752, 'Had': 4753, 'gleaming': 4754, 'gang': 4755, 'frolicking': 4756, 'modesty': 4757, 'toasting': 4758, 'whereas': 4759, 'facing': 4760, 'glistened': 4761, 'intervention': 4762, 'cloak': 4763, 'feeding': 4764, 'pro': 4765, 'Parrots': 4766, 'deal': 4767, 'Madeline': 4768, 'running': 4769, 'meaningful': 4770, 'gardener': 4771, 'join': 4772, 'exploded': 4773, 'blank': 4774, 'clearing': 4775, 'fact': 4776, 'inspected': 4777, 'exact': 4778, 'positions': 4779, 'diet': 4780, 'Now': 4781, 'pilot': 4782, 'tamer': 4783, 'rested': 4784, 'scepter': 4785, 'tire': 4786, 'Tester': 4787, 'run': 4788, 'hesitating': 4789, 'repeating': 4790, 'angels': 4791, 'excite': 4792, 'appear': 4793, 'Number': 4794, 'reflection': 4795, 'Shelly': 4796, 'shaking': 4797, 'opinion': 4798, 'avoided': 4799, 'Oui': 4800, 'swished': 4801, 'machines': 4802, 'smiled': 4803, 'Easy': 4804, 'Mark': 4805, 'yarr': 4806, 'Painting': 4807, 'Stella': 4808, 'busy': 4809, 'doorbell': 4810, 'thing': 4811, 'fondly': 4812, 'meatballs': 4813, 'sprint': 4814, 'tutor': 4815, 'dodge': 4816, 'Other': 4817, 'championship': 4818, 'feathery': 4819, 'finest': 4820, 'doing': 4821, 'price': 4822, 'Leah': 4823, 'Showing': 4824, 'Playfully': 4825, 'bonfire': 4826, 'nestled': 4827, 'cotton': 4828, 'Abbie': 4829, 'approach': 4830, 'Making': 4831, 'Woolly': 4832, 'exploration': 4833, 'goodnight': 4834, 'leaks': 4835, 'lamp': 4836, 'wading': 4837, 'bundles': 4838, 'quarreling': 4839, 'date': 4840, 'creaked': 4841, 'earache': 4842, 'tinge': 4843, 'Acting': 4844, 'salty': 4845, 'Yvonne': 4846, 'overcoming': 4847, 'hole': 4848, 'heyo': 4849, 'surrounding': 4850, 'Bewildered': 4851, 'barbershop': 4852, 'Test': 4853, 'spoonful': 4854, 'spilt': 4855, 'Johny': 4856, 'woodpecker': 4857, 'Raccoon': 4858, 'barely': 4859, 'nooks': 4860, 'gobbled': 4861, 'Day': 4862, 'Peep': 4863, 'machinery': 4864, 'apps': 4865, 'Shannon': 4866, 'Cradle': 4867, 'helps': 4868, 'form': 4869, 'How': 4870, 'sausage': 4871, 'S': 4872, 'earthquakes': 4873, 'Happyland': 4874, 'chill': 4875, 'granddad': 4876, 'Ta': 4877, 'swoop': 4878, 'intelligent': 4879, 'paler': 4880, 'pricked': 4881, 'requested': 4882, 'Monica': 4883, 'hard': 4884, 'plugs': 4885, 'slice': 4886, 'mountains': 4887, 'limits': 4888, 'wear': 4889, 'puffy': 4890, 'pounds': 4891, 'dashboard': 4892, 'valleys': 4893, 'examine': 4894, 'bubbles': 4895, 'thirstier': 4896, 'sometimes': 4897, 'whitecaps': 4898, 'shh': 4899, 'tightest': 4900, 'stopping': 4901, 'gems': 4902, 'thunder': 4903, 'mustn': 4904, 'attaches': 4905, 'buzzy': 4906, 'swarmed': 4907, 'ruined': 4908, 'soft': 4909, 'recital': 4910, 'behaved': 4911, 'highly': 4912, 'Bing': 4913, 'Tia': 4914, 'runways': 4915, 'activities': 4916, 'stain': 4917, 'tidy': 4918, 'unload': 4919, 'dinnertime': 4920, 'closed': 4921, 'reason': 4922, 'Mueca': 4923, 'corridors': 4924, 'forced': 4925, 'railroad': 4926, 'stuttered': 4927, 'roofs': 4928, 'threats': 4929, 'scanned': 4930, 'Ducks': 4931, 'sleeps': 4932, 'Determined': 4933, 'Penelope': 4934, 'glad': 4935, 'images': 4936, 'clumsy': 4937, 'thrown': 4938, 'Enter': 4939, 'kindergarten': 4940, 'Thespin': 4941, 'coolness': 4942, 'Heat': 4943, 'home': 4944, 'Boo': 4945, 'filthy': 4946, 'Fido': 4947, 'Abracadabra': 4948, 'flavoring': 4949, 'whatever': 4950, 'oldest': 4951, 'wrists': 4952, 'concentration': 4953, 'waver': 4954, 'adversity': 4955, 'shaker': 4956, 'slope': 4957, 'guys': 4958, 'cautioned': 4959, 'Wolf': 4960, 'kick': 4961, 'wrinkly': 4962, 'Bo': 4963, 'microphone': 4964, 'howling': 4965, 'welcoming': 4966, 'differences': 4967, 'mitten': 4968, 'mention': 4969, 'minty': 4970, 'ripen': 4971, 'cowboys': 4972, 'tall': 4973, 'niece': 4974, 'ounces': 4975, 'properties': 4976, 'Jimmys': 4977, 'cold': 4978, 'chased': 4979, 'chambers': 4980, 'oink': 4981, 'trails': 4982, 'appreciated': 4983, 'collars': 4984, 'sprouted': 4985, 'mutts': 4986, 'shares': 4987, 'Confused': 4988, 'Cari': 4989, 'racks': 4990, 'locals': 4991, 'devastating': 4992, 'survived': 4993, 'unfamiliar': 4994, 'velvet': 4995, 'worst': 4996, 'plus': 4997, 'Track': 4998, 'sicker': 4999, 'neighbor': 5000, 'Luther': 5001, 'mooooon': 5002, 'splish': 5003, 'cable': 5004, 'Granddaughter': 5005, 'spun': 5006, 'nineteen': 5007, 'gumball': 5008, 'answers': 5009, 'Give': 5010, 'ribbon': 5011, 'rainbows': 5012, 'destruction': 5013, 'angle': 5014, 'electricity': 5015, 'beating': 5016, 'Wendy': 5017, 'tasted': 5018, 'skipped': 5019, 'twists': 5020, 'Rescuer': 5021, 'wellies': 5022, 'Mild': 5023, 'drums': 5024, 'cove': 5025, 'recover': 5026, 'Tim': 5027, 'bags': 5028, 'docked': 5029, 'item': 5030, 'research': 5031, 'Delivery': 5032, 'choke': 5033, 'insect': 5034, 'crying': 5035, 'crush': 5036, 'obstacles': 5037, 'screamed': 5038, 'visit': 5039, 'Willie': 5040, 'practiced': 5041, 'lava': 5042, 'ends': 5043, 'clutched': 5044, 'New': 5045, 'pulpit': 5046, 'confusing': 5047, 'knob': 5048, 'queens': 5049, 'abandon': 5050, 'taking': 5051, 'churns': 5052, 'Wild': 5053, 'excuse': 5054, 'whichever': 5055, 'stairways': 5056, 'variety': 5057, 'steered': 5058, 'scooters': 5059, 'tangled': 5060, 'fuss': 5061, 'magician': 5062, 'Towards': 5063, 'fell': 5064, ',': 5065, 'stadium': 5066, 'icicle': 5067, 'contains': 5068, 'clicks': 5069, 'magnifying': 5070, 'jokes': 5071, 'thankfully': 5072, 'zzzz': 5073, 'sheets': 5074, 'cloudy': 5075, 'shirt': 5076, 'closest': 5077, 'batteries': 5078, 'discuss': 5079, 'Jacky': 5080, 'poisoned': 5081, 'recognised': 5082, 'Sleepy': 5083, 'candies': 5084, 'safekeeping': 5085, 'Hay': 5086, 'stomping': 5087, 'scratchy': 5088, 'hopping': 5089, 'route': 5090, 'quartz': 5091, 'overestimate': 5092, 'golfer': 5093, 'motionless': 5094, 'Sofishticated': 5095, 'yeah': 5096, 'longest': 5097, 'perked': 5098, 'increased': 5099, 'scarier': 5100, 'moaned': 5101, 'accidently': 5102, 'fountain': 5103, 'forgive': 5104, 'bedroom': 5105, 'Rocky': 5106, 'Wheeee': 5107, 'mints': 5108, 'creating': 5109, 'bleated': 5110, 'passport': 5111, 'tie': 5112, 'thank': 5113, 'purples': 5114, 'frantically': 5115, 'earned': 5116, 'medal': 5117, 'spouted': 5118, 'totally': 5119, 'craziness': 5120, 'endure': 5121, 'blobs': 5122, 'sleeves': 5123, 'Riley': 5124, 'thoughtfully': 5125, 'trail': 5126, 'Bubbles': 5127, 'pow': 5128, 'striped': 5129, 'Missile': 5130, 'Turtle': 5131, 'Taxi': 5132, 'Word': 5133, 'manager': 5134, 'mat': 5135, 'glaciers': 5136, 'disgusted': 5137, 'considerate': 5138, 'among': 5139, 'knows': 5140, 'Shapey': 5141, 'Sparkle': 5142, 'Nah': 5143, 'Tiana': 5144, 'super': 5145, 'In': 5146, 'Helen': 5147, 'hesitant': 5148, 'if': 5149, 'situation': 5150, 'resisted': 5151, 'identical': 5152, 'doily': 5153, 'walking': 5154, 'boldness': 5155, 'Emmas': 5156, 'katrine': 5157, 'experience': 5158, 'yield': 5159, 'slimy': 5160, 'Sue': 5161, 'went': 5162, 'believes': 5163, 'length': 5164, 'Record': 5165, 'drummers': 5166, 'sleepyness': 5167, 'heeded': 5168, 'Peppers': 5169, 'newly': 5170, 'terrible': 5171, 'Gracie': 5172, 'values': 5173, 'bothering': 5174, 'Mollie': 5175, 'helped': 5176, 'options': 5177, 'coils': 5178, 'fireproof': 5179, 'broccoli': 5180, 'bedspread': 5181, 'god': 5182, 'treasue': 5183, 'lightening': 5184, 'source': 5185, 'putty': 5186, 'spend': 5187, 'sharing': 5188, 'news': 5189, 'pleasant': 5190, 'Larry': 5191, 'misbehaved': 5192, 'Winnie': 5193, 'carshiny': 5194, 'Butterfly': 5195, 'Jacob': 5196, 'quickened': 5197, 'accurate': 5198, 'Luckly': 5199, 'Chocolate': 5200, 'diapers': 5201, 'Mouse': 5202, 'French': 5203, 'Onions': 5204, 'Jason': 5205, 'her': 5206, 'lakes': 5207, 'Porcupine': 5208, 'classwork': 5209, 'breaks': 5210, 'seatbelts': 5211, 'figures': 5212, 'exposed': 5213, 'left': 5214, 'thundered': 5215, 'distant': 5216, 'vendors': 5217, 'scoops': 5218, 'descended': 5219, 'valve': 5220, 'bossy': 5221, 'pointed': 5222, 'Humans': 5223, 'missile': 5224, 'vows': 5225, 'temptation': 5226, 'wildflowers': 5227, 'stuffing': 5228, 'anger': 5229, 'sweater': 5230, 'Sonya': 5231, 'compartment': 5232, 'quarrelled': 5233, 'Farther': 5234, 'appeared': 5235, 'caution': 5236, 'tangerine': 5237, 'Otherwise': 5238, 'Susy': 5239, 'shrubs': 5240, 'whip': 5241, 'Zoe': 5242, 'modern': 5243, 'remote': 5244, 'dipping': 5245, 'reveals': 5246, 'behind': 5247, 'wherever': 5248, 'comforts': 5249, 'task': 5250, 'coloring': 5251, 'fashionista': 5252, 'grumbled': 5253, 'Yee': 5254, 'crack': 5255, 'keyhole': 5256, 'bird': 5257, 'Shop': 5258, 'Georgia': 5259, 'Better': 5260, 'zoom': 5261, 'Cats': 5262, 'vest': 5263, 'Ladybug': 5264, 'early': 5265, 'fashioned': 5266, 'stricter': 5267, 'Driver': 5268, 'burns': 5269, 'unkind': 5270, 'clam': 5271, 'horror': 5272, 'troubles': 5273, 'CANNOT': 5274, 'useful': 5275, 'finder': 5276, 'dunes': 5277, 'exercise': 5278, 'vests': 5279, 'forming': 5280, 'capture': 5281, 'prettiest': 5282, 'breathes': 5283, 'him': 5284, 'biggest': 5285, 'farming': 5286, 'fluffiest': 5287, 'Slap': 5288, 'interesting': 5289, 'internet': 5290, 'Nan': 5291, 'silences': 5292, 'concentrate': 5293, 't': 5294, 'Hoo': 5295, 'rakes': 5296, 'shoelaces': 5297, 'lendings': 5298, 'glider': 5299, 'hourglass': 5300, 'van': 5301, 'Waste': 5302, 'Rachel': 5303, 'selling': 5304, 'self': 5305, 'knowing': 5306, 'successful': 5307, 'ripping': 5308, 'yucky': 5309, 'huddle': 5310, 'Giddy': 5311, 'daisy': 5312, 'isnt': 5313, 'zipping': 5314, 'livingroom': 5315, 'handful': 5316, 'nests': 5317, 'Slide': 5318, 'Bertha': 5319, 'Froggy': 5320, 'candy': 5321, 'walnuts': 5322, 'prickly': 5323, 'nectar': 5324, 'excuses': 5325, 'sue': 5326, 'paths': 5327, 'ride': 5328, 'croaked': 5329, 'dying': 5330, 'sorrow': 5331, 'held': 5332, 'beak': 5333, 'Becky': 5334, 'ties': 5335, 'Ladders': 5336, 'climbers': 5337, 'If': 5338, 'Meat': 5339, 'Yayyyy': 5340, 'brim': 5341, 'hill': 5342, 'buffing': 5343, 'Flip': 5344, 'chopsticks': 5345, 'collections': 5346, 'separating': 5347, 'porcupine': 5348, 'mom': 5349, 'squeeze': 5350, 'piled': 5351, 'Asking': 5352, 'latethey': 5353, 'Rhinos': 5354, 'bruise': 5355, 'scored': 5356, 'gracefulness': 5357, 'Daisys': 5358, 'pepperoni': 5359, 'Hawaii': 5360, 'Fisherman': 5361, 'Carla': 5362, 'originality': 5363, 'grater': 5364, 'hearty': 5365, 'writes': 5366, 'boards': 5367, 'zooms': 5368, 'Fearful': 5369, 'bossed': 5370, 'Biggs': 5371, 'technique': 5372, 'Wednesdays': 5373, 'bobbed': 5374, 'Pastels': 5375, 'grinned': 5376, 'passes': 5377, 'flamingo': 5378, 'hopper': 5379, 'shhh': 5380, 'always': 5381, 'neck': 5382, 'mouthful': 5383, 'bellowing': 5384, 'Startled': 5385, 'powder': 5386, 'whooping': 5387, 'Roger': 5388, 'fray': 5389, 'newspapers': 5390, 'Thoughtful': 5391, 'Bobby': 5392, 'Izzy': 5393, 'marshmallows': 5394, 'inspecting': 5395, 'fishies': 5396, 'somebody': 5397, 'dress': 5398, 'tattered': 5399, 'sloped': 5400, 'CD': 5401, 'routine': 5402, 'helping': 5403, 'sharper': 5404, 'mum': 5405, 'several': 5406, 'outcomes': 5407, 'mmean': 5408, 'cap': 5409, 'snip': 5410, 'neighborhood': 5411, 'prettier': 5412, 'lack': 5413, 'troublesome': 5414, 'bless': 5415, 'stringing': 5416, 'beetles': 5417, 'silliest': 5418, 'Factory': 5419, 'Trip': 5420, 'unzip': 5421, 'putting': 5422, 'pawed': 5423, 'spoilt': 5424, 'Tents': 5425, 'no': 5426, 'purple': 5427, 'flowing': 5428, 'acting': 5429, 'Xhe': 5430, 'quality': 5431, 'Itll': 5432, 'efficient': 5433, 'threads': 5434, 'Janey': 5435, 'lullaby': 5436, 'wandering': 5437, 'Bizzy': 5438, 'movies': 5439, 'yummies': 5440, 'embarrassment': 5441, 'Off': 5442, 'unison': 5443, 'scooter': 5444, 'jumper': 5445, 'thumping': 5446, 'dolls': 5447, 'mamas': 5448, 'weeping': 5449, 'diggin': 5450, 'am': 5451, 'wands': 5452, 'cocoon': 5453, 'croaking': 5454, 'clutching': 5455, 'fetch': 5456, 'clock': 5457, 'sheltered': 5458, 'assistance': 5459, 'Ah': 5460, 'longed': 5461, 'bulbs': 5462, 'scoured': 5463, 'deliver': 5464, 'hugs': 5465, 'Ruff': 5466, 'scampered': 5467, 'Grammy': 5468, 'believed': 5469, 'night': 5470, 'dads': 5471, 'pushy': 5472, 'twinkling': 5473, 'Beneath': 5474, 'smoothie': 5475, 'blackboard': 5476, 'Maya': 5477, 'gasp': 5478, 'ball': 5479, 'strive': 5480, 'poinsettia': 5481, 'respond': 5482, 'fishy': 5483, 'refueling': 5484, 'resourceful': 5485, 'oasis': 5486, 'jailer': 5487, 'octopus': 5488, 'Cheap': 5489, 'hope': 5490, 'Skulls': 5491, 'Martin': 5492, 'CAN': 5493, 'Just': 5494, 'quacking': 5495, 'dribble': 5496, 'Sharing': 5497, 'Peanut': 5498, 'bodies': 5499, 'icecream': 5500, 'swaying': 5501, 'Nails': 5502, 'villager': 5503, 'Hermione': 5504, 'craters': 5505, 'clubs': 5506, 'cuter': 5507, 'guests': 5508, 'pencils': 5509, 'tweets': 5510, 'replay': 5511, 'ie': 5512, 'shy': 5513, 'knife': 5514, 'poop': 5515, 'someplace': 5516, 'buddies': 5517, 'Ill': 5518, 'nations': 5519, 'chug': 5520, 'Play': 5521, 'Liz': 5522, 'host': 5523, 'fll': 5524, 'Keeping': 5525, 'bewildered': 5526, 'wintertime': 5527, 'Mo': 5528, 'jangling': 5529, 'Donna': 5530, 'player': 5531, 'swing': 5532, 'automatically': 5533, 'instruments': 5534, 'fived': 5535, 'identity': 5536, 'towered': 5537, 'playing': 5538, 'giant': 5539, 'buzzes': 5540, 'background': 5541, 'Eager': 5542, 'shrugs': 5543, 'swamp': 5544, 'Trista': 5545, 'scared': 5546, 'imagination': 5547, 'enticing': 5548, 'store': 5549, 'Reading': 5550, 'dummy': 5551, 'wart': 5552, 'new': 5553, 'photos': 5554, 'praising': 5555, 'prints': 5556, 'greeted': 5557, 'replace': 5558, 'realising': 5559, 'snug': 5560, 'Josh': 5561, 'Puzzles': 5562, 'feat': 5563, 'moan': 5564, 'happiest': 5565, 'campfire': 5566, 'tightness': 5567, 'bag': 5568, 'last': 5569, 'Biggy': 5570, 'teasing': 5571, 'Until': 5572, 'troughs': 5573, 'crystals': 5574, 'Language': 5575, 'yelled': 5576, 'Elise': 5577, 'waving': 5578, 'delivered': 5579, 'rush': 5580, 'It': 5581, 'ground': 5582, 'arranged': 5583, 'Stevie': 5584, 'month': 5585, 'gravity': 5586, 'much': 5587, 'heaven': 5588, 'customers': 5589, 'Olly': 5590, 'perseverance': 5591, 'Santa': 5592, 'guards': 5593, 'inhabitants': 5594, 'inserted': 5595, 'Randy': 5596, 'aged': 5597, 'sacking': 5598, 'blasted': 5599, 'stumbles': 5600, 'final': 5601, 'joyfully': 5602, 'Voltage': 5603, 'acted': 5604, 'Bap': 5605, 'paintbrush': 5606, 'squished': 5607, 'wire': 5608, 'patterns': 5609, 'jobs': 5610, 'plane': 5611, 'hearts': 5612, 'relented': 5613, 'lemons': 5614, 'vases': 5615, 'sat': 5616, 'fathers': 5617, 'defeated': 5618, 'sounded': 5619, 'tragic': 5620, 'Hurray': 5621, 'Paige': 5622, 'confidently': 5623, 'Fruit': 5624, 'cupcakes': 5625, 'carving': 5626, 'replied': 5627, 'convinced': 5628, 'snowing': 5629, 'commotion': 5630, 'warning': 5631, 'hatched': 5632, 'dandelions': 5633, 'bouncy': 5634, 'connecting': 5635, 'stopped': 5636, 'Rudy': 5637, 'theres': 5638, 'seated': 5639, 'Wasn': 5640, 'senses': 5641, 'head': 5642, 'must': 5643, 'reckless': 5644, 'flood': 5645, 'faith': 5646, 'pin': 5647, 'master': 5648, 'roads': 5649, 'scratching': 5650, 'nightmare': 5651, 'Bippity': 5652, 'yacht': 5653, 'possession': 5654, 'Baaaaa': 5655, 'load': 5656, 'jogging': 5657, 'L': 5658, 'ashtray': 5659, 'practicing': 5660, 'daily': 5661, 'worker': 5662, 'hisses': 5663, 'altitude': 5664, 'website': 5665, 'Id': 5666, 'savannah': 5667, 'short': 5668, 'rockets': 5669, 'bubbled': 5670, 'strongly': 5671, 'strain': 5672, 'unable': 5673, 'axe': 5674, 'fertilizer': 5675, 'advise': 5676, 'thundering': 5677, 'smoke': 5678, 'wondered': 5679, 'struggling': 5680, 'crossing': 5681, 'bases': 5682, 'soften': 5683, 'pranced': 5684, 'want': 5685, 'cargo': 5686, 'children': 5687, 'glove': 5688, 'cowered': 5689, 'messes': 5690, 'Lend': 5691, 'Colors': 5692, 'stalk': 5693, 'sharks': 5694, 'reminded': 5695, 'club': 5696, 'tradition': 5697, 'deliciousness': 5698, 'noticed': 5699, 'stick': 5700, 'vehicle': 5701, 'Again': 5702, 'laze': 5703, 'tighten': 5704, 'flaps': 5705, 'Whoa': 5706, 'electronic': 5707, 'BOOM': 5708, 'care': 5709, 'hunting': 5710, 'horrible': 5711, 'jokester': 5712, 'everyone': 5713, 'fidgeting': 5714, 'lanterns': 5715, 'Clap': 5716, 'bites': 5717, 'smoothest': 5718, 'Nemo': 5719, 'crayons': 5720, 'swans': 5721, 'Practice': 5722, 'intricate': 5723, 'boatman': 5724, 'daydream': 5725, 'fleas': 5726, 'Setup': 5727, 'whirly': 5728, 'writers': 5729, 'pears': 5730, 'shift': 5731, 'applaud': 5732, 'joyful': 5733, 'wrapper': 5734, 'confidence': 5735, 'golden': 5736, 'muscles': 5737, 'itches': 5738, 'melts': 5739, 'Maker': 5740, 'gator': 5741, 'desserts': 5742, 'based': 5743, 'songbird': 5744, 'recorders': 5745, 'detectives': 5746, 'from': 5747, 'grabbing': 5748, 'declaration': 5749, 'nod': 5750, 'figure': 5751, 'tuft': 5752, 'revealing': 5753, 'Knowing': 5754, 'improve': 5755, 'shared': 5756, 'got': 5757, 'brushed': 5758, 'disbelief': 5759, 'sensitive': 5760, 'profusely': 5761, 'gone': 5762, 'grassy': 5763, 'attendant': 5764, 'staying': 5765, 'humpty': 5766, 'special': 5767, 'puffed': 5768, 'of': 5769, 'pleasure': 5770, 'to': 5771, 'raft': 5772, 'True': 5773, 'THE': 5774, 'roasted': 5775, 'supervising': 5776, 'grandson': 5777, 'Gray': 5778, 'afraid': 5779, 'tripped': 5780, 'fisherment': 5781, 'reversed': 5782, 'example': 5783, 'middle': 5784, 'teary': 5785, 'prided': 5786, 'treasures': 5787, 'potions': 5788, 'wonderfully': 5789, 'Laughter': 5790, 'dirtiness': 5791, 'Peppa': 5792, 'backyard': 5793, 'spread': 5794, 'interests': 5795, 'wrist': 5796, 'Buttons': 5797, 'enrich': 5798, 'remove': 5799, 'tantrums': 5800, 'friendly': 5801, 'pull': 5802, 'feeds': 5803, 'Something': 5804, 'milled': 5805, 'Did': 5806, 'poses': 5807, 'dodged': 5808, 'sprang': 5809, 'flicked': 5810, 'flyers': 5811, 'swiped': 5812, 'Nana': 5813, 'acrobats': 5814, 'moaning': 5815, 'lane': 5816, 'shave': 5817, 'rumbly': 5818, 'Everywhere': 5819, 'Best': 5820, 'lush': 5821, 'medicines': 5822, 'Falling': 5823, 'jars': 5824, 'Haha': 5825, 'laws': 5826, 'slept': 5827, 'Left': 5828, 'Teach': 5829, 'cords': 5830, 'autumn': 5831, 'molding': 5832, 'blade': 5833, 'clapped': 5834, 'vanish': 5835, 'sea': 5836, 'juices': 5837, 'teaspoons': 5838, 'zags': 5839, 'connect': 5840, 'granddaughter': 5841, 'lobby': 5842, 'fillings': 5843, 'beans': 5844, 'diving': 5845, 'Choose': 5846, 'guest': 5847, 'loops': 5848, 'Party': 5849, 'alligator': 5850, 'bored': 5851, 'beware': 5852, 'kingdoms': 5853, 'Phone': 5854, 'slowly': 5855, 'Sugar': 5856, 'odd': 5857, 'undone': 5858, 'reinforced': 5859, 'treat': 5860, 'softened': 5861, 'peep': 5862, 'Unlucky': 5863, 'puffing': 5864, 'Bernie': 5865, 'Olivia': 5866, 'steps': 5867, 'sulk': 5868, 'Owl': 5869, 'finding': 5870, 'suitable': 5871, 'pesky': 5872, 'wore': 5873, 'Bun': 5874, 'motion': 5875, 'wisdom': 5876, 'claims': 5877, 'spirals': 5878, 'searched': 5879, 'decorated': 5880, 'pearl': 5881, 'surprises': 5882, 'strike': 5883, 'flower': 5884, 'rollercoaster': 5885, 'D': 5886, 'Adele': 5887, 'nature': 5888, 'environment': 5889, 'napping': 5890, 'Pammy': 5891, 'Wilbur': 5892, 'Laure': 5893, 'shining': 5894, 'breath': 5895, 'thanking': 5896, 'into': 5897, 'leaves': 5898, 'leaned': 5899, 'refreshment': 5900, 'cooed': 5901, 'cafe': 5902, 'check': 5903, 'recognized': 5904, 'Furious': 5905, 'fame': 5906, 'lied': 5907, 'chin': 5908, 'Joey': 5909, 'drawer': 5910, 'calmly': 5911, 'Oliver': 5912, 'Lulu': 5913, 'Doggy': 5914, 'teacup': 5915, 'steady': 5916, 'pushed': 5917, 'junkyard': 5918, 'Brad': 5919, 'reds': 5920, 'fills': 5921, 'hamster': 5922, 'stunning': 5923, 'Highness': 5924, 'Rainbow': 5925, 'noses': 5926, 'scrambled': 5927, 'bunnies': 5928, 'Her': 5929, 'filled': 5930, 'Pole': 5931, 'There': 5932, 'confusion': 5933, 'Sues': 5934, 'thump': 5935, 'Amys': 5936, 'dearest': 5937, 'Biba': 5938, 'plume': 5939, 'stormed': 5940, 'eleven': 5941, 'Minty': 5942, 'grimy': 5943, 'Blood': 5944, 'Beep': 5945, 'mindful': 5946, 'CHOO': 5947, 'Marry': 5948, 'poles': 5949, 'raindrops': 5950, 'frozen': 5951, 'velvety': 5952, 'puddle': 5953, 'hiss': 5954, 'farther': 5955, 'moats': 5956, 'barking': 5957, 'peddle': 5958, 'Pack': 5959, 'Pizza': 5960, 'nurturing': 5961, 'Growing': 5962, 'hairbrush': 5963, 'rosemary': 5964, 'persuaded': 5965, 'guacamole': 5966, 'felt': 5967, 'generous': 5968, 'Were': 5969, 'frees': 5970, 'kissed': 5971, 'ketchup': 5972, 'gooey': 5973, 'grease': 5974, 'stepping': 5975, 'lollipops': 5976, 'Print': 5977, 'couldn': 5978, 'tray': 5979, 'Moral': 5980, 'Hot': 5981, 'manners': 5982, 'butterflys': 5983, 'ready': 5984, 'spoke': 5985, 'boundaries': 5986, 'rips': 5987, 'lunchtime': 5988, 'reached': 5989, 'dishonest': 5990, 'bricks': 5991, 'piggy': 5992, 'baffled': 5993, 'melt': 5994, 'provides': 5995, 'Theres': 5996, 'perfectly': 5997, 'cherished': 5998, 'nesting': 5999, 'Emily': 6000, 'rains': 6001, 'gratitude': 6002, 'sadness': 6003, 'balanced': 6004, 'settling': 6005, 'made': 6006, 'charging': 6007, 'Hearing': 6008, 'glittery': 6009, 'AND': 6010, 'caressing': 6011, 'thunderstorm': 6012, 'collecting': 6013, 'And': 6014, 'trim': 6015, 'course': 6016, 'plodded': 6017, 'Throw': 6018, 'stars': 6019, 'scooping': 6020, 'seventh': 6021, 'weeks': 6022, 'unclean': 6023, 'Tonight': 6024, 'wasted': 6025, 'intelligence': 6026, 'Cave': 6027, 'curled': 6028, 'Cant': 6029, 'Davey': 6030, 'runny': 6031, 'containers': 6032, 'forgives': 6033, 'acts': 6034, 'Incredible': 6035, 'Eeeew': 6036, 'THIS': 6037, 'disappointment': 6038, 'Lime': 6039, 'warmth': 6040, 'filter': 6041, 'snowmen': 6042, 'Down': 6043, 'company': 6044, 'times': 6045, 'goin': 6046, 'paintbrushes': 6047, 'hate': 6048, 'slap': 6049, 'Mail': 6050, 'sniffed': 6051, 'fur': 6052, 'Have': 6053, 'down': 6054, 'astonished': 6055, 'mailing': 6056, 'himself': 6057, 'Rub': 6058, 'Doctors': 6059, 'NeeNee': 6060, 'Hard': 6061, 'gown': 6062, 'horses': 6063, 'Pretending': 6064, 'Everytime': 6065, 'Moni': 6066, 'Leopards': 6067, 'ropes': 6068, 'Different': 6069, 'Jean': 6070, 'pressed': 6071, 'temper': 6072, 'grant': 6073, 'loss': 6074, 'not': 6075, 'balled': 6076, 'on': 6077, 'rumble': 6078, 'bouquet': 6079, 'strands': 6080, 'Peaches': 6081, 'YAY': 6082, 'cake': 6083, 'Cassie': 6084, 'BunBun': 6085, 'songbirds': 6086, 'studio': 6087, 'Gina': 6088, 'Sams': 6089, 'sprayer': 6090, 'flat': 6091, 'werent': 6092, 'needeven': 6093, 'farmer': 6094, 'hospital': 6095, 'heights': 6096, 'ahhed': 6097, 'chalk': 6098, 'sushi': 6099, 'bathe': 6100, 'Brother': 6101, 'doomed': 6102, 'inexperienced': 6103, 'port': 6104, 'bark': 6105, 'joyous': 6106, 'cleverness': 6107, 'crinkled': 6108, 'exercising': 6109, 'painter': 6110, 'wobbled': 6111, 'attractive': 6112, 'Perfect': 6113, 'Sparky': 6114, 'pounce': 6115, 'handle': 6116, 'Youve': 6117, 'allergies': 6118, 'alcove': 6119, 'scourging': 6120, 'bruises': 6121, 'oil': 6122, 'squiggles': 6123, 'Fatima': 6124, 'seeking': 6125, 'Rose': 6126, 'widely': 6127, 'yelping': 6128, 'basket': 6129, 'slippery': 6130, 'milky': 6131, 'herb': 6132, 'mustered': 6133, 'bully': 6134, 'outgrown': 6135, 'buzzer': 6136, 'tastiest': 6137, 'sprinkling': 6138, 'smashed': 6139, 'Stitch': 6140, 'barrel': 6141, 'wooden': 6142, 'piles': 6143, 'buzz': 6144, 'waiting': 6145, 'embark': 6146, 'pigtails': 6147, 'sausages': 6148, 'Toot': 6149, 'needing': 6150, 'apart': 6151, 'fair': 6152, 'twister': 6153, 'MAX': 6154, 'humans': 6155, 'explain': 6156, 'tortoise': 6157, 'zone': 6158, 'zigzagging': 6159, 'Paw': 6160, 'laziness': 6161, 'marcher': 6162, 'Macaroni': 6163, 'directions': 6164, 'lovingly': 6165, 'reaching': 6166, 'scrunched': 6167, 'branches': 6168, 'Snap': 6169, 'echo': 6170, 'sparked': 6171, 'bank': 6172, 'Quick': 6173, 'skeleton': 6174, 'Maggie': 6175, 'spicy': 6176, 'severe': 6177, 'cacti': 6178, 'pans': 6179, 'peat': 6180, 'nuzzle': 6181, 'Delicious': 6182, 'Joanna': 6183, 'overjoyed': 6184, 'born': 6185, 'swerved': 6186, 'describe': 6187, 'forty': 6188, 'trip': 6189, 'tickly': 6190, 'balcony': 6191, 'fetches': 6192, 'injured': 6193, 'grunt': 6194, 'Meow': 6195, 'despair': 6196, 'downstairs': 6197, 'commands': 6198, 'ache': 6199, 'challenging': 6200, 'swayed': 6201, 'polish': 6202, 'nearer': 6203, 'imaginary': 6204, 'staring': 6205, 'purred': 6206, 'voices': 6207, 'chatted': 6208, 'Jana': 6209, 'rhythm': 6210, 'buyer': 6211, 'Leticia': 6212, 'Sharin': 6213, 'Far': 6214, 'greedy': 6215, 'Johnson': 6216, 'till': 6217, 'choose': 6218, 'Real': 6219, 'tackle': 6220, 'woo': 6221, 'shipwreck': 6222, 'bicycles': 6223, 'sheepishly': 6224, 'Annabelle': 6225, 'bikes': 6226, 'Fierce': 6227, 'thick': 6228, 'symbols': 6229, 'command': 6230, 'compassion': 6231, 'twinklin': 6232, 'jester': 6233, 'Flora': 6234, 'duckies': 6235, 'regret': 6236, 'Especially': 6237, 'out': 6238, 'blue': 6239, 'neighbouring': 6240, 'sculpture': 6241, 'piece': 6242, 'tip': 6243, 'dandelion': 6244, 'fix': 6245, 'Thats': 6246, 'rare': 6247, 'tug': 6248, 'delivering': 6249, 'Maggies': 6250, 'swingset': 6251, 'brilliant': 6252, 'interacting': 6253, 'pine': 6254, 'Gain': 6255, 'thorn': 6256, 'Chew': 6257, 'logs': 6258, 'pillows': 6259, 'zig': 6260, 'clanking': 6261, 'leaning': 6262, 'like': 6263, 'hardwork': 6264, 'bawl': 6265, 'picnic': 6266, 'embarrassing': 6267, 'Alicia': 6268, 'veterinarian': 6269, 'unite': 6270, 'cabinet': 6271, 'High': 6272, 'drives': 6273, 'impress': 6274, 'slices': 6275, 'grudge': 6276, 'photographs': 6277, 'tape': 6278, 'sweetened': 6279, 'snowflakes': 6280, 'riverside': 6281, 'Z': 6282, 'scarecrow': 6283, 'arctic': 6284, 'Paola': 6285, 'creations': 6286, 'spotted': 6287, 'sparks': 6288, 'Follow': 6289, 'Brick': 6290, 'elsewhere': 6291, 'triumphantly': 6292, 'Elsie': 6293, 'snorted': 6294, 'bite': 6295, 'print': 6296, 'wetsuit': 6297, 'studying': 6298, 'gazelle': 6299, 'Rollie': 6300, 'Joan': 6301, 'quiz': 6302, 'parted': 6303, 'galaxy': 6304, 'pressure': 6305, 'twinkle': 6306, 'burp': 6307, 'Young': 6308, 'growls': 6309, 'Felix': 6310, 'throat': 6311, 'lifts': 6312, 'maze': 6313, 'Friend': 6314, 'Mushroom': 6315, 'expiration': 6316, 'phone': 6317, 'reasonable': 6318, 'whiskers': 6319, 'illustrated': 6320, 'shores': 6321, 'That': 6322, 'Mole': 6323, 'post': 6324, 'cream': 6325, 'overboard': 6326, 'stew': 6327, 'Elephants': 6328, 'sibling': 6329, 'Patch': 6330, 'jingled': 6331, 'cant': 6332, 'Trespassing': 6333, 'sharpen': 6334, 'suppose': 6335, 'Elianas': 6336, 'then': 6337, 'cobra': 6338, 'rainbow': 6339, 'Arthur': 6340, 'lessons': 6341, 'staircase': 6342, 'Gerrys': 6343, 'thanks': 6344, 'lies': 6345, 'Pan': 6346, 'swordfighting': 6347, 'sunflower': 6348, 'alert': 6349, 'birds': 6350, 'badges': 6351, 'dears': 6352, 'June': 6353, 'reception': 6354, 'peppers': 6355, 'toe': 6356, 'Adventure': 6357, 'heartbeats': 6358, 'french': 6359, 'Board': 6360, 'napkins': 6361, 'part': 6362, 'Laser': 6363, 'splattered': 6364, 'portrait': 6365, 'officially': 6366, 'yous': 6367, 'Honest': 6368, 'Rover': 6369, 'splits': 6370, 'Add': 6371, 'umbrellas': 6372, 'rhythms': 6373, 'giddy': 6374, 'handling': 6375, 'sweet': 6376, 'marks': 6377, 'Majesty': 6378, 'wobbly': 6379, 'tallied': 6380, 'Meena': 6381, 'sadly': 6382, 'as': 6383, 'strumming': 6384, 'Ming': 6385, 'spritely': 6386, 'rusting': 6387, 'pathway': 6388, 'pig': 6389, 'bald': 6390, 'explains': 6391, 'your': 6392, 'proposed': 6393, 'gleefully': 6394, 'flea': 6395, 'Four': 6396, 'snuck': 6397, 'tents': 6398, 'grasp': 6399, 'stood': 6400, 'You': 6401, 'youngster': 6402, 'sloppy': 6403, 'sick': 6404, 'Ha': 6405, 'So': 6406, 'tornado': 6407, 'stable': 6408, 'sled': 6409, 'splitter': 6410, 'pupils': 6411, 'spring': 6412, 'helper': 6413, 'crowned': 6414, 'NO': 6415, 'cheated': 6416, 'lake': 6417, 'recommends': 6418, 'congratulated': 6419, 'circle': 6420, 'laps': 6421, 'honking': 6422, 'happened': 6423, 'persistent': 6424, 'leopards': 6425, 'overindulge': 6426, 'smacked': 6427, 'Floppy': 6428, 'Butterflies': 6429, 'Are': 6430, 'warmly': 6431, 'Forest': 6432, 'shopkeeper': 6433, 'showing': 6434, 'automobile': 6435, 'iceberg': 6436, 'equals': 6437, 'Margaret': 6438, 'peacemaker': 6439, 'doe': 6440, 'Brownie': 6441, 'she': 6442, 'entertained': 6443, 'Dina': 6444, 'satisfaction': 6445, 'muddy': 6446, 'bleed': 6447, 'pricking': 6448, 'waggy': 6449, 'our': 6450, 'encouraged': 6451, 'masterpiece': 6452, 'pace': 6453, 'Get': 6454, 'observe': 6455, 'floats': 6456, 'cliff': 6457, 'apartment': 6458, 'ship': 6459, 'Harry': 6460, 'cleared': 6461, 'worse': 6462, 'heals': 6463, 'grasses': 6464, 'peek': 6465, 'Lizzie': 6466, 'canoes': 6467, 'comforted': 6468, 'Eat': 6469, 'watched': 6470, 'toddled': 6471, 'borrowing': 6472, 'talent': 6473, 'Island': 6474, 'untie': 6475, 'techniques': 6476, 'consisted': 6477, 'stretcher': 6478, 'pillow': 6479, 'wetter': 6480, 'Monster': 6481, 'homemade': 6482, 'saver': 6483, 'lambs': 6484, 'foal': 6485, 'oyster': 6486, 'you': 6487, 'distress': 6488, 'Anny': 6489, 'miles': 6490, 'Ant': 6491, 'Jo': 6492, 'well': 6493, 'water': 6494, 'organiser': 6495, 'beavers': 6496, 'bays': 6497, 'perfect': 6498, 'minds': 6499, 'Each': 6500, 'remembered': 6501, 'bib': 6502, 'medicine': 6503, 'single': 6504, 'Gym': 6505, 'wipes': 6506, 'Mollys': 6507, 'raining': 6508, 'subject': 6509, 'frothed': 6510, 'Old': 6511, 'invincible': 6512, 'drinks': 6513, 'drove': 6514, 'flapping': 6515, 'Construction': 6516, 'interest': 6517, 'property': 6518, 'blows': 6519, 'Slam': 6520, 'brave': 6521, 'cocoons': 6522, 'matches': 6523, 'Bellas': 6524, 'break': 6525, 'earn': 6526, 'everytime': 6527, 'saucer': 6528, 'imagine': 6529, 'dear': 6530, 'Shh': 6531, 'pick': 6532, 'Bert': 6533, 'teddy': 6534, 'suffocated': 6535, 'Private': 6536, 'hooray': 6537, 'explore': 6538, 'grown': 6539, 'savouring': 6540, 'yes': 6541, 'shore': 6542, 'repeat': 6543, 'kindest': 6544, 'Nina': 6545, 'violin': 6546, 'Scale': 6547, 'pot': 6548, 'dripped': 6549, 'shrinky': 6550, 'familiar': 6551, 'reaction': 6552, 'nook': 6553, 'wins': 6554, 'splashes': 6555, 'sticking': 6556, 'Hatty': 6557, 'bottom': 6558, 'backed': 6559, 'Rosa': 6560, 'Animals': 6561, 'yielded': 6562, 'fifteen': 6563, 'warmest': 6564, 'Stop': 6565, 'playroom': 6566, 'DARE': 6567, 'nervous': 6568, 'safaris': 6569, 'SPLASH': 6570, 'welcome': 6571, 'Hide': 6572, 'Hand': 6573, 'Save': 6574, 'document': 6575, 'station': 6576, 'sailed': 6577, 'retrieve': 6578, 'blinking': 6579, 'dreamy': 6580, 'bail': 6581, 'saves': 6582, 'items': 6583, 'accident': 6584, 'thunderclap': 6585, 'dabbing': 6586, 'boys': 6587, 'oven': 6588, 'cooked': 6589, 'decides': 6590, 'difficulty': 6591, 'Look': 6592, 'fastened': 6593, 'peaks': 6594, 'service': 6595, 'meant': 6596, 'tester': 6597, 'droopy': 6598, 'booming': 6599, 'bleats': 6600, 'stare': 6601, 'Lost': 6602, 'envied': 6603, 'unless': 6604, 'topple': 6605, 'shout': 6606, 'feeder': 6607, 'blanket': 6608, 'Gear': 6609, 'knapsack': 6610, 'propose': 6611, 'ordering': 6612, 'inspired': 6613, 'reluctantly': 6614, 'grandbaby': 6615, 'Horses': 6616, 'Julie': 6617, 'fingertips': 6618, 'Maths': 6619, 'adult': 6620, 'brew': 6621, 'suits': 6622, 'Pumpkin': 6623, 'surged': 6624, 'happens': 6625, 'managing': 6626, 'Dong': 6627, 'Mill': 6628, 'Gum': 6629, 'leg': 6630, 'footballer': 6631, 'craziest': 6632, 'farm': 6633, 'permission': 6634, 'nose': 6635, 'Woman': 6636, 'Barn': 6637, 'parades': 6638, 'throw': 6639, 'worked': 6640, 'hider': 6641, 'toward': 6642, 'young': 6643, 'womans': 6644, 'staffs': 6645, 'hunted': 6646, 'high': 6647, 'give': 6648, 'smoothly': 6649, 'frowning': 6650, 'pretended': 6651, 'Show': 6652, 'zoomers': 6653, 'note': 6654, 'baking': 6655, 'untangle': 6656, 'lipped': 6657, 'Dull': 6658, 'yesterday': 6659, 'Vanish': 6660, 'opens': 6661, 'Teesha': 6662, 'Maisie': 6663, 'operate': 6664, 'reliable': 6665, 'Scott': 6666, 'Beebee': 6667, 'talked': 6668, 'heavenly': 6669, 'bathed': 6670, 'Bear': 6671, 'funeral': 6672, 'Drink': 6673, 'slipping': 6674, 'PJs': 6675, 'Cat': 6676, 'groan': 6677, 'waggle': 6678, 'Ranger': 6679, 'sneaks': 6680, 'petrified': 6681, 'friendships': 6682, 'straw': 6683, 'cracked': 6684, 'struggled': 6685, 'spade': 6686, 'praise': 6687, 'Want': 6688, 'Doug': 6689, 'chugged': 6690, 'CDs': 6691, 'cars': 6692, 'collects': 6693, 'marveling': 6694, 'preparing': 6695, 'fighting': 6696, 'meteors': 6697, 'rescuer': 6698, 'relaxing': 6699, 'Justine': 6700, 'Drops': 6701, 'chirping': 6702, 'peak': 6703, 'insisted': 6704, 'totter': 6705, 'heartbeat': 6706, 'adorable': 6707, 'carefree': 6708, 'threw': 6709, 'result': 6710, 'wistfully': 6711, 'chores': 6712, 'springs': 6713, 'whips': 6714, 'Pictures': 6715, 'eat': 6716, 'unroll': 6717, 'tunnels': 6718, 'fishing': 6719, 'wheat': 6720, 'letters': 6721, 'tempting': 6722, 'allergy': 6723, 'echoes': 6724, 'gym': 6725, 'erupted': 6726, 'Know': 6727, 'sneaked': 6728, 'indoors': 6729, 'Whippy': 6730, 'races': 6731, 'spout': 6732, 'Betty': 6733, 'wrench': 6734, 'hidden': 6735, 'providing': 6736, 'farthest': 6737, 'balloons': 6738, 'riddles': 6739, 'dips': 6740, 'Spraying': 6741, 'winds': 6742, 'act': 6743, 'Minutes': 6744, 'Under': 6745, 'collect': 6746, 'Rail': 6747, 'barnyard': 6748, 'restful': 6749, 'allowance': 6750, 'arrangement': 6751, 'Grant': 6752, 'Zzzzoom': 6753, 'Lacy': 6754, 'Lucy': 6755, 'lottery': 6756, 'snack': 6757, 'mint': 6758, 'soups': 6759, 'networks': 6760, 'appearing': 6761, 'Elly': 6762, 'pleads': 6763, 'hopeless': 6764, 'Run': 6765, 'pared': 6766, 'satisfied': 6767, 'hungry': 6768, 'used': 6769, 'unlocks': 6770, 'suggestion': 6771, 'misses': 6772, 'jam': 6773, 'rained': 6774, 'awful': 6775, '<': 6776, 'galaxies': 6777, 'scribbling': 6778, 'graduated': 6779, 'Alas': 6780, 'gunshot': 6781, 'blossom': 6782, 'woodwind': 6783, 'Beths': 6784, 'swirling': 6785, 'screaming': 6786, 'rid': 6787, 'earthworm': 6788, 'Tony': 6789, 'Carly': 6790, 'dinners': 6791, 'tell': 6792, 'mission': 6793, 'tours': 6794, 'buttoned': 6795, 'trap': 6796, 'Tina': 6797, 'Grandpas': 6798, 'fanciest': 6799, 'contentment': 6800, 'happy': 6801, 'veils': 6802, 'expertly': 6803, 'becasue': 6804, 'hats': 6805, 'avocado': 6806, 'purse': 6807, 'Cream': 6808, 'chocolates': 6809, 'Feed': 6810, 'sturdy': 6811, 'ultimately': 6812, 'assemble': 6813, 'metres': 6814, 'uncomfortable': 6815, 'Rice': 6816, 'pianos': 6817, 'Yea': 6818, 'Smith': 6819, 'microscope': 6820, 'soared': 6821, 'strength': 6822, 'promotion': 6823, 'winking': 6824, 'Church': 6825, 'commitment': 6826, 'engrossed': 6827, 'oar': 6828, 'successfully': 6829, 'Sound': 6830, 'Shaun': 6831, 'nuggets': 6832, 'guy': 6833, 'quieter': 6834, 'Spider': 6835, 'pray': 6836, 'spot': 6837, 'license': 6838, 'Cinderella': 6839, 'puppies': 6840, 'rainwater': 6841, 'Hooray': 6842, 'rolls': 6843, 'exhausted': 6844, 'dull': 6845, 'reflective': 6846, 'hiding': 6847, 'forgets': 6848, 'treats': 6849, 'cushion': 6850, 'overflow': 6851, 'growing': 6852, 'Pit': 6853, 'aback': 6854, 'forks': 6855, 'End': 6856, 'power': 6857, 'da': 6858, 'glimmer': 6859, 'fortune': 6860, 'comet': 6861, 'Victory': 6862, 'drags': 6863, 'scowling': 6864, 'inches': 6865, 'Beartie': 6866, 'trampoline': 6867, 'crumpled': 6868, 'ignorant': 6869, 'calf': 6870, 'sweeter': 6871, 'yours': 6872, 'thoroughly': 6873, 'An': 6874, 'laundromat': 6875, 'vowing': 6876, 'pedaled': 6877, 'explored': 6878, 'repay': 6879, 'Bobro': 6880, 'Ordinary': 6881, 'bro': 6882, 'flashes': 6883, 'rascals': 6884, 'Jenny': 6885, 'believe': 6886, 'river': 6887, 'Frankie': 6888, 'cavities': 6889, 'yourself': 6890, 'sides': 6891, 'beeped': 6892, 'hippos': 6893, 'succeeding': 6894, 'Early': 6895, 'learned': 6896, 'test': 6897, 'walker': 6898, 'wildlife': 6899, 'anxiously': 6900, 'Excessive': 6901, 'stitch': 6902, 'Anne': 6903, 'rudest': 6904, 'raincoats': 6905, 'princes': 6906, 'implressive': 6907, 'mixed': 6908, 'creative': 6909, 'mall': 6910, 'Reluctantly': 6911, 'stroll': 6912, 'watchmaker': 6913, 'cramped': 6914, 'Smiling': 6915, 'neglected': 6916, 'cosy': 6917, 'holes': 6918, 'Hm': 6919, 'singed': 6920, 'Coming': 6921, 'strolls': 6922, 'cautiously': 6923, 'burrito': 6924, 'Nope': 6925, 'Jellyfish': 6926, 'planted': 6927, 'bravest': 6928, 'disturbed': 6929, 'Sharon': 6930, 'passersby': 6931, 'follows': 6932, 'Halley': 6933, 'bar': 6934, 'relationships': 6935, 'pupppy': 6936, 'budget': 6937, 'honestly': 6938, 'stole': 6939, 'fists': 6940, 'suprised': 6941, 'ping': 6942, 'safe': 6943, 'Working': 6944, 'served': 6945, 'kettle': 6946, 'Use': 6947, 'later': 6948, 'snarls': 6949, 'building': 6950, 'platform': 6951, 'let': 6952, 'spending': 6953, 'needel': 6954, 'manes': 6955, 'volcano': 6956, 'mark': 6957, 'big': 6958, 'screws': 6959, 'wilt': 6960, 'beautiful': 6961, 'scurried': 6962, 'bravery': 6963, 'jackets': 6964, 'Goodnight': 6965, 'patted': 6966, 'lumber': 6967, 'consequences': 6968, 'shrink': 6969, 'Smarts': 6970, 'lid': 6971, 'Ratty': 6972, 'miracles': 6973, 'deck': 6974, 'Printy': 6975, 'unharmed': 6976, 'Shhh': 6977, 'Glittering': 6978, 'Fin': 6979, 'reef': 6980, 'obvious': 6981, 'pedalling': 6982, 'necks': 6983, 'week': 6984, 'fading': 6985, 'answer': 6986, 'study': 6987, 'bridge': 6988, 'location': 6989, 'calling': 6990, 'Amy': 6991, 'sweets': 6992, 'Tweetie': 6993, 'pastel': 6994, 'trumpet': 6995, 'peaked': 6996, 'Grumpily': 6997, 'spool': 6998, 'horizons': 6999, 'diversity': 7000, 'Dont': 7001, 'square': 7002, 'tool': 7003, 'sniffling': 7004, 'pews': 7005, 'pedaling': 7006, 'reader': 7007, 'SO': 7008, 'spells': 7009, 'sloths': 7010, 'Lucila': 7011, 'Black': 7012, 'inclusive': 7013, 'bend': 7014, 'black': 7015, 'tides': 7016, 'cushions': 7017, 'mixes': 7018, 'house': 7019, 'extraordinary': 7020, 'pancake': 7021, 'actors': 7022, 'slippers': 7023, 'lie': 7024, 'immediately': 7025, 'Dresses': 7026, 'hisfriend': 7027, 'Scan': 7028, 'stripe': 7029, 'massaged': 7030, 'shoved': 7031, 'thetree': 7032, 'racecars': 7033, 'squishy': 7034, 'desperation': 7035, 'aisle': 7036, 'Beth': 7037, 'Plus': 7038, 'sucks': 7039, 'nibbling': 7040, 'Crabby': 7041, 'Worse': 7042, 'changing': 7043, 'concussion': 7044, 'jolliness': 7045, 'jet': 7046, 'cleverest': 7047, 'supports': 7048, 'inscribed': 7049, 'fluffed': 7050, 'energy': 7051, 'seagull': 7052, 'Willow': 7053, 'hometown': 7054, 'charged': 7055, 'sips': 7056, 'nuisance': 7057, 'drive': 7058, 'Betsy': 7059, 'disagreeing': 7060, 'cherry': 7061, 'booth': 7062, 'cozy': 7063, 'Uncle': 7064, 'bike': 7065, 'Dees': 7066, 'moles': 7067, 'Among': 7068, 'Five': 7069, 'ours': 7070, 'subjects': 7071, 'Pastries': 7072, 'Bang': 7073, 'uniting': 7074, 'hated': 7075, 'goodness': 7076, 'full': 7077, 'daughters': 7078, 'displaying': 7079, 'Rob': 7080, 'dedicated': 7081, 'arched': 7082, 'interrupting': 7083, 'alleyways': 7084, 'beds': 7085, 'goods': 7086, 'Excellent': 7087, 'damage': 7088, 'order': 7089, 'sparkly': 7090, 'opening': 7091, 'forbecause': 7092, 'Wee': 7093, 'partners': 7094, 'strips': 7095, 'repaired': 7096, 'kicking': 7097, 'Even': 7098, 'Clarice': 7099, 'raiseed': 7100, 'shifting': 7101, 'had': 7102, 'present': 7103, 'desired': 7104, 'fairly': 7105, 'hopeful': 7106, 'extremely': 7107, 'airports': 7108, 'Looking': 7109, 'bearable': 7110, 'popper': 7111, 'twittered': 7112, 'starling': 7113, 'needed': 7114, 'toes': 7115, 'familys': 7116, 'anything': 7117, 'Days': 7118, 'Smart': 7119, 'politely': 7120, 'delightful': 7121, 'continue': 7122, 'glares': 7123, 'exhaled': 7124, 'hurrying': 7125, 'envy': 7126, 'salute': 7127, 'road': 7128, 'glide': 7129, 'shocks': 7130, 'hat': 7131, 'handing': 7132, 'nudged': 7133, 'weighed': 7134, 'Samantha': 7135, 'wardrobes': 7136, 'accompany': 7137, 'withstand': 7138, 'brow': 7139, 'Six': 7140, '-': 7141, 'whistles': 7142, 'Excitement': 7143, 'hallway': 7144, 'late': 7145, 'drifting': 7146, 'goldfish': 7147, 'archer': 7148, 'possess': 7149, 'pinkle': 7150, 'pauses': 7151, 'persistence': 7152, 'gadgets': 7153, 'Danny': 7154, 'plush': 7155, 'spiders': 7156, 'sneezes': 7157, 'fragrance': 7158, 'visited': 7159, 'Horse': 7160, 'Surprisingly': 7161, 'Take': 7162, 'tv': 7163, 'recounted': 7164, 'patience': 7165, 'Mommy': 7166, 'displayed': 7167, 'laptop': 7168, 'dinos': 7169, 'Elle': 7170, 'passion': 7171, 'writer': 7172, 'starry': 7173, 'enjoys': 7174, 'bread': 7175, 'absent': 7176, 'calendar': 7177, 'temperature': 7178, 'precariously': 7179, 'neglecting': 7180, 'unloading': 7181, 'goes': 7182, 'swapped': 7183, 'flyer': 7184, 'handyman': 7185, 'Diana': 7186, 'pancakes': 7187, 'yellows': 7188, 'moat': 7189, 'cookies': 7190, 'grandkids': 7191, 'billboard': 7192, 'watering': 7193, 'toddlers': 7194, 'gazed': 7195, 'squealed': 7196, 'calming': 7197, 'noiseit': 7198, 'turkey': 7199, 'Score': 7200, 'pulled': 7201, 'hey': 7202, 'barrier': 7203, 'solver': 7204, 'flexibility': 7205, 'Jacks': 7206, 'grounds': 7207, 'refuse': 7208, 'patients': 7209, 'ornament': 7210, 'soil': 7211, 'damaged': 7212, 'TV': 7213, 'shark': 7214, 'chirp': 7215, 'miss': 7216, 'Fame': 7217, 'lays': 7218, 'mother': 7219, 'mastered': 7220, 'pigeons': 7221, 'palm': 7222, 'God': 7223, 'shoes': 7224, 'seem': 7225, 'candles': 7226, 'tube': 7227, 'wheeled': 7228, 'chore': 7229, 'surely': 7230, 'my': 7231, 'looks': 7232, 'meaner': 7233, 'nearby': 7234, 'since': 7235, 'stapler': 7236, '\\n': 7237, 'starting': 7238, 'fooled': 7239, 'waste': 7240, 'brigade': 7241, 'postmaster': 7242, 'tease': 7243, 'roam': 7244, 'closet': 7245, 'beginning': 7246, 'tiny': 7247, 'depend': 7248, 'Tam': 7249, 'cancelled': 7250, 'pirates': 7251, 'manages': 7252, 'Cuddle': 7253, 'purpose': 7254, 'pupil': 7255, 'chest': 7256, 'tiniest': 7257, 'fixed': 7258, 'shifted': 7259, 'Duckie': 7260, 'shinier': 7261, 'Anthony': 7262, 'gulped': 7263, 'la': 7264, 'tfind': 7265, 'freezeed': 7266, 'Courtney': 7267, 'bacon': 7268, 'bump': 7269, 'ho': 7270, 'bull': 7271, 'whirling': 7272, 'pad': 7273, 'clink': 7274, 'stumble': 7275, 'products': 7276, 'worriedly': 7277, 'CLAIM': 7278, 'toy': 7279, 'counted': 7280, 'few': 7281, 'blinky': 7282, 'traded': 7283, 'Sparkels': 7284, 'cooped': 7285, 'spinner': 7286, 'Voice': 7287, 'Goodbye': 7288, 'raffle': 7289, 'rage': 7290, 'grownups': 7291, 'core': 7292, 'really': 7293, 'Volcano': 7294, 'speaks': 7295, 'Coal': 7296, 'excitement': 7297, 'fragrant': 7298, 'courteous': 7299, 'Zzzzz': 7300, 'taller': 7301, 'needles': 7302, 'awareness': 7303, 'Timmys': 7304, 'hydrated': 7305, 'lowest': 7306, 'hut': 7307, 'inflated': 7308, 'venturing': 7309, 'speeded': 7310, 'curious': 7311, 'meetings': 7312, 'tons': 7313, 'mind': 7314, 'Emma': 7315, 'bake': 7316, 'burner': 7317, 'cards': 7318, 'scarves': 7319, 'chomped': 7320, 'probably': 7321, 'Muffins': 7322, 'Thankfully': 7323, 'hassle': 7324, 'wealth': 7325, 'alarm': 7326, 'artist': 7327, 'deafening': 7328, 'forces': 7329, 'Ella': 7330, 'foolish': 7331, 'carve': 7332, 'accidents': 7333, 'Birdie': 7334, 'cradled': 7335, 'innocent': 7336, 'belong': 7337, 'UFO': 7338, 'patiently': 7339, 'Elsies': 7340, 'slave': 7341, 'Another': 7342, 'runway': 7343, 'include': 7344, 'flurry': 7345, 'swallowing': 7346, 'schoolwork': 7347, 'Blink': 7348, 'whooshed': 7349, 'Noon': 7350, 'Beaver': 7351, 'beast': 7352, 'repeats': 7353, 'tempted': 7354, 'Balancing': 7355, 'caps': 7356, 'shopping': 7357, 'rings': 7358, 'brayed': 7359, 'fulfilling': 7360, 'Bounce': 7361, 'hed': 7362, 'windier': 7363, 'wandered': 7364, 'twinkled': 7365, 'yelp': 7366, 'protective': 7367, 'tiptoed': 7368, 'scores': 7369, 'A': 7370, 'trailing': 7371, 'unsafe': 7372, 'terrific': 7373, 'fewer': 7374, 'mules': 7375, 'beaver': 7376, 'All': 7377, 'BIRTHDAY': 7378, 'thankful': 7379, 'Cindi': 7380, 'starfishs': 7381, 'Marching': 7382, 'monkey': 7383, 'accused': 7384, 'Woah': 7385, 'Biff': 7386, 'floods': 7387, 'locations': 7388, 'transforming': 7389, 'grins': 7390, 'Cross': 7391, 'fright': 7392, 'tensed': 7393, 'displays': 7394, 'Seeing': 7395, 'Sunlight': 7396, 'standing': 7397, 'wrinkle': 7398, 'Steven': 7399, 'Baking': 7400, 'constantly': 7401, 'beautifully': 7402, 'Everybody': 7403, 'Cloud': 7404, 'Ouch': 7405, 'stranger': 7406, 'Wizard': 7407, 'emit': 7408, 'thickened': 7409, 'delight': 7410, 'deciding': 7411, 'Yep': 7412, 'wreck': 7413, 'braved': 7414, 'Quack': 7415, 'recipe': 7416, 'Mick': 7417, 'tournament': 7418, 'terribly': 7419, 'pecking': 7420, 'Joys': 7421, 'History': 7422, 'elbow': 7423, 'creepy': 7424, 'sizzling': 7425, 'beetle': 7426, 'realization': 7427, 'Lucys': 7428, 'buy': 7429, 'Grinning': 7430, 'briefcase': 7431, 'tadpoles': 7432, 'sword': 7433, 'collector': 7434, 'downhill': 7435, 'good': 7436, 'Sunglasses': 7437, 'speeding': 7438, 'hosepipe': 7439, 'Tuesday': 7440, 'treating': 7441, 'squirmed': 7442, 'switches': 7443, 'party': 7444, 'agreements': 7445, 'Me': 7446, 'discouraged': 7447, 'purchased': 7448, 'tore': 7449, 'lightbulb': 7450, 'rocked': 7451, 'hoot': 7452, 'landmarks': 7453, 'Eating': 7454, 'exists': 7455, 'steadied': 7456, 'clambered': 7457, 'engulfed': 7458, 'hugging': 7459, 'frills': 7460, 'As': 7461, 'disagreed': 7462, 'happenned': 7463, 'tutorial': 7464, 'shaky': 7465, 'practical': 7466, 'scooted': 7467, 'Tie': 7468, 'notes': 7469, 'bye': 7470, 'flitted': 7471, 'beady': 7472, 'guess': 7473, 'Sea': 7474, 'rewarding': 7475, 'speckled': 7476, 'record': 7477, 'given': 7478, 'sideways': 7479, 'respect': 7480, 'Hmm': 7481, 'abide': 7482, 'reciting': 7483, 'cooler': 7484, 'Therese': 7485, 'oceans': 7486, 'newest': 7487, 'Dotty': 7488, 'printing': 7489, 'Sparks': 7490, 'flips': 7491, 'Shapes': 7492, 'showed': 7493, 'joey': 7494, 'mugs': 7495, 'notched': 7496, 'Lawyers': 7497, 'zero': 7498, 'imaginable': 7499, 'loads': 7500, 'cannot': 7501, 'tomato': 7502, 'Naughty': 7503, 'term': 7504, 'who': 7505, 'shiny': 7506, 'mixing': 7507, 'Tammy': 7508, 'radishes': 7509, 'tastes': 7510, 'strict': 7511, 'cancel': 7512, 'tea': 7513, 'Painter': 7514, 'gotta': 7515, 'Burning': 7516, 'mate': 7517, 'Jessi': 7518, 'Ryan': 7519, 'snivel': 7520, 'dam': 7521, 'Penny': 7522, 'Bloom': 7523, 'slug': 7524, 'discussing': 7525, 'sparkled': 7526, 'Slow': 7527, 'folding': 7528, 'popsicles': 7529, 'banging': 7530, 'packet': 7531, 'crossly': 7532, 'fairer': 7533, 'cell': 7534, 'freedom': 7535, 'secure': 7536, 'hoof': 7537, 'downs': 7538, 'reefs': 7539, 'earring': 7540, 'snuk': 7541, 'smell': 7542, 'lawyer': 7543, 'menu': 7544, 'Andi': 7545, 'mantel': 7546, 'sticky': 7547, 'resolved': 7548, 'gajar': 7549, 'pea': 7550, 'chainsaw': 7551, 'baskets': 7552, 'magnet': 7553, 'forever': 7554, 'Mule': 7555, 'helpAmy': 7556, 'smothered': 7557, 'awhile': 7558, 'lavished': 7559, 'slowest': 7560, 'fixtures': 7561, 'grapefruits': 7562, 'Sari': 7563, 'sensibly': 7564, 'declared': 7565, 'state': 7566, 'webbed': 7567, 'approaching': 7568, 'enemies': 7569, 'itching': 7570, 'Green': 7571, 'island': 7572, 'Luke': 7573, 'upper': 7574, 'messing': 7575, 'invites': 7576, 'wailed': 7577, 'manner': 7578, 'luggage': 7579, 'budged': 7580, 'explaining': 7581, 'hummed': 7582, 'hypnotized': 7583, 'punched': 7584, 'Cara': 7585, 'Close': 7586, 'whiteboard': 7587, 'clippers': 7588, 'otherwise': 7589, 'project': 7590, 'mild': 7591, 'chewy': 7592, 'kneaded': 7593, 'triangles': 7594, 'junk': 7595, 'snaps': 7596, 'Oops': 7597, 'nobody': 7598, 'Kate': 7599, 'cave': 7600, 'x': 7601, 'realized': 7602, 'vet': 7603, 'pipe': 7604, 'Debby': 7605, 'Mistakes': 7606, 'Cherie': 7607, 'resourcefulness': 7608, 'hissed': 7609, 'detective': 7610, 'unattended': 7611, 'clung': 7612, 'Balance': 7613, 'rectangle': 7614, 'conditions': 7615, 'obedience': 7616, 'marvelling': 7617, 'badger': 7618, 'rinse': 7619, 'Fit': 7620, 'onto': 7621, 'allow': 7622, 'Pie': 7623, 'itchy': 7624, 'grains': 7625, 'very': 7626, 'aisles': 7627, 'swish': 7628, 'loudness': 7629, 'Kathy': 7630, 'pizzas': 7631, 'ways': 7632, 'original': 7633, 'combing': 7634, 'passionate': 7635, 'sample': 7636, 'handles': 7637, 'drawings': 7638, 'Juice': 7639, 'surrounded': 7640, 'bathroom': 7641, 'thunderclouds': 7642, 'rubbish': 7643, 'subway': 7644, 'cans': 7645, 'crabs': 7646, 'contain': 7647, 'William': 7648, 'Carry': 7649, 'hoops': 7650, 'Dove': 7651, 'Skeleton': 7652, 'anchor': 7653, 'smartness': 7654, 'Being': 7655, 'deserves': 7656, 'ointment': 7657, 'Bananas': 7658, 'forehead': 7659, 'Pipsqueak': 7660, 'Bark': 7661, 'squirrels': 7662, 'supply': 7663, 'Mina': 7664, 'presents': 7665, 'stranded': 7666, 'blowing': 7667, 'Gathering': 7668, 'chatting': 7669, 'Wally': 7670, 'winced': 7671, 'bendy': 7672, 'matchbox': 7673, 'cawing': 7674, 'Could': 7675, 'bragged': 7676, 'homework': 7677, 'Tigger': 7678, 'hummingbird': 7679, 'flipper': 7680, 'neighbourhood': 7681, 'sock': 7682, 'Einstein': 7683, 'Pauline': 7684, 'yummy': 7685, 'blackout': 7686, 'Lambikins': 7687, 'weakest': 7688, 'hopefully': 7689, 'Theyse': 7690, 'flutter': 7691, 'science': 7692, 'Spears': 7693, 'picnics': 7694, 'vivid': 7695, 'ahead': 7696, 'Tentatively': 7697, 'bangs': 7698, 'hotel': 7699, 'look': 7700, 'Those': 7701, 'friendship': 7702, 'overheard': 7703, 'granddaugther': 7704, 'chomp': 7705, 'Bruce': 7706, 'funny': 7707, 'King': 7708, 'solemnly': 7709, 'honks': 7710, 'Swim': 7711, 'helmets': 7712, 'flow': 7713, 'slower': 7714, 'imagined': 7715, 'lion': 7716, 'frosting': 7717, 'wrongall': 7718, 'quarrel': 7719, 'faint': 7720, 'BANG': 7721, 'concept': 7722, 'Vegetables': 7723, 'behave': 7724, 'communicate': 7725, 'cuts': 7726, 'sculptures': 7727, 'grill': 7728, 'naughty': 7729, 'playhouse': 7730, 'lugged': 7731, 'dive': 7732, 'cop': 7733, 'workman': 7734, 'Ken': 7735, 'lower': 7736, 'away': 7737, 'truthful': 7738, 'Pudding': 7739, 'frame': 7740, 'pebbles': 7741, 'Smile': 7742, 'brightly': 7743, 'peasant': 7744, 'rubbers': 7745, 'wisest': 7746, 'job': 7747, 'th': 7748, 'stiff': 7749, 'carefully': 7750, 'bride': 7751, 'copying': 7752, 'babies': 7753, 'Slimy': 7754, 'Rough': 7755, 'etc': 7756, 'Momo': 7757, 'nosed': 7758, 'boot': 7759, 'crime': 7760, 'crash': 7761, 'seeker': 7762, 'genie': 7763, 'progress': 7764, 'tocked': 7765, 'fawns': 7766, 'naps': 7767, 'Insisting': 7768, 'don': 7769, 'Experience': 7770, 'tiring': 7771, 'como': 7772, 'in': 7773, 'helpless': 7774, 'beat': 7775, 'Higher': 7776, 'Castle': 7777, 'itchiness': 7778, 'foreboding': 7779, 'fields': 7780, 'system': 7781, 'distance': 7782, 'dust': 7783, 'add': 7784, 'light': 7785, 'comments': 7786, 'dingy': 7787, 'rowed': 7788, 'wielding': 7789, 'Chickie': 7790, 'obedient': 7791, 'bunch': 7792, 'tickets': 7793, 'keep': 7794, 'Lightning': 7795, 'petals': 7796, 'spike': 7797, 'Minnie': 7798, 'sly': 7799, 'Turns': 7800, 'guarantee': 7801, 'unpack': 7802, 'land': 7803, 'wiggled': 7804, 'brace': 7805, 'Today': 7806, 'supermarket': 7807, 'ghost': 7808, 'birdseed': 7809, 'huddled': 7810, 'piggybank': 7811, 'TO': 7812, 'Jens': 7813, 'Crazy': 7814, 'frightening': 7815, 'bramble': 7816, 'shrimp': 7817, 'mane': 7818, 'igloo': 7819, 'local': 7820, 'wonder': 7821, 'zebra': 7822, 'belched': 7823, 'lipstick': 7824, 'flash': 7825, 'cape': 7826, 'moral': 7827, 'creativity': 7828, 'customer': 7829, 'Sadie': 7830, 'screech': 7831, 'freshly': 7832, 'grace': 7833, 'fights': 7834, 'vibrate': 7835, 'Pinkle': 7836, 'dirtier': 7837, 'thrill': 7838, 'marker': 7839, 'dedication': 7840, 'thawed': 7841, 'hungrily': 7842, 'Very': 7843, 'softer': 7844, 'leading': 7845, 'Fluffy': 7846, 'Emmys': 7847, 'salsa': 7848, 'relied': 7849, 'Cow': 7850, 'worldly': 7851, 'received': 7852, 'weddings': 7853, 'performing': 7854, 'differently': 7855, 'bridges': 7856, 'trigger': 7857, 'during': 7858, 'Aww': 7859, 'comfortably': 7860, 'liking': 7861, 'pop': 7862, 'jeep': 7863, 'response': 7864, 'youre': 7865, 'socks': 7866, 'smaller': 7867, 'brainstorm': 7868, 'refrigerator': 7869, 'outdoor': 7870, 'carried': 7871, 'queen': 7872, 'gymnastic': 7873, 'imaginations': 7874, 'U': 7875, 'Johns': 7876, 'wrecks': 7877, 'lived': 7878, 'first': 7879, 'carriage': 7880, 'triceratops': 7881, 'booms': 7882, 'skating': 7883, 'erase': 7884, 'Ready': 7885, 'sorted': 7886, 'rod': 7887, 'certain': 7888, 'spikes': 7889, 'TheLittle': 7890, 'eldest': 7891, 'confession': 7892, 'I': 7893, 'vacuuming': 7894, 'Velvet': 7895, 'harmony': 7896, 'flap': 7897, 'sweaty': 7898, 'winked': 7899, 'ran': 7900, 'sounding': 7901, 'glowed': 7902, 'Sophie': 7903, 'comfy': 7904, 'Hours': 7905, 'Make': 7906, 'somersault': 7907, 'props': 7908, 'Maybe': 7909, 'articles': 7910, 'Fancy': 7911, 'prodding': 7912, 'garbage': 7913, 'resulted': 7914, 'blaring': 7915, 'net': 7916, 'throws': 7917, 'handsome': 7918, 'wiggling': 7919, 'sniffs': 7920, 'straightened': 7921, 'hairstyles': 7922, 'reply': 7923, 'pass': 7924, 'areas': 7925, 'tossing': 7926, 'even': 7927, 'hissing': 7928, 'Museum': 7929, 'waist': 7930, 'address': 7931, 'whatcha': 7932, 'anyway': 7933, 'thrower': 7934, 'pride': 7935, 'leader': 7936, 'lab': 7937, 'awoken': 7938, 'crib': 7939, 'candle': 7940, 'Emmy': 7941, 'unwraps': 7942, 'erasers': 7943, 'meowed': 7944, 'something': 7945, 'flitting': 7946, 'fortress': 7947, 'granny': 7948, 'Arrr': 7949, 'hurricaness': 7950, 'brushes': 7951, 'tingly': 7952, 'rushes': 7953, 'blew': 7954, 'rubs': 7955, 'strawberries': 7956, 'organizers': 7957, 'Signed': 7958, 'Sandy': 7959, 'Lu': 7960, 'slide': 7961, 'saddle': 7962, 'peculiar': 7963, 'rich': 7964, 'welling': 7965, 'bowls': 7966, 'halfway': 7967, 'Maple': 7968, 'Cheating': 7969, 'eerie': 7970, 'envious': 7971, 'labeled': 7972, 'resist': 7973, 'persuasive': 7974, 'recognise': 7975, 'startled': 7976, 'grandma': 7977, 'hunter': 7978, 'sunrise': 7979, 'slashed': 7980, 'JoJo': 7981, 'opposite': 7982, 'Squeaky': 7983, 'masterpieces': 7984, 'firewood': 7985, 'achievement': 7986, 'mighty': 7987, 'ducklings': 7988, 'Stealing': 7989, 'dawn': 7990, 'hoses': 7991, 'grind': 7992, 'loud': 7993, 'simpler': 7994, 'scolding': 7995, 'cooking': 7996, 'slowing': 7997, 'honeybees': 7998, 'sky': 7999, 'crafts': 8000, 'settle': 8001, 'outfit': 8002, 'Buddy': 8003, 'yay': 8004, 'Jack': 8005, 'offer': 8006, 'thumb': 8007, 'owns': 8008, 'thief': 8009, 'louder': 8010, 'dismissed': 8011, 'sequins': 8012, 'workers': 8013, 'Do': 8014, 'sensation': 8015, 'foods': 8016, 'frogs': 8017, 'brownish': 8018, 'Safari': 8019, 'hurty': 8020, 'raccoon': 8021, 'unusual': 8022, 'embarrass': 8023, 'dripping': 8024, 'predators': 8025, 'overlooked': 8026, 'poorly': 8027, 'skull': 8028, 'teasier': 8029, 'carp': 8030, 'rub': 8031, 'thirsty': 8032, 'jolly': 8033, 'knocking': 8034, 'Mother': 8035, 'mucky': 8036, 'wagging': 8037, 'daddys': 8038, 'nail': 8039, 'OK': 8040, 'cup': 8041, 'gaze': 8042, 'smooths': 8043, 'accept': 8044, 'shrinking': 8045, 'nicknamed': 8046, 'slurp': 8047, 'colorful': 8048, 'Repeat': 8049, 'pecked': 8050, 'cracks': 8051, 'characteristics': 8052, 'walls': 8053, 'policemen': 8054, 'glared': 8055, 'roars': 8056, 'Georgie': 8057, 'motivate': 8058, 'pirate': 8059, 'Ladies': 8060, 'documentary': 8061, 'file': 8062, 'canvas': 8063, 'rides': 8064, 'spoon': 8065, 'blaze': 8066, 'game': 8067, 'harrumphed': 8068, 'traveled': 8069, 'ancient': 8070, 'lively': 8071, 'Danielle': 8072, 'Big': 8073, 'knew': 8074, 'mineral': 8075, 'War': 8076, 'window': 8077, 'Alfie': 8078, 'zoo': 8079, 'west': 8080, 'done': 8081, 'larger': 8082, 'disguise': 8083, 'darker': 8084, 'boring': 8085, 'grumbling': 8086, 'courage': 8087, 'stickers': 8088, 'Zog': 8089, 'questioned': 8090, 'scattered': 8091, 'spaceships': 8092, 'Roo': 8093, 'flattened': 8094, 'Newspapers': 8095, 'stomachs': 8096, 'nerves': 8097, 'tiger': 8098, 'Youre': 8099, ';': 8100, 'steer': 8101, 'eating': 8102, 'wings': 8103, 'Camp': 8104, 'reappear': 8105, 'boots': 8106, 'fashions': 8107, 'HERE': 8108, 'stuffed': 8109, 'Annie': 8110, 'veterinarians': 8111, 'Frank': 8112, 'moss': 8113, 'Captain': 8114, 'frisbee': 8115, 'yummier': 8116, 'pant': 8117, 'bounce': 8118, 'remains': 8119, 'lurk': 8120, 'teacher': 8121, 'scolded': 8122, 'Jelly': 8123, 'Sooner': 8124, 'hanging': 8125, 'east': 8126, 'fall': 8127, 'death': 8128, 'newborn': 8129, 'blocked': 8130, 'mummy': 8131, 'Hundreds': 8132, 'twin': 8133, 'disgust': 8134, 'traced': 8135, 'taut': 8136, 'reduce': 8137, 'closets': 8138, 'kiddo': 8139, 'searching': 8140, 'crunched': 8141, 'trough': 8142, 'presentable': 8143, 'sailors': 8144, 'flour': 8145, 'straws': 8146, 'generation': 8147, 'whales': 8148, 'noticing': 8149, 'Ravens': 8150, 'biscuit': 8151, 'torn': 8152, 'stem': 8153, 'drivers': 8154, 'structures': 8155, 'parking': 8156, 'Emilda': 8157, 'softest': 8158, 'priest': 8159, 'Relax': 8160, 'beneath': 8161, 'fatter': 8162, 'joy': 8163, 'agreeing': 8164, 'harmful': 8165, 'forgetting': 8166, 'Oh': 8167, 'firmly': 8168, 'chilli': 8169, 'kingdom': 8170, 'grandparents': 8171, 'commissions': 8172, 'clues': 8173, 'office': 8174, 'Disobeying': 8175, 'wetness': 8176, 'watermelon': 8177, 'Yeah': 8178, 'better': 8179, 'cob': 8180, 'panicking': 8181, 'pinches': 8182, 'student': 8183, 'stuck': 8184, 'plow': 8185, 'notcied': 8186, 'clearly': 8187, 'forgiving': 8188, 'toilet': 8189, 'boomed': 8190, 'quarters': 8191, 'explosion': 8192, 'Ten': 8193, 'compromise': 8194, 'Stopppp': 8195, 'chasing': 8196, 'twisting': 8197, 'buys': 8198, 'fifty': 8199, 'symbol': 8200, 'clumsily': 8201, 'Hold': 8202, 'ringed': 8203, 'Earlier': 8204, 'Don': 8205, 'opportunities': 8206, 'Chantelle': 8207, 'employee': 8208, 'locking': 8209, 'bowl': 8210, 'tirelessly': 8211, 'introduced': 8212, 'reassuringly': 8213, 'YOU': 8214, 'guarding': 8215, 'Minus': 8216, 'pothole': 8217, 'volunteered': 8218, 'Load': 8219, 'signed': 8220, 'past': 8221, 'costume': 8222, 'Golden': 8223, 'Mindy': 8224, 'B': 8225, 'bleat': 8226, 'designs': 8227, 'sneakily': 8228, 'come': 8229, 'trumpets': 8230, 'Benson': 8231, 'Rubbing': 8232, 'patio': 8233, 'sneezy': 8234, 'Betsie': 8235, 'panic': 8236, 'To': 8237, 'cares': 8238, 'Ruthie': 8239, 'Motor': 8240, 'Flammable': 8241, 'souvenir': 8242, 'divided': 8243, 'shrug': 8244, 'folk': 8245, 'Wonder': 8246, 'scraping': 8247, 'Grandad': 8248, 'skin': 8249, 'plain': 8250, 'succeed': 8251, 'Listening': 8252, 'ranger': 8253, 'wilderness': 8254, 'Dusty': 8255, 'remind': 8256, 'goal': 8257, 'bounces': 8258, 'brows': 8259, 'chose': 8260, 'glory': 8261, 'pigs': 8262, 'Wonderland': 8263, 'this': 8264, 'turkeys': 8265, 'up': 8266, 'ant': 8267, 'sunscreen': 8268, 'gleam': 8269, 'swept': 8270, 'allright': 8271, 'solid': 8272, 'silent': 8273, 'cousins': 8274, 'weaved': 8275, 'removed': 8276, 'scribble': 8277, 'walked': 8278, 'screeching': 8279, 'badly': 8280, 'wizards': 8281, 'powers': 8282, 'automobiles': 8283, 'shake': 8284, 'Speedy': 8285, 'nurse': 8286, 'biking': 8287, 'Africa': 8288, 'been': 8289, 'convincing': 8290, 'mosaic': 8291, 'cherish': 8292, 'carriages': 8293, 'bellies': 8294, 'heaviest': 8295, 'hugged': 8296, 'generations': 8297, 'sleepy': 8298, 'Annas': 8299, 'Tommy': 8300, 'experienced': 8301, 'recently': 8302, 'Fireplace': 8303, 'fuller': 8304, 'purses': 8305, 'tub': 8306, 'Furry': 8307, 'sunglasses': 8308, 'antics': 8309, 'paddle': 8310, 'deader': 8311, 'doorknob': 8312, 'intervene': 8313, 'kind': 8314, 'sudden': 8315, 'Tilly': 8316, 'miserable': 8317, 'expression': 8318, 'evenings': 8319, 'Fruits': 8320, 'elders': 8321, 'unmade': 8322, 'himit': 8323, 'When': 8324, 'gut': 8325, 'dodging': 8326, 'daythat': 8327, 'Sophia': 8328, 'afloat': 8329, '.': 8330, 'bamboo': 8331, 'hadnt': 8332, 'sprouts': 8333, 'particular': 8334, 'topic': 8335, 'wrapping': 8336, 'Tori': 8337, 'dot': 8338, 'mule': 8339, 'jumble': 8340, 'said': 8341, 'correctly': 8342, 'virtue': 8343, 'charity': 8344, 'endeavoured': 8345, 'hardly': 8346, 'grouchy': 8347, 'unfortunately': 8348, 'cow': 8349, 'lawman': 8350, 'sunburn': 8351, 'winners': 8352, 'gummy': 8353, 'career': 8354, 'Bow': 8355, 'cheaper': 8356, 'enchanting': 8357, 'infamous': 8358, 'pucker': 8359, 'Wearing': 8360, 'mustard': 8361, 'softness': 8362, 'squashed': 8363, 'faces': 8364, 'Pinks': 8365, 'peeped': 8366, 'beeping': 8367, 'jaws': 8368, 'cook': 8369, 'rough': 8370, 'gentley': 8371, 'foreign': 8372, 'trying': 8373, 'Your': 8374, 'travelled': 8375, 'rising': 8376, 'shyest': 8377, 'frivolous': 8378, 'admired': 8379, 'butterfly': 8380, 'Nancy': 8381, 'amazement': 8382, 'childs': 8383, 'humor': 8384, 'plants': 8385, 'workshop': 8386, 'hit': 8387, 'pounding': 8388, 'hedge': 8389, 'magenta': 8390, 'prison': 8391, 'ceiling': 8392, 'Nature': 8393, 'Icy': 8394, 'marched': 8395, 'Petey': 8396, 'Joe': 8397, 'shop': 8398, 'routes': 8399, 'Bob': 8400, 'Jog': 8401, 'pledge': 8402, 'gloves': 8403, 'Someday': 8404, 'nest': 8405, 'Mummys': 8406, 'sweetest': 8407, 'back': 8408, 'joys': 8409, 'Rod': 8410, 'jutting': 8411, 'smoky': 8412, 'objects': 8413, 'Dive': 8414, 'Sabina': 8415, 'Chef': 8416, 'Springing': 8417, 'unknown': 8418, 'plant': 8419, 'Alison': 8420, 'burnt': 8421, 'Sweet': 8422, 'Lous': 8423, 'spectators': 8424, 'kernels': 8425, 'second': 8426, 'politeness': 8427, 'edged': 8428, 'dancers': 8429, 'parents': 8430, 'mittens': 8431, 'sobbing': 8432, 'North': 8433, 're': 8434, 'regretted': 8435, 'carrot': 8436, 'nibble': 8437, 'spoiled': 8438, 'fetching': 8439, 'necklace': 8440, 'Billys': 8441, 'clipboard': 8442, 'spoken': 8443, 'Robot': 8444, 'fragrances': 8445, 'balance': 8446, 'weirder': 8447, 'Okay': 8448, 'current': 8449, 'bush': 8450, 'Ferris': 8451, 'loser': 8452, 'Forks': 8453, 'naive': 8454, 'sure': 8455, 'able': 8456, 'puzzle': 8457, 'adventure': 8458, 'pear': 8459, 'Pig': 8460, 'complicated': 8461, 'Yolanda': 8462, 'whenever': 8463, 'brought': 8464, 'improved': 8465, 'siblings': 8466, 'excited': 8467, 'deadline': 8468, 'Lawyer': 8469, 'shield': 8470, 'heavily': 8471, 'Paula': 8472, 'Missy': 8473, 'battle': 8474, 'tightening': 8475, 'Baa': 8476, 'Eventually': 8477, 'song': 8478, 'man': 8479, 'altogether': 8480, 'room': 8481, 'bristly': 8482, 'stands': 8483, 'sacred': 8484, 'Giggling': 8485, 'meets': 8486, 'ACHOO': 8487, 'boss': 8488, 'rats': 8489, 'diamonds': 8490, 'heads': 8491, 'unbelievably': 8492, 'McQueen': 8493, 'plans': 8494, 'honked': 8495, 'queue': 8496, 'lair': 8497, 'allowing': 8498, 'dazzling': 8499, 'wonderful': 8500, 'write': 8501, 'silence': 8502, 'diaper': 8503, 'Patty': 8504, 'pleased': 8505, 'Over': 8506, 'fantastic': 8507, 'Margo': 8508, 'dryer': 8509, 'cleverly': 8510, 'layed': 8511, 'moon': 8512, 'staff': 8513, 'companion': 8514, 'worrying': 8515, 'Christmas': 8516, 'forbade': 8517, 'Special': 8518, 'whoever': 8519, 'warmness': 8520, 'Rex': 8521, 'fired': 8522, 'Uncles': 8523, 'Asked': 8524, 'age': 8525, 'shadows': 8526, 'instinct': 8527, 'whack': 8528, 'soaking': 8529, 'Second': 8530, 'uneasy': 8531, 'dressed': 8532, 'magical': 8533, 'tightly': 8534, 'Really': 8535, 'enthusiastically': 8536, 'Ocean': 8537, 'celebration': 8538, 'pitch': 8539, 'spew': 8540, 'unforgettable': 8541, 'Mae': 8542, 'themselves': 8543, 'smelling': 8544, 'when': 8545, 'coffee': 8546, 'rat': 8547, 'red': 8548, 'traversed': 8549, 'swimmer': 8550, 'electric': 8551, 'socket': 8552, 'swarming': 8553, 'Sabrina': 8554, 'list': 8555, 'urged': 8556, 'scary': 8557, 'Tell': 8558, 'Upstairs': 8559, 'dreams': 8560, 'dumb': 8561, 'covering': 8562, 'bandage': 8563, 'squinting': 8564, 'concoction': 8565, 'fitted': 8566, 'Wake': 8567, 'arc': 8568, 'churned': 8569, 'Tinkle': 8570, 'prays': 8571, 'fine': 8572, 'Chewing': 8573, 'examined': 8574, 'dreaming': 8575, 'Swinging': 8576, 'hold': 8577, 'scientist': 8578, 'centimeters': 8579, 'Gradually': 8580, 'Luna': 8581, 'inevitably': 8582, 'energetically': 8583, 'sensible': 8584, 'mornings': 8585, 'BING': 8586, 'skipathon': 8587, 'flowers': 8588, 'runner': 8589, 'patch': 8590, 'laughs': 8591, 'pleadingly': 8592, 'dock': 8593, 'tone': 8594, 'cruelly': 8595, 'blended': 8596, 'Cafe': 8597, 'pup': 8598, 'Sad': 8599, 'umbrella': 8600, 'excluding': 8601, 'coal': 8602, 'discovery': 8603, 'steel': 8604, 'discoveries': 8605, 'Jones': 8606, 'emotional': 8607, 'towns': 8608, 'ambition': 8609, 'mysterious': 8610, 'edge': 8611, 'Foxes': 8612, 'Grab': 8613, 'wary': 8614, 'Kin': 8615, 'relalized': 8616, 'lonely': 8617, 'Ali': 8618, 'caves': 8619, 'wheelbarrow': 8620, 'alerting': 8621, 'ignore': 8622, 'balding': 8623, 'growled': 8624, 'YUCK': 8625, 'cleanest': 8626, 'thermometer': 8627, 'Simmy': 8628, 'puzzlw': 8629, 'spent': 8630, 'tracking': 8631, 'opera': 8632, 'noted': 8633, 'shutting': 8634, 'mast': 8635, 'find': 8636, 'wow': 8637, 'Sister': 8638, 'foamed': 8639, 'wind': 8640, 'arrive': 8641, 'grunting': 8642, 'furniture': 8643, 'cheap': 8644, 'Hang': 8645, 'saluted': 8646, 'goalkeeper': 8647, 'pelted': 8648, 'Deal': 8649, 'complements': 8650, 'sew': 8651, 'But': 8652, 'Bossy': 8653, 'kangaroo': 8654, 'rabbits': 8655, 'getting': 8656, 'package': 8657, 'badge': 8658, 'C': 8659, 'perhaps': 8660, 'checks': 8661, 'boop': 8662, 'Kay': 8663, 'balancing': 8664, 'complaining': 8665, 'grilling': 8666, 'batting': 8667, 'blur': 8668, 'roughness': 8669, 'grinning': 8670, 'mooing': 8671, 'released': 8672, 'homewards': 8673, 'dusk': 8674, 'than': 8675, 'sermon': 8676, 'molded': 8677, 'foamy': 8678, 'fox': 8679, 'Bonnie': 8680, 'Sheets': 8681, 'cries': 8682, 'compassionate': 8683, 'misbehave': 8684, 'retying': 8685, 'skips': 8686, 'Dr': 8687, 'Tough': 8688, 'Maria': 8689, 'untangling': 8690, 'Wise': 8691, 'snail': 8692, 'roast': 8693, 'rely': 8694, 'twitter': 8695, 'thanked': 8696, 'bosses': 8697, 'Cathy': 8698, 'unfurled': 8699, 'papa': 8700, 'appropriately': 8701, 'ray': 8702, 'fault': 8703, 'mold': 8704, 'bitterness': 8705, 'funnier': 8706, 'miraculous': 8707, 'uninviting': 8708, 'Maa': 8709, 'world': 8710, 'smart': 8711, 'wipe': 8712, 'owe': 8713, 'shelf': 8714, 'reminds': 8715, 'Isnt': 8716, 'sells': 8717, 'suitcases': 8718, 'kitten': 8719, 'blob': 8720, 'Phew': 8721, 'navigate': 8722, 'habit': 8723, 'napkin': 8724, 'tokens': 8725, 'myself': 8726, 'Learning': 8727, 'shuddered': 8728, 'wont': 8729, 'specifically': 8730, 'skip': 8731, 'cuddled': 8732, 'considered': 8733, 'halved': 8734, 'pain': 8735, 'asking': 8736, 'trudging': 8737, 'bullets': 8738, 'grin': 8739, 'Carrots': 8740, 'embarrassed': 8741, 'plains': 8742, 'stethoscope': 8743, 'book': 8744, 'clowning': 8745, 'hop': 8746, 'pets': 8747, 'throughout': 8748, 'sound': 8749, 'capped': 8750, 'gates': 8751, 'fluffy': 8752, 'Baby': 8753, 'Millie': 8754, 'meanness': 8755, 'Mmmm': 8756, 'observing': 8757, 'Idy': 8758, 'void': 8759, 'pool': 8760, 'Cake': 8761, 'Jonny': 8762, 'whisked': 8763, 'Flute': 8764, 'rejoiced': 8765, 'hesitation': 8766, 'cricket': 8767, 'tricked': 8768, 'handkerchief': 8769, 'Abi': 8770, 'clambering': 8771, 'Though': 8772, 'Seagull': 8773, 'footprints': 8774, 'city': 8775, 'Muy': 8776, 'sunny': 8777, 'pattern': 8778, 'hallways': 8779, 'territory': 8780, 'buck': 8781, 'hose': 8782, 'vase': 8783, 'Pinchy': 8784, 'centipede': 8785, 'apples': 8786, 'Explained': 8787, 'materials': 8788, 'broken': 8789, 'growl': 8790, 'bumpers': 8791, 'Sweety': 8792, 'lizards': 8793, 'pilots': 8794, 'consoled': 8795, 'leather': 8796, 'loosened': 8797, 'dink': 8798, 'celebrate': 8799, 'weekends': 8800, 'leapt': 8801, 'Luckily': 8802, 'Hank': 8803, 'fisher': 8804, 'shortly': 8805, 'pockets': 8806, 'plummeted': 8807, 'Wanting': 8808, 'transform': 8809, 'starfish': 8810, 'poke': 8811, 'Nathan': 8812, 'donkey': 8813, 'Ana': 8814, 'matey': 8815, 'doggie': 8816, 'Crane': 8817, 'announcement': 8818, 'Shuffle': 8819, 'spears': 8820, 'cornfield': 8821, 'seat': 8822, 'Roaring': 8823, 'Careful': 8824, 'means': 8825, 'grazing': 8826, 'Grump': 8827, 'key': 8828, 'Wear': 8829, 'underneath': 8830, 'combinations': 8831, 'eager': 8832, 'tin': 8833, 'boosted': 8834, 'react': 8835, 'graze': 8836, 'polishes': 8837, 'swirled': 8838, 'fireman': 8839, 'funniest': 8840, 'Swimming': 8841, 'shoelace': 8842, 'beg': 8843, 'strange': 8844, 'runnning': 8845, 'curved': 8846, 'distract': 8847, 'marked': 8848, 'thePainter': 8849, 'Lea': 8850, 'Vroom': 8851, 'nods': 8852, 'disrespectful': 8853, 'or': 8854, 'Jen': 8855, 'spin': 8856, 'views': 8857, 'twirling': 8858, 'twigs': 8859, 'knocked': 8860, 'deflated': 8861, 'simmer': 8862, 'call': 8863, 'conclusion': 8864, 'useless': 8865, 'recovery': 8866, 'gemstone': 8867, 'joking': 8868, 'crawly': 8869, 'entertain': 8870, 'flier': 8871, 'hint': 8872, 'president': 8873, 'Wiggles': 8874, 'awkwardly': 8875, 'winters': 8876, 'provisions': 8877, 'tune': 8878, 'easily': 8879, 'controlled': 8880, 'compared': 8881, 'cured': 8882, 'bang': 8883, 'Wahoo': 8884, 'twice': 8885, 'stretch': 8886, 'polluted': 8887, 'whee': 8888, 'aeroplanes': 8889, 'takin': 8890, 'backward': 8891, 'Their': 8892, 'teach': 8893, 'spine': 8894, 'feats': 8895, 'postbox': 8896, 'manage': 8897, 'suggestions': 8898, 'porcelain': 8899, 'hotdog': 8900, 'sharpened': 8901, 'waning': 8902, 'brighter': 8903, 'Greetings': 8904, 'crawls': 8905, 'dry': 8906, 'whispered': 8907, 'thirteen': 8908, 'Waves': 8909, 'artwork': 8910, 'koala': 8911, 'ash': 8912, 'cheapest': 8913, 'moonwalk': 8914, 'purrs': 8915, 'anyways': 8916, 'Dolphins': 8917, 'dealing': 8918, 'blackberries': 8919, 'Prince': 8920, 'neither': 8921, 'Meanwhile': 8922, 'sighed': 8923, 'engage': 8924, 'infection': 8925, 'ants': 8926, 'appears': 8927, 'thinner': 8928, 'skimmed': 8929, 'comb': 8930, 'moled': 8931, 'transformation': 8932, 'afterward': 8933, 'word': 8934, 'bud': 8935, 'Pam': 8936, 'treated': 8937, 'haven': 8938, 'so': 8939, 'uncomfy': 8940, 'flip': 8941, 'forests': 8942, 'watch': 8943, 'towards': 8944, 'praying': 8945, 'captains': 8946, 'evidence': 8947, 'Alexis': 8948, 'aprons': 8949, 'protein': 8950, 'Absolutely': 8951, 'spreads': 8952, 'mixture': 8953, 'Sid': 8954, 'lure': 8955, 'navy': 8956, 'arch': 8957, 'connected': 8958, 'Mara': 8959, 'Night': 8960, 'disheartened': 8961, 'Zeus': 8962, 'gushing': 8963, 'sessions': 8964, 'Showers': 8965, 'Peaceful': 8966, 'hundred': 8967, 'closing': 8968, 'Yippee': 8969, 'Tiara': 8970, 'aunts': 8971, 'throne': 8972, 'receives': 8973, 'fuel': 8974, 'professional': 8975, 'prepare': 8976, 'mattress': 8977, 'Whats': 8978, 'ruffled': 8979, 'Dance': 8980, 'neverland': 8981, 'smother': 8982, 'CHEER': 8983, 'shiner': 8984, 'growling': 8985, 'cloth': 8986, 'bathtub': 8987, 'successes': 8988, 'increase': 8989, 'cheeks': 8990, 'George': 8991, 'riding': 8992, 'mattresses': 8993, 'kissing': 8994, 'Toms': 8995, 'dreamt': 8996, 'Buttercup': 8997, 'paddling': 8998, 'Overall': 8999, 'Ants': 9000, 'Meadow': 9001, 'butter': 9002, 'scariness': 9003, 'shiver': 9004, 'rd': 9005, 'birdies': 9006, 'prizes': 9007, 'vacation': 9008, 'wounds': 9009, 'tosses': 9010, 'extended': 9011, 'link': 9012, 'ouchy': 9013, 'silly': 9014, 'shape': 9015, 'subside': 9016, 'sleeve': 9017, 'medium': 9018, 'knowledge': 9019, 'cheekily': 9020, 'Bouncey': 9021, 'pooch': 9022, 'fireballs': 9023, 'refuel': 9024, 'explorations': 9025, 'appointment': 9026, 'wink': 9027, 'hedgewit': 9028, 'Up': 9029, 'snorts': 9030, 'giraffes': 9031, 'hoarding': 9032, 'tumble': 9033, 'squeaky': 9034, 'Youd': 9035, 'nanny': 9036, 'request': 9037, 'cloud': 9038, 'puts': 9039, 'frail': 9040, 'colourfully': 9041, 'However': 9042, 'operations': 9043, 'rhino': 9044, 'exception': 9045, 'supporting': 9046, 'seesaws': 9047, 'afterwards': 9048, 'bruised': 9049, 'anywhere': 9050, 'cooperating': 9051, 'wondering': 9052, 'unknowingly': 9053, 'smeared': 9054, 'summertime': 9055, 'hug': 9056, 'monthly': 9057, 'lovelier': 9058, 'Together': 9059, 'returned': 9060, 'crawling': 9061, 'ankle': 9062, 'igloos': 9063, 'mosquito': 9064, 'Janie': 9065, 'Catch': 9066, 'stakes': 9067, 'football': 9068, 'puppets': 9069, 'gem': 9070, 'title': 9071, 'gain': 9072, 'juicier': 9073, 'racket': 9074, 'chirps': 9075, 'competitors': 9076, 'fate': 9077, 'forgave': 9078, 'vessel': 9079, 'Mariah': 9080, 'gymnastics': 9081, 'learning': 9082, 'further': 9083, 'knelt': 9084, 'Lenny': 9085, 'Singing': 9086, 'worn': 9087, 'doggy': 9088, 'sillyness': 9089, 'Argh': 9090, 'questioningly': 9091, 'Todd': 9092, 'rooster': 9093, 'With': 9094, ' ': 9095, 'meal': 9096, 'drifted': 9097, 'speaking': 9098, 'Marcia': 9099, 'frothy': 9100, 'morsel': 9101, 'faster': 9102, 'pages': 9103, 'members': 9104, 'Molly': 9105, 'disguising': 9106, 'whispering': 9107, 'baa': 9108, 'computers': 9109, 'invited': 9110, 'finished': 9111, 'offering': 9112, 'pound': 9113, 'attempted': 9114, 'couple': 9115, 'vine': 9116, 'Mitey': 9117, 'purchase': 9118, 'ever': 9119, 'Children': 9120, 'Gobble': 9121, 'protect': 9122, 'Theyre': 9123, 'dolly': 9124, 'Leo': 9125, 'labour': 9126, 'Otto': 9127, 'glinted': 9128, 'paddles': 9129, 'heating': 9130, 'Maddie': 9131, 'accidentally': 9132, 'scrubbing': 9133, 'Ive': 9134, 'prize': 9135, 'missed': 9136, 'teases': 9137, 'gruesome': 9138, 'outloud': 9139, 'peas': 9140, 'reversing': 9141, 'planet': 9142, 'crystal': 9143, 'Pebbles': 9144, 'planting': 9145, 'bees': 9146, 'tingling': 9147, 'sniff': 9148, 'forward': 9149, 'abilities': 9150, 'surfboard': 9151, 'Storm': 9152, 'eraser': 9153, 'buckle': 9154, 'overnight': 9155, 'Sammys': 9156, 'uncover': 9157, 'groaned': 9158, 'sprout': 9159, 'kindheartedness': 9160, 'threshold': 9161, 'Him': 9162, 'convince': 9163, 'attach': 9164, 'grand': 9165, 'Kimmy': 9166, 'Wooo': 9167, 'Terrible': 9168, 'completed': 9169, 'glaring': 9170, 'seesaw': 9171, 'Beef': 9172, 'plan': 9173, 'dough': 9174, 'swooshed': 9175, 'auntie': 9176, 'produce': 9177, 'Nora': 9178, 'Certainly': 9179, 'Wheres': 9180, 'Without': 9181, 'mellow': 9182, 'Popular': 9183, 'arranging': 9184, 'fears': 9185, 'presto': 9186, 'amazed': 9187, 'blocking': 9188, 'compare': 9189, 'stabbing': 9190, 'instincts': 9191, 'shoulders': 9192, 'grapes': 9193, 'swatter': 9194, 'priceless': 9195, 'favor': 9196, 'feed': 9197, 'pretzel': 9198, 'paramedics': 9199, 'sobitter': 9200, 'haw': 9201, 'dining': 9202, 'shrunk': 9203, 'Say': 9204, 'Think': 9205, 'Shadow': 9206, 'finally': 9207, 'ladybugs': 9208, 'Shut': 9209, 'gestured': 9210, 'exchanged': 9211, 'critters': 9212, 'goodbye': 9213, 'zips': 9214, 'outran': 9215, 'fail': 9216, 'Junewould': 9217, 'refreshing': 9218, 'determination': 9219, 'tunnel': 9220, 'Behave': 9221, 'Squeak': 9222, 'prey': 9223, 'scales': 9224, 'Enough': 9225, 'Angry': 9226, 'limps': 9227, 'stockings': 9228, 'excellent': 9229, 'jig': 9230, 'Holding': 9231, 'avoid': 9232, 'Barky': 9233, 'bigger': 9234, 'catcher': 9235, 'swords': 9236, 'waists': 9237, 'sacks': 9238, 'cuddly': 9239, 'Sauce': 9240, 'blues': 9241, 'frown': 9242, 'defend': 9243, 'nation': 9244, 'sprinted': 9245, 'framed': 9246, 'tossed': 9247, 'Strip': 9248, 'Oink': 9249, 'Contest': 9250, 'Clem': 9251, 'Panicking': 9252, 'Brooke': 9253, 'caterpillars': 9254, 'boxing': 9255, 'decrease': 9256, 'luckily': 9257, 'prayers': 9258, 'began': 9259, 'Dear': 9260, 'breaths': 9261, 'Heavy': 9262, 'sympathy': 9263, 'levers': 9264, 'drew': 9265, 'feasted': 9266, 'jail': 9267, 'struck': 9268, 'Taking': 9269, 'therefore': 9270, 'lotions': 9271, 'neigh': 9272, 'Shauna': 9273, 'Ashley': 9274, 'wide': 9275, 'furry': 9276, 'worries': 9277, 'sunnier': 9278, 'Otthers': 9279, 'wishes': 9280, 'congratulate': 9281, 'action': 9282, 'lean': 9283, 'explorer': 9284, 'howled': 9285, 'war': 9286, 'cultures': 9287, 'servant': 9288, 'pedal': 9289, 'stitching': 9290, 'Mallory': 9291, 'Jon': 9292, 'pulls': 9293, 'ALONE': 9294, 'did': 9295, 'Our': 9296, 'discovering': 9297, 'fireplaces': 9298, 'holds': 9299, 'once': 9300, 'particularly': 9301, 'folder': 9302, 'museums': 9303, 'Jeremy': 9304, 'copied': 9305, 'pruning': 9306, 'folded': 9307, 'darted': 9308, 'batter': 9309, 'coloured': 9310, 'yielding': 9311, 'rail': 9312, 'Soon': 9313, 'Summer': 9314, 'Money': 9315, 'retrace': 9316, 'Peggy': 9317, 'them': 9318, 'melodies': 9319, 'chanted': 9320, 'screens': 9321, 'smily': 9322, 'fragile': 9323, 'hamsters': 9324, 'Feel': 9325, 'quenched': 9326, 'Mosquitoes': 9327, 'backrest': 9328, 'shopped': 9329, 'kid': 9330, 'vigorously': 9331, 'Napkins': 9332, 'Swish': 9333, 'gust': 9334, 'picnicking': 9335, 'Chickens': 9336, 'cumin': 9337, 'cool': 9338, 'he': 9339, 'commanded': 9340, 'grazed': 9341, 'Banana': 9342, 'Meri': 9343, 'becoming': 9344, 'injection': 9345, 'turnip': 9346, 'pole': 9347, 'forto': 9348, 'strikes': 9349, 'Momsaid': 9350, 'treasure': 9351, 'Sweetheart': 9352, 'someones': 9353, 'disaster': 9354, 'cactuses': 9355, 'strewn': 9356, 'endured': 9357, 'shooting': 9358, 'fortunate': 9359, 'jug': 9360, 'pored': 9361, 'crashing': 9362, 'flicks': 9363, 'Doctor': 9364, 'Susan': 9365, 'boarding': 9366, 'greatest': 9367, 'parlour': 9368, 'bullies': 9369, 'Nell': 9370, 'villain': 9371, 'Melissa': 9372, 'fifth': 9373, 'taken': 9374, 'tenth': 9375, 'tidbits': 9376, 'settled': 9377, 'ladder': 9378, 'armor': 9379, 'griddle': 9380, 'heaps': 9381, 'pats': 9382, 'Sun': 9383, 'spelling': 9384, 'taught': 9385, 'volunteer': 9386, 'critter': 9387, 'sundae': 9388, 'Launch': 9389, 'Jennifer': 9390, 'practising': 9391, 'switched': 9392, 'slapped': 9393, 'Right': 9394, 'Angie': 9395, 'Rest': 9396, 'spark': 9397, 'sold': 9398, 'upwards': 9399, 'whipped': 9400, 'halves': 9401, 'hershe': 9402, 'painful': 9403, 'quickly': 9404, 'instrument': 9405, 'bookstore': 9406, 'stitches': 9407, 'protection': 9408, 'training': 9409, 'security': 9410, 'somehow': 9411, 'greasy': 9412, 'assigned': 9413, 'nostrils': 9414, 'outsite': 9415, 'panels': 9416, 'perspective': 9417, 'starlight': 9418, 'mud': 9419, 'vanishing': 9420, 'assured': 9421, 'creature': 9422, 'pat': 9423, 'frustrating': 9424, 'belt': 9425, 'Cookies': 9426, 'chip': 9427, 'epic': 9428, 'despite': 9429, 'paradise': 9430, 'kept': 9431, 'blossoms': 9432, 'Source': 9433, 'admitted': 9434, 'Coffee': 9435, 'nonetheless': 9436, 'serene': 9437, 'hurdles': 9438, 'temples': 9439, 'operating': 9440, 'plate': 9441, 'sweetly': 9442, 'Minerals': 9443, 'generosity': 9444, 'Lila': 9445, 'brightness': 9446, 'abandoned': 9447, 'blossoming': 9448, 'sticks': 9449, 'tied': 9450, 'crowd': 9451, 'Amazed': 9452, 'Evan': 9453, 'shoot': 9454, 'Both': 9455, 'Reaching': 9456, 'restoring': 9457, 'expensive': 9458, 'erased': 9459, 'claimed': 9460, 'Fair': 9461, 'squirt': 9462, 'judges': 9463, 'Pass': 9464, 'apologize': 9465, 'submerged': 9466, 'walkie': 9467, 'curry': 9468, 'makes': 9469, 'shooing': 9470, 'Bravo': 9471, 'weighing': 9472, 'lighters': 9473, 'chimneys': 9474, 'pays': 9475, 'quarrels': 9476, 'Giant': 9477, 'deeply': 9478, 'gardening': 9479, 'Apologize': 9480, 'Bens': 9481, 'Sunflower': 9482, 'bonding': 9483, 'Sitting': 9484, 'bathrobe': 9485, 'gentle': 9486, 'just': 9487, 'assist': 9488, 'washcloth': 9489, 'challenged': 9490, 'heels': 9491, 'restarted': 9492, 'placing': 9493, 'cooks': 9494, 'robot': 9495, 'grows': 9496, 'overflowed': 9497, 'view': 9498, 'paws': 9499, 'Riding': 9500, 'ke': 9501, 'wood': 9502, 'frustration': 9503, 'sadder': 9504, 'cheek': 9505, 'injuries': 9506, 'barracks': 9507, 'pointing': 9508, 'accusing': 9509, 'ornaments': 9510, 'shrieked': 9511, 'trailer': 9512, 'Mia': 9513, 'superstar': 9514, 'tropical': 9515, 'wobble': 9516, 'stomp': 9517, 'Frantically': 9518, 'togo': 9519, 'litttle': 9520, 'team': 9521, 'hints': 9522, 'Gills': 9523, 'public': 9524, 'begged': 9525, 'rind': 9526, 'instant': 9527, 'Rise': 9528, 'drooping': 9529, 'proceeding': 9530, 'wakes': 9531, 'delivery': 9532, 'math': 9533, 'thimble': 9534, 'delicate': 9535, 'observed': 9536, 'cliffs': 9537, 'flowed': 9538, 'Pens': 9539, 'blocks': 9540, 'Hannah': 9541, 'steep': 9542, 'Kaaaw': 9543, 'favorites': 9544, 'shouldn': 9545, 'tablecloth': 9546, 'cranky': 9547, 'braced': 9548, 'ogre': 9549, 'Farmer': 9550, 'victor': 9551, 'yowled': 9552, 'G': 9553, 'wove': 9554, 'balancer': 9555, 'design': 9556, 'Louisa': 9557, 'leaped': 9558, 'bland': 9559, 'wagons': 9560, 'Angered': 9561, 'postman': 9562, 'bulldozer': 9563, 'stump': 9564, 'image': 9565, 'Brilliant': 9566, 'biscuits': 9567, 'Magnets': 9568, 'arches': 9569, 'bicker': 9570, 'jacket': 9571, 'wills': 9572, 'fixing': 9573, 'amount': 9574, 'buckles': 9575, 'everywhere': 9576, 'behaviour': 9577, 'beside': 9578, 'also': 9579, 'barked': 9580, 'begging': 9581, 'constructing': 9582, 'practicig': 9583, 'arrested': 9584, 'Comfortably': 9585, 'blackberry': 9586, 'childhood': 9587, 'finds': 9588, 'Lola': 9589, 'Harriet': 9590, 'Friendship': 9591, 'antennae': 9592, 'flowerbed': 9593, 'motel': 9594, 'hips': 9595, 'Pat': 9596, 'cabbage': 9597, 'honesty': 9598, 'Gloria': 9599, 'Lina': 9600, 'sweat': 9601, 'utmost': 9602, 'hockey': 9603, 'accomplished': 9604, 'We': 9605, 'layer': 9606, 'mug': 9607, 'heavens': 9608, 'flick': 9609, 'eyepiece': 9610, 'ladybug': 9611, 'documents': 9612, 'models': 9613, 'duster': 9614, 'spooked': 9615, 'His': 9616, 'Nevertheless': 9617, 'requests': 9618, 'fences': 9619, 'skilled': 9620, 'click': 9621, 'Janet': 9622, 'silk': 9623, 'Sandys': 9624, 'kangaroos': 9625, 'unpacked': 9626, 'Lesson': 9627, 'plucked': 9628, 'Comet': 9629, 'repairs': 9630, 'vain': 9631, 'waves': 9632, 'pins': 9633, 'brilliantly': 9634, 'travel': 9635, 'spinning': 9636, 'brush': 9637, 'fallen': 9638, 'opened': 9639, 'flickering': 9640, 'dashing': 9641, 'highest': 9642, 'flooded': 9643, 'crumb': 9644, 'Woo': 9645, 'swell': 9646, 'Wisdom': 9647, 'Frustrated': 9648, 'pouted': 9649, 'seasoning': 9650, 'latest': 9651, 'Miserable': 9652, 'nearly': 9653, 'Peter': 9654, 'At': 9655, 'honk': 9656, 'flopping': 9657, 'chipmunk': 9658, 'Rita': 9659, 'guessing': 9660, 'circling': 9661, 'Perhaps': 9662, 'leads': 9663, 'resurfaced': 9664, 'uncle': 9665, 'thunderstorms': 9666, 'feedback': 9667, 'gentler': 9668, 'letting': 9669, 'jams': 9670, 'Flag': 9671, 'creeping': 9672, 'No': 9673, 'affordable': 9674, 'Andy': 9675, 'invitation': 9676, 'jogged': 9677, 'swimsuits': 9678, 'Things': 9679, 'eater': 9680, 'mightiness': 9681, 'Maddys': 9682, 'kneeled': 9683, 'Jessica': 9684, 'Afraid': 9685, 'Hoot': 9686, 'pokes': 9687, 'curb': 9688, 'together': 9689, 'surefooted': 9690, 'Isabelle': 9691, 'tinkle': 9692, 'Milo': 9693, 'liked': 9694, 'about': 9695, 'lemon': 9696, 'figuring': 9697, 'Wave': 9698, 'eighteen': 9699, 'allergic': 9700, 'carts': 9701, 'indluded': 9702, 'appealing': 9703, 'heron': 9704, 'score': 9705, 'flipping': 9706, 'Cherry': 9707, 'minus': 9708, 'Boom': 9709, 'Carefully': 9710, 'cuddles': 9711, 'tolerate': 9712, 'armour': 9713, 'robbers': 9714, 'agree': 9715, 'Jolly': 9716, 'Elsa': 9717, 'lace': 9718, 'terrifying': 9719, 'lumberjack': 9720, 'jigsaw': 9721, 'chomping': 9722, 'museum': 9723, 'barn': 9724, 'ticklish': 9725, 'commitments': 9726, 'hundreds': 9727, 'area': 9728, 'Namaste': 9729, 'dolphins': 9730, 'unity': 9731, 'HAPPY': 9732, 'meet': 9733, 'lovely': 9734, 'lantern': 9735, 'protector': 9736, 'Wormy': 9737, 'Jim': 9738, 'tank': 9739, 'parrot': 9740, 'motorbike': 9741, 'shirts': 9742, 'sore': 9743, 'parts': 9744, 'persons': 9745, 'metal': 9746, 'ice': 9747, 'Caw': 9748, 'hi': 9749, 'proved': 9750, 'pinker': 9751, 'projecter': 9752, 'sunrises': 9753, 'munch': 9754, 'Jodie': 9755, 'warming': 9756, 'luck': 9757, 'incident': 9758, 'bakeries': 9759, 'ashes': 9760, 'fishes': 9761, 'mean': 9762, 'motor': 9763, 'Faucet': 9764, 'mesmerized': 9765, 'Ask': 9766, 'attraction': 9767, 'cloths': 9768, 'sell': 9769, 'sighting': 9770, 'detour': 9771, 'Twinkle': 9772, 'Catley': 9773, 'wither': 9774, 'mosquitoes': 9775, 'finishing': 9776, 'repeatedly': 9777, 'bring': 9778, 'greed': 9779, 'dismayed': 9780, 'Talia': 9781, 'Bugs': 9782, 'Melon': 9783, 'strong': 9784, 'beard': 9785, 'cried': 9786, 'rope': 9787, 'mess': 9788, 'courtiers': 9789, 'fool': 9790, 'builders': 9791, 'clump': 9792, 'Whos': 9793, 'journeys': 9794, 'l': 9795, 'closeby': 9796, 'greeting': 9797, 'zookeeper': 9798, 'Dragons': 9799, 'tasting': 9800, 'referee': 9801, 'tongue': 9802, 'healthier': 9803, 'involves': 9804, 'ungrateful': 9805, 'braid': 9806, 'forwards': 9807, 'suitcase': 9808, 'roughly': 9809, 'RIBBON': 9810, 'extinguished': 9811, 'orthopedic': 9812, 'savored': 9813, 'boiled': 9814, 'Oysters': 9815, 'scaredy': 9816, 'handy': 9817, 'wine': 9818, 'caterpillar': 9819, 'enchanted': 9820, 'sewing': 9821, 'marbles': 9822, 'structure': 9823, 'huts': 9824, 'lurking': 9825, 'stained': 9826, 'compromised': 9827, 'member': 9828, 'burners': 9829, 'admiration': 9830, 'cashier': 9831, 'buckled': 9832, 'foreshadowed': 9833, 'Marley': 9834, 'grime': 9835, 'itchier': 9836, 'Lil': 9837, 'preheated': 9838, 'Carol': 9839, 'blessing': 9840, 'Beautiful': 9841, 'kinder': 9842, 'true': 9843, 'gather': 9844, 'heats': 9845, 'squints': 9846, 'negative': 9847, 'Sweat': 9848, 'chuckle': 9849, 'treetop': 9850, 'motorcycle': 9851, 'amends': 9852, 'banged': 9853, 'beaker': 9854, 'beam': 9855, 'cartoons': 9856, 'vibrations': 9857, 'Mmmmm': 9858, 'Claire': 9859, 'heated': 9860, 'discovered': 9861, 'Cricket': 9862, 'mysteries': 9863, 'appreciative': 9864, 'impressively': 9865, 'king': 9866, 'surprisingly': 9867, 'listen': 9868, 'spanked': 9869, 'zooming': 9870, 'crickets': 9871, 'Ostriches': 9872, 'raindrop': 9873, 'polishing': 9874, 'cabinets': 9875, 'real': 9876, 'leaky': 9877, 'glanced': 9878, 'apologized': 9879, 'bout': 9880, 'trucks': 9881, 'guesses': 9882, 'web': 9883, 'Amber': 9884, 'pleasures': 9885, 'zippered': 9886, 'director': 9887, 'achy': 9888, 'breaking': 9889, 'unzipped': 9890, 'banded': 9891, 'Hoppy': 9892, 'seventeen': 9893, 'Timmy': 9894, 'allergens': 9895, 'roof': 9896, 'beamed': 9897, 'taste': 9898, 'happening': 9899, 'licked': 9900, 'hasty': 9901, 'congregating': 9902, 'Almost': 9903, 'bittersweet': 9904, 'potato': 9905, 'printer': 9906, 'Touched': 9907, 'Spain': 9908, 'agreed': 9909, 'gladly': 9910, 'parlor': 9911, 'scrumptious': 9912, 'dig': 9913, 'were': 9914, 'remaining': 9915, 'circles': 9916, 'prayings': 9917, 'Rickys': 9918, 'squabbling': 9919, 'mattered': 9920, 'somebodys': 9921, 'hoppy': 9922, 'Ignore': 9923, 'ear': 9924, 'outrageous': 9925, 'help': 9926, 'goat': 9927, 'Work': 9928, 'smooth': 9929, 'bothered': 9930, 'lastly': 9931, 'lens': 9932, 'sport': 9933, 'poems': 9934, 'wicked': 9935, 'Gertrude': 9936, 'strengthened': 9937, 'Wavy': 9938, 'snake': 9939, 'Ooh': 9940, 'fashion': 9941, 'Jay': 9942, 'stamping': 9943, 'forest': 9944, 'spewed': 9945, 'texture': 9946, 'Max': 9947, 'detected': 9948, 'cereal': 9949, 'coupon': 9950, 'surfed': 9951, 'jailed': 9952, 'hoo': 9953, 'Wonderful': 9954, 'Jonas': 9955, 'trembling': 9956, 'tweeted': 9957, 'Anyone': 9958, 'tribes': 9959, 'reminding': 9960, 'Story': 9961, 'performers': 9962, 'toilets': 9963, 'Stan': 9964, 'hadn': 9965, 'panel': 9966, 'organize': 9967, 'intrigued': 9968, 'designer': 9969, 'owned': 9970, 'curves': 9971, 'storyteller': 9972, 'whooshing': 9973, 'Pirate': 9974, 'Duke': 9975, 'Dolls': 9976, 'guns': 9977, 'musical': 9978, 'inched': 9979, 'elderly': 9980, 'Sam': 9981, 'expedition': 9982, 'Yogurt': 9983, 'playin': 9984, 'babys': 9985, 'dose': 9986, 'Coo': 9987, 'rag': 9988, 'learn': 9989, 'greens': 9990, 'wrapped': 9991, 'baaaa': 9992, 'intended': 9993, 'buoy': 9994, 'trot': 9995, 'Pop': 9996, 'newspaper': 9997, 'Stones': 9998, 'quick': 9999, 'independent': 10000, 'plump': 10001, 'Player': 10002, 'destroying': 10003, 'Connies': 10004, 'split': 10005, 'trolley': 10006, 'donate': 10007, 'shame': 10008, 'huff': 10009, 'bearings': 10010, 'videos': 10011, 'inquired': 10012, 'prunes': 10013, 'sketching': 10014, 'planned': 10015, 'spank': 10016, 'named': 10017, 'storybook': 10018, 'possessions': 10019, 'see': 10020, 'rushing': 10021, 'led': 10022, 'trainers': 10023, 'Ivan': 10024, 'wags': 10025, 'mouths': 10026, 'sternly': 10027, 'orchard': 10028, 'frighten': 10029, 'kisses': 10030, 'shelves': 10031, 'Sita': 10032, 'doctor': 10033, 'sixty': 10034, 'hoisted': 10035, 'racecar': 10036, 'clear': 10037, 'isn': 10038, 'repair': 10039, 'sprouting': 10040, 'elephant': 10041, 'scream': 10042, 'astonishing': 10043, 'crisps': 10044, 'Prom': 10045, 'thumps': 10046, 'Clean': 10047, 'moons': 10048, 'glittered': 10049, 'color': 10050, 'yogurt': 10051, 'courageous': 10052, 'Nevermind': 10053, 'dare': 10054, 'campsite': 10055, 'landing': 10056, 'Helping': 10057, 'Tasting': 10058, 'typing': 10059, 'savor': 10060, 'doubted': 10061, 'astronaut': 10062, 'Truth': 10063, 'Sort': 10064, 'Cactus': 10065, 'does': 10066, 'licks': 10067, 'comforting': 10068, 'Towels': 10069, 'surgery': 10070, 'bandaged': 10071, 'officers': 10072, 'hear': 10073, 'pharmacy': 10074, 'smarter': 10075, 'LOVE': 10076, 'escaped': 10077, 'exit': 10078, 'pretty': 10079, 'whistle': 10080, 'inching': 10081, 'triumph': 10082, 'Moo': 10083, 'habitats': 10084, 'covers': 10085, 'Mickey': 10086, 'canary': 10087, 'sipping': 10088, 'starts': 10089, 'Garry': 10090, 'motivated': 10091, 'patter': 10092, 'accomplishment': 10093, 'budging': 10094, 'ME': 10095, 'pulse': 10096, 'Resting': 10097, 'journey': 10098, 'Drew': 10099, 'sleepier': 10100, 'wetsuits': 10101, 'unfamiliarity': 10102, 'Andrew': 10103, 'Jump': 10104, 'gobbling': 10105, 'blown': 10106, 'steal': 10107, 'involve': 10108, 'firemen': 10109, 'experiencing': 10110, 'mist': 10111, 'weed': 10112, 'holiday': 10113, 'Dream': 10114, 'realize': 10115, 'firework': 10116, 'accurately': 10117, 'swap': 10118, 'emerged': 10119, 'favourite': 10120, 'trundled': 10121, 'Farms': 10122, 'thrive': 10123, 'aced': 10124, 'Doesn': 10125, 'chalks': 10126, 'flag': 10127, 'stressed': 10128, 'Lilys': 10129, 'Lou': 10130, 'Clever': 10131, 'wolfs': 10132, 'spirit': 10133, 'irreplaceable': 10134, 'attract': 10135, 'weighs': 10136, 'slides': 10137, 'Tuesdays': 10138, 'Shawn': 10139, 'absolutely': 10140, 'yawned': 10141, 'meowing': 10142, 'steadily': 10143, 'tightened': 10144, 'leave': 10145, 'bracelet': 10146, 'Rabbit': 10147, 'serious': 10148, 'Sunbathing': 10149, 'begins': 10150, 'desperate': 10151, 'oblige': 10152, 'teams': 10153, 'understands': 10154, 'snarling': 10155, 'old': 10156, 'trusted': 10157, 'historical': 10158, 'Steak': 10159, 'scratched': 10160, 'theyd': 10161, 'streamers': 10162, 'rosy': 10163, 'whooped': 10164, 'ripest': 10165, 'buckets': 10166, 'Sora': 10167, 'dancing': 10168, 'Was': 10169, 'disorganized': 10170, 'enjoyable': 10171, 'forts': 10172, 'Harper': 10173, \"'\": 10174, 'toed': 10175, 'praised': 10176, 'thoughtfulness': 10177, 'shields': 10178, 'twirl': 10179, 'disappear': 10180, 'Susie': 10181, 'princess': 10182, 'fully': 10183, 'Tweety': 10184, 'memorable': 10185, 'flavored': 10186, 'bravado': 10187, 'zipped': 10188, 'weigh': 10189, 'Rosemary': 10190, 'dokey': 10191, 'Whistling': 10192, 'ducked': 10193, 'Louise': 10194, 'Hairy': 10195, 'including': 10196, 'mommies': 10197, 'quiet': 10198, 'gliders': 10199, 'lucky': 10200, 'initial': 10201, 'sixteen': 10202, 'being': 10203, 'strut': 10204, 'clack': 10205, 'swims': 10206, 'shimmering': 10207, 'woody': 10208, 'displease': 10209, 'cube': 10210, 'Son': 10211, 'sandy': 10212, 'rummaging': 10213, 'voted': 10214, 'Simmi': 10215, 'Am': 10216, 'fire': 10217, 'beliefs': 10218, 'Dinner': 10219, 'otters': 10220, 'Kaitlyn': 10221, 'safest': 10222, 'Tuna': 10223, 'Invitation': 10224, 'flags': 10225, 'Jojo': 10226, 'permitted': 10227, 'greater': 10228, 'toured': 10229, 'Magic': 10230, 'afford': 10231, 'dearly': 10232, 'Brain': 10233, 'driver': 10234, 'Poppy': 10235, 'combed': 10236, 'festivals': 10237, 'oat': 10238, 'is': 10239, 'andJim': 10240, 'lands': 10241, 'reassurance': 10242, 'ships': 10243, 'computer': 10244, 'wing': 10245, 'cocked': 10246, 'stubbornness': 10247, 'ingredient': 10248, 'awaiting': 10249, 'hotter': 10250, 'saying': 10251, 'shoe': 10252, 'rags': 10253, 'bumped': 10254, 'sundown': 10255, 'AA': 10256, 'toothbrush': 10257, 'appropriate': 10258, 'loves': 10259, 'Who': 10260, 'guiltily': 10261, 'rule': 10262, 'Sundays': 10263, 'promise': 10264, 'tells': 10265, 'flung': 10266, 'Of': 10267, 'hunters': 10268, 'porridge': 10269, 'Humble': 10270, 'yelped': 10271, 'stuff': 10272, 'rises': 10273, 'oops': 10274, 'raced': 10275, 'conversation': 10276, 'cursed': 10277, 'try': 10278, 'chins': 10279, 'tries': 10280, 'Lizzis': 10281, 'announced': 10282, 'four': 10283, 'pouncing': 10284, 'chugging': 10285, 'sway': 10286, 'Lamps': 10287, 'distracted': 10288, 'newer': 10289, 'photographer': 10290, 'guard': 10291, 'Jan': 10292, 'day': 10293, 'goose': 10294, 'Rosie': 10295, 'Turt': 10296, 'Stretch': 10297, 'parachutes': 10298, 'Danger': 10299, 'gloomy': 10300, 'shiniest': 10301, 'pulp': 10302, 'enter': 10303, 'Fairy': 10304, 'lend': 10305, 'Remy': 10306, 'revive': 10307, 'perch': 10308, 'buses': 10309, 'reflected': 10310, 'graceful': 10311, 'salad': 10312, 'Mums': 10313, 'V': 10314, 'Welcome': 10315, 'bear': 10316, 'launch': 10317, 'News': 10318, 'empty': 10319, 'pals': 10320, 'cutting': 10321, 'dives': 10322, 'Mackenzie': 10323, 'grumbly': 10324, 'strongso': 10325, 'the': 10326, 'Daddy': 10327, 'Gigi': 10328, 'Zero': 10329, 'cleaning': 10330, 'Dog': 10331, 'Russel': 10332, 'flight': 10333, 'fairies': 10334, 'scavenging': 10335, 'law': 10336, 'Lizzy': 10337, 'became': 10338, 'scare': 10339, 'paid': 10340, 'tidied': 10341, 'spectacle': 10342, 'ponytails': 10343, 'questions': 10344, 'stall': 10345, 'Amazing': 10346, 'sprinklers': 10347, 'magazine': 10348, 'gurgled': 10349, 'Dave': 10350, 'peeked': 10351, 'loose': 10352, 'reeds': 10353, 'vegetable': 10354, 'calls': 10355, 'grabs': 10356, 'snached': 10357, 'underground': 10358, 'theater': 10359, 'willingness': 10360, 'speaker': 10361, 'plaything': 10362, 'locate': 10363, 'dollop': 10364, 'singers': 10365, 'wave': 10366, 'Lena': 10367, 'mail': 10368, 'handcuffs': 10369, 'casting': 10370, 'These': 10371, 'Maisy': 10372, 'TVs': 10373, 'educational': 10374, 'greatness': 10375, 'question': 10376, 'W': 10377, 'safely': 10378, 'garlic': 10379, 'bridle': 10380, 'bed': 10381, 'brushing': 10382, 'Whee': 10383, 'fumble': 10384, 'flyed': 10385, 'dials': 10386, 'seashell': 10387, 'Novels': 10388, 'raven': 10389, 'Stay': 10390, 'makeup': 10391, 'Sal': 10392, 'flew': 10393, 'Then': 10394, 'islands': 10395, 'watches': 10396, 'feared': 10397, 'saws': 10398, 'sand': 10399, 'scruffy': 10400, 'tiled': 10401, 'handlebar': 10402, 'Stars': 10403, 'ashamed': 10404, 'sampled': 10405, 'chips': 10406, 'human': 10407, 'market': 10408, 'Mama': 10409, 'respectful': 10410, 'emails': 10411, 'bicycle': 10412, 'choosing': 10413, 'log': 10414, 'blinked': 10415, 'floorboards': 10416, 'receiver': 10417, 'turn': 10418, 'corrected': 10419, 'Swing': 10420, 'amongst': 10421, 'shouting': 10422, 'pumpkin': 10423, 'Nice': 10424, 'cheat': 10425, 'streaming': 10426, 'weakly': 10427, 'TRESPASSING': 10428, 'missiles': 10429, 'Pirates': 10430, 'secretly': 10431, 'achieved': 10432, 'husband': 10433, 'Listen': 10434, 'Thus': 10435, 'untied': 10436, 'Chad': 10437, 'ruffles': 10438, 'combined': 10439, 'twist': 10440, 'motioned': 10441, 'heart': 10442, 'John': 10443, 'Explain': 10444, 'chases': 10445, 'airport': 10446, 'ya': 10447, 'oils': 10448, 'Selma': 10449, 'crazier': 10450, 'life': 10451, 'cigarettes': 10452, 'crawl': 10453, 'scrapes': 10454, 'pasted': 10455, 'guiding': 10456, 'tricky': 10457, 'scariest': 10458, 'rocks': 10459, 'cache': 10460, 'wardrobe': 10461, 'survive': 10462, 'mister': 10463, 'farewell': 10464, 'banners': 10465, 'Hopper': 10466, 'tilts': 10467, 'Michelle': 10468, 'Marks': 10469, 'Upset': 10470, 'harbour': 10471, 'elder': 10472, 'own': 10473, 'disk': 10474, 'awesome': 10475, 'Discovering': 10476, 'collected': 10477, 'banks': 10478, 'quite': 10479, 'Birdy': 10480, 'arrival': 10481, 'nuzzles': 10482, 'witnessed': 10483, 'roared': 10484, 'slipped': 10485, 'reach': 10486, 'travels': 10487, 'ledge': 10488, 'clipped': 10489, 'hammered': 10490, 'Ewwww': 10491, 'Zeke': 10492, 'Ladder': 10493, 'pours': 10494, 'scrap': 10495, 'judge': 10496, 'dotted': 10497, 'woman': 10498, 'vehicles': 10499, 'dizziness': 10500, 'level': 10501, 'Whisper': 10502, 'careful': 10503, 'delicious': 10504, 'owning': 10505, 'bury': 10506, 'cameras': 10507, 'Maps': 10508, 'tapestries': 10509, 'softly': 10510, 'celebrated': 10511, 'Patricia': 10512, 'wait': 10513, 'replanted': 10514, 'quietest': 10515, 'snuggled': 10516, 'hops': 10517, 'thinks': 10518, 'band': 10519, 'Brown': 10520, 'rink': 10521, 'decided': 10522, 'matching': 10523, 'checkout': 10524, 'Gertie': 10525, 'greedily': 10526, 'disagree': 10527, 'buildings': 10528, 'appetit': 10529, 'suit': 10530, 'stuffy': 10531, 'coaxing': 10532, 'cooing': 10533, 'bait': 10534, 'board': 10535, 'rider': 10536, 'snored': 10537, 'Jaqui': 10538, 'wasting': 10539, 'loosen': 10540, 'fake': 10541, 'frightened': 10542, 'favorite': 10543, 'envelope': 10544, 'smock': 10545, 'surroundings': 10546, 'spices': 10547, 'berries': 10548, 'unwrap': 10549, 'unhooking': 10550, 'suspicious': 10551, 'supplyed': 10552, 'adventured': 10553, 'lamb': 10554, 'failing': 10555, 'yearning': 10556, 'colored': 10557, 'fin': 10558, 'Fortunately': 10559, 'pavement': 10560, 'Bessie': 10561, 'saving': 10562, 'crept': 10563, 'gaining': 10564, 'Raggie': 10565, 'unlucky': 10566, 'whistler': 10567, 'beanstalk': 10568, 'buried': 10569, 'itch': 10570, 'Spelling': 10571, 'cluck': 10572, 'kitchen': 10573, 'cowboy': 10574, 'Okey': 10575, 'pajama': 10576, 'shouldnt': 10577, 'madder': 10578, 'spelled': 10579, 'bakeshop': 10580, 'crushed': 10581, 'wriggling': 10582, 'Fake': 10583, 'longing': 10584, 'itched': 10585, 'gracefully': 10586, 'teased': 10587, 'pantry': 10588, 'deliciously': 10589, 'incredible': 10590, 'groom': 10591, 'luxurious': 10592, 'twirls': 10593, 'stretchy': 10594, 'studied': 10595, 'Fisky': 10596, 'Months': 10597, 'laid': 10598, 'Winter': 10599, 'surprise': 10600, 'Bobbys': 10601, 'collapsed': 10602, 'apologised': 10603, 'saurus': 10604, 'cowgirl': 10605, 'peacefully': 10606, 'parkand': 10607, 'youll': 10608, 'Cone': 10609, 'hoop': 10610, 'Loud': 10611, 'weave': 10612, 'talons': 10613, 'Honk': 10614, 'insult': 10615, 'Vaccines': 10616, 'quest': 10617, 'Dot': 10618, 'See': 10619, 'ventures': 10620, 'belts': 10621, 'nuts': 10622, 'spacesuit': 10623, 'seemed': 10624, 'Books': 10625, 'lending': 10626, 'fade': 10627, 'sense': 10628, 'pierced': 10629, 'encouragingly': 10630, 'raccoons': 10631, 'tying': 10632, 'maneuvered': 10633, 'elephants': 10634, 'secrecy': 10635, 'babyish': 10636, 'poison': 10637, 'gloomier': 10638, 'heed': 10639, 'windmill': 10640, 'blink': 10641, 'venture': 10642, 'previous': 10643, 'trace': 10644, 'tyrannosaurus': 10645, 'scar': 10646, 'exams': 10647, 'soaks': 10648, 'windy': 10649, 'Property': 10650, 'howl': 10651, 'passports': 10652, 'mightier': 10653, 'television': 10654, 'chili': 10655, 'bedtime': 10656, 'toasty': 10657, 'reluctant': 10658, 'shooed': 10659, 'recognizes': 10660, 'toothpaste': 10661, 'Yoga': 10662, 'Coco': 10663, 'Lisa': 10664, 'wheel': 10665, 'squawks': 10666, 'Girls': 10667, 'Tweet': 10668, 'stubbornly': 10669, 'learns': 10670, 'died': 10671, 'his': 10672, 'Wash': 10673, 'fly': 10674, 'Eva': 10675, 'known': 10676, 'Excuse': 10677, 'charcoal': 10678, 'complicate': 10679, 'Alcohol': 10680, 'Isla': 10681, 'drier': 10682, 'never': 10683, 'rude': 10684, 'flourish': 10685, 'strengths': 10686, 'Finny': 10687, 'relieved': 10688, 'option': 10689, 'Alan': 10690, 'eaten': 10691, 'fluff': 10692, 'ease': 10693, 'snapping': 10694, 'knock': 10695, 'sizzled': 10696, 'Zac': 10697, 'sour': 10698, 'Ahh': 10699, 'wake': 10700, 'Wiggly': 10701, 'gazes': 10702, 'cupboards': 10703, 'Jamie': 10704, 'smoothness': 10705, 'extra': 10706, 'sized': 10707, 'cauliflower': 10708, 'bandaid': 10709, 'Christopher': 10710, 'freeing': 10711, 'persevering': 10712, 'needle': 10713, 'apology': 10714, 'battery': 10715, 'hasn': 10716, 'shine': 10717, 'y': 10718, 'Sadly': 10719, 'disagreements': 10720, 'La': 10721, 'grew': 10722, 'chew': 10723, 'space': 10724, 'crop': 10725, 'films': 10726, 'Wealthy': 10727, 'faced': 10728, 'partying': 10729, 'youths': 10730, 'Dinosaurs': 10731, 'incorporating': 10732, 'dog': 10733, 'bouncing': 10734, 'neighbours': 10735, 'ghosts': 10736, 'lover': 10737, 'relief': 10738, 'Freeze': 10739, 'pump': 10740, 'pools': 10741, 'smooshy': 10742, 'swallows': 10743, 'ad': 10744, 'radish': 10745, 'soul': 10746, 'million': 10747, 'hair': 10748, 'Fire': 10749, 'spirits': 10750, 'tipping': 10751, 'games': 10752, 'cast': 10753, 'swapping': 10754, 'visits': 10755, 'laser': 10756, 'hike': 10757, 'Nonsense': 10758, 'Rae': 10759, 'twirled': 10760, 'joked': 10761, 'gatekeeper': 10762, 'drainpipe': 10763, 'Selfish': 10764, 'confirmed': 10765, 'enclosure': 10766, 'reduced': 10767, 'woke': 10768, 'counting': 10769, 'friends': 10770, 'leafy': 10771, 'Rock': 10772, 'Many': 10773, 'signal': 10774, 'Trudy': 10775, 'lever': 10776, 'controls': 10777, 'memories': 10778, 'bam': 10779, 'citizens': 10780, 'shoots': 10781, 'soap': 10782, 'Skipping': 10783, 'wealthy': 10784, 'choo': 10785, 'stamped': 10786, 'bookmark': 10787, 'dressing': 10788, 'portraits': 10789, 'escaping': 10790, 'windows': 10791, 'During': 10792, 'easier': 10793, 'sewn': 10794, 'created': 10795, 'paycheck': 10796, 'mantra': 10797, 'wish': 10798, 'froggy': 10799, 'hostess': 10800, 'neared': 10801, 'affect': 10802, 'mans': 10803, 'Sighing': 10804, 'halwa': 10805, 'wheeling': 10806, 'Unluckily': 10807, 'voiceit': 10808, 'Paul': 10809, 'refreshed': 10810, 'Apparently': 10811, 'Duck': 10812, 'pineapple': 10813, 'School': 10814, 'Michael': 10815, 'suited': 10816, 'sentence': 10817, 'Flower': 10818, 'ruin': 10819, 'Tino': 10820, 'flavours': 10821, 'incredibly': 10822, 'stray': 10823, 'stubborn': 10824, 'Jess': 10825, 'surviving': 10826, 'Firecat': 10827, 'shock': 10828, 'eyelids': 10829, 'improvement': 10830, 'horse': 10831, 'yelpping': 10832, 'furrowed': 10833, 'Come': 10834, 'violent': 10835, 'chicken': 10836, 'Fuel': 10837, 'bid': 10838, 'Ray': 10839, 'provided': 10840, 'Martha': 10841, 'falling': 10842, 'incomplete': 10843, 'adventurer': 10844, 'amused': 10845, 'garage': 10846, 'content': 10847, 'airplane': 10848, 'Mum': 10849, 'less': 10850, 'heard': 10851, 'collar': 10852, 'Shelter': 10853, 'Rocko': 10854, 'Cut': 10855, 'archery': 10856, 'pew': 10857, 'lily': 10858, 'remain': 10859, 'silverware': 10860, 'shower': 10861, 'coral': 10862, 'measures': 10863, 'Drinking': 10864, 'many': 10865, 'patterned': 10866, 'oh': 10867, 'depths': 10868, 'peddling': 10869, 'wizard': 10870, 'Hood': 10871, 'canopy': 10872, 'vegetables': 10873, 'rhyme': 10874, 'buttery': 10875, 'Home': 10876, 'agreement': 10877, 'pair': 10878, 'awake': 10879, 'gold': 10880, 'heavier': 10881, 'appreciation': 10882, 'sprays': 10883, 'puzzled': 10884, 'principal': 10885, 'potential': 10886, 'detail': 10887, 'toot': 10888, 'skates': 10889, 'burning': 10890, 'lick': 10891, 'barefoot': 10892, 'resumed': 10893, 'paprika': 10894, 'Value': 10895, 'beautifu': 10896, 'audience': 10897, 'effect': 10898, 'lit': 10899, 'pastries': 10900, 'crows': 10901, 'lioness': 10902, 'crisp': 10903, 'secret': 10904, 'chatty': 10905, 'spare': 10906, 'Getting': 10907, 'storms': 10908, 'ding': 10909, 'whispers': 10910, 'Soldier': 10911, 'suggests': 10912, 'crackled': 10913, 'Square': 10914, 'bobbing': 10915, 'strangest': 10916, 'represented': 10917, 'replies': 10918, 'adults': 10919, 'quicker': 10920, 'Bree': 10921, 'sniffing': 10922, 'usual': 10923, 'reunited': 10924, 'Gemma': 10925, 'wolf': 10926, 'energetic': 10927, 'soothing': 10928, 'After': 10929, 'paddock': 10930, 'licenses': 10931, 'meaning': 10932, 'Fork': 10933, 'sale': 10934, 'co': 10935, 'Bunny': 10936, 'busiest': 10937, 'acorns': 10938, 'STAY': 10939, 'spikey': 10940, 'Flowers': 10941, 'reminisce': 10942, 'warned': 10943, 'lettuce': 10944, 'shivery': 10945, 'paintings': 10946, 'ups': 10947, 'maths': 10948, 'beloved': 10949, 'Grow': 10950, 'whether': 10951, 'fist': 10952, 'rugs': 10953, 'frost': 10954, 'Janessa': 10955, 'Encouraged': 10956, 'canoe': 10957, 'Frightened': 10958, 'Lizzi': 10959, 'mothers': 10960, 'culprit': 10961, 'Limes': 10962, 'scoop': 10963, 'restored': 10964, 'afternoon': 10965, 'magpie': 10966, 'traditional': 10967, 'Henry': 10968, 'snatches': 10969, 'mishaps': 10970, 'arrow': 10971, 'Savannah': 10972, 'angel': 10973, 'complained': 10974, 'hairy': 10975, 'overwhelmed': 10976, 'weatherfish': 10977, 'woodland': 10978, '&': 10979, 'Throughout': 10980, 'Pete': 10981, 'hunkered': 10982, 'groups': 10983, 'shimmery': 10984, 'base': 10985, 'kneels': 10986, 'attain': 10987, 'rejoicing': 10988, 'Lemon': 10989, 'Ollie': 10990, 'Poke': 10991, 'Music': 10992, 'importantly': 10993, 'steak': 10994, '$': 10995, 'munching': 10996, 'jealousy': 10997, 'moderation': 10998, 'merrily': 10999, 'nonsense': 11000, 'builder': 11001, 'yard': 11002, 'kings': 11003, 'clouds': 11004, 'edges': 11005, 'sought': 11006, 'Joes': 11007, 'Lung': 11008, 'supervision': 11009, 'volcanoes': 11010, 'enjoyment': 11011, 'swimmies': 11012, 'seeds': 11013, 'Altogether': 11014, 'appointed': 11015, 'serve': 11016, 'delighted': 11017, 'Some': 11018, 'Ever': 11019, 'broaden': 11020, 'worms': 11021, 'inside': 11022, 'trusting': 11023, 'Winning': 11024, 'Roxy': 11025, 'alarms': 11026, 'melted': 11027, 'teddies': 11028, 'saucers': 11029, 'contented': 11030, 'Inch': 11031, 'rustling': 11032, 'mole': 11033, 'panda': 11034, 'within': 11035, 'towel': 11036, 'precautions': 11037, 'Zizz': 11038, 'speedy': 11039, 'Piggie': 11040, 'guffawed': 11041, 'replacing': 11042, 'ruby': 11043, 'thunderbolt': 11044, 'signaling': 11045, 'juggle': 11046, 'screeched': 11047, 'trading': 11048, 'playful': 11049, 'contract': 11050, 'Instinctively': 11051, 'fed': 11052, 'yell': 11053, 'cooktop': 11054, 'ninth': 11055, 'approved': 11056, 'brighten': 11057, 'animals': 11058, 'nerve': 11059, 'burrows': 11060, 'CRASH': 11061, 'policewomen': 11062, 'wouldned': 11063, 'ditch': 11064, 'Jims': 11065, 'regreted': 11066, 'razor': 11067, 'sweetness': 11068, 'playtime': 11069, 'acceptance': 11070, 'Whooping': 11071, 'Marie': 11072, 'facts': 11073, 'Fast': 11074, 'walkway': 11075, 'found': 11076, 'mushroom': 11077, 'chains': 11078, 'yellow': 11079, 'drying': 11080, 'Officer': 11081, 'heatwave': 11082, 'squeazed': 11083, 'captivated': 11084, 'clumsier': 11085, 'fulfil': 11086, 'Starla': 11087, 'Achoo': 11088, 'bossing': 11089, 'fans': 11090, 'earrings': 11091, 'following': 11092, 'rushed': 11093, 'Ellen': 11094, 'Where': 11095, 'scale': 11096, 'Lorry': 11097, 'Compared': 11098, 'founding': 11099, 'costly': 11100, 'avocados': 11101, 'breathe': 11102, 'scent': 11103, 'deaf': 11104, 'shrinker': 11105, 'cookie': 11106, 'watchful': 11107, 'bookshelf': 11108, 'courageously': 11109, 'cart': 11110, 'frying': 11111, 'type': 11112, 'brakes': 11113, 'styled': 11114, 'tunic': 11115, 'rock': 11116, 'Yuki': 11117, 'restore': 11118, 'fabrics': 11119, 'ranch': 11120, 'ended': 11121, 'sweeping': 11122, 'Oven': 11123, 'Catty': 11124, 'cash': 11125, 'layers': 11126, 'Hello': 11127, 'mayors': 11128, 'have': 11129, 'swat': 11130, 'blistered': 11131, 'applauded': 11132, 'chocolate': 11133, 'chick': 11134, 'halls': 11135, 'involved': 11136, 'dropping': 11137, 'disgusting': 11138, 'voice': 11139, 'spear': 11140, 'style': 11141, 'invisible': 11142, 'cat': 11143, 'tour': 11144, 'marching': 11145, 'lips': 11146, 'obstacle': 11147, 'performance': 11148, 'seek': 11149, 'whistling': 11150, 'bowing': 11151, 'ow': 11152, 'messed': 11153, 'empowered': 11154, 'casserole': 11155, 'church': 11156, 'Sewing': 11157, 'remembers': 11158, 'rumbling': 11159, 'lip': 11160, 'lingers': 11161, 'drawing': 11162, 'chop': 11163, 'mowers': 11164, 'fins': 11165, 'frilly': 11166, 'drips': 11167, 'mischief': 11168, 'persimmon': 11169, 'dip': 11170, 'rudely': 11171, 'barbecue': 11172, 'soooo': 11173, 'claw': 11174, 'horns': 11175, 'saxophone': 11176, 'plenty': 11177, 'worth': 11178, 'upcoming': 11179, 'targets': 11180, 'luckier': 11181, 'peering': 11182, 'laundry': 11183, 'disrupting': 11184, 'feeling': 11185, 'spooky': 11186, 'bubbling': 11187, 'monitored': 11188, 'Cloe': 11189, 'adventurousness': 11190, 'Jordan': 11191, 'Niki': 11192, 'Mamma': 11193, 'wrestle': 11194, 'browsed': 11195, 'flopped': 11196, 'Police': 11197, 'selfie': 11198, 'Following': 11199, 'distraught': 11200, 'treatment': 11201, 'stories': 11202, 'zip': 11203, 'lice': 11204, 'dried': 11205, 'sorting': 11206, 'silver': 11207, 'untidy': 11208, 'daisies': 11209, 'Mazzy': 11210, 'suck': 11211, 'boastful': 11212, 'dustpan': 11213, 'cinema': 11214, 'disappoint': 11215, 'memory': 11216, 'paw': 11217, 'Miss': 11218, 'mucking': 11219, 'madenew': 11220, 'bakers': 11221, 'reindeers': 11222, 'Rusty': 11223, 'concentrating': 11224, 'Radishes': 11225, 'zigzagged': 11226, 'Lunch': 11227, 'Water': 11228, 'tense': 11229, 'searches': 11230, 'fluttered': 11231, 'medical': 11232, 'surge': 11233, 'rang': 11234, 'spills': 11235, 'sunned': 11236, 'basketballs': 11237, 'fable': 11238, 'some': 11239, 'meadows': 11240, 'uncovered': 11241, '/': 11242, 'loading': 11243, 'win': 11244, 'go': 11245, 'soot': 11246, 'Got': 11247, 'daunting': 11248, 'Pale': 11249, 'Stripey': 11250, 'fishs': 11251, 'fit': 11252, 'Figure': 11253, 'Trunk': 11254, 'illusion': 11255, 'Moving': 11256, 'grumpiness': 11257, 'bales': 11258, 'Bambi': 11259, 'glue': 11260, 'peacefulness': 11261, 'Nursebot': 11262, 'earthquake': 11263, 'match': 11264, 'between': 11265, 'captain': 11266, 'talk': 11267, 'sunset': 11268, 'deserted': 11269, 'beneficial': 11270, 'impatient': 11271, 'delay': 11272, 'gear': 11273, 'Lively': 11274, 'movement': 11275, 'Sara': 11276, 'weaving': 11277, 'unimportant': 11278, 'dragging': 11279, 'fixes': 11280, 'former': 11281, 'elves': 11282, 'Hey': 11283, 'crops': 11284, 'Roar': 11285, 'chefs': 11286, 'shell': 11287, 'sooooo': 11288, 'boulder': 11289, 'March': 11290, 'touch': 11291, 'weights': 11292, 'tried': 11293, 'Josie': 11294, 'near': 11295, 'Hooty': 11296, 'simmered': 11297, 'approval': 11298, 'cactus': 11299, 'birdcage': 11300, 'glossy': 11301, 'Slowly': 11302, 'Imagine': 11303, 'onwards': 11304, 'cleansing': 11305, 'solution': 11306, 'pastry': 11307, 'tunes': 11308, 'body': 11309, 'Spidey': 11310, 'Pillow': 11311, 'tale': 11312, 'blazed': 11313, 'microphones': 11314, 'mirrors': 11315, 'ourselves': 11316, 'matter': 11317, 'Remember': 11318, 'smiles': 11319, 'tentacle': 11320, 'alright': 11321, 'hare': 11322, 'knots': 11323, 'managed': 11324, 'trade': 11325, 'traveling': 11326, 'didn': 11327, 'smash': 11328, 'yet': 11329, 'guesed': 11330, 'gathered': 11331, 'recommended': 11332, 'mines': 11333, 'wet': 11334, 'massage': 11335, 'prune': 11336, 'move': 11337, 'efforts': 11338, 'whats': 11339, 'Rrrr': 11340, 'passengers': 11341, 'Said': 11342, 'practised': 11343, 'stamps': 11344, 'eyes': 11345, 'slightest': 11346, 'Nat': 11347, 'Caution': 11348, 'thinking': 11349, 'Gorilla': 11350, 'shook': 11351, 'magnificent': 11352, 'nighty': 11353, 'Ruth': 11354, 'magnets': 11355, 'twig': 11356, 'movements': 11357, 'straight': 11358, 'nicely': 11359, 'perfume': 11360, 'nights': 11361, 'looming': 11362, 'prove': 11363, 'sparkiling': 11364, 'LONG': 11365, 'Does': 11366, 'Razors': 11367, 'Surprised': 11368, 'separate': 11369, 'powered': 11370, 'danced': 11371, 'reunite': 11372, 'Suna': 11373, 'Sammy': 11374, 'babbling': 11375, 'beforeall': 11376, 'Somewhere': 11377, 'Pins': 11378, 'underestimate': 11379, 'tinged': 11380, 'entire': 11381, 'jangle': 11382, 'doze': 11383, 'weather': 11384, 'fireflies': 11385, 'lapping': 11386, 'Kangaroo': 11387, 'looked': 11388, 'utensils': 11389, 'splashing': 11390, 'tough': 11391, 'difference': 11392, 'kitchens': 11393, 'loudspeaker': 11394, 'fibers': 11395, 'sack': 11396, 'rowboat': 11397, 'weightless': 11398, 'Libby': 11399, 'tiptoes': 11400, 'Heaven': 11401, 'seashells': 11402, 'doormat': 11403, 'pandas': 11404, 'discussion': 11405, 'James': 11406, 'offline': 11407, 'Jewels': 11408, 'forgotten': 11409, 'Guard': 11410, 'soggy': 11411, 'cousin': 11412, 'cupboard': 11413, 'tender': 11414, 'Sis': 11415, 'clawed': 11416, 'Richie': 11417, 'shaping': 11418, 'Abe': 11419, 'dragonfly': 11420, 'Flopsy': 11421, 'furthest': 11422, 'furious': 11423, 'sports': 11424, 'magcally': 11425, 'rewarded': 11426, 'sunk': 11427, 'shampoo': 11428, 'apple': 11429, 'truthfully': 11430, 'tremble': 11431, 'feathers': 11432, 'croak': 11433, 'meanings': 11434, 'poos': 11435, 'Mind': 11436, 'cluttered': 11437, 'freezes': 11438, 'stings': 11439, 'Lolas': 11440, 'colours': 11441, 'recycled': 11442, 'knot': 11443, 'Ruby': 11444, 'observation': 11445, 'opinions': 11446, 'problems': 11447, 'tangy': 11448, 'nightmares': 11449, 'specialness': 11450, 'poked': 11451, 'egg': 11452, 'climbing': 11453, 'either': 11454, 'Liam': 11455, 'ivory': 11456, 'schoolbag': 11457, 'Amen': 11458, 'outcome': 11459, 'community': 11460, 'Send': 11461, 'charmy': 11462, 'wriggled': 11463, 'tugged': 11464, 'darting': 11465, 'along': 11466, 'Whiskers': 11467, 'cooperation': 11468, 'sketches': 11469, 'Mirror': 11470, 'string': 11471, 'clicking': 11472, 'breakfasts': 11473, 'Monkey': 11474, 'Wouldn': 11475, 'network': 11476, 'whimpers': 11477, 'cauliflowers': 11478, 'rippled': 11479, 'Tonya': 11480, 'paint': 11481, 'details': 11482, 'stubbed': 11483, 'kiss': 11484, 'behavior': 11485, 'amiss': 11486, 'Plane': 11487, 'blossomed': 11488, 'squeak': 11489, 'stronger': 11490, 'clover': 11491, 'mushy': 11492, 'nightlight': 11493, 'energized': 11494, 'Draw': 11495, 'nice': 11496, 'save': 11497, 'noddle': 11498, 'blamed': 11499, 'Light': 11500, 'trained': 11501, 'shoulder': 11502, 'shadowy': 11503, 'visitor': 11504, 'spider': 11505, 'Jasmine': 11506, 'container': 11507, 'cardboard': 11508, 'stale': 11509, 'inchworm': 11510, 'muffled': 11511, 'jewels': 11512, 'oddly': 11513, 'chairs': 11514, 'boat': 11515, 'neighed': 11516, 'nailed': 11517, 'noodles': 11518, 'clay': 11519, 'helplessly': 11520, 'notebook': 11521, 'different': 11522, 'Ogre': 11523, 'swings': 11524, 'poor': 11525, 'scoot': 11526, 'Ahhhhhh': 11527, 'ouch': 11528, 'robe': 11529, 'count': 11530, 'juice': 11531, 'darkest': 11532, 'folders': 11533, 'ka': 11534, 'unscrewed': 11535, 'floaties': 11536, 'applauding': 11537, 'quarter': 11538, 'leopard': 11539, 'temporary': 11540, 'cackled': 11541, 'experimenting': 11542, 'outsiders': 11543, 'Glove': 11544, 'inquisitive': 11545, 'burrowed': 11546, 'splint': 11547, 'twinkly': 11548, 'beaming': 11549, 'precious': 11550, 'twisty': 11551, 'fulfilled': 11552, 'reversinng': 11553, 'guilt': 11554, 'diamond': 11555, 'scraped': 11556, 'relaxation': 11557, 'cab': 11558, 'charges': 11559, 'working': 11560, 'flipped': 11561, 'enjoying': 11562, 'forked': 11563, 'Lana': 11564, 'handiwork': 11565, 'Climbing': 11566, 'smile': 11567, 'ajar': 11568, 'students': 11569, 'lifting': 11570, 'downpour': 11571, 'mad': 11572, 'eyebrows': 11573, 'teasingly': 11574, 'players': 11575, 'worried': 11576, 'recommendation': 11577, 'they': 11578, 'intensely': 11579, 'Isabella': 11580, 'Nut': 11581, 'beach': 11582, 'explodes': 11583, 'fairs': 11584, 'languages': 11585, 'Elias': 11586, 'moment': 11587, 'steamy': 11588, 'Muffin': 11589, 'swim': 11590, 'defenses': 11591, 'Disney': 11592, 'microwave': 11593, 'sandbox': 11594, 'bubble': 11595, 'sigh': 11596, 'helpfulness': 11597, 'IT': 11598, 'Along': 11599, 'Aunt': 11600, 'pondered': 11601, 'Robbie': 11602, 'tap': 11603, 'curse': 11604, 'Which': 11605, 'guitar': 11606, 'DID': 11607, 'protested': 11608, 'suffers': 11609, 'wasteful': 11610, 'spouty': 11611, 'livelier': 11612, 'us': 11613, 'sticker': 11614, 'hovered': 11615, 'marvel': 11616, 'university': 11617, 'Rascal': 11618, 'exclaims': 11619, 'worsened': 11620, 'Lucky': 11621, 'herd': 11622, '#': 11623, 'spied': 11624, 'beyond': 11625, 'flaming': 11626, 'Sizzle': 11627, 'long': 11628, 'feast': 11629, 'bringing': 11630, 'braids': 11631, 'tools': 11632, 'scones': 11633, 'accounted': 11634, 'scraps': 11635, 'hide': 11636, 'sprinkles': 11637, 'grapefruit': 11638, 'celebrating': 11639, 'spins': 11640, 'costs': 11641, 'unlike': 11642, 'Kneeling': 11643, 'nosy': 11644, 'ten': 11645, 'rooms': 11646, 'soaps': 11647, 'doubtful': 11648, 'Out': 11649, 'pros': 11650, 'relax': 11651, 'winding': 11652, 'handlebars': 11653, 'Having': 11654, 'fraying': 11655, 'Terry': 11656, 'Can': 11657, 'kayaker': 11658, 'Gerry': 11659, 'Clara': 11660, 'Moe': 11661, 'except': 11662, 'tusks': 11663, 'thorns': 11664, 'surf': 11665, 'push': 11666, 'whole': 11667, 'avid': 11668, 'Owen': 11669, 'gorillas': 11670, 'longer': 11671, 'wobbling': 11672, 'Fun': 11673, 'hunger': 11674, 'wetting': 11675, 'masks': 11676, 'whizzed': 11677, 'Surprise': 11678, 'calmyou': 11679, 'rafts': 11680, 'bandits': 11681, 'afterall': 11682, 'nuzzled': 11683, 'Cool': 11684, 'loopy': 11685, 'wife': 11686, 'chase': 11687, 'country': 11688, 'camouflaging': 11689, 'Bobbi': 11690, 'playfully': 11691, 'koalas': 11692, 'handled': 11693, 'labels': 11694, 'huffed': 11695, 'possible': 11696, 'barbers': 11697, 'burger': 11698, 'pumped': 11699, 'spanking': 11700, 'weakening': 11701, 'button': 11702, 'Wind': 11703, 'Animal': 11704, 'any': 11705, 'TheTV': 11706, 'Bird': 11707, 'Finally': 11708, 'fresh': 11709, 'Twitch': 11710, 'Sure': 11711, 'Chirp': 11712, 'everyones': 11713, 'Learn': 11714, 'bolder': 11715, 'Gail': 11716, 'carnival': 11717, 'splash': 11718, 'tweeting': 11719, 'Choo': 11720, 'chewed': 11721, 'smartest': 11722, 'concert': 11723, 'Mop': 11724, 'Ghosts': 11725, 'bunny': 11726, 'understanding': 11727, 'statue': 11728, 'roll': 11729, 'arms': 11730, 'buddy': 11731, 'Octopuses': 11732, 'capturing': 11733, 'village': 11734, 'pussy': 11735, 'torch': 11736, 'categories': 11737, 'snag': 11738, 'slaps': 11739, 'Years': 11740, 'limp': 11741, 'thicket': 11742, 'occasions': 11743, 'responsibility': 11744, 'retrieved': 11745, 'pounces': 11746, 'says': 11747, 'demands': 11748, 'tingle': 11749, 'Dirty': 11750, 'HELLO': 11751, 'enormous': 11752, 'defending': 11753, 'Bad': 11754, 'partied': 11755, 'strangers': 11756, 'seen': 11757, 'liquid': 11758, 'relationship': 11759, 'drills': 11760, 'brag': 11761, 'Strawberry': 11762, 'flute': 11763, 'coaxed': 11764, 'Cherish': 11765, 've': 11766, 'pounced': 11767, 'liar': 11768, 'pudding': 11769, 'weird': 11770, 'solutions': 11771, 'trades': 11772, 'peace': 11773, 'lunged': 11774, 'boom': 11775, 'prefer': 11776, 'Spanish': 11777, 'crackling': 11778, 'Air': 11779, 'driving': 11780, 'sir': 11781, 'Within': 11782, 'lecture': 11783, 'imposing': 11784, 'ridden': 11785, 'recorder': 11786, 'grandpa': 11787, 'cocoa': 11788, 'wise': 11789, 'Zigzag': 11790, 'contest': 11791, 'scaled': 11792, 'session': 11793, 'Fine': 11794, 'onward': 11795, 'warns': 11796, 'instead': 11797, 'squish': 11798, 'specific': 11799, 'driven': 11800, 'servants': 11801, 'stylish': 11802, 'lung': 11803, 'cases': 11804, 'victorious': 11805, 'another': 11806, 'hour': 11807, 'setting': 11808, 'closely': 11809, 'rumbled': 11810, 'clutter': 11811, 'minutes': 11812, 'Before': 11813, 'Sarahs': 11814, 'memorizing': 11815, 'Kids': 11816, 'silently': 11817, 'undress': 11818, 'united': 11819, 'character': 11820, 'Bug': 11821, 'scaly': 11822, 'piata': 11823, 'recognition': 11824, 'alligators': 11825, 'unpredictable': 11826, 'noon': 11827, 'Done': 11828, 'gentleman': 11829, 'passing': 11830, 'handed': 11831, 'bit': 11832, 'draw': 11833, 'Fighting': 11834, 'ripped': 11835, 'Scarecrow': 11836, 'waited': 11837, 'unpleasantly': 11838, 'spilling': 11839, 'hot': 11840, 'Help': 11841, 'yoga': 11842, 'Allowed': 11843, 'Enjoy': 11844, 'gasping': 11845, 'Bill': 11846, 'hooves': 11847, 'Plant': 11848, 'gum': 11849, 'muffin': 11850, 'Shake': 11851, 'Saturn': 11852, 'gliding': 11853, 'showered': 11854, 'porch': 11855, 'Flashlight': 11856, 'Because': 11857, 'Desperate': 11858, 'quizzical': 11859, 'attitude': 11860, 'site': 11861, 'Micky': 11862, 'curls': 11863, 'posts': 11864, 'errand': 11865, 'slight': 11866, 'crinkly': 11867, 'cry': 11868, 'havent': 11869, 'angrily': 11870, 'tippy': 11871, 'Smoke': 11872, 'wallet': 11873, 'appearance': 11874, 'University': 11875, 'muscle': 11876, 'suspended': 11877, 'Saila': 11878, 'refreshingly': 11879, 'freeze': 11880, 'mid': 11881, 'remained': 11882, 'noble': 11883, 'Graces': 11884, 'lightest': 11885, 'wealthiest': 11886, 'restroom': 11887, 'Sleep': 11888, 'Sunday': 11889, 'Dad': 11890, 'leash': 11891, 'replaces': 11892, 'befriended': 11893, 'ooh': 11894, 'planning': 11895, 'Disappointed': 11896, 'whiteness': 11897, 'console': 11898, 'sandwich': 11899, 'marking': 11900, 'Megan': 11901, 'pebble': 11902, 'grownup': 11903, 'Potato': 11904, 'faithful': 11905, 'mustaches': 11906, 'rules': 11907, 'Im': 11908, 'SNAP': 11909, 'department': 11910, 'aiding': 11911, 'Ash': 11912, 'Foxy': 11913, 'trouble': 11914, 'timely': 11915, 'Hissssss': 11916, 'Lawrence': 11917, 'exhibit': 11918, 'Split': 11919, 'steeper': 11920, 'endlessly': 11921, 'charge': 11922, 'importance': 11923, 'all': 11924, 'Eggs': 11925, 'puff': 11926, 'Mam': 11927, 'raw': 11928, 'chain': 11929, 'cranny': 11930, 'Sit': 11931, 'seagulls': 11932, 'Nurse': 11933, 'love': 11934, 'outings': 11935, 'busily': 11936, 'stops': 11937, 'counts': 11938, 'conveyor': 11939, 'shriveling': 11940, 'villagers': 11941, 'drip': 11942, 'talents': 11943, 'wasnt': 11944, 'tractors': 11945, 'offered': 11946, 'frog': 11947, 'striking': 11948, 'Lilli': 11949, 'roundest': 11950, 'Alices': 11951, 'flattered': 11952, 'Oats': 11953, 'wagged': 11954, 'castle': 11955, 'orders': 11956, 'parrots': 11957, 'ramps': 11958, 'Finders': 11959, 'married': 11960, 'blonde': 11961, 'Tess': 11962, 'messy': 11963, 'sailor': 11964, 'coldest': 11965, 'fried': 11966, 'Exit': 11967, 'multiple': 11968, 'Hmmm': 11969, 'hungrier': 11970, 'warm': 11971, 'families': 11972, 'aboard': 11973, 'waffle': 11974, 'silky': 11975, 'release': 11976, 'scurrying': 11977, 'intimidating': 11978, 'bumping': 11979, 'smelly': 11980, 'trunks': 11981, 'laughing': 11982, 'data': 11983, 'faraway': 11984, 'Sss': 11985, 'doves': 11986, 'supper': 11987, 'grinding': 11988, 'has': 11989, 'Pray': 11990, 'Mary': 11991, 'nodding': 11992, 'sentences': 11993, 'hollow': 11994, 'kicked': 11995, 'Ahhh': 11996, 'munched': 11997, 'mystery': 11998, 'caw': 11999, 'but': 12000, 'climbed': 12001, 'washes': 12002, 'mechanic': 12003, 'equal': 12004, 'temple': 12005, 'gives': 12006, 'raking': 12007, 'equipment': 12008, 'inspection': 12009, 'Through': 12010, 'grey': 12011, 'freezing': 12012, 'Teamwork': 12013, 'monarch': 12014, 'step': 12015, 'Wait': 12016, 'squirted': 12017, 'shocked': 12018, 'Maia': 12019, 'stealthily': 12020, 'Ahchoo': 12021, 'magazines': 12022, 'Cory': 12023, 'iron': 12024, 'rods': 12025, 'disturbs': 12026, 'Bobo': 12027, 'surfers': 12028, 'revival': 12029, 'coins': 12030, 'intimidated': 12031, 'realizing': 12032, 'healthy': 12033, 'Auntie': 12034, 'fives': 12035, 'judgement': 12036, 'clothes': 12037, 'practice': 12038, 'ought': 12039, 'Original': 12040, 'limping': 12041, 'modest': 12042, 'boiler': 12043, 'annoyance': 12044, 'jot': 12045, 'Find': 12046, 'Ink': 12047, 'shrinks': 12048, 'hardest': 12049, 'ashtrays': 12050, 'ingredients': 12051, 'cheater': 12052, 'Ma': 12053, 'setup': 12054, 'Mila': 12055, 'Gracias': 12056, 'mailed': 12057, 'lifetime': 12058, 'drained': 12059, 'Adding': 12060, 'thier': 12061, 'fish': 12062, 'copper': 12063, 'sprinkled': 12064, 'catching': 12065, 'whoosh': 12066, 'storing': 12067, 'end': 12068, 'Cal': 12069, 'unsolved': 12070, 'Thinking': 12071, 'Later': 12072, 'snuggle': 12073, 'froma': 12074, 'plot': 12075, 'imagining': 12076, 'carry': 12077, 'Writing': 12078, 'plank': 12079, 'hook': 12080, 'amazing': 12081, 'Pull': 12082, 'pepper': 12083, 'calms': 12084, 'tearfully': 12085, 'smoked': 12086, 'hammers': 12087, 'prevent': 12088, 'jog': 12089, 'ones': 12090, 'label': 12091, 'Joseph': 12092, 'Bluey': 12093, 'buying': 12094, 'strung': 12095, 'dryness': 12096, 'Success': 12097, 'sizes': 12098, 'adding': 12099, 'singing': 12100, 'Nooooo': 12101, 'supported': 12102, 'desperately': 12103, 'Soaring': 12104, 'mindfully': 12105, 'yogas': 12106, 'Olympics': 12107, 'scratch': 12108, 'Buster': 12109, 'grape': 12110, 'Sour': 12111, 'Rebecca': 12112, 'Raya': 12113, 'half': 12114, 'Amaya': 12115, 'fascinating': 12116, 'raging': 12117, 'stairs': 12118, 'novels': 12119, 'traps': 12120, 'Sasha': 12121, 'Forever': 12122, 'poolside': 12123, 'guitars': 12124, 'Stand': 12125, 'undressed': 12126, 'Heres': 12127, 'gladness': 12128, 'work': 12129, 'lazy': 12130, 'aware': 12131, 'Emilly': 12132, 'leaked': 12133, 'shall': 12134, 'perform': 12135, 'Cookie': 12136, 'Youll': 12137, 'brewing': 12138, 'Strangely': 12139, 'deliberation': 12140, 'fountains': 12141, 'gate': 12142, 'mask': 12143, 'heal': 12144, 'wild': 12145, 'steaks': 12146, 'Mittens': 12147, 'other': 12148, 'town': 12149, 'eight': 12150, 'insisting': 12151, 'sprinked': 12152, 'Cop': 12153, 'encourages': 12154, 'curiosity': 12155, 'galloping': 12156, 'cycle': 12157, 'yogurts': 12158, 'repeatly': 12159, 'looping': 12160, 'substance': 12161, 'chopping': 12162, 'Drawings': 12163, 'spits': 12164, 'spell': 12165, 'aloud': 12166, 'attack': 12167, 'bullying': 12168, 'knight': 12169, 'preparations': 12170, 'an': 12171, 'cheddar': 12172, 'fuzzy': 12173, 'Pow': 12174, 'Proudly': 12175, 'green': 12176, 'harvested': 12177, 'flying': 12178, 'interrupted': 12179, 'sung': 12180, 'calmed': 12181, 'Fuzzy': 12182, 'Therefore': 12183, 'wolves': 12184, 'disobedient': 12185, 'focusing': 12186, 'met': 12187, 'destination': 12188, 'menus': 12189, 'however': 12190, 'mailman': 12191, 'bulls': 12192, 'shyness': 12193, 'presence': 12194, 'globe': 12195, 'beakers': 12196, 'disappearance': 12197, 'Squawk': 12198, 'regrets': 12199, 'mower': 12200, 'docking': 12201, 'achoo': 12202, 'Ho': 12203, 'posted': 12204, 'bulb': 12205, 'trembled': 12206, 'tires': 12207, 'projects': 12208, 'volcanos': 12209, 'ignores': 12210, 'set': 12211, 'stay': 12212, 'giving': 12213, 'Puzzled': 12214, 'burst': 12215, 'unfriendly': 12216, 'woods': 12217, 'attic': 12218, 'draining': 12219, 'itself': 12220, 'destroyed': 12221, 'sincere': 12222, 'classes': 12223, 'especially': 12224, 'stage': 12225, 'aim': 12226, 'backpack': 12227, 'breathed': 12228, 'aahed': 12229, 'From': 12230, 'refused': 12231, 'citrus': 12232, 'Sprinkles': 12233, 'Jingle': 12234, 'typed': 12235, 'blowhole': 12236, 'changed': 12237, 'claim': 12238, 'clenched': 12239, 'nightly': 12240, 'dogs': 12241, 'spines': 12242, 'every': 12243, 'Marlon': 12244, 'settles': 12245, 'snapped': 12246, 'firing': 12247, 'downwards': 12248, 'rode': 12249, 'Decorating': 12250, 'Ding': 12251, 'maid': 12252, 'Catapult': 12253, 'joined': 12254, 'behaving': 12255, 'gripped': 12256, 'exploring': 12257, 'choreographed': 12258, 'clucking': 12259, 'guessed': 12260, 'expecting': 12261, 'barks': 12262, 'swallowed': 12263, 'yells': 12264, 'sunsets': 12265, 'Marc': 12266, 'thoughts': 12267, 'pies': 12268, 'grass': 12269, 'rainfall': 12270, 'rusty': 12271, 'noisiest': 12272, 'amendments': 12273, 'peed': 12274, 'packs': 12275, 'raise': 12276, 'hung': 12277, 'afternoons': 12278, 'smiley': 12279, 'aggressive': 12280, 'dentist': 12281, 'smoothed': 12282, 'Ayla': 12283, 'records': 12284, 'because': 12285, 'haul': 12286, 'nursery': 12287, 'raisins': 12288, 'Didn': 12289, 'skirts': 12290, 'blouse': 12291, 'alone': 12292, 'muttered': 12293, 'Safe': 12294, 'Bull': 12295, 'arrows': 12296, 'lenses': 12297, 'Back': 12298, 'theatre': 12299, 'rebuilding': 12300, 'helicopters': 12301, 'harder': 12302, 'Lots': 12303, 'yourselves': 12304, 'assignment': 12305, 'childish': 12306, 'college': 12307, 'English': 12308, 'Hidden': 12309, 'Makeup': 12310, 'Moncey': 12311, 'bandana': 12312, 'flee': 12313, 'Root': 12314, 'speller': 12315, 'cared': 12316, 'cruel': 12317, 'years': 12318, 'playground': 12319, 'dragon': 12320, 'disagreement': 12321, 'novel': 12322, 'crunchy': 12323, 'answered': 12324, 'information': 12325, 'bars': 12326, 'spaghetti': 12327, 'She': 12328, 'march': 12329, 'barky': 12330, 'fabulous': 12331, 'CHASE': 12332, 'gracias': 12333, 'Rolly': 12334, 'climbs': 12335, 'payed': 12336, 'Glue': 12337, 'watered': 12338, 'dividing': 12339, 'books': 12340, 'please': 12341, 'risk': 12342, 'Speaking': 12343, 'froze': 12344, 'Cloudy': 12345, 'Rupert': 12346, 'Grandmother': 12347, 'disobey': 12348, 'ladders': 12349, 'disturbing': 12350, 'conductor': 12351, 'birdy': 12352, 'blush': 12353, 'skys': 12354, 'season': 12355, 'Grateful': 12356, 'chorus': 12357, 'seafood': 12358, 'Tracey': 12359, 'mi': 12360, 'whew': 12361, 'pumpkins': 12362, 'swan': 12363, 'picking': 12364, 'nails': 12365, 'charred': 12366, 'protecting': 12367, 'crawler': 12368, 'clinking': 12369, 'Judge': 12370, 'barbeque': 12371, 'unveiled': 12372, 'cayenne': 12373, 'sharp': 12374, 'inhaled': 12375, 'Kayla': 12376, 'stream': 12377, 'Ange': 12378, 'hives': 12379, 'sugar': 12380, 'kayaking': 12381, 'Matilda': 12382, 'warren': 12383, 'Ouchie': 12384, 'complaints': 12385, 'lifeguard': 12386, 'Promise': 12387, 'fun': 12388, 'meanly': 12389, 'rotten': 12390, 'houses': 12391, 'aside': 12392, 'admire': 12393, 'reveled': 12394, 'Anna': 12395, 'Blocks': 12396, 'didnt': 12397, 'won': 12398, 'Puzzle': 12399, 'Charge': 12400, 'canister': 12401, 'haircut': 12402, 'fidget': 12403, 'Fifi': 12404, 'monkeys': 12405, 'wedding': 12406, 'keeping': 12407, 'assertive': 12408, 'Macy': 12409, 'sheep': 12410, 'woolly': 12411, 'brain': 12412, 'popcorn': 12413, 'makeshift': 12414, 'clip': 12415, 'tonight': 12416, 'lunchboxes': 12417, 'delicately': 12418, 'only': 12419, 'Kiki': 12420, 'loaded': 12421, 'Whenever': 12422, 'daughter': 12423, 'face': 12424, 'gathering': 12425, 'outside': 12426, 'whirl': 12427, 'Boats': 12428, 'pitter': 12429, 'draws': 12430, 'rowing': 12431, 'rake': 12432, 'carelessly': 12433, 'attics': 12434, 'shines': 12435, 'construction': 12436, 'Serve': 12437, 'cats': 12438, 'noisy': 12439, 'reassured': 12440, 'devastated': 12441, 'Graham': 12442, 'straining': 12443, 'Team': 12444, 'encounter': 12445, 'inspect': 12446, 'detailed': 12447, 'Glad': 12448, 'blessings': 12449, 'Glass': 12450, 'mindfull': 12451, 'mysteriousness': 12452, 'crew': 12453, 'triumphant': 12454, 'scootered': 12455, 'villains': 12456, 'grandparent': 12457, 'tending': 12458, 'brats': 12459, 'carved': 12460, 'activity': 12461, 'lets': 12462, 'cots': 12463, 'chant': 12464, 'brat': 12465, 'Ice': 12466, 'goalie': 12467, 'Thunder': 12468, 'banner': 12469, 'cuddling': 12470, 'whose': 12471, 'tutu': 12472, 'tested': 12473, 'knitting': 12474, 'patches': 12475, 'person': 12476, 'flamebird': 12477, 'planes': 12478, 'kite': 12479, 'forgiven': 12480, 'crocodile': 12481, 'camel': 12482, 'edition': 12483, 'Below': 12484, 'Zoomy': 12485, 'doorstep': 12486, 'walrus': 12487, 'curvy': 12488, 'snarled': 12489, 'Beacon': 12490, 'cheetah': 12491, 'Shrink': 12492, 'efficiently': 12493, 'shouts': 12494, 'olives': 12495, 'share': 12496, 'lunch': 12497, 'measurements': 12498, 'tilted': 12499, 'Jax': 12500, 'bent': 12501, 'napped': 12502, 'believing': 12503, 'escape': 12504, 'mistake': 12505, 'rise': 12506, 'video': 12507, 'bitter': 12508, 'ticket': 12509, 'fry': 12510, 'jolted': 12511, 'swooped': 12512, 'Tomorrow': 12513, 'pads': 12514, 'peaches': 12515, 'brick': 12516, 'officer': 12517, 'canyon': 12518, 'rattle': 12519, 'dragged': 12520, 'Swan': 12521, 'Whatever': 12522, 'Happiness': 12523, 'checked': 12524, 'Wed': 12525, 'receiving': 12526, 'extinguisher': 12527, 'slathered': 12528, 'miracle': 12529, 'crackle': 12530, 'Yet': 12531, 'Brazil': 12532, 'album': 12533, 'limited': 12534, 'rabbit': 12535, 'create': 12536, '?': 12537, 'ashore': 12538, 'carted': 12539, 'Mint': 12540, 'Near': 12541, 'what': 12542, 'seize': 12543, 'unicorn': 12544, 'year': 12545, 'inevitable': 12546, 'grumpiest': 12547, 'Sonny': 12548, 'crouching': 12549, 'crumbling': 12550, 'unfreeze': 12551, 'Gavin': 12552, 'roots': 12553, 'takes': 12554, 'deserve': 12555, 'Howdy': 12556, 'orchestra': 12557, 'affecting': 12558, 'crushing': 12559, 'inhale': 12560, 'there': 12561, 'reverse': 12562, 'Bennys': 12563, 'docks': 12564, 'rose': 12565, 'bell': 12566, 'ripples': 12567, 'blueberry': 12568, 'Miraculously': 12569, 'chunks': 12570, 'soothe': 12571, 'fighter': 12572, 'Darnell': 12573, 'included': 12574, 'dipped': 12575, 'sill': 12576, 'footsteps': 12577, 'steaming': 12578, 'Read': 12579, 'fries': 12580, 'grunted': 12581, 'slithers': 12582, 'pout': 12583, 'snowstorm': 12584, 'names': 12585, 'wiping': 12586, 'jelly': 12587, 'Rawr': 12588, 'Bobs': 12589, 'permit': 12590, 'reap': 12591, 'freezer': 12592, 'with': 12593, 'loop': 12594, 'pondweed': 12595, 'basil': 12596, 'soldiers': 12597, 'Bars': 12598, 'kilos': 12599, 'shattered': 12600, 'famous': 12601, 'produced': 12602, 'focus': 12603, 'model': 12604, 'sympathetically': 12605, 'Maxs': 12606, 'basking': 12607, 'fill': 12608, 'radiating': 12609, 'fires': 12610, 'Suzy': 12611, 'charm': 12612, 'collection': 12613, 'humming': 12614, 'payment': 12615, 'Lets': 12616, 'Great': 12617, 'Joanne': 12618, 'Meris': 12619, 'creep': 12620, 'boar': 12621, 'Karen': 12622, 'darkening': 12623, 'Leave': 12624, 'tree': 12625, 'wars': 12626, 'hedges': 12627, 'conquered': 12628, 'enforce': 12629, 'parcel': 12630, 'simplest': 12631, 'awe': 12632, 'Aha': 12633, 'joyride': 12634, 'dart': 12635, 'flecks': 12636, 'embrace': 12637, 'operas': 12638, 'erasing': 12639, 'walk': 12640, 'Complete': 12641, 'undeterred': 12642, 'pranks': 12643, 'sun': 12644, 'Race': 12645, 'numbering': 12646, 'pots': 12647, 'LAB': 12648, 'Shame': 12649, 'Clapping': 12650, 'wilder': 12651, 'health': 12652, 'rainstorm': 12653, 'fought': 12654, 'oars': 12655, 'Scared': 12656, 'keepsake': 12657, 'chimed': 12658, 'Tom': 12659, 'supplies': 12660, 'Rhythm': 12661, 'mon': 12662, 'coiled': 12663, 'Ladybugs': 12664, 'journals': 12665, 'collaboration': 12666, 'steam': 12667, 'tuna': 12668, 'older': 12669, 'adjusting': 12670, 'drooling': 12671, 'contact': 12672, 'Noah': 12673, 'shrugging': 12674, 'turtles': 12675, 'springy': 12676, 'tomorrow': 12677, 'steadying': 12678, 'revved': 12679, 'Diving': 12680, 'Hola': 12681, 'weapons': 12682, 'can': 12683, 'impatiently': 12684, 'flowerpots': 12685, 'plaster': 12686, 'Mustache': 12687, 'Pixie': 12688, 'gotten': 12689, 'homes': 12690, 'bob': 12691, 'Honey': 12692, 'checking': 12693, 'Princess': 12694, 'journeyed': 12695, 'kneeling': 12696, 'connects': 12697, 'Such': 12698, 'bicyles': 12699, 'Recycle': 12700, 'happily': 12701, 'spiky': 12702, 'twitched': 12703, 'punches': 12704, 'roar': 12705, 'arrange': 12706, 'kittens': 12707, 'errands': 12708, 'menacing': 12709, 'eyeing': 12710, 'onboard': 12711, 'easy': 12712, 'drop': 12713, 'clasped': 12714, 'oysters': 12715, 'natured': 12716, 'dreammaker': 12717, 'elf': 12718, 'crowns': 12719, 'Building': 12720, 'turtle': 12721, 'curly': 12722, 'rubbed': 12723, 'Dads': 12724, 'washed': 12725, 'Bumpy': 12726, 'pasta': 12727, 'gorilla': 12728, 'birdsong': 12729, 'polar': 12730, 'finger': 12731, 'cough': 12732, 'Amazingly': 12733, 'subtracting': 12734, 'simulations': 12735, 'Mummy': 12736, 'riddle': 12737, 'skunk': 12738, 'hoping': 12739, 'Mine': 12740, 'refusal': 12741, 'Tooth': 12742, 'warmer': 12743, 'directly': 12744, 'catches': 12745, 'butterflies': 12746, 'palms': 12747, 'causes': 12748, 'secured': 12749, 'dirt': 12750, 'supposed': 12751, 'aimed': 12752, 'coop': 12753, 'disappearing': 12754, 'capes': 12755, 'carrots': 12756, 'sisters': 12757, 'throats': 12758, 'sponges': 12759, 'flavors': 12760, 'shivered': 12761, 'Patiently': 12762, 'weaker': 12763, 'stems': 12764, 'One': 12765, 'anniversary': 12766, 'Ribbit': 12767, 'yum': 12768, 'digger': 12769, 'glimmered': 12770, 'tumbled': 12771, 'sneaking': 12772, 'intention': 12773, 'gurgle': 12774, 'individual': 12775, 'argue': 12776, 'Lemons': 12777, 'whom': 12778, 'scuttle': 12779, 'peels': 12780, 'encouragement': 12781, 'Unfortunately': 12782, 'Louie': 12783, 'complete': 12784, 'broad': 12785, 'Lion': 12786, 'harshness': 12787, 'harm': 12788, 'crooked': 12789, 'Lies': 12790, 'donut': 12791, 'pitcher': 12792, 'greets': 12793, 'Seth': 12794, 'Shrimp': 12795, 'Sunny': 12796, 'hooted': 12797, 'Maggy': 12798, 'dodges': 12799, 'startling': 12800, 'broke': 12801, 'rice': 12802, 'shots': 12803, 'dumpty': 12804, 'patched': 12805, 'tucked': 12806, 'concentrated': 12807, 'Thisisn': 12808, 'ugly': 12809, 'zookeepers': 12810, 'more': 12811, 'accordingly': 12812, 'wishing': 12813, 'Meg': 12814, 'boost': 12815, 'sensed': 12816, 'jumping': 12817, 'regular': 12818, 'Grandson': 12819, 'Friends': 12820, 'germs': 12821, 'footing': 12822, 'cheers': 12823, 'sweetie': 12824, 'raised': 12825, 'Toad': 12826, 'send': 12827, 'dinner': 12828, 'rocking': 12829, 'Grandma': 12830, 'bow': 12831, 'grumpier': 12832, 'caused': 12833, 'midst': 12834, 'comfortable': 12835, 'center': 12836, 'keeper': 12837, 'taxi': 12838, 'gloom': 12839, 'Any': 12840, 'catchy': 12841, 'webs': 12842, 'sights': 12843, 'deliveries': 12844, 'goals': 12845, 'tower': 12846, 'lungs': 12847, 'shown': 12848, 'Pretty': 12849, 'addition': 12850, 'trusty': 12851, 'Most': 12852, 'Grandaughter': 12853, 'Snake': 12854, 'pet': 12855, 'outfits': 12856, 'Cobwebs': 12857, 'fingers': 12858, 'demand': 12859, 'Speed': 12860, 'Ann': 12861, 'flicker': 12862, 'whine': 12863, 'Papa': 12864, 'stored': 12865, 'propeller': 12866, 'Carrot': 12867, 'sponge': 12868, 'ask': 12869, 'drinking': 12870, 'peepers': 12871, 'learnt': 12872, 'cups': 12873, 'grave': 12874, 'valuable': 12875, 'already': 12876, 'swirls': 12877, 'welcomes': 12878}\n"
          ]
        }
      ]
    },
    {
      "cell_type": "markdown",
      "source": [
        "**TODO**: Write the text_to_tensor and tensor_to_text functions below. Check that a text is correctly encoded and decoded back."
      ],
      "metadata": {
        "id": "WotTxEpJsfun"
      }
    },
    {
      "cell_type": "code",
      "source": [
        "def text_to_tensor(text: str, vocab: Vocabulary) -> torch.LongTensor:\n",
        "    \"\"\"\n",
        "    Convert a string to a Tensor with corresponding character indices\n",
        "    e.g. \"We have\" -> [48, 13]\n",
        "    \"\"\"\n",
        "    #TODO\n",
        "    token_ids = [vocab.token_to_idx[token] for token in tokenize(text)]\n",
        "    return torch.tensor(token_ids)\n",
        "\n",
        "def tensor_to_text(x: torch.LongTensor, vocab: Vocabulary) -> str:\n",
        "    \"\"\"\n",
        "    Convert a Tensor of token indices to its string representation\n",
        "    e.g. [48, 13] -> \"We have\"\n",
        "    \"\"\"\n",
        "    #TODO\n",
        "    return \"\".join(vocab.idx_to_token[idx.item()] for idx in x)"
      ],
      "metadata": {
        "id": "6jObJY6-nrtx"
      },
      "execution_count": null,
      "outputs": []
    },
    {
      "cell_type": "code",
      "source": [
        "original_text = train_stories[1]\n",
        "token_ids = text_to_tensor(original_text, vocab)\n",
        "decoded_text = tensor_to_text(token_ids, vocab)\n",
        "assert original_text == decoded_text, \"Not the same text as the original\""
      ],
      "metadata": {
        "id": "Dh7ml4TyuqBU"
      },
      "execution_count": null,
      "outputs": []
    },
    {
      "cell_type": "markdown",
      "source": [
        "### The Embedding layer\n",
        "\n",
        "We can now map each token in our dataset to an unique index, from 0 to $|V| -1$. Next, we want to represent each token as a dense vector (word embedding).\n",
        "  \n",
        "We can store the embeddings as rows in an embedding matrix W. The matrix W has size $|V| \\times d_{model}$ ($d_{model}$ = size of the embedding).\n",
        "\n",
        "The **Embedding** layer in PyTorch is a wrapper over W (https://pytorch.org/docs/stable/nn.html?highlight=embedding#torch.nn.Embedding) that receives a scalar **i** and returns the **i-th** row of W.\n",
        "By default, the embedding layer is initialized with random weights. These are updated during task specific training, as we're about to do.\n",
        "\n",
        "Let's define an embedding layer."
      ],
      "metadata": {
        "id": "VvWhGCVSfKO7"
      }
    },
    {
      "cell_type": "code",
      "source": [
        "token_idx = torch.LongTensor([7]) # we want the token at index 7\n",
        "\n",
        "# create an Embedding layer that outputs vectors of size 512;\n",
        "# behind the scenes, this is just a weight matrix of size vocab_size x 512\n",
        "embedding_layer = nn.Embedding(vocab.size(), 512)\n",
        "\n",
        "# this is the actual weight matrix\n",
        "W = embedding_layer.weight\n",
        "print(\"Embedding matrix size: \", W.size())\n",
        "\n",
        "# the embedding layer receives an index and returns the corresponding row at\n",
        "# that index in the weight matrix\n",
        "token_embedding = embedding_layer(token_idx).squeeze()\n",
        "print(\"Token embedding size: \", token_embedding.size())\n",
        "\n",
        "# this layer returns 7th row in the matrix as output\n",
        "# let's check this\n",
        "if token_embedding.equal(W[token_idx].squeeze()):\n",
        "    print(\"Same embedding\")"
      ],
      "metadata": {
        "id": "GpKeDHRahdaP",
        "colab": {
          "base_uri": "https://localhost:8080/"
        },
        "outputId": "fec6a39f-3053-4d15-b4ae-10abf423033a"
      },
      "execution_count": null,
      "outputs": [
        {
          "output_type": "stream",
          "name": "stdout",
          "text": [
            "Embedding matrix size:  torch.Size([12879, 512])\n",
            "Token embedding size:  torch.Size([512])\n",
            "Same embedding\n"
          ]
        }
      ]
    },
    {
      "cell_type": "markdown",
      "source": [
        "### Prepare batches"
      ],
      "metadata": {
        "id": "P3DZgo06yiOx"
      }
    },
    {
      "cell_type": "code",
      "source": [
        "BATCH_SIZE = 32\n",
        "MAX_LENGTH = 250"
      ],
      "metadata": {
        "id": "rXNJBEisg5F3"
      },
      "execution_count": null,
      "outputs": []
    },
    {
      "cell_type": "code",
      "source": [
        "def get_sequences(stories, vocab, max_length=250):\n",
        "  \"\"\"\n",
        "  splits the text in the dataset\n",
        "  into a list of smaller sequences\n",
        "  \"\"\"\n",
        "  sequences = []\n",
        "  for story in stories:\n",
        "    tokens = text_to_tensor(story, vocab) # convert to token ids\n",
        "    # divides into chunks of max_length + 1\n",
        "    # + 1 because we'll lose one token when we build input/label pairs\n",
        "    # anything shorter than max_length is discarded\n",
        "    chunks = [tokens[i:i+max_length+1] for i in range(0, len(tokens) - len(tokens) % (max_length+1), max_length+1)]\n",
        "    sequences.extend(chunks)\n",
        "  return sequences\n",
        "\n",
        "train_sequences = get_sequences(train_stories, vocab, max_length=MAX_LENGTH)\n",
        "val_sequences = get_sequences(val_stories, vocab)\n",
        "print('Train sequences: ', len(train_sequences))\n",
        "print('Total training tokens', len(train_sequences) * MAX_LENGTH)"
      ],
      "metadata": {
        "id": "mh9XmpvOysd9",
        "colab": {
          "base_uri": "https://localhost:8080/"
        },
        "outputId": "f4f9addc-418f-49af-a7c8-377e406a5fa0"
      },
      "execution_count": null,
      "outputs": [
        {
          "output_type": "stream",
          "name": "stdout",
          "text": [
            "Train sequences:  10876\n",
            "Total training tokens 2719000\n"
          ]
        }
      ]
    },
    {
      "cell_type": "code",
      "source": [
        "from torch.utils.data import Dataset, DataLoader\n",
        "class StoriesDataset(Dataset):\n",
        "    def __init__(self, sequences):\n",
        "        self.data = sequences\n",
        "\n",
        "    def __len__(self):\n",
        "        return len(self.data)\n",
        "\n",
        "    def __getitem__(self, idx):\n",
        "        # list of length MAX_LEN\n",
        "        # containing token ids\n",
        "        sequence = self.data[idx]\n",
        "        x = torch.LongTensor(sequence)\n",
        "        input = x[:-1]\n",
        "        label = x[1:] # shift to the right\n",
        "        return input, label\n",
        "\n",
        "# build datasets and dataloaders\n",
        "train_dataset = StoriesDataset(train_sequences)\n",
        "val_dataset = StoriesDataset(val_sequences)\n",
        "train_loader = DataLoader(train_dataset, batch_size=BATCH_SIZE)\n",
        "val_loader = DataLoader(val_dataset, batch_size=BATCH_SIZE)"
      ],
      "metadata": {
        "id": "U7PHGzn55wmU"
      },
      "execution_count": null,
      "outputs": []
    },
    {
      "cell_type": "code",
      "source": [
        "(x, y) = next(iter(train_loader))\n",
        "print('Batch input shape', x.shape)\n",
        "print('Batch label shape', y.shape)\n",
        "input, output = x[3, :], y[3, :]\n",
        "print('-----Input --> text-----\\n')\n",
        "print(tensor_to_text(input, vocab))\n",
        "print('-----Label --> text-----\\n')\n",
        "print(tensor_to_text(output, vocab))"
      ],
      "metadata": {
        "id": "bovfHwFo590W",
        "colab": {
          "base_uri": "https://localhost:8080/"
        },
        "outputId": "bd0f7c55-aef2-4d50-baf8-799a4f5060b4"
      },
      "execution_count": null,
      "outputs": [
        {
          "output_type": "stream",
          "name": "stdout",
          "text": [
            "Batch input shape torch.Size([32, 250])\n",
            "Batch label shape torch.Size([32, 250])\n",
            "-----Input --> text-----\n",
            "\n",
            "Once upon a time, in a land full of trees, there was a little cherry tree. The cherry tree was very sad because it did not have any friends. All the other trees were big and strong, but the cherry tree was small and weak. The cherry tree was envious of the big trees.\n",
            "\n",
            "One day, the cherry tree felt a tickle in its branches. It was a little spring wind. The wind told the cherry tree not to be sad. The wind said, \"You are special because you have sweet cherries that everyone loves.\" The cherry tree started to feel a little better.\n",
            "\n",
            "As time went on, the cherry tree grew more and more cherries\n",
            "-----Label --> text-----\n",
            "\n",
            " upon a time, in a land full of trees, there was a little cherry tree. The cherry tree was very sad because it did not have any friends. All the other trees were big and strong, but the cherry tree was small and weak. The cherry tree was envious of the big trees.\n",
            "\n",
            "One day, the cherry tree felt a tickle in its branches. It was a little spring wind. The wind told the cherry tree not to be sad. The wind said, \"You are special because you have sweet cherries that everyone loves.\" The cherry tree started to feel a little better.\n",
            "\n",
            "As time went on, the cherry tree grew more and more cherries.\n"
          ]
        }
      ]
    },
    {
      "cell_type": "markdown",
      "source": [
        "## Step 2: Setup Architecture"
      ],
      "metadata": {
        "id": "0AB5eXwq9gIy"
      }
    },
    {
      "cell_type": "code",
      "source": [
        "############################## PARAMETERS ######################################\n",
        "_hyperparameters_dict = {\n",
        "    \"batch_size\": BATCH_SIZE, # =32\n",
        "    \"num_epochs\": 3,\n",
        "    \"max_len\": MAX_LENGTH, # =250\n",
        "    \"embedding_size\": 512,\n",
        "    \"learning_algo\": \"adam\",\n",
        "    \"learning_rate\": 1e-4,\n",
        "    \"max_grad_norm\": 5.0,\n",
        "    \"num_layers\": 6\n",
        "}\n",
        "device = 'cuda' if torch.cuda.is_available() else 'cpu'"
      ],
      "metadata": {
        "id": "EmJIrPG5gVXx"
      },
      "execution_count": null,
      "outputs": []
    },
    {
      "cell_type": "code",
      "source": [
        "class TransformerLM(nn.Module):\n",
        "    def __init__(self, vocab_size: int, d_model: int,\n",
        "                 dropout_p: float, seq_len: int, num_layers: int):\n",
        "        super().__init__()\n",
        "        self.name = 'transformer'\n",
        "        self.vocab_size = vocab_size\n",
        "        self.d_model = d_model\n",
        "        self.dropout = nn.Dropout(dropout_p)\n",
        "        self.seq_len = seq_len\n",
        "        self.num_layers = num_layers\n",
        "        self.norm = nn.LayerNorm(d_model)\n",
        "\n",
        "        # TODO: instantiate Modules with the correct arguments\n",
        "        # self.embedding = nn.Embedding(...)\n",
        "        self.embedding = nn.Embedding(\n",
        "            num_embeddings=vocab_size,\n",
        "            embedding_dim=d_model\n",
        "        )\n",
        "\n",
        "        # self.positional_encoding = PositionalEncoding(\n",
        "        #     ...\n",
        "        # )\n",
        "\n",
        "        self.positional_encoding = PositionalEncoding(\n",
        "            d_model=d_model,\n",
        "            dropout=dropout_p\n",
        "        )\n",
        "\n",
        "        # stack num_layers transformer layers\n",
        "        self.transformer = nn.ModuleList([\n",
        "            TransformerLayer(d_model=d_model,\n",
        "            num_heads=8,\n",
        "            dropout=dropout_p)\n",
        "            for _ in range(num_layers)\n",
        "        ])\n",
        "\n",
        "        # instantiate the output layer\n",
        "        # self.output_layer = nn.Linear(\n",
        "        #     ...\n",
        "        # )\n",
        "        self.output_layer = nn.Linear(\n",
        "            in_features=d_model,\n",
        "            out_features=vocab_size\n",
        "        )\n",
        "\n",
        "        # https://paperswithcode.com/method/weight-tying\n",
        "        self.embedding.weight = self.output_layer.weight\n",
        "\n",
        "    def forward(self, x: torch.LongTensor) -> torch.FloatTensor:\n",
        "        \"\"\"\n",
        "        :param x: input of size batch_size x max_len\n",
        "        :return: logits of size batch_size x seq_len x vocab_size\n",
        "        \"\"\"\n",
        "        seq_len = x.size(1)\n",
        "        # compute embeddings, then multiply them by sqrt(d_model)\n",
        "        #x = ...\n",
        "        x = self.embedding(x) * math.sqrt(self.d_model)\n",
        "        # add positional_encodings\n",
        "        x = self.positional_encoding(x)\n",
        "\n",
        "        # generate a causal mask for the sequence\n",
        "        # masked positions are filled with -inf\n",
        "        mask = nn.Transformer.generate_square_subsequent_mask(seq_len).to(device)\n",
        "\n",
        "        for layer in self.transformer:\n",
        "          x, attn_scores = layer(x, mask=mask)\n",
        "\n",
        "        # apply layernorm to final transformer output\n",
        "        x = self.norm(x)\n",
        "\n",
        "        # output layer\n",
        "        # logits = ...\n",
        "        logits = self.output_layer(x)\n",
        "\n",
        "        return logits"
      ],
      "metadata": {
        "id": "_PO9WGV_hG5p"
      },
      "execution_count": null,
      "outputs": []
    },
    {
      "cell_type": "code",
      "source": [
        "x = torch.randint(0, vocab.size(), (1, MAX_LENGTH)).to(device)\n",
        "model = TransformerLM(\n",
        "    d_model = _hyperparameters_dict[\"embedding_size\"],\n",
        "    seq_len = _hyperparameters_dict[\"max_len\"],\n",
        "    num_layers = 6,\n",
        "    dropout_p = 0.1,\n",
        "    vocab_size = vocab.size()\n",
        ").to(device)\n",
        "output = model(x)\n",
        "print(output.shape)"
      ],
      "metadata": {
        "id": "UQ4R1AUJtemO",
        "colab": {
          "base_uri": "https://localhost:8080/"
        },
        "outputId": "93532139-b792-4987-b545-65d58c4e2940"
      },
      "execution_count": null,
      "outputs": [
        {
          "output_type": "stream",
          "name": "stdout",
          "text": [
            "torch.Size([1, 250, 12879])\n"
          ]
        }
      ]
    },
    {
      "cell_type": "code",
      "source": [
        "print(model)"
      ],
      "metadata": {
        "id": "NXb8pMHUY-RR",
        "colab": {
          "base_uri": "https://localhost:8080/"
        },
        "outputId": "be8a62d3-0457-403e-a4dd-0099b69105e2"
      },
      "execution_count": null,
      "outputs": [
        {
          "output_type": "stream",
          "name": "stdout",
          "text": [
            "TransformerLM(\n",
            "  (dropout): Dropout(p=0.1, inplace=False)\n",
            "  (norm): LayerNorm((512,), eps=1e-05, elementwise_affine=True)\n",
            "  (embedding): Embedding(12879, 512)\n",
            "  (positional_encoding): PositionalEncoding(\n",
            "    (dropout): Dropout(p=0.1, inplace=False)\n",
            "  )\n",
            "  (transformer): ModuleList(\n",
            "    (0-5): 6 x TransformerLayer(\n",
            "      (mha): MultiHeadAttention(\n",
            "        (q_proj): Linear(in_features=512, out_features=512, bias=True)\n",
            "        (k_proj): Linear(in_features=512, out_features=512, bias=True)\n",
            "        (v_proj): Linear(in_features=512, out_features=512, bias=True)\n",
            "        (o_proj): Linear(in_features=512, out_features=512, bias=True)\n",
            "        (softmax): Softmax(dim=-1)\n",
            "        (out_dropout): Dropout(p=0.1, inplace=False)\n",
            "        (score_dropout): Dropout(p=0.1, inplace=False)\n",
            "      )\n",
            "      (ffn): FeedForward(\n",
            "        (w_1): Linear(in_features=512, out_features=2048, bias=True)\n",
            "        (w_2): Linear(in_features=2048, out_features=512, bias=True)\n",
            "        (activation): ReLU()\n",
            "        (dropout): Dropout(p=0.1, inplace=False)\n",
            "      )\n",
            "      (norm_attn): LayerNorm((512,), eps=1e-05, elementwise_affine=True)\n",
            "      (norm_ffn): LayerNorm((512,), eps=1e-05, elementwise_affine=True)\n",
            "    )\n",
            "  )\n",
            "  (output_layer): Linear(in_features=512, out_features=12879, bias=True)\n",
            ")\n"
          ]
        }
      ]
    },
    {
      "cell_type": "code",
      "source": [
        "trainable_params = sum(p.numel() for p in model.parameters() if p.requires_grad)\n",
        "print('Trainable params', trainable_params)"
      ],
      "metadata": {
        "id": "2-ob7wlBY_Tw",
        "colab": {
          "base_uri": "https://localhost:8080/"
        },
        "outputId": "03f1bb9f-b941-4867-de71-0f9719a3c57b"
      },
      "execution_count": null,
      "outputs": [
        {
          "output_type": "stream",
          "name": "stdout",
          "text": [
            "Trainable params 25522255\n"
          ]
        }
      ]
    },
    {
      "cell_type": "markdown",
      "source": [
        "## Step 3: Setup training loop"
      ],
      "metadata": {
        "id": "0t18em8Typ_t"
      }
    },
    {
      "cell_type": "code",
      "source": [
        "from torch.optim import SGD, Adam\n",
        "\n",
        "class Trainer:\n",
        "    def __init__(self, model: nn.Module,\n",
        "                 train_loader: DataLoader,\n",
        "                 val_loader: DataLoader,\n",
        "                 vocab: Vocabulary,\n",
        "                 hyperparams: dict,\n",
        "                 num_train_examples: int,\n",
        "                 num_val_examples: int):\n",
        "        self.model = model\n",
        "        self.train_loader = train_loader\n",
        "        self.val_loader = val_loader\n",
        "        self.vocab = vocab\n",
        "        self.optimizer = Adam(params = self.model.parameters(),\n",
        "                              lr = hyperparams['learning_rate'])\n",
        "        self.num_epochs = hyperparams['num_epochs']\n",
        "        self.max_len = hyperparams['max_len']\n",
        "        self.batch_size = hyperparams['batch_size']\n",
        "        self.max_grad_norm = hyperparams['max_grad_norm']\n",
        "        self.num_train_examples = num_train_examples\n",
        "        self.num_val_examples = num_val_examples\n",
        "        # loss for output layer\n",
        "        self.loss_fn = nn.CrossEntropyLoss()\n",
        "\n",
        "\n",
        "    def train_epoch(self, epoch_num: int) -> float:\n",
        "        \"\"\"\n",
        "        Compute the loss on the training set\n",
        "        :param epoch_num: number of current epoch\n",
        "        \"\"\"\n",
        "        self.model.train()\n",
        "        epoch_loss = 0.0\n",
        "        for batch_num, (x, y) in enumerate(train_loader):\n",
        "\n",
        "            x, y = x.to(device), y.to(device)\n",
        "            # reset gradients\n",
        "            self.optimizer.zero_grad()\n",
        "\n",
        "            # unnormalized probabilities\n",
        "            # batch x seq_len x vocab_size\n",
        "            logits = self.model(x)\n",
        "\n",
        "            # TODO: compute loss\n",
        "            # remember, we are making next token predictions over the vocab\n",
        "            # for each token in the sequence, for each sequence in the batch\n",
        "            # !! so we need to flatten the first two dimensions before cross entropy\n",
        "            batch_loss = self.loss_fn(\n",
        "                # batch x seq_len x vocab_size --> (batch*seq_len) x vocab_size\n",
        "                logits.view(-1, logits.size(-1)),\n",
        "                # batch x seq_len --> batch*seq_len\n",
        "                y.view(-1)\n",
        "            )\n",
        "\n",
        "            epoch_loss += batch_loss.item()\n",
        "\n",
        "            # backpropagation (gradient of loss wrt parameters)\n",
        "            batch_loss.backward()\n",
        "\n",
        "            # clip gradients if they get too large\n",
        "            torch.nn.utils.clip_grad_norm_(list(self.model.parameters()),\n",
        "                                           self.max_grad_norm)\n",
        "\n",
        "            # update parameters\n",
        "            self.optimizer.step()\n",
        "\n",
        "            if batch_num % 100 == 0:\n",
        "                print(\"epoch %d, %d/%d examples, batch loss = %f\"\n",
        "                      % (epoch_num, (batch_num + 1) * self.batch_size,\n",
        "                         self.num_train_examples, batch_loss.item()))\n",
        "        epoch_loss /= (batch_num + 1)\n",
        "\n",
        "        return epoch_loss\n",
        "\n",
        "    def eval_epoch(self, epoch_num: int) -> float:\n",
        "        \"\"\"\n",
        "        Compute the loss on the validation set\n",
        "        :param epoch_num: number of current epoch\n",
        "        \"\"\"\n",
        "        epoch_loss = 0.0\n",
        "        self.model.eval()\n",
        "        with torch.no_grad():\n",
        "            for batch_num, (x, y) in enumerate(val_loader):\n",
        "\n",
        "                x, y = x.to(device), y.to(device)\n",
        "                #batch x timesteps x vocab_size\n",
        "                logits = self.model(x)\n",
        "\n",
        "                # TODO: compute loss\n",
        "                # remember, we are making next token predictions over the vocab\n",
        "                # for each token in the sequence, for each sequence in the batch\n",
        "                # !! so we need to flatten the first two dimensions before cross entropy\n",
        "                batch_loss = self.loss_fn(\n",
        "                    # batch x seq_len x vocab_size --> (batch*seq_len) x vocab_size\n",
        "                    logits.view(-1, logits.size(-1)),\n",
        "                    # batch x seq_len --> batch*seq_len\n",
        "                    y.view(-1)\n",
        "                )\n",
        "                epoch_loss += batch_loss.item()\n",
        "\n",
        "            epoch_loss /= (batch_num + 1)\n",
        "\n",
        "        return epoch_loss\n",
        "\n",
        "    def train(self) -> dict:\n",
        "        train_losses, val_losses = [], []\n",
        "        for epoch in range(self.num_epochs):\n",
        "            epoch_train_loss = self.train_epoch(epoch)\n",
        "            epoch_val_loss = self.eval_epoch(epoch)\n",
        "            train_losses.append(epoch_train_loss)\n",
        "            val_losses.append(epoch_val_loss)\n",
        "        return {\"train_losses\": train_losses,\n",
        "                \"val_losses\": val_losses}\n",
        "\n",
        "def plot_losses(metrics: dict):\n",
        "    \"\"\"\n",
        "    Plots training/validation losses.\n",
        "    :param metrics: dictionar\n",
        "    \"\"\"\n",
        "    plt.figure()\n",
        "    plt.plot(metrics['train_losses'], c='b', label='Train')\n",
        "    plt.plot(metrics['val_losses'], c='g', label='Valid')\n",
        "    plt.ylabel('Loss')\n",
        "    plt.xlabel('Iteration')\n",
        "    plt.legend()\n",
        "    plt.show()"
      ],
      "metadata": {
        "id": "MjITc9MnvHId"
      },
      "execution_count": null,
      "outputs": []
    },
    {
      "cell_type": "code",
      "source": [
        "# train the transformer for three epochs, should take about 10-15 mins\n",
        "trainer = Trainer(\n",
        "    model=model,\n",
        "    train_loader=train_loader,\n",
        "    val_loader=val_loader,\n",
        "    vocab=vocab,\n",
        "    hyperparams= _hyperparameters_dict,\n",
        "    num_train_examples=len(train_sequences),\n",
        "    num_val_examples=len(val_sequences)\n",
        ")\n",
        "metrics = trainer.train()"
      ],
      "metadata": {
        "id": "kQkUVJnMZWj9",
        "colab": {
          "base_uri": "https://localhost:8080/"
        },
        "outputId": "4d544574-1274-42ac-8d92-4552de397e55"
      },
      "execution_count": null,
      "outputs": [
        {
          "output_type": "stream",
          "name": "stdout",
          "text": [
            "epoch 0, 32/10876 examples, batch loss = 9.687086\n",
            "epoch 0, 3232/10876 examples, batch loss = 3.144464\n",
            "epoch 0, 6432/10876 examples, batch loss = 2.926179\n",
            "epoch 0, 9632/10876 examples, batch loss = 2.866141\n",
            "epoch 1, 32/10876 examples, batch loss = 2.725466\n",
            "epoch 1, 3232/10876 examples, batch loss = 2.537439\n",
            "epoch 1, 6432/10876 examples, batch loss = 2.456900\n",
            "epoch 1, 9632/10876 examples, batch loss = 2.335306\n",
            "epoch 2, 32/10876 examples, batch loss = 2.156314\n",
            "epoch 2, 3232/10876 examples, batch loss = 1.974524\n",
            "epoch 2, 6432/10876 examples, batch loss = 1.985668\n",
            "epoch 2, 9632/10876 examples, batch loss = 2.007313\n"
          ]
        }
      ]
    },
    {
      "cell_type": "code",
      "source": [
        "plot_losses(metrics)"
      ],
      "metadata": {
        "id": "W8x1SoShfsyb",
        "colab": {
          "base_uri": "https://localhost:8080/",
          "height": 449
        },
        "outputId": "2cde40ee-39ff-4f8f-8607-22ad5a151776"
      },
      "execution_count": null,
      "outputs": [
        {
          "output_type": "display_data",
          "data": {
            "text/plain": [
              "<Figure size 640x480 with 1 Axes>"
            ],
            "image/png": "[encoded data removed]"
          },
          "metadata": {}
        }
      ]
    },
    {
      "cell_type": "markdown",
      "source": [
        "# Part III: Generate text\n",
        "\n",
        "We can use the trained language model to generate novel text that is written in the style of the text it was trained on. At each timestep, the network outputs a probability distribution over tokens.  We can either take the token with maximum probability, or we can sample from this distribution.\n",
        "\n",
        "TODO: Write the `greedy_strategy` and `generate_text_from` functions below:"
      ],
      "metadata": {
        "id": "zutCRVREk5M0"
      }
    },
    {
      "cell_type": "code",
      "source": [
        "def greedy_strategy(probabilities: torch.FloatTensor) -> int:\n",
        "    \"\"\"\n",
        "    Given a Tensor with probabilities, this function returns the token\n",
        "    index with maximum probability\n",
        "    :params probabilities: Tensor of size vocabulary_size\n",
        "    \"\"\"\n",
        "    #TODO\n",
        "    return torch.argmax(probabilities).item()\n",
        "\n",
        "def sample_strategy(probabilities: torch.FloatTensor) -> int:\n",
        "    \"\"\"\n",
        "    Given a Tensor with probabilities (categorical distribution), this function\n",
        "    returns the character index of a sampled element\n",
        "    :params probabilities: Tensor of size vocabulary_size\n",
        "    \"\"\"\n",
        "    #TODO\n",
        "    return torch.multinomial(probabilities, 1).item()"
      ],
      "metadata": {
        "id": "NcujycXjlCqM"
      },
      "execution_count": null,
      "outputs": []
    },
    {
      "cell_type": "code",
      "source": [
        "from typing import Callable\n",
        "class TextGenerator:\n",
        "    def __init__(self, model, vocab):\n",
        "        self.vocab = vocab\n",
        "        self.model = model\n",
        "        self.softmax = nn.Softmax(dim=-1)\n",
        "\n",
        "    def generate_text_from(self, starting_text: str,\n",
        "                           timesteps: int,\n",
        "                           strategy: Callable[..., int],\n",
        "                           temperature: float = 1.0):\n",
        "        \"\"\"\n",
        "        This method generates text from based on the input text.\n",
        "        :param starting_text: text that we condition on\n",
        "        :param timesteps: how many tokens to generate\n",
        "        :param strategy: either greedy_strategy or sample_strategy\n",
        "        :param temperature: coefficient that scales outputs before turning them\n",
        "        to probabilities. A low temperature (0.1) results in more conservative\n",
        "        predictions, while a higher temperature (0.9) results in more diverse\n",
        "        predictions\n",
        "        \"\"\"\n",
        "        # convert text string to Tensor of token ids\n",
        "        # string_len\n",
        "        starting_data = text_to_tensor(starting_text, self.vocab).to(device)\n",
        "\n",
        "        # 1 x string_len\n",
        "        starting_data = starting_data.unsqueeze(0)\n",
        "\n",
        "        # we first need to feed the starting text into the model\n",
        "        # 1 x seq_len x d_model\n",
        "        with torch.no_grad():\n",
        "          all_prev_logits = self.model(starting_data)\n",
        "\n",
        "        # logits for the last position in the sequence\n",
        "        logits = all_prev_logits[:, -1, :]\n",
        "\n",
        "        # scale by temperature\n",
        "        # 1 x vocab_size\n",
        "        logits = logits / temperature\n",
        "\n",
        "        # vocab_size\n",
        "        prev_probs = self.softmax(logits.squeeze())\n",
        "\n",
        "        # start generating text\n",
        "        generated_text = \"\"\n",
        "        prev_tokens_list = [x for x in starting_data[0]]\n",
        "        with torch.no_grad(): #no gradients computed inside this context\n",
        "            for t in range(timesteps):\n",
        "                #TODO: apply strategy to get current token prediction\n",
        "                #top_token_idx = ...\n",
        "                top_token_idx = strategy(prev_probs)\n",
        "\n",
        "\n",
        "                # store already generated tokens\n",
        "                prev_tokens_list.append(top_token_idx)\n",
        "\n",
        "                # add character to already generated text\n",
        "                generated_text += self.vocab.idx_to_token[top_token_idx]\n",
        "\n",
        "                # generate token by token,\n",
        "                # starting from the tokens we already generated\n",
        "                current_input = torch.LongTensor(prev_tokens_list).to(device)\n",
        "                current_input = current_input.unsqueeze(0)\n",
        "                #TODO\n",
        "                #all_prev_logits = ...\n",
        "                all_prev_logits = self.model(current_input)\n",
        "                prev_logits = all_prev_logits[:, -1, :]\n",
        "                prev_probs = self.softmax(prev_logits.squeeze())\n",
        "\n",
        "        return generated_text"
      ],
      "metadata": {
        "id": "Mt41EswsIRA9"
      },
      "execution_count": null,
      "outputs": []
    },
    {
      "cell_type": "code",
      "source": [
        "#CHECKPOINT: try greedy and sampling strategies (with different temperatures)\n",
        "#and inspect the difference in outputs\n",
        "#it's ok if they don't make complete sense, we undertrained :)\n",
        "model.eval()\n",
        "generator = TextGenerator(model, vocab)\n",
        "starting_text = \"Once upon a time \"\n",
        "\n",
        "print('-----Sampling from TransformerLM-----')\n",
        "greedy_text = generator.generate_text_from(\n",
        "            starting_text = starting_text,\n",
        "            timesteps = 200,\n",
        "            strategy = greedy_strategy,\n",
        "            temperature = 1.0)\n",
        "\n",
        "low_temp_text = generator.generate_text_from(\n",
        "            starting_text = starting_text,\n",
        "            timesteps = 200,\n",
        "            strategy = sample_strategy,\n",
        "            temperature = 0.5)\n",
        "print(\"Greedy text: \", greedy_text)\n",
        "print('*' * 10)\n",
        "print(\"Low temperature text: \", low_temp_text)"
      ],
      "metadata": {
        "id": "GLNu4v-wM3w2",
        "colab": {
          "base_uri": "https://localhost:8080/"
        },
        "outputId": "db9d0d40-2fcb-4106-9c3d-ef27b9349145"
      },
      "execution_count": null,
      "outputs": [
        {
          "output_type": "stream",
          "name": "stdout",
          "text": [
            "-----Sampling from TransformerLM-----\n",
            "Greedy text:  there was a little girl named Lily. She loved to play with her toys and play with her friends. One day, she saw a big tree in the park. She was very happy and said, \"I want to play with you?\" \n",
            "\n",
            "Lily said, \"I want to play with you to play with me with you to play with me?\" \n",
            "\n",
            "Lily said, \"I want to play with you to play with you to play with me with you to be careful to play with the toys.\" \n",
            "\n",
            "Lily was happy and \n",
            "**********\n",
            "Low temperature text:  there was a little girl named Lily. She was an old boy named Tom and loved to play together with a walk with his bath. two one day, her mom took the zipper the table at Jordan than the kids. Finally, Benny was sad.\n",
            "\n",
            "Tom nodded and started to make a big tower in the listening in the map every day. The It was so excited. After they heard a tiny flute, It was a skirt she looked to OK, but it smiled and felt happy he had finally marketplace. After saying, he heard\n"
          ]
        }
      ]
    }
  ]
}