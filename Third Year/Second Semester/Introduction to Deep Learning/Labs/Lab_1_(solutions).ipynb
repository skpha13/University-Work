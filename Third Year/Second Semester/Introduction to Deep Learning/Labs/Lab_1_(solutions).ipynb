{
  "nbformat": 4,
  "nbformat_minor": 0,
  "metadata": {
    "colab": {
      "provenance": [],
      "toc_visible": true,
      "gpuType": "T4"
    },
    "kernelspec": {
      "name": "python3",
      "display_name": "Python 3"
    },
    "accelerator": "GPU"
  },
  "cells": [
    {
      "cell_type": "markdown",
      "source": [
        "# Lab terminology:\n",
        "  - **Jupyter notebook** = web-based 'document' where you can *run code* and *display rich content* (images, equations, formatted text etc.)\n",
        "  - **Colab notebook** = Jupyter notebook hosted in the Google cloud and offering access to *GPUs*.\n",
        "  - **PyTorch** = Deep Learning library offering a Python API to:\n",
        "   - manipulate tensors (like NumPy)\n",
        "   - train neural networks"
      ],
      "metadata": {
        "id": "tzWOAvAX5WV5"
      }
    },
    {
      "cell_type": "markdown",
      "metadata": {
        "id": "b0XnD3x1-C44"
      },
      "source": [
        "<font size=25>Laboratory 1 summary</font>\n",
        "\n",
        "In this lab you will:\n",
        "\n",
        "* learn to to create and manipulate tensors\n",
        "\n",
        "* gain an intuition of underfitting and overfitting by computing the closed-form solutions of linear regression over polynomial features"
      ]
    },
    {
      "cell_type": "markdown",
      "metadata": {
        "id": "s9ezP3i7Wzgm"
      },
      "source": [
        "One core concept used in Deep Learning is the **tensor**.\n",
        "\n",
        "A tensor is an interesting mathematical concept that's widely used in many science fields. For the sake of simplicity, we're going to think about a tensor as a multi-dimensional array of real numbers.\n",
        "\n",
        "A 1D tensor is an vector, a 2D tensor is a matrix and so on:\n",
        "\n",
        "![Source: DataCamp](https://i.imgur.com/1Ai1wAB.jpg)\n",
        "*Image source: [DataCamp](https://www.datacamp.com/)*"
      ]
    },
    {
      "cell_type": "markdown",
      "metadata": {
        "id": "WWzkCu8T3B5c"
      },
      "source": [
        "PyTorch is a multi-purpose Machine Learning Python library that has a number of advantages and features:\n",
        "\n",
        "*   It can be used as a general-purpose tensor compute engine (similar to NumPy [[1]]).\n",
        "*   It has GPU acceleration.\n",
        "*   It has a strong auto-differentiation (autograd) engine (we can easily train neural networks with it).\n",
        "*   It is a very popular **deep learning research platform that provides maximum flexibility and speed**.\n",
        "\n",
        "[1]: https://numpy.org/"
      ]
    },
    {
      "cell_type": "markdown",
      "metadata": {
        "id": "Su_o6fbJbLMl"
      },
      "source": [
        "# **Part I: Basic tensor operations**"
      ]
    },
    {
      "cell_type": "markdown",
      "metadata": {
        "id": "c8xdT_QTpTG0"
      },
      "source": [
        "## Initializing tensors"
      ]
    },
    {
      "cell_type": "markdown",
      "metadata": {
        "id": "x4Hj0QIU-_F3"
      },
      "source": [
        "PyTorch supports tensors and provides a lot of useful tensor operations. Let's play with some of them. When in doubt, look up function definitions and examples of use in the official PyTorch documentation https://pytorch.org/docs/stable/tensors.html"
      ]
    },
    {
      "cell_type": "code",
      "metadata": {
        "id": "vikLrtsj4S1C"
      },
      "source": [
        "import torch\n",
        "import numpy"
      ],
      "execution_count": null,
      "outputs": []
    },
    {
      "cell_type": "markdown",
      "source": [
        "### Create tensor from existing data\n",
        "Let's create our first tensor from a list."
      ],
      "metadata": {
        "id": "qmq6OqEQxaI3"
      }
    },
    {
      "cell_type": "code",
      "source": [
        "x = torch.tensor([1, 2, 3.0])\n",
        "print(x)"
      ],
      "metadata": {
        "colab": {
          "base_uri": "https://localhost:8080/"
        },
        "id": "THoKHTPpxksq",
        "outputId": "65f82ead-dc22-4f1d-c363-6eb9693e039a"
      },
      "execution_count": null,
      "outputs": [
        {
          "output_type": "stream",
          "name": "stdout",
          "text": [
            "tensor([1., 2., 3.])\n"
          ]
        }
      ]
    },
    {
      "cell_type": "markdown",
      "source": [
        "What is the type of our Tensor? We can find out by inspecting the ```.dtype``` attribute of the Tensor object. All Tensor types are listed in the documentation: https://pytorch.org/docs/stable/tensor_attributes.html#torch.torch.dtype\n",
        "\n"
      ],
      "metadata": {
        "id": "x5mHn3ZwyVDe"
      }
    },
    {
      "cell_type": "code",
      "source": [
        "print(x.dtype)"
      ],
      "metadata": {
        "colab": {
          "base_uri": "https://localhost:8080/"
        },
        "id": "Ba4DMUloynKf",
        "outputId": "abfa24ce-4e1b-44f4-9033-c2d0f4243ef3"
      },
      "execution_count": null,
      "outputs": [
        {
          "output_type": "stream",
          "name": "stdout",
          "text": [
            "torch.float32\n"
          ]
        }
      ]
    },
    {
      "cell_type": "markdown",
      "source": [
        "What is the size of our Tensor? To find out, call ```.size()``` or the attribute ```.shape``` on the Tensor object."
      ],
      "metadata": {
        "id": "506y9zrpzXhQ"
      }
    },
    {
      "cell_type": "code",
      "source": [
        "print(x.size())\n",
        "print(x.shape)"
      ],
      "metadata": {
        "colab": {
          "base_uri": "https://localhost:8080/"
        },
        "id": "zYUU_Hpwzxfy",
        "outputId": "d1e5953d-ea1e-4d2e-93e6-c72a69a87d06"
      },
      "execution_count": null,
      "outputs": [
        {
          "output_type": "stream",
          "name": "stdout",
          "text": [
            "torch.Size([3])\n",
            "torch.Size([3])\n"
          ]
        }
      ]
    },
    {
      "cell_type": "markdown",
      "source": [
        "Where is our Tensor located? To find out whether the tensor is loaded into RAM or resides on the GPU, inspect the ```.device``` attribute."
      ],
      "metadata": {
        "id": "Pv8hi9gQz6nc"
      }
    },
    {
      "cell_type": "code",
      "source": [
        "print(x.device)"
      ],
      "metadata": {
        "colab": {
          "base_uri": "https://localhost:8080/"
        },
        "id": "cHpH3egk0R7w",
        "outputId": "f888ec34-6c11-493c-898f-c9ef5564347d"
      },
      "execution_count": null,
      "outputs": [
        {
          "output_type": "stream",
          "name": "stdout",
          "text": [
            "cpu\n"
          ]
        }
      ]
    },
    {
      "cell_type": "markdown",
      "source": [
        "To move Tensor to either CPU/GPU, call function ```.to()``` on the Tensor object with the argument ```device='cpu'``` or ```device='cuda'```."
      ],
      "metadata": {
        "id": "FUiHzCS90iTp"
      }
    },
    {
      "cell_type": "code",
      "source": [
        "x = x.to('cuda')\n",
        "print(x.device)"
      ],
      "metadata": {
        "colab": {
          "base_uri": "https://localhost:8080/"
        },
        "id": "TBlpfZkT07YJ",
        "outputId": "7ae89bbd-a3fc-4852-c54b-a8cfa9abe54e"
      },
      "execution_count": null,
      "outputs": [
        {
          "output_type": "stream",
          "name": "stdout",
          "text": [
            "cuda:0\n"
          ]
        }
      ]
    },
    {
      "cell_type": "markdown",
      "source": [
        "Let's move the Tensor back to the CPU."
      ],
      "metadata": {
        "id": "UBLNpqjk19EB"
      }
    },
    {
      "cell_type": "code",
      "source": [
        "x = x.to('cpu')\n",
        "print(x.device)"
      ],
      "metadata": {
        "colab": {
          "base_uri": "https://localhost:8080/"
        },
        "id": "w2BldyIC1TIH",
        "outputId": "7ef8467c-2a29-44c8-ad87-8e98076eafe8"
      },
      "execution_count": null,
      "outputs": [
        {
          "output_type": "stream",
          "name": "stdout",
          "text": [
            "cpu\n"
          ]
        }
      ]
    },
    {
      "cell_type": "markdown",
      "source": [
        "Let's now create 2 other Tensors of different shapes."
      ],
      "metadata": {
        "id": "8EuBazM72G8N"
      }
    },
    {
      "cell_type": "code",
      "source": [
        "y = torch.tensor([[1, 2, 3],\n",
        "                  [4, 5, 6.0]])\n",
        "z = torch.tensor([[[3, 7], [6, 1]],\n",
        "                  [[0, 9], [2, 5]]])\n",
        "print(y)\n",
        "print(z)"
      ],
      "metadata": {
        "colab": {
          "base_uri": "https://localhost:8080/"
        },
        "id": "P7Xa1Mz71VGU",
        "outputId": "4beda616-6e2b-4be8-a0f7-144f3359b46d"
      },
      "execution_count": null,
      "outputs": [
        {
          "output_type": "stream",
          "name": "stdout",
          "text": [
            "tensor([[1., 2., 3.],\n",
            "        [4., 5., 6.]])\n",
            "tensor([[[3, 7],\n",
            "         [6, 1]],\n",
            "\n",
            "        [[0, 9],\n",
            "         [2, 5]]])\n"
          ]
        }
      ]
    },
    {
      "cell_type": "markdown",
      "source": [
        "What are the shapes and types of ```y``` and ```z```?"
      ],
      "metadata": {
        "id": "Gzmsuz_t2qkT"
      }
    },
    {
      "cell_type": "code",
      "source": [
        "print('y shape: ', y.size())\n",
        "print('z shape: ', z.size())\n",
        "print('y type: ', y.dtype)\n",
        "print('z type: ', z.dtype)"
      ],
      "metadata": {
        "colab": {
          "base_uri": "https://localhost:8080/"
        },
        "id": "9n-cf3EB2wAG",
        "outputId": "a5c680ba-44d5-4148-86b4-e78bf7b67da5"
      },
      "execution_count": null,
      "outputs": [
        {
          "output_type": "stream",
          "name": "stdout",
          "text": [
            "y shape:  torch.Size([2, 3])\n",
            "z shape:  torch.Size([2, 2, 2])\n",
            "y type:  torch.float32\n",
            "z type:  torch.int64\n"
          ]
        }
      ]
    },
    {
      "cell_type": "markdown",
      "source": [
        "### Create tensor using predefined operations\n",
        "\n",
        "Let's create a Tensor and populate it with random numbers. We can call the [```torch.rand()```](https://pytorch.org/docs/stable/generated/torch.rand.html#torch.rand) function, which populates the Tensor with numbers from U(0, 1). The function requires the dimensions of the Tensor as arguments."
      ],
      "metadata": {
        "id": "Lb9Q_G8j3Hlf"
      }
    },
    {
      "cell_type": "code",
      "source": [
        "x = torch.rand(2, 3)\n",
        "print(x)"
      ],
      "metadata": {
        "colab": {
          "base_uri": "https://localhost:8080/"
        },
        "id": "DViUnz8s4-Q1",
        "outputId": "122012fe-fc78-49f5-a8f2-a3ef2f829a7e"
      },
      "execution_count": null,
      "outputs": [
        {
          "output_type": "stream",
          "name": "stdout",
          "text": [
            "tensor([[0.2216, 0.6461, 0.7154],\n",
            "        [0.4299, 0.4056, 0.8010]])\n"
          ]
        }
      ]
    },
    {
      "cell_type": "markdown",
      "source": [
        "To create a Tensor filled with 1s, use the function ```torch.ones()```."
      ],
      "metadata": {
        "id": "G2GojP_p6Fdf"
      }
    },
    {
      "cell_type": "code",
      "metadata": {
        "id": "TrU9Rhyt4xmI",
        "colab": {
          "base_uri": "https://localhost:8080/"
        },
        "outputId": "ef7e2f4b-9b54-401d-ab52-a3342960d85e"
      },
      "source": [
        "x = torch.ones(3, 3)  # Creates a 3x3 2D Tensor initialized with 1s\n",
        "print(f'2D Tensor: \\n{x}')\n",
        "print(f'type: {x.dtype}')"
      ],
      "execution_count": null,
      "outputs": [
        {
          "output_type": "stream",
          "name": "stdout",
          "text": [
            "2D Tensor: \n",
            "tensor([[1., 1., 1.],\n",
            "        [1., 1., 1.],\n",
            "        [1., 1., 1.]])\n",
            "type: torch.float32\n"
          ]
        }
      ]
    },
    {
      "cell_type": "markdown",
      "source": [
        "To create a Tensor filled with zeros, use the function ```torch.zeros()```."
      ],
      "metadata": {
        "id": "u6NOosp56VCS"
      }
    },
    {
      "cell_type": "code",
      "metadata": {
        "id": "VWe0uEwP40G0",
        "colab": {
          "base_uri": "https://localhost:8080/"
        },
        "outputId": "4894696c-179d-43f6-e21c-878ed6a3bc74"
      },
      "source": [
        "x = torch.zeros(3, 3, 3)  # Creates a 3x3x3 3D Tensor initialized with 0s\n",
        "print(f'3D Tensor: \\n{x}')\n",
        "print(f'type: {x.dtype}')"
      ],
      "execution_count": null,
      "outputs": [
        {
          "output_type": "stream",
          "name": "stdout",
          "text": [
            "3D Tensor: \n",
            "tensor([[[0., 0., 0.],\n",
            "         [0., 0., 0.],\n",
            "         [0., 0., 0.]],\n",
            "\n",
            "        [[0., 0., 0.],\n",
            "         [0., 0., 0.],\n",
            "         [0., 0., 0.]],\n",
            "\n",
            "        [[0., 0., 0.],\n",
            "         [0., 0., 0.],\n",
            "         [0., 0., 0.]]])\n",
            "type: torch.float32\n"
          ]
        }
      ]
    },
    {
      "cell_type": "markdown",
      "source": [
        "TODO: Create a 2D Tensor of size 100x100 representing an identity matrix. Use a predefined ```PyTorch``` operation (hint: look up function in the documentation - section Creation Ops [link to documentation](https://pytorch.org/docs/stable/torch.html#tensor-creation-ops))"
      ],
      "metadata": {
        "id": "bvEiKe527O6k"
      }
    },
    {
      "cell_type": "code",
      "source": [
        "x = torch.eye(100)\n",
        "print(x)\n",
        "print(x.size())"
      ],
      "metadata": {
        "colab": {
          "base_uri": "https://localhost:8080/"
        },
        "id": "QxUk3EuI25j0",
        "outputId": "4ce09c20-c89c-408e-8e6a-5911aebf6ff6"
      },
      "execution_count": null,
      "outputs": [
        {
          "output_type": "stream",
          "name": "stdout",
          "text": [
            "tensor([[1., 0., 0.,  ..., 0., 0., 0.],\n",
            "        [0., 1., 0.,  ..., 0., 0., 0.],\n",
            "        [0., 0., 1.,  ..., 0., 0., 0.],\n",
            "        ...,\n",
            "        [0., 0., 0.,  ..., 1., 0., 0.],\n",
            "        [0., 0., 0.,  ..., 0., 1., 0.],\n",
            "        [0., 0., 0.,  ..., 0., 0., 1.]])\n",
            "torch.Size([100, 100])\n"
          ]
        }
      ]
    },
    {
      "cell_type": "markdown",
      "source": [
        "You can create an interval \\[```start_index```, ```stop_index```) using the [```torch.arange()```](https://pytorch.org/docs/stable/generated/torch.arange.html#torch.arange) function."
      ],
      "metadata": {
        "id": "WcxUFXsU40P3"
      }
    },
    {
      "cell_type": "code",
      "source": [
        "x = torch.arange(start=0, end=10)\n",
        "print(x)"
      ],
      "metadata": {
        "colab": {
          "base_uri": "https://localhost:8080/"
        },
        "id": "kGdXZEMsExbR",
        "outputId": "d5a48a80-9f30-46c5-a164-b4a5676c26a8"
      },
      "execution_count": null,
      "outputs": [
        {
          "output_type": "stream",
          "name": "stdout",
          "text": [
            "tensor([0, 1, 2, 3, 4, 5, 6, 7, 8, 9])\n"
          ]
        }
      ]
    },
    {
      "cell_type": "markdown",
      "source": [
        "If you want steps > 1, use the ```step``` argument"
      ],
      "metadata": {
        "id": "6xw5d8iqE3wh"
      }
    },
    {
      "cell_type": "code",
      "source": [
        "x = torch.arange(start=10, end=20, step=2)\n",
        "print(x)"
      ],
      "metadata": {
        "colab": {
          "base_uri": "https://localhost:8080/"
        },
        "id": "QnhBG0YMFDVd",
        "outputId": "c2c63b91-db13-47f6-ee96-19786a319c8a"
      },
      "execution_count": null,
      "outputs": [
        {
          "output_type": "stream",
          "name": "stdout",
          "text": [
            "tensor([10, 12, 14, 16, 18])\n"
          ]
        }
      ]
    },
    {
      "cell_type": "markdown",
      "source": [
        "### Conversions\n",
        "\n",
        "To convert a Float Tensor let's say to Long, use the [```.long()```](https://pytorch.org/docs/stable/generated/torch.Tensor.long.html?highlight=long) function."
      ],
      "metadata": {
        "id": "xkHkd-OT760P"
      }
    },
    {
      "cell_type": "code",
      "source": [
        "x = torch.ones(2, 3)\n",
        "print(x)\n",
        "print(x.dtype)\n",
        "\n",
        "y = x.long()\n",
        "print(y)\n",
        "print(y.dtype)"
      ],
      "metadata": {
        "colab": {
          "base_uri": "https://localhost:8080/"
        },
        "id": "zWmoAhGw8G91",
        "outputId": "c15a65e8-2361-4300-9da0-3f61b3273ae4"
      },
      "execution_count": null,
      "outputs": [
        {
          "output_type": "stream",
          "name": "stdout",
          "text": [
            "tensor([[1., 1., 1.],\n",
            "        [1., 1., 1.]])\n",
            "torch.float32\n",
            "tensor([[1, 1, 1],\n",
            "        [1, 1, 1]])\n",
            "torch.int64\n"
          ]
        }
      ]
    },
    {
      "cell_type": "markdown",
      "source": [
        "Another option is to call the [```.to()```](https://pytorch.org/docs/stable/generated/torch.Tensor.to.html#torch.Tensor.to) function (which we used to move Tensors to GPU and back to CPU) and specify the ```dtype``` argument."
      ],
      "metadata": {
        "id": "A2ktTipW84H4"
      }
    },
    {
      "cell_type": "code",
      "source": [
        "z = x.to(dtype=torch.int32)\n",
        "print(z)\n",
        "print(z.dtype)"
      ],
      "metadata": {
        "colab": {
          "base_uri": "https://localhost:8080/"
        },
        "id": "08UULINl9P8z",
        "outputId": "55a4bfaa-5e51-4619-93cd-4e7b8032ef6c"
      },
      "execution_count": null,
      "outputs": [
        {
          "output_type": "stream",
          "name": "stdout",
          "text": [
            "tensor([[1, 1, 1],\n",
            "        [1, 1, 1]], dtype=torch.int32)\n",
            "torch.int32\n"
          ]
        }
      ]
    },
    {
      "cell_type": "markdown",
      "source": [
        "Sometimes our datasets are saved as [NumPy](https://numpy.org/doc/stable/reference/index.html#reference) arrays. To convert them to Tensors, call the [```torch.from_numpy```](https://pytorch.org/docs/stable/generated/torch.from_numpy.html#torch.from_numpy) (or [```torch.astensor()```](https://pytorch.org/docs/stable/generated/torch.as_tensor.html?highlight=as_tensor#torch.as_tensor)) function."
      ],
      "metadata": {
        "id": "LtYQTN0W9ngx"
      }
    },
    {
      "cell_type": "code",
      "source": [
        "x_np = numpy.array([1, 2, 3])\n",
        "x = torch.from_numpy(x_np)\n",
        "print(x)\n",
        "print(x.dtype)\n"
      ],
      "metadata": {
        "colab": {
          "base_uri": "https://localhost:8080/"
        },
        "id": "94U6M-ej-W53",
        "outputId": "b8861c62-a66d-495e-d955-acdcbc1e4f17"
      },
      "execution_count": null,
      "outputs": [
        {
          "output_type": "stream",
          "name": "stdout",
          "text": [
            "tensor([1, 2, 3])\n",
            "torch.int64\n"
          ]
        }
      ]
    },
    {
      "cell_type": "markdown",
      "source": [
        "**Careful:** The returned tensor will share the same memory as the original tensor."
      ],
      "metadata": {
        "id": "YJKKqDxgcgVE"
      }
    },
    {
      "cell_type": "code",
      "source": [
        "x[0] = -10\n",
        "print(\"x = \", x)\n",
        "print(\"x_np = \", x_np)"
      ],
      "metadata": {
        "colab": {
          "base_uri": "https://localhost:8080/"
        },
        "id": "VoXZGAM8hVIV",
        "outputId": "8488e426-bdff-4e93-8fcd-c76965b6d4c3"
      },
      "execution_count": null,
      "outputs": [
        {
          "output_type": "stream",
          "name": "stdout",
          "text": [
            "x =  tensor([-10,   2,   3])\n",
            "x_np =  [-10   2   3]\n"
          ]
        }
      ]
    },
    {
      "cell_type": "markdown",
      "source": [
        "To return a Tensor without sharing memory with the old one, call [```torch.tensor```](https://pytorch.org/docs/stable/generated/torch.tensor.html#torch.tensor):"
      ],
      "metadata": {
        "id": "e4C-HLU-iMEr"
      }
    },
    {
      "cell_type": "code",
      "source": [
        "x_np = numpy.array([1, 2, 3])\n",
        "x = torch.tensor(x_np)\n",
        "print(x)\n",
        "print(x.dtype)\n",
        "x[0] = -10\n",
        "print(\"x = \", x)\n",
        "print(\"x_np = \", x_np)"
      ],
      "metadata": {
        "colab": {
          "base_uri": "https://localhost:8080/"
        },
        "id": "blHXZnlDuO7y",
        "outputId": "f5f7b7b6-14ca-4b5c-c15a-30fccfd07ef6"
      },
      "execution_count": null,
      "outputs": [
        {
          "output_type": "stream",
          "name": "stdout",
          "text": [
            "tensor([1, 2, 3])\n",
            "torch.int64\n",
            "x =  tensor([-10,   2,   3])\n",
            "x_np =  [1 2 3]\n"
          ]
        }
      ]
    },
    {
      "cell_type": "markdown",
      "metadata": {
        "id": "6AFPOWKQCeq-"
      },
      "source": [
        "## Basic arithmetic\n",
        "Let's do some basic matrix operations with PyTorch.\n"
      ]
    },
    {
      "cell_type": "code",
      "metadata": {
        "id": "SD8e49maUkib",
        "colab": {
          "base_uri": "https://localhost:8080/"
        },
        "outputId": "6bf1e1dc-ed21-48e5-d85a-635747a54363"
      },
      "source": [
        "# Create a 3x4 random PyTorch Tensor and a 3x4 one filled with ones.\n",
        "rand_tens = torch.randn(3, 4)\n",
        "ones_tens = torch.ones(3, 4)\n",
        "print(f'Random PyTorch Tensor:\\n{rand_tens}')\n",
        "print(f'Ones PyTorch Tensor:\\n{ones_tens}')"
      ],
      "execution_count": null,
      "outputs": [
        {
          "output_type": "stream",
          "name": "stdout",
          "text": [
            "Random PyTorch Tensor:\n",
            "tensor([[-0.0264,  0.3871, -0.3946, -0.9161],\n",
            "        [-2.0729,  0.2291,  1.1042, -0.1959],\n",
            "        [-0.9296, -0.2935,  0.6338, -0.6305]])\n",
            "Ones PyTorch Tensor:\n",
            "tensor([[1., 1., 1., 1.],\n",
            "        [1., 1., 1., 1.],\n",
            "        [1., 1., 1., 1.]])\n"
          ]
        }
      ]
    },
    {
      "cell_type": "markdown",
      "metadata": {
        "id": "W-PRVjpn9FCB"
      },
      "source": [
        "You can perform addition:"
      ]
    },
    {
      "cell_type": "code",
      "metadata": {
        "id": "wpDxNYCS6A_p",
        "colab": {
          "base_uri": "https://localhost:8080/"
        },
        "outputId": "d6a47e9f-3a89-4a23-a83d-f2d80760ce48"
      },
      "source": [
        "print(f'Their sum:\\n{ones_tens + rand_tens}')"
      ],
      "execution_count": null,
      "outputs": [
        {
          "output_type": "stream",
          "name": "stdout",
          "text": [
            "Their sum:\n",
            "tensor([[ 0.9736,  1.3871,  0.6054,  0.0839],\n",
            "        [-1.0729,  1.2291,  2.1042,  0.8041],\n",
            "        [ 0.0704,  0.7065,  1.6338,  0.3695]])\n"
          ]
        }
      ]
    },
    {
      "cell_type": "markdown",
      "metadata": {
        "id": "NPzhCvBa9I5G"
      },
      "source": [
        "And subtraction:"
      ]
    },
    {
      "cell_type": "code",
      "metadata": {
        "id": "LCgi5jRQ6fm-",
        "colab": {
          "base_uri": "https://localhost:8080/"
        },
        "outputId": "1b6c7692-f10f-4988-d940-9c8c3057dd69"
      },
      "source": [
        "print(f'Their difference:\\n{ones_tens - rand_tens}')"
      ],
      "execution_count": null,
      "outputs": [
        {
          "output_type": "stream",
          "text": [
            "Their difference:\n",
            "tensor([[ 0.5559,  0.8245,  2.3791,  1.4079],\n",
            "        [ 0.1452,  2.5873,  3.8539, -0.0159],\n",
            "        [ 2.6049,  0.9513,  0.3727,  0.7197]])\n"
          ],
          "name": "stdout"
        }
      ]
    },
    {
      "cell_type": "markdown",
      "metadata": {
        "id": "1I9AL2XE74kE"
      },
      "source": [
        "Matrix addition is not defined if the shapes are not the same. What do you think happens if you add a number to a Tensor?"
      ]
    },
    {
      "cell_type": "code",
      "metadata": {
        "id": "A917-vhv8AZr",
        "colab": {
          "base_uri": "https://localhost:8080/"
        },
        "outputId": "7fbea20b-5e58-4860-eda8-3be4d0926cd2"
      },
      "source": [
        "resulting = ones_tens + 1\n",
        "print(resulting)"
      ],
      "execution_count": null,
      "outputs": [
        {
          "output_type": "stream",
          "name": "stdout",
          "text": [
            "tensor([[2., 2., 2., 2.],\n",
            "        [2., 2., 2., 2.],\n",
            "        [2., 2., 2., 2.]])\n"
          ]
        }
      ]
    },
    {
      "cell_type": "markdown",
      "metadata": {
        "id": "3lVcxbo68Rqr"
      },
      "source": [
        "Notice how *1* is added to every element in the Tensor. This convenient operation is called *broadcasting* and it's a way of '**stretching/copying**' some Tensor dimensions - we're gonna come back to this concept a bit later.\n",
        "\n",
        "Let's now multiply two matrices using `torch.mm()`:\n"
      ]
    },
    {
      "cell_type": "code",
      "metadata": {
        "id": "E7WAHNyY-EpZ",
        "colab": {
          "base_uri": "https://localhost:8080/",
          "height": 165
        },
        "outputId": "06e7cb5b-cac2-4d2f-abe8-12b07b83f057"
      },
      "source": [
        "print(f'Their product:\\n{torch.mm(ones_tens, rand_tens)}')"
      ],
      "execution_count": null,
      "outputs": [
        {
          "output_type": "error",
          "ename": "RuntimeError",
          "evalue": "ignored",
          "traceback": [
            "\u001b[0;31m---------------------------------------------------------------------------\u001b[0m",
            "\u001b[0;31mRuntimeError\u001b[0m                              Traceback (most recent call last)",
            "\u001b[0;32m<ipython-input-10-1eb0e0613237>\u001b[0m in \u001b[0;36m<module>\u001b[0;34m\u001b[0m\n\u001b[0;32m----> 1\u001b[0;31m \u001b[0mprint\u001b[0m\u001b[0;34m(\u001b[0m\u001b[0;34mf'Their product:\\n{torch.mm(ones_tens, rand_tens)}'\u001b[0m\u001b[0;34m)\u001b[0m\u001b[0;34m\u001b[0m\u001b[0;34m\u001b[0m\u001b[0m\n\u001b[0m",
            "\u001b[0;31mRuntimeError\u001b[0m: mat1 and mat2 shapes cannot be multiplied (3x4 and 3x4)"
          ]
        }
      ]
    },
    {
      "cell_type": "markdown",
      "metadata": {
        "id": "2Ize7HSX-JIe"
      },
      "source": [
        "Whoops. Recall from Linear Algebra that matrix dimensions must agree. If A is an `m×n` matrix and B is an `n×p` matrix, the product will be an `m×p` matrix. Let's use `torch.transpose()` to swap the dimensions of `rand_tens`:"
      ]
    },
    {
      "cell_type": "code",
      "metadata": {
        "id": "XfRp1KCl6g6r",
        "colab": {
          "base_uri": "https://localhost:8080/"
        },
        "outputId": "03bbb35a-68c7-48f0-e822-3197bf4a715d"
      },
      "source": [
        "print(f'Their product:\\n{torch.mm(ones_tens, torch.transpose(rand_tens, 0, 1))}')"
      ],
      "execution_count": null,
      "outputs": [
        {
          "output_type": "stream",
          "name": "stdout",
          "text": [
            "Their product:\n",
            "tensor([[1.7605, 1.0942, 0.9013],\n",
            "        [1.7605, 1.0942, 0.9013],\n",
            "        [1.7605, 1.0942, 0.9013]])\n"
          ]
        }
      ]
    },
    {
      "cell_type": "markdown",
      "source": [
        "TODO: Compute $X = ABC$, where $A$, $B$ and $C$ are three matrices defined below:"
      ],
      "metadata": {
        "id": "hLO_b7uyHegG"
      }
    },
    {
      "cell_type": "code",
      "source": [
        "A = torch.rand(3, 10)\n",
        "B = torch.rand(10, 30)\n",
        "C = torch.rand(30, 5)\n",
        "#v1:\n",
        "X1 = torch.mm(A, torch.mm(B, C))\n",
        "#v2:\n",
        "X2 = torch.mm(torch.mm(A, B), C)\n",
        "\n",
        "#v3\n",
        "X3 = A @ B @ C\n",
        "print(X1)\n",
        "print(X2)\n",
        "print(X3)"
      ],
      "metadata": {
        "colab": {
          "base_uri": "https://localhost:8080/"
        },
        "id": "oWICTrtbHfB7",
        "outputId": "23323ee5-c61a-4ab7-fd38-3671445f8741"
      },
      "execution_count": null,
      "outputs": [
        {
          "output_type": "stream",
          "name": "stdout",
          "text": [
            "tensor([[36.1994, 28.2019, 35.2404, 25.9197, 29.0815],\n",
            "        [33.9951, 26.6612, 32.6809, 25.2049, 27.3244],\n",
            "        [38.7682, 30.2040, 37.8181, 28.4483, 30.6151]])\n",
            "tensor([[36.1994, 28.2019, 35.2404, 25.9197, 29.0815],\n",
            "        [33.9951, 26.6612, 32.6809, 25.2049, 27.3244],\n",
            "        [38.7683, 30.2040, 37.8181, 28.4483, 30.6151]])\n",
            "tensor([[36.1994, 28.2019, 35.2404, 25.9197, 29.0815],\n",
            "        [33.9951, 26.6612, 32.6809, 25.2049, 27.3244],\n",
            "        [38.7683, 30.2040, 37.8181, 28.4483, 30.6151]])\n"
          ]
        }
      ]
    },
    {
      "cell_type": "markdown",
      "source": [
        "Do not confuse ```torch.mm``` with ```*``` operator, which computes elementwise multiplication (if Tensor dimensions agreee):"
      ],
      "metadata": {
        "id": "zOI2juH8ND_E"
      }
    },
    {
      "cell_type": "code",
      "source": [
        "x = torch.arange(0, 10)\n",
        "y = torch.arange(10, 20)\n",
        "print('x = ', x)\n",
        "print('y = ', y)\n",
        "print('elementwise multiplication: ', x*y)"
      ],
      "metadata": {
        "colab": {
          "base_uri": "https://localhost:8080/"
        },
        "id": "swqINzFNHhXJ",
        "outputId": "875498fc-23e6-47e2-e509-a7e99aa01ca2"
      },
      "execution_count": null,
      "outputs": [
        {
          "output_type": "stream",
          "name": "stdout",
          "text": [
            "tensor([0, 1, 2, 3, 4, 5, 6, 7, 8, 9])\n",
            "tensor([10, 11, 12, 13, 14, 15, 16, 17, 18, 19])\n",
            "elementwise multiplication:  tensor([  0,  11,  24,  39,  56,  75,  96, 119, 144, 171])\n"
          ]
        }
      ]
    },
    {
      "cell_type": "markdown",
      "source": [
        "Let's compute the sum of all the elements in a Tensor using ```torch.sum()```."
      ],
      "metadata": {
        "id": "IdZurKuWNxGH"
      }
    },
    {
      "cell_type": "code",
      "source": [
        "x = torch.ones(2, 5)\n",
        "print(x)"
      ],
      "metadata": {
        "colab": {
          "base_uri": "https://localhost:8080/"
        },
        "id": "f1z_mmEmN4zW",
        "outputId": "61b73af2-b3f0-49e8-cdb2-b3847ac07529"
      },
      "execution_count": null,
      "outputs": [
        {
          "output_type": "stream",
          "name": "stdout",
          "text": [
            "tensor([[1., 1., 1., 1., 1.],\n",
            "        [1., 1., 1., 1., 1.]])\n"
          ]
        }
      ]
    },
    {
      "cell_type": "code",
      "source": [
        "print('sum of elements in x = ', torch.sum(x))"
      ],
      "metadata": {
        "colab": {
          "base_uri": "https://localhost:8080/"
        },
        "id": "EHCPDYivOBCf",
        "outputId": "c109a327-17a4-4d30-cf78-5302b2b90743"
      },
      "execution_count": null,
      "outputs": [
        {
          "output_type": "stream",
          "name": "stdout",
          "text": [
            "sum of elements in x =  tensor(10.)\n"
          ]
        }
      ]
    },
    {
      "cell_type": "markdown",
      "source": [
        "What if we want to compute the sum of each column of a 2D Tensor? We can specify the ```dim``` argument:"
      ],
      "metadata": {
        "id": "S2Xe23TCOcBo"
      }
    },
    {
      "cell_type": "code",
      "source": [
        "# dim refers to the axis/dimension over which the operation is performed (i.e. over rows - dimension 0)\n",
        "torch.sum(x, dim=0)"
      ],
      "metadata": {
        "colab": {
          "base_uri": "https://localhost:8080/"
        },
        "id": "9Lx6EfPqPFOY",
        "outputId": "ac01545c-1d47-4d92-d590-40c3b49e1421"
      },
      "execution_count": null,
      "outputs": [
        {
          "output_type": "execute_result",
          "data": {
            "text/plain": [
              "tensor([2., 2., 2., 2., 2.])"
            ]
          },
          "metadata": {},
          "execution_count": 35
        }
      ]
    },
    {
      "cell_type": "markdown",
      "source": [
        "What happens when we specify ```dim=1```?"
      ],
      "metadata": {
        "id": "F78NfmcS_1Fm"
      }
    },
    {
      "cell_type": "code",
      "source": [
        "torch.sum(x, dim=1)"
      ],
      "metadata": {
        "colab": {
          "base_uri": "https://localhost:8080/"
        },
        "id": "AplByDtyRSUn",
        "outputId": "961b7388-6ffa-4922-de15-082436ce3aa6"
      },
      "execution_count": null,
      "outputs": [
        {
          "output_type": "execute_result",
          "data": {
            "text/plain": [
              "tensor([5., 5.])"
            ]
          },
          "metadata": {},
          "execution_count": 36
        }
      ]
    },
    {
      "cell_type": "markdown",
      "source": [
        "The sum is of each row is computed, by aggregating the elements over the columns (dimension 1). You can think of `dim` as the dimension which is reduced/collapses as a result of the operation.  "
      ],
      "metadata": {
        "id": "UITZPyM2Q2X0"
      }
    },
    {
      "cell_type": "code",
      "source": [
        "# tensor containing 100 images\n",
        "images = torch.randn(100, 3, 32, 32)\n",
        "\n",
        "# TODO: compute pixelwise mean over the 3 channels\n",
        "ch_mean = torch.mean(images, dim=1)\n",
        "\n",
        "print(ch_mean.size())"
      ],
      "metadata": {
        "id": "rN-uHSI6_xwm",
        "colab": {
          "base_uri": "https://localhost:8080/"
        },
        "outputId": "37e05e21-7910-4a74-a252-4fe69b6549cd"
      },
      "execution_count": null,
      "outputs": [
        {
          "output_type": "stream",
          "name": "stdout",
          "text": [
            "torch.Size([100, 32, 32])\n"
          ]
        }
      ]
    },
    {
      "cell_type": "markdown",
      "source": [
        "We can compute the vector norm of a 1D Tensor of length n using [```torch.linalg.norm()```](https://pytorch.org/docs/stable/generated/torch.linalg.norm.html#torch.linalg.norm):\n",
        "$$\\|\\textbf{x}\\| = \\sqrt{x_1^{2}+x_2^{2}+...+x_n^{2}}$$"
      ],
      "metadata": {
        "id": "DaeLJ_cdTAzF"
      }
    },
    {
      "cell_type": "code",
      "source": [
        "x = torch.rand(10)\n",
        "x_norm = torch.linalg.norm(x)\n",
        "print(x)\n",
        "print(\"norm = \", x_norm)"
      ],
      "metadata": {
        "colab": {
          "base_uri": "https://localhost:8080/"
        },
        "id": "r1GLUZhnRl2Y",
        "outputId": "e383f199-a85a-464d-afaa-375e19352c78"
      },
      "execution_count": null,
      "outputs": [
        {
          "output_type": "stream",
          "name": "stdout",
          "text": [
            "tensor([0.0043, 0.9337, 0.4298, 0.2514, 0.4197, 0.4880, 0.0140, 0.8498, 0.2057,\n",
            "        0.4671])\n",
            "norm =  tensor(1.5865)\n"
          ]
        }
      ]
    },
    {
      "cell_type": "markdown",
      "source": [
        "TODO: compute the vector norm using [```torch.sum()```](https://pytorch.org/docs/stable/generated/torch.sum.html?highlight=sum#torch.sum) and [```torch.sqrt()```](https://pytorch.org/docs/stable/generated/torch.sqrt.html?highlight=sqrt#torch.sqrt)"
      ],
      "metadata": {
        "id": "wcLWbBTKTl4f"
      }
    },
    {
      "cell_type": "code",
      "source": [
        "x_norm_2 = torch.sqrt(torch.sum(x*x))\n",
        "print(\"norm = \", x_norm_2)"
      ],
      "metadata": {
        "colab": {
          "base_uri": "https://localhost:8080/"
        },
        "id": "96iJRvyrTTMN",
        "outputId": "dddc90a5-bc7e-4306-8b71-b841fa0d5416"
      },
      "execution_count": null,
      "outputs": [
        {
          "output_type": "stream",
          "name": "stdout",
          "text": [
            "norm =  tensor(1.5865)\n"
          ]
        }
      ]
    },
    {
      "cell_type": "markdown",
      "metadata": {
        "id": "iLho2sv2pgk9"
      },
      "source": [
        "## Non-arithmetic tensor operations"
      ]
    },
    {
      "cell_type": "markdown",
      "metadata": {
        "id": "ZFfx7ACUbei7"
      },
      "source": [
        "You can also do non-arithmetic operations, like slicing, reshaping and concatenation."
      ]
    },
    {
      "cell_type": "markdown",
      "metadata": {
        "id": "bml81BjOSs77"
      },
      "source": [
        "### Concatenating & Stacking Tensors"
      ]
    },
    {
      "cell_type": "code",
      "metadata": {
        "id": "qz6r-T2rbdRx",
        "colab": {
          "base_uri": "https://localhost:8080/"
        },
        "outputId": "3a689f02-3aa8-4e36-8740-4247885de65e"
      },
      "source": [
        "# Let's make some 2D Tensors:\n",
        "m1 = torch.zeros(3, 4)\n",
        "m2 = torch.ones(3, 4)\n",
        "m3 = torch.ones(3, 4) * 2\n",
        "print(f'm1: {m1} shape: {m1.shape}\\nm2: {m2} shape: {m2.shape}\\nm3: {m3} shape: {m3.shape}')"
      ],
      "execution_count": null,
      "outputs": [
        {
          "output_type": "stream",
          "name": "stdout",
          "text": [
            "m1: tensor([[0., 0., 0., 0.],\n",
            "        [0., 0., 0., 0.],\n",
            "        [0., 0., 0., 0.]]) shape: torch.Size([3, 4])\n",
            "m2: tensor([[1., 1., 1., 1.],\n",
            "        [1., 1., 1., 1.],\n",
            "        [1., 1., 1., 1.]]) shape: torch.Size([3, 4])\n",
            "m3: tensor([[2., 2., 2., 2.],\n",
            "        [2., 2., 2., 2.],\n",
            "        [2., 2., 2., 2.]]) shape: torch.Size([3, 4])\n"
          ]
        }
      ]
    },
    {
      "cell_type": "markdown",
      "metadata": {
        "id": "jA0tu3I4Hijt"
      },
      "source": [
        "Let's concatenate them over dimension 0:"
      ]
    },
    {
      "cell_type": "code",
      "metadata": {
        "id": "_XA6P7xgHfwo",
        "colab": {
          "base_uri": "https://localhost:8080/"
        },
        "outputId": "f9680094-5d90-4e44-803e-34dfd2e38225"
      },
      "source": [
        "concat = torch.cat((m1, m2, m3), dim=0)\n",
        "print(f'Concatenated (dim=0):\\n{concat} shape: {concat.shape}')"
      ],
      "execution_count": null,
      "outputs": [
        {
          "output_type": "stream",
          "name": "stdout",
          "text": [
            "Concatenated (dim=0):\n",
            "tensor([[0., 0., 0., 0.],\n",
            "        [0., 0., 0., 0.],\n",
            "        [0., 0., 0., 0.],\n",
            "        [1., 1., 1., 1.],\n",
            "        [1., 1., 1., 1.],\n",
            "        [1., 1., 1., 1.],\n",
            "        [2., 2., 2., 2.],\n",
            "        [2., 2., 2., 2.],\n",
            "        [2., 2., 2., 2.]]) shape: torch.Size([9, 4])\n"
          ]
        }
      ]
    },
    {
      "cell_type": "markdown",
      "metadata": {
        "id": "s-0906OgHrlA"
      },
      "source": [
        "... or over dimension 1:"
      ]
    },
    {
      "cell_type": "code",
      "metadata": {
        "id": "TmQumtrtHqZV",
        "colab": {
          "base_uri": "https://localhost:8080/"
        },
        "outputId": "6f9b62e5-450c-46f1-f6c8-7085f90a17d9"
      },
      "source": [
        "concat = torch.cat((m1, m2, m3), dim=1)\n",
        "print(f'Concatenated: (dim=1)\\n{concat} shape: {concat.shape}')"
      ],
      "execution_count": null,
      "outputs": [
        {
          "output_type": "stream",
          "name": "stdout",
          "text": [
            "Concatenated: (dim=1)\n",
            "tensor([[0., 0., 0., 0., 1., 1., 1., 1., 2., 2., 2., 2.],\n",
            "        [0., 0., 0., 0., 1., 1., 1., 1., 2., 2., 2., 2.],\n",
            "        [0., 0., 0., 0., 1., 1., 1., 1., 2., 2., 2., 2.]]) shape: torch.Size([3, 12])\n"
          ]
        }
      ]
    },
    {
      "cell_type": "code",
      "source": [],
      "metadata": {
        "id": "U7XUw1nfWL9j"
      },
      "execution_count": null,
      "outputs": []
    },
    {
      "cell_type": "markdown",
      "metadata": {
        "id": "gBAZmQAEkF0E"
      },
      "source": [
        "**There's a subtle difference between *concatenation* and *stacking*:**\n",
        "\n",
        "Consider three arrays with the following elements: [1, 1], [2, 2], [3, 3]\n",
        "\n",
        "If you *concatenate* them, the resulting array will be [1, 1, 2, 2, 3, 3] (1D - shape, same number of dimensions)\n",
        "\n",
        "If you *stack* them, the resulting array will be [[1, 1], [2, 2], [3, 3]] (2D - shape, additional dimension)"
      ]
    },
    {
      "cell_type": "code",
      "metadata": {
        "id": "NLEzgL0cj74C",
        "colab": {
          "base_uri": "https://localhost:8080/"
        },
        "outputId": "d9d1d3d2-b17a-4e5c-d9d6-babb3a751c29"
      },
      "source": [
        "# Tensors can also be stacked:\n",
        "stacked = torch.stack((m1, m2, m3))\n",
        "print(f'Stacked: (dim=0)\\n{stacked} shape: {stacked.shape}')\n",
        "# The Stacked tensor has 3 dimensions while the concatenated one has just 2."
      ],
      "execution_count": null,
      "outputs": [
        {
          "output_type": "stream",
          "name": "stdout",
          "text": [
            "Stacked: (dim=0)\n",
            "tensor([[[0., 0., 0., 0.],\n",
            "         [0., 0., 0., 0.],\n",
            "         [0., 0., 0., 0.]],\n",
            "\n",
            "        [[1., 1., 1., 1.],\n",
            "         [1., 1., 1., 1.],\n",
            "         [1., 1., 1., 1.]],\n",
            "\n",
            "        [[2., 2., 2., 2.],\n",
            "         [2., 2., 2., 2.],\n",
            "         [2., 2., 2., 2.]]]) shape: torch.Size([3, 3, 4])\n"
          ]
        }
      ]
    },
    {
      "cell_type": "markdown",
      "metadata": {
        "id": "VX5fdWVotGFq"
      },
      "source": [
        "### Slicing Tensors"
      ]
    },
    {
      "cell_type": "markdown",
      "metadata": {
        "id": "I5g0D76btzCb"
      },
      "source": [
        "Sometimes you need to select parts of your tensor. This is called *slicing/indexing*. Slicing in PyTorch is done using the `[ ]` operator (same as in NumPy).\n",
        "\n",
        "Let's get back the slices from our stacked Tensor.\n",
        "We're basically indexing the matrices along the first dimension.\n",
        "\n"
      ]
    },
    {
      "cell_type": "code",
      "metadata": {
        "id": "7xOstJPeqY-x",
        "colab": {
          "base_uri": "https://localhost:8080/"
        },
        "outputId": "edd932b2-4838-4a92-c344-aa0edf07801e"
      },
      "source": [
        "first_slice = stacked[0]\n",
        "second_slice = stacked[1]\n",
        "third_slice = stacked[2]\n",
        "print(f'{first_slice}\\n{second_slice}\\n{third_slice}')"
      ],
      "execution_count": null,
      "outputs": [
        {
          "output_type": "stream",
          "name": "stdout",
          "text": [
            "tensor([[0., 0., 0., 0.],\n",
            "        [0., 0., 0., 0.],\n",
            "        [0., 0., 0., 0.]])\n",
            "tensor([[1., 1., 1., 1.],\n",
            "        [1., 1., 1., 1.],\n",
            "        [1., 1., 1., 1.]])\n",
            "tensor([[2., 2., 2., 2.],\n",
            "        [2., 2., 2., 2.],\n",
            "        [2., 2., 2., 2.]])\n"
          ]
        }
      ]
    },
    {
      "cell_type": "markdown",
      "metadata": {
        "id": "n6iINxcsQk8a"
      },
      "source": [
        "Let's now define a random cube."
      ]
    },
    {
      "cell_type": "code",
      "metadata": {
        "id": "2zzvZ1ZjW6Zs",
        "colab": {
          "base_uri": "https://localhost:8080/"
        },
        "outputId": "58e8d3fb-e088-49c5-86cc-28267ff70d7f"
      },
      "source": [
        "cube = torch.rand(3, 3, 3)\n",
        "print(cube)"
      ],
      "execution_count": null,
      "outputs": [
        {
          "output_type": "stream",
          "name": "stdout",
          "text": [
            "tensor([[[0.0952, 0.9280, 0.1233],\n",
            "         [0.1524, 0.5316, 0.7990],\n",
            "         [0.7263, 0.5774, 0.9604]],\n",
            "\n",
            "        [[0.2872, 0.9622, 0.5321],\n",
            "         [0.5851, 0.0751, 0.3600],\n",
            "         [0.1613, 0.6752, 0.6724]],\n",
            "\n",
            "        [[0.5210, 0.2542, 0.7808],\n",
            "         [0.8042, 0.3878, 0.0565],\n",
            "         [0.4019, 0.2940, 0.2499]]])\n"
          ]
        }
      ]
    },
    {
      "cell_type": "markdown",
      "metadata": {
        "id": "KmiCofZKWwTB"
      },
      "source": [
        "To select the central element in the cube, we specify its position (0-indexed) along all dimensions/axes:"
      ]
    },
    {
      "cell_type": "code",
      "metadata": {
        "id": "o90wNgWAXoP3",
        "colab": {
          "base_uri": "https://localhost:8080/"
        },
        "outputId": "08f4ab78-5fab-484d-b98b-175a12363b58"
      },
      "source": [
        "cube[1,1,1] # second matrix, second row, second column"
      ],
      "execution_count": null,
      "outputs": [
        {
          "output_type": "execute_result",
          "data": {
            "text/plain": [
              "tensor(0.0751)"
            ]
          },
          "metadata": {},
          "execution_count": 19
        }
      ]
    },
    {
      "cell_type": "markdown",
      "metadata": {
        "id": "akw1bnMtYnAp"
      },
      "source": [
        "To select all the elements from a dimension, you can use `[:]`. Let's get the middle line from the central matrix:"
      ]
    },
    {
      "cell_type": "code",
      "metadata": {
        "id": "RoRHwhouZYZ6",
        "colab": {
          "base_uri": "https://localhost:8080/"
        },
        "outputId": "3afb7a89-2fe3-4f82-f5ef-b7a6d1c08f21"
      },
      "source": [
        "cube[1,1,:] # second matrix, second row, all columns"
      ],
      "execution_count": null,
      "outputs": [
        {
          "output_type": "execute_result",
          "data": {
            "text/plain": [
              "tensor([0.5851, 0.0751, 0.3600])"
            ]
          },
          "metadata": {},
          "execution_count": 20
        }
      ]
    },
    {
      "cell_type": "markdown",
      "metadata": {
        "id": "IyRyutGEZxOz"
      },
      "source": [
        "You can specify ranges by combining `:` and numbers. For instance:\n",
        " - `[:idx]` means all indices up to idx (excluding `idx`)\n",
        " - `[idx:]` means all indices starting from `idx` (including `idx`) all the way to the end\n",
        " - `[left_idx:right_idx]` means all indices starting from `left_idx` to `right_idx`\n",
        "\n",
        "One neat trick to get all elements except for the last one is to use `[:-1]`"
      ]
    },
    {
      "cell_type": "markdown",
      "metadata": {
        "id": "Ga3qdX6_atJa"
      },
      "source": [
        "#### Exercise 1\n",
        "\n",
        " a) Slice tensor `x` (defined in the code block below) to obtain matrices\n",
        "\n",
        "```\n",
        " A = [[1, 2],\n",
        "      [4, 5],\n",
        "      [7, 8]]\n",
        "```\n",
        "and\n",
        "```\n",
        " B = [[22, 23, 24],\n",
        "      [25, 26, 27]]\n",
        "```\n"
      ]
    },
    {
      "cell_type": "code",
      "source": [
        "x = torch.arange(1, 28).reshape(3, 3, 3)\n",
        "print(x)\n",
        "A = x[0, :, :-1]\n",
        "B = x[-1, 1:, :]\n",
        "print(A)\n",
        "print(B)"
      ],
      "metadata": {
        "colab": {
          "base_uri": "https://localhost:8080/"
        },
        "id": "vImukCmMYMWL",
        "outputId": "19075a77-d8a7-4d0c-9e55-d61c2ae487bc"
      },
      "execution_count": null,
      "outputs": [
        {
          "output_type": "stream",
          "name": "stdout",
          "text": [
            "tensor([[[ 1,  2,  3],\n",
            "         [ 4,  5,  6],\n",
            "         [ 7,  8,  9]],\n",
            "\n",
            "        [[10, 11, 12],\n",
            "         [13, 14, 15],\n",
            "         [16, 17, 18]],\n",
            "\n",
            "        [[19, 20, 21],\n",
            "         [22, 23, 24],\n",
            "         [25, 26, 27]]])\n",
            "tensor([[1, 2],\n",
            "        [4, 5],\n",
            "        [7, 8]])\n",
            "tensor([[22, 23, 24],\n",
            "        [25, 26, 27]])\n"
          ]
        }
      ]
    },
    {
      "cell_type": "markdown",
      "source": [
        " b) Use `torch.mm` to multiply `A` and `B`"
      ],
      "metadata": {
        "id": "XWATLoegYbBD"
      }
    },
    {
      "cell_type": "code",
      "metadata": {
        "id": "nYTyxGFnZfui"
      },
      "source": [
        "C = torch.mm(A, B)\n",
        "\n",
        "correct_result = torch.tensor(\n",
        "  [[ 72.,  75.,  78.],\n",
        "  [213., 222., 231.],\n",
        "  [354., 369., 384.]]\n",
        ")\n",
        "assert torch.all(torch.eq(C, correct_result)), \"try again :(\""
      ],
      "execution_count": null,
      "outputs": []
    },
    {
      "cell_type": "code",
      "metadata": {
        "id": "HpDnna_tYbBJ",
        "colab": {
          "base_uri": "https://localhost:8080/"
        },
        "outputId": "82033e4c-dcd0-4db9-acb5-b88ed5b6da5e"
      },
      "source": [
        "x = torch.arange(1, 28).reshape(3, 3, 3)\n",
        "print(x)"
      ],
      "execution_count": null,
      "outputs": [
        {
          "output_type": "stream",
          "name": "stdout",
          "text": [
            "tensor([[[ 1,  2,  3],\n",
            "         [ 4,  5,  6],\n",
            "         [ 7,  8,  9]],\n",
            "\n",
            "        [[10, 11, 12],\n",
            "         [13, 14, 15],\n",
            "         [16, 17, 18]],\n",
            "\n",
            "        [[19, 20, 21],\n",
            "         [22, 23, 24],\n",
            "         [25, 26, 27]]])\n"
          ]
        }
      ]
    },
    {
      "cell_type": "markdown",
      "metadata": {
        "id": "GoflaFC8S5hq"
      },
      "source": [
        "### Reshaping Tensors"
      ]
    },
    {
      "cell_type": "markdown",
      "metadata": {
        "id": "7D6tXY7bKcVa"
      },
      "source": [
        "Consider the `3x9` Tensor below. Let's reshape it into a cube."
      ]
    },
    {
      "cell_type": "code",
      "source": [
        "x = torch.tensor([[0., 0., 0., 1., 1., 1., 2., 2., 2.],\n",
        "                  [0., 0., 0., 1., 1., 1., 2., 2., 2.],\n",
        "                  [0., 0., 0., 1., 1., 1., 2., 2., 2.]])\n",
        "print(x)\n",
        "print(x.shape)"
      ],
      "metadata": {
        "colab": {
          "base_uri": "https://localhost:8080/"
        },
        "id": "3JmmrwaWY8-e",
        "outputId": "c9fda263-24f2-4e92-c8b8-f4525e587950"
      },
      "execution_count": null,
      "outputs": [
        {
          "output_type": "stream",
          "name": "stdout",
          "text": [
            "tensor([[0., 0., 0., 1., 1., 1., 2., 2., 2.],\n",
            "        [0., 0., 0., 1., 1., 1., 2., 2., 2.],\n",
            "        [0., 0., 0., 1., 1., 1., 2., 2., 2.]])\n",
            "torch.Size([3, 9])\n"
          ]
        }
      ]
    },
    {
      "cell_type": "code",
      "metadata": {
        "id": "3ZYOiu4_KZ95",
        "colab": {
          "base_uri": "https://localhost:8080/"
        },
        "outputId": "0689bf1b-66ba-4453-eeba-bd7f4ef1c1fd"
      },
      "source": [
        "print(f'Before reshape: \\n{x}, shape: {x.shape}')\n",
        "cube_fst = x.reshape(3, 3, 3)\n",
        "print(f'After reshape: \\n{cube_fst}, shape: {cube_fst.shape}')\n",
        "# Note that we've expanded a 2D tensor onto 3 dimensions!"
      ],
      "execution_count": null,
      "outputs": [
        {
          "output_type": "stream",
          "name": "stdout",
          "text": [
            "Before reshape: \n",
            "tensor([[0., 0., 0., 1., 1., 1., 2., 2., 2.],\n",
            "        [0., 0., 0., 1., 1., 1., 2., 2., 2.],\n",
            "        [0., 0., 0., 1., 1., 1., 2., 2., 2.]]), shape: torch.Size([3, 9])\n",
            "After reshape: \n",
            "tensor([[[0., 0., 0.],\n",
            "         [1., 1., 1.],\n",
            "         [2., 2., 2.]],\n",
            "\n",
            "        [[0., 0., 0.],\n",
            "         [1., 1., 1.],\n",
            "         [2., 2., 2.]],\n",
            "\n",
            "        [[0., 0., 0.],\n",
            "         [1., 1., 1.],\n",
            "         [2., 2., 2.]]]), shape: torch.Size([3, 3, 3])\n"
          ]
        }
      ]
    },
    {
      "cell_type": "markdown",
      "metadata": {
        "id": "t2Oe3qmuNoGj"
      },
      "source": [
        "One caveat is the fact that you can't specify the reshape dimension. For instance, each of the vectors above\n",
        "```\n",
        "[0., 0., 0., 1., 1., 1., 2., 2., 2.]\n",
        "```\n",
        "are reshaped into a `3x3` matrix, and then stacked together.\n",
        "\n",
        "What do you think happens when you reshape the `9x3` transpose of `x` into `3x3x3` cube?"
      ]
    },
    {
      "cell_type": "code",
      "metadata": {
        "id": "32-J_9h3NzfY",
        "colab": {
          "base_uri": "https://localhost:8080/"
        },
        "outputId": "41e47017-039a-4b0b-bbda-cde738543262"
      },
      "source": [
        "x_concat = x.transpose(dim0=0, dim1=1)\n",
        "print(f'Before reshape: \\n{x_concat}, shape: {x_concat.shape}')\n",
        "cube_snd = x_concat.reshape(3,3,3)\n",
        "print(f'After reshape: \\n{cube_snd}, shape: {cube_snd.shape}')"
      ],
      "execution_count": null,
      "outputs": [
        {
          "output_type": "stream",
          "name": "stdout",
          "text": [
            "Before reshape: \n",
            "tensor([[0., 0., 0.],\n",
            "        [0., 0., 0.],\n",
            "        [0., 0., 0.],\n",
            "        [1., 1., 1.],\n",
            "        [1., 1., 1.],\n",
            "        [1., 1., 1.],\n",
            "        [2., 2., 2.],\n",
            "        [2., 2., 2.],\n",
            "        [2., 2., 2.]]), shape: torch.Size([9, 3])\n",
            "After reshape: \n",
            "tensor([[[0., 0., 0.],\n",
            "         [0., 0., 0.],\n",
            "         [0., 0., 0.]],\n",
            "\n",
            "        [[1., 1., 1.],\n",
            "         [1., 1., 1.],\n",
            "         [1., 1., 1.]],\n",
            "\n",
            "        [[2., 2., 2.],\n",
            "         [2., 2., 2.],\n",
            "         [2., 2., 2.]]]), shape: torch.Size([3, 3, 3])\n"
          ]
        }
      ]
    },
    {
      "cell_type": "markdown",
      "metadata": {
        "id": "DwAA1wSlwVQU"
      },
      "source": [
        "### Collapsing, squeezing and unsqueezing Tensors\n",
        "Sometimes it's useful to `vectorize` a tensor of dimensions `d1 x d2 x ...` to a single array of length `d1*d2*...`. You can easily do this by calling `reshape(-1)` or `view(-1)`."
      ]
    },
    {
      "cell_type": "code",
      "metadata": {
        "id": "0Y0TJDStweFv",
        "colab": {
          "base_uri": "https://localhost:8080/"
        },
        "outputId": "602635d0-75c8-4ff5-a36a-bcd28e8063a6"
      },
      "source": [
        "# initialize random cube\n",
        "cube = torch.arange(1,28).reshape(3, 3, 3)\n",
        "print(\"Cube: \\n\", cube, \" shape: \", cube.shape)\n",
        "\n",
        "# collapse cube into a single array:\n",
        "collapsed = cube.reshape(-1)\n",
        "\n",
        "print(\"Collapsed cube: \\n\", collapsed, \" shape: \", collapsed.shape)"
      ],
      "execution_count": null,
      "outputs": [
        {
          "output_type": "stream",
          "name": "stdout",
          "text": [
            "Cube: \n",
            " tensor([[[ 1,  2,  3],\n",
            "         [ 4,  5,  6],\n",
            "         [ 7,  8,  9]],\n",
            "\n",
            "        [[10, 11, 12],\n",
            "         [13, 14, 15],\n",
            "         [16, 17, 18]],\n",
            "\n",
            "        [[19, 20, 21],\n",
            "         [22, 23, 24],\n",
            "         [25, 26, 27]]])  shape:  torch.Size([3, 3, 3])\n",
            "Collapsed cube: \n",
            " tensor([ 1,  2,  3,  4,  5,  6,  7,  8,  9, 10, 11, 12, 13, 14, 15, 16, 17, 18,\n",
            "        19, 20, 21, 22, 23, 24, 25, 26, 27])  shape:  torch.Size([27])\n"
          ]
        }
      ]
    },
    {
      "cell_type": "markdown",
      "metadata": {
        "id": "lffhL8TmEeeH"
      },
      "source": [
        "We can also explicitly *squeeze* (remove redundant dimensions) and *unsqueeze* (add redundant dimensions) Tensors.\n",
        "\n",
        "A 1D tensor of shape `5` can be seen as a `1x5` tensor. Analogously, a 2D tensor of shape `5x5` can be seen as a `1x5x5` tensor. This will be extremely helpful when handling *batches* of data (more on that in the next labs)."
      ]
    },
    {
      "cell_type": "code",
      "metadata": {
        "id": "OcPaStflExDw",
        "colab": {
          "base_uri": "https://localhost:8080/"
        },
        "outputId": "5b958eca-6543-4329-a6b1-a79c74280ef3"
      },
      "source": [
        "print(\"Collapsed: \", collapsed, \"shape: \", collapsed.shape)\n",
        "\n",
        "# Let's unsqueeze the collapsed tensor (add redundant first dimension)\n",
        "collapsed = collapsed.unsqueeze(0)\n",
        "print(\"Unsqueezed: \", collapsed, \"shape: \", collapsed.shape)\n",
        "\n",
        "# Now, let's squeeze the expanded tensor and get back the initial tensor\n",
        "collapsed = collapsed.squeeze(0)\n",
        "print(\"Squeezed: \", collapsed, \"shape: \", collapsed.shape)"
      ],
      "execution_count": null,
      "outputs": [
        {
          "output_type": "stream",
          "name": "stdout",
          "text": [
            "Collapsed:  tensor([ 1,  2,  3,  4,  5,  6,  7,  8,  9, 10, 11, 12, 13, 14, 15, 16, 17, 18,\n",
            "        19, 20, 21, 22, 23, 24, 25, 26, 27]) shape:  torch.Size([27])\n",
            "Unsqueezed:  tensor([[ 1,  2,  3,  4,  5,  6,  7,  8,  9, 10, 11, 12, 13, 14, 15, 16, 17, 18,\n",
            "         19, 20, 21, 22, 23, 24, 25, 26, 27]]) shape:  torch.Size([1, 27])\n",
            "Squeezed:  tensor([ 1,  2,  3,  4,  5,  6,  7,  8,  9, 10, 11, 12, 13, 14, 15, 16, 17, 18,\n",
            "        19, 20, 21, 22, 23, 24, 25, 26, 27]) shape:  torch.Size([27])\n"
          ]
        }
      ]
    },
    {
      "cell_type": "markdown",
      "metadata": {
        "id": "DFF4zK-f3DRF"
      },
      "source": [
        "### Gathering from Tensors\n",
        "A very useful way to get elements from a Tensor is [`gather()`](https://pytorch.org/docs/stable/torch.html?highlight=gather#torch.gather) - as the name suggests, it is *gathering* values from a tensor `src` along a dimension specified by the `dim` argument. The gathering positions along dimension `dim` are specified by an `index` tensor.\n",
        "\n",
        "![source: stackoverflow](https://i.stack.imgur.com/ZnXZD.png)\n",
        "\n",
        "*Image source: [StackOverflow](https://stackoverflow.com/questions/50999977/what-does-the-gather-function-do-in-pytorch-in-layman-terms)*"
      ]
    },
    {
      "cell_type": "code",
      "metadata": {
        "id": "S2GRlK6x2-ir",
        "colab": {
          "base_uri": "https://localhost:8080/"
        },
        "outputId": "7d58bd98-5ca2-4661-efd1-0ad07723eb49"
      },
      "source": [
        "random_tensor = torch.randn(3, 4)\n",
        "print('Initial Tensor:\\n', random_tensor)\n",
        "index = torch.Tensor([[0, 2, 0, 2], [2, 0, 1, 1]]).long()\n",
        "\n",
        "gathered = torch.gather(input=random_tensor, dim=0, index=index)\n",
        "print('Gathered Tensor (along dim 0):\\n', gathered)"
      ],
      "execution_count": null,
      "outputs": [
        {
          "output_type": "stream",
          "name": "stdout",
          "text": [
            "Initial Tensor:\n",
            " tensor([[ 0.2701, -0.2772,  2.6177, -0.8141],\n",
            "        [-1.2292,  1.1679,  1.8052, -0.5208],\n",
            "        [ 0.5517, -0.1326, -0.0515,  0.1717]])\n",
            "Gathered Tensor (along dim 0):\n",
            " tensor([[ 0.2701, -0.1326,  2.6177,  0.1717],\n",
            "        [ 0.5517, -0.2772,  1.8052, -0.5208]])\n"
          ]
        }
      ]
    },
    {
      "cell_type": "markdown",
      "source": [
        "### Exercise 2: student statistics\n",
        "\n",
        "Here is a table with 26 students, each student is graded for 4 different subjects.\n",
        "\n",
        "\n",
        "| Student || ML | OS | Intro to programming | Data structures |\n",
        "| --- || --- | --- | ---- | ---- |\n",
        "| A || 9 | 8 | 8 | 10 |\n",
        "| B || 6 | 5 | 7 | 7 |\n",
        "| ... ||  |  |  |  |\n",
        "| Z || 10 | 6 | 8 | 9 |"
      ],
      "metadata": {
        "id": "LFLp5oZxBk5x"
      }
    },
    {
      "cell_type": "code",
      "source": [
        "student_grades = torch.randint(low=5, high=10, size=(26,4))\n",
        "print(\"Student grades: \", student_grades)"
      ],
      "metadata": {
        "colab": {
          "base_uri": "https://localhost:8080/"
        },
        "id": "CsvicnHyBzfZ",
        "outputId": "6a036431-3bfa-44ab-f4ca-3a5253ee3f32"
      },
      "execution_count": null,
      "outputs": [
        {
          "output_type": "stream",
          "name": "stdout",
          "text": [
            "Student grades:  tensor([[9, 9, 6, 9],\n",
            "        [9, 8, 8, 8],\n",
            "        [8, 5, 9, 6],\n",
            "        [8, 9, 6, 8],\n",
            "        [9, 5, 9, 9],\n",
            "        [6, 9, 8, 6],\n",
            "        [8, 9, 5, 5],\n",
            "        [9, 9, 7, 8],\n",
            "        [9, 5, 9, 5],\n",
            "        [8, 8, 7, 8],\n",
            "        [9, 6, 6, 8],\n",
            "        [6, 9, 7, 7],\n",
            "        [5, 8, 7, 6],\n",
            "        [9, 5, 7, 9],\n",
            "        [8, 7, 9, 7],\n",
            "        [8, 6, 5, 6],\n",
            "        [7, 5, 5, 5],\n",
            "        [9, 7, 8, 9],\n",
            "        [6, 8, 7, 6],\n",
            "        [6, 5, 5, 5],\n",
            "        [6, 5, 8, 5],\n",
            "        [5, 8, 9, 8],\n",
            "        [9, 8, 5, 8],\n",
            "        [6, 8, 6, 9],\n",
            "        [7, 6, 5, 9],\n",
            "        [8, 8, 9, 8]])\n"
          ]
        }
      ]
    },
    {
      "cell_type": "markdown",
      "source": [
        "We can use torch.gather() to retrive efficiently scores for ML and DS in a single tensor. The index argument of gather has to be of size (* x 2)"
      ],
      "metadata": {
        "id": "HerIQcNLCvev"
      }
    },
    {
      "cell_type": "code",
      "source": [
        "ml_and_ds_indices = torch.tensor([0, 3])\n",
        "ml_and_ds_scores = torch.gather(\n",
        "    input=student_grades,\n",
        "    index=ml_and_ds_indices.expand(26, -1),\n",
        "    dim=1\n",
        ")\n",
        "print(\"ML and DS scores: \", ml_and_ds_scores)"
      ],
      "metadata": {
        "colab": {
          "base_uri": "https://localhost:8080/"
        },
        "id": "nGzd3sr9CuL6",
        "outputId": "05ff9cef-f7a5-4580-c452-6ec2f76a6eda"
      },
      "execution_count": null,
      "outputs": [
        {
          "output_type": "stream",
          "name": "stdout",
          "text": [
            "ML and DS scores:  tensor([[9, 9],\n",
            "        [9, 8],\n",
            "        [8, 6],\n",
            "        [8, 8],\n",
            "        [9, 9],\n",
            "        [6, 6],\n",
            "        [8, 5],\n",
            "        [9, 8],\n",
            "        [9, 5],\n",
            "        [8, 8],\n",
            "        [9, 8],\n",
            "        [6, 7],\n",
            "        [5, 6],\n",
            "        [9, 9],\n",
            "        [8, 7],\n",
            "        [8, 6],\n",
            "        [7, 5],\n",
            "        [9, 9],\n",
            "        [6, 6],\n",
            "        [6, 5],\n",
            "        [6, 5],\n",
            "        [5, 8],\n",
            "        [9, 8],\n",
            "        [6, 9],\n",
            "        [7, 9],\n",
            "        [8, 8]])\n"
          ]
        }
      ]
    },
    {
      "cell_type": "markdown",
      "source": [
        "TODO: compute the standard deviation for the 'Machine Learning' and 'Data Structures' scores above"
      ],
      "metadata": {
        "id": "0oHMaKIFJzhQ"
      }
    },
    {
      "cell_type": "code",
      "source": [
        "# TODO: compute std for ML and DS scores\n",
        "std_ml_and_ds = torch.std(ml_and_ds_scores.float(), dim=0)\n",
        "print(\"Standard deviation for ML and DS: \", std_ml_and_ds)"
      ],
      "metadata": {
        "colab": {
          "base_uri": "https://localhost:8080/"
        },
        "id": "IoH2VZq6J3RP",
        "outputId": "ddcb4940-4e06-42de-9bd3-918b8ec44fdf"
      },
      "execution_count": null,
      "outputs": [
        {
          "output_type": "stream",
          "name": "stdout",
          "text": [
            "Standard deviation for ML and DS:  tensor([1.3906, 1.4972])\n"
          ]
        }
      ]
    },
    {
      "cell_type": "markdown",
      "source": [
        "Compute the following quantities:\n",
        "1.   the maximum grade of student C\n",
        "2.   the average grade per subject\n",
        "3.   the student with the highest mean grade (print both the student and its grade)\n",
        "4.   retrieve the best 2 scores for each student into a single tensor using [torch.gather()](https://pytorch.org/docs/stable/generated/torch.gather.html#torch-gather) and [torch.topk()](https://pytorch.org/docs/main/generated/torch.topk.html)\n",
        "\n",
        "Try to use the [documentation](https://pytorch.org/docs/stable/torch.html#module-torch) to find the relevant function and correctly call its arguments."
      ],
      "metadata": {
        "id": "1Q_-GGszB3FO"
      }
    },
    {
      "cell_type": "code",
      "source": [
        "# TODO:\n",
        "max_grade_student_c = torch.max(student_grades[2,:].float())\n",
        "print(\"Max grade of student C: \", max_grade_student_c)\n",
        "\n",
        "# TODO:\n",
        "avg_grade_per_subject = torch.mean(student_grades.float(), dim=0)\n",
        "print(\"Average grade per subject: \", avg_grade_per_subject)\n",
        "\n",
        "# TODO\n",
        "students = [chr(idx) for idx in range(ord('A'), ord('Z') + 1)]\n",
        "print('Students = ', students)\n",
        "mean_grades = torch.mean(student_grades.float(), dim=1)\n",
        "highest_mean_idx = torch.argmax(mean_grades)\n",
        "print(\"Student with highest mean grades = \", students[highest_mean_idx], \" grade = \", mean_grades[highest_mean_idx].item())\n",
        "\n",
        "# TODO: retrieve the best 2 scores for each student into a single tensor using torch.gather() and torch.topk()\n",
        "top2_values, top2_indices = torch.topk(student_grades, 2, dim=1)\n",
        "selected_scores = torch.gather(student_grades, 1, top2_indices)\n",
        "\n",
        "print(\"Top 2 grades for each student:\")\n",
        "print(selected_scores)"
      ],
      "metadata": {
        "colab": {
          "base_uri": "https://localhost:8080/"
        },
        "id": "KnYKsBw1CXnQ",
        "outputId": "8c6b574d-30a0-44f8-da58-ccead0c40de4"
      },
      "execution_count": null,
      "outputs": [
        {
          "output_type": "stream",
          "name": "stdout",
          "text": [
            "Max grade of student C:  tensor(9.)\n",
            "Average grade per subject:  tensor([7.5769, 7.1154, 7.0000, 7.1923])\n",
            "Students =  ['A', 'B', 'C', 'D', 'E', 'F', 'G', 'H', 'I', 'J', 'K', 'L', 'M', 'N', 'O', 'P', 'Q', 'R', 'S', 'T', 'U', 'V', 'W', 'X', 'Y', 'Z']\n",
            "Student with highest mean grades =  A  grade =  8.25\n",
            "Top 2 grades for each student:\n",
            "tensor([[9, 9],\n",
            "        [9, 8],\n",
            "        [9, 8],\n",
            "        [9, 8],\n",
            "        [9, 9],\n",
            "        [9, 8],\n",
            "        [9, 8],\n",
            "        [9, 9],\n",
            "        [9, 9],\n",
            "        [8, 8],\n",
            "        [9, 8],\n",
            "        [9, 7],\n",
            "        [8, 7],\n",
            "        [9, 9],\n",
            "        [9, 8],\n",
            "        [8, 6],\n",
            "        [7, 5],\n",
            "        [9, 9],\n",
            "        [8, 7],\n",
            "        [6, 5],\n",
            "        [8, 6],\n",
            "        [9, 8],\n",
            "        [9, 8],\n",
            "        [9, 8],\n",
            "        [9, 7],\n",
            "        [9, 8]])\n"
          ]
        }
      ]
    },
    {
      "cell_type": "markdown",
      "source": [
        "### Exercise 3: no more randomness\n",
        "Let's generate:\n",
        " - 3 random float numbers from $N(0, 1)$; you can think of them as parameters of a network\n",
        " - 4 random integers from 1 to 10; You can think of them as the order in which examples from a 10-class dataset will be seen during training\n",
        "\n",
        " We will use the [torch.randn()](https://pytorch.org/docs/stable/generated/torch.randn.html#torch-randn) and the [torch.randint()](https://pytorch.org/docs/stable/generated/torch.randint.html) functions."
      ],
      "metadata": {
        "id": "yQrDSTb7Id-V"
      }
    },
    {
      "cell_type": "code",
      "source": [
        "w = torch.randn(3)\n",
        "idx = torch.randint(low=1, high=10, size=(4,))\n",
        "print(w)\n",
        "print(idx)"
      ],
      "metadata": {
        "colab": {
          "base_uri": "https://localhost:8080/"
        },
        "id": "59xFkeotINzg",
        "outputId": "86d7f7a0-4b47-44bb-b8bf-7c824ba9be0b"
      },
      "execution_count": null,
      "outputs": [
        {
          "output_type": "stream",
          "name": "stdout",
          "text": [
            "tensor([2.2440, 0.5817, 0.4528])\n",
            "tensor([6, 4, 3, 4])\n"
          ]
        }
      ]
    },
    {
      "cell_type": "markdown",
      "source": [
        "Now run the previous cell again. What do you notice? Are the numbers the same every time?"
      ],
      "metadata": {
        "id": "VEo_ZEDAJk3y"
      }
    },
    {
      "cell_type": "markdown",
      "source": [
        "The parameters of neural networks are **randomly initialized**. The order in which the examples are iterated through is also random.  \n",
        "\n",
        "In Pytorch this randomness is usually dictated by a seed number (which is used to initialize a [pseudorandom number generator](https://en.wikipedia.org/wiki/Pseudorandom_number_generator)). This seed is *different* every time you run Pytorch code. This means you get different initializations for 2 different runs.\n",
        "\n",
        "To ensure some reproducibility in experiments, it's good to set this seed yourself. Pytorch will then generate the same random numbers every time you use that seed.\n",
        "\n",
        "**TODO**:\n",
        " - set a manual seed below using a torch operation. You can find it described here https://pytorch.org/docs/stable/notes/randomness.html.\n",
        " - run the code several times"
      ],
      "metadata": {
        "id": "qj_335ypKVE3"
      }
    },
    {
      "cell_type": "code",
      "source": [
        "# TODO: set random seed using a torch operation. R\n",
        "torch.manual_seed(42)\n",
        "\n",
        "w = torch.randn(3)\n",
        "idx = torch.randint(low=1, high=10, size=(4,))\n",
        "print(w)\n",
        "print(idx)\n",
        "\n",
        "# change the manual seed\n",
        "torch.manual_seed(45)\n",
        "\n",
        "w = torch.randn(3)\n",
        "idx = torch.randint(low=1, high=10, size=(4,))\n",
        "print(w)\n",
        "print(idx)"
      ],
      "metadata": {
        "colab": {
          "base_uri": "https://localhost:8080/"
        },
        "id": "IoHreZdCIUc2",
        "outputId": "7803f021-a71e-4caa-e077-8e20ffbc3f14"
      },
      "execution_count": null,
      "outputs": [
        {
          "output_type": "stream",
          "name": "stdout",
          "text": [
            "tensor([0.3367, 0.1288, 0.2345])\n",
            "tensor([5, 3, 5, 5])\n",
            "tensor([-1.1224,  0.0312, -0.6804])\n",
            "tensor([6, 8, 1, 4])\n"
          ]
        }
      ]
    },
    {
      "cell_type": "code",
      "source": [],
      "metadata": {
        "id": "3IQd8jWNYKtL"
      },
      "execution_count": null,
      "outputs": []
    },
    {
      "cell_type": "code",
      "source": [],
      "metadata": {
        "id": "ZTB3gZgwcRVj"
      },
      "execution_count": null,
      "outputs": []
    },
    {
      "cell_type": "markdown",
      "metadata": {
        "id": "nWZZOlefghr4"
      },
      "source": [
        "## Polynomial Linear regression\n",
        "\n",
        "In this section we will compute the closed-form weights $\\textbf{w}$ for linear regression over *polynomial features* and illustrate the concepts of **overfitting** and **underfitting**.\n",
        "\n",
        "![source: stackoverflow](https://encrypted-tbn0.gstatic.com/images?q=tbn%3AANd9GcRSzpMF0I3xnf2T1mOb6hDEdLfWnSG38PF1s_TrDigGeMo0gftR)\n",
        "\n",
        "Training points ($x_n$, $t_n$) shown in blue, learned regression function shown in red. Image source: [Bishop, Chapter 1](http://users.isr.ist.utl.pt/~wurmd/Livros/school/Bishop%20-%20Pattern%20Recognition%20And%20Machine%20Learning%20-%20Springer%20%202006.pdf)\n",
        "\n",
        "### Goal\n",
        "Given points ($x_i^{(train)}$, $t_i^{(train)}$), the goal is to learn a function $y(x, \\textbf{w})$ in order to predict target values $t$ for new points $x$.\n",
        "\n",
        "More specifically, we need to find the weights $\\textbf{w}=[w_0, w_1, ..., w_M]$ of function\n",
        "$$y(x, \\textbf{w})=\\sum_{j=0}^{M}w_j ϕ_j(x)$$ where $ϕ_j(x)=x^j$.\n",
        "\n",
        "### 'Linear' misnomer\n",
        "Even though function $y$ is *linear* in the weights $\\textbf{w}$, we learn more complicated mappings from input to output by applying non-linear basis functions $ϕ$ on input $x$.\n",
        "\n",
        "For instance, let $\\phi_0(x) = 1, \\phi_1(x) = x$ and $\\phi_2(x) = x^2$. The function $y(x,\\textbf{w}) = w_0\\phi_0(x) + w_1\\phi_1(x) + w_2\\phi_2(x) = w_0 + w_1x + w_2x^2$ is quadratic with respect to $x$ but is linear with respect to the weights $w$.\n",
        "\n",
        "### Error function\n",
        "To find $\\textbf{w}$, we minimize the sum-of-squares error function:\n",
        "$$E(\\textbf{w}) = \\frac{1}{2} \\sum_{i=1}^{N} (y(x_i^{(train)}, \\textbf{w}) - t_i^{(train)})^2$$\n",
        "(sum of squared lengths of green bars in the picture above)"
      ]
    },
    {
      "cell_type": "code",
      "metadata": {
        "id": "vgdr26ZfgVOK"
      },
      "source": [
        "import torch\n",
        "import math\n",
        "from numpy.linalg import lstsq\n",
        "from sklearn.datasets import make_regression\n",
        "from torch.distributions import Uniform, Normal\n",
        "from sklearn.pipeline import make_pipeline\n",
        "from sklearn.linear_model import LinearRegression\n",
        "import matplotlib.pyplot as plt"
      ],
      "execution_count": null,
      "outputs": []
    },
    {
      "cell_type": "markdown",
      "metadata": {
        "id": "248xUpLpPvti"
      },
      "source": [
        "Drag the slider below to set the number of points in our dataset."
      ]
    },
    {
      "cell_type": "code",
      "metadata": {
        "id": "hWBv7rpdWlWd"
      },
      "source": [
        "# number of dataset points\n",
        "N = 12 #@param {type:\"slider\", min:10, max:100, step:1}"
      ],
      "execution_count": null,
      "outputs": []
    },
    {
      "cell_type": "markdown",
      "metadata": {
        "id": "uCVd1uXkXFo3"
      },
      "source": [
        "Let's generate 100 points $(x_i, y_i)$  from a sine wave and a dataset of **N** noisy points ($x_i^{(train)}$, $t_i^{(train)}$).\n",
        "\n",
        "The dataset points are sine measurements corrupted by Gaussian noise:\n",
        "\n",
        "Let $x_i\\in[0,1]$ and $t_{i}^{(train)} = sine(2πx_{i}^{(train)}) + ε_i$ , where $ε_i$ ~$\\mathcal{N}(μ=0,σ=0.5)$\n",
        "\n"
      ]
    },
    {
      "cell_type": "code",
      "metadata": {
        "id": "D6Er81ay1vkH",
        "cellView": "both",
        "colab": {
          "base_uri": "https://localhost:8080/",
          "height": 448
        },
        "outputId": "441c15f0-e7fb-42b3-f1e5-fe2b61a8cc2f"
      },
      "source": [
        "# generate 100 x values on which to evaluate sine\n",
        "x = torch.linspace(0, 1, 100)\n",
        "\n",
        "# generate 100 true sine values\n",
        "y = torch.sin(2 * math.pi * x)\n",
        "\n",
        "# generate Gaussian noise ε for each data point\n",
        "noise = torch.normal(mean=0.0, std=0.5, size=(N,))\n",
        "\n",
        "# generate dataset points (noisy sine measurements)\n",
        "# t = y + ε\n",
        "x_train = torch.linspace(0, 1, N)\n",
        "t_train = torch.sin(2 * math.pi * x_train) + noise\n",
        "\n",
        "# plot true function and dataset points\n",
        "plt.plot(x,y, color='green', label='true function')\n",
        "plt.scatter(x_train, t_train, marker='o', color='blue', label='data points')\n",
        "plt.legend()"
      ],
      "execution_count": null,
      "outputs": [
        {
          "output_type": "execute_result",
          "data": {
            "text/plain": [
              "<matplotlib.legend.Legend at 0x7c6ed4e72680>"
            ]
          },
          "metadata": {},
          "execution_count": 11
        },
        {
          "output_type": "display_data",
          "data": {
            "text/plain": [
              "<Figure size 640x480 with 1 Axes>"
            ],
            "image/png": "[encoded data removed]"
          },
          "metadata": {}
        }
      ]
    },
    {
      "cell_type": "markdown",
      "metadata": {
        "id": "9gxhe809PK_i"
      },
      "source": [
        "### Exercise 2\n",
        "\n",
        "### Polynomial feature vector\n",
        "\n",
        "An M-degree polynomial feature vector $\\textbf{ϕ}$ for a scalar $x$ is a vector of size **M+1**:\n",
        "\n",
        "$$\\textbf{ϕ} = [ϕ_0(x), ϕ_1(x), ..., ϕ_j(x), ..., ϕ_{M}(x)]$$\n",
        "\n",
        "where the polynomial basis function is $$ϕ_j(x)=x^j$$\n",
        "\n",
        "For instance, a 3-degree polynomial feature vector for $x=3$ is\n",
        "\n",
        "$$\\textbf{ϕ}= [1, 3, 3^2, 3^3] = [1,3, 9, 27]$$\n",
        "\n",
        "We can stack the polynomial feature vectors $\\textbf{ϕ}$ for all training points $x_i$ into an **N x (M+1)** matrix $\\textbf{Φ}$.\n",
        "\n",
        "$$\\textbf{Φ} =\n",
        "  \\begin{pmatrix}\n",
        "    ϕ_0(x_1) & ϕ_1(x_1) & \\cdots & ϕ_{M}(x_1) \\\\\n",
        "    ϕ_0(x_2) & ϕ_1(x_2) & \\cdots & ϕ_{M}(x_2) \\\\\n",
        "    \\vdots  & \\vdots  & \\ddots & \\vdots  \\\\\n",
        "    ϕ_0(x_N) & ϕ_1(x_N) & \\cdots & ϕ_{M}(x_N)\n",
        "  \\end{pmatrix} =\n",
        "  \\begin{pmatrix}\n",
        "    \\textbf{ϕ}(x_1)\\\\\n",
        "    \\textbf{ϕ}(x_2)\\\\\n",
        "    \\vdots\\\\\n",
        "    \\textbf{ϕ}(x_N)\n",
        "  \\end{pmatrix}\n",
        "$$\n",
        "\n",
        "**TODO**: Write the `get_polynomial_features` function, that receives a polynomial degree $M$ and a Tensor with scalars $x_1, x_2, ..., x_N$ and returns the **N x (M+1)** matrix $\\textbf{Φ}$."
      ]
    },
    {
      "cell_type": "code",
      "metadata": {
        "id": "M5naek7FG9YS"
      },
      "source": [
        "def get_polynomial_features(x: torch.Tensor,\n",
        "                            poly_degree: int) -> torch.Tensor:\n",
        "    \"\"\"\n",
        "    Given N data points, return an N x (M+1) matrix\n",
        "    with M-degree polynomial features for each data point.\n",
        "\n",
        "    For instance, let x = Tensor([2, 3]) and poly_degree = 3.\n",
        "    The returned matrix is Φ = Tensor([[1, 2, 4, 8],\n",
        "                                       [1, 3, 9, 27]])\n",
        "    :param x: tensor with data points\n",
        "    :param poly_degree: polynomial degree (integer)\n",
        "    \"\"\"\n",
        "    # TODO:\n",
        "    # Φ = ..\n",
        "    # Solution 1: create the Tensor by hand:\n",
        "    Φ = torch.zeros(len(x), poly_degree+1)\n",
        "\n",
        "    for idx, entry in enumerate(x):\n",
        "      for deg, element in enumerate(Φ[idx]):\n",
        "        Φ[idx][deg] = entry ** deg\n",
        "\n",
        "    # Solution 2: create lists and convert them to Tensor\n",
        "    Φ = [[element ** deg for deg in range(poly_degree+1)] for element in x]\n",
        "    Φ = torch.tensor(Φ)\n",
        "\n",
        "    assert Φ.shape[-1] == poly_degree + 1, \"wrong feature vector shape\"\n",
        "\n",
        "    return Φ"
      ],
      "execution_count": null,
      "outputs": []
    },
    {
      "cell_type": "markdown",
      "metadata": {
        "id": "gjPpnVdyRuY2"
      },
      "source": [
        "### Closed-form solution for linear regression\n",
        "The linear regression can be rewritten more compactly:\n",
        "$$y(x, \\textbf{w}) = \\sum_{j=0}^{M} w_j ϕ_j(x) = \\textbf{w}^{T}\\textbf{ϕ}(x)$$\n",
        "\n",
        "Minimizing the sum-of-squares function $E(\\textbf{w})$ above leads to the closed-form solution for $\\textbf{w}$:\n",
        "\n",
        "$$\\textbf{w} = (\\textbf{Φ}^{T}\\textbf{Φ})^{-1}\\textbf{Φ}^{T}\\textbf{t} = \\textbf{Φ}^†\\textbf{t}$$\n",
        "\n",
        "where $\\textbf{t}$ contains the target training points\n",
        "$$\\textbf{t} = [t_1^{(train)}, t_2^{(train)}..., t_N^{(train)}]$$\n",
        "\n",
        "\n",
        "$\\textbf{Φ}^†=(\\textbf{Φ}^{T}\\textbf{Φ})^{-1}\\textbf{Φ}^{T}$ is called the [pseudoinverse](https://en.wikipedia.org/wiki/Moore%E2%80%93Penrose_inverse) of matrix $\\textbf{Φ}$\n"
      ]
    },
    {
      "cell_type": "code",
      "metadata": {
        "id": "sWrWyrf1nW6S"
      },
      "source": [
        "# polynomial degree\n",
        "M = 9 #@param [0, 1, 2, 3, 4, 5, 6, 7, 8, 9] {type:\"raw\"}"
      ],
      "execution_count": null,
      "outputs": []
    },
    {
      "cell_type": "code",
      "metadata": {
        "id": "aRFzZksX38r1",
        "colab": {
          "base_uri": "https://localhost:8080/",
          "height": 542
        },
        "outputId": "d0cf0509-1033-486f-c2ec-8937eeb411de"
      },
      "source": [
        "# TODO ...\n",
        "# compute polynomial features for data points x_train\n",
        "# N x (M+1) tensor\n",
        "# Solution:\n",
        "Φ = get_polynomial_features(\n",
        "    x_train.unsqueeze(1),\n",
        "    poly_degree=M\n",
        ")\n",
        "print(\"Φ shape = \", Φ.shape)\n",
        "\n",
        "# compute pseudo-inverse Φ†\n",
        "# (M+1)xN Tensor\n",
        "pseudo_inverse_auto = torch.pinverse(Φ)\n",
        "\n",
        "# Compute weights w according to closed-form equation\n",
        "# M+1 Tensor\n",
        "w = torch.matmul(pseudo_inverse_auto, t_train)\n",
        "\n",
        "# also learn weights w using scikit-learn module\n",
        "model = LinearRegression(fit_intercept=False)\n",
        "model.fit(Φ, t_train.unsqueeze(1))\n",
        "# M+1 Tensor\n",
        "w_auto = torch.from_numpy(model.coef_)\n",
        "\n",
        "print(\"weights (computed by scikit-learn): \", w_auto)\n",
        "print(\"weights (computed by us):\", w)\n",
        "assert w.shape == torch.Size([M+1]), \"wrong shape\"\n",
        "#assert torch.allclose(w, w_auto, atol=0.1, rtol=0.1), \\\n",
        "#    \"Different regression weights\"\n",
        "\n",
        "# Compute polynomial features for all 100 points\n",
        "# 100 x (M+1) Tensor\n",
        "dataset_features = get_polynomial_features(\n",
        "    x.unsqueeze(1),\n",
        "    poly_degree=M\n",
        ")\n",
        "\n",
        "# predict t=y(x,w)=w*x for all 100 x points, using the\n",
        "# learned weights w\n",
        "# 100 x 1 Tensor\n",
        "y_pred = torch.matmul(dataset_features, w.t())\n",
        "\n",
        "# plot the true sine function\n",
        "plt.ylim(top=2.0, bottom=-2.0)\n",
        "plt.plot(x, y, color='green', label='true function')\n",
        "\n",
        "# plot the learned regression function\n",
        "plt.plot(x, y_pred, color='red', label='linear model (degree %d)' % (M))\n",
        "\n",
        "# plot the dataset points\n",
        "plt.scatter(x_train, t_train, marker='o', color='blue', label='data points')\n",
        "\n",
        "plt.legend()"
      ],
      "execution_count": null,
      "outputs": [
        {
          "output_type": "stream",
          "name": "stdout",
          "text": [
            "Φ shape =  torch.Size([12, 10])\n",
            "weights (computed by scikit-learn):  tensor([[-7.2678e-01,  2.0409e+01,  1.7608e+02, -3.6604e+03,  2.3881e+04,\n",
            "         -8.0327e+04,  1.5259e+05, -1.6486e+05,  9.4459e+04, -2.2282e+04]])\n",
            "weights (computed by us): tensor([-7.3809e-01,  2.0348e+01,  1.7470e+02, -3.6241e+03,  2.3627e+04,\n",
            "        -7.9478e+04,  1.5103e+05, -1.6323e+05,  9.3563e+04, -2.2080e+04])\n"
          ]
        },
        {
          "output_type": "execute_result",
          "data": {
            "text/plain": [
              "<matplotlib.legend.Legend at 0x7c6ed067c1f0>"
            ]
          },
          "metadata": {},
          "execution_count": 31
        },
        {
          "output_type": "display_data",
          "data": {
            "text/plain": [
              "<Figure size 640x480 with 1 Axes>"
            ],
            "image/png": "[encoded data removed]"
          },
          "metadata": {}
        }
      ]
    },
    {
      "cell_type": "markdown",
      "metadata": {
        "id": "4iZ1BR_13jIN"
      },
      "source": [
        "Try several values for the polynomial degree M. You will notice that:\n",
        " - a small polynomial degree (M<3) results in **underfitting** (linear or quadratic polynomials learn a poor representation of sine)\n",
        " - a large value of M results in **overfitting** (model learns to predict the training data points very well, but wildly oscillates and makes large errors on other points)\n",
        "\n"
      ]
    },
    {
      "cell_type": "markdown",
      "metadata": {
        "id": "xan9t3gzBw59"
      },
      "source": [
        "### Closed-form solution for ridge regression\n",
        "\n",
        "To combat **overfitting**, you can either:\n",
        " - increase the number of training points N (not always possible)\n",
        " - add a regularization term $R(\\textbf{w})$ to $E(\\textbf{w})$ to control model complexity\n",
        "\n",
        "The regularized error function for [ridge regression](https://en.wikipedia.org/wiki/Regularized_least_squares) is:\n",
        "$$E'(\\textbf{w}) = E(\\textbf{w}) + \\frac{\\lambda}{2} R(\\textbf{w}) =\\frac{1}{2} \\sum_{i=1}^{N} (y(x_i^{(train)}, \\textbf{w}) - t_i^{(train)})^2 + \\frac{λ}{2}\\textbf{w}^T\\textbf{w}$$\n",
        "\n",
        "We now have 2 sources of errors:\n",
        " - $E(\\textbf{w})$ - large differences between values $y$ predicted by model and train values $t$\n",
        " - $R(\\textbf{w})$ - large weights $\\textbf{w}$\n",
        "\n",
        "Minimizing $E'(\\textbf{w})$ leads to the closed-form solution for $\\textbf{w}$:\n",
        "$$\\textbf{w} = (\\textbf{Φ}^{T}\\textbf{Φ}+λI)^{-1}\\textbf{Φ}^{T}\\textbf{t}$$\n",
        "where λ controls the importance of large weights.\n",
        "\n",
        "A very small λ will increase model 'complexity' (by ignoring errors from large weights $\\textbf{w}$), while a large λ will decrease model 'complexity' (by penalizing large weights $\\textbf{w}$)."
      ]
    },
    {
      "cell_type": "code",
      "metadata": {
        "id": "RWjGSITjDIgO"
      },
      "source": [
        "# regularization factor\n",
        "λ = 0.1 #@param [1e-100, 1e-10, 1e-1, 1, 10] {type:\"raw\"}"
      ],
      "execution_count": null,
      "outputs": []
    },
    {
      "cell_type": "code",
      "metadata": {
        "id": "hgNTlfoNp-Jj",
        "colab": {
          "base_uri": "https://localhost:8080/",
          "height": 937
        },
        "outputId": "a6dbe88e-4f0b-4a53-e2a8-2092d0e70bdc"
      },
      "source": [
        "# compute the \"Φ\" matrix\n",
        "# (M+1)x(M+1) Tensor\n",
        "cov_matrix = torch.matmul(Φ.t(), Φ)\n",
        "assert cov_matrix.shape == torch.Size([M+1, M+1]),\\\n",
        "     \"wrong shape\"\n",
        "\n",
        "# add λ on the diagonal entries of the \"Φ\" matrix\n",
        "# that we computed above\n",
        "cov_diag = cov_matrix + λ * torch.eye(M+1)\n",
        "\n",
        "# compute its inverse\n",
        "# (M+1)x(M+1) Tensor\n",
        "cov_inv = torch.inverse(cov_diag)\n",
        "\n",
        "# (M+1)xN Tensor\n",
        "pseudo_inverse = torch.matmul(\n",
        "    cov_inv,\n",
        "    Φ.t()\n",
        ")\n",
        "\n",
        "# compute regularized least squares weights\n",
        "# M+1 Tensor\n",
        "w_reg = torch.matmul(pseudo_inverse, t_train)\n",
        "print(\"Original least squares weights: \", w)\n",
        "print(\"Regularized least squares weights: \", w_reg)\n",
        "\n",
        "# predict for all points\n",
        "y_pred_reg = torch.matmul(dataset_features, w_reg.t())\n",
        "\n",
        "plt.ylim(top=2.0, bottom=-2.0)\n",
        "\n",
        "# plot the learned regression function\n",
        "plt.plot(x, y, color='green', label='true function')\n",
        "plt.plot(x, y_pred, color='red', label='linear model (degree %d)' % (M))\n",
        "plt.scatter(x_train, t_train, marker='o', color='blue', label='data points')\n",
        "plt.legend()\n",
        "plt.show()\n",
        "\n",
        "# plot the regularized regression function\n",
        "plt.plot(x, y, color='green', label='true function')\n",
        "plt.plot(x, y_pred_reg, color='black', label='regularized model (λ=%f)' % (λ))\n",
        "plt.scatter(x_train, t_train, marker='o', color='blue', label='data points')\n",
        "plt.legend()"
      ],
      "execution_count": null,
      "outputs": [
        {
          "output_type": "stream",
          "name": "stdout",
          "text": [
            "Original least squares weights:  tensor([-7.3809e-01,  2.0348e+01,  1.7470e+02, -3.6241e+03,  2.3627e+04,\n",
            "        -7.9478e+04,  1.5103e+05, -1.6323e+05,  9.3563e+04, -2.2080e+04])\n",
            "Regularized least squares weights:  tensor([ 0.7883,  0.3093, -1.9072, -1.5069, -0.7492, -0.1027,  0.3731,  0.7064,\n",
            "         0.9351,  1.0903])\n"
          ]
        },
        {
          "output_type": "display_data",
          "data": {
            "text/plain": [
              "<Figure size 640x480 with 1 Axes>"
            ],
            "image/png": "[encoded data removed]"
          },
          "metadata": {}
        },
        {
          "output_type": "execute_result",
          "data": {
            "text/plain": [
              "<matplotlib.legend.Legend at 0x7c6ed067eda0>"
            ]
          },
          "metadata": {},
          "execution_count": 35
        },
        {
          "output_type": "display_data",
          "data": {
            "text/plain": [
              "<Figure size 640x480 with 1 Axes>"
            ],
            "image/png": "[encoded data removed]"
          },
          "metadata": {}
        }
      ]
    },
    {
      "cell_type": "code",
      "source": [],
      "metadata": {
        "id": "BNZBkmhO4OLs"
      },
      "execution_count": null,
      "outputs": []
    },
    {
      "cell_type": "markdown",
      "metadata": {
        "id": "MyOTYbX1D-c-"
      },
      "source": [
        "Notice that:\n",
        " - small values of λ combat the **overfitting**, by reducing the large oscillations in the model\n",
        " - large values of λ lead to **underfitting**, by making the model too 'rigid'"
      ]
    },
    {
      "cell_type": "code",
      "source": [],
      "metadata": {
        "id": "YWSwOnB_5Bh7"
      },
      "execution_count": null,
      "outputs": []
    },
    {
      "cell_type": "code",
      "metadata": {
        "id": "wbB5qKshPnv-"
      },
      "source": [
        "#@title Apache License\n",
        "# Licensed under the Apache License, Version 2.0 (the \"License\");\n",
        "# you may not use this file except in compliance with the License.\n",
        "# You may obtain a copy of the License at\n",
        "#\n",
        "# https://www.apache.org/licenses/LICENSE-2.0\n",
        "#\n",
        "# Unless required by applicable law or agreed to in writing, software\n",
        "# distributed under the License is distributed on an \"AS IS\" BASIS,\n",
        "# WITHOUT WARRANTIES OR CONDITIONS OF ANY KIND, either express or implied.\n",
        "# See the License for the specific language governing permissions and\n",
        "# limitations under the License."
      ],
      "execution_count": null,
      "outputs": []
    },
    {
      "cell_type": "markdown",
      "metadata": {
        "id": "tB9tg50pLBAE"
      },
      "source": [
        "# Part II: Miscellaneous (optional)"
      ]
    },
    {
      "cell_type": "markdown",
      "metadata": {
        "id": "vQkTwKiVLH89"
      },
      "source": [
        "## Broadcasting"
      ]
    },
    {
      "cell_type": "markdown",
      "metadata": {
        "id": "BzT1Hit0LTVn"
      },
      "source": [
        "As you probably know, not every two matrices can be multiplied or added together.\n",
        "\n",
        "We sometimes want a similar behaviour to the basic arithmetical operations with some more *relaxed* conditions. This is where **broadcasting** comes in.\n",
        "\n",
        "Two tensors are *broadcastable* if the following rules hold [[1]]:\n",
        "\n",
        "*   Each tensor has at least one dimension\n",
        "*   When iterating over the dimension sizes, starting at the trailing dimension, the dimension sizes must be either equal, one of them is 1, or one of them does not exist.\n",
        "\n",
        "The following image illustrates some broadcasting examples:\n",
        "\n",
        "![broadcast](https://i.imgur.com/3tYs3HO.png)\n",
        "\n",
        "*Figure adapted from the [Python Data Science Handbook](http://shop.oreilly.com/product/0636920034919.do)*\n",
        "\n",
        "[1]: https://pytorch.org/docs/stable/notes/broadcasting.html\n",
        "\n",
        "*The following code snippets are from the official PyTorch docs on broadcasting [[1]].*"
      ]
    },
    {
      "cell_type": "code",
      "metadata": {
        "id": "OUP4FoghLSTD"
      },
      "source": [
        "x = torch.empty(5,7,3)\n",
        "y = torch.empty(5,7,3)\n",
        "# same shapes are always broadcastable (i.e. the above rules always hold)\n",
        "\n",
        "x = torch.empty((0,))\n",
        "y = torch.empty(2,2)\n",
        "# x and y are not broadcastable, because x does not have at least 1 dimension\n",
        "\n",
        "# can line up trailing dimensions\n",
        "x = torch.empty(5,3,4,1)\n",
        "y = torch.empty(  3,1,1)\n",
        "# x and y are broadcastable.\n",
        "# 1st trailing dimension: both have size 1\n",
        "# 2nd trailing dimension: y has size 1\n",
        "# 3rd trailing dimension: x size == y size\n",
        "# 4th trailing dimension: y dimension doesn't exist\n",
        "\n",
        "# but:\n",
        "x = torch.empty(5,2,4,1)\n",
        "y = torch.empty(  3,1,1)\n",
        "# x and y are not broadcastable, because in the 3rd trailing dimension 2 != 3"
      ],
      "execution_count": null,
      "outputs": []
    },
    {
      "cell_type": "markdown",
      "metadata": {
        "id": "U1iOWp--PPeP"
      },
      "source": [
        "If two tensors `x`, `y` are \"broadcastable\", the resulting tensor size is calculated as follows [[1]]:\n",
        "\n",
        "*   If the number of dimensions of `x` and `y` are not equal, prepend 1 to the dimensions of the tensor with fewer dimensions to make them equal length.\n",
        "*   Then, for each dimension size, the resulting dimension size is the max of the sizes of `x` and `y` along that dimension.\n",
        "\n",
        "[1]: https://pytorch.org/docs/stable/notes/broadcasting.html"
      ]
    },
    {
      "cell_type": "code",
      "metadata": {
        "id": "vq3e3oPTPR-V",
        "colab": {
          "base_uri": "https://localhost:8080/",
          "height": 34
        },
        "outputId": "74667769-a94a-481d-c9ad-c4824a73ce92"
      },
      "source": [
        "# can line up trailing dimensions to make reading easier\n",
        "x = torch.empty(5,1,4,1)\n",
        "y = torch.empty(  3,1,1)\n",
        "(x+y).size()"
      ],
      "execution_count": null,
      "outputs": [
        {
          "output_type": "execute_result",
          "data": {
            "text/plain": [
              "torch.Size([5, 3, 4, 1])"
            ]
          },
          "metadata": {
            "tags": []
          },
          "execution_count": 54
        }
      ]
    },
    {
      "cell_type": "markdown",
      "metadata": {
        "id": "C_9dCCZfPUeq"
      },
      "source": [
        "## NumPy Bridge"
      ]
    },
    {
      "cell_type": "markdown",
      "metadata": {
        "id": "dCENorFCPZ1Q"
      },
      "source": [
        "PyTorch has a very useful NumPy (a strong scientific computing library [[1]]) bridge.\n",
        "\n",
        "You can manipulate NumPy arrays and convert them to PyTorch tensors easily:\n",
        "\n",
        "[1]: https://numpy.org/"
      ]
    },
    {
      "cell_type": "code",
      "metadata": {
        "id": "HRVmhyEwPa2J",
        "colab": {
          "base_uri": "https://localhost:8080/"
        },
        "outputId": "a733d606-8497-41ad-edd4-a9882a350eb6"
      },
      "source": [
        "import numpy as np\n",
        "\n",
        "# Create a 3x4 random NumPy array\n",
        "np_arr = np.random.rand(3, 4)\n",
        "print(f'Numpy array:\\n{np_arr}')\n",
        "\n",
        "# Convert it to a PyTorch Tensor using torch.from_numpy()\n",
        "np_tens = torch.from_numpy(np_arr)\n",
        "print(f'Tensor from Numpy array:\\n{np_tens}')\n",
        "\n",
        "# You can also use the Tensor constructor\n",
        "np_tens_cnstr = torch.tensor(np_arr)\n",
        "print(f'Tensor from Numpy array (constructor):\\n{np_tens_cnstr}')\n",
        "\n",
        "# To convert back, just use .numpy()\n",
        "back_to_np = np_tens.numpy()\n",
        "print(f'Numpy array from Tensor:\\n{back_to_np}')"
      ],
      "execution_count": null,
      "outputs": [
        {
          "output_type": "stream",
          "name": "stdout",
          "text": [
            "Numpy array:\n",
            "[[0.01403396 0.15682405 0.63644481 0.50401538]\n",
            " [0.83894927 0.80386626 0.66836055 0.52180207]\n",
            " [0.56872629 0.0908505  0.66961978 0.31559491]]\n",
            "Tensor from Numpy array:\n",
            "tensor([[0.0140, 0.1568, 0.6364, 0.5040],\n",
            "        [0.8389, 0.8039, 0.6684, 0.5218],\n",
            "        [0.5687, 0.0909, 0.6696, 0.3156]], dtype=torch.float64)\n",
            "Tensor from Numpy array (constructor):\n",
            "tensor([[0.0140, 0.1568, 0.6364, 0.5040],\n",
            "        [0.8389, 0.8039, 0.6684, 0.5218],\n",
            "        [0.5687, 0.0909, 0.6696, 0.3156]], dtype=torch.float64)\n",
            "Numpy array from Tensor:\n",
            "[[0.01403396 0.15682405 0.63644481 0.50401538]\n",
            " [0.83894927 0.80386626 0.66836055 0.52180207]\n",
            " [0.56872629 0.0908505  0.66961978 0.31559491]]\n"
          ]
        }
      ]
    },
    {
      "cell_type": "markdown",
      "metadata": {
        "id": "-cEbDNifPc3o"
      },
      "source": [
        "## GPU Acceleration"
      ]
    },
    {
      "cell_type": "markdown",
      "metadata": {
        "id": "ASZ70In2Pntb"
      },
      "source": [
        "PyTorch has a robust GPU acceleration engine that can greatly improve compute times. To move the tensor `T` to the GPU and back, you can use the `.cuda()` and `.cpu()` class member methods."
      ]
    },
    {
      "cell_type": "code",
      "metadata": {
        "id": "I1cMZO1MPpRJ",
        "colab": {
          "base_uri": "https://localhost:8080/"
        },
        "outputId": "cadcac0f-8ad2-4b72-dbb7-b769bd0622e9"
      },
      "source": [
        "# Tensors are computed on CPU by default\n",
        "x = torch.randn(3,3)\n",
        "print(f'Compute engine: {x.device}')\n",
        "\n",
        "# Move it to GPU:\n",
        "x = x.cuda()\n",
        "print(f'Compute engine: {x.device}')\n",
        "\n",
        "# Move it back to the CPU:\n",
        "x = x.cpu()\n",
        "print(f'Compute engine: {x.device}')"
      ],
      "execution_count": null,
      "outputs": [
        {
          "output_type": "stream",
          "text": [
            "Compute engine: cpu\n",
            "Compute engine: cuda:0\n",
            "Compute engine: cpu\n"
          ],
          "name": "stdout"
        }
      ]
    },
    {
      "cell_type": "markdown",
      "metadata": {
        "id": "jqBI3Je0Pqmu"
      },
      "source": [
        "You should be aware of the fact that you can't use both GPU and CPU Tensors together when doing computations. You can have both types of Tensors in memory, but they must agree on the computation engine (GPU or CPU) when \"interacting\" with each other.\n",
        "\n",
        "A useful way of automatically moving PyTorch objects to the GPU engine when available is using the following code snippet:"
      ]
    },
    {
      "cell_type": "code",
      "metadata": {
        "id": "LpkqPHRrPsZD",
        "colab": {
          "base_uri": "https://localhost:8080/"
        },
        "outputId": "8700a48c-4449-4426-fe13-022f5c2dfa36"
      },
      "source": [
        "device = torch.device(\"cuda\") if torch.cuda.is_available() else torch.device(\"cpu\")\n",
        "print(device)"
      ],
      "execution_count": null,
      "outputs": [
        {
          "output_type": "stream",
          "text": [
            "cuda\n"
          ],
          "name": "stdout"
        }
      ]
    },
    {
      "cell_type": "markdown",
      "metadata": {
        "id": "OFNufGeEPt88"
      },
      "source": [
        "Now we can be sure that our tensors will always agree on the computation engine by calling the `.to(device)` member function:"
      ]
    },
    {
      "cell_type": "code",
      "metadata": {
        "id": "3Hgq0kjdPvIj",
        "colab": {
          "base_uri": "https://localhost:8080/"
        },
        "outputId": "c6b6eb40-37a5-4487-e30d-fa8392a41c95"
      },
      "source": [
        "# Won't work:\n",
        "x = torch.randn(3,3).cpu()\n",
        "y = torch.randn(3,3).cuda()\n",
        "try:\n",
        "  x + y\n",
        "except RuntimeError:\n",
        "  print(f\"You can't use both {x.device} and {y.device} in the same computation.\")\n",
        "\n",
        "# Works everytime:\n",
        "print(f'\\n(Engine: {device}) Using .to(device)')\n",
        "x.to(device) + y.to(device)"
      ],
      "execution_count": null,
      "outputs": [
        {
          "output_type": "stream",
          "text": [
            "You can't use both cpu and cuda:0 in the same computation.\n",
            "\n",
            "(Engine: cuda) Using .to(device)\n"
          ],
          "name": "stdout"
        },
        {
          "output_type": "execute_result",
          "data": {
            "text/plain": [
              "tensor([[-1.4060,  1.4716,  3.0267],\n",
              "        [-1.4426, -0.7504, -1.1823],\n",
              "        [ 1.3120,  0.3626,  2.2165]], device='cuda:0')"
            ]
          },
          "metadata": {
            "tags": []
          },
          "execution_count": 63
        }
      ]
    },
    {
      "cell_type": "markdown",
      "metadata": {
        "id": "5K91s-0iPxLn"
      },
      "source": [
        "We recommend using the `.to(device)` pattern when attaching Tensors and other PyTorch objects to different compute engines.\n",
        "\n",
        "\n",
        "**A quick note on running PyTorch locally:**\n",
        "\n",
        "We strongly recommend using Google Colab for this course, but if you plan on running PyTorch locally, on your own machines, you should know that NVidia GPUs do have the best support from PyTorch. Go through the following instructions [[1]] to install PyTorch locally, on a machine with supported NVidia GPUs.\n",
        "\n",
        "Running PyTorch on AMD hardware is possible, but much slower and with limited support. Follow the ROCm tutorial [[2]] to install PyTorch on a machine with an AMD GPU.\n",
        "\n",
        "[1]: https://pytorch.org/get-started/locally/\n",
        "[2]: https://rocm.github.io/pytorch.html"
      ]
    },
    {
      "cell_type": "code",
      "metadata": {
        "id": "OBDZ-RC4Qo9N"
      },
      "source": [],
      "execution_count": null,
      "outputs": []
    }
  ]
}