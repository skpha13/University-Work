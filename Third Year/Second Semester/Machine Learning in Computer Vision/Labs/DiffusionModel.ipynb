{
 "cells": [
  {
   "cell_type": "markdown",
   "metadata": {
    "execution": {
     "iopub.execute_input": "2023-05-24T18:30:38.18801Z",
     "iopub.status.busy": "2023-05-24T18:30:38.187533Z",
     "iopub.status.idle": "2023-05-24T18:30:49.595782Z",
     "shell.execute_reply": "2023-05-24T18:30:49.594579Z",
     "shell.execute_reply.started": "2023-05-24T18:30:38.187966Z"
    }
   },
   "source": [
    "## Imports\n"
   ]
  },
  {
   "cell_type": "markdown",
   "metadata": {},
   "source": [
    "Link (models): https://www.kaggle.com/code/mihailchirobocea/inference-diffusion-for-ffhq/edit/run/172323204"
   ]
  },
  {
   "cell_type": "markdown",
   "metadata": {},
   "source": [
    "For training code, see: https://www.kaggle.com/code/mihailchirobocea/training-diffusion-for-ffhq"
   ]
  },
  {
   "cell_type": "code",
   "execution_count": 19,
   "metadata": {
    "execution": {
     "iopub.execute_input": "2025-04-15T09:32:40.424328Z",
     "iopub.status.busy": "2025-04-15T09:32:40.424060Z",
     "iopub.status.idle": "2025-04-15T09:32:40.428892Z",
     "shell.execute_reply": "2025-04-15T09:32:40.428266Z",
     "shell.execute_reply.started": "2025-04-15T09:32:40.424308Z"
    },
    "trusted": true
   },
   "outputs": [],
   "source": [
    "import os\n",
    "import torch\n",
    "import torch.nn as nn\n",
    "import torch.nn.functional as F\n",
    "import torchvision\n",
    "from torchvision import transforms \n",
    "from torch.utils.data import DataLoader\n",
    "from torch import optim\n",
    "from torch.cuda.amp import autocast, GradScaler\n",
    "from tqdm.notebook import tqdm\n",
    "import copy\n",
    "import numpy as np\n",
    "import math\n",
    "from PIL import Image\n",
    "from matplotlib import pyplot as plt\n",
    "\n",
    "!pip install --upgrade diffusers[torch]\n",
    "\n",
    "from diffusers import DDPMScheduler, DDIMScheduler"
   ]
  },
  {
   "cell_type": "markdown",
   "metadata": {},
   "source": [
    "## Model"
   ]
  },
  {
   "cell_type": "code",
   "execution_count": 7,
   "metadata": {
    "execution": {
     "iopub.execute_input": "2025-04-15T09:24:42.530118Z",
     "iopub.status.busy": "2025-04-15T09:24:42.529408Z",
     "iopub.status.idle": "2025-04-15T09:24:42.564285Z",
     "shell.execute_reply": "2025-04-15T09:24:42.563458Z",
     "shell.execute_reply.started": "2025-04-15T09:24:42.530092Z"
    },
    "trusted": true
   },
   "outputs": [],
   "source": [
    "class EMA():\n",
    "    \"\"\"\n",
    "    Exponential Moving Average (EMA) class.\n",
    "\n",
    "    Args:\n",
    "        beta (float): The smoothing factor for the EMA calculation.\n",
    "        step (int, optional): The current step. Defaults to 0.\n",
    "\n",
    "    Methods:\n",
    "        update_model_average(ema_model, current_model):\n",
    "            Updates the model average using the EMA calculation.\n",
    "        update_average(old, new):\n",
    "            Calculates the EMA using the old and new values.\n",
    "        step_ema(ema_model, model, step_start_ema=2000):\n",
    "            Performs the EMA step, updating the model average if the step is greater than or equal to `step_start_ema`.\n",
    "        reset_parameters(ema_model, model):\n",
    "            Resets the parameters of the EMA model to match the original model.\n",
    "\n",
    "    \"\"\"\n",
    "\n",
    "    def __init__(self, beta, step=0):\n",
    "        super().__init__()\n",
    "        self.beta = beta\n",
    "        self.step = step\n",
    "\n",
    "    def update_model_average(self, ema_model, current_model):\n",
    "        \"\"\"\n",
    "        Updates the model average using the EMA calculation.\n",
    "\n",
    "        Args:\n",
    "            ema_model: The EMA model.\n",
    "            current_model: The current model.\n",
    "\n",
    "        \"\"\"\n",
    "        for current_params, ema_params in zip(current_model.parameters(), ema_model.parameters()):\n",
    "            old_weight, up_weight = ema_params.data, current_params.data\n",
    "            ema_params.data = self.update_average(old_weight, up_weight)\n",
    "\n",
    "    def update_average(self, old, new):\n",
    "        \"\"\"\n",
    "        Calculates the EMA using the old and new values.\n",
    "\n",
    "        Args:\n",
    "            old: The old value.\n",
    "            new: The new value.\n",
    "\n",
    "        Returns:\n",
    "            The EMA value.\n",
    "\n",
    "        \"\"\"\n",
    "        if old is None:\n",
    "            return new\n",
    "        return old * self.beta + (1 - self.beta) * new\n",
    "\n",
    "    def step_ema(self, ema_model, model, step_start_ema=2000):\n",
    "        \"\"\"\n",
    "        Performs the EMA step, updating the model average if the step is greater than or equal to `step_start_ema`.\n",
    "\n",
    "        Args:\n",
    "            ema_model: The EMA model.\n",
    "            model: The current model.\n",
    "            step_start_ema (int, optional): The step at which to start updating the model average. Defaults to 2000.\n",
    "\n",
    "        \"\"\"\n",
    "        if self.step < step_start_ema:\n",
    "            self.reset_parameters(ema_model, model)\n",
    "            self.step += 1\n",
    "            return\n",
    "        self.update_model_average(ema_model, model)\n",
    "        self.step += 1\n",
    "\n",
    "    def reset_parameters(self, ema_model, model):\n",
    "        \"\"\"\n",
    "        Resets the parameters of the EMA model to match the original model.\n",
    "\n",
    "        Args:\n",
    "            ema_model: The EMA model.\n",
    "            model: The original model.\n",
    "\n",
    "        \"\"\"\n",
    "        ema_model.load_state_dict(model.state_dict())\n",
    "        \n",
    "        \n",
    "\n",
    "class HeadAttention(nn.Module):\n",
    "    \"\"\"\n",
    "    HeadAttention module applies multi-head attention mechanism to the input tensor.\n",
    "\n",
    "    Args:\n",
    "        channels (int): The number of input channels.\n",
    "\n",
    "    Attributes:\n",
    "        channels (int): The number of input channels.\n",
    "        mha (nn.MultiheadAttention): The multi-head attention module.\n",
    "        ln (nn.LayerNorm): The layer normalization module.\n",
    "        ff_self (nn.Sequential): The feed-forward neural network module.\n",
    "\n",
    "    \"\"\"\n",
    "\n",
    "    def __init__(self, channels):\n",
    "        super(HeadAttention, self).__init__()\n",
    "        self.channels = channels\n",
    "\n",
    "        self.mha = nn.MultiheadAttention(channels, 4, batch_first=True)\n",
    "        self.ln = nn.LayerNorm([channels])\n",
    "        self.ff_self = nn.Sequential(\n",
    "            nn.LayerNorm([channels]),\n",
    "            nn.Linear(channels, channels),\n",
    "            nn.GELU(),\n",
    "            nn.Linear(channels, channels),\n",
    "        )\n",
    "\n",
    "    def forward(self, x):\n",
    "        \"\"\"\n",
    "        Forward pass of the HeadAttention module.\n",
    "\n",
    "        Args:\n",
    "            x (torch.Tensor): The input tensor.\n",
    "\n",
    "        Returns:\n",
    "            torch.Tensor: The output tensor after applying multi-head attention mechanism.\n",
    "\n",
    "        \"\"\"\n",
    "        h, w = x.shape[-2:]\n",
    "        x = x.view(-1, self.channels, h * w).swapaxes(1, 2)\n",
    "        x_ln = self.ln(x)\n",
    "        attention_value, _ = self.mha(x_ln, x_ln, x_ln)\n",
    "        attention_value = attention_value + x\n",
    "        attention_value = self.ff_self(attention_value) + attention_value\n",
    "        return attention_value.swapaxes(2, 1).view(-1, self.channels, h, w)\n",
    "    \n",
    "\n",
    "\n",
    "class SkipAttention(nn.Module):\n",
    "    \"\"\"\n",
    "    SkipAttention module applies skip attention mechanism to the input tensors.\n",
    "\n",
    "    Args:\n",
    "        f_in_g (int): Number of input channels for the g tensor.\n",
    "        f_in_x (int): Number of input channels for the x tensor.\n",
    "        f_out (int): Number of output channels.\n",
    "\n",
    "    Attributes:\n",
    "        w_g (nn.Sequential): Sequential module for processing the g tensor.\n",
    "        w_x (nn.Sequential): Sequential module for processing the x tensor.\n",
    "        relu (nn.ReLU): ReLU activation function.\n",
    "        psi (nn.Sequential): Sequential module for processing the combined tensor.\n",
    "\n",
    "    \"\"\"\n",
    "\n",
    "    def __init__(self, f_in_g, f_in_x, f_out):\n",
    "        super().__init__()\n",
    "\n",
    "        self.w_g = nn.Sequential(\n",
    "            nn.Conv2d(f_in_g, f_out, kernel_size=1, stride=1, padding=0),\n",
    "            nn.BatchNorm2d(f_out)\n",
    "        )\n",
    "\n",
    "        self.w_x = nn.Sequential(\n",
    "            nn.Conv2d(f_in_x, f_out, kernel_size=1, stride=1, padding=0),\n",
    "            nn.BatchNorm2d(f_out)\n",
    "        )\n",
    "\n",
    "        self.relu = nn.ReLU(inplace=True)\n",
    "\n",
    "        self.psi = nn.Sequential(\n",
    "            nn.Conv2d(f_out, 1, kernel_size=1, stride=1, padding=0),\n",
    "            nn.BatchNorm2d(1),\n",
    "            nn.Sigmoid()\n",
    "        )\n",
    "\n",
    "    def forward(self, g, x):\n",
    "        \"\"\"\n",
    "        Forward pass of the SkipAttention module.\n",
    "\n",
    "        Args:\n",
    "            g (torch.Tensor): Input tensor g.\n",
    "            x (torch.Tensor): Input tensor x.\n",
    "\n",
    "        Returns:\n",
    "            torch.Tensor: Output tensor after applying skip attention mechanism.\n",
    "\n",
    "        \"\"\"\n",
    "        g1 = self.w_g(g)\n",
    "        x1 = self.w_x(x)\n",
    "        psi = self.relu(g1 + x1)\n",
    "        psi = self.psi(psi)\n",
    "        return psi * x\n",
    "    \n",
    "    \n",
    "    \n",
    "class DoubleConv(nn.Module):\n",
    "    \"\"\"\n",
    "    DoubleConv module performs a double convolution operation on the input tensor.\n",
    "    \n",
    "    Args:\n",
    "        in_channels (int): Number of input channels.\n",
    "        out_channels (int): Number of output channels.\n",
    "        mid_channels (int, optional): Number of intermediate channels. If not provided, it is set to out_channels.\n",
    "        residual (bool, optional): Whether to use residual connection. Defaults to False.\n",
    "        emb_dim (int, optional): Dimension of the embedding layer. Defaults to 512.\n",
    "    \"\"\"\n",
    "    def __init__(self, in_channels, out_channels, mid_channels=None, residual=False, emb_dim=512):\n",
    "        super().__init__()\n",
    "        self.residual = residual\n",
    "        if not mid_channels:\n",
    "            mid_channels = out_channels\n",
    "        self.double_conv = nn.Sequential(\n",
    "            nn.Conv2d(in_channels, mid_channels, kernel_size=3, padding=1, bias=False),\n",
    "            nn.GroupNorm(1, mid_channels),\n",
    "            nn.GELU(),\n",
    "            nn.Conv2d(mid_channels, out_channels, kernel_size=3, padding=1, bias=False),\n",
    "            nn.GroupNorm(1, out_channels),\n",
    "        )\n",
    "        \n",
    "        self.emb_layer = nn.Linear(emb_dim, out_channels)\n",
    "\n",
    "    def forward(self, x, t=None):\n",
    "        \"\"\"\n",
    "        Forward pass of the model.\n",
    "\n",
    "        Args:\n",
    "            x (torch.Tensor): Input tensor.\n",
    "            t (torch.Tensor, optional): Target tensor. Defaults to None.\n",
    "\n",
    "        Returns:\n",
    "            torch.Tensor: Output tensor.\n",
    "        \"\"\"\n",
    "        if self.residual:\n",
    "            x = F.gelu(x + self.double_conv(x))\n",
    "        else:\n",
    "            x = self.double_conv(x)\n",
    "        if t is not None:\n",
    "            emb = self.emb_layer(t)[:, :, None, None].repeat(1, 1, x.shape[-2], x.shape[-1])\n",
    "            x = x + emb\n",
    "        return x\n",
    "        \n",
    "class Down(nn.Module):\n",
    "    \"\"\"\n",
    "    This class represents the Down module of a neural network.\n",
    "\n",
    "    Args:\n",
    "        in_channels (int): Number of input channels.\n",
    "        out_channels (int): Number of output channels.\n",
    "        emb_dim (int, optional): Dimension of the embedding layer. Defaults to 512.\n",
    "    \"\"\"\n",
    "\n",
    "    def __init__(self, in_channels, out_channels, emb_dim=512):\n",
    "        super().__init__()\n",
    "\n",
    "        self.down = nn.Conv2d(in_channels, in_channels, 4, stride=2, padding=1)\n",
    "        \n",
    "        self.conv1 = DoubleConv(in_channels, in_channels, residual=True)\n",
    "        self.conv2 = DoubleConv(in_channels, out_channels)\n",
    "\n",
    "        self.emb_layer = nn.Linear(emb_dim, out_channels)\n",
    "\n",
    "        self.head_attention = HeadAttention(out_channels)\n",
    "\n",
    "    def forward(self, x, t):\n",
    "        \"\"\"\n",
    "        Forward pass of the Down module.\n",
    "\n",
    "        Args:\n",
    "            x (torch.Tensor): Input tensor.\n",
    "            t (torch.Tensor): Embedding tensor.\n",
    "\n",
    "        Returns:\n",
    "            torch.Tensor: Output tensor.\n",
    "        \"\"\"\n",
    "        x = self.down(x)\n",
    "        x = self.conv1(x)\n",
    "        x = self.conv2(x)\n",
    "        emb = self.emb_layer(t)[:, :, None, None].repeat(1, 1, x.shape[-2], x.shape[-1])\n",
    "        x = x + emb\n",
    "        x = self.head_attention(x)\n",
    "        return x\n",
    "\n",
    "\n",
    "class Up(nn.Module):\n",
    "    \"\"\"\n",
    "    Up module of the network.\n",
    "\n",
    "    Args:\n",
    "        in_channels (int): Number of input channels.\n",
    "        out_channels (int): Number of output channels.\n",
    "        gated_attention (bool): Whether to use gated attention.\n",
    "        emb_dim (int, optional): Dimension of the embedding. Defaults to 512.\n",
    "    \"\"\"\n",
    "\n",
    "    def __init__(self, in_channels, out_channels, gated_attention, emb_dim=512):\n",
    "        super().__init__()\n",
    "\n",
    "        self.gated_attention = gated_attention\n",
    "\n",
    "        self.attention = SkipAttention(in_channels // 2, in_channels // 2, in_channels // 2)\n",
    "\n",
    "        self.conv1 = DoubleConv(in_channels, in_channels, residual=True)\n",
    "        self.conv2 = DoubleConv(in_channels, out_channels)\n",
    "\n",
    "        self.up = nn.ConvTranspose2d(out_channels, out_channels, 4, stride=2, padding=1)\n",
    "\n",
    "        self.emb_layer = nn.Linear(emb_dim, out_channels)\n",
    "        \n",
    "        self.head_attention = HeadAttention(out_channels)\n",
    "        \n",
    "\n",
    "    def forward(self, x, skip_x, t):\n",
    "        \"\"\"\n",
    "        Forward pass of the Up module.\n",
    "\n",
    "        Args:\n",
    "            x (torch.Tensor): Input tensor.\n",
    "            skip_x (torch.Tensor): Skip connection tensor.\n",
    "            t (torch.Tensor): Embedding tensor.\n",
    "\n",
    "        Returns:\n",
    "            torch.Tensor: Output tensor.\n",
    "        \"\"\"\n",
    "        \n",
    "        if self.gated_attention:\n",
    "            skip_x = self.attention(g=x, x=skip_x)\n",
    "        \n",
    "        x = torch.cat([skip_x, x], dim=1)\n",
    "        x = self.conv1(x)\n",
    "        x = self.conv2(x)\n",
    "        emb = self.emb_layer(t)[:, :, None, None].repeat(1, 1, x.shape[-2], x.shape[-1])\n",
    "        x = x + emb\n",
    "        x = self.head_attention(x)\n",
    "        x = self.up(x)\n",
    "        return x\n",
    "    \n",
    "    \n",
    "class In(nn.Module):\n",
    "    \"\"\"\n",
    "    This class represents a module that performs operations on input tensors.\n",
    "\n",
    "    Args:\n",
    "        out_channels (int): The number of output channels.\n",
    "        in_channels (int, optional): The number of input channels. Defaults to 3.\n",
    "        emb_dim (int, optional): The dimension of the embedding. Defaults to 512.\n",
    "    \"\"\"\n",
    "\n",
    "    def __init__(self, out_channels, in_channels=3, emb_dim=512):\n",
    "        super().__init__()\n",
    "        \n",
    "        self.conv1 = nn.Sequential(\n",
    "            nn.Conv2d(in_channels, out_channels, kernel_size=1, stride=1, padding=0, bias=False),\n",
    "            nn.GroupNorm(1, out_channels),\n",
    "            nn.GELU(),\n",
    "        )\n",
    "        self.conv2 = DoubleConv(out_channels, out_channels, residual=True)\n",
    "\n",
    "        self.emb_layer = nn.Linear(emb_dim, out_channels)\n",
    "\n",
    "    def forward(self, x, t):\n",
    "        \"\"\"\n",
    "        Performs a forward pass of the module.\n",
    "\n",
    "        Args:\n",
    "            x (torch.Tensor): The input tensor.\n",
    "            t (torch.Tensor): The embedding tensor.\n",
    "\n",
    "        Returns:\n",
    "            torch.Tensor: The output tensor.\n",
    "        \"\"\"\n",
    "        x = self.conv1(x)\n",
    "        x = self.conv2(x)\n",
    "        emb = self.emb_layer(t)[:, :, None, None].repeat(1, 1, x.shape[-2], x.shape[-1])\n",
    "        x = x + emb\n",
    "        return x\n",
    "    \n",
    "    \n",
    "class Out(nn.Module):\n",
    "    \"\"\"\n",
    "    This class represents the output module of a neural network.\n",
    "\n",
    "    Args:\n",
    "        in_channels (int): Number of input channels.\n",
    "        gated_attention (bool): Whether to use gated attention or not.\n",
    "        out_channels (int, optional): Number of output channels. Defaults to 3.\n",
    "        emb_dim (int, optional): Dimension of the embedding. Defaults to 512.\n",
    "    \"\"\"\n",
    "\n",
    "    def __init__(self, in_channels, gated_attention, out_channels=3, emb_dim=512):\n",
    "        super().__init__()\n",
    "        \n",
    "        self.gated_attention = gated_attention\n",
    "\n",
    "        self.attention = SkipAttention(in_channels // 2, in_channels // 2, in_channels // 2)\n",
    "        \n",
    "        self.conv1 = nn.Sequential(\n",
    "            DoubleConv(in_channels, in_channels, residual=True),\n",
    "            nn.Conv2d(in_channels, out_channels, kernel_size=1, stride=1, padding=0, bias=True),\n",
    "        )\n",
    "\n",
    "    def forward(self, x, skip_x):\n",
    "        \"\"\"\n",
    "        Forward pass of the output module.\n",
    "\n",
    "        Args:\n",
    "            x (torch.Tensor): Input tensor.\n",
    "            skip_x (torch.Tensor): Skip connection tensor.\n",
    "\n",
    "        Returns:\n",
    "            torch.Tensor: Output tensor.\n",
    "        \"\"\"\n",
    "        if self.gated_attention:\n",
    "            skip_x = self.attention(g=x, x=skip_x)\n",
    "        \n",
    "        x = torch.cat([skip_x, x], dim=1)\n",
    "        x = self.conv1(x)\n",
    "        return x\n",
    "    \n",
    "    \n",
    "class UNet(nn.Module):\n",
    "    \"\"\"\n",
    "    UNet is a convolutional neural network architecture used for image to image tasks.\n",
    "\n",
    "    Args:\n",
    "        device (torch.device): The device on which the model will be run.\n",
    "        gated_attention (bool, optional): Whether to use gated attention mechanism. Defaults to False.\n",
    "        c_in (int, optional): Number of input channels. Defaults to 3.\n",
    "        c_out (int, optional): Number of output channels. Defaults to 3.\n",
    "        time_dim (int, optional): Dimension of the time encoding. Defaults to 512.\n",
    "    \"\"\"\n",
    "\n",
    "    def __init__(self, device, gated_attention=False, c_in=3, c_out=3, time_dim=512):\n",
    "        super().__init__()\n",
    "\n",
    "        self.channels = [128 * k for k in range(1, 5)]\n",
    "        self.device = device\n",
    "        self.time_dim = time_dim\n",
    "\n",
    "        self.inc = In(self.channels[0])\n",
    "\n",
    "        self.down1 = Down(self.channels[0], self.channels[1])\n",
    "        self.down2 = Down(self.channels[1], self.channels[2])\n",
    "        self.down3 = Down(self.channels[2], self.channels[3])\n",
    "\n",
    "        self.bot1 = DoubleConv(self.channels[3], self.channels[3], residual=True)\n",
    "        self.bot2 = DoubleConv(self.channels[3], self.channels[3], residual=True)\n",
    "        self.bot3 = DoubleConv(self.channels[3], self.channels[3], residual=True)\n",
    "        self.bot4 = DoubleConv(self.channels[3], self.channels[3], residual=True)\n",
    "        self.bot5 = DoubleConv(self.channels[3], self.channels[3], residual=True)\n",
    "\n",
    "        self.up1 = Up(2 * self.channels[3], self.channels[2], gated_attention)\n",
    "        self.up2 = Up(2 * self.channels[2], self.channels[1], gated_attention)\n",
    "        self.up3 = Up(2 * self.channels[1], self.channels[0], gated_attention)\n",
    "\n",
    "        self.outc = Out(2 * self.channels[0], gated_attention)\n",
    "\n",
    "    def pos_encoding(self, t, channels):\n",
    "        \"\"\"\n",
    "        Generate positional encoding for the given time steps.\n",
    "\n",
    "        Args:\n",
    "            t (torch.Tensor): Time steps.\n",
    "            channels (int): Number of channels.\n",
    "\n",
    "        Returns:\n",
    "            torch.Tensor: Positional encoding.\n",
    "        \"\"\"\n",
    "        inv_freq = 1.0 / (10000 ** (torch.arange(0, channels, 2, device=self.device).float() / channels))\n",
    "        pos_enc_a = torch.sin(t.repeat(1, channels // 2) * inv_freq)\n",
    "        pos_enc_b = torch.cos(t.repeat(1, channels // 2) * inv_freq)\n",
    "        pos_enc = torch.cat([pos_enc_a, pos_enc_b], dim=-1)\n",
    "        return pos_enc\n",
    "\n",
    "    def forward(self, x, t):\n",
    "        \"\"\"\n",
    "        Forward pass of the UNet model.\n",
    "\n",
    "        Args:\n",
    "            x (torch.Tensor): Input tensor.\n",
    "            t (torch.Tensor): Time steps.\n",
    "\n",
    "        Returns:\n",
    "            torch.Tensor: Output tensor.\n",
    "        \"\"\"\n",
    "        t = t.unsqueeze(-1).type(torch.float)\n",
    "        t = self.pos_encoding(t, self.time_dim)\n",
    "\n",
    "        x1 = self.inc(x, t)\n",
    "        x2 = self.down1(x1, t)\n",
    "        x3 = self.down2(x2, t)\n",
    "        x4 = self.down3(x3, t)\n",
    "\n",
    "        x5 = self.bot1(x4, t=t)\n",
    "        x5 = self.bot2(x5, t=t)\n",
    "        x5 = self.bot3(x5, t=t)\n",
    "        x5 = self.bot4(x5, t=t)\n",
    "        x5 = self.bot5(x5, t=t)\n",
    "\n",
    "        x = self.up1(x5, x4, t)\n",
    "        x = self.up2(x, x3, t)\n",
    "        x = self.up3(x, x2, t)\n",
    "        x = self.outc(x, x1)\n",
    "\n",
    "        return x"
   ]
  },
  {
   "cell_type": "markdown",
   "metadata": {},
   "source": [
    "## Diffusion"
   ]
  },
  {
   "cell_type": "code",
   "execution_count": 23,
   "metadata": {
    "execution": {
     "iopub.execute_input": "2025-04-15T09:39:40.967077Z",
     "iopub.status.busy": "2025-04-15T09:39:40.966833Z",
     "iopub.status.idle": "2025-04-15T09:39:40.978810Z",
     "shell.execute_reply": "2025-04-15T09:39:40.978182Z",
     "shell.execute_reply.started": "2025-04-15T09:39:40.967059Z"
    },
    "trusted": true
   },
   "outputs": [],
   "source": [
    "def save_images(images, b):\n",
    "    \"\"\"\n",
    "    Save images to disk.\n",
    "\n",
    "    Args:\n",
    "        images (numpy.ndarray): Array of images.\n",
    "        b (int): Value of b.\n",
    "\n",
    "    Returns:\n",
    "        None\n",
    "    \"\"\"\n",
    "    for k in range(images.shape[0]):\n",
    "        name = '50'\n",
    "        img = Image.fromarray(images[k].permute(1, 2, 0).to('cpu').numpy())\n",
    "        img.save(f\"{name}_{b}_{k+1}.jpg\")\n",
    "\n",
    "    # Plot all images after saving (no upscaling)\n",
    "\n",
    "\n",
    "    n = images.shape[0]\n",
    "    h, w = images.shape[2], images.shape[3]\n",
    "    rows = math.ceil(n / b)\n",
    "    \n",
    "    # Set figure size to match the actual pixel size (dpi controls resolution)\n",
    "    dpi = 100\n",
    "    figsize = (w * b / dpi, h * rows / dpi)\n",
    "    plt.figure(figsize=figsize, dpi=dpi)\n",
    "\n",
    "    for k in range(n):\n",
    "        img = images[k].permute(1, 2, 0).to('cpu').numpy()\n",
    "        plt.subplot(rows, b, k + 1)\n",
    "        plt.imshow(img)\n",
    "        plt.axis(\"off\")\n",
    "\n",
    "    plt.subplots_adjust(wspace=0.05, hspace=0.05)\n",
    "    plt.show()\n",
    "\n",
    "\n",
    "\n",
    "class Diffusion:\n",
    "    \"\"\"\n",
    "    A class representing a diffusion process.\n",
    "\n",
    "    Args:\n",
    "        device (torch.device): The device to run the diffusion process on.\n",
    "        noise_steps (int): The number of noise steps in the diffusion process.\n",
    "        beta_start (float): The starting value of beta in the noise schedule.\n",
    "        beta_end (float): The ending value of beta in the noise schedule.\n",
    "        img_size (int): The size of the input images.\n",
    "\n",
    "    Attributes:\n",
    "        noise_steps (int): The number of noise steps in the diffusion process.\n",
    "        beta_start (float): The starting value of beta in the noise schedule.\n",
    "        beta_end (float): The ending value of beta in the noise schedule.\n",
    "        img_size (int): The size of the input images.\n",
    "        device (torch.device): The device to run the diffusion process on.\n",
    "        beta (torch.Tensor): The noise schedule for beta values.\n",
    "        alpha (torch.Tensor): The complement of the beta values in the noise schedule.\n",
    "        alpha_hat (torch.Tensor): The cumulative product of the alpha values.\n",
    "\n",
    "    Methods:\n",
    "        prepare_noise_schedule(): Prepares the noise schedule for beta values.\n",
    "        noise_images(x, t): Generates noise images for a given input image and time step.\n",
    "        sample_timesteps(n): Samples random time steps for diffusion sampling.\n",
    "        sample(model, scheduler, n, b): Performs diffusion sampling using a given model and scheduler.\n",
    "\n",
    "    \"\"\"\n",
    "\n",
    "    def __init__(self, device, noise_steps=1000, beta_start=1e-4, beta_end=0.02, img_size=64):\n",
    "        self.noise_steps = noise_steps\n",
    "        self.beta_start = beta_start\n",
    "        self.beta_end = beta_end\n",
    "        self.img_size = img_size\n",
    "        self.device = device\n",
    "\n",
    "        self.beta = self.prepare_noise_schedule().to(device)\n",
    "        self.alpha = 1. - self.beta\n",
    "        self.alpha_hat = torch.cumprod(self.alpha, dim=0)\n",
    "\n",
    "    def prepare_noise_schedule(self):\n",
    "        \"\"\"\n",
    "        Prepares the noise schedule for beta values.\n",
    "\n",
    "        Returns:\n",
    "            torch.Tensor: The noise schedule for beta values.\n",
    "\n",
    "        \"\"\"\n",
    "        return torch.linspace(self.beta_start, self.beta_end, self.noise_steps)\n",
    "\n",
    "    def noise_images(self, x, t):\n",
    "        \"\"\"\n",
    "        Generates noise images for a given input image and time step.\n",
    "\n",
    "        Args:\n",
    "            x (torch.Tensor): The input image.\n",
    "            t (int): The time step.\n",
    "\n",
    "        Returns:\n",
    "            Tuple[torch.Tensor, torch.Tensor]: The noise image and the noise.\n",
    "\n",
    "        \"\"\"\n",
    "        sqrt_alpha_hat = torch.sqrt(self.alpha_hat[t])[:, None, None, None]\n",
    "        sqrt_one_minus_alpha_hat = torch.sqrt(1 - self.alpha_hat[t])[:, None, None, None]\n",
    "        Ɛ = torch.randn_like(x)\n",
    "        return sqrt_alpha_hat * x + sqrt_one_minus_alpha_hat * Ɛ, Ɛ\n",
    "\n",
    "    def sample_timesteps(self, n):\n",
    "        \"\"\"\n",
    "        Samples random time steps for diffusion sampling.\n",
    "\n",
    "        Args:\n",
    "            n (int): The number of time steps to sample.\n",
    "\n",
    "        Returns:\n",
    "            torch.Tensor: The sampled time steps.\n",
    "\n",
    "        \"\"\"\n",
    "        return torch.randint(low=1, high=self.noise_steps, size=(n,))\n",
    "\n",
    "    def sample(self, model, scheduler, n, b):\n",
    "        \"\"\"\n",
    "        Performs diffusion sampling using a given model and scheduler.\n",
    "\n",
    "        Args:\n",
    "            model: The model to use for diffusion sampling.\n",
    "            scheduler: The scheduler to use for diffusion sampling.\n",
    "            n (int): The number of samples to generate.\n",
    "            b: The batch size.\n",
    "\n",
    "        Returns:\n",
    "            None\n",
    "\n",
    "        \"\"\"\n",
    "        model.eval()\n",
    "        with torch.no_grad():\n",
    "            x = torch.randn((n, 3, self.img_size, self.img_size)).to(self.device)\n",
    "\n",
    "            for i, t in enumerate(tqdm(scheduler.timesteps, total=len(scheduler.timesteps))):\n",
    "                t = t.repeat(n)\n",
    "                noise_pred = model(x, t)\n",
    "                x = scheduler.step(noise_pred, t[0], x).prev_sample\n",
    "\n",
    "        x = (x.clamp(-1, 1) + 1) / 2\n",
    "        x = (x * 255).type(torch.uint8)\n",
    "        save_images(x, b)\n",
    "        return\n"
   ]
  },
  {
   "cell_type": "markdown",
   "metadata": {},
   "source": [
    "## Inference"
   ]
  },
  {
   "cell_type": "code",
   "execution_count": 17,
   "metadata": {
    "execution": {
     "iopub.execute_input": "2025-04-15T09:31:41.188793Z",
     "iopub.status.busy": "2025-04-15T09:31:41.188225Z",
     "iopub.status.idle": "2025-04-15T09:31:41.193675Z",
     "shell.execute_reply": "2025-04-15T09:31:41.193100Z",
     "shell.execute_reply.started": "2025-04-15T09:31:41.188770Z"
    },
    "trusted": true
   },
   "outputs": [],
   "source": [
    "def sample_diffusion_images(batch = 1, no = 1, total_img = 10, path = \"/kaggle/input/ffhq-checkpoints/my_diff_ffhq_v5_e73.pth\"):\n",
    "    \"\"\"\n",
    "    Sample diffusion images using a pre-trained UNet model.\n",
    "\n",
    "    This function loads a pre-trained UNet model, loads a checkpoint, and performs diffusion sampling\n",
    "    to generate a specified number of images. The images are sampled using a scheduler and a batch size.\n",
    "\n",
    "    Args:\n",
    "        batch (int, optional): The batch size for sampling the images. Defaults to 1.\n",
    "        no (int, optional): The starting index for the sampled images. Defaults to 1.\n",
    "        total_img (int, optional): The total number of images to be sampled. Defaults to 10.\n",
    "        path (str, optional): The path to the pre-trained model checkpoint. Defaults to \"/kaggle/input/ffhq-checkpoints/my_diff_ffhq_v5_e73.pth\".\n",
    "\n",
    "    Returns:\n",
    "        None\n",
    "    \"\"\"\n",
    "    device = 'cpu'\n",
    "\n",
    "    model = UNet(device, gated_attention=True).to(device)\n",
    "    model.eval()\n",
    "    \n",
    "    checkpoint = torch.load(path, map_location=device)\n",
    "    model.load_state_dict(checkpoint[\"model_state_dict\"])\n",
    "    diff = Diffusion(device)\n",
    "\n",
    "    scheduler = DDIMScheduler()\n",
    "    scheduler.set_timesteps(50)\n",
    "\n",
    "\n",
    "    while no <= total_img // batch:\n",
    "        print(no)\n",
    "        diff.sample(model, scheduler, batch, no)\n",
    "        no += 1\n"
   ]
  },
  {
   "cell_type": "code",
   "execution_count": 24,
   "metadata": {
    "execution": {
     "iopub.execute_input": "2025-04-15T09:42:24.960961Z",
     "iopub.status.busy": "2025-04-15T09:42:24.960651Z",
     "iopub.status.idle": "2025-04-15T09:45:40.325741Z",
     "shell.execute_reply": "2025-04-15T09:45:40.325041Z",
     "shell.execute_reply.started": "2025-04-15T09:42:24.960914Z"
    },
    "trusted": true
   },
   "outputs": [
    {
     "name": "stderr",
     "output_type": "stream",
     "text": [
      "/tmp/ipykernel_31/2997237582.py:22: FutureWarning: You are using `torch.load` with `weights_only=False` (the current default value), which uses the default pickle module implicitly. It is possible to construct malicious pickle data which will execute arbitrary code during unpickling (See https://github.com/pytorch/pytorch/blob/main/SECURITY.md#untrusted-models for more details). In a future release, the default value for `weights_only` will be flipped to `True`. This limits the functions that could be executed during unpickling. Arbitrary objects will no longer be allowed to be loaded via this mode unless they are explicitly allowlisted by the user via `torch.serialization.add_safe_globals`. We recommend you start setting `weights_only=True` for any use case where you don't have full control of the loaded file. Please open an issue on GitHub for any issues related to this experimental feature.\n",
      "  checkpoint = torch.load(path, map_location=device)\n"
     ]
    },
    {
     "name": "stdout",
     "output_type": "stream",
     "text": [
      "1\n"
     ]
    },
    {
     "data": {
      "application/vnd.jupyter.widget-view+json": {
       "model_id": "eef7633a19d2427eb3b803e1b32aabf7",
       "version_major": 2,
       "version_minor": 0
      },
      "text/plain": [
       "  0%|          | 0/50 [00:00<?, ?it/s]"
      ]
     },
     "metadata": {},
     "output_type": "display_data"
    },
    {
     "data": {
      "image/png": "[encoded data removed]",
      "text/plain": [
       "<Figure size 64x64 with 1 Axes>"
      ]
     },
     "metadata": {},
     "output_type": "display_data"
    },
    {
     "name": "stdout",
     "output_type": "stream",
     "text": [
      "2\n"
     ]
    },
    {
     "data": {
      "application/vnd.jupyter.widget-view+json": {
       "model_id": "ad85e690af1449db94daaf881c4695f0",
       "version_major": 2,
       "version_minor": 0
      },
      "text/plain": [
       "  0%|          | 0/50 [00:00<?, ?it/s]"
      ]
     },
     "metadata": {},
     "output_type": "display_data"
    },
    {
     "data": {
      "image/png": "[encoded data removed]",
      "text/plain": [
       "<Figure size 128x64 with 1 Axes>"
      ]
     },
     "metadata": {},
     "output_type": "display_data"
    },
    {
     "name": "stdout",
     "output_type": "stream",
     "text": [
      "3\n"
     ]
    },
    {
     "data": {
      "application/vnd.jupyter.widget-view+json": {
       "model_id": "3c966e840dc44eb480e0018d5108dcbd",
       "version_major": 2,
       "version_minor": 0
      },
      "text/plain": [
       "  0%|          | 0/50 [00:00<?, ?it/s]"
      ]
     },
     "metadata": {},
     "output_type": "display_data"
    },
    {
     "data": {
      "image/png": "[encoded data removed]",
      "text/plain": [
       "<Figure size 192x64 with 1 Axes>"
      ]
     },
     "metadata": {},
     "output_type": "display_data"
    },
    {
     "name": "stdout",
     "output_type": "stream",
     "text": [
      "4\n"
     ]
    },
    {
     "data": {
      "application/vnd.jupyter.widget-view+json": {
       "model_id": "bcb15ce430a84b2c8588cc6b5beffd5d",
       "version_major": 2,
       "version_minor": 0
      },
      "text/plain": [
       "  0%|          | 0/50 [00:00<?, ?it/s]"
      ]
     },
     "metadata": {},
     "output_type": "display_data"
    },
    {
     "data": {
      "image/png": "[encoded data removed]",
      "text/plain": [
       "<Figure size 256x64 with 1 Axes>"
      ]
     },
     "metadata": {},
     "output_type": "display_data"
    },
    {
     "name": "stdout",
     "output_type": "stream",
     "text": [
      "5\n"
     ]
    },
    {
     "data": {
      "application/vnd.jupyter.widget-view+json": {
       "model_id": "cc1e97becb9640558fa7cdf22b57da49",
       "version_major": 2,
       "version_minor": 0
      },
      "text/plain": [
       "  0%|          | 0/50 [00:00<?, ?it/s]"
      ]
     },
     "metadata": {},
     "output_type": "display_data"
    },
    {
     "data": {
      "image/png": "[encoded data removed]",
      "text/plain": [
       "<Figure size 320x64 with 1 Axes>"
      ]
     },
     "metadata": {},
     "output_type": "display_data"
    },
    {
     "name": "stdout",
     "output_type": "stream",
     "text": [
      "6\n"
     ]
    },
    {
     "data": {
      "application/vnd.jupyter.widget-view+json": {
       "model_id": "550d2bdc7b3744b7a307213b99a76009",
       "version_major": 2,
       "version_minor": 0
      },
      "text/plain": [
       "  0%|          | 0/50 [00:00<?, ?it/s]"
      ]
     },
     "metadata": {},
     "output_type": "display_data"
    },
    {
     "data": {
      "image/png": "[encoded data removed]",
      "text/plain": [
       "<Figure size 384x64 with 1 Axes>"
      ]
     },
     "metadata": {},
     "output_type": "display_data"
    },
    {
     "name": "stdout",
     "output_type": "stream",
     "text": [
      "7\n"
     ]
    },
    {
     "data": {
      "application/vnd.jupyter.widget-view+json": {
       "model_id": "886d821da27b41cabd128f9e7c4a3d28",
       "version_major": 2,
       "version_minor": 0
      },
      "text/plain": [
       "  0%|          | 0/50 [00:00<?, ?it/s]"
      ]
     },
     "metadata": {},
     "output_type": "display_data"
    },
    {
     "data": {
      "image/png": "[encoded data removed]",
      "text/plain": [
       "<Figure size 448x64 with 1 Axes>"
      ]
     },
     "metadata": {},
     "output_type": "display_data"
    },
    {
     "name": "stdout",
     "output_type": "stream",
     "text": [
      "8\n"
     ]
    },
    {
     "data": {
      "application/vnd.jupyter.widget-view+json": {
       "model_id": "5831a3cc0aa5451caa17da2aafe7c7b6",
       "version_major": 2,
       "version_minor": 0
      },
      "text/plain": [
       "  0%|          | 0/50 [00:00<?, ?it/s]"
      ]
     },
     "metadata": {},
     "output_type": "display_data"
    },
    {
     "data": {
      "image/png": "[encoded data removed]",
      "text/plain": [
       "<Figure size 512x64 with 1 Axes>"
      ]
     },
     "metadata": {},
     "output_type": "display_data"
    },
    {
     "name": "stdout",
     "output_type": "stream",
     "text": [
      "9\n"
     ]
    },
    {
     "data": {
      "application/vnd.jupyter.widget-view+json": {
       "model_id": "815b13d52b6f4b09b62df8444d3b80fe",
       "version_major": 2,
       "version_minor": 0
      },
      "text/plain": [
       "  0%|          | 0/50 [00:00<?, ?it/s]"
      ]
     },
     "metadata": {},
     "output_type": "display_data"
    },
    {
     "data": {
      "image/png": "[encoded data removed]",
      "text/plain": [
       "<Figure size 576x64 with 1 Axes>"
      ]
     },
     "metadata": {},
     "output_type": "display_data"
    },
    {
     "name": "stdout",
     "output_type": "stream",
     "text": [
      "10\n"
     ]
    },
    {
     "data": {
      "application/vnd.jupyter.widget-view+json": {
       "model_id": "6b322b88fadf4ba1a72c5f5d200065fd",
       "version_major": 2,
       "version_minor": 0
      },
      "text/plain": [
       "  0%|          | 0/50 [00:00<?, ?it/s]"
      ]
     },
     "metadata": {},
     "output_type": "display_data"
    },
    {
     "data": {
      "image/png": "[encoded data removed]",
      "text/plain": [
       "<Figure size 640x64 with 1 Axes>"
      ]
     },
     "metadata": {},
     "output_type": "display_data"
    }
   ],
   "source": [
    "sample_diffusion_images()"
   ]
  }
 ],
 "metadata": {
  "kaggle": {
   "accelerator": "gpu",
   "dataSources": [
    {
     "datasetId": 3297941,
     "sourceId": 5752795,
     "sourceType": "datasetVersion"
    }
   ],
   "isGpuEnabled": true,
   "isInternetEnabled": true,
   "language": "python",
   "sourceType": "notebook"
  },
  "kernelspec": {
   "display_name": "Python 3",
   "language": "python",
   "name": "python3"
  },
  "language_info": {
   "codemirror_mode": {
    "name": "ipython",
    "version": 3
   },
   "file_extension": ".py",
   "mimetype": "text/x-python",
   "name": "python",
   "nbconvert_exporter": "python",
   "pygments_lexer": "ipython3",
   "version": "3.11.11"
  }
 },
 "nbformat": 4,
 "nbformat_minor": 4
}
