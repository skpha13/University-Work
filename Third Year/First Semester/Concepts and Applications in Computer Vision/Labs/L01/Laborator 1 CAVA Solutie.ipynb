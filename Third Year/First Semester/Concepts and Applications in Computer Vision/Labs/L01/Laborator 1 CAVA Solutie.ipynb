{
 "cells": [
  {
   "cell_type": "markdown",
   "id": "d523ec23",
   "metadata": {},
   "source": [
    "<h1><center>Laborator 1</center></h1>"
   ]
  },
  {
   "cell_type": "markdown",
   "id": "8dde2796",
   "metadata": {},
   "source": [
    "### Importuri necesare"
   ]
  },
  {
   "cell_type": "code",
   "execution_count": 1,
   "id": "09c67f7a",
   "metadata": {},
   "outputs": [],
   "source": [
    "import numpy as np\n",
    "import cv2 as cv\n",
    "import matplotlib.pyplot as plt"
   ]
  },
  {
   "cell_type": "markdown",
   "id": "2d521cad",
   "metadata": {},
   "source": [
    "### Citire si afisare imagine color"
   ]
  },
  {
   "cell_type": "code",
   "execution_count": 2,
   "id": "57cde877",
   "metadata": {},
   "outputs": [],
   "source": [
    "img = cv.imread(\"butterfly.jpeg\")\n",
    "cv.imshow(\"Fluture galben\",img)\n",
    "cv.waitKey(0)\n",
    "cv.destroyAllWindows()"
   ]
  },
  {
   "cell_type": "code",
   "execution_count": 3,
   "id": "70f225c2",
   "metadata": {},
   "outputs": [
    {
     "name": "stdout",
     "output_type": "stream",
     "text": [
      "(670, 626, 3)\n"
     ]
    }
   ],
   "source": [
    "print(img.shape)"
   ]
  },
  {
   "cell_type": "markdown",
   "id": "92cdf1b6",
   "metadata": {},
   "source": [
    "### Citire si afisare imagine gray"
   ]
  },
  {
   "cell_type": "code",
   "execution_count": 4,
   "id": "21fe8ed2",
   "metadata": {},
   "outputs": [],
   "source": [
    "img = cv.imread(\"butterfly.jpeg\",cv.IMREAD_GRAYSCALE)\n",
    "cv.imshow(\"Fluture gray\",img)\n",
    "cv.waitKey(0)\n",
    "cv.destroyAllWindows()"
   ]
  },
  {
   "cell_type": "markdown",
   "id": "392c574d",
   "metadata": {},
   "source": [
    "### Dimensiune imagine"
   ]
  },
  {
   "cell_type": "code",
   "execution_count": 5,
   "id": "546107b3",
   "metadata": {},
   "outputs": [
    {
     "name": "stdout",
     "output_type": "stream",
     "text": [
      "670 626\n"
     ]
    }
   ],
   "source": [
    "H, W = img.shape\n",
    "print(H,W)"
   ]
  },
  {
   "cell_type": "markdown",
   "id": "0c5d6fc6",
   "metadata": {},
   "source": [
    "### Redimensionare imagine"
   ]
  },
  {
   "cell_type": "code",
   "execution_count": 6,
   "id": "13623c8a",
   "metadata": {},
   "outputs": [
    {
     "name": "stdout",
     "output_type": "stream",
     "text": [
      "100 100\n"
     ]
    }
   ],
   "source": [
    "img = cv.resize(img,(100, 100))\n",
    "H, W = img.shape\n",
    "print(H,W)\n",
    "cv.imshow(\"Fluture gray redimensionat\",img)\n",
    "cv.waitKey(0)\n",
    "cv.destroyAllWindows()"
   ]
  },
  {
   "cell_type": "code",
   "execution_count": 7,
   "id": "2049dbb1",
   "metadata": {},
   "outputs": [],
   "source": [
    "img = cv.resize(cv.cvtColor(cv.imread(\"football.jpg\"), cv.COLOR_BGR2GRAY), (100, 100));"
   ]
  },
  {
   "cell_type": "code",
   "execution_count": 8,
   "id": "f6df7a12",
   "metadata": {},
   "outputs": [],
   "source": [
    "cv.imshow(\"Football\",img)\n",
    "cv.waitKey(0)\n",
    "cv.destroyAllWindows()"
   ]
  },
  {
   "cell_type": "code",
   "execution_count": 9,
   "id": "15fc5c89",
   "metadata": {},
   "outputs": [
    {
     "name": "stdout",
     "output_type": "stream",
     "text": [
      "[ 19  19  20 ... 254 254 254]\n"
     ]
    },
    {
     "data": {
      "image/png": "[encoded data removed]",
      "text/plain": [
       "<Figure size 432x288 with 1 Axes>"
      ]
     },
     "metadata": {
      "needs_background": "light"
     },
     "output_type": "display_data"
    }
   ],
   "source": [
    "#a\n",
    "v=img.flatten()\n",
    "x=np.sort(v)\n",
    "print(x)\n",
    "plt.plot(np.arange(len(x)),x)\n",
    "plt.show()"
   ]
  },
  {
   "cell_type": "code",
   "execution_count": 10,
   "id": "14d1dbe9",
   "metadata": {},
   "outputs": [],
   "source": [
    "#b\n",
    "A=img[50:,50:].copy()\n",
    "cv.imshow(\"A\",A)\n",
    "cv.waitKey(0)\n",
    "cv.destroyAllWindows()"
   ]
  },
  {
   "cell_type": "code",
   "execution_count": 11,
   "id": "a7c5f8d8",
   "metadata": {},
   "outputs": [
    {
     "name": "stdout",
     "output_type": "stream",
     "text": [
      "65.0\n"
     ]
    }
   ],
   "source": [
    "#c\n",
    "t=np.median(x)\n",
    "print(t)"
   ]
  },
  {
   "cell_type": "code",
   "execution_count": null,
   "id": "3294cb7d",
   "metadata": {},
   "outputs": [],
   "source": [
    "#d\n",
    "B=img.copy()\n",
    "B[B<t]=0\n",
    "B[B>=t]=255\n",
    "cv.imshow(\"B\",B)\n",
    "cv.waitKey(0)\n",
    "cv.destroyAllWindows()"
   ]
  },
  {
   "cell_type": "code",
   "execution_count": null,
   "id": "fa534c3c",
   "metadata": {},
   "outputs": [],
   "source": [
    "#e\n",
    "i_mediu=img.mean()\n",
    "print(i_mediu)\n",
    "C=img-i_mediu\n",
    "C[C<0]=0\n",
    "C=np.uint8(C)\n",
    "cv.imshow(\"C\",C)\n",
    "cv.waitKey(0)\n",
    "cv.destroyAllWindows()"
   ]
  },
  {
   "cell_type": "code",
   "execution_count": null,
   "id": "8d7d0bab",
   "metadata": {},
   "outputs": [],
   "source": [
    "#f\n",
    "i_min=img.min()\n",
    "print(i_min)\n",
    "l,c=np.where(img==i_min)\n",
    "print(l,c)"
   ]
  },
  {
   "cell_type": "code",
   "execution_count": null,
   "id": "d8b4dd89",
   "metadata": {},
   "outputs": [],
   "source": [
    "import os"
   ]
  },
  {
   "cell_type": "code",
   "execution_count": null,
   "id": "14fc79ab",
   "metadata": {},
   "outputs": [],
   "source": [
    "dir_path='colectiiImagini\\\\colectiiImagini\\\\set1\\\\'\n",
    "files=os.listdir(dir_path)\n",
    "print(files)\n",
    "color_images=[]\n",
    "gray_images=[]\n",
    "for image_name in files:\n",
    "    if image_name.endswith('jpg'):\n",
    "        path=dir_path+image_name\n",
    "        img=cv.imread(path)\n",
    "        img_gray=cv.cvtColor(img,cv.COLOR_BGR2GRAY)\n",
    "        color_images.append(img)\n",
    "        gray_images.append(img_gray)\n",
    "color_images=np.array(color_images)\n",
    "print(color_images.shape)\n",
    "gray_images=np.array(gray_images)\n",
    "print(gray_images.shape)\n",
    "mean_color_image=np.uint8(np.mean(color_images,axis=0))\n",
    "cv.imshow(\"mean_color_image\",mean_color_image)\n",
    "cv.waitKey(0)\n",
    "cv.destroyAllWindows()\n",
    "mean_gray_image=np.uint8(np.mean(gray_images,axis=0))\n",
    "cv.imshow(\"mean_gray_image\",mean_gray_image)\n",
    "cv.waitKey(0)\n",
    "cv.destroyAllWindows()\n",
    "X=np.uint8(np.std(gray_images,axis=0))\n",
    "cv.imshow(\"X\",X)\n",
    "cv.waitKey(0)\n",
    "cv.destroyAllWindows()"
   ]
  },
  {
   "cell_type": "code",
   "execution_count": null,
   "id": "1044393f",
   "metadata": {},
   "outputs": [],
   "source": [
    "#1.8\n",
    "img=cv.imread('butterfly.jpeg')\n",
    "ws=20\n",
    "img_crop=img[250:250+ws,250:250+ws,:].copy()\n",
    "nw=20\n",
    "H,W,_=img.shape\n",
    "y=np.random.randint(0,H-ws,size=(nw))\n",
    "x=np.random.randint(0,W-ws,size=(nw))\n",
    "print(len(y))\n",
    "dist=np.zeros(nw)\n",
    "for i in range(nw):\n",
    "    patch=img[y[i]:y[i]+ws,x[i]:x[i]+ws,:].copy()\n",
    "    dist[i]=np.sqrt(np.sum((np.float64(patch)-np.float64(img_crop))**2))\n",
    "index=np.argmin(dist)\n",
    "print(index)\n",
    "print(dist.min())\n",
    "print(dist[index])\n",
    "img_noua=img.copy()\n",
    "img_noua[250:250+ws,250:250+ws,:]=img[y[index]:y[index]+ws,x[index]:x[index]+ws,:].copy()\n",
    "cv.imshow(\"img_noua\",img_noua)\n",
    "cv.waitKey(0)\n",
    "cv.destroyAllWindows()"
   ]
  },
  {
   "cell_type": "code",
   "execution_count": null,
   "id": "e3db7ab1",
   "metadata": {},
   "outputs": [],
   "source": []
  }
 ],
 "metadata": {
  "kernelspec": {
   "display_name": "Python 3 (ipykernel)",
   "language": "python",
   "name": "python3"
  },
  "language_info": {
   "codemirror_mode": {
    "name": "ipython",
    "version": 3
   },
   "file_extension": ".py",
   "mimetype": "text/x-python",
   "name": "python",
   "nbconvert_exporter": "python",
   "pygments_lexer": "ipython3",
   "version": "3.8.11"
  }
 },
 "nbformat": 4,
 "nbformat_minor": 5
}
