{
 "cells": [
  {
   "cell_type": "code",
   "execution_count": null,
   "id": "2ace948d",
   "metadata": {},
   "outputs": [],
   "source": [
    "import cv2 as cv\n",
    "import os\n",
    "import numpy as np"
   ]
  },
  {
   "cell_type": "markdown",
   "id": "61e9edff",
   "metadata": {},
   "source": [
    "## Operatii cu video-uri"
   ]
  },
  {
   "cell_type": "code",
   "execution_count": null,
   "id": "ec19c5a3",
   "metadata": {},
   "outputs": [],
   "source": [
    "def display_video(video_path, window_name='Video', frame_delay = 25):\n",
    "    cap = cv.VideoCapture(video_path)\n",
    "\n",
    "    if not cap.isOpened():\n",
    "        print(\"Error: Cannot open video.\")\n",
    "        return\n",
    "\n",
    "    while True:\n",
    "        ret, frame = cap.read()\n",
    "        if not ret:\n",
    "            print(\"End of video.\")\n",
    "            break\n",
    "        cv.imshow(window_name, frame)\n",
    "        if cv.waitKey(frame_delay) & 0xFF == ord('q'):\n",
    "            break\n",
    "\n",
    "    cap.release()\n",
    "    cv.destroyAllWindows()\n",
    "video_path = \"highway.mp4\"\n",
    "display_video(video_path)\n"
   ]
  },
  {
   "cell_type": "code",
   "execution_count": null,
   "id": "4f549e89",
   "metadata": {},
   "outputs": [],
   "source": [
    "def extract_frames(video_path, output_folder):\n",
    "    \n",
    "    if not os.path.exists(output_folder):\n",
    "        os.makedirs(output_folder)\n",
    "\n",
    "    cap = cv.VideoCapture(video_path)\n",
    "\n",
    "    if not cap.isOpened():\n",
    "        print(\"Error: Cannot open video.\")\n",
    "        return\n",
    "\n",
    "    frame_count = 0\n",
    "    while True:\n",
    "        ret, frame = cap.read()\n",
    "        if not ret:\n",
    "            print(\"End of video.\")\n",
    "            break\n",
    "        \n",
    "        frame_filename = os.path.join(output_folder, f\"frame_{frame_count:04d}.jpg\")\n",
    "        cv.imwrite(frame_filename, frame)\n",
    "        frame_count += 1\n",
    "\n",
    "    cap.release()\n",
    "\n",
    "video_path = \"highway.mp4\"\n",
    "output_folder = \"frames\"\n",
    "extract_frames(video_path, output_folder)\n"
   ]
  },
  {
   "cell_type": "markdown",
   "id": "316f1924",
   "metadata": {},
   "source": [
    "### Extragerea foreground-ului folosind diferenta dintre frame-uri"
   ]
  },
  {
   "cell_type": "code",
   "execution_count": null,
   "id": "fc4cb3d2",
   "metadata": {},
   "outputs": [],
   "source": [
    "def foreground_extraction_frame_difference(image_folder, output_video, output_video2, fps= 25):\n",
    "\n",
    "    images = sorted([img for img in os.listdir(image_folder) if img.endswith(('.jpg'))])\n",
    "\n",
    "    first_frame = cv.imread(os.path.join(image_folder, images[0]))\n",
    "\n",
    "    height, width, _ = first_frame.shape\n",
    "    video = cv.VideoWriter(output_video, cv.VideoWriter_fourcc(*'mp4v'), fps, (width, height))\n",
    "    video2 = cv.VideoWriter(output_video2, cv.VideoWriter_fourcc(*'mp4v'), fps, (width, height))\n",
    "\n",
    "    \n",
    "\n",
    "    video.release()\n",
    "    video2.release()\n",
    "\n",
    "image_folder = 'frames'\n",
    "output_video = ''\n",
    "output_video2 = ''\n",
    "foreground_extraction_frame_difference(image_folder, output_video, output_video2, fps=25)\n"
   ]
  },
  {
   "cell_type": "markdown",
   "id": "fed93112",
   "metadata": {},
   "source": [
    "### Extragerea unei imagini de background"
   ]
  },
  {
   "cell_type": "code",
   "execution_count": null,
   "id": "6332f4d3",
   "metadata": {},
   "outputs": [],
   "source": [
    "def background_extraction(image_folder, method, k=None, x=None, y=None):\n",
    "    \n",
    "    images = sorted([img for img in os.listdir(image_folder) if img.endswith('.jpg')])\n",
    "    \n",
    "    selected_frames = []\n",
    "    if method == 'mean_first_k':\n",
    "        selected_frames = [cv.imread(os.path.join(image_folder, images[i])) for i in range(k)]\n",
    "    \n",
    "    elif method == 'median_first_k':\n",
    "        selected_frames = [cv.imread(os.path.join(image_folder, images[i])) for i in range(k)]\n",
    "    \n",
    "    elif method == 'mean_range':\n",
    "        selected_frames = [cv.imread(os.path.join(image_folder, images[i])) for i in range(x, y + 1)]\n",
    "    \n",
    "    elif method == 'median_range':\n",
    "        selected_frames = [cv.imread(os.path.join(image_folder, images[i])) for i in range(x, y + 1)]\n",
    "    \n",
    "    else:\n",
    "        raise ValueError(\"Invalid method\")\n",
    "    \n",
    "    \n",
    "    if method.startswith('mean'):\n",
    "        background = np.mean(selected_frames, axis=0).astype(np.uint8)\n",
    "    elif method.startswith('median'):\n",
    "        background = np.median(selected_frames, axis=0).astype(np.uint8)\n",
    "    \n",
    "    return background"
   ]
  },
  {
   "cell_type": "markdown",
   "id": "7f50b275",
   "metadata": {},
   "source": [
    "### Extragerea foreground-ului folosind background fix"
   ]
  },
  {
   "cell_type": "code",
   "execution_count": null,
   "id": "1e7dcd45",
   "metadata": {},
   "outputs": [],
   "source": [
    "def foreground_extraction_fixed_background(image_folder, method, output_video, output_video2, k=30,x=None,y=None,fps= 25,processing=False):\n",
    "\n",
    "    images = sorted([img for img in os.listdir(image_folder) if img.endswith('.jpg')])\n",
    "\n",
    "    first_frame = cv.imread(os.path.join(image_folder, images[0]))\n",
    "    height, width, _ = first_frame.shape\n",
    "\n",
    "    video = cv.VideoWriter(output_video, cv.VideoWriter_fourcc(*'mp4v'), fps, (width, height))\n",
    "    video2 = cv.VideoWriter(output_video2, cv.VideoWriter_fourcc(*'mp4v'), fps, (width, height))\n",
    "\n",
    "\n",
    "    background = background_extraction(image_folder, method, k, x, y)\n",
    "\n",
    "\n",
    "    video.release()\n",
    "    video2.release()\n",
    "\n",
    "image_folder = 'frames'\n",
    "output_video = ''\n",
    "output_video2 = ''\n",
    "foreground_extraction_fixed_background(image_folder,'median_range', output_video, output_video2,x=470,y=480, fps=25)\n"
   ]
  },
  {
   "cell_type": "markdown",
   "id": "0f5d09f1",
   "metadata": {},
   "source": [
    "### Extragerea foreground-ului folosind background adaptiv"
   ]
  },
  {
   "cell_type": "code",
   "execution_count": null,
   "id": "01c8df35",
   "metadata": {},
   "outputs": [],
   "source": [
    "def foreground_extraction_adaptive_background(image_folder, method, output_video, output_video2, k=10,fps= 25,processing=False):\n",
    "\n",
    "    images = sorted([img for img in os.listdir(image_folder) if img.endswith('.jpg')])\n",
    "\n",
    "    first_frame = cv.imread(os.path.join(image_folder, images[0]))\n",
    "    height, width, _ = first_frame.shape\n",
    "\n",
    "    video = cv.VideoWriter(output_video, cv.VideoWriter_fourcc(*'mp4v'), fps, (width, height))\n",
    "    video2 = cv.VideoWriter(output_video2, cv.VideoWriter_fourcc(*'mp4v'), fps, (width, height))\n",
    "\n",
    "    \n",
    "    \n",
    "    video.release()\n",
    "    video2.release()\n",
    "\n",
    "image_folder = 'frames'\n",
    "output_video = ''\n",
    "output_video2 = ''\n",
    "foreground_extraction_adaptive_background(image_folder,'median_range', output_video, output_video2,k=10, fps=25)\n"
   ]
  },
  {
   "cell_type": "markdown",
   "id": "f6edec22",
   "metadata": {},
   "source": [
    "### Numararea obiectelor din video"
   ]
  },
  {
   "cell_type": "code",
   "execution_count": null,
   "id": "594baf85",
   "metadata": {},
   "outputs": [],
   "source": [
    "def calculate_iou(bbox1, bbox2):\n",
    "    x1, y1, w1, h1 = bbox1\n",
    "    x2, y2, w2, h2 = bbox2\n",
    "    x_left = max(x1, x2)\n",
    "    y_top = max(y1, y2)\n",
    "    x_right = min(x1 + w1, x2 + w2)\n",
    "    y_bottom = min(y1 + h1, y2 + h2)\n",
    "\n",
    "    if x_right <= x_left or y_bottom <= y_top:\n",
    "        return 0  \n",
    "\n",
    "    intersection_area = (x_right - x_left) * (y_bottom - y_top)\n",
    "    area1 = w1 * h1\n",
    "    area2 = w2 * h2\n",
    "    union_area = area1 + area2 - intersection_area\n",
    "\n",
    "    iou = intersection_area / union_area\n",
    "    return iou"
   ]
  },
  {
   "cell_type": "code",
   "execution_count": null,
   "id": "224fd156",
   "metadata": {},
   "outputs": [],
   "source": [
    "image_folder = 'frames'\n",
    "output_video = ''\n",
    "output_video2 = ''\n",
    "fps = 25\n",
    "\n",
    "images = sorted([img for img in os.listdir(image_folder) if img.endswith('.jpg')])\n",
    "\n",
    "first_frame = cv.imread(os.path.join(image_folder, images[0]))\n",
    "height, width, _ = first_frame.shape\n",
    "\n",
    "video = cv.VideoWriter(output_video, cv.VideoWriter_fourcc(*'mp4v'), fps, (width, height))\n",
    "video2 = cv.VideoWriter(output_video2, cv.VideoWriter_fourcc(*'mp4v'), fps, (width, height))\n",
    "\n",
    "background = background_extraction(image_folder, 'median_range', k=30, x=470, y=480)\n",
    "\n",
    "previous_contours = []  \n",
    "total_passed_count = 0  \n",
    "\n",
    "for image_name in images:\n",
    "    \n",
    "\n",
    "    cv.putText(current_frame, f'{total_passed_count}', (10, 30),\n",
    "               cv.FONT_HERSHEY_SIMPLEX, 1, (255, 255, 255), 2, cv.LINE_AA) \n",
    "\n",
    "    video2.write(current_frame)\n",
    "\n",
    "video.release()\n",
    "video2.release()\n"
   ]
  },
  {
   "cell_type": "code",
   "execution_count": null,
   "id": "862a82b6",
   "metadata": {},
   "outputs": [],
   "source": []
  }
 ],
 "metadata": {
  "kernelspec": {
   "display_name": "Python 3 (ipykernel)",
   "language": "python",
   "name": "python3"
  },
  "language_info": {
   "codemirror_mode": {
    "name": "ipython",
    "version": 3
   },
   "file_extension": ".py",
   "mimetype": "text/x-python",
   "name": "python",
   "nbconvert_exporter": "python",
   "pygments_lexer": "ipython3",
   "version": "3.9.16"
  }
 },
 "nbformat": 4,
 "nbformat_minor": 5
}
