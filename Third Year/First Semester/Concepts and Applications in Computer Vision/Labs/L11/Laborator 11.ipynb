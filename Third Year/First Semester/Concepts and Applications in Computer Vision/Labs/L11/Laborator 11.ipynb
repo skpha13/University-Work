{
 "cells": [
  {
   "cell_type": "markdown",
   "id": "62dce541",
   "metadata": {},
   "source": [
    "## Importuri necesare"
   ]
  },
  {
   "cell_type": "code",
   "execution_count": 1,
   "id": "21d05f4e",
   "metadata": {},
   "outputs": [],
   "source": [
    "import glob\n",
    "import cv2 as cv\n",
    "import numpy as np\n",
    "from skimage.feature import hog\n",
    "from sklearn.svm import SVC, LinearSVC\n",
    "from sklearn.neighbors import KNeighborsClassifier\n",
    "from sklearn.metrics import confusion_matrix,accuracy_score\n",
    "from copy import deepcopy\n",
    "import torch\n",
    "import torch.nn as nn\n",
    "import torchvision.models as models\n",
    "import torchvision.transforms as transforms\n",
    "from torch.autograd import Variable\n",
    "from PIL import Image\n",
    "import os\n",
    "import matplotlib.pyplot as plt"
   ]
  },
  {
   "cell_type": "markdown",
   "id": "8e14eca6",
   "metadata": {},
   "source": [
    "## Incarcarea imaginilor"
   ]
  },
  {
   "cell_type": "code",
   "execution_count": 2,
   "id": "48d6138c",
   "metadata": {},
   "outputs": [],
   "source": [
    "def load_images_and_labels(path, image_size=(300, 300)):\n",
    "\n",
    "    folders = glob.glob(os.path.join(path, '*'))\n",
    "\n",
    "    images = []\n",
    "    labels = []\n",
    "\n",
    "    for folder in folders:\n",
    "        clas = os.path.basename(folder) \n",
    "        print(f\"Procesam clasa: {clas}\")\n",
    "\n",
    "        files = glob.glob(os.path.join(folder, '*.jpg'))\n",
    "        for file in files:\n",
    "            image = cv.imread(file)\n",
    "            image = cv.resize(image, image_size, interpolation=cv.INTER_LINEAR)\n",
    "            img_array = np.asarray(image)\n",
    "\n",
    "            images.append(img_array)\n",
    "            labels.append(clas)\n",
    "\n",
    "    images = np.array(images)\n",
    "    labels = np.array(labels)\n",
    "    \n",
    "    return images, labels"
   ]
  },
  {
   "cell_type": "code",
   "execution_count": 3,
   "id": "2f731b36",
   "metadata": {},
   "outputs": [
    {
     "name": "stdout",
     "output_type": "stream",
     "text": [
      "Procesam clasa: soccer_ball\n",
      "Procesam clasa: yin_yang\n",
      "Procesam clasa: soccer_ball\n",
      "Procesam clasa: yin_yang\n"
     ]
    }
   ],
   "source": [
    "train_images,train_labels=load_images_and_labels('data/train1')\n",
    "test_images,test_labels=load_images_and_labels('data/test1')"
   ]
  },
  {
   "cell_type": "code",
   "execution_count": 4,
   "id": "379daa7c",
   "metadata": {},
   "outputs": [
    {
     "name": "stdout",
     "output_type": "stream",
     "text": [
      "(94, 300, 300, 3)\n",
      "(30, 300, 300, 3)\n"
     ]
    }
   ],
   "source": [
    "print(train_images.shape)\n",
    "print(test_images.shape)"
   ]
  },
  {
   "cell_type": "markdown",
   "id": "eac64591",
   "metadata": {},
   "source": [
    "## Diferite tipuri de descriptori clasici"
   ]
  },
  {
   "cell_type": "code",
   "execution_count": 5,
   "id": "3d8afe2b",
   "metadata": {},
   "outputs": [],
   "source": [
    "def get_flatten_images(images):\n",
    "    images_flatten=[]\n",
    "    for img in images:\n",
    "        img = cv.cvtColor(img, cv.COLOR_BGR2GRAY)\n",
    "        img=img.flatten()\n",
    "        images_flatten.append(img)\n",
    "    images_flatten = np.array(images_flatten)\n",
    "    return images_flatten"
   ]
  },
  {
   "cell_type": "code",
   "execution_count": 6,
   "id": "99aec702",
   "metadata": {},
   "outputs": [],
   "source": [
    "def get_gray_histogram(images):\n",
    "    gray_histograms = []\n",
    "    for img in images:\n",
    "        img = cv.cvtColor(img, cv.COLOR_BGR2GRAY)\n",
    "        hist = cv.calcHist([img], [0], None, [256], [0, 256])\n",
    "        gray_histograms.append(hist.flatten())\n",
    "    gray_histograms = np.array(gray_histograms)\n",
    "    return gray_histograms"
   ]
  },
  {
   "cell_type": "code",
   "execution_count": 7,
   "id": "a375e9dc",
   "metadata": {},
   "outputs": [],
   "source": [
    "def get_rgb_histogram(images):\n",
    "    color_histograms = []\n",
    "    for img in images:\n",
    "        hist = cv.calcHist([img], [0, 1, 2],None, [8, 8, 8], [0, 256, 0, 256, 0, 256])\n",
    "        color_histograms.append(hist.flatten())\n",
    "    color_histograms = np.array(color_histograms)\n",
    "    return color_histograms"
   ]
  },
  {
   "cell_type": "code",
   "execution_count": 8,
   "id": "078eb079",
   "metadata": {},
   "outputs": [],
   "source": [
    "def get_hog_descriptors(images):\n",
    "    descriptors = []\n",
    "    for img in images:\n",
    "        img = cv.cvtColor(img, cv.COLOR_BGR2GRAY)\n",
    "        features = hog(img, pixels_per_cell=(6, 6),orientations=8, cells_per_block=(2, 2), block_norm='L2-Hys', feature_vector=True)\n",
    "        descriptors.append(features)\n",
    "    descriptors = np.array(descriptors)\n",
    "    return descriptors"
   ]
  },
  {
   "cell_type": "markdown",
   "id": "a06d9ed6",
   "metadata": {},
   "source": [
    "## Descriptori din retele neuronale"
   ]
  },
  {
   "cell_type": "code",
   "execution_count": 9,
   "id": "b030641d",
   "metadata": {},
   "outputs": [],
   "source": [
    "def get_neural_network_descriptors(images_np, model_name='resnet18'):\n",
    "    if model_name == 'resnet18':\n",
    "        from torchvision.models import resnet18\n",
    "        model = resnet18(pretrained=True)\n",
    "        layer = model._modules.get('avgpool')  \n",
    "        embedding_dim = 512\n",
    "    elif model_name == 'vgg16':\n",
    "        from torchvision.models import vgg16\n",
    "        model = vgg16(pretrained=True)\n",
    "       \n",
    "        layer = model.features[-1]  \n",
    "        embedding_dim = 512\n",
    "    elif model_name == 'alexnet':\n",
    "        from torchvision.models import alexnet\n",
    "        model = alexnet(pretrained=True)\n",
    "        \n",
    "        layer = model.features[-1]  \n",
    "        embedding_dim = 256\n",
    "    else:\n",
    "        raise ValueError(f\"Modelul {model_name} nu este suportat.\")\n",
    "\n",
    "    model.eval()\n",
    "\n",
    "    preprocess = transforms.Compose([\n",
    "        transforms.ToPILImage(),\n",
    "        transforms.Resize((224, 224)),\n",
    "        transforms.ToTensor(),\n",
    "        transforms.Normalize(mean=[0.485, 0.456, 0.406],\n",
    "                             std=[0.229, 0.224, 0.225])\n",
    "    ])\n",
    "\n",
    "    descriptors = []\n",
    "    for i, img_np in enumerate(images_np):\n",
    "        img_tensor = preprocess(img_np).unsqueeze(0)  \n",
    "        img_tensor = Variable(img_tensor)\n",
    "\n",
    "        \n",
    "        my_embedding = torch.zeros(embedding_dim)\n",
    "\n",
    "        def copy_data(m, i, o):\n",
    "            \n",
    "            my_embedding.copy_(o.data.mean(dim=[2, 3]).view(-1))  \n",
    "\n",
    "        h = layer.register_forward_hook(copy_data)\n",
    "        model(img_tensor)\n",
    "        h.remove()\n",
    "\n",
    "        descriptors.append(my_embedding.numpy())\n",
    "\n",
    "    descriptors = np.array(descriptors)\n",
    "    return descriptors\n"
   ]
  },
  {
   "cell_type": "markdown",
   "id": "781602d9",
   "metadata": {},
   "source": [
    "### Calcularea descriptorilor pentru imaginile de antrenare si testare"
   ]
  },
  {
   "cell_type": "code",
   "execution_count": 10,
   "id": "351d46f0",
   "metadata": {},
   "outputs": [],
   "source": [
    "train_images_flatten=get_flatten_images(train_images)\n",
    "test_images_flatten=get_flatten_images(test_images)"
   ]
  },
  {
   "cell_type": "code",
   "execution_count": 11,
   "id": "4a9cf894",
   "metadata": {},
   "outputs": [],
   "source": [
    "train_images_gray_hist=get_gray_histogram(train_images)\n",
    "test_images_gray_hist=get_gray_histogram(test_images)"
   ]
  },
  {
   "cell_type": "code",
   "execution_count": 12,
   "id": "96baef1b",
   "metadata": {},
   "outputs": [],
   "source": [
    "train_images_color_hist=get_rgb_histogram(train_images)\n",
    "test_images_color_hist=get_rgb_histogram(test_images)"
   ]
  },
  {
   "cell_type": "code",
   "execution_count": 13,
   "id": "e4e92897",
   "metadata": {},
   "outputs": [],
   "source": [
    "train_images_hog=get_hog_descriptors(train_images)\n",
    "test_images_hog=get_hog_descriptors(test_images)"
   ]
  },
  {
   "cell_type": "code",
   "execution_count": 14,
   "id": "1f3bf14c",
   "metadata": {},
   "outputs": [
    {
     "name": "stderr",
     "output_type": "stream",
     "text": [
      "/Users/alexandradiaconu/opt/anaconda3/envs/CV/lib/python3.9/site-packages/torchvision/models/_utils.py:208: UserWarning: The parameter 'pretrained' is deprecated since 0.13 and may be removed in the future, please use 'weights' instead.\n",
      "  warnings.warn(\n",
      "/Users/alexandradiaconu/opt/anaconda3/envs/CV/lib/python3.9/site-packages/torchvision/models/_utils.py:223: UserWarning: Arguments other than a weight enum or `None` for 'weights' are deprecated since 0.13 and may be removed in the future. The current behavior is equivalent to passing `weights=ResNet18_Weights.IMAGENET1K_V1`. You can also use `weights=ResNet18_Weights.DEFAULT` to get the most up-to-date weights.\n",
      "  warnings.warn(msg)\n",
      "/Users/alexandradiaconu/opt/anaconda3/envs/CV/lib/python3.9/site-packages/torchvision/models/_utils.py:223: UserWarning: Arguments other than a weight enum or `None` for 'weights' are deprecated since 0.13 and may be removed in the future. The current behavior is equivalent to passing `weights=VGG16_Weights.IMAGENET1K_V1`. You can also use `weights=VGG16_Weights.DEFAULT` to get the most up-to-date weights.\n",
      "  warnings.warn(msg)\n",
      "/Users/alexandradiaconu/opt/anaconda3/envs/CV/lib/python3.9/site-packages/torchvision/models/_utils.py:223: UserWarning: Arguments other than a weight enum or `None` for 'weights' are deprecated since 0.13 and may be removed in the future. The current behavior is equivalent to passing `weights=AlexNet_Weights.IMAGENET1K_V1`. You can also use `weights=AlexNet_Weights.DEFAULT` to get the most up-to-date weights.\n",
      "  warnings.warn(msg)\n"
     ]
    }
   ],
   "source": [
    "train_descriptors_resnet = get_neural_network_descriptors(train_images, model_name='resnet18')\n",
    "train_descriptors_vgg = get_neural_network_descriptors(train_images, model_name='vgg16')\n",
    "train_descriptors_alexnet = get_neural_network_descriptors(train_images, model_name='alexnet')\n",
    "\n",
    "\n",
    "test_descriptors_resnet = get_neural_network_descriptors(test_images, model_name='resnet18')\n",
    "test_descriptors_vgg = get_neural_network_descriptors(test_images, model_name='vgg16')\n",
    "test_descriptors_alexnet = get_neural_network_descriptors(test_images, model_name='alexnet')\n"
   ]
  },
  {
   "cell_type": "markdown",
   "id": "ea83e5c9",
   "metadata": {},
   "source": [
    "### Antrenarea unui SVM liniar cu diferiti descriptori"
   ]
  },
  {
   "cell_type": "code",
   "execution_count": 15,
   "id": "cb257be8",
   "metadata": {},
   "outputs": [],
   "source": [
    "def train_model(train_descriptors, train_labels, Cs=None):\n",
    "    \n",
    "    if Cs is None:\n",
    "        Cs = [10 ** -5, 10 ** -4, 10 ** -3, 10 ** -2, 10 ** -1, 10 ** 0]\n",
    "\n",
    "    best_accuracy = 0\n",
    "    best_c = 0\n",
    "    best_model = None\n",
    "\n",
    "    for c in Cs:\n",
    "        #print(f'Antrenăm un clasificator pentru C={c}')\n",
    "        model = LinearSVC(C=c)\n",
    "        model.fit(train_descriptors, train_labels)\n",
    "        acc = model.score(train_descriptors, train_labels)\n",
    "        \n",
    "        if acc > best_accuracy:\n",
    "            best_accuracy = acc\n",
    "            best_c = c\n",
    "            best_model = deepcopy(model)\n",
    "\n",
    "    #print(f'Performanța clasificatorului optim pentru C={best_c}: {best_accuracy}')\n",
    "    \n",
    "    return best_model\n"
   ]
  },
  {
   "cell_type": "code",
   "execution_count": 16,
   "id": "2dc76390",
   "metadata": {},
   "outputs": [],
   "source": [
    "model=train_model(train_descriptors_alexnet,train_labels)"
   ]
  },
  {
   "cell_type": "code",
   "execution_count": 17,
   "id": "597a3448",
   "metadata": {},
   "outputs": [
    {
     "name": "stdout",
     "output_type": "stream",
     "text": [
      "Vectori de intensitate Accuracy: 0.7667\n"
     ]
    },
    {
     "name": "stderr",
     "output_type": "stream",
     "text": [
      "/Users/alexandradiaconu/opt/anaconda3/envs/CV/lib/python3.9/site-packages/sklearn/svm/_base.py:1244: ConvergenceWarning: Liblinear failed to converge, increase the number of iterations.\n",
      "  warnings.warn(\n",
      "/Users/alexandradiaconu/opt/anaconda3/envs/CV/lib/python3.9/site-packages/sklearn/svm/_base.py:1244: ConvergenceWarning: Liblinear failed to converge, increase the number of iterations.\n",
      "  warnings.warn(\n",
      "/Users/alexandradiaconu/opt/anaconda3/envs/CV/lib/python3.9/site-packages/sklearn/svm/_base.py:1244: ConvergenceWarning: Liblinear failed to converge, increase the number of iterations.\n",
      "  warnings.warn(\n",
      "/Users/alexandradiaconu/opt/anaconda3/envs/CV/lib/python3.9/site-packages/sklearn/svm/_base.py:1244: ConvergenceWarning: Liblinear failed to converge, increase the number of iterations.\n",
      "  warnings.warn(\n",
      "/Users/alexandradiaconu/opt/anaconda3/envs/CV/lib/python3.9/site-packages/sklearn/svm/_base.py:1244: ConvergenceWarning: Liblinear failed to converge, increase the number of iterations.\n",
      "  warnings.warn(\n",
      "/Users/alexandradiaconu/opt/anaconda3/envs/CV/lib/python3.9/site-packages/sklearn/svm/_base.py:1244: ConvergenceWarning: Liblinear failed to converge, increase the number of iterations.\n",
      "  warnings.warn(\n",
      "/Users/alexandradiaconu/opt/anaconda3/envs/CV/lib/python3.9/site-packages/sklearn/svm/_base.py:1244: ConvergenceWarning: Liblinear failed to converge, increase the number of iterations.\n",
      "  warnings.warn(\n",
      "/Users/alexandradiaconu/opt/anaconda3/envs/CV/lib/python3.9/site-packages/sklearn/svm/_base.py:1244: ConvergenceWarning: Liblinear failed to converge, increase the number of iterations.\n",
      "  warnings.warn(\n",
      "/Users/alexandradiaconu/opt/anaconda3/envs/CV/lib/python3.9/site-packages/sklearn/svm/_base.py:1244: ConvergenceWarning: Liblinear failed to converge, increase the number of iterations.\n",
      "  warnings.warn(\n"
     ]
    },
    {
     "name": "stdout",
     "output_type": "stream",
     "text": [
      "Histograme grayscale Accuracy: 0.6000\n",
      "Histograme de culori Accuracy: 0.7000\n"
     ]
    },
    {
     "name": "stderr",
     "output_type": "stream",
     "text": [
      "/Users/alexandradiaconu/opt/anaconda3/envs/CV/lib/python3.9/site-packages/sklearn/svm/_base.py:1244: ConvergenceWarning: Liblinear failed to converge, increase the number of iterations.\n",
      "  warnings.warn(\n",
      "/Users/alexandradiaconu/opt/anaconda3/envs/CV/lib/python3.9/site-packages/sklearn/svm/_base.py:1244: ConvergenceWarning: Liblinear failed to converge, increase the number of iterations.\n",
      "  warnings.warn(\n",
      "/Users/alexandradiaconu/opt/anaconda3/envs/CV/lib/python3.9/site-packages/sklearn/svm/_base.py:1244: ConvergenceWarning: Liblinear failed to converge, increase the number of iterations.\n",
      "  warnings.warn(\n"
     ]
    },
    {
     "name": "stdout",
     "output_type": "stream",
     "text": [
      "HOG Accuracy: 0.8333\n",
      "VGG16 Accuracy: 0.8333\n",
      "AlexNet Accuracy: 1.0000\n",
      "ResNet18 Accuracy: 0.9000\n"
     ]
    },
    {
     "data": {
      "image/png": "[encoded data removed]",
      "text/plain": [
       "<Figure size 1000x600 with 1 Axes>"
      ]
     },
     "metadata": {},
     "output_type": "display_data"
    }
   ],
   "source": [
    "descriptor_names = [\n",
    "    'Vectori de intensitate', \n",
    "    'Histograme grayscale', \n",
    "    'Histograme de culori', \n",
    "    'HOG', \n",
    "    'VGG16', \n",
    "    'AlexNet', \n",
    "    'ResNet18'\n",
    "]\n",
    "\n",
    "accuracies = []\n",
    "\n",
    "for train_data, test_data, name in zip(\n",
    "    [train_images_flatten, train_images_gray_hist, train_images_color_hist, \n",
    "     train_images_hog, train_descriptors_vgg, train_descriptors_alexnet, train_descriptors_resnet],\n",
    "    [test_images_flatten, test_images_gray_hist, test_images_color_hist, \n",
    "     test_images_hog, test_descriptors_vgg, test_descriptors_alexnet, test_descriptors_resnet],\n",
    "    descriptor_names):\n",
    "    model = train_model(train_data, train_labels)\n",
    "    predicted_labels = model.predict(test_data)\n",
    "    accuracy = accuracy_score(test_labels, predicted_labels)\n",
    "    accuracies.append(accuracy)\n",
    "    \n",
    "    print(f'{name} Accuracy: {accuracy:.4f}')\n",
    "\n",
    "sorted_indices = np.argsort(accuracies)\n",
    "sorted_accuracies = np.array(accuracies)[sorted_indices]\n",
    "sorted_descriptor_names = np.array(descriptor_names)[sorted_indices]\n",
    "\n",
    "\n",
    "x_positions = np.arange(len(descriptor_names)) \n",
    "\n",
    "plt.figure(figsize=(10, 6))\n",
    "plt.scatter(x_positions, sorted_accuracies, color='skyblue', s=100)  \n",
    "\n",
    "\n",
    "for i, txt in enumerate(sorted_descriptor_names):\n",
    "    plt.annotate(txt, (x_positions[i], sorted_accuracies[i]), textcoords=\"offset points\", xytext=(0, 10), ha='center')\n",
    "\n",
    "\n",
    "plt.xticks(x_positions, sorted_descriptor_names, rotation=45, ha='right')\n",
    "\n",
    "plt.xlabel('Descriptor')\n",
    "plt.ylabel('Acuratete')\n",
    "plt.title('Acuratetea pentru diversi descriptori')\n",
    "plt.tight_layout()\n",
    "\n",
    "\n",
    "plt.show()\n"
   ]
  },
  {
   "cell_type": "code",
   "execution_count": null,
   "id": "4c20c2ac",
   "metadata": {},
   "outputs": [],
   "source": []
  },
  {
   "cell_type": "code",
   "execution_count": null,
   "id": "0a4a0c2c",
   "metadata": {},
   "outputs": [],
   "source": []
  }
 ],
 "metadata": {
  "kernelspec": {
   "display_name": "Python 3 (ipykernel)",
   "language": "python",
   "name": "python3"
  },
  "language_info": {
   "codemirror_mode": {
    "name": "ipython",
    "version": 3
   },
   "file_extension": ".py",
   "mimetype": "text/x-python",
   "name": "python",
   "nbconvert_exporter": "python",
   "pygments_lexer": "ipython3",
   "version": "3.9.16"
  }
 },
 "nbformat": 4,
 "nbformat_minor": 5
}
