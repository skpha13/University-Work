{
 "cells": [
  {
   "cell_type": "markdown",
   "metadata": {},
   "source": [
    "# Practical Machine Learning                                                                             \n",
    "# Lab 1"
   ]
  },
  {
   "cell_type": "markdown",
   "metadata": {},
   "source": [
    "## Exercises"
   ]
  },
  {
   "cell_type": "markdown",
   "metadata": {},
   "source": [
    "### Imports and Constants"
   ]
  },
  {
   "cell_type": "code",
   "execution_count": null,
   "metadata": {},
   "outputs": [],
   "source": [
    "import numpy as np\n",
    "import glob\n",
    "\n",
    "import matplotlib.pyplot as plt\n",
    "\n",
    "IMAGES_PATH = \"./images\"\n",
    "WEIGHTS_PATH = \"./coefs.npy\"\n",
    "BIAS_PATH = \"./bias.npy\"\n",
    "INITIAL_SHAPE = None"
   ]
  },
  {
   "cell_type": "markdown",
   "metadata": {},
   "source": [
    "### 1.[Here](https://github.com//practical-ML-fmi/ML/raw/master/Data/lab1/images.zip), we have 8 images, read the images, flatten them, then store them in a numpy array. Before storing the images divide them by 255.\n",
    "The numpy array should have the dimension equals to (8, 12288), in order to check the dimension use the $shape$ attribute."
   ]
  },
  {
   "cell_type": "code",
   "execution_count": 34,
   "metadata": {
    "collapsed": true
   },
   "outputs": [
    {
     "name": "stdout",
     "output_type": "stream",
     "text": [
      "(8, 12288)\n"
     ]
    }
   ],
   "source": [
    "def load_images(path: str) -> np.ndarray:\n",
    "    global INITIAL_SHAPE\n",
    "    \n",
    "    filelist = glob.glob(f\"{path}/*.png\")\n",
    "    INITIAL_SHAPE = plt.imread(filelist[0]).shape\n",
    "\n",
    "    return np.array([plt.imread(file).flatten() / 255.0 for file in filelist])\n",
    "\n",
    "images = load_images(IMAGES_PATH)\n",
    "print(images.shape)"
   ]
  },
  {
   "cell_type": "markdown",
   "metadata": {},
   "source": [
    "### 2. Compute the mean of the images. "
   ]
  },
  {
   "cell_type": "code",
   "execution_count": 31,
   "metadata": {
    "collapsed": true
   },
   "outputs": [
    {
     "name": "stdout",
     "output_type": "stream",
     "text": [
      "0.001730818\n"
     ]
    }
   ],
   "source": [
    "images_mean = np.mean(images)\n",
    "print(images_mean)"
   ]
  },
  {
   "cell_type": "markdown",
   "metadata": {},
   "source": [
    "### 3. Normalize the images by subtracting the mean from each image."
   ]
  },
  {
   "cell_type": "code",
   "execution_count": 10,
   "metadata": {
    "collapsed": true
   },
   "outputs": [],
   "source": [
    "images_norm = images - images_mean"
   ]
  },
  {
   "cell_type": "markdown",
   "metadata": {},
   "source": [
    "### 4. [Here](https://github.com//practical-ML-fmi/ML/raw/master/Data/lab1/weights.zip), we have the weights and the bias for a perceptron that classifies the images in 4 classes. Use the weights (use np.load(‘path’) to load the weights) and the images (after normalization) to compute (y_hat) the predictions of the perceptron.  \n",
    "  $$ y_{hat} = softmax(X * W + b) $$\n",
    "  $$ X - input, W - weights, b - bias $$\n",
    "  $$Softmax(z_i)=\\frac{e^{z_i}}{\\sum_{j=1}^{j=K} e^{z_j} }$$"
   ]
  },
  {
   "cell_type": "code",
   "execution_count": 22,
   "metadata": {
    "collapsed": true
   },
   "outputs": [
    {
     "name": "stdout",
     "output_type": "stream",
     "text": [
      "[[0.52968754 0.25664264 0.16070801 0.05296181]\n",
      " [0.55040363 0.2638352  0.1443186  0.04144257]\n",
      " [0.34538472 0.46804831 0.14798534 0.03858163]\n",
      " [0.35279599 0.4633906  0.14889703 0.03491637]\n",
      " [0.39514808 0.33374585 0.22002565 0.05108042]\n",
      " [0.44640741 0.25429352 0.2577715  0.04152757]\n",
      " [0.40603708 0.3266541  0.16488108 0.10242774]\n",
      " [0.38287915 0.32199996 0.24432784 0.05079305]]\n",
      "[0 0 1 1 0 0 0 0]\n"
     ]
    }
   ],
   "source": [
    "W = np.load(WEIGHTS_PATH)\n",
    "b = np.load(BIAS_PATH)\n",
    "\n",
    "def softmax(x: np.ndarray) -> np.ndarray:\n",
    "    exp = np.exp(x)\n",
    "    return exp / np.sum(exp, axis=-1, keepdims=True)\n",
    "\n",
    "y_hat = softmax(images @ W + b)\n",
    "predicted_labels = np.argmax(y_hat, axis=1)\n",
    "print(y_hat)\n",
    "print(predicted_labels)"
   ]
  },
  {
   "cell_type": "markdown",
   "metadata": {},
   "source": [
    "### 5. Let the ground-truth labels be y = [0, 0, 1, 1, 2,  2, 3,  3]. Compute the accuracy of the classifier (define a new function accuracy_score). \n",
    "$$Accuracy = \\frac{1}{n} \\sum_{i=1}^{j=n} y_{pred}^i == y_{true}^i$$"
   ]
  },
  {
   "cell_type": "code",
   "execution_count": 24,
   "metadata": {
    "collapsed": true
   },
   "outputs": [
    {
     "name": "stdout",
     "output_type": "stream",
     "text": [
      "0.5\n"
     ]
    }
   ],
   "source": [
    "ground_truths = np.array([0, 0, 1, 1, 2, 2, 3, 3])\n",
    "\n",
    "def accuracy_score(ground_truths: np.ndarray, predictions: np.ndarray) -> float:\n",
    "    return np.sum(ground_truths == predictions) / ground_truths.shape[0]\n",
    "\n",
    "score = accuracy_score(ground_truths, predicted_labels)\n",
    "print(score)"
   ]
  },
  {
   "cell_type": "markdown",
   "metadata": {},
   "source": [
    "### 6. The labels of the classes are: (Cat - 0,  Dog - 1, Frog - 2,  Horse - 3), print the label for each prediction (use a dictionary). \n"
   ]
  },
  {
   "cell_type": "code",
   "execution_count": 28,
   "metadata": {
    "collapsed": true
   },
   "outputs": [
    {
     "name": "stdout",
     "output_type": "stream",
     "text": [
      "Prediction 01: Cat\n",
      "Prediction 02: Cat\n",
      "Prediction 03: Dog\n",
      "Prediction 04: Dog\n",
      "Prediction 05: Cat\n",
      "Prediction 06: Cat\n",
      "Prediction 07: Cat\n",
      "Prediction 08: Cat\n"
     ]
    }
   ],
   "source": [
    "class_label_map = {\n",
    "    0: \"Cat\",\n",
    "    1: \"Dog\",\n",
    "    2: \"Frog\",\n",
    "    3: \"Horse\",\n",
    "}\n",
    "\n",
    "for index, prediction in enumerate(predicted_labels):\n",
    "    print(f\"Prediction {index+1:02}: {class_label_map[prediction]}\")"
   ]
  },
  {
   "cell_type": "markdown",
   "metadata": {},
   "source": [
    "### 7. Display the mean image (use imshow from Matplotlib).\n",
    "#### Don’t forget to multiply the image by 255, then convert the image to uint8."
   ]
  },
  {
   "cell_type": "code",
   "execution_count": 50,
   "metadata": {
    "collapsed": true
   },
   "outputs": [
    {
     "data": {
      "image/png": "[encoded data removed]",
      "text/plain": [
       "<Figure size 640x480 with 1 Axes>"
      ]
     },
     "metadata": {},
     "output_type": "display_data"
    }
   ],
   "source": [
    "mean_image = np.mean(images_norm, axis=0)\n",
    "\n",
    "# scale to [0,1] range\n",
    "mean_image_shifted = mean_image - mean_image.min()  \n",
    "mean_image_scaled = mean_image_shifted / mean_image_shifted.max()\n",
    "\n",
    "# now to [0, 255]\n",
    "mean_image = mean_image_scaled * 255.0\n",
    "# type and shape\n",
    "mean_image = mean_image.astype(np.uint8).reshape(INITIAL_SHAPE)\n",
    "\n",
    "plt.imshow(mean_image)\n",
    "plt.axis(\"off\")\n",
    "plt.show()"
   ]
  }
 ],
 "metadata": {
  "kernelspec": {
   "display_name": "Python 3",
   "language": "python",
   "name": "python3"
  },
  "language_info": {
   "codemirror_mode": {
    "name": "ipython",
    "version": 3
   },
   "file_extension": ".py",
   "mimetype": "text/x-python",
   "name": "python",
   "nbconvert_exporter": "python",
   "pygments_lexer": "ipython3",
   "version": "3.12.4"
  }
 },
 "nbformat": 4,
 "nbformat_minor": 2
}
